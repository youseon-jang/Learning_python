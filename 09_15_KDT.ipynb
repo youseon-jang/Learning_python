{
 "cells": [
  {
   "cell_type": "markdown",
   "id": "f2dcc443-c40f-4fb6-91bd-59cf95ca8d02",
   "metadata": {},
   "source": [
    "# 복습문제"
   ]
  },
  {
   "cell_type": "code",
   "execution_count": 39,
   "id": "a9f446e5-5a19-49d2-8b44-02f33f9898a0",
   "metadata": {},
   "outputs": [
    {
     "data": {
      "text/plain": [
       "[2, 5, 4, 1, 3]"
      ]
     },
     "execution_count": 39,
     "metadata": {},
     "output_type": "execute_result"
    }
   ],
   "source": [
    "### a = [1, 2, 3, 4, 5] 랜덤하게 나열 \n",
    "\n",
    "import random\n",
    "a = [1, 2, 3, 4, 5]\n",
    "random.shuffle(a)\n",
    "a"
   ]
  },
  {
   "cell_type": "code",
   "execution_count": 11,
   "id": "e2ad98fd-54fe-4e46-addf-0ce6369bd9ce",
   "metadata": {},
   "outputs": [
    {
     "data": {
      "text/plain": [
       "[25, 30, 35, 40]"
      ]
     },
     "execution_count": 11,
     "metadata": {},
     "output_type": "execute_result"
    }
   ],
   "source": [
    "a = [5, 6, 7, 8]\n",
    "list(map(lambda x : x *5, a))"
   ]
  },
  {
   "cell_type": "code",
   "execution_count": 40,
   "id": "2a0dd7c6-282d-49ee-8705-d3d8c7e99f27",
   "metadata": {},
   "outputs": [
    {
     "name": "stdout",
     "output_type": "stream",
     "text": [
      "1\n",
      "2\n",
      "3\n",
      "4\n",
      "5\n",
      "6\n",
      "7\n",
      "8\n",
      "9\n"
     ]
    }
   ],
   "source": [
    "### while 문으로 1-9 나열\n",
    "\n",
    "i = 1\n",
    "while i < 10:\n",
    "    print(i)\n",
    "    i += 1"
   ]
  },
  {
   "cell_type": "code",
   "execution_count": 16,
   "id": "adcc4757-cfd5-4598-96a5-7b3d7345d760",
   "metadata": {},
   "outputs": [
    {
     "data": {
      "text/plain": [
       "[5, 10, 15, 20]"
      ]
     },
     "execution_count": 16,
     "metadata": {},
     "output_type": "execute_result"
    }
   ],
   "source": [
    "a = [1, 2, 3, 4]\n",
    "li = []\n",
    "\n",
    "for i in a:\n",
    "    b = i * 5\n",
    "    li.append(b)\n",
    "\n",
    "li"
   ]
  },
  {
   "cell_type": "code",
   "execution_count": 48,
   "id": "9a93fdce-87e9-4587-bfc9-eb56b9fa6ad4",
   "metadata": {},
   "outputs": [
    {
     "data": {
      "text/plain": [
       "'I like apple and apple'"
      ]
     },
     "execution_count": 48,
     "metadata": {},
     "output_type": "execute_result"
    }
   ],
   "source": [
    "a = \"I like apble And Abple\"\n",
    "\n",
    "import re\n",
    "a = re.sub(\"apble|Abple\", \"apple\", a)\n",
    "re.sub(\"And\", \"and\", a)"
   ]
  },
  {
   "cell_type": "code",
   "execution_count": null,
   "id": "d6231425-2686-4178-9392-1259d75f25f3",
   "metadata": {},
   "outputs": [],
   "source": [
    "re.sub('abple|apple', 'apple', \"I like apble And abple\") "
   ]
  },
  {
   "cell_type": "markdown",
   "id": "9b51b5cc-d482-44c4-96d0-64bfeae1b991",
   "metadata": {},
   "source": [
    "정규식에 쓰이는 반복 표현을 나열하세요\n",
    "```\n",
    "*, ?, +, {m}, {m,n} \n",
    "```"
   ]
  },
  {
   "cell_type": "code",
   "execution_count": 36,
   "id": "08a18f73-fc00-4c70-b9b9-8d424f668e90",
   "metadata": {},
   "outputs": [
    {
     "name": "stdout",
     "output_type": "stream",
     "text": [
      "010-1**-****\n",
      "010-1**-****\n",
      "010-2**-****\n",
      "010-3**-****\n",
      "010-4**-****\n",
      "010-5**-****\n",
      "010-6**-****\n",
      "010-7**-****\n",
      "010-8**-****\n",
      "010-9**-****\n"
     ]
    }
   ],
   "source": [
    "### phone_number= ['010-123-1234', '010-111-1111', '010-222-2222', '010-333-3333', '010-444-4444', '010-555-5555', '010-666-6666', '010-777-7777', '010-888-8888', '010-999-9999'] 를 010-1**-**** 형태로 나타내기\n",
    "phone_number= ['010-123-1234', '010-111-1111', '010-222-2222', '010-333-3333', '010-444-4444', '010-555-5555', '010-666-6666', '010-777-7777', '010-888-8888', '010-999-9999'] \n",
    "\n",
    "for i in phone_number:\n",
    "    print(re.sub(\"\\d{2}[-]\\d{4}\", \"**-****\", i))"
   ]
  },
  {
   "cell_type": "code",
   "execution_count": 53,
   "id": "80551dce-16db-47d8-b143-62dd673b22a6",
   "metadata": {},
   "outputs": [
    {
     "name": "stdout",
     "output_type": "stream",
     "text": [
      "손흥민\n",
      "황의조\n",
      "A\n",
      "황희찬\n",
      "A\n"
     ]
    }
   ],
   "source": [
    "#외자인 이름 'A'로 바꾸기\n",
    "\n",
    "li = ['손흥민', '황의조', '이 호', '황희찬', '홍 철'] \n",
    "\n",
    "for name in li:\n",
    "    print(re.sub(\".[ ].\", \"A\", name))\n",
    "    \n",
    "### \". .\", \"\\w[]\\w\", \"\\w\\s\\w\""
   ]
  },
  {
   "cell_type": "code",
   "execution_count": 79,
   "id": "db241963-2bba-4258-9ca8-45859da41f34",
   "metadata": {},
   "outputs": [],
   "source": [
    "## 20개의 문자열을 가진 리스트를 만드세요\n",
    "## 조건 1 : 각 문자열의 길이는 최대 10, 최소 1\n",
    "## 조건 2 : 각각 33.3333퍼센트의 확률로 문자열(string) 안의 문자(char)는 대문자(ascii code 65 ~90)이거나 소문자(ascii code 97 ~ 122)이거나 숫자\n",
    "## chr(65) ==> A"
   ]
  },
  {
   "cell_type": "code",
   "execution_count": 73,
   "id": "9dcdc404-9d4c-4a53-b004-0dfb6857d6fd",
   "metadata": {},
   "outputs": [
    {
     "name": "stdout",
     "output_type": "stream",
     "text": [
      "['Cl589f', 'Ph71f', 'hT', 'PneT', '5', '5', '3M', 'Ivl1j', 'a3586', 'Te7E', 'Skbkmw', 'sc4', '0cwC2', '1Uzv0', 'o', 'BYPj', 'xRC', 'kT', '92vnz', '6TgCH']\n"
     ]
    }
   ],
   "source": [
    "words = []\n",
    "for count in range(20):\n",
    "    word = ''\n",
    "    while len(word) < random.randint(1,10):\n",
    "        a = random.randint(1,3)    \n",
    "        if a == 1:\n",
    "            English = chr(random.randint(65,90))\n",
    "            word += English\n",
    "        elif a == 2:\n",
    "            english = chr(random.randint(97,122))\n",
    "            word += english\n",
    "        else:\n",
    "            number = str(random.randint(0,9))\n",
    "            word += number\n",
    "    words.append(word)\n",
    "    \n",
    "print(words) "
   ]
  },
  {
   "cell_type": "code",
   "execution_count": 75,
   "id": "c53dc3b4-200b-42dc-8868-05c91c8a7053",
   "metadata": {},
   "outputs": [
    {
     "data": {
      "text/plain": [
       "['O08',\n",
       " '9',\n",
       " 'mm44KOl6',\n",
       " '1Q1xWn',\n",
       " 'z950',\n",
       " 'IL1B4a',\n",
       " 'UhE50kz',\n",
       " 'KVtTe',\n",
       " 'XDFRdA90',\n",
       " 'LmI5tM72Dz',\n",
       " '6ju3446',\n",
       " 't3',\n",
       " '0O',\n",
       " '3',\n",
       " 'JJn',\n",
       " 'I1',\n",
       " 'z8StMs',\n",
       " '5M',\n",
       " 'PZb5',\n",
       " 'R70171Fu5']"
      ]
     },
     "execution_count": 75,
     "metadata": {},
     "output_type": "execute_result"
    }
   ],
   "source": [
    "import random\n",
    "words = []\n",
    "for count in range(20):\n",
    "    word = ''\n",
    "    length = random.randint(1,10)\n",
    "    while True:\n",
    "        prob = random.randint(1,3)\n",
    "        if prob == 1: \n",
    "            word = word + chr(random.randint(65,90))\n",
    "        elif prob == 2: \n",
    "            word = word + chr(random.randint(97,122))\n",
    "        else: \n",
    "            word = word + str(random.randint(0,9))\n",
    "        if len(word) == length: break\n",
    "    words.append(word)\n",
    "words "
   ]
  },
  {
   "cell_type": "code",
   "execution_count": 78,
   "id": "2008b0ad-f94c-4482-8f85-985487034932",
   "metadata": {},
   "outputs": [
    {
     "data": {
      "text/plain": [
       "['5s',\n",
       " '9r0M',\n",
       " 'o',\n",
       " 'xk',\n",
       " 'rY8z',\n",
       " '8JJZ',\n",
       " 'Ldc',\n",
       " 'tq7qI',\n",
       " '83',\n",
       " 'oHVP',\n",
       " 'u',\n",
       " 'NaPe',\n",
       " '9n3X',\n",
       " 'd4T6U',\n",
       " 'BPYiS',\n",
       " '5bf',\n",
       " 'ng',\n",
       " 'S4',\n",
       " 'N',\n",
       " 'fSueK6l']"
      ]
     },
     "execution_count": 78,
     "metadata": {},
     "output_type": "execute_result"
    }
   ],
   "source": [
    "words = []\n",
    "for count in range(20) :\n",
    "    word = \"\"\n",
    "    while len(word) < random.randint(1, 10) :\n",
    "        word += (random.choice(str(random.randint(0,9)) + chr(random.randint(65, 90)) + chr(random.randint(97, 122))))\n",
    "    words.append(word)\n",
    "words "
   ]
  },
  {
   "cell_type": "code",
   "execution_count": 85,
   "id": "264be4f1-0283-4fb5-8c20-41abfe7a543a",
   "metadata": {},
   "outputs": [
    {
     "name": "stdout",
     "output_type": "stream",
     "text": [
      "t6\n",
      "fCt\n",
      "Pc\n",
      "8V7C\n",
      "j4t\n",
      "38F\n",
      "#\n",
      "I3uG8610\n",
      "uA4\n",
      "2LmqA\n",
      "7T6s\n",
      "02T\n",
      "unbH1\n",
      "i6Xy3\n",
      "9076h0\n",
      "04L\n",
      "D\n",
      "3LprtD2\n",
      "Ar0ky\n",
      "#\n"
     ]
    }
   ],
   "source": [
    "### 리스트 안의 문자열 중에 시작은 소문자, 끝은 대문자인 문자를 #으로 대체\n",
    "\n",
    "words = []\n",
    "for count in range(20) :\n",
    "    word = \"\"\n",
    "    while len(word) < random.randint(1, 10) :\n",
    "        word += (random.choice(str(random.randint(0,9)) + chr(random.randint(65, 90)) + chr(random.randint(97, 122))))\n",
    "    words.append(word)\n",
    "\n",
    "for i in words:\n",
    "    print(re.sub(\"^[a-z]\\w*[A-Z]$\", \"#\", i))"
   ]
  },
  {
   "cell_type": "code",
   "execution_count": 88,
   "id": "5504a413-d347-4432-878b-f3ba6c13bbcb",
   "metadata": {},
   "outputs": [
    {
     "name": "stdout",
     "output_type": "stream",
     "text": [
      "#\n",
      "l9\n",
      "52I\n",
      "6v1\n",
      "#\n",
      "#\n",
      "8ltp4\n",
      "o37\n",
      "#\n",
      "4t\n",
      "#\n",
      "8KnD\n",
      "7a9NHEV\n",
      "#\n",
      "m\n",
      "4hq1\n",
      "C9G6Q68\n",
      "#\n",
      "#\n",
      "#\n"
     ]
    }
   ],
   "source": [
    "### 리스트 안의 문자열 중에 시작과 끝이 문자인 문자를 #으로 대체\n",
    "words = []\n",
    "for count in range(20) :\n",
    "    word = \"\"\n",
    "    while len(word) < random.randint(1, 10) :\n",
    "        word += (random.choice(str(random.randint(0,9)) + chr(random.randint(65, 90)) + chr(random.randint(97, 122))))\n",
    "    words.append(word)\n",
    "\n",
    "for i in words:\n",
    "    print(re.sub(\"^[a-zA-Z].*[a-zA-Z]$\", \"#\", i))\n",
    "    \n",
    "###'^[A-z].*[A-z]$'"
   ]
  },
  {
   "cell_type": "markdown",
   "id": "ad71988f-a04e-4d03-95e5-c46d7f61448f",
   "metadata": {},
   "source": [
    "# 수업"
   ]
  },
  {
   "cell_type": "markdown",
   "id": "5571d2e2-6ac6-4522-8a14-a513d6ad89fa",
   "metadata": {},
   "source": [
    "## 정규식 Compile"
   ]
  },
  {
   "cell_type": "markdown",
   "id": "5348f0e2-6d37-478f-8ddf-9a25282643cf",
   "metadata": {},
   "source": [
    "- 아래 두 코드는 같은 결과 도출"
   ]
  },
  {
   "cell_type": "code",
   "execution_count": 95,
   "id": "adf41f0f-bbf3-4d0f-aff4-4ec0f8e97d1a",
   "metadata": {},
   "outputs": [
    {
     "name": "stdout",
     "output_type": "stream",
     "text": [
      "#\n",
      "l9\n",
      "52I\n",
      "6v1\n",
      "#\n",
      "#\n",
      "8ltp4\n",
      "o37\n",
      "#\n",
      "4t\n",
      "#\n",
      "8KnD\n",
      "7a9NHEV\n",
      "#\n",
      "m\n",
      "4hq1\n",
      "C9G6Q68\n",
      "#\n",
      "#\n",
      "#\n"
     ]
    }
   ],
   "source": [
    "for i in words:\n",
    "    print(re.sub(\"^[a-zA-Z].*[a-zA-Z]$\", \"#\", i))\n",
    "## \"^[a-zA-Z].*[a-zA-Z]$\" 을 패턴이라고 부름"
   ]
  },
  {
   "cell_type": "code",
   "execution_count": 98,
   "id": "92a605e0-014b-4999-a3ef-05099227cf26",
   "metadata": {},
   "outputs": [
    {
     "name": "stdout",
     "output_type": "stream",
     "text": [
      "#\n",
      "l9\n",
      "52I\n",
      "6v1\n",
      "#\n",
      "#\n",
      "8ltp4\n",
      "o37\n",
      "#\n",
      "4t\n",
      "#\n",
      "8KnD\n",
      "7a9NHEV\n",
      "#\n",
      "m\n",
      "4hq1\n",
      "C9G6Q68\n",
      "#\n",
      "#\n",
      "#\n"
     ]
    }
   ],
   "source": [
    "p = re.compile(\"^[a-zA-Z].*[a-zA-Z]$\")\n",
    "type(p)\n",
    "\n",
    "for i in words:\n",
    "   print(p.sub(\"#\", i))"
   ]
  },
  {
   "cell_type": "markdown",
   "id": "1d56ead4-c992-4818-848d-38f39ef826a0",
   "metadata": {},
   "source": [
    "## re의 메서드"
   ]
  },
  {
   "cell_type": "markdown",
   "id": "a4cbe961-a27d-4032-8ebb-aef4f7e28a49",
   "metadata": {},
   "source": [
    "### match()"
   ]
  },
  {
   "cell_type": "code",
   "execution_count": 99,
   "id": "46931f66-9a6a-49e5-ba77-b875617364e8",
   "metadata": {},
   "outputs": [
    {
     "data": {
      "text/plain": [
       "<re.Match object; span=(0, 6), match='python'>"
      ]
     },
     "execution_count": 99,
     "metadata": {},
     "output_type": "execute_result"
    }
   ],
   "source": [
    "p = re.compile(\"[a-z]+\")\n",
    "p.match('python')"
   ]
  },
  {
   "cell_type": "code",
   "execution_count": 100,
   "id": "69bdb317-bb62-4bdb-8c4f-965714ae48a9",
   "metadata": {},
   "outputs": [
    {
     "data": {
      "text/plain": [
       "<re.Match object; span=(0, 6), match='python'>"
      ]
     },
     "execution_count": 100,
     "metadata": {},
     "output_type": "execute_result"
    }
   ],
   "source": [
    "re.match(\"[a-z]+\", 'python')"
   ]
  },
  {
   "cell_type": "markdown",
   "id": "828ae809-7421-4db5-aa09-7cad0d223f72",
   "metadata": {},
   "source": [
    "- span : 길이 (0, 6)은 인덱스 길이로 0, 1, 2, 3, 4, 5"
   ]
  },
  {
   "cell_type": "code",
   "execution_count": 101,
   "id": "a096ead9-87bd-4f94-abdc-02bb802169bd",
   "metadata": {},
   "outputs": [
    {
     "data": {
      "text/plain": [
       "<re.Match object; span=(0, 6), match='python'>"
      ]
     },
     "execution_count": 101,
     "metadata": {},
     "output_type": "execute_result"
    }
   ],
   "source": [
    "p = re.compile(\"[a-z]+\")\n",
    "p.match('pythonPYTHON')"
   ]
  },
  {
   "cell_type": "markdown",
   "id": "b6b21d98-be76-44d3-8bd6-1253f289faba",
   "metadata": {},
   "source": [
    "- span : 길이 (0, 6)은 인덱스 길이로 0, 1, 2, 3, 4, 5\n",
    "- 뒤 대문자는 해당 안되므로 위와 같음"
   ]
  },
  {
   "cell_type": "code",
   "execution_count": 103,
   "id": "b2c6bf08-fea5-4483-8740-8c93d6bc394e",
   "metadata": {},
   "outputs": [],
   "source": [
    "p = re.compile(\"[a-z]+\")\n",
    "p.match('PYTHONpython1234')"
   ]
  },
  {
   "cell_type": "markdown",
   "id": "e2455144-d3ad-405c-9d0e-47b7f1ec60ca",
   "metadata": {},
   "source": [
    "- match는 문자열의 처음부터 정규식과 매치되는지 조사하므로 위는 매치 못함\n",
    "- 문자열이 대문자로 시작하기 때문"
   ]
  },
  {
   "cell_type": "markdown",
   "id": "dcb4dad4-1d4b-456c-9fe3-7c684a90d34b",
   "metadata": {},
   "source": [
    "### search()"
   ]
  },
  {
   "cell_type": "code",
   "execution_count": 105,
   "id": "b4cde2ff-fb4b-42a4-be86-f84a235cd303",
   "metadata": {},
   "outputs": [
    {
     "data": {
      "text/plain": [
       "<re.Match object; span=(6, 12), match='python'>"
      ]
     },
     "execution_count": 105,
     "metadata": {},
     "output_type": "execute_result"
    }
   ],
   "source": [
    "p = re.compile(\"[a-z]+\")\n",
    "p.search('PYTHONpython1234')"
   ]
  },
  {
   "cell_type": "code",
   "execution_count": 104,
   "id": "2e7d5052-7328-4078-8335-7580cff85228",
   "metadata": {},
   "outputs": [
    {
     "data": {
      "text/plain": [
       "<re.Match object; span=(6, 12), match='python'>"
      ]
     },
     "execution_count": 104,
     "metadata": {},
     "output_type": "execute_result"
    }
   ],
   "source": [
    "p = re.compile(\"[a-z]+\")\n",
    "p.search('PYTHONpython1234 pythonPYTHON1234')"
   ]
  },
  {
   "cell_type": "markdown",
   "id": "b36a0529-9453-4b3e-af14-e460e0451958",
   "metadata": {},
   "source": [
    "- 중간부터 검색 가능\n",
    "- space 뒤에 있는 문자는 검색 X"
   ]
  },
  {
   "cell_type": "markdown",
   "id": "8afed8a0-3817-43fe-8061-25b2ecc19707",
   "metadata": {},
   "source": [
    "### findall()"
   ]
  },
  {
   "cell_type": "code",
   "execution_count": 106,
   "id": "551602c0-4f2b-4568-a856-58db9cc014b4",
   "metadata": {},
   "outputs": [
    {
     "data": {
      "text/plain": [
       "['python', 'python']"
      ]
     },
     "execution_count": 106,
     "metadata": {},
     "output_type": "execute_result"
    }
   ],
   "source": [
    "p = re.compile(\"[a-z]+\")\n",
    "p.findall('PYTHONpython1234 pythonPYTHON1234')"
   ]
  },
  {
   "cell_type": "markdown",
   "id": "7ee2ba7e-b114-449c-b866-35bdb7fb1130",
   "metadata": {},
   "source": [
    "- 인덱스 번호가 아닌 문자 그대로 출력됨\n",
    "- 리스트 형태로 출력됨"
   ]
  },
  {
   "cell_type": "markdown",
   "id": "90edcc70-5264-4c43-be4d-72b8c19e4bf1",
   "metadata": {},
   "source": [
    "### finditer()"
   ]
  },
  {
   "cell_type": "code",
   "execution_count": 108,
   "id": "703c0de0-a5aa-4b2d-9f13-d2390c2aea9a",
   "metadata": {},
   "outputs": [
    {
     "data": {
      "text/plain": [
       "<callable_iterator at 0x262a21c3e80>"
      ]
     },
     "execution_count": 108,
     "metadata": {},
     "output_type": "execute_result"
    }
   ],
   "source": [
    "p = re.compile(\"[a-z]+\")\n",
    "p.finditer('PYTHONpython1234 pythonPYTHON1234')"
   ]
  },
  {
   "cell_type": "code",
   "execution_count": 109,
   "id": "d2b11004-a38b-4101-a366-c52db38d0e07",
   "metadata": {},
   "outputs": [
    {
     "name": "stdout",
     "output_type": "stream",
     "text": [
      "<re.Match object; span=(6, 12), match='python'>\n",
      "<re.Match object; span=(17, 23), match='python'>\n"
     ]
    }
   ],
   "source": [
    "for i in p.finditer('PYTHONpython1234 pythonPYTHON1234'):\n",
    "    print(i)"
   ]
  },
  {
   "cell_type": "markdown",
   "id": "9a4f03fa-0811-48ff-8834-92a918aad04b",
   "metadata": {},
   "source": [
    "## match 객체의 메서드"
   ]
  },
  {
   "cell_type": "markdown",
   "id": "766afbb9-dcaf-4d67-9cdb-d4f2d63dc628",
   "metadata": {},
   "source": [
    "### group() - 가장 자주 쓰임"
   ]
  },
  {
   "cell_type": "code",
   "execution_count": 113,
   "id": "b2a06078-6fcb-47e6-89a6-03405b76d56a",
   "metadata": {},
   "outputs": [
    {
     "data": {
      "text/plain": [
       "'python'"
      ]
     },
     "execution_count": 113,
     "metadata": {},
     "output_type": "execute_result"
    }
   ],
   "source": [
    "p = re.compile(\"[a-z]+\")\n",
    "p.match('pythonPYTHON1234 PYTHONpython1234').group()"
   ]
  },
  {
   "cell_type": "code",
   "execution_count": 118,
   "id": "c31d0721-2665-4056-b1d7-1898558d60aa",
   "metadata": {},
   "outputs": [
    {
     "data": {
      "text/plain": [
       "'python'"
      ]
     },
     "execution_count": 118,
     "metadata": {},
     "output_type": "execute_result"
    }
   ],
   "source": [
    "p = re.compile(\"[a-z]+\")\n",
    "p.search('pythonPYTHON1234 PYTHONpython1234').group()"
   ]
  },
  {
   "cell_type": "markdown",
   "id": "d3152550-5e4f-4910-8588-4e0017b78b00",
   "metadata": {},
   "source": [
    "- group 시 해당 문자를 슬라이싱해서 보여줌"
   ]
  },
  {
   "cell_type": "markdown",
   "id": "ea0b48ea-5ac2-441d-a98b-54de97f50204",
   "metadata": {},
   "source": [
    "### start()"
   ]
  },
  {
   "cell_type": "code",
   "execution_count": 115,
   "id": "de575aeb-8726-435b-90e3-93fb41b0267a",
   "metadata": {},
   "outputs": [
    {
     "data": {
      "text/plain": [
       "0"
      ]
     },
     "execution_count": 115,
     "metadata": {},
     "output_type": "execute_result"
    }
   ],
   "source": [
    "p = re.compile(\"[a-z]+\")\n",
    "p.match('pythonPYTHON1234 PYTHONpython1234').start()"
   ]
  },
  {
   "cell_type": "code",
   "execution_count": 124,
   "id": "d9e18c58-e919-4492-8cde-f5aaf5bb8e66",
   "metadata": {},
   "outputs": [
    {
     "data": {
      "text/plain": [
       "0"
      ]
     },
     "execution_count": 124,
     "metadata": {},
     "output_type": "execute_result"
    }
   ],
   "source": [
    "p = re.compile(\"[a-z]+\")\n",
    "p.search('pythonPYTHON1234 PYTHONpython1234').start()"
   ]
  },
  {
   "cell_type": "markdown",
   "id": "9fa0a4a0-5de5-43f5-9801-fd6ea815b01c",
   "metadata": {},
   "source": [
    "- 시작 인덱스"
   ]
  },
  {
   "cell_type": "markdown",
   "id": "66810dbb-3c2d-46c7-87fa-b4c6492a63f6",
   "metadata": {},
   "source": [
    "### end()"
   ]
  },
  {
   "cell_type": "code",
   "execution_count": 116,
   "id": "d08e7e98-d0e5-4c1b-9d73-55684599f52f",
   "metadata": {},
   "outputs": [
    {
     "data": {
      "text/plain": [
       "6"
      ]
     },
     "execution_count": 116,
     "metadata": {},
     "output_type": "execute_result"
    }
   ],
   "source": [
    "p = re.compile(\"[a-z]+\")\n",
    "p.match('pythonPYTHON1234 PYTHONpython1234').end()"
   ]
  },
  {
   "cell_type": "code",
   "execution_count": 123,
   "id": "5a2071f6-198a-419a-aea5-a9ab14fb3225",
   "metadata": {},
   "outputs": [
    {
     "data": {
      "text/plain": [
       "6"
      ]
     },
     "execution_count": 123,
     "metadata": {},
     "output_type": "execute_result"
    }
   ],
   "source": [
    "p = re.compile(\"[a-z]+\")\n",
    "p.search('pythonPYTHON1234 PYTHONpython1234').end()"
   ]
  },
  {
   "cell_type": "markdown",
   "id": "ecee3ab4-6439-4468-bdae-4739157edfe7",
   "metadata": {},
   "source": [
    "- 끝 인덱스"
   ]
  },
  {
   "cell_type": "markdown",
   "id": "e6009ff1-2c95-412d-8de6-f95816fa5183",
   "metadata": {},
   "source": [
    "### span()"
   ]
  },
  {
   "cell_type": "code",
   "execution_count": 117,
   "id": "d3ba8274-52b3-49eb-9e6c-2c03669cd64d",
   "metadata": {},
   "outputs": [
    {
     "data": {
      "text/plain": [
       "(0, 6)"
      ]
     },
     "execution_count": 117,
     "metadata": {},
     "output_type": "execute_result"
    }
   ],
   "source": [
    "p = re.compile(\"[a-z]+\")\n",
    "p.match('pythonPYTHON1234 PYTHONpython1234').span()"
   ]
  },
  {
   "cell_type": "code",
   "execution_count": 122,
   "id": "e6629f13-04c8-4c92-bda4-42835c43024e",
   "metadata": {},
   "outputs": [
    {
     "data": {
      "text/plain": [
       "(0, 6)"
      ]
     },
     "execution_count": 122,
     "metadata": {},
     "output_type": "execute_result"
    }
   ],
   "source": [
    "p = re.compile(\"[a-z]+\")\n",
    "p.search('pythonPYTHON1234 PYTHONpython1234').span()"
   ]
  },
  {
   "cell_type": "markdown",
   "id": "e7baecc3-a52d-4138-ba7f-3f96421e87ba",
   "metadata": {},
   "source": [
    "- 길이"
   ]
  },
  {
   "cell_type": "markdown",
   "id": "5400a46b-6bcb-40f8-bceb-bec4f8c0aa2d",
   "metadata": {},
   "source": [
    "## 전화번호 골라내기"
   ]
  },
  {
   "cell_type": "code",
   "execution_count": 131,
   "id": "5e0608da-c63d-48ec-9b68-987449d585b2",
   "metadata": {},
   "outputs": [
    {
     "name": "stdout",
     "output_type": "stream",
     "text": [
      "<re.Match object; span=(0, 13), match='010-1234-5678'>\n",
      "<re.Match object; span=(0, 13), match='010-1234-5679'>\n",
      "<re.Match object; span=(0, 13), match='010-1234-5670'>\n",
      "None\n",
      "None\n"
     ]
    }
   ],
   "source": [
    "data = [\"010-1234-5678\", \"010-1234-5679\", \"010-1234-5670\", \"010-1234-670\", \"02-334-2243\"] \n",
    "\n",
    "for i in data:\n",
    "    print(re.search(\"010[-]\\d{4}[-]\\d{4}\", i))"
   ]
  },
  {
   "cell_type": "code",
   "execution_count": 140,
   "id": "4912a736-52a5-405b-b140-6f681969750e",
   "metadata": {},
   "outputs": [
    {
     "data": {
      "text/plain": [
       "['010-1234-5678', '010-1234-5679', '010-1234-5670']"
      ]
     },
     "execution_count": 140,
     "metadata": {},
     "output_type": "execute_result"
    }
   ],
   "source": [
    "data = [\"010-1234-5678\", \"010-1234-5679\", \"010-1234-5670\", \"010-1234-670\", \"02-334-2243\"] \n",
    "\n",
    "def is_phone_number(data):\n",
    "    phone_number = []\n",
    "    for i in data:\n",
    "        if re.search(\"010[-]\\d{4}[-]\\d{4}\", i):\n",
    "            phone_number.append(i)\n",
    "    return phone_number\n",
    "\n",
    "is_phone_number(data)"
   ]
  },
  {
   "cell_type": "code",
   "execution_count": 158,
   "id": "226a41c9-ebdb-40cb-83ec-e13ba14cf3b9",
   "metadata": {},
   "outputs": [
    {
     "data": {
      "text/plain": [
       "['010-1234-5678', '010-1234-5679', '010-1234-5670']"
      ]
     },
     "execution_count": 158,
     "metadata": {},
     "output_type": "execute_result"
    }
   ],
   "source": [
    "data = \"010-1234-5678, 010-1234-5679, 010-1234-5670, 010-1234-670, 02-334-2243\"\n",
    "\n",
    "## finditer를 사용하여 \n",
    "\n",
    "def is_phone_number(data):\n",
    "    phone_number = []\n",
    "    for i in re.finditer('010-\\d{4}-\\d{4}', data):\n",
    "        phone_number.append(i.group())\n",
    "    return phone_number \n",
    "\n",
    "is_phone_number(data)\n",
    "\n",
    "\n",
    "### i.group() 자주 쓰임"
   ]
  },
  {
   "cell_type": "code",
   "execution_count": 157,
   "id": "82943431-ade6-4b00-b1d0-1c9e6ed83cc4",
   "metadata": {},
   "outputs": [
    {
     "data": {
      "text/plain": [
       "['010-1234-5678', '010-1234-5679', '010-1234-5670']"
      ]
     },
     "execution_count": 157,
     "metadata": {},
     "output_type": "execute_result"
    }
   ],
   "source": [
    "## findall\n",
    "data = \"010-1234-5678, 010-1234-5679, 010-1234-5670, 010-1234-670, 02-334-2243\"\n",
    "\n",
    "re.findall('010-\\d{4}-\\d{4}', data)"
   ]
  },
  {
   "cell_type": "code",
   "execution_count": 185,
   "id": "d3ff2277-5500-4f26-979e-673ad7c612d1",
   "metadata": {},
   "outputs": [
    {
     "name": "stdout",
     "output_type": "stream",
     "text": [
      "<re.Match object; span=(2, 5), match='하세요'>\n",
      "<re.Match object; span=(19, 22), match='하지요'>\n",
      "<re.Match object; span=(38, 41), match='싶어요'>\n",
      "<re.Match object; span=(45, 48), match='하세요'>\n"
     ]
    }
   ],
   "source": [
    "msg = \"안녕하세요. 제 소개부터 드리도록 하지요. 저는 의미있는 일을 하고 싶어요. 건강하세요.\"\n",
    "\n",
    "### finditer 하세요. 하지요. 싶어요.로 끝나는 것의 span()을 출력\n",
    "\n",
    "for i in re.finditer(\"하세요|하지요|싶어요\", msg):\n",
    "    print(i)"
   ]
  },
  {
   "cell_type": "code",
   "execution_count": 166,
   "id": "aa7613f1-5913-47de-ab77-7457e19694d2",
   "metadata": {},
   "outputs": [
    {
     "name": "stdout",
     "output_type": "stream",
     "text": [
      "(0, 48)\n"
     ]
    }
   ],
   "source": [
    " for i in re.finditer(\".*하세요|.*하지요|.*싶어요\", msg):\n",
    "    print(i.span())"
   ]
  },
  {
   "cell_type": "code",
   "execution_count": 184,
   "id": "564bd718-e887-43f4-a38b-f04e0ccebb33",
   "metadata": {},
   "outputs": [
    {
     "name": "stdout",
     "output_type": "stream",
     "text": [
      "<re.Match object; span=(0, 41), match='안녕하세요. 제 소개부터 드리도록 하지요. 저는 의미있는 일을 하고 싶어요'>\n",
      "<re.Match object; span=(45, 48), match='하세요'>\n"
     ]
    }
   ],
   "source": [
    " for i in re.finditer(\"하세요|하지요|.*싶어요\", msg):\n",
    "    print(i)"
   ]
  },
  {
   "cell_type": "code",
   "execution_count": 172,
   "id": "cc13474b-1a24-472e-b323-ee3daec34bb7",
   "metadata": {},
   "outputs": [
    {
     "name": "stdout",
     "output_type": "stream",
     "text": [
      "<re.Match object; span=(0, 22), match='안녕하세요. 제 소개부터 드리도록 하지요'>\n",
      "<re.Match object; span=(22, 41), match='. 저는 의미있는 일을 하고 싶어요'>\n",
      "<re.Match object; span=(45, 48), match='하세요'>\n"
     ]
    }
   ],
   "source": [
    " for i in re.finditer(\"하세요|.*하지요|.*싶어요\", msg):\n",
    "    print(i)"
   ]
  },
  {
   "cell_type": "code",
   "execution_count": 174,
   "id": "5c6e3505-8096-4439-80e9-c50847ae6f17",
   "metadata": {},
   "outputs": [
    {
     "name": "stdout",
     "output_type": "stream",
     "text": [
      "<re.Match object; span=(0, 22), match='안녕하세요. 제 소개부터 드리도록 하지요'>\n",
      "<re.Match object; span=(22, 41), match='. 저는 의미있는 일을 하고 싶어요'>\n",
      "<re.Match object; span=(45, 48), match='하세요'>\n"
     ]
    }
   ],
   "source": [
    " for i in re.finditer(\"(하세요)|(.*하지요)|(.*싶어요)\", msg):\n",
    "    print(i)"
   ]
  },
  {
   "cell_type": "code",
   "execution_count": 182,
   "id": "e71b3db3-11d6-4cf0-8911-1a37ca59e425",
   "metadata": {},
   "outputs": [
    {
     "data": {
      "text/plain": [
       "<re.Match object; span=(0, 41), match='안녕하세요. 제 소개부터 드리도록 하지요. 저는 의미있는 일을 하고 싶어요'>"
      ]
     },
     "execution_count": 182,
     "metadata": {},
     "output_type": "execute_result"
    }
   ],
   "source": [
    "re.search(\"하세요|.*싶어요\", msg)greedy\n",
    " "
   ]
  },
  {
   "cell_type": "markdown",
   "id": "2b7b0ff3-5539-402d-9b25-a0c90c7d4f57",
   "metadata": {},
   "source": [
    "## Grouping 그루핑"
   ]
  },
  {
   "cell_type": "code",
   "execution_count": 186,
   "id": "345ea01f-d787-4d05-ac40-1d645a6bdccd",
   "metadata": {},
   "outputs": [],
   "source": [
    "sentence = \"park 010-1234-1234\"\n",
    "p = re.compile(r\"(\\w+)\\s((\\d+)[-]\\d+[-]\\d+)\")"
   ]
  },
  {
   "cell_type": "code",
   "execution_count": 188,
   "id": "60567292-d01a-47fe-b004-15a28b9a9912",
   "metadata": {},
   "outputs": [
    {
     "data": {
      "text/plain": [
       "'park 010-1234-1234'"
      ]
     },
     "execution_count": 188,
     "metadata": {},
     "output_type": "execute_result"
    }
   ],
   "source": [
    "p.search(sentence).group()"
   ]
  },
  {
   "cell_type": "code",
   "execution_count": 192,
   "id": "f52b1c13-7374-4e45-a208-b87b59a37ea2",
   "metadata": {},
   "outputs": [
    {
     "data": {
      "text/plain": [
       "'park 010-1234-1234'"
      ]
     },
     "execution_count": 192,
     "metadata": {},
     "output_type": "execute_result"
    }
   ],
   "source": [
    "p.search(sentence).group(0)"
   ]
  },
  {
   "cell_type": "code",
   "execution_count": 189,
   "id": "98afae02-bdb1-4363-be6d-91db03654518",
   "metadata": {},
   "outputs": [
    {
     "data": {
      "text/plain": [
       "'park'"
      ]
     },
     "execution_count": 189,
     "metadata": {},
     "output_type": "execute_result"
    }
   ],
   "source": [
    "p.search(sentence).group(1)"
   ]
  },
  {
   "cell_type": "code",
   "execution_count": 190,
   "id": "05b7c805-46d3-4081-8f37-637c48ece6c3",
   "metadata": {},
   "outputs": [
    {
     "data": {
      "text/plain": [
       "'010-1234-1234'"
      ]
     },
     "execution_count": 190,
     "metadata": {},
     "output_type": "execute_result"
    }
   ],
   "source": [
    "p.search(sentence).group(2)"
   ]
  },
  {
   "cell_type": "code",
   "execution_count": 191,
   "id": "5d4b37f0-31f4-4b5f-8910-e318bb447c2f",
   "metadata": {},
   "outputs": [
    {
     "data": {
      "text/plain": [
       "'010'"
      ]
     },
     "execution_count": 191,
     "metadata": {},
     "output_type": "execute_result"
    }
   ],
   "source": [
    "p.search(sentence).group(3)"
   ]
  },
  {
   "cell_type": "code",
   "execution_count": 193,
   "id": "75ae2067-db0b-4347-b4df-807519e48e02",
   "metadata": {},
   "outputs": [
    {
     "name": "stdout",
     "output_type": "stream",
     "text": [
      "010-1234-1234 park\n"
     ]
    }
   ],
   "source": [
    "print(p.search(sentence).group(2), p.search(sentence).group(1))"
   ]
  },
  {
   "cell_type": "markdown",
   "id": "e2167630-8ac2-4351-a026-e6bf686c75c0",
   "metadata": {},
   "source": [
    "- 이름 붙이기"
   ]
  },
  {
   "cell_type": "code",
   "execution_count": 198,
   "id": "77a388bf-b71c-431a-bc43-ca3cc9bc7a1b",
   "metadata": {},
   "outputs": [],
   "source": [
    "sentence = \"park 010-1234-1234\"\n",
    "p = re.compile(r\"(?P<family>\\w+)\\s((?P<Phone_first>\\d+)[-]\\d+[-]\\d+)\")"
   ]
  },
  {
   "cell_type": "code",
   "execution_count": 196,
   "id": "98d85d79-6c7c-44be-b455-44931c4e4ffb",
   "metadata": {},
   "outputs": [
    {
     "data": {
      "text/plain": [
       "'park'"
      ]
     },
     "execution_count": 196,
     "metadata": {},
     "output_type": "execute_result"
    }
   ],
   "source": [
    "p.search(sentence).group('family')"
   ]
  },
  {
   "cell_type": "code",
   "execution_count": 199,
   "id": "f81a37a2-032c-4545-ba07-c3e31cd23809",
   "metadata": {},
   "outputs": [
    {
     "data": {
      "text/plain": [
       "'010'"
      ]
     },
     "execution_count": 199,
     "metadata": {},
     "output_type": "execute_result"
    }
   ],
   "source": [
    "p.search(sentence).group('Phone_first')"
   ]
  },
  {
   "cell_type": "markdown",
   "id": "a5765b34-f0db-459a-a0a4-debc43c1b5d8",
   "metadata": {},
   "source": [
    "- 문자열 재참조"
   ]
  },
  {
   "cell_type": "code",
   "execution_count": 282,
   "id": "f12f0d49-22a1-48dc-9696-62bb3d6b18b2",
   "metadata": {},
   "outputs": [
    {
     "data": {
      "text/plain": [
       "<re.Match object; span=(0, 23), match='park 010-1234-1234 park'>"
      ]
     },
     "execution_count": 282,
     "metadata": {},
     "output_type": "execute_result"
    }
   ],
   "source": [
    "sentence = \"park 010-1234-1234 park\"\n",
    "p = re.compile(r\"(?P<family>\\w+)\\s\\d+[-]\\d+[-]\\d+\\s(?P=family)\")\n",
    "p.search(sentence)"
   ]
  },
  {
   "cell_type": "code",
   "execution_count": 285,
   "id": "ad379d42-6d06-48ed-9f16-7f5939bdfbb2",
   "metadata": {},
   "outputs": [
    {
     "data": {
      "text/plain": [
       "<re.Match object; span=(3, 20), match='k 010-1234-1234 k'>"
      ]
     },
     "execution_count": 285,
     "metadata": {},
     "output_type": "execute_result"
    }
   ],
   "source": [
    "sentence = \"park 010-1234-1234 kim\"\n",
    "p = re.compile(r\"(?P<family>\\w+)\\s\\d+[-]\\d+[-]\\d+\\s\\1\")\n",
    "p.search(sentence)"
   ]
  },
  {
   "cell_type": "code",
   "execution_count": 286,
   "id": "de5acc96-f3a6-4465-9800-b15e3b1c8ab1",
   "metadata": {},
   "outputs": [
    {
     "data": {
      "text/plain": [
       "<re.Match object; span=(0, 23), match='park 010-1234-1234 park'>"
      ]
     },
     "execution_count": 286,
     "metadata": {},
     "output_type": "execute_result"
    }
   ],
   "source": [
    "sentence = \"park 010-1234-1234 park\"\n",
    "p = re.compile(r\"(?P<family>\\w+)\\s\\d+[-]\\d+[-]\\d+\\s\\1\")\n",
    "p.search(sentence)"
   ]
  },
  {
   "cell_type": "code",
   "execution_count": 281,
   "id": "147c55a2-048e-4b91-9c56-5ce26fcc5be1",
   "metadata": {},
   "outputs": [
    {
     "data": {
      "text/plain": [
       "'k'"
      ]
     },
     "execution_count": 281,
     "metadata": {},
     "output_type": "execute_result"
    }
   ],
   "source": [
    "m = p.search(sentence)\n",
    "m.group(\"family\")"
   ]
  },
  {
   "cell_type": "code",
   "execution_count": 278,
   "id": "78567c8f-17cf-4b9a-8a92-725dddc69dce",
   "metadata": {},
   "outputs": [
    {
     "name": "stdout",
     "output_type": "stream",
     "text": [
      "010park\n"
     ]
    }
   ],
   "source": [
    "p = re.compile(r\"(?P<family>\\w+)\\s+(?P<Phone>\\d+)[-]\\d+[-]\\d+\")\n",
    "print(p.sub(\"\\g<2>\\g<1>\", \"park 010-1234-1234\"))"
   ]
  },
  {
   "cell_type": "code",
   "execution_count": 208,
   "id": "57a5487d-8b98-4deb-a256-272462905592",
   "metadata": {
    "collapsed": true,
    "jupyter": {
     "outputs_hidden": true
    },
    "tags": []
   },
   "outputs": [
    {
     "name": "stdout",
     "output_type": "stream",
     "text": [
      "Support for regular expressions (RE).\n",
      "\n",
      "This module provides regular expression matching operations similar to\n",
      "those found in Perl.  It supports both 8-bit and Unicode strings; both\n",
      "the pattern and the strings being processed can contain null bytes and\n",
      "characters outside the US ASCII range.\n",
      "\n",
      "Regular expressions can contain both special and ordinary characters.\n",
      "Most ordinary characters, like \"A\", \"a\", or \"0\", are the simplest\n",
      "regular expressions; they simply match themselves.  You can\n",
      "concatenate ordinary characters, so last matches the string 'last'.\n",
      "\n",
      "The special characters are:\n",
      "    \".\"      Matches any character except a newline.\n",
      "    \"^\"      Matches the start of the string.\n",
      "    \"$\"      Matches the end of the string or just before the newline at\n",
      "             the end of the string.\n",
      "    \"*\"      Matches 0 or more (greedy) repetitions of the preceding RE.\n",
      "             Greedy means that it will match as many repetitions as possible.\n",
      "    \"+\"      Matches 1 or more (greedy) repetitions of the preceding RE.\n",
      "    \"?\"      Matches 0 or 1 (greedy) of the preceding RE.\n",
      "    *?,+?,?? Non-greedy versions of the previous three special characters.\n",
      "    {m,n}    Matches from m to n repetitions of the preceding RE.\n",
      "    {m,n}?   Non-greedy version of the above.\n",
      "    \"\\\\\"     Either escapes special characters or signals a special sequence.\n",
      "    []       Indicates a set of characters.\n",
      "             A \"^\" as the first character indicates a complementing set.\n",
      "    \"|\"      A|B, creates an RE that will match either A or B.\n",
      "    (...)    Matches the RE inside the parentheses.\n",
      "             The contents can be retrieved or matched later in the string.\n",
      "    (?aiLmsux) The letters set the corresponding flags defined below.\n",
      "    (?:...)  Non-grouping version of regular parentheses.\n",
      "    (?P<name>...) The substring matched by the group is accessible by name.\n",
      "    (?P=name)     Matches the text matched earlier by the group named name.\n",
      "    (?#...)  A comment; ignored.\n",
      "    (?=...)  Matches if ... matches next, but doesn't consume the string.\n",
      "    (?!...)  Matches if ... doesn't match next.\n",
      "    (?<=...) Matches if preceded by ... (must be fixed length).\n",
      "    (?<!...) Matches if not preceded by ... (must be fixed length).\n",
      "    (?(id/name)yes|no) Matches yes pattern if the group with id/name matched,\n",
      "                       the (optional) no pattern otherwise.\n",
      "\n",
      "The special sequences consist of \"\\\\\" and a character from the list\n",
      "below.  If the ordinary character is not on the list, then the\n",
      "resulting RE will match the second character.\n",
      "    \\number  Matches the contents of the group of the same number.\n",
      "    \\A       Matches only at the start of the string.\n",
      "    \\Z       Matches only at the end of the string.\n",
      "    \\b       Matches the empty string, but only at the start or end of a word.\n",
      "    \\B       Matches the empty string, but not at the start or end of a word.\n",
      "    \\d       Matches any decimal digit; equivalent to the set [0-9] in\n",
      "             bytes patterns or string patterns with the ASCII flag.\n",
      "             In string patterns without the ASCII flag, it will match the whole\n",
      "             range of Unicode digits.\n",
      "    \\D       Matches any non-digit character; equivalent to [^\\d].\n",
      "    \\s       Matches any whitespace character; equivalent to [ \\t\\n\\r\\f\\v] in\n",
      "             bytes patterns or string patterns with the ASCII flag.\n",
      "             In string patterns without the ASCII flag, it will match the whole\n",
      "             range of Unicode whitespace characters.\n",
      "    \\S       Matches any non-whitespace character; equivalent to [^\\s].\n",
      "    \\w       Matches any alphanumeric character; equivalent to [a-zA-Z0-9_]\n",
      "             in bytes patterns or string patterns with the ASCII flag.\n",
      "             In string patterns without the ASCII flag, it will match the\n",
      "             range of Unicode alphanumeric characters (letters plus digits\n",
      "             plus underscore).\n",
      "             With LOCALE, it will match the set [0-9_] plus characters defined\n",
      "             as letters for the current locale.\n",
      "    \\W       Matches the complement of \\w.\n",
      "    \\\\       Matches a literal backslash.\n",
      "\n",
      "This module exports the following functions:\n",
      "    match     Match a regular expression pattern to the beginning of a string.\n",
      "    fullmatch Match a regular expression pattern to all of a string.\n",
      "    search    Search a string for the presence of a pattern.\n",
      "    sub       Substitute occurrences of a pattern found in a string.\n",
      "    subn      Same as sub, but also return the number of substitutions made.\n",
      "    split     Split a string by the occurrences of a pattern.\n",
      "    findall   Find all occurrences of a pattern in a string.\n",
      "    finditer  Return an iterator yielding a Match object for each match.\n",
      "    compile   Compile a pattern into a Pattern object.\n",
      "    purge     Clear the regular expression cache.\n",
      "    escape    Backslash all non-alphanumerics in a string.\n",
      "\n",
      "Each function other than purge and escape can take an optional 'flags' argument\n",
      "consisting of one or more of the following module constants, joined by \"|\".\n",
      "A, L, and U are mutually exclusive.\n",
      "    A  ASCII       For string patterns, make \\w, \\W, \\b, \\B, \\d, \\D\n",
      "                   match the corresponding ASCII character categories\n",
      "                   (rather than the whole Unicode categories, which is the\n",
      "                   default).\n",
      "                   For bytes patterns, this flag is the only available\n",
      "                   behaviour and needn't be specified.\n",
      "    I  IGNORECASE  Perform case-insensitive matching.\n",
      "    L  LOCALE      Make \\w, \\W, \\b, \\B, dependent on the current locale.\n",
      "    M  MULTILINE   \"^\" matches the beginning of lines (after a newline)\n",
      "                   as well as the string.\n",
      "                   \"$\" matches the end of lines (before a newline) as well\n",
      "                   as the end of the string.\n",
      "    S  DOTALL      \".\" matches any character at all, including the newline.\n",
      "    X  VERBOSE     Ignore whitespace and comments for nicer looking RE's.\n",
      "    U  UNICODE     For compatibility only. Ignored for string patterns (it\n",
      "                   is the default), and forbidden for bytes patterns.\n",
      "\n",
      "This module also defines an exception 'error'.\n",
      "\n",
      "\n"
     ]
    }
   ],
   "source": [
    "print(re.__doc__)"
   ]
  },
  {
   "cell_type": "markdown",
   "id": "ab3363c3-0953-49f7-b136-eb124e453b05",
   "metadata": {},
   "source": [
    "- 긍정형 전방 탐색 : ---에 해당하는 정규식과 매치되어야 하며 조건이 통과되어도 문자열이 소비되지 않는다"
   ]
  },
  {
   "cell_type": "code",
   "execution_count": 228,
   "id": "f76f0db9-bb4c-438b-a6cc-6cbbfb12d775",
   "metadata": {},
   "outputs": [],
   "source": [
    "p = re.compile(\".+:\")\n",
    "m = p.search(\"http://google.come\")"
   ]
  },
  {
   "cell_type": "code",
   "execution_count": 230,
   "id": "56164048-9e9f-4569-aa01-c2f34149087d",
   "metadata": {},
   "outputs": [
    {
     "data": {
      "text/plain": [
       "<re.Match object; span=(0, 5), match='http:'>"
      ]
     },
     "execution_count": 230,
     "metadata": {},
     "output_type": "execute_result"
    }
   ],
   "source": [
    "m"
   ]
  },
  {
   "cell_type": "code",
   "execution_count": 232,
   "id": "42b6e7ab-4556-440f-a767-8a3c5218952d",
   "metadata": {},
   "outputs": [
    {
     "data": {
      "text/plain": [
       "<function Match.span(group=0, /)>"
      ]
     },
     "execution_count": 232,
     "metadata": {},
     "output_type": "execute_result"
    }
   ],
   "source": [
    "m.span"
   ]
  },
  {
   "cell_type": "code",
   "execution_count": 231,
   "id": "770f01c3-9cb8-45ee-a638-2e188b4c22de",
   "metadata": {},
   "outputs": [
    {
     "data": {
      "text/plain": [
       "'http:'"
      ]
     },
     "execution_count": 231,
     "metadata": {},
     "output_type": "execute_result"
    }
   ],
   "source": [
    "m.group()"
   ]
  },
  {
   "cell_type": "code",
   "execution_count": 237,
   "id": "104431ef-a057-4f68-8dc7-a54247c44440",
   "metadata": {},
   "outputs": [
    {
     "data": {
      "text/plain": [
       "'http'"
      ]
     },
     "execution_count": 237,
     "metadata": {},
     "output_type": "execute_result"
    }
   ],
   "source": [
    "p = re.compile(\".+(?=:)\")\n",
    "m = p.search(\"http://google.come\")\n",
    "m.group()"
   ]
  },
  {
   "cell_type": "markdown",
   "id": "ed1bf41a-f672-44b0-8e3c-e0bcd7f2ec2d",
   "metadata": {},
   "source": [
    "- 부정형 전방 탐색: ---에 해당하는 정규식과 매치되지 않아야 하며 조건이 통과되어도 문자열이 소비되지 않는다"
   ]
  },
  {
   "cell_type": "code",
   "execution_count": 243,
   "id": "4086f5de-21ee-4701-9564-dfb4455f9bec",
   "metadata": {},
   "outputs": [],
   "source": [
    "sentence = \"aaa.exe, bbb.pdf\"\n",
    "p = re.compile(\".*[.](?!exe$)\")"
   ]
  },
  {
   "cell_type": "code",
   "execution_count": 244,
   "id": "f77720f9-5152-4571-8ace-d400e428e2f5",
   "metadata": {},
   "outputs": [
    {
     "data": {
      "text/plain": [
       "'aaa.exe, bbb.'"
      ]
     },
     "execution_count": 244,
     "metadata": {},
     "output_type": "execute_result"
    }
   ],
   "source": [
    "p.search(sentence).group()"
   ]
  },
  {
   "cell_type": "markdown",
   "id": "15076bd3-a4fc-4875-a39b-c3e7ca5afcc0",
   "metadata": {},
   "source": [
    "- 후방 탐색"
   ]
  },
  {
   "cell_type": "code",
   "execution_count": 246,
   "id": "02392c40-4c98-4aa3-888e-cf20318b1b9a",
   "metadata": {},
   "outputs": [
    {
     "data": {
      "text/plain": [
       "'//google.come'"
      ]
     },
     "execution_count": 246,
     "metadata": {},
     "output_type": "execute_result"
    }
   ],
   "source": [
    "p = re.compile(\"(?<=:).+\")\n",
    "m = p.search(\"http://google.come\")\n",
    "m.group()"
   ]
  },
  {
   "cell_type": "code",
   "execution_count": 247,
   "id": "07920564-a442-4ab9-afc2-516646e13f67",
   "metadata": {},
   "outputs": [
    {
     "data": {
      "text/plain": [
       "'://google.come'"
      ]
     },
     "execution_count": 247,
     "metadata": {},
     "output_type": "execute_result"
    }
   ],
   "source": [
    "p = re.compile(\"(?=:).+\")\n",
    "m = p.search(\"http://google.come\")\n",
    "m.group()"
   ]
  },
  {
   "cell_type": "code",
   "execution_count": 249,
   "id": "29ae8513-5906-43e0-96b7-64a364dcd616",
   "metadata": {},
   "outputs": [
    {
     "data": {
      "text/plain": [
       "'o2022'"
      ]
     },
     "execution_count": 249,
     "metadata": {},
     "output_type": "execute_result"
    }
   ],
   "source": [
    "p = re.compile(\"(?<=ll).+\")\n",
    "m = p.search(\"hello2022\")\n",
    "m.group()"
   ]
  },
  {
   "cell_type": "code",
   "execution_count": 250,
   "id": "a2d50c53-addf-48d5-a933-5b0da95a7baf",
   "metadata": {},
   "outputs": [
    {
     "data": {
      "text/plain": [
       "'llo2022'"
      ]
     },
     "execution_count": 250,
     "metadata": {},
     "output_type": "execute_result"
    }
   ],
   "source": [
    "p = re.compile(\"(?=ll).+\")\n",
    "m = p.search(\"hello2022\")\n",
    "m.group()"
   ]
  },
  {
   "cell_type": "code",
   "execution_count": 251,
   "id": "b31e3fb3-222f-46e4-a605-ab8baed41cb5",
   "metadata": {},
   "outputs": [
    {
     "data": {
      "text/plain": [
       "'he'"
      ]
     },
     "execution_count": 251,
     "metadata": {},
     "output_type": "execute_result"
    }
   ],
   "source": [
    "p = re.compile(\".+(?=ll)\")\n",
    "m = p.search(\"hello2022\")\n",
    "m.group()"
   ]
  },
  {
   "cell_type": "code",
   "execution_count": 252,
   "id": "ca55df8a-7d01-4f60-9a4d-4384c8c342e2",
   "metadata": {},
   "outputs": [
    {
     "data": {
      "text/plain": [
       "'hell'"
      ]
     },
     "execution_count": 252,
     "metadata": {},
     "output_type": "execute_result"
    }
   ],
   "source": [
    "p = re.compile(\".+(?<=ll)\")\n",
    "m = p.search(\"hello2022\")\n",
    "m.group()"
   ]
  },
  {
   "cell_type": "code",
   "execution_count": 257,
   "id": "17c6ae30-255d-4063-96cb-2fc291b8fe34",
   "metadata": {},
   "outputs": [],
   "source": [
    "data = '''\n",
    "http://www.forta.com a\n",
    "https://mail.forta.com b\n",
    "ftp://ftp.forta.com c\n",
    "''' "
   ]
  },
  {
   "cell_type": "code",
   "execution_count": null,
   "id": "359f19f1-d840-4891-a59f-84e711957e24",
   "metadata": {},
   "outputs": [],
   "source": [
    "### [forta.com, forta.com, ftp.for]"
   ]
  },
  {
   "cell_type": "code",
   "execution_count": 259,
   "id": "0c53b84b-4205-4bdd-9b38-e4ec4af95eec",
   "metadata": {},
   "outputs": [
    {
     "data": {
      "text/plain": [
       "['forta.com', 'forta.com', 'ftp.for']"
      ]
     },
     "execution_count": 259,
     "metadata": {},
     "output_type": "execute_result"
    }
   ],
   "source": [
    "p = re.compile(r\"f\\w+[.]\\w{3}\")\n",
    "p.findall(data)"
   ]
  },
  {
   "cell_type": "code",
   "execution_count": 260,
   "id": "62d3b664-8199-4e54-8945-988a10ccbf51",
   "metadata": {},
   "outputs": [
    {
     "data": {
      "text/plain": [
       "['http://www.', 'https://mail.', 'ftp://ftp.']"
      ]
     },
     "execution_count": 260,
     "metadata": {},
     "output_type": "execute_result"
    }
   ],
   "source": [
    "p = re.compile(r\".+(?=f)\")\n",
    "p.findall(data)"
   ]
  },
  {
   "cell_type": "code",
   "execution_count": 261,
   "id": "3ecff0ea-3ed2-4010-9c1e-04171817b3c5",
   "metadata": {},
   "outputs": [
    {
     "data": {
      "text/plain": [
       "['http://www.f', 'https://mail.f', 'ftp://ftp.f']"
      ]
     },
     "execution_count": 261,
     "metadata": {},
     "output_type": "execute_result"
    }
   ],
   "source": [
    "p = re.compile(r\".+f\")\n",
    "p.findall(data)"
   ]
  },
  {
   "cell_type": "code",
   "execution_count": 263,
   "id": "f371e137-376b-4eda-9792-403b8a41a18b",
   "metadata": {},
   "outputs": [
    {
     "data": {
      "text/plain": [
       "['orta.com a', 'orta.com b', 'tp://ftp.forta.com c']"
      ]
     },
     "execution_count": 263,
     "metadata": {},
     "output_type": "execute_result"
    }
   ],
   "source": [
    "p = re.compile(r\"(?<=f).+\")\n",
    "p.findall(data)"
   ]
  },
  {
   "cell_type": "markdown",
   "id": "838a6560-d002-4b0a-b672-07b2ad3558eb",
   "metadata": {},
   "source": [
    "### Greedy Vs Non-Greedy"
   ]
  },
  {
   "cell_type": "code",
   "execution_count": 265,
   "id": "98cf5e42-bb02-4281-83f4-710accec1899",
   "metadata": {},
   "outputs": [
    {
     "name": "stdout",
     "output_type": "stream",
     "text": [
      "None\n",
      "<re.Match object; span=(0, 6), match='sososo'>\n",
      "<re.Match object; span=(0, 8), match='sosososo'>\n",
      "<re.Match object; span=(0, 10), match='sososososo'>\n"
     ]
    }
   ],
   "source": [
    "data = [\"soso\", \"sososo\", \"sosososo\", \"sososososo\"] \n",
    "p = re.compile(r\"(so){3,5}\")\n",
    "for i in data:\n",
    "    print(p.search(i))"
   ]
  },
  {
   "cell_type": "markdown",
   "id": "40d38069-d883-4e88-95b5-1d7cd2321c45",
   "metadata": {},
   "source": [
    "- 최대한의 문자열을 소비함"
   ]
  },
  {
   "cell_type": "code",
   "execution_count": 266,
   "id": "3035568e-fab2-4941-a658-ab4b89df3b3c",
   "metadata": {},
   "outputs": [
    {
     "name": "stdout",
     "output_type": "stream",
     "text": [
      "None\n",
      "<re.Match object; span=(0, 6), match='sososo'>\n",
      "<re.Match object; span=(0, 6), match='sososo'>\n",
      "<re.Match object; span=(0, 6), match='sososo'>\n"
     ]
    }
   ],
   "source": [
    "data = [\"soso\", \"sososo\", \"sosososo\", \"sososososo\"] \n",
    "p = re.compile(r\"(so){3,5}?\")\n",
    "for i in data:\n",
    "    print(p.search(i))"
   ]
  },
  {
   "cell_type": "markdown",
   "id": "c5572a13-2e1e-4dc6-af4b-81ab8a20b4e5",
   "metadata": {},
   "source": [
    "# Practice"
   ]
  },
  {
   "cell_type": "code",
   "execution_count": 300,
   "id": "19add09e-1295-4160-9a5f-64326a7edf28",
   "metadata": {},
   "outputs": [
    {
     "data": {
      "text/plain": [
       "'a#b#c#d'"
      ]
     },
     "execution_count": 300,
     "metadata": {},
     "output_type": "execute_result"
    }
   ],
   "source": [
    "a = \"a:b:c:d\"\n",
    "b = a.split(\":\")\n",
    "\"#\".join(b)"
   ]
  },
  {
   "cell_type": "code",
   "execution_count": 302,
   "id": "3855e370-7930-4b32-8720-6d61ffdfc0d4",
   "metadata": {},
   "outputs": [
    {
     "data": {
      "text/plain": [
       "70"
      ]
     },
     "execution_count": 302,
     "metadata": {},
     "output_type": "execute_result"
    }
   ],
   "source": [
    "a = {'A' : 90, 'B': 80}\n",
    "a['C'] = 70\n",
    "a['C']"
   ]
  },
  {
   "cell_type": "code",
   "execution_count": 303,
   "id": "bf2a4e5e-c3b9-417c-a1f4-f29e688bd59e",
   "metadata": {},
   "outputs": [
    {
     "name": "stdout",
     "output_type": "stream",
     "text": [
      "80.16666666666667\n"
     ]
    }
   ],
   "source": [
    "A = [20, 55, 67, 82, 45, 33, 90, 87, 100, 25]\n",
    "\n",
    "count = 0\n",
    "tsum = 0\n",
    "\n",
    "for i in A:\n",
    "    if i >= 50:\n",
    "        count += 1\n",
    "        tsum += i\n",
    "print(tsum/count)"
   ]
  },
  {
   "cell_type": "code",
   "execution_count": 310,
   "id": "e03c0b19-a932-43c4-879d-0d1a5e7b4444",
   "metadata": {},
   "outputs": [
    {
     "data": {
      "text/plain": [
       "168"
      ]
     },
     "execution_count": 310,
     "metadata": {},
     "output_type": "execute_result"
    }
   ],
   "source": [
    "import numpy as np\n",
    "\n",
    "def totalsum(*args):\n",
    "    addt = 0\n",
    "    for i in args:\n",
    "        addt += i\n",
    "    return addt\n",
    "\n",
    "totalsum(65, 45, 2, 3, 45, 8)"
   ]
  },
  {
   "cell_type": "code",
   "execution_count": null,
   "id": "810884a1-079a-40b1-a7fd-c918a8a5fb2a",
   "metadata": {},
   "outputs": [],
   "source": [
    "a = input(\"구구단을 출력할 숫자를 입력하세요(2~9): \")\n"
   ]
  }
 ],
 "metadata": {
  "kernelspec": {
   "display_name": "Python 3 (ipykernel)",
   "language": "python",
   "name": "python3"
  },
  "language_info": {
   "codemirror_mode": {
    "name": "ipython",
    "version": 3
   },
   "file_extension": ".py",
   "mimetype": "text/x-python",
   "name": "python",
   "nbconvert_exporter": "python",
   "pygments_lexer": "ipython3",
   "version": "3.10.6"
  }
 },
 "nbformat": 4,
 "nbformat_minor": 5
}
