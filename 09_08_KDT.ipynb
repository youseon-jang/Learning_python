{
 "cells": [
  {
   "cell_type": "markdown",
   "id": "371cb3ab-a07a-404d-8f20-2174cb88e0fd",
   "metadata": {},
   "source": [
    "# 복습문제"
   ]
  },
  {
   "cell_type": "code",
   "execution_count": 6,
   "id": "643f3ed1-8a6b-4f17-a6d9-19b5e12e79bc",
   "metadata": {},
   "outputs": [
    {
     "data": {
      "text/plain": [
       "'장유선'"
      ]
     },
     "execution_count": 6,
     "metadata": {},
     "output_type": "execute_result"
    }
   ],
   "source": [
    "class Sports:\n",
    "    def __init__(self, name, players):\n",
    "        self.name = name\n",
    "        self.players = players\n",
    "    \n",
    "soccer = Sports('장유선', '축구')\n",
    "soccer.name"
   ]
  },
  {
   "cell_type": "code",
   "execution_count": 8,
   "id": "dc926aff-a2b9-4f76-81ea-0fe15b6ed1c1",
   "metadata": {},
   "outputs": [
    {
     "name": "stdout",
     "output_type": "stream",
     "text": [
      "축구는 한 팀당 11이 하는 스포츠입니다.\n"
     ]
    }
   ],
   "source": [
    "class Sports:\n",
    "    def __init__(self, name, players):\n",
    "        self.name = name\n",
    "        self.players = players\n",
    "        \n",
    "    def explain(self):\n",
    "        print(f\"{self.name}는 한 팀당 {self.players}이 하는 스포츠입니다.\")\n",
    "        \n",
    "soccer = Sports('축구', 11)\n",
    "soccer.explain()"
   ]
  },
  {
   "cell_type": "code",
   "execution_count": 14,
   "id": "bce10d8a-8ce2-44d1-bc46-e979c9e02312",
   "metadata": {},
   "outputs": [
    {
     "data": {
      "text/plain": [
       "'green'"
      ]
     },
     "execution_count": 14,
     "metadata": {},
     "output_type": "execute_result"
    }
   ],
   "source": [
    "class Plant:\n",
    "    def __init__(self, name):\n",
    "        self.name = name\n",
    "        \n",
    "    def color(self):\n",
    "        self.color = 'green'\n",
    "        return self.color\n",
    "        \n",
    "소나무 = Plant(\"소나무\")\n",
    "소나무.color()"
   ]
  },
  {
   "cell_type": "code",
   "execution_count": 17,
   "id": "7bb1c5bb-bbba-4004-b4cb-d87f3fda02e5",
   "metadata": {},
   "outputs": [
    {
     "data": {
      "text/plain": [
       "'Red'"
      ]
     },
     "execution_count": 17,
     "metadata": {},
     "output_type": "execute_result"
    }
   ],
   "source": [
    "class Apple(Plant):\n",
    "    def color(self):\n",
    "        self.color = \"Red\"\n",
    "        return self.color\n",
    "\n",
    "사과 = Apple('사과')\n",
    "사과.color()"
   ]
  },
  {
   "cell_type": "code",
   "execution_count": 1,
   "id": "f21c8e84-866d-410a-a5d0-98ef4ad36fbb",
   "metadata": {},
   "outputs": [],
   "source": [
    "with open(\"new.txt\", \"w\") as f:\n",
    "    for i in range(10):\n",
    "        f.write(\"Hello \\n\")"
   ]
  },
  {
   "cell_type": "code",
   "execution_count": 2,
   "id": "9134dda2-a39a-4e05-b08e-2f3605bb657c",
   "metadata": {},
   "outputs": [
    {
     "name": "stdout",
     "output_type": "stream",
     "text": [
      "Hello \n",
      "Hello \n",
      "Hello \n",
      "Hello \n",
      "Hello \n",
      "Hello \n",
      "Hello \n",
      "Hello \n",
      "Hello \n",
      "Hello \n",
      "\n"
     ]
    }
   ],
   "source": [
    "with open(\"new.txt\", \"r\") as f:\n",
    "    data = f.read()\n",
    "print(data)"
   ]
  },
  {
   "cell_type": "code",
   "execution_count": 3,
   "id": "310e441a-3d13-4ff5-ad93-3562adc15eb0",
   "metadata": {},
   "outputs": [],
   "source": [
    "with open(\"gugu.txt\", \"w\") as f:\n",
    "    for i in range(2,9):\n",
    "        j = 0\n",
    "        while j < 9:\n",
    "            j += 1\n",
    "            a = i*j\n",
    "            f.write(f\"{a} \")\n",
    "        f.write(\"\\n\")   "
   ]
  },
  {
   "cell_type": "code",
   "execution_count": 4,
   "id": "cd08cc67-1407-47bd-b07d-9e221ab39b50",
   "metadata": {},
   "outputs": [
    {
     "name": "stdout",
     "output_type": "stream",
     "text": [
      "2 4 6 8 10 12 14 16 18 \n",
      "3 6 9 12 15 18 21 24 27 \n",
      "4 8 12 16 20 24 28 32 36 \n",
      "5 10 15 20 25 30 35 40 45 \n",
      "6 12 18 24 30 36 42 48 54 \n",
      "7 14 21 28 35 42 49 56 63 \n",
      "8 16 24 32 40 48 56 64 72 \n",
      "\n"
     ]
    }
   ],
   "source": [
    "with open(\"gugu.txt\", \"r\") as f:\n",
    "    data = f.read()\n",
    "    print(data)"
   ]
  },
  {
   "cell_type": "markdown",
   "id": "a7b9004d-8a1a-4639-bdcc-9d288b5dc183",
   "metadata": {},
   "source": [
    "# 수업"
   ]
  },
  {
   "cell_type": "markdown",
   "id": "8cf298fd-621e-4632-8e59-c9cbe8f5092f",
   "metadata": {},
   "source": [
    "## 클래스 변수"
   ]
  },
  {
   "cell_type": "code",
   "execution_count": 35,
   "id": "1549f2aa-cfda-4136-b18f-05bf2e610d95",
   "metadata": {},
   "outputs": [],
   "source": [
    "name = \"장길산\" ### 전역 변수\n",
    "\n",
    "class Family:\n",
    "    lastname = \"박\"  ### 클래스 변수, 클래스 변수는 인스턴스들이 공유한다.\n",
    "    \n",
    "    def __init__(self, name):\n",
    "        self.name = name  ### 인스턴스 변수, 지역 변수\n",
    "        \n",
    "    def show_name(self):\n",
    "        print(name)\n",
    "        print(Family.lastname)\n",
    "        print(self.lastname)\n",
    "        print(self.name)"
   ]
  },
  {
   "cell_type": "code",
   "execution_count": 18,
   "id": "2efd7064-be25-4c97-bf0f-18484b7554df",
   "metadata": {},
   "outputs": [],
   "source": [
    "가족1 = Family(\"길동\")"
   ]
  },
  {
   "cell_type": "code",
   "execution_count": 19,
   "id": "07acdca8-1627-4d39-a566-0230e4d8d8db",
   "metadata": {},
   "outputs": [
    {
     "data": {
      "text/plain": [
       "'길동'"
      ]
     },
     "execution_count": 19,
     "metadata": {},
     "output_type": "execute_result"
    }
   ],
   "source": [
    "가족1.name"
   ]
  },
  {
   "cell_type": "code",
   "execution_count": 20,
   "id": "362e65b7-bc55-446d-8b9e-6f1153e04c63",
   "metadata": {},
   "outputs": [
    {
     "data": {
      "text/plain": [
       "'박'"
      ]
     },
     "execution_count": 20,
     "metadata": {},
     "output_type": "execute_result"
    }
   ],
   "source": [
    "가족1.lastname"
   ]
  },
  {
   "cell_type": "code",
   "execution_count": 21,
   "id": "0d4a09b9-1021-4f54-bba3-0417b4709e67",
   "metadata": {},
   "outputs": [
    {
     "data": {
      "text/plain": [
       "'박'"
      ]
     },
     "execution_count": 21,
     "metadata": {},
     "output_type": "execute_result"
    }
   ],
   "source": [
    "Family.lastname"
   ]
  },
  {
   "cell_type": "code",
   "execution_count": 22,
   "id": "69a07aa5-12d1-4479-aae0-4ce1842c4971",
   "metadata": {},
   "outputs": [],
   "source": [
    "가족2 = Family(\"우치\")"
   ]
  },
  {
   "cell_type": "code",
   "execution_count": 23,
   "id": "03842dca-45dc-442f-914e-3d478a00901a",
   "metadata": {},
   "outputs": [
    {
     "data": {
      "text/plain": [
       "'우치'"
      ]
     },
     "execution_count": 23,
     "metadata": {},
     "output_type": "execute_result"
    }
   ],
   "source": [
    "가족2.name"
   ]
  },
  {
   "cell_type": "code",
   "execution_count": 24,
   "id": "7b6a16a1-70cb-4ae4-a6f1-9f347d8d3454",
   "metadata": {},
   "outputs": [
    {
     "data": {
      "text/plain": [
       "2368140481184"
      ]
     },
     "execution_count": 24,
     "metadata": {},
     "output_type": "execute_result"
    }
   ],
   "source": [
    "id(가족1.lastname)"
   ]
  },
  {
   "cell_type": "code",
   "execution_count": 25,
   "id": "f81b0228-2adc-4e1a-a743-eb00e6d9360a",
   "metadata": {},
   "outputs": [
    {
     "data": {
      "text/plain": [
       "2368140481184"
      ]
     },
     "execution_count": 25,
     "metadata": {},
     "output_type": "execute_result"
    }
   ],
   "source": [
    "id(가족2.lastname)"
   ]
  },
  {
   "cell_type": "code",
   "execution_count": 33,
   "id": "b649de7d-b64c-44c1-92fa-05424efedafa",
   "metadata": {},
   "outputs": [
    {
     "name": "stdout",
     "output_type": "stream",
     "text": [
      "장길산\n",
      "박\n",
      "박\n",
      "길동\n"
     ]
    }
   ],
   "source": [
    "f1 = Family('길동')\n",
    "f1.show_name()"
   ]
  },
  {
   "cell_type": "code",
   "execution_count": 3,
   "id": "3d51090c-dd0b-4311-a033-d23049c76d9f",
   "metadata": {},
   "outputs": [
    {
     "name": "stdout",
     "output_type": "stream",
     "text": [
      "아이유\n",
      "손\n",
      "흥민\n"
     ]
    }
   ],
   "source": [
    "## 클래스 이름은 Person\n",
    "## 전역변수 name에 아이유\n",
    "## 클래스 변수는 손\n",
    "## 인스턴스 변수는 입력받아서 흥민\n",
    "## 3가지 변수 나타내시오\n",
    "\n",
    "name = \"아이유\"\n",
    "\n",
    "class Person:\n",
    "    c_name = \"손\"\n",
    "    \n",
    "    def __init__(self, i_name):\n",
    "        self.i_name = i_name\n",
    "        \n",
    "    def show_name(self):\n",
    "        print(name) \n",
    "    \n",
    "    def show_c_name(self):\n",
    "        print(Person.c_name)\n",
    "    \n",
    "    def show_i_name(self):\n",
    "        print(self.i_name)\n",
    "\n",
    "\n",
    "class_name = Person(\"흥민\")\n",
    "class_name.show_name()\n",
    "class_name.show_c_name()\n",
    "class_name.show_i_name()"
   ]
  },
  {
   "cell_type": "markdown",
   "id": "5ac123ef-c98d-4b5f-a4af-3eca5a7b32ce",
   "metadata": {},
   "source": [
    "## 상속 후 변수 추가"
   ]
  },
  {
   "cell_type": "code",
   "execution_count": 21,
   "id": "1f1a7b60-96d3-4212-b7f5-6a810f20f526",
   "metadata": {},
   "outputs": [],
   "source": [
    "class Person:\n",
    "    def __init__(self):\n",
    "        self.name = \"Lee\"\n",
    "        self.age = 25\n",
    "        \n",
    "class Korean(Person):\n",
    "    pass"
   ]
  },
  {
   "cell_type": "code",
   "execution_count": 10,
   "id": "4686a045-4c79-4ac2-8207-2c6f7b5596da",
   "metadata": {},
   "outputs": [
    {
     "data": {
      "text/plain": [
       "'Lee'"
      ]
     },
     "execution_count": 10,
     "metadata": {},
     "output_type": "execute_result"
    }
   ],
   "source": [
    "p1 = Person()\n",
    "p1.name"
   ]
  },
  {
   "cell_type": "code",
   "execution_count": 11,
   "id": "66f963fd-8fc2-4804-a167-7fd5f594b4df",
   "metadata": {},
   "outputs": [
    {
     "data": {
      "text/plain": [
       "'Lee'"
      ]
     },
     "execution_count": 11,
     "metadata": {},
     "output_type": "execute_result"
    }
   ],
   "source": [
    "k1 = Korean()\n",
    "k1.name"
   ]
  },
  {
   "cell_type": "code",
   "execution_count": 12,
   "id": "845bef78-c555-4881-87f0-aa176d5319a7",
   "metadata": {},
   "outputs": [
    {
     "name": "stdout",
     "output_type": "stream",
     "text": [
      "2286932113136\n",
      "2286932113136\n"
     ]
    }
   ],
   "source": [
    "print(id(p1.name))\n",
    "print(id(k1.name))"
   ]
  },
  {
   "cell_type": "code",
   "execution_count": 25,
   "id": "d30b5b19-acbb-42ea-9ed6-9b7a8d291404",
   "metadata": {},
   "outputs": [],
   "source": [
    "class Korean(Person):\n",
    "    def __init__(self):\n",
    "        self.lang = \"한국어\""
   ]
  },
  {
   "cell_type": "code",
   "execution_count": 13,
   "id": "a5f7b8e6-c065-4042-b2fd-2f1496abc00c",
   "metadata": {},
   "outputs": [
    {
     "ename": "AttributeError",
     "evalue": "type object 'Korean' has no attribute 'name'",
     "output_type": "error",
     "traceback": [
      "\u001b[1;31m---------------------------------------------------------------------------\u001b[0m",
      "\u001b[1;31mAttributeError\u001b[0m                            Traceback (most recent call last)",
      "Input \u001b[1;32mIn [13]\u001b[0m, in \u001b[0;36m<cell line: 2>\u001b[1;34m()\u001b[0m\n\u001b[0;32m      1\u001b[0m k1 \u001b[38;5;241m=\u001b[39m Korean\n\u001b[1;32m----> 2\u001b[0m \u001b[43mk1\u001b[49m\u001b[38;5;241;43m.\u001b[39;49m\u001b[43mname\u001b[49m\n",
      "\u001b[1;31mAttributeError\u001b[0m: type object 'Korean' has no attribute 'name'"
     ]
    }
   ],
   "source": [
    "k1 = Korean\n",
    "k1.name"
   ]
  },
  {
   "cell_type": "code",
   "execution_count": 22,
   "id": "52f8736a-5f0a-4a7c-8369-c16f5c79f98c",
   "metadata": {},
   "outputs": [],
   "source": [
    "class Korean(Person):\n",
    "    def __init__(self):\n",
    "        super().__init__()  ###부모 클래스의 init 실행\n",
    "        self.lang = \"한국어\""
   ]
  },
  {
   "cell_type": "code",
   "execution_count": 23,
   "id": "b6bd8036-bd00-41df-9e4b-1559061f92cf",
   "metadata": {},
   "outputs": [
    {
     "data": {
      "text/plain": [
       "'Lee'"
      ]
     },
     "execution_count": 23,
     "metadata": {},
     "output_type": "execute_result"
    }
   ],
   "source": [
    "k2 = Korean()\n",
    "k2.name"
   ]
  },
  {
   "cell_type": "code",
   "execution_count": 30,
   "id": "4845a729-3d33-46f2-b958-629df5480e29",
   "metadata": {},
   "outputs": [
    {
     "data": {
      "text/plain": [
       "'English'"
      ]
     },
     "execution_count": 30,
     "metadata": {},
     "output_type": "execute_result"
    }
   ],
   "source": [
    "### American class만들고 language는 English\n",
    "class American(Person):\n",
    "    def __init__(self):\n",
    "        super().__init__()\n",
    "        self.lang = \"English\"\n",
    "        \n",
    "a1 = American()\n",
    "a1.lang "
   ]
  },
  {
   "cell_type": "markdown",
   "id": "fcf8b0df-8595-408a-a1fd-1ed4fbc24b38",
   "metadata": {},
   "source": [
    "- 부모 클래스에서 인자로 입력받는 것이 있을 때\n",
    "- 자식 클래스에서도 부모 클래스 인자를 입력해줘야 함"
   ]
  },
  {
   "cell_type": "code",
   "execution_count": 57,
   "id": "1c2a04b9-ab7b-4a0c-8c56-ff8c446eb88c",
   "metadata": {},
   "outputs": [],
   "source": [
    "class Person:\n",
    "    def __init__(self, name, age):\n",
    "        self.name = name\n",
    "        self.age = age\n",
    "        \n",
    "class Korean(Person):\n",
    "    ### def __init__(self):\n",
    "    def __init__(self, name, age):\n",
    "        super().__init__(name, age)\n",
    "        self.lang = \"한국어\""
   ]
  },
  {
   "cell_type": "code",
   "execution_count": 58,
   "id": "c0ce32f3-53f7-4c2a-8c0a-8fbcc3b9d869",
   "metadata": {},
   "outputs": [],
   "source": [
    "k1 = Korean(\"홍길동\", 22)"
   ]
  },
  {
   "cell_type": "code",
   "execution_count": 59,
   "id": "7970f26b-0359-46f7-ae83-2d89d9eecfca",
   "metadata": {},
   "outputs": [
    {
     "data": {
      "text/plain": [
       "'한국어'"
      ]
     },
     "execution_count": 59,
     "metadata": {},
     "output_type": "execute_result"
    }
   ],
   "source": [
    "k1.lang"
   ]
  },
  {
   "cell_type": "code",
   "execution_count": 60,
   "id": "4920432a-17fc-4272-8fc4-d01f3b07eebf",
   "metadata": {},
   "outputs": [
    {
     "data": {
      "text/plain": [
       "'홍길동'"
      ]
     },
     "execution_count": 60,
     "metadata": {},
     "output_type": "execute_result"
    }
   ],
   "source": [
    "k1.name"
   ]
  },
  {
   "cell_type": "markdown",
   "id": "a6785279-20bb-4010-8769-01545a12921b",
   "metadata": {},
   "source": [
    "- 자식 클래스에서도 인자를 입력받는 경우"
   ]
  },
  {
   "cell_type": "code",
   "execution_count": 34,
   "id": "9fe2b946-2a5b-4852-ba8c-d0bcec64f3a5",
   "metadata": {},
   "outputs": [],
   "source": [
    "class Person:\n",
    "    def __init__(self, name, age):\n",
    "        self.name = name\n",
    "        self.age = age\n",
    "\n",
    "class Korean(Person):\n",
    "    def __init__(self, lang, name, age):  ### 모든 변수를 다 써준다.\n",
    "        super().__init__(name, age)\n",
    "        self.lang = \"한국어\""
   ]
  },
  {
   "cell_type": "code",
   "execution_count": 37,
   "id": "68df95f7-295d-450c-87bd-3ea1195f25a9",
   "metadata": {},
   "outputs": [],
   "source": [
    "k1 = Korean(\"한국어\", \"홍길동\", 22)"
   ]
  },
  {
   "cell_type": "code",
   "execution_count": 38,
   "id": "99589c2b-2f93-4d90-9a5b-c5fe5e6b600b",
   "metadata": {},
   "outputs": [
    {
     "data": {
      "text/plain": [
       "'한국어'"
      ]
     },
     "execution_count": 38,
     "metadata": {},
     "output_type": "execute_result"
    }
   ],
   "source": [
    "k1.lang"
   ]
  },
  {
   "cell_type": "markdown",
   "id": "b3832776-b9b4-4e30-9c84-232ca2bbed08",
   "metadata": {},
   "source": [
    "## 모듈\n",
    "- 함수나 변수 또는 클래스를 모아 놓은 파일임\n",
    "- .py로 끝남\n",
    "- 교재 참조(207p)"
   ]
  },
  {
   "cell_type": "markdown",
   "id": "49463c9e-0f6f-46a4-b511-908d691a4765",
   "metadata": {},
   "source": [
    "## 패키지"
   ]
  },
  {
   "cell_type": "markdown",
   "id": "96971320-0b4d-4ff6-93d1-e21de8974d65",
   "metadata": {},
   "source": [
    "- double underscore --> dunder"
   ]
  },
  {
   "cell_type": "code",
   "execution_count": 39,
   "id": "559fa1cd-08e7-4c3c-9b6b-eb8a8cf41a2e",
   "metadata": {},
   "outputs": [
    {
     "data": {
      "text/plain": [
       "'C:\\\\Users\\\\admin'"
      ]
     },
     "execution_count": 39,
     "metadata": {},
     "output_type": "execute_result"
    }
   ],
   "source": [
    "import os\n",
    "os.getcwd()"
   ]
  },
  {
   "cell_type": "code",
   "execution_count": 40,
   "id": "ce71a2b2-d74c-4a62-a4f9-4d8f109ba573",
   "metadata": {},
   "outputs": [],
   "source": [
    "os.mkdir(\"abc\")"
   ]
  },
  {
   "cell_type": "code",
   "execution_count": 41,
   "id": "eca248af-7047-4220-a0f4-c67fe4f4b16c",
   "metadata": {},
   "outputs": [],
   "source": [
    "os.mkdir(\"abc/a\")"
   ]
  },
  {
   "cell_type": "code",
   "execution_count": 42,
   "id": "b05761e8-2a20-40ca-8f25-c5688f3465fb",
   "metadata": {},
   "outputs": [],
   "source": [
    "os.mkdir(\"abc/b\")"
   ]
  },
  {
   "cell_type": "code",
   "execution_count": 43,
   "id": "cbcbdc6f-d51d-4744-8a02-f4574632c181",
   "metadata": {},
   "outputs": [],
   "source": [
    "os.mkdir(\"abc/c\")"
   ]
  },
  {
   "cell_type": "code",
   "execution_count": 4,
   "id": "4f1e25eb-ddb4-4667-9ebc-de5d8555f10e",
   "metadata": {},
   "outputs": [],
   "source": [
    "import sys\n",
    "sys.path.append(\"C:\\\\Users\\\\admin\\\\abc\\\\a\")"
   ]
  },
  {
   "cell_type": "code",
   "execution_count": 5,
   "id": "c69dd73c-37f3-4c32-94d5-9484286676f3",
   "metadata": {},
   "outputs": [
    {
     "data": {
      "text/plain": [
       "['C:\\\\Users\\\\admin',\n",
       " 'C:\\\\Users\\\\admin\\\\AppData\\\\Local\\\\Programs\\\\Python\\\\Python310\\\\python310.zip',\n",
       " 'C:\\\\Users\\\\admin\\\\AppData\\\\Local\\\\Programs\\\\Python\\\\Python310\\\\DLLs',\n",
       " 'C:\\\\Users\\\\admin\\\\AppData\\\\Local\\\\Programs\\\\Python\\\\Python310\\\\lib',\n",
       " 'C:\\\\Users\\\\admin\\\\AppData\\\\Local\\\\Programs\\\\Python\\\\Python310',\n",
       " '',\n",
       " 'C:\\\\Users\\\\admin\\\\AppData\\\\Local\\\\Programs\\\\Python\\\\Python310\\\\lib\\\\site-packages',\n",
       " 'C:\\\\Users\\\\admin\\\\AppData\\\\Local\\\\Programs\\\\Python\\\\Python310\\\\lib\\\\site-packages\\\\win32',\n",
       " 'C:\\\\Users\\\\admin\\\\AppData\\\\Local\\\\Programs\\\\Python\\\\Python310\\\\lib\\\\site-packages\\\\win32\\\\lib',\n",
       " 'C:\\\\Users\\\\admin\\\\AppData\\\\Local\\\\Programs\\\\Python\\\\Python310\\\\lib\\\\site-packages\\\\Pythonwin',\n",
       " 'C:/Users/admin/abc/a',\n",
       " 'C:\\\\Users\\\\admin\\\\abc\\\\a']"
      ]
     },
     "execution_count": 5,
     "metadata": {},
     "output_type": "execute_result"
    }
   ],
   "source": [
    "sys.path"
   ]
  },
  {
   "cell_type": "markdown",
   "id": "eae579a4-9ecb-480a-b77a-1029ac1879c1",
   "metadata": {},
   "source": [
    "## 예외 처리\n",
    "- except, exception"
   ]
  },
  {
   "cell_type": "code",
   "execution_count": 7,
   "id": "bae58812-13d3-4efc-ba48-28cc3b6de382",
   "metadata": {},
   "outputs": [
    {
     "name": "stdout",
     "output_type": "stream",
     "text": [
      "Hello\n",
      "Good\n"
     ]
    },
    {
     "ename": "IndexError",
     "evalue": "list index out of range",
     "output_type": "error",
     "traceback": [
      "\u001b[1;31m---------------------------------------------------------------------------\u001b[0m",
      "\u001b[1;31mIndexError\u001b[0m                                Traceback (most recent call last)",
      "Input \u001b[1;32mIn [7]\u001b[0m, in \u001b[0;36m<cell line: 3>\u001b[1;34m()\u001b[0m\n\u001b[0;32m      1\u001b[0m a \u001b[38;5;241m=\u001b[39m [\u001b[38;5;124m\"\u001b[39m\u001b[38;5;124mHello\u001b[39m\u001b[38;5;124m\"\u001b[39m, \u001b[38;5;124m\"\u001b[39m\u001b[38;5;124mGood\u001b[39m\u001b[38;5;124m\"\u001b[39m]\n\u001b[0;32m      3\u001b[0m \u001b[38;5;28;01mfor\u001b[39;00m i \u001b[38;5;129;01min\u001b[39;00m \u001b[38;5;28mrange\u001b[39m(\u001b[38;5;241m3\u001b[39m):\n\u001b[1;32m----> 4\u001b[0m     \u001b[38;5;28mprint\u001b[39m(\u001b[43ma\u001b[49m\u001b[43m[\u001b[49m\u001b[43mi\u001b[49m\u001b[43m]\u001b[49m)\n",
      "\u001b[1;31mIndexError\u001b[0m: list index out of range"
     ]
    }
   ],
   "source": [
    "a = [\"Hello\", \"Good\"]\n",
    "\n",
    "for i in range(3):\n",
    "    print(a[i])"
   ]
  },
  {
   "cell_type": "code",
   "execution_count": 8,
   "id": "2a44a64b-b946-4ffe-8419-04ceaaf9f95e",
   "metadata": {},
   "outputs": [
    {
     "name": "stdout",
     "output_type": "stream",
     "text": [
      "Hello\n",
      "Good\n",
      "에러입니다.\n"
     ]
    }
   ],
   "source": [
    "a = [\"Hello\", \"Good\"]\n",
    "try:\n",
    "    for i in range(3):\n",
    "        print(a[i])\n",
    "except:\n",
    "    print(\"에러입니다.\")"
   ]
  },
  {
   "cell_type": "code",
   "execution_count": 9,
   "id": "3c430e10-5ab1-4b0e-be81-d7072f9eb09f",
   "metadata": {},
   "outputs": [
    {
     "name": "stdout",
     "output_type": "stream",
     "text": [
      "2.0\n"
     ]
    },
    {
     "ename": "ZeroDivisionError",
     "evalue": "division by zero",
     "output_type": "error",
     "traceback": [
      "\u001b[1;31m---------------------------------------------------------------------------\u001b[0m",
      "\u001b[1;31mZeroDivisionError\u001b[0m                         Traceback (most recent call last)",
      "Input \u001b[1;32mIn [9]\u001b[0m, in \u001b[0;36m<cell line: 2>\u001b[1;34m()\u001b[0m\n\u001b[0;32m      1\u001b[0m \u001b[38;5;28mprint\u001b[39m(\u001b[38;5;241m4\u001b[39m\u001b[38;5;241m/\u001b[39m\u001b[38;5;241m2\u001b[39m)\n\u001b[1;32m----> 2\u001b[0m \u001b[38;5;28mprint\u001b[39m(\u001b[38;5;241;43m4\u001b[39;49m\u001b[38;5;241;43m/\u001b[39;49m\u001b[38;5;241;43m0\u001b[39;49m)\n",
      "\u001b[1;31mZeroDivisionError\u001b[0m: division by zero"
     ]
    }
   ],
   "source": [
    "print(4/2)\n",
    "print(4/0)"
   ]
  },
  {
   "cell_type": "code",
   "execution_count": 11,
   "id": "28c552d2-6c10-43f1-b471-65c3a600e810",
   "metadata": {},
   "outputs": [
    {
     "name": "stdout",
     "output_type": "stream",
     "text": [
      "2.0\n",
      "division by zero\n",
      "에러입니다\n"
     ]
    }
   ],
   "source": [
    "try:\n",
    "    print(4/2)\n",
    "    print(4/0)\n",
    "except ZeroDivisionError as e:\n",
    "    print(e)\n",
    "    print(\"에러입니다\")"
   ]
  },
  {
   "cell_type": "markdown",
   "id": "45645d92-b549-4d16-8a70-cdd5bf1a9d05",
   "metadata": {},
   "source": [
    "### 예외 처리 연습"
   ]
  },
  {
   "cell_type": "code",
   "execution_count": null,
   "id": "b7c6dd1b-5ed4-458a-9c8c-d2c2a0348400",
   "metadata": {},
   "outputs": [],
   "source": [
    "a = [\"Hello\", \"Good\"]\n",
    "\n",
    "for i in range(3):\n",
    "    print(a[i])"
   ]
  },
  {
   "cell_type": "markdown",
   "id": "f3f02f6c-8018-44aa-8218-94daf0a2fffa",
   "metadata": {},
   "source": [
    "- 일반적인 에러 처리"
   ]
  },
  {
   "cell_type": "code",
   "execution_count": 15,
   "id": "ce52c4a7-60fb-44c5-a506-e444e27684e1",
   "metadata": {},
   "outputs": [
    {
     "name": "stdout",
     "output_type": "stream",
     "text": [
      "Hello\n",
      "Good\n",
      "Index Error\n"
     ]
    }
   ],
   "source": [
    "a = [\"Hello\", \"Good\"]\n",
    "\n",
    "try:\n",
    "    for i in range(3):\n",
    "        print(a[i])\n",
    "        \n",
    "except:\n",
    "    print(\"Index Error\")"
   ]
  },
  {
   "cell_type": "markdown",
   "id": "1df92d41-68d5-4442-b7e7-541f1aa402f8",
   "metadata": {},
   "source": [
    "- 에러의 종류에 맞는 에러처리\n"
   ]
  },
  {
   "cell_type": "code",
   "execution_count": 16,
   "id": "9e070a10-6384-4b73-aa4b-23c338c58c20",
   "metadata": {},
   "outputs": [
    {
     "name": "stdout",
     "output_type": "stream",
     "text": [
      "Hello\n",
      "Good\n",
      "list index out of range\n"
     ]
    }
   ],
   "source": [
    "a = [\"Hello\", \"Good\"]\n",
    "\n",
    "try:\n",
    "    for i in range(3):\n",
    "        print(a[i])\n",
    "        \n",
    "except IndexError as e:\n",
    "        print(e)"
   ]
  },
  {
   "cell_type": "markdown",
   "id": "1c7b4125-3247-4351-a238-7f6d17f09752",
   "metadata": {},
   "source": [
    "## 내장 함수"
   ]
  },
  {
   "cell_type": "code",
   "execution_count": 17,
   "id": "e15cf1de-a40c-441d-8684-228178cc5a71",
   "metadata": {},
   "outputs": [],
   "source": [
    "a = \"Hello\""
   ]
  },
  {
   "cell_type": "code",
   "execution_count": 19,
   "id": "7d67736b-126a-4138-af9e-3b2be42359fb",
   "metadata": {},
   "outputs": [
    {
     "data": {
      "text/plain": [
       "['__add__',\n",
       " '__class__',\n",
       " '__contains__',\n",
       " '__delattr__',\n",
       " '__dir__',\n",
       " '__doc__',\n",
       " '__eq__',\n",
       " '__format__',\n",
       " '__ge__',\n",
       " '__getattribute__',\n",
       " '__getitem__',\n",
       " '__getnewargs__',\n",
       " '__gt__',\n",
       " '__hash__',\n",
       " '__init__',\n",
       " '__init_subclass__',\n",
       " '__iter__',\n",
       " '__le__',\n",
       " '__len__',\n",
       " '__lt__',\n",
       " '__mod__',\n",
       " '__mul__',\n",
       " '__ne__',\n",
       " '__new__',\n",
       " '__reduce__',\n",
       " '__reduce_ex__',\n",
       " '__repr__',\n",
       " '__rmod__',\n",
       " '__rmul__',\n",
       " '__setattr__',\n",
       " '__sizeof__',\n",
       " '__str__',\n",
       " '__subclasshook__',\n",
       " 'capitalize',\n",
       " 'casefold',\n",
       " 'center',\n",
       " 'count',\n",
       " 'encode',\n",
       " 'endswith',\n",
       " 'expandtabs',\n",
       " 'find',\n",
       " 'format',\n",
       " 'format_map',\n",
       " 'index',\n",
       " 'isalnum',\n",
       " 'isalpha',\n",
       " 'isascii',\n",
       " 'isdecimal',\n",
       " 'isdigit',\n",
       " 'isidentifier',\n",
       " 'islower',\n",
       " 'isnumeric',\n",
       " 'isprintable',\n",
       " 'isspace',\n",
       " 'istitle',\n",
       " 'isupper',\n",
       " 'join',\n",
       " 'ljust',\n",
       " 'lower',\n",
       " 'lstrip',\n",
       " 'maketrans',\n",
       " 'partition',\n",
       " 'removeprefix',\n",
       " 'removesuffix',\n",
       " 'replace',\n",
       " 'rfind',\n",
       " 'rindex',\n",
       " 'rjust',\n",
       " 'rpartition',\n",
       " 'rsplit',\n",
       " 'rstrip',\n",
       " 'split',\n",
       " 'splitlines',\n",
       " 'startswith',\n",
       " 'strip',\n",
       " 'swapcase',\n",
       " 'title',\n",
       " 'translate',\n",
       " 'upper',\n",
       " 'zfill']"
      ]
     },
     "execution_count": 19,
     "metadata": {},
     "output_type": "execute_result"
    }
   ],
   "source": [
    "dir(a)"
   ]
  },
  {
   "cell_type": "code",
   "execution_count": 20,
   "id": "27515f06-f990-40d5-963a-0e572631b688",
   "metadata": {},
   "outputs": [
    {
     "data": {
      "text/plain": [
       "5"
      ]
     },
     "execution_count": 20,
     "metadata": {},
     "output_type": "execute_result"
    }
   ],
   "source": [
    "len(a)"
   ]
  },
  {
   "cell_type": "code",
   "execution_count": 22,
   "id": "a0b3d77f-8733-494e-85c9-9583de24792f",
   "metadata": {},
   "outputs": [
    {
     "name": "stdout",
     "output_type": "stream",
     "text": [
      "a\n",
      "b\n",
      "c\n"
     ]
    }
   ],
   "source": [
    "a = [\"a\", \"b\", \"c\"]\n",
    "\n",
    "for i in a:\n",
    "    print(i)"
   ]
  },
  {
   "cell_type": "code",
   "execution_count": 24,
   "id": "ce3633ee-f1cc-455f-8d70-cecbb938d741",
   "metadata": {},
   "outputs": [
    {
     "name": "stdout",
     "output_type": "stream",
     "text": [
      "0 a\n",
      "1 b\n",
      "2 c\n"
     ]
    }
   ],
   "source": [
    "### index도 같이 나타내고싶을 때\n",
    "for i, j in enumerate(a):\n",
    "    print(i, j)"
   ]
  },
  {
   "cell_type": "code",
   "execution_count": 25,
   "id": "55f4fd4c-2884-4000-b81b-3648f91c78da",
   "metadata": {},
   "outputs": [],
   "source": [
    "d = {\"a\": 0, \"b\":1, \"c\": 2}"
   ]
  },
  {
   "cell_type": "code",
   "execution_count": 26,
   "id": "b45c8c72-b15a-4179-b7f6-02795d0eb2d2",
   "metadata": {},
   "outputs": [
    {
     "data": {
      "text/plain": [
       "{'a': 0, 'b': 1, 'c': 2}"
      ]
     },
     "execution_count": 26,
     "metadata": {},
     "output_type": "execute_result"
    }
   ],
   "source": [
    "d"
   ]
  },
  {
   "cell_type": "code",
   "execution_count": 28,
   "id": "a7cca23a-e510-4511-bcac-3639a08bfa0d",
   "metadata": {},
   "outputs": [
    {
     "name": "stdout",
     "output_type": "stream",
     "text": [
      "{'a': 0, 'b': 1, 'c': 2}\n"
     ]
    }
   ],
   "source": [
    "### a = [\"a\", \"b\", \"c\"]일 때\n",
    "### 위의 d와 같은 딕셔너리 c를 만들어라(enumerate 사용)\n",
    "\n",
    "c = {}\n",
    "for i, j in enumerate(a):\n",
    "    c[j] = i\n",
    "print(c) "
   ]
  },
  {
   "cell_type": "code",
   "execution_count": 35,
   "id": "bf33f9a8-e3c4-4fa3-a44f-f276c3bcc7d1",
   "metadata": {},
   "outputs": [
    {
     "data": {
      "text/plain": [
       "<filter at 0x1a71cf7e7d0>"
      ]
     },
     "execution_count": 35,
     "metadata": {},
     "output_type": "execute_result"
    }
   ],
   "source": [
    "def positive(a):\n",
    "    return a > 0\n",
    "\n",
    "positive(-2)"
   ]
  },
  {
   "cell_type": "code",
   "execution_count": 37,
   "id": "be48fa85-3edf-44c0-baf8-f8bdec0a69f6",
   "metadata": {},
   "outputs": [
    {
     "data": {
      "text/plain": [
       "[1, 2, 6]"
      ]
     },
     "execution_count": 37,
     "metadata": {},
     "output_type": "execute_result"
    }
   ],
   "source": [
    "a = [1, -3, 2, 0, -5, 6]\n",
    "list(filter(positive, a))"
   ]
  },
  {
   "cell_type": "markdown",
   "id": "1cb35ca2-d6e4-4bb5-a2c1-72fcc1057331",
   "metadata": {},
   "source": [
    "### Filter\n",
    "- filter(함수이름, 자료)\n",
    "- 들어가는 함수는 참.거짓을 return 값으로 가짐\n",
    "- 자료 안의 원소 하나하나에 대하여 함수를 적용시켜주는 함수 = map"
   ]
  },
  {
   "cell_type": "markdown",
   "id": "00a66c0e-063a-4c66-b949-c33b78558c73",
   "metadata": {},
   "source": [
    "### lambda 함수 사용(자주 사용됨)"
   ]
  },
  {
   "cell_type": "code",
   "execution_count": 39,
   "id": "13232736-cde0-4790-b630-a29870c92ddb",
   "metadata": {},
   "outputs": [
    {
     "data": {
      "text/plain": [
       "[1, 2, 6]"
      ]
     },
     "execution_count": 39,
     "metadata": {},
     "output_type": "execute_result"
    }
   ],
   "source": [
    "a = [1, -3, 2, 0, -5, 6]\n",
    "list(filter(lambda a: a>0, a))"
   ]
  },
  {
   "cell_type": "markdown",
   "id": "0902034e-7efc-4517-8aa6-0bd8d2cd6ac2",
   "metadata": {},
   "source": [
    "## Numpy 사용(filter 기능)"
   ]
  },
  {
   "cell_type": "code",
   "execution_count": 40,
   "id": "7a88c615-4a82-4f0f-abb4-81a77832312a",
   "metadata": {},
   "outputs": [
    {
     "data": {
      "text/plain": [
       "array([ 1, -3,  2,  0, -5,  6])"
      ]
     },
     "execution_count": 40,
     "metadata": {},
     "output_type": "execute_result"
    }
   ],
   "source": [
    "import numpy as np\n",
    "\n",
    "a = [1, -3, 2, 0, -5, 6]\n",
    "a = np.array([1, -3, 2, 0, -5, 6])\n",
    "a"
   ]
  },
  {
   "cell_type": "code",
   "execution_count": 41,
   "id": "dd6bdd14-46d5-41aa-aaf7-6f59748bad9e",
   "metadata": {},
   "outputs": [
    {
     "data": {
      "text/plain": [
       "array([ True, False,  True, False, False,  True])"
      ]
     },
     "execution_count": 41,
     "metadata": {},
     "output_type": "execute_result"
    }
   ],
   "source": [
    "a > 0"
   ]
  },
  {
   "cell_type": "code",
   "execution_count": 42,
   "id": "974908a6-0cd8-4101-84b2-f293b2d2ccc3",
   "metadata": {},
   "outputs": [
    {
     "data": {
      "text/plain": [
       "array([1, 2, 6])"
      ]
     },
     "execution_count": 42,
     "metadata": {},
     "output_type": "execute_result"
    }
   ],
   "source": [
    "a[a > 0]"
   ]
  },
  {
   "cell_type": "code",
   "execution_count": null,
   "id": "3016bb2a-0c18-4705-8c69-030ed9b6e3c3",
   "metadata": {},
   "outputs": [],
   "source": []
  }
 ],
 "metadata": {
  "kernelspec": {
   "display_name": "Python 3 (ipykernel)",
   "language": "python",
   "name": "python3"
  },
  "language_info": {
   "codemirror_mode": {
    "name": "ipython",
    "version": 3
   },
   "file_extension": ".py",
   "mimetype": "text/x-python",
   "name": "python",
   "nbconvert_exporter": "python",
   "pygments_lexer": "ipython3",
   "version": "3.10.6"
  }
 },
 "nbformat": 4,
 "nbformat_minor": 5
}
