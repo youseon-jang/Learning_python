{
  "nbformat": 4,
  "nbformat_minor": 0,
  "metadata": {
    "colab": {
      "provenance": [],
      "collapsed_sections": [],
      "toc_visible": true,
      "authorship_tag": "ABX9TyPYIrvOslfiDjuedp5Jp85z",
      "include_colab_link": true
    },
    "kernelspec": {
      "name": "python3",
      "display_name": "Python 3"
    },
    "language_info": {
      "name": "python"
    }
  },
  "cells": [
    {
      "cell_type": "markdown",
      "metadata": {
        "id": "view-in-github",
        "colab_type": "text"
      },
      "source": [
        "<a href=\"https://colab.research.google.com/github/youseon-jang/python/blob/main/NumPy_summary.ipynb\" target=\"_parent\"><img src=\"https://colab.research.google.com/assets/colab-badge.svg\" alt=\"Open In Colab\"/></a>"
      ]
    },
    {
      "cell_type": "markdown",
      "source": [
        "# NumPy\n",
        "- 효율적인 다차원 배열인 ndarray는 빠른 배열 계산과 유연한 브로드캐스팅 기능을 제공\n",
        "- 반복문 작성 필요없이 전체 데이터 배열을 빠르게 계산할 수 있는 표준 수학 함수\n",
        "- 배열 데이터를 디스크에 쓰거나 읽을 수 있는 도구와 메모리에 적재된 파일을 다루는 도구\n",
        "- 선형대수, 난수 생성기, 푸리에 변환 가능\n",
        "- C, C++, 포트란으로 작성한 코드를 연결할 수 있는 C API"
      ],
      "metadata": {
        "id": "HVj43rhu5HmL"
      }
    },
    {
      "cell_type": "code",
      "execution_count": null,
      "metadata": {
        "colab": {
          "base_uri": "https://localhost:8080/"
        },
        "id": "gjhHhJrU49W3",
        "outputId": "da733a43-26bc-4e67-fdaf-ea6a55679fdb"
      },
      "outputs": [
        {
          "output_type": "stream",
          "name": "stdout",
          "text": [
            "CPU times: user 20.5 ms, sys: 7.96 ms, total: 28.4 ms\n",
            "Wall time: 33.9 ms\n",
            "CPU times: user 863 ms, sys: 241 ms, total: 1.1 s\n",
            "Wall time: 1.11 s\n"
          ]
        }
      ],
      "source": [
        "import numpy as np\n",
        "\n",
        "my_arr = np.arange(1000000)\n",
        "\n",
        "my_list = list(range(1000000))\n",
        "\n",
        "%time for _ in range(10) : my_arr2 = my_arr * 2\n",
        "\n",
        "%time for _ in range(10) : my_list2 = [x*2 for x in my_list]"
      ]
    },
    {
      "cell_type": "markdown",
      "source": [
        "- NumPy를 사용한 코드가 순수 파이썬으로 작성한 코드보다 더 빠르고 메모리도 적게 사용함"
      ],
      "metadata": {
        "id": "lSH4fetd6MGT"
      }
    },
    {
      "cell_type": "markdown",
      "source": [
        "## 1. NumPy ndarray :  다차원 배열 객체\n",
        "\n",
        "- ndarray : N차원 배열 객체"
      ],
      "metadata": {
        "id": "h6IijZVm6VGi"
      }
    },
    {
      "cell_type": "code",
      "source": [
        "data = np.random.randn(2, 3)  ## random.randn을 2행 3열의 형태로 나타냄\n",
        "\n",
        "data"
      ],
      "metadata": {
        "colab": {
          "base_uri": "https://localhost:8080/"
        },
        "id": "HD6FeJjC5HLT",
        "outputId": "f7860470-3d28-4da2-ff2c-a172b27655e8"
      },
      "execution_count": null,
      "outputs": [
        {
          "output_type": "execute_result",
          "data": {
            "text/plain": [
              "array([[-1.38935694,  1.14307215, -1.63195967],\n",
              "       [ 0.32509854, -1.00474132, -1.66846369]])"
            ]
          },
          "metadata": {},
          "execution_count": 4
        }
      ]
    },
    {
      "cell_type": "code",
      "source": [
        "data * 10"
      ],
      "metadata": {
        "colab": {
          "base_uri": "https://localhost:8080/"
        },
        "id": "epGgK5h46msq",
        "outputId": "43550cce-aa9e-4197-e619-73b1758e0360"
      },
      "execution_count": null,
      "outputs": [
        {
          "output_type": "execute_result",
          "data": {
            "text/plain": [
              "array([[-13.89356938,  11.43072151, -16.31959667],\n",
              "       [  3.25098538, -10.04741323, -16.68463688]])"
            ]
          },
          "metadata": {},
          "execution_count": 5
        }
      ]
    },
    {
      "cell_type": "code",
      "source": [
        "data + data"
      ],
      "metadata": {
        "colab": {
          "base_uri": "https://localhost:8080/"
        },
        "id": "Y5CZs4NN6xRi",
        "outputId": "6e7bf75c-f978-4e0d-b21e-6f72e5b84a27"
      },
      "execution_count": null,
      "outputs": [
        {
          "output_type": "execute_result",
          "data": {
            "text/plain": [
              "array([[-2.77871388,  2.2861443 , -3.26391933],\n",
              "       [ 0.65019708, -2.00948265, -3.33692738]])"
            ]
          },
          "metadata": {},
          "execution_count": 6
        }
      ]
    },
    {
      "cell_type": "code",
      "source": [
        "data.shape   ## 각 차원의 크기를 알려줌"
      ],
      "metadata": {
        "colab": {
          "base_uri": "https://localhost:8080/"
        },
        "id": "12_3wCI16ybK",
        "outputId": "6b02e3bf-7120-4041-820a-cc8c8b90e831"
      },
      "execution_count": null,
      "outputs": [
        {
          "output_type": "execute_result",
          "data": {
            "text/plain": [
              "(2, 3)"
            ]
          },
          "metadata": {},
          "execution_count": 9
        }
      ]
    },
    {
      "cell_type": "code",
      "source": [
        "data.dtype   ## 튜플과 배열에 저장된 자료형을 알려줌"
      ],
      "metadata": {
        "colab": {
          "base_uri": "https://localhost:8080/"
        },
        "id": "UDOhDZDP64Xp",
        "outputId": "5e75c303-9ded-4505-acdb-cff608947bd1"
      },
      "execution_count": null,
      "outputs": [
        {
          "output_type": "execute_result",
          "data": {
            "text/plain": [
              "dtype('float64')"
            ]
          },
          "metadata": {},
          "execution_count": 10
        }
      ]
    },
    {
      "cell_type": "markdown",
      "source": [
        "### **ndarray 생성하기**\n"
      ],
      "metadata": {
        "id": "fUkmWqui7KTz"
      }
    },
    {
      "cell_type": "code",
      "source": [
        "data1 = [6, 7.5, 8, 0, 1]\n",
        "\n",
        "arr1 = np.array(data1)\n",
        "\n",
        "arr1"
      ],
      "metadata": {
        "colab": {
          "base_uri": "https://localhost:8080/"
        },
        "id": "IdiiB4H166AS",
        "outputId": "6c672d22-4dc2-4954-dc9a-756ee217b606"
      },
      "execution_count": null,
      "outputs": [
        {
          "output_type": "execute_result",
          "data": {
            "text/plain": [
              "array([6. , 7.5, 8. , 0. , 1. ])"
            ]
          },
          "metadata": {},
          "execution_count": 11
        }
      ]
    },
    {
      "cell_type": "code",
      "source": [
        "data2 = [[1, 2, 3, 4], [5, 6, 7, 8]]\n",
        "\n",
        "arr2 = np.array(data2)\n",
        "\n",
        "arr2"
      ],
      "metadata": {
        "colab": {
          "base_uri": "https://localhost:8080/"
        },
        "id": "3cKoLCd87gQy",
        "outputId": "f8e0a81a-5c18-469b-f125-981f9acf45dc"
      },
      "execution_count": null,
      "outputs": [
        {
          "output_type": "execute_result",
          "data": {
            "text/plain": [
              "array([[1, 2, 3, 4],\n",
              "       [5, 6, 7, 8]])"
            ]
          },
          "metadata": {},
          "execution_count": 12
        }
      ]
    },
    {
      "cell_type": "markdown",
      "source": [
        "- ndim과 shape로 속성을 검사할 수 있음"
      ],
      "metadata": {
        "id": "L5ERk-EE79jM"
      }
    },
    {
      "cell_type": "code",
      "source": [
        "arr2.ndim"
      ],
      "metadata": {
        "colab": {
          "base_uri": "https://localhost:8080/"
        },
        "id": "ce9YlztA7nqq",
        "outputId": "d54aa34d-1a96-40a5-b4e4-d00a52de0c3e"
      },
      "execution_count": null,
      "outputs": [
        {
          "output_type": "execute_result",
          "data": {
            "text/plain": [
              "2"
            ]
          },
          "metadata": {},
          "execution_count": 13
        }
      ]
    },
    {
      "cell_type": "code",
      "source": [
        "arr2.shape"
      ],
      "metadata": {
        "colab": {
          "base_uri": "https://localhost:8080/"
        },
        "id": "8sufDhqx73CJ",
        "outputId": "149cbc68-30bf-4831-c23e-8f05f6e7919e"
      },
      "execution_count": null,
      "outputs": [
        {
          "output_type": "execute_result",
          "data": {
            "text/plain": [
              "(2, 4)"
            ]
          },
          "metadata": {},
          "execution_count": 14
        }
      ]
    },
    {
      "cell_type": "code",
      "source": [
        "arr1.dtype   ## np.array는 생성 시 적절한 자료형 추론함"
      ],
      "metadata": {
        "colab": {
          "base_uri": "https://localhost:8080/"
        },
        "id": "S-pkrtiT741Z",
        "outputId": "3eaab6b7-9c1f-4143-8a25-8394c80d7a60"
      },
      "execution_count": null,
      "outputs": [
        {
          "output_type": "execute_result",
          "data": {
            "text/plain": [
              "dtype('float64')"
            ]
          },
          "metadata": {},
          "execution_count": 17
        }
      ]
    },
    {
      "cell_type": "code",
      "source": [
        "arr2.dtype"
      ],
      "metadata": {
        "colab": {
          "base_uri": "https://localhost:8080/"
        },
        "id": "V9Tq_x1f8PER",
        "outputId": "cf91c29f-38a5-4bca-fb41-4738ef31407b"
      },
      "execution_count": null,
      "outputs": [
        {
          "output_type": "execute_result",
          "data": {
            "text/plain": [
              "dtype('int64')"
            ]
          },
          "metadata": {},
          "execution_count": 16
        }
      ]
    },
    {
      "cell_type": "markdown",
      "source": [
        "- zeros나 ones는 주어진 길이나 모양에 각각 0과 1이 들어 있는 배열을 생성\n",
        "- empty함수는 초기화되지 않은 배열을 생성"
      ],
      "metadata": {
        "id": "wYUilntK8Wp6"
      }
    },
    {
      "cell_type": "code",
      "source": [
        "np.zeros(10)"
      ],
      "metadata": {
        "colab": {
          "base_uri": "https://localhost:8080/"
        },
        "id": "ie05Nm6b8QCI",
        "outputId": "d03b3669-dcdf-4848-f465-dbcacefe3fa2"
      },
      "execution_count": null,
      "outputs": [
        {
          "output_type": "execute_result",
          "data": {
            "text/plain": [
              "array([0., 0., 0., 0., 0., 0., 0., 0., 0., 0.])"
            ]
          },
          "metadata": {},
          "execution_count": 18
        }
      ]
    },
    {
      "cell_type": "code",
      "source": [
        "np.zeros((3, 6))"
      ],
      "metadata": {
        "colab": {
          "base_uri": "https://localhost:8080/"
        },
        "id": "ZXiS_vZc8iyp",
        "outputId": "1a70412c-67f7-413c-eaef-7312786f5cf5"
      },
      "execution_count": null,
      "outputs": [
        {
          "output_type": "execute_result",
          "data": {
            "text/plain": [
              "array([[0., 0., 0., 0., 0., 0.],\n",
              "       [0., 0., 0., 0., 0., 0.],\n",
              "       [0., 0., 0., 0., 0., 0.]])"
            ]
          },
          "metadata": {},
          "execution_count": 19
        }
      ]
    },
    {
      "cell_type": "code",
      "source": [
        "np.zeros((2, 3, 2))"
      ],
      "metadata": {
        "colab": {
          "base_uri": "https://localhost:8080/"
        },
        "id": "VTuKDRX48k-x",
        "outputId": "33a261d2-36ad-4d5d-9a7f-cdd7fc29406e"
      },
      "execution_count": null,
      "outputs": [
        {
          "output_type": "execute_result",
          "data": {
            "text/plain": [
              "array([[[0., 0.],\n",
              "        [0., 0.],\n",
              "        [0., 0.]],\n",
              "\n",
              "       [[0., 0.],\n",
              "        [0., 0.],\n",
              "        [0., 0.]]])"
            ]
          },
          "metadata": {},
          "execution_count": 20
        }
      ]
    },
    {
      "cell_type": "code",
      "source": [
        "np.empty([2, 2], dtype=int)"
      ],
      "metadata": {
        "colab": {
          "base_uri": "https://localhost:8080/"
        },
        "id": "0Fl8Vnak8m4x",
        "outputId": "518f1e59-d860-458b-9113-f21e7c726142"
      },
      "execution_count": null,
      "outputs": [
        {
          "output_type": "execute_result",
          "data": {
            "text/plain": [
              "array([[4618441417868443648, 4620130267728707584],\n",
              "       [4620693217682128896, 4607182418800017408]])"
            ]
          },
          "metadata": {},
          "execution_count": 23
        }
      ]
    },
    {
      "cell_type": "markdown",
      "source": [
        "- arange는 range 함수의 배열 버전임"
      ],
      "metadata": {
        "id": "PwqvCY8K8wcL"
      }
    },
    {
      "cell_type": "code",
      "source": [
        "np.arange(15)"
      ],
      "metadata": {
        "colab": {
          "base_uri": "https://localhost:8080/"
        },
        "id": "5z-fLirn8zCq",
        "outputId": "ba309628-58b6-4123-8fbe-e2d639b91735"
      },
      "execution_count": null,
      "outputs": [
        {
          "output_type": "execute_result",
          "data": {
            "text/plain": [
              "array([ 0,  1,  2,  3,  4,  5,  6,  7,  8,  9, 10, 11, 12, 13, 14])"
            ]
          },
          "metadata": {},
          "execution_count": 21
        }
      ]
    },
    {
      "cell_type": "markdown",
      "source": [
        "### **ndarray의 dtype**"
      ],
      "metadata": {
        "id": "1zyrtCnI-FLM"
      }
    },
    {
      "cell_type": "code",
      "source": [
        "arr1 = np.array([1, 2, 3], dtype = np.float64)\n",
        "\n",
        "arr2 = np.array([1, 2, 3], dtype = np.int32)\n",
        "\n",
        "print(arr1.dtype)\n",
        "print(arr2.dtype)"
      ],
      "metadata": {
        "colab": {
          "base_uri": "https://localhost:8080/"
        },
        "id": "NicrZffN80tB",
        "outputId": "236950c5-7e1e-4970-d3b6-6cdf3fcdee4b"
      },
      "execution_count": null,
      "outputs": [
        {
          "output_type": "stream",
          "name": "stdout",
          "text": [
            "float64\n",
            "int32\n"
          ]
        }
      ]
    },
    {
      "cell_type": "markdown",
      "source": [
        "- astype 메서드를 사용해 배열의 dtype을 다른 형으로 변환 가능"
      ],
      "metadata": {
        "id": "pTy3bvER_Hws"
      }
    },
    {
      "cell_type": "code",
      "source": [
        "## 1\n",
        "arr = np.array([1, 2, 3, 4, 5])\n",
        "\n",
        "arr.dtype"
      ],
      "metadata": {
        "colab": {
          "base_uri": "https://localhost:8080/"
        },
        "id": "TG0Gixgm-TOM",
        "outputId": "8eb3ff22-2af2-4c78-de6e-3ab5319e5004"
      },
      "execution_count": null,
      "outputs": [
        {
          "output_type": "execute_result",
          "data": {
            "text/plain": [
              "dtype('int64')"
            ]
          },
          "metadata": {},
          "execution_count": 28
        }
      ]
    },
    {
      "cell_type": "code",
      "source": [
        "float_arr = arr.astype(np.float64)\n",
        "\n",
        "float_arr.dtype"
      ],
      "metadata": {
        "colab": {
          "base_uri": "https://localhost:8080/"
        },
        "id": "lu9WGnOY-9-1",
        "outputId": "c210e960-88fb-487e-af30-deb6ba82f45d"
      },
      "execution_count": null,
      "outputs": [
        {
          "output_type": "execute_result",
          "data": {
            "text/plain": [
              "dtype('float64')"
            ]
          },
          "metadata": {},
          "execution_count": 27
        }
      ]
    },
    {
      "cell_type": "code",
      "source": [
        "## 2\n",
        "numeric_strings = np.array(['1.25', '-9.6', '42'], dtype = np.string_)\n",
        "\n",
        "numeric_strings.astype(float)"
      ],
      "metadata": {
        "colab": {
          "base_uri": "https://localhost:8080/"
        },
        "id": "XVVB16Tr_F9Q",
        "outputId": "b28e9639-638e-442b-a45f-63964617d7cd"
      },
      "execution_count": null,
      "outputs": [
        {
          "output_type": "execute_result",
          "data": {
            "text/plain": [
              "array([ 1.25, -9.6 , 42.  ])"
            ]
          },
          "metadata": {},
          "execution_count": 29
        }
      ]
    },
    {
      "cell_type": "markdown",
      "source": [
        "### **NumPy 배열의 산술 연산**\n",
        "\n",
        "- 배열의 중요한 특징은 for문을 작성하지 않고 데이터를 일괄 처리할 수 있다는 것인데, 이를 벡터화라고 함\n",
        "- 같은 크기의 배열 간의 산술 연산은 배열의 각 원소 단위로 적용된다."
      ],
      "metadata": {
        "id": "ynwFIpp0AmfF"
      }
    },
    {
      "cell_type": "code",
      "source": [
        "arr = np.array([[1., 2., 3.], [4., 5., 6.]])\n",
        "\n",
        "arr"
      ],
      "metadata": {
        "colab": {
          "base_uri": "https://localhost:8080/"
        },
        "id": "BFXXx3UO_e9G",
        "outputId": "4efece2d-ecb9-43ba-d3a5-fddf6d125364"
      },
      "execution_count": null,
      "outputs": [
        {
          "output_type": "execute_result",
          "data": {
            "text/plain": [
              "array([[1., 2., 3.],\n",
              "       [4., 5., 6.]])"
            ]
          },
          "metadata": {},
          "execution_count": 30
        }
      ]
    },
    {
      "cell_type": "code",
      "source": [
        "arr * arr"
      ],
      "metadata": {
        "colab": {
          "base_uri": "https://localhost:8080/"
        },
        "id": "l1TyKp3ZBBWq",
        "outputId": "3c21590a-bd7f-45e8-9b74-96cfadb70ab8"
      },
      "execution_count": null,
      "outputs": [
        {
          "output_type": "execute_result",
          "data": {
            "text/plain": [
              "array([[ 1.,  4.,  9.],\n",
              "       [16., 25., 36.]])"
            ]
          },
          "metadata": {},
          "execution_count": 31
        }
      ]
    },
    {
      "cell_type": "code",
      "source": [
        "arr - arr"
      ],
      "metadata": {
        "colab": {
          "base_uri": "https://localhost:8080/"
        },
        "id": "38Ur6wlIBDA5",
        "outputId": "87b56d55-2848-4e06-954c-aeb78504fcfa"
      },
      "execution_count": null,
      "outputs": [
        {
          "output_type": "execute_result",
          "data": {
            "text/plain": [
              "array([[0., 0., 0.],\n",
              "       [0., 0., 0.]])"
            ]
          },
          "metadata": {},
          "execution_count": 32
        }
      ]
    },
    {
      "cell_type": "code",
      "source": [
        "1 / arr"
      ],
      "metadata": {
        "colab": {
          "base_uri": "https://localhost:8080/"
        },
        "id": "vUWdFwV-BD65",
        "outputId": "bbf1edaf-531c-4891-c099-16ce9f5a5c57"
      },
      "execution_count": null,
      "outputs": [
        {
          "output_type": "execute_result",
          "data": {
            "text/plain": [
              "array([[1.        , 0.5       , 0.33333333],\n",
              "       [0.25      , 0.2       , 0.16666667]])"
            ]
          },
          "metadata": {},
          "execution_count": 33
        }
      ]
    },
    {
      "cell_type": "code",
      "source": [
        "arr ** 0.5"
      ],
      "metadata": {
        "colab": {
          "base_uri": "https://localhost:8080/"
        },
        "id": "kwOeM4ZVBGBl",
        "outputId": "db209a50-9d52-4296-b668-cba5c6ec636a"
      },
      "execution_count": null,
      "outputs": [
        {
          "output_type": "execute_result",
          "data": {
            "text/plain": [
              "array([[1.        , 1.41421356, 1.73205081],\n",
              "       [2.        , 2.23606798, 2.44948974]])"
            ]
          },
          "metadata": {},
          "execution_count": 34
        }
      ]
    },
    {
      "cell_type": "code",
      "source": [
        "arr2 = np.array([[0., 4., 1.], [7., 2., 12.]])\n",
        "\n",
        "arr2"
      ],
      "metadata": {
        "colab": {
          "base_uri": "https://localhost:8080/"
        },
        "id": "nwuQbIiYBHL1",
        "outputId": "f0f31179-aaf0-4a2e-ec5f-f68043126d44"
      },
      "execution_count": null,
      "outputs": [
        {
          "output_type": "execute_result",
          "data": {
            "text/plain": [
              "array([[ 0.,  4.,  1.],\n",
              "       [ 7.,  2., 12.]])"
            ]
          },
          "metadata": {},
          "execution_count": 36
        }
      ]
    },
    {
      "cell_type": "code",
      "source": [
        "arr2 > arr"
      ],
      "metadata": {
        "colab": {
          "base_uri": "https://localhost:8080/"
        },
        "id": "ZaLOse2mBNss",
        "outputId": "6ef599ce-eee9-4817-e981-fa50741d3e61"
      },
      "execution_count": null,
      "outputs": [
        {
          "output_type": "execute_result",
          "data": {
            "text/plain": [
              "array([[False,  True, False],\n",
              "       [ True, False,  True]])"
            ]
          },
          "metadata": {},
          "execution_count": 37
        }
      ]
    },
    {
      "cell_type": "markdown",
      "source": [
        "- 크기가 다른 배열 간의 연산은 브로드캐스팅(Broadcasting)이라고 함"
      ],
      "metadata": {
        "id": "xVL9p2q2BSxB"
      }
    },
    {
      "cell_type": "markdown",
      "source": [
        "### **색인과 슬라이싱 기초**"
      ],
      "metadata": {
        "id": "P1276G7GBeQn"
      }
    },
    {
      "cell_type": "code",
      "source": [
        "arr = np.arange(10)\n",
        "\n",
        "arr"
      ],
      "metadata": {
        "colab": {
          "base_uri": "https://localhost:8080/"
        },
        "id": "6Sh9ChtmBQk8",
        "outputId": "ed08e279-cc91-44f5-e8f5-2a21d5360e84"
      },
      "execution_count": null,
      "outputs": [
        {
          "output_type": "execute_result",
          "data": {
            "text/plain": [
              "array([0, 1, 2, 3, 4, 5, 6, 7, 8, 9])"
            ]
          },
          "metadata": {},
          "execution_count": 38
        }
      ]
    },
    {
      "cell_type": "code",
      "source": [
        "arr[5]"
      ],
      "metadata": {
        "colab": {
          "base_uri": "https://localhost:8080/"
        },
        "id": "URpLFN23Btu-",
        "outputId": "e7f3f776-3b79-4630-e9f8-6981e73cab81"
      },
      "execution_count": null,
      "outputs": [
        {
          "output_type": "execute_result",
          "data": {
            "text/plain": [
              "5"
            ]
          },
          "metadata": {},
          "execution_count": 39
        }
      ]
    },
    {
      "cell_type": "code",
      "source": [
        "arr[5:8]"
      ],
      "metadata": {
        "colab": {
          "base_uri": "https://localhost:8080/"
        },
        "id": "GBo-T4zQBvTF",
        "outputId": "9198a956-cc33-4c2a-a1e0-71f0076b3e43"
      },
      "execution_count": null,
      "outputs": [
        {
          "output_type": "execute_result",
          "data": {
            "text/plain": [
              "array([5, 6, 7])"
            ]
          },
          "metadata": {},
          "execution_count": 40
        }
      ]
    },
    {
      "cell_type": "code",
      "source": [
        "arr[5:8] = 12\n",
        "\n",
        "arr"
      ],
      "metadata": {
        "colab": {
          "base_uri": "https://localhost:8080/"
        },
        "id": "_Np6tUJmBxK3",
        "outputId": "cc60dc9a-cb53-49d4-bcd1-58254a53c934"
      },
      "execution_count": null,
      "outputs": [
        {
          "output_type": "execute_result",
          "data": {
            "text/plain": [
              "array([ 0,  1,  2,  3,  4, 12, 12, 12,  8,  9])"
            ]
          },
          "metadata": {},
          "execution_count": 41
        }
      ]
    },
    {
      "cell_type": "markdown",
      "source": [
        "- arr[5:8] = 12처럼 배열 조각에 스칼라값을 대입하면 12가 선택 영역 전체로 전하(브로드캐스팅)된다.\n",
        "- 배열 조각은 원본 배열의 뷰(View)로 데이터는 복사되지 않고 뷰에 대한 변경을 그대로 원본 배열에 반영됨"
      ],
      "metadata": {
        "id": "lWGYJ2pcB34I"
      }
    },
    {
      "cell_type": "code",
      "source": [
        "arr_slice = arr[5:8]\n",
        "\n",
        "arr_slice"
      ],
      "metadata": {
        "colab": {
          "base_uri": "https://localhost:8080/"
        },
        "id": "unRwCLcnB0OO",
        "outputId": "55f222bd-f9b6-4a42-c41d-cca3f046f22c"
      },
      "execution_count": null,
      "outputs": [
        {
          "output_type": "execute_result",
          "data": {
            "text/plain": [
              "array([12, 12, 12])"
            ]
          },
          "metadata": {},
          "execution_count": 42
        }
      ]
    },
    {
      "cell_type": "code",
      "source": [
        "arr_slice[1] = 12345\n",
        "\n",
        "arr"
      ],
      "metadata": {
        "colab": {
          "base_uri": "https://localhost:8080/"
        },
        "id": "LSItje6vCMFu",
        "outputId": "e245272b-44ca-4f45-bda2-299325325570"
      },
      "execution_count": null,
      "outputs": [
        {
          "output_type": "execute_result",
          "data": {
            "text/plain": [
              "array([    0,     1,     2,     3,     4,    12, 12345,    12,     8,\n",
              "           9])"
            ]
          },
          "metadata": {},
          "execution_count": 43
        }
      ]
    },
    {
      "cell_type": "code",
      "source": [
        "arr_slice[:] = 64\n",
        "\n",
        "arr"
      ],
      "metadata": {
        "colab": {
          "base_uri": "https://localhost:8080/"
        },
        "id": "BsK1QDoXCQs-",
        "outputId": "5bf48e05-705d-4269-9271-3c981dbc79ba"
      },
      "execution_count": null,
      "outputs": [
        {
          "output_type": "execute_result",
          "data": {
            "text/plain": [
              "array([ 0,  1,  2,  3,  4, 64, 64, 64,  8,  9])"
            ]
          },
          "metadata": {},
          "execution_count": 45
        }
      ]
    },
    {
      "cell_type": "code",
      "source": [
        "### View 대신 복사본을 얻고싶으면\n",
        "arr[5:8].copy()"
      ],
      "metadata": {
        "colab": {
          "base_uri": "https://localhost:8080/"
        },
        "id": "PTahe7DZCVT1",
        "outputId": "70632221-7ca4-44c7-e3aa-1cf06657dca6"
      },
      "execution_count": null,
      "outputs": [
        {
          "output_type": "execute_result",
          "data": {
            "text/plain": [
              "array([64, 64, 64])"
            ]
          },
          "metadata": {},
          "execution_count": 46
        }
      ]
    },
    {
      "cell_type": "code",
      "source": [
        "arr2d = np.array([[1, 2, 3], [4, 5, 6], [7, 8, 9]])\n",
        "\n",
        "arr2d[2]"
      ],
      "metadata": {
        "colab": {
          "base_uri": "https://localhost:8080/"
        },
        "id": "uiHkkynxCjD-",
        "outputId": "5efc0a8a-5db2-44b6-cad2-2d0712ffa7d7"
      },
      "execution_count": null,
      "outputs": [
        {
          "output_type": "execute_result",
          "data": {
            "text/plain": [
              "array([7, 8, 9])"
            ]
          },
          "metadata": {},
          "execution_count": 47
        }
      ]
    },
    {
      "cell_type": "code",
      "source": [
        "arr2d[0][2]"
      ],
      "metadata": {
        "colab": {
          "base_uri": "https://localhost:8080/"
        },
        "id": "l9o6th2ICsvW",
        "outputId": "82489fce-4eaa-400b-8cb1-f73ae5e3af50"
      },
      "execution_count": null,
      "outputs": [
        {
          "output_type": "execute_result",
          "data": {
            "text/plain": [
              "3"
            ]
          },
          "metadata": {},
          "execution_count": 48
        }
      ]
    },
    {
      "cell_type": "code",
      "source": [
        "arr2d[0, 2]"
      ],
      "metadata": {
        "colab": {
          "base_uri": "https://localhost:8080/"
        },
        "id": "h1kcB4RLCw8m",
        "outputId": "e4cc2f00-f586-454a-f89f-9125807a0f4c"
      },
      "execution_count": null,
      "outputs": [
        {
          "output_type": "execute_result",
          "data": {
            "text/plain": [
              "3"
            ]
          },
          "metadata": {},
          "execution_count": 49
        }
      ]
    },
    {
      "cell_type": "code",
      "source": [
        "arr3d = np.array([[[1, 2, 3], [4, 5, 6]], [[7, 8, 9], [10, 11, 12]]])\n",
        "\n",
        "arr3d"
      ],
      "metadata": {
        "colab": {
          "base_uri": "https://localhost:8080/"
        },
        "id": "4GksU8mUCytG",
        "outputId": "8924c5af-f153-47fd-adb3-6fff24c6c07b"
      },
      "execution_count": null,
      "outputs": [
        {
          "output_type": "execute_result",
          "data": {
            "text/plain": [
              "array([[[ 1,  2,  3],\n",
              "        [ 4,  5,  6]],\n",
              "\n",
              "       [[ 7,  8,  9],\n",
              "        [10, 11, 12]]])"
            ]
          },
          "metadata": {},
          "execution_count": 50
        }
      ]
    },
    {
      "cell_type": "code",
      "source": [
        "arr3d[0]"
      ],
      "metadata": {
        "colab": {
          "base_uri": "https://localhost:8080/"
        },
        "id": "SY2JHd1bDXT-",
        "outputId": "5f84ccb1-a1b0-4841-a1f3-276affce6845"
      },
      "execution_count": null,
      "outputs": [
        {
          "output_type": "execute_result",
          "data": {
            "text/plain": [
              "array([[1, 2, 3],\n",
              "       [4, 5, 6]])"
            ]
          },
          "metadata": {},
          "execution_count": 51
        }
      ]
    },
    {
      "cell_type": "code",
      "source": [
        "old_values = arr3d[0].copy()\n",
        "\n",
        "arr3d[0] = 42\n",
        "\n",
        "arr3d"
      ],
      "metadata": {
        "colab": {
          "base_uri": "https://localhost:8080/"
        },
        "id": "XPyT-ty3DbLO",
        "outputId": "095fd7b6-0250-43b8-a5c0-0625770b46df"
      },
      "execution_count": null,
      "outputs": [
        {
          "output_type": "execute_result",
          "data": {
            "text/plain": [
              "array([[[42, 42, 42],\n",
              "        [42, 42, 42]],\n",
              "\n",
              "       [[ 7,  8,  9],\n",
              "        [10, 11, 12]]])"
            ]
          },
          "metadata": {},
          "execution_count": 52
        }
      ]
    },
    {
      "cell_type": "code",
      "source": [
        "arr3d[0] = old_values\n",
        "\n",
        "arr3d"
      ],
      "metadata": {
        "colab": {
          "base_uri": "https://localhost:8080/"
        },
        "id": "DspLRZeGDiJu",
        "outputId": "64facb1c-95ef-4bc3-f5c4-bdef2bc2dedf"
      },
      "execution_count": null,
      "outputs": [
        {
          "output_type": "execute_result",
          "data": {
            "text/plain": [
              "array([[[ 1,  2,  3],\n",
              "        [ 4,  5,  6]],\n",
              "\n",
              "       [[ 7,  8,  9],\n",
              "        [10, 11, 12]]])"
            ]
          },
          "metadata": {},
          "execution_count": 53
        }
      ]
    },
    {
      "cell_type": "code",
      "source": [
        "arr3d[1, 0]"
      ],
      "metadata": {
        "colab": {
          "base_uri": "https://localhost:8080/"
        },
        "id": "IQfXV58SDorf",
        "outputId": "02461bd1-408f-41d8-819c-b1a5f65c03e3"
      },
      "execution_count": null,
      "outputs": [
        {
          "output_type": "execute_result",
          "data": {
            "text/plain": [
              "array([7, 8, 9])"
            ]
          },
          "metadata": {},
          "execution_count": 54
        }
      ]
    },
    {
      "cell_type": "code",
      "source": [
        "x = arr3d[1]\n",
        "\n",
        "x"
      ],
      "metadata": {
        "colab": {
          "base_uri": "https://localhost:8080/"
        },
        "id": "2-UfjORzD2mP",
        "outputId": "4de77336-2315-4748-effb-28f917b2dc3e"
      },
      "execution_count": null,
      "outputs": [
        {
          "output_type": "execute_result",
          "data": {
            "text/plain": [
              "array([[ 7,  8,  9],\n",
              "       [10, 11, 12]])"
            ]
          },
          "metadata": {},
          "execution_count": 55
        }
      ]
    },
    {
      "cell_type": "code",
      "source": [
        "x[0]"
      ],
      "metadata": {
        "colab": {
          "base_uri": "https://localhost:8080/"
        },
        "id": "usDNYcP_D7zf",
        "outputId": "4a354e6a-6264-4c6e-ac85-3ccc244b21de"
      },
      "execution_count": null,
      "outputs": [
        {
          "output_type": "execute_result",
          "data": {
            "text/plain": [
              "array([7, 8, 9])"
            ]
          },
          "metadata": {},
          "execution_count": 56
        }
      ]
    },
    {
      "cell_type": "markdown",
      "source": [
        "<슬라이스로 선택하기>"
      ],
      "metadata": {
        "id": "BqT3bRmEEBfJ"
      }
    },
    {
      "cell_type": "code",
      "source": [
        "## 1 차원\n",
        "arr"
      ],
      "metadata": {
        "colab": {
          "base_uri": "https://localhost:8080/"
        },
        "id": "5PbRYDOnD9Av",
        "outputId": "4437727d-1d95-4d7d-da38-35a7e6fefadd"
      },
      "execution_count": null,
      "outputs": [
        {
          "output_type": "execute_result",
          "data": {
            "text/plain": [
              "array([ 0,  1,  2,  3,  4, 64, 64, 64,  8,  9])"
            ]
          },
          "metadata": {},
          "execution_count": 61
        }
      ]
    },
    {
      "cell_type": "code",
      "source": [
        "arr[1:6]"
      ],
      "metadata": {
        "colab": {
          "base_uri": "https://localhost:8080/"
        },
        "id": "98Kb1bD6EHJ_",
        "outputId": "18d773ac-6eda-49a0-a73c-e53f55f78267"
      },
      "execution_count": null,
      "outputs": [
        {
          "output_type": "execute_result",
          "data": {
            "text/plain": [
              "array([ 1,  2,  3,  4, 64])"
            ]
          },
          "metadata": {},
          "execution_count": 58
        }
      ]
    },
    {
      "cell_type": "code",
      "source": [
        "## 2 차원\n",
        "arr2d"
      ],
      "metadata": {
        "colab": {
          "base_uri": "https://localhost:8080/"
        },
        "id": "lc4R6fiqEJC3",
        "outputId": "150e350a-3585-4530-88e6-26a016e8db3d"
      },
      "execution_count": null,
      "outputs": [
        {
          "output_type": "execute_result",
          "data": {
            "text/plain": [
              "array([[1, 2, 3],\n",
              "       [4, 5, 6],\n",
              "       [7, 8, 9]])"
            ]
          },
          "metadata": {},
          "execution_count": 62
        }
      ]
    },
    {
      "cell_type": "code",
      "source": [
        "arr2d[:2]"
      ],
      "metadata": {
        "colab": {
          "base_uri": "https://localhost:8080/"
        },
        "id": "8oel0A8UELQX",
        "outputId": "36311a5a-88b3-4c26-a3b5-231e0f85e395"
      },
      "execution_count": null,
      "outputs": [
        {
          "output_type": "execute_result",
          "data": {
            "text/plain": [
              "array([[1, 2, 3],\n",
              "       [4, 5, 6]])"
            ]
          },
          "metadata": {},
          "execution_count": 60
        }
      ]
    },
    {
      "cell_type": "code",
      "source": [
        "## 다차원\n",
        "arr2d[:2, 1:]"
      ],
      "metadata": {
        "colab": {
          "base_uri": "https://localhost:8080/"
        },
        "id": "3varzHKSEN5_",
        "outputId": "15df9b89-4507-4530-980e-48085f2f7867"
      },
      "execution_count": null,
      "outputs": [
        {
          "output_type": "execute_result",
          "data": {
            "text/plain": [
              "array([[2, 3],\n",
              "       [5, 6]])"
            ]
          },
          "metadata": {},
          "execution_count": 63
        }
      ]
    },
    {
      "cell_type": "markdown",
      "source": [
        "- 슬라이싱하면 항상 같은 차원의 배열에 대한 뷰를 얻게 됨\n",
        "- 정수 색인과 슬라이스를 함께 사용해서 한 차원 낮은 슬라이스를 얻을 수 있음"
      ],
      "metadata": {
        "id": "SI0h9JcsEgRb"
      }
    },
    {
      "cell_type": "code",
      "source": [
        "arr2d[1, :2]"
      ],
      "metadata": {
        "colab": {
          "base_uri": "https://localhost:8080/"
        },
        "id": "A7skgYmBEadn",
        "outputId": "9a90106a-77d9-4710-c637-488b34db743c"
      },
      "execution_count": null,
      "outputs": [
        {
          "output_type": "execute_result",
          "data": {
            "text/plain": [
              "array([4, 5])"
            ]
          },
          "metadata": {},
          "execution_count": 64
        }
      ]
    },
    {
      "cell_type": "code",
      "source": [
        "arr2d[:2, 2]"
      ],
      "metadata": {
        "colab": {
          "base_uri": "https://localhost:8080/"
        },
        "id": "YMJOiuabEozq",
        "outputId": "56856542-92b5-4b1d-b56c-7487d659f6ef"
      },
      "execution_count": null,
      "outputs": [
        {
          "output_type": "execute_result",
          "data": {
            "text/plain": [
              "array([3, 6])"
            ]
          },
          "metadata": {},
          "execution_count": 66
        }
      ]
    },
    {
      "cell_type": "code",
      "source": [
        "### 콜론만은 전체 축을 의미함\n",
        "arr2d[:, :1]"
      ],
      "metadata": {
        "colab": {
          "base_uri": "https://localhost:8080/"
        },
        "id": "BxCKSxxDEzAJ",
        "outputId": "21fd91a4-97c7-43c8-abfd-7e953b0b5930"
      },
      "execution_count": null,
      "outputs": [
        {
          "output_type": "execute_result",
          "data": {
            "text/plain": [
              "array([[1],\n",
              "       [4],\n",
              "       [7]])"
            ]
          },
          "metadata": {},
          "execution_count": 67
        }
      ]
    },
    {
      "cell_type": "code",
      "source": [
        "arr2d[:2, 1:] = 0\n",
        "\n",
        "arr2d"
      ],
      "metadata": {
        "colab": {
          "base_uri": "https://localhost:8080/"
        },
        "id": "THJRI_rHFDtw",
        "outputId": "3222b5f9-a830-4798-ee80-d4bf74054411"
      },
      "execution_count": null,
      "outputs": [
        {
          "output_type": "execute_result",
          "data": {
            "text/plain": [
              "array([[1, 0, 0],\n",
              "       [4, 0, 0],\n",
              "       [7, 8, 9]])"
            ]
          },
          "metadata": {},
          "execution_count": 68
        }
      ]
    },
    {
      "cell_type": "markdown",
      "source": [
        "### **boolean 값으로 선택하기**"
      ],
      "metadata": {
        "id": "8y11I3diGDBt"
      }
    },
    {
      "cell_type": "code",
      "source": [
        "### 임의의 표준 정규 분포 데이터 생성하기\n",
        "names = np.array(['Bob', 'Joe', 'Will', 'Bob', 'Will', 'Joe', 'Joe'])\n",
        "\n",
        "names"
      ],
      "metadata": {
        "colab": {
          "base_uri": "https://localhost:8080/"
        },
        "id": "IPJcdzWSF7GJ",
        "outputId": "091d9b47-b956-4842-d854-65e0c107e87c"
      },
      "execution_count": null,
      "outputs": [
        {
          "output_type": "execute_result",
          "data": {
            "text/plain": [
              "array(['Bob', 'Joe', 'Will', 'Bob', 'Will', 'Joe', 'Joe'], dtype='<U4')"
            ]
          },
          "metadata": {},
          "execution_count": 70
        }
      ]
    },
    {
      "cell_type": "code",
      "source": [
        "data = np.random.randn(7, 4)\n",
        "\n",
        "data"
      ],
      "metadata": {
        "colab": {
          "base_uri": "https://localhost:8080/"
        },
        "id": "mBSSBDJJGWWn",
        "outputId": "41e3c451-0e7f-4e1e-fb58-6997ab3efe2f"
      },
      "execution_count": null,
      "outputs": [
        {
          "output_type": "execute_result",
          "data": {
            "text/plain": [
              "array([[ 0.10895243, -0.76275398, -0.86092341,  0.17932926],\n",
              "       [-0.23073963, -0.75905023, -0.78891144,  0.79532015],\n",
              "       [-0.41434049,  0.39795135, -1.13295353, -0.92439476],\n",
              "       [ 0.90834613,  1.45723042,  1.52439938, -1.51521153],\n",
              "       [ 0.46408302,  1.18096609,  0.49920127,  0.93628147],\n",
              "       [-1.82402198, -0.5588168 , -0.18425653, -0.53977792],\n",
              "       [-0.64420321, -1.23699593, -0.88270503, -0.89792292]])"
            ]
          },
          "metadata": {},
          "execution_count": 71
        }
      ]
    },
    {
      "cell_type": "code",
      "source": [
        "names == 'Bob'"
      ],
      "metadata": {
        "colab": {
          "base_uri": "https://localhost:8080/"
        },
        "id": "Hm--ugy6Gl7n",
        "outputId": "339d16e7-b7dc-4513-86be-a6143842ae8f"
      },
      "execution_count": null,
      "outputs": [
        {
          "output_type": "execute_result",
          "data": {
            "text/plain": [
              "array([ True, False, False,  True, False, False, False])"
            ]
          },
          "metadata": {},
          "execution_count": 73
        }
      ]
    },
    {
      "cell_type": "code",
      "source": [
        "data[names == 'Bob']  ### True인 행들만 도출함"
      ],
      "metadata": {
        "colab": {
          "base_uri": "https://localhost:8080/"
        },
        "id": "bT4CMIowGbAl",
        "outputId": "efeac8b8-6541-4249-efde-e962e2409706"
      },
      "execution_count": null,
      "outputs": [
        {
          "output_type": "execute_result",
          "data": {
            "text/plain": [
              "array([[ 0.10895243, -0.76275398, -0.86092341,  0.17932926],\n",
              "       [ 0.90834613,  1.45723042,  1.52439938, -1.51521153]])"
            ]
          },
          "metadata": {},
          "execution_count": 74
        }
      ]
    },
    {
      "cell_type": "markdown",
      "source": [
        "- 불리언 배열은 반드시 색인하려는 축의 길이와 동일한 길이를 가져야 함\n",
        "- 불리언 배열 색인도 슬라이스나 요소를 선택하는 데 짜 맞출 수 있다\n",
        "- 불리언값으로 배열을 선택할 때는 불리언 배열의 크기가 다르더라도 실패하지 않음(주의 필요)"
      ],
      "metadata": {
        "id": "Kd56cjM8Hfaw"
      }
    },
    {
      "cell_type": "code",
      "source": [
        "data[names == 'Bob', 2:]"
      ],
      "metadata": {
        "colab": {
          "base_uri": "https://localhost:8080/"
        },
        "id": "dPrgi01uHePo",
        "outputId": "a0eb4051-269a-4c97-a8f8-f1f15418e408"
      },
      "execution_count": null,
      "outputs": [
        {
          "output_type": "execute_result",
          "data": {
            "text/plain": [
              "array([[-0.86092341,  0.17932926],\n",
              "       [ 1.52439938, -1.51521153]])"
            ]
          },
          "metadata": {},
          "execution_count": 76
        }
      ]
    },
    {
      "cell_type": "code",
      "source": [
        "data[names == 'Bob', 3]"
      ],
      "metadata": {
        "colab": {
          "base_uri": "https://localhost:8080/"
        },
        "id": "QZIJtspfHkSK",
        "outputId": "edfca123-2603-4226-f63a-fc5ca9c81f48"
      },
      "execution_count": null,
      "outputs": [
        {
          "output_type": "execute_result",
          "data": {
            "text/plain": [
              "array([ 0.17932926, -1.51521153])"
            ]
          },
          "metadata": {},
          "execution_count": 77
        }
      ]
    },
    {
      "cell_type": "code",
      "source": [
        "### != / ~ 사용 시 조건절 부인\n",
        "names != 'Bob'"
      ],
      "metadata": {
        "colab": {
          "base_uri": "https://localhost:8080/"
        },
        "id": "_KpPjGYfHwpY",
        "outputId": "d8a61f41-0004-4ab7-8ffe-e3818a0c6491"
      },
      "execution_count": null,
      "outputs": [
        {
          "output_type": "execute_result",
          "data": {
            "text/plain": [
              "array([False,  True,  True, False,  True,  True,  True])"
            ]
          },
          "metadata": {},
          "execution_count": 78
        }
      ]
    },
    {
      "cell_type": "code",
      "source": [
        "data[~(names == 'Bob')]"
      ],
      "metadata": {
        "colab": {
          "base_uri": "https://localhost:8080/"
        },
        "id": "EALXUUN5H5Do",
        "outputId": "2ccc14f5-54aa-4daf-f5e7-c46efe33313c"
      },
      "execution_count": null,
      "outputs": [
        {
          "output_type": "execute_result",
          "data": {
            "text/plain": [
              "array([[-0.23073963, -0.75905023, -0.78891144,  0.79532015],\n",
              "       [-0.41434049,  0.39795135, -1.13295353, -0.92439476],\n",
              "       [ 0.46408302,  1.18096609,  0.49920127,  0.93628147],\n",
              "       [-1.82402198, -0.5588168 , -0.18425653, -0.53977792],\n",
              "       [-0.64420321, -1.23699593, -0.88270503, -0.89792292]])"
            ]
          },
          "metadata": {},
          "execution_count": 79
        }
      ]
    },
    {
      "cell_type": "markdown",
      "source": [
        "- ~ 연산자는 일반적인 조건을 반대로 쓰고 싶을 때 유용함"
      ],
      "metadata": {
        "id": "cwMSxpuBIEeS"
      }
    },
    {
      "cell_type": "code",
      "source": [
        "cond = names == 'Bob'\n",
        "\n",
        "data[~cond]"
      ],
      "metadata": {
        "colab": {
          "base_uri": "https://localhost:8080/"
        },
        "id": "4Y-4fqOwH8Zo",
        "outputId": "7b99b4d5-49ea-4972-d672-c2377f80e2b9"
      },
      "execution_count": null,
      "outputs": [
        {
          "output_type": "execute_result",
          "data": {
            "text/plain": [
              "array([[-0.23073963, -0.75905023, -0.78891144,  0.79532015],\n",
              "       [-0.41434049,  0.39795135, -1.13295353, -0.92439476],\n",
              "       [ 0.46408302,  1.18096609,  0.49920127,  0.93628147],\n",
              "       [-1.82402198, -0.5588168 , -0.18425653, -0.53977792],\n",
              "       [-0.64420321, -1.23699593, -0.88270503, -0.89792292]])"
            ]
          },
          "metadata": {},
          "execution_count": 80
        }
      ]
    },
    {
      "cell_type": "code",
      "source": [
        "### & / |\n",
        "mask = (names == 'Bob') | (names == 'Will')\n",
        "\n",
        "mask"
      ],
      "metadata": {
        "colab": {
          "base_uri": "https://localhost:8080/"
        },
        "id": "ral4D8DFIMeE",
        "outputId": "dc2fbdbd-0351-4003-d4d0-f27990aaa84e"
      },
      "execution_count": null,
      "outputs": [
        {
          "output_type": "execute_result",
          "data": {
            "text/plain": [
              "array([ True, False,  True,  True,  True, False, False])"
            ]
          },
          "metadata": {},
          "execution_count": 81
        }
      ]
    },
    {
      "cell_type": "code",
      "source": [
        "data[mask]"
      ],
      "metadata": {
        "colab": {
          "base_uri": "https://localhost:8080/"
        },
        "id": "-2RACr_yIXYc",
        "outputId": "aeb6205f-69a1-471b-ae7c-368d730bd97c"
      },
      "execution_count": null,
      "outputs": [
        {
          "output_type": "execute_result",
          "data": {
            "text/plain": [
              "array([[ 0.10895243, -0.76275398, -0.86092341,  0.17932926],\n",
              "       [-0.41434049,  0.39795135, -1.13295353, -0.92439476],\n",
              "       [ 0.90834613,  1.45723042,  1.52439938, -1.51521153],\n",
              "       [ 0.46408302,  1.18096609,  0.49920127,  0.93628147]])"
            ]
          },
          "metadata": {},
          "execution_count": 82
        }
      ]
    },
    {
      "cell_type": "markdown",
      "source": [
        "- 파이썬 예약어인 and와 or은 불리언 배열에서는 사용할 수 없음\n",
        "- &나 | 사용"
      ],
      "metadata": {
        "id": "cOl6oFQxIb_F"
      }
    },
    {
      "cell_type": "code",
      "source": [
        "data[data < 0] = 0\n",
        "\n",
        "data"
      ],
      "metadata": {
        "colab": {
          "base_uri": "https://localhost:8080/"
        },
        "id": "izAI2m5sIZq0",
        "outputId": "094d34fb-3925-40be-c370-38d38c2cbe2c"
      },
      "execution_count": null,
      "outputs": [
        {
          "output_type": "execute_result",
          "data": {
            "text/plain": [
              "array([[0.10895243, 0.        , 0.        , 0.17932926],\n",
              "       [0.        , 0.        , 0.        , 0.79532015],\n",
              "       [0.        , 0.39795135, 0.        , 0.        ],\n",
              "       [0.90834613, 1.45723042, 1.52439938, 0.        ],\n",
              "       [0.46408302, 1.18096609, 0.49920127, 0.93628147],\n",
              "       [0.        , 0.        , 0.        , 0.        ],\n",
              "       [0.        , 0.        , 0.        , 0.        ]])"
            ]
          },
          "metadata": {},
          "execution_count": 83
        }
      ]
    },
    {
      "cell_type": "code",
      "source": [
        "data[names != 'Joe'] = 7\n",
        "\n",
        "data"
      ],
      "metadata": {
        "colab": {
          "base_uri": "https://localhost:8080/"
        },
        "id": "9UNhcDuvIwqQ",
        "outputId": "0d87af43-0f6d-408e-b66c-aa494bb40588"
      },
      "execution_count": null,
      "outputs": [
        {
          "output_type": "execute_result",
          "data": {
            "text/plain": [
              "array([[7.        , 7.        , 7.        , 7.        ],\n",
              "       [0.        , 0.        , 0.        , 0.79532015],\n",
              "       [7.        , 7.        , 7.        , 7.        ],\n",
              "       [7.        , 7.        , 7.        , 7.        ],\n",
              "       [7.        , 7.        , 7.        , 7.        ],\n",
              "       [0.        , 0.        , 0.        , 0.        ],\n",
              "       [0.        , 0.        , 0.        , 0.        ]])"
            ]
          },
          "metadata": {},
          "execution_count": 84
        }
      ]
    },
    {
      "cell_type": "code",
      "source": [],
      "metadata": {
        "id": "DkYyMvZoI13Z"
      },
      "execution_count": null,
      "outputs": []
    },
    {
      "cell_type": "markdown",
      "source": [
        "### **팬시 색인**\n",
        "- 팬시 색인(Fancy Indexing)은 정수 배열을 사용한 색인을 설명하기 위해 NumPy에서 차용한 단어임"
      ],
      "metadata": {
        "id": "dkOiSCmWI59m"
      }
    },
    {
      "cell_type": "code",
      "source": [
        "arr = np.empty((8, 4))\n",
        "\n",
        "arr"
      ],
      "metadata": {
        "colab": {
          "base_uri": "https://localhost:8080/"
        },
        "id": "4Dcp_9beJDHQ",
        "outputId": "5dda1d37-36f8-4631-e357-171930cf29dc"
      },
      "execution_count": null,
      "outputs": [
        {
          "output_type": "execute_result",
          "data": {
            "text/plain": [
              "array([[ 2.99243467e-316,  0.00000000e+000,  0.00000000e+000,\n",
              "         0.00000000e+000],\n",
              "       [ 0.00000000e+000,  0.00000000e+000,  0.00000000e+000,\n",
              "         0.00000000e+000],\n",
              "       [ 0.00000000e+000,  0.00000000e+000,  6.95016243e-310,\n",
              "        -1.29732623e+130],\n",
              "       [ 0.00000000e+000,  0.00000000e+000,  0.00000000e+000,\n",
              "         0.00000000e+000],\n",
              "       [ 0.00000000e+000,  0.00000000e+000,  0.00000000e+000,\n",
              "         0.00000000e+000],\n",
              "       [ 0.00000000e+000,  0.00000000e+000,  6.95016243e-310,\n",
              "        -1.68796806e+018],\n",
              "       [ 6.95016243e-310,  2.51666155e-294,  0.00000000e+000,\n",
              "         0.00000000e+000],\n",
              "       [ 0.00000000e+000,  0.00000000e+000,  6.95016243e-310,\n",
              "        -5.08926832e-295]])"
            ]
          },
          "metadata": {},
          "execution_count": 86
        }
      ]
    },
    {
      "cell_type": "code",
      "source": [
        "for i in range(8):\n",
        "  arr[i] = i\n",
        "\n",
        "arr"
      ],
      "metadata": {
        "colab": {
          "base_uri": "https://localhost:8080/"
        },
        "id": "jPPN2m4gJHS0",
        "outputId": "a2fbc79f-0ba7-43e1-933f-07dcbca7286d"
      },
      "execution_count": null,
      "outputs": [
        {
          "output_type": "execute_result",
          "data": {
            "text/plain": [
              "array([[0., 0., 0., 0.],\n",
              "       [1., 1., 1., 1.],\n",
              "       [2., 2., 2., 2.],\n",
              "       [3., 3., 3., 3.],\n",
              "       [4., 4., 4., 4.],\n",
              "       [5., 5., 5., 5.],\n",
              "       [6., 6., 6., 6.],\n",
              "       [7., 7., 7., 7.]])"
            ]
          },
          "metadata": {},
          "execution_count": 87
        }
      ]
    },
    {
      "cell_type": "code",
      "source": [
        "np.array([0,0,0,0] + np.arange(8).reshape(8,-1)) "
      ],
      "metadata": {
        "colab": {
          "base_uri": "https://localhost:8080/"
        },
        "id": "EmUKVUz8JQ3E",
        "outputId": "3e56b7a2-0ed6-42cd-d7fb-a74b3f21abd2"
      },
      "execution_count": null,
      "outputs": [
        {
          "output_type": "execute_result",
          "data": {
            "text/plain": [
              "array([[0, 0, 0, 0],\n",
              "       [1, 1, 1, 1],\n",
              "       [2, 2, 2, 2],\n",
              "       [3, 3, 3, 3],\n",
              "       [4, 4, 4, 4],\n",
              "       [5, 5, 5, 5],\n",
              "       [6, 6, 6, 6],\n",
              "       [7, 7, 7, 7]])"
            ]
          },
          "metadata": {},
          "execution_count": 88
        }
      ]
    },
    {
      "cell_type": "code",
      "source": [
        "arr = np.arange(8).reshape(8,-1) * np.array([1,1,1,1]) \n",
        "\n",
        "arr"
      ],
      "metadata": {
        "colab": {
          "base_uri": "https://localhost:8080/"
        },
        "id": "fzEiVCFSJeew",
        "outputId": "b5c8ec87-e491-4811-f2c8-2896e1851a77"
      },
      "execution_count": null,
      "outputs": [
        {
          "output_type": "execute_result",
          "data": {
            "text/plain": [
              "array([[0, 0, 0, 0],\n",
              "       [1, 1, 1, 1],\n",
              "       [2, 2, 2, 2],\n",
              "       [3, 3, 3, 3],\n",
              "       [4, 4, 4, 4],\n",
              "       [5, 5, 5, 5],\n",
              "       [6, 6, 6, 6],\n",
              "       [7, 7, 7, 7]])"
            ]
          },
          "metadata": {},
          "execution_count": 90
        }
      ]
    },
    {
      "cell_type": "markdown",
      "source": [
        "- 특정한 순서로 로우를 선택하고 싶다면 그냥 원하는 순서가 명시된 정수가 담긴 ndarray나 리스트를 넘기면 됨"
      ],
      "metadata": {
        "id": "ZaoMMNzEKFHS"
      }
    },
    {
      "cell_type": "code",
      "source": [
        "arr[[4, 3, 0, 6]]"
      ],
      "metadata": {
        "colab": {
          "base_uri": "https://localhost:8080/"
        },
        "id": "mbF6wJNQJhCY",
        "outputId": "3f38a40b-36bb-4184-e5d0-07e232bcc8f3"
      },
      "execution_count": null,
      "outputs": [
        {
          "output_type": "execute_result",
          "data": {
            "text/plain": [
              "array([[4, 4, 4, 4],\n",
              "       [3, 3, 3, 3],\n",
              "       [0, 0, 0, 0],\n",
              "       [6, 6, 6, 6]])"
            ]
          },
          "metadata": {},
          "execution_count": 91
        }
      ]
    },
    {
      "cell_type": "code",
      "source": [
        "arr[[-3, -5, -7]]"
      ],
      "metadata": {
        "colab": {
          "base_uri": "https://localhost:8080/"
        },
        "id": "SJUXWaxMLMcD",
        "outputId": "1b43c0b6-be1e-4cd5-a65c-65053f01e5b6"
      },
      "execution_count": null,
      "outputs": [
        {
          "output_type": "execute_result",
          "data": {
            "text/plain": [
              "array([[5, 5, 5, 5],\n",
              "       [3, 3, 3, 3],\n",
              "       [1, 1, 1, 1]])"
            ]
          },
          "metadata": {},
          "execution_count": 93
        }
      ]
    },
    {
      "cell_type": "markdown",
      "source": [
        "- 다차원 색인 배열을 넘기는 것은 조금 다르게 작동함\n",
        "- 각각의 색인 튜플에 대응하는 1차원 배열이 선택됨"
      ],
      "metadata": {
        "id": "c0C9g9zDLYoX"
      }
    },
    {
      "cell_type": "code",
      "source": [
        "arr = np.arange(32).reshape((8, 4))\n",
        "\n",
        "arr"
      ],
      "metadata": {
        "colab": {
          "base_uri": "https://localhost:8080/"
        },
        "id": "LXyfUGk3LSD7",
        "outputId": "b309be38-c577-4a7b-982d-32adee75c35f"
      },
      "execution_count": null,
      "outputs": [
        {
          "output_type": "execute_result",
          "data": {
            "text/plain": [
              "array([[ 0,  1,  2,  3],\n",
              "       [ 4,  5,  6,  7],\n",
              "       [ 8,  9, 10, 11],\n",
              "       [12, 13, 14, 15],\n",
              "       [16, 17, 18, 19],\n",
              "       [20, 21, 22, 23],\n",
              "       [24, 25, 26, 27],\n",
              "       [28, 29, 30, 31]])"
            ]
          },
          "metadata": {},
          "execution_count": 94
        }
      ]
    },
    {
      "cell_type": "code",
      "source": [
        "arr[[1, 5, 7, 2], [0, 3, 1, 2]]"
      ],
      "metadata": {
        "colab": {
          "base_uri": "https://localhost:8080/"
        },
        "id": "REzgkUNoLiHP",
        "outputId": "eee205d8-869b-4f59-f72b-b9b544a05d01"
      },
      "execution_count": null,
      "outputs": [
        {
          "output_type": "execute_result",
          "data": {
            "text/plain": [
              "array([ 4, 23, 29, 10])"
            ]
          },
          "metadata": {},
          "execution_count": 95
        }
      ]
    },
    {
      "cell_type": "code",
      "source": [
        "arr[[1, 5, 7, 2]][:, [0, 3, 1, 2]]"
      ],
      "metadata": {
        "colab": {
          "base_uri": "https://localhost:8080/"
        },
        "id": "cRukZW5NLnYX",
        "outputId": "8620eee7-7b9f-4ada-c1dd-baaf8034e1b4"
      },
      "execution_count": null,
      "outputs": [
        {
          "output_type": "execute_result",
          "data": {
            "text/plain": [
              "array([[ 4,  7,  5,  6],\n",
              "       [20, 23, 21, 22],\n",
              "       [28, 31, 29, 30],\n",
              "       [ 8, 11,  9, 10]])"
            ]
          },
          "metadata": {},
          "execution_count": 100
        }
      ]
    },
    {
      "cell_type": "markdown",
      "source": [
        "### **배열 전치와 축 바꾸기**\n",
        "- 데이터를 복사하지 않고 데이터의 모양이 바뀐 뷰를 반환하는 기능\n",
        "- ndarray는 transpose 메서드와 T"
      ],
      "metadata": {
        "id": "qG5NPDCmMQFR"
      }
    },
    {
      "cell_type": "code",
      "source": [
        "arr = np.arange(15).reshape((3, 5))\n",
        "\n",
        "arr"
      ],
      "metadata": {
        "colab": {
          "base_uri": "https://localhost:8080/"
        },
        "id": "TQdUxLTXLyB8",
        "outputId": "a96aaa6e-e355-46b6-95cd-e71092173533"
      },
      "execution_count": null,
      "outputs": [
        {
          "output_type": "execute_result",
          "data": {
            "text/plain": [
              "array([[ 0,  1,  2,  3,  4],\n",
              "       [ 5,  6,  7,  8,  9],\n",
              "       [10, 11, 12, 13, 14]])"
            ]
          },
          "metadata": {},
          "execution_count": 101
        }
      ]
    },
    {
      "cell_type": "code",
      "source": [
        "arr.T"
      ],
      "metadata": {
        "colab": {
          "base_uri": "https://localhost:8080/"
        },
        "id": "DlKdJSRgMlAu",
        "outputId": "6eddc15b-d845-4171-a487-f0ad6ecdb221"
      },
      "execution_count": null,
      "outputs": [
        {
          "output_type": "execute_result",
          "data": {
            "text/plain": [
              "array([[ 0,  5, 10],\n",
              "       [ 1,  6, 11],\n",
              "       [ 2,  7, 12],\n",
              "       [ 3,  8, 13],\n",
              "       [ 4,  9, 14]])"
            ]
          },
          "metadata": {},
          "execution_count": 102
        }
      ]
    },
    {
      "cell_type": "markdown",
      "source": [
        "- 행렬의 내적은 np.dot"
      ],
      "metadata": {
        "id": "2mQdgH2FMqb6"
      }
    },
    {
      "cell_type": "code",
      "source": [
        "arr = np.random.randn(6, 3)\n",
        "\n",
        "arr"
      ],
      "metadata": {
        "colab": {
          "base_uri": "https://localhost:8080/"
        },
        "id": "yFeskYt_MnhW",
        "outputId": "792c405f-df2d-4d2c-fcc9-a1d5933e5421"
      },
      "execution_count": null,
      "outputs": [
        {
          "output_type": "execute_result",
          "data": {
            "text/plain": [
              "array([[-0.49798911,  0.32397004, -1.00377745],\n",
              "       [-0.16642573, -0.03404305,  1.03571864],\n",
              "       [-0.44148485, -0.86255557, -0.85711459],\n",
              "       [-0.50454774,  1.77424694, -2.11721106],\n",
              "       [ 1.30347422,  0.08822513, -0.04382038],\n",
              "       [ 0.32815725, -0.56171686, -1.26517786]])"
            ]
          },
          "metadata": {},
          "execution_count": 103
        }
      ]
    },
    {
      "cell_type": "code",
      "source": [
        "np.dot(arr.T, arr)"
      ],
      "metadata": {
        "colab": {
          "base_uri": "https://localhost:8080/"
        },
        "id": "OX1AnA70MwYu",
        "outputId": "4da06e47-64b3-437c-e0a3-306c1a02f761"
      },
      "execution_count": null,
      "outputs": [
        {
          "output_type": "execute_result",
          "data": {
            "text/plain": [
              "array([[ 2.5319002 , -0.73938726,  1.30184116],\n",
              "       [-0.73938726,  4.32137933, -2.67079344],\n",
              "       [ 1.30184116, -2.67079344,  8.90010558]])"
            ]
          },
          "metadata": {},
          "execution_count": 104
        }
      ]
    },
    {
      "cell_type": "markdown",
      "source": [
        "- 다차원 배열의 경우 transpose 메서드는 튜플로 축 번호를 받아서 치환"
      ],
      "metadata": {
        "id": "CICcHg6iM1kN"
      }
    },
    {
      "cell_type": "code",
      "source": [
        "arr = np.arange(16).reshape((2, 2, 4))\n",
        "\n",
        "arr"
      ],
      "metadata": {
        "colab": {
          "base_uri": "https://localhost:8080/"
        },
        "id": "juS2e75mMyuC",
        "outputId": "93ee69d5-5e7e-42a0-af93-5a4bf081b304"
      },
      "execution_count": null,
      "outputs": [
        {
          "output_type": "execute_result",
          "data": {
            "text/plain": [
              "array([[[ 0,  1,  2,  3],\n",
              "        [ 4,  5,  6,  7]],\n",
              "\n",
              "       [[ 8,  9, 10, 11],\n",
              "        [12, 13, 14, 15]]])"
            ]
          },
          "metadata": {},
          "execution_count": 106
        }
      ]
    },
    {
      "cell_type": "code",
      "source": [
        "arr.transpose((1, 0, 2))"
      ],
      "metadata": {
        "colab": {
          "base_uri": "https://localhost:8080/"
        },
        "id": "mKoDUteVM-MC",
        "outputId": "a3aa2526-6602-40a3-9c20-5ac3b97d511e"
      },
      "execution_count": null,
      "outputs": [
        {
          "output_type": "execute_result",
          "data": {
            "text/plain": [
              "array([[[ 0,  1,  2,  3],\n",
              "        [ 8,  9, 10, 11]],\n",
              "\n",
              "       [[ 4,  5,  6,  7],\n",
              "        [12, 13, 14, 15]]])"
            ]
          },
          "metadata": {},
          "execution_count": 108
        }
      ]
    },
    {
      "cell_type": "code",
      "source": [
        "arr"
      ],
      "metadata": {
        "colab": {
          "base_uri": "https://localhost:8080/"
        },
        "id": "ubszNhqYNB7t",
        "outputId": "1b7b13e6-20b7-48f0-b220-14ee38608403"
      },
      "execution_count": null,
      "outputs": [
        {
          "output_type": "execute_result",
          "data": {
            "text/plain": [
              "array([[[ 0,  1,  2,  3],\n",
              "        [ 4,  5,  6,  7]],\n",
              "\n",
              "       [[ 8,  9, 10, 11],\n",
              "        [12, 13, 14, 15]]])"
            ]
          },
          "metadata": {},
          "execution_count": 109
        }
      ]
    },
    {
      "cell_type": "code",
      "source": [
        "arr.swapaxes(1, 2)"
      ],
      "metadata": {
        "colab": {
          "base_uri": "https://localhost:8080/"
        },
        "id": "tjTWduXXTEUE",
        "outputId": "99145fe3-4293-425e-c33e-1cc60832811a"
      },
      "execution_count": null,
      "outputs": [
        {
          "output_type": "execute_result",
          "data": {
            "text/plain": [
              "array([[[ 0,  4],\n",
              "        [ 1,  5],\n",
              "        [ 2,  6],\n",
              "        [ 3,  7]],\n",
              "\n",
              "       [[ 8, 12],\n",
              "        [ 9, 13],\n",
              "        [10, 14],\n",
              "        [11, 15]]])"
            ]
          },
          "metadata": {},
          "execution_count": 110
        }
      ]
    },
    {
      "cell_type": "markdown",
      "source": [
        "## 2. 유니버설 함수 : 배열의 각 원소를 빠르게 처리하는 함수\n",
        "\n",
        "- ufunc\n",
        "- ndarray안에 있는 데이터 원소별로 연산을 수행하는 함수\n",
        "- 하나 이상의 스칼라값을 받아서 하나 이상의 스칼라 결괏값을 반환하는 간단한 함수를 고속으로 수행할 수 있는 벡터화된 래퍼 함수"
      ],
      "metadata": {
        "id": "RXtCNfiqTcFU"
      }
    },
    {
      "cell_type": "code",
      "source": [
        "arr = np.arange(10)\n",
        "\n",
        "arr"
      ],
      "metadata": {
        "colab": {
          "base_uri": "https://localhost:8080/"
        },
        "id": "QG6_tUR7TGfU",
        "outputId": "722a451b-23a7-4c25-949a-2d1babbb4978"
      },
      "execution_count": null,
      "outputs": [
        {
          "output_type": "execute_result",
          "data": {
            "text/plain": [
              "array([0, 1, 2, 3, 4, 5, 6, 7, 8, 9])"
            ]
          },
          "metadata": {},
          "execution_count": 111
        }
      ]
    },
    {
      "cell_type": "code",
      "source": [
        "np.sqrt(arr)"
      ],
      "metadata": {
        "colab": {
          "base_uri": "https://localhost:8080/"
        },
        "id": "VZ3pdQu0UYxL",
        "outputId": "f540e354-acf7-4e00-f774-8e5abafa4570"
      },
      "execution_count": null,
      "outputs": [
        {
          "output_type": "execute_result",
          "data": {
            "text/plain": [
              "array([0.        , 1.        , 1.41421356, 1.73205081, 2.        ,\n",
              "       2.23606798, 2.44948974, 2.64575131, 2.82842712, 3.        ])"
            ]
          },
          "metadata": {},
          "execution_count": 112
        }
      ]
    },
    {
      "cell_type": "code",
      "source": [
        "np.exp(arr)"
      ],
      "metadata": {
        "colab": {
          "base_uri": "https://localhost:8080/"
        },
        "id": "jqngdLyLUbAu",
        "outputId": "cf8c93a2-9163-4143-93cd-ec77ed974374"
      },
      "execution_count": null,
      "outputs": [
        {
          "output_type": "execute_result",
          "data": {
            "text/plain": [
              "array([1.00000000e+00, 2.71828183e+00, 7.38905610e+00, 2.00855369e+01,\n",
              "       5.45981500e+01, 1.48413159e+02, 4.03428793e+02, 1.09663316e+03,\n",
              "       2.98095799e+03, 8.10308393e+03])"
            ]
          },
          "metadata": {},
          "execution_count": 113
        }
      ]
    },
    {
      "cell_type": "markdown",
      "source": [
        "- Numpy의 numpy.exp() 함수는 밑이 자연상수 e인 지수함수(e^x)로 변환\n"
      ],
      "metadata": {
        "id": "uiYW181aUv0a"
      }
    },
    {
      "cell_type": "code",
      "source": [
        "x = np.random.randn(8)\n",
        "\n",
        "x"
      ],
      "metadata": {
        "colab": {
          "base_uri": "https://localhost:8080/"
        },
        "id": "llescI0JUcw7",
        "outputId": "86ea2a70-c436-4c87-c5e1-f7f4cbdb2c01"
      },
      "execution_count": null,
      "outputs": [
        {
          "output_type": "execute_result",
          "data": {
            "text/plain": [
              "array([-1.56404148,  0.19969113, -1.18075946, -0.52707864,  0.40722957,\n",
              "        0.36228601,  0.57857961,  0.6359508 ])"
            ]
          },
          "metadata": {},
          "execution_count": 114
        }
      ]
    },
    {
      "cell_type": "code",
      "source": [
        "y = np.random.randn(8)\n",
        "\n",
        "y"
      ],
      "metadata": {
        "colab": {
          "base_uri": "https://localhost:8080/"
        },
        "id": "K8BTC8tcU6xv",
        "outputId": "09c0e8a1-43ac-447d-91a6-a3364712c063"
      },
      "execution_count": null,
      "outputs": [
        {
          "output_type": "execute_result",
          "data": {
            "text/plain": [
              "array([ 0.84603964, -0.56276905,  0.25801189, -0.47164861, -0.69908771,\n",
              "        1.20902458,  0.33652843,  0.064211  ])"
            ]
          },
          "metadata": {},
          "execution_count": 115
        }
      ]
    },
    {
      "cell_type": "code",
      "source": [
        "np.maximum(x, y)"
      ],
      "metadata": {
        "colab": {
          "base_uri": "https://localhost:8080/"
        },
        "id": "06IU-ythU8yf",
        "outputId": "8e415c09-145a-46cf-a69a-c4f41cf86959"
      },
      "execution_count": null,
      "outputs": [
        {
          "output_type": "execute_result",
          "data": {
            "text/plain": [
              "array([ 0.84603964,  0.19969113,  0.25801189, -0.47164861,  0.40722957,\n",
              "        1.20902458,  0.57857961,  0.6359508 ])"
            ]
          },
          "metadata": {},
          "execution_count": 116
        }
      ]
    },
    {
      "cell_type": "markdown",
      "source": [
        "- np.maximum은 x와 y의 원소별로 가장 큰 값을 계산한다"
      ],
      "metadata": {
        "id": "qJlqOc0IVICl"
      }
    },
    {
      "cell_type": "code",
      "source": [
        "arr = np.random.randn(7) * 5\n",
        "\n",
        "arr"
      ],
      "metadata": {
        "colab": {
          "base_uri": "https://localhost:8080/"
        },
        "id": "PWlgCRk8VGyp",
        "outputId": "3946f714-0039-4359-e95a-5508d51e0cfe"
      },
      "execution_count": null,
      "outputs": [
        {
          "output_type": "execute_result",
          "data": {
            "text/plain": [
              "array([-9.78022864, -2.40157551,  4.02801612, -7.61201305, -4.04136945,\n",
              "       -1.54156144,  1.97297327])"
            ]
          },
          "metadata": {},
          "execution_count": 117
        }
      ]
    },
    {
      "cell_type": "code",
      "source": [
        "remainder, whole_part = np.modf(arr)"
      ],
      "metadata": {
        "id": "CM9lIABdVVhz"
      },
      "execution_count": null,
      "outputs": []
    },
    {
      "cell_type": "code",
      "source": [
        "remainder"
      ],
      "metadata": {
        "colab": {
          "base_uri": "https://localhost:8080/"
        },
        "id": "1yofOoZgVZZE",
        "outputId": "0e6935cc-e296-4b45-ce83-b3ef0e3c0c96"
      },
      "execution_count": null,
      "outputs": [
        {
          "output_type": "execute_result",
          "data": {
            "text/plain": [
              "array([-0.78022864, -0.40157551,  0.02801612, -0.61201305, -0.04136945,\n",
              "       -0.54156144,  0.97297327])"
            ]
          },
          "metadata": {},
          "execution_count": 119
        }
      ]
    },
    {
      "cell_type": "code",
      "source": [
        "whole_part"
      ],
      "metadata": {
        "colab": {
          "base_uri": "https://localhost:8080/"
        },
        "id": "GnUAtdyiVaPr",
        "outputId": "2d3b0620-e8a7-4eac-a149-e091e85ef315"
      },
      "execution_count": null,
      "outputs": [
        {
          "output_type": "execute_result",
          "data": {
            "text/plain": [
              "array([-9., -2.,  4., -7., -4., -1.,  1.])"
            ]
          },
          "metadata": {},
          "execution_count": 120
        }
      ]
    },
    {
      "cell_type": "markdown",
      "source": [
        "- 단항 유니버설 함수"
      ],
      "metadata": {
        "id": "3mqZqzOyWW7T"
      }
    },
    {
      "cell_type": "markdown",
      "source": [
        "![image.png](data:image/png;base64,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))"
      ],
      "metadata": {
        "id": "SSaVw6o1WOeJ"
      }
    },
    {
      "cell_type": "markdown",
      "source": [
        "- 이항 유니버설 함수"
      ],
      "metadata": {
        "id": "sJO2ANvcWac2"
      }
    },
    {
      "cell_type": "markdown",
      "source": [
        "![image.png](data:image/png;base64,iVBORw0KGgoAAAANSUhEUgAAAp0AAAFzCAIAAADzESUGAAAgAElEQVR4nOy9fVgTx/r/Pz5FJMEHMJCogMpDRaoQROxHkVasIgi0FaViW8AegxWxRc4RahHag3pUPEVtI34NtoA9iqJoi1RAi9aIFAMmoCJKQA2oCcYoXklQY7W/P+Z39tqzSZagQVu8X3/k2p2d2Z3d2ex75p57Zvr88ccfCAAAAACAXkHfl50BAAAAAAAsRv9z58697DwAAAAAAGABJk2a1B8hZGtr269fv5edGQCwPJ2dnX/88QeTyXzZGQEAAOhZ9Hr9/fv3EUL9EUIDBw4cMGDAy84SAPQIer1+0KBBLzsXAAAAPUvfvn2xrkP/OgAAAAD0HkDXAQAAAKD3ALoOAAAAAL0H0HUAAAAA6D2ArlueVatWBf+XVatWEeHV1dXBwcE3btwwmurevXu5ubkvKo8AADwvJ06cMAzcuHGjmcmrq6v/85//WDRHAIAQ9ocHLEt0dLROp8Pb5o+w0ul0hYWFixcv7rF8AQBgScRicWBgIE2Ew4cPC4VCSuDmzZtff/31nswX8KoDum5Jrl+/bliFr6mpQQjNnj2bPq1MJhswYMDhw4ffe++9nsofAAAW4t69exqNBm+LxeKOjg7DODqdLjQ09J133iFCNm/evGfPniFDhiCE7t+/7+np+WJyC7xSgK5bktGjR3/88cemjpqywGOOHj2amJi4efPm8ePHv/baaz2QOwAALMaxY8euXLmCt9vb2+/cuWM0mrW19ahRo4hdBoMRGRnJ4/EQQtXV1c3NzS8gq8CrBui6hens7Ny/f79YLL5+/TqTyZwyZUpERMTYsWOJCJs3b3Z3d1++fDkRcvXq1fz8fCcnp8DAQJ1Ol5OTs3r1ajs7u5eRfQAAukatVh84cGD06NHbt29fvnx5WFgYccj8/nUA6CFA1y3Mzz//LBaLFyxYMHr0aJ1Od/DgweTk5C+//HLChAk4gru7u5OTE95ub28/ePDgyZMn2Wx2fHw8QigsLKyuri4pKSkkJGTy5MnkCgEAAH8G1Gr1mjVr2Gz28uXL8d+WXE3vkpycHOx2o9Vqp02b1lO5BF5hQNctzIULF9atW0e0tidMmLBs2bLa2lpC19955x1sl+vs7CwsLBwzZsz69evJhvfPP//84sWLMplsz549H3zwAUg7APxJ6OzsPHToUF1dXWBg4Ny5c62trfPy8ioqKjZt2rRkyRKjNjaVSiWVSoldnU4XGBjo4uKCEGpqanr8+PGLyz3wygC6bmEmTJiQlJQ0f/58Npv9+PHj4uJilUr15ptvGsa0trZesWKFYfiAAQN4PB7ugQMA4M+DtbW1s7Pzhx9+SIQ4ODgsWrTIVPwxY8bU19fv3buXCGEymZMmTRozZgxC6NGjR9C/DvQEoOsWZu7cuVqtViQSXbt2jclk+vn5LVu2zLDNffXq1VOnTplzQhj5BgB/HqZPn44Qunr16u3bt41GmDdvHrE9bdo0sLQDLx7QdQtjbW1tSont7e0jIyNx15pOp7t06RL5qF6vb2pqgoGtAPDn59SpU4WFhUYPvfnmm59//rnRQxcuXNDpdAMGDJg0aRJCyN7efuDAgT2YS+BVpU9tbS2Xy4V1Wi3IhQsX8vPzDUemdnZ2Xrt2zZSv+40bN/h8fmlp6QvJ46vCgwcP9Ho9Hi4MAC+AjRs3UnT9zJkzp0+fHjRokJ2d3dChQx8+fKhQKH7//fc//vhj/vz5hBctADwnjx49am9vnzRpErTXLY9Op2toaPj3v/9NCa+uri4pKXnw4MFLyRUAAJYiNzeXpr1O3sWOtF9++eUbb7xBiVldXX3w4MGkpKSeyiXwqgK6DgAA0G1Gjx4dExNjGG5ra0vera2tRQgZijoOPHjwYA9lD3iVAV0HAADoNiwWy6haU/D19S0sLDxy5Ah57hrMkSNHRowY0TO5A15pQNctD5PJ9PT0NFycrbOz09PT05QrQ9++fe3t7Xs+dwAAPC/Dhw+3trY2ugCjtbX1+++/T+xOmDBh8+bNJSUlV65c4XA4OPD27dtPnjx58uQJzbTTAPDMgN8c0JsBvzngT0V1dfWoUaPIM8YDgKUAvzkAAIAXjTmmewB4Tvq+7AwAAAAAAGAxQNcBAAAAoPcAug4AAAAAvQfQdQAAAADoPfRHCN27d69vXxB4oBei1+v79Onz+++/v+yMAAAA9CzEsr/9EUIuLi5WVlYvNT8A0CNoNBqNRgOzfwAA0OvRaDRNTU0I7PAAAAAA0JsAXQcAAACA3gPoOgAAAAD0HkDXAQAAAKD3ALoOAAAAAL0H0HUAAAAA6D3Aui8vk3379i1cuNDoodLS0tbW1qVLl77gLPVW5HK5UCg0dfSDDz4YP3680UMNDQ02NjZOTk4IoStXrgwePJjL5R44cIDD4UyfPl0gENTX1+fk5ODIOp3u+++/1+l0Wq3Wysrqrbfe8vf3J07l6+ublZUVEBCAdy9evHjkyBGE0ODBg6Ojo21sbBBCxJkpkTFisVipVIaHh1MySckGhYqKipaWFkpgXFwcQkgkEiUlJRUVFTk7OxOHKisrKyoq+vfv37dvXzs7O51O19nZ2dnZOWXKlJkzZzKZTFOPESF04sSJs2fP2tjY6PV6jUYzZ86cKVOm4Jzn5ORQcrhz5862tja8HRgYGBgYSNymYeSff/65trZWr9cPHz585syZEydOxOFCoXDcuHGUB0Vm165d169fHzBgAJ7MYNiwYbGxsXZ2dsigRAzvhcgShcrKyrt37+JtFxcX4vFyOBw/Pz+BQJCXl1dbW4sDi4uLlUolOfnkyZN5PB5CSC6XR0REEDENycvL0+v15BBvb28/Pz+EEOUqGMPvxoYNG1avXo0LmuZCQG8CdP1lcvHiRVOHWlpa6uvrQdcthVwud3Z2xmLWLU6ePOnk5IR1/dSpU+PGjeNyue3t7QMHDjSMnJiYOHPmzBUrViCEFApFWFiYq6srFmxDMjMzv/76azabnZaWtnv37uXLlyOETJ0ZIxaL6+vrDXWdHspCzMePH5fJZKYehVgsTkxMNFQ7iUSSlJRUU1Ozdu1aUxfatGnT6dOn9+/fT2j/kiVLsK4bxfzXe9OmTXfu3Nm8eTNCqKmpKT09/dtvv2Wz2V0mbGpqunLlCk6ICQ0N/f3331NSUrpMS6Prt27dun37tlarPXjwYHJy8u3btxFCZWVlXC4Xiy6ZUaNGDR06lNitqak5c+YM1vUuKSsri4+PJ4eQT2WI4Xfj6tWr5lwI6E2ArgOAZZBIJFKpNCMjA+9yudzg4GCpVEo02aVSKTmyo6MjVqa1a9cmJib2XMYopojMzMw5c+aYiqxUKhcsWGDYhPXx8YmPj8/MzKTR9dLS0vj4eHKD3sXFRSQS0TSmzUEikRw4cKCgoADvuru7h4eHf/PNNzQ5IVAqlW5ubuQQHo/X3NxsznUvXbpk6lBkZCRCSC6XHzx40Nvb293dHSFUX1/v6upqGNnHx4e829HR0draak4GEEIsFqtbT6+9vV2j0eC8yeVyhNCjR4/MTw70DkDXewS1Wq3Vaq2trQ2bFB0dHffv3yebPcnI5fIhQ4bQV8mBPydarRYhhA28GAcHB61Wm5CQgHfz8vKIQyUlJb6+vsSumRM56/V6tVr9zDnUaDTJycleXl6LFy8mh3/zzTeDBg1at24dQmjYsGEymQybN8hxFApFTU2Nqd4KInsMBoMcMmjQIEoIZufOnVjb7t6929LSMnnyZBy+fv16w8hVVVUcDocsz66urjS9KmQ8PT2LiooqKysdHBwYDEZjY6NUKv3000+7TLhhw4YnT54cO3Zs9uzZpuLcvXvX1tYWizpCSC6Xv/XWW+bk6pkpLCzEtgGEUH19PeVoZ2fn2bNntVqtWCzu16/f5cuXEUIUMz7wKgC6bmF0Ol1iYqJUKuXxeHK5fObMmWSLn0AgOHjwIIvF0mq1FPOaWCxOTk5GCDEYjCVLlrzofL8CyOVykUhk9BCHwyG+zoZkZGQQrfCsrCy8IZPJRCJRe3s7Ec3Dw4PFYjU0NBAm1rKyMq1WS9Zvgra2NnKjedCgQebcQmNjI7mpRz6zOXbdjIwMPz8/iqgjhD799FNCxadPn15fXx8REREVFUXIbWNjY05OTnBw8O7du2nOv2jRoq1bt/J4PHy2pqYmiURi1BRBGIpxV7pROSdgMplKpVKn0xGWAL1ez+FwurxfhJCdnV1SUtKuXbtwD7ejo2Nubm6XBvy0tLTTp09v3LgxISGho6MDt84NaWtrmzlzJt6WSCR379718PAwJ1fPDDknAoGAbAFCCFVXV9va2oaHhycnJ//888+TJk1CCNXU1PRoloA/IaDrFqaiokKj0ZSWlrLZbIVCERUVNWbMGPxvxKKen5/v7OwsEomys7PJPa95eXkZGRkBAQFyuTwlJcVUpyzwbLBYrPLy8vLycqNHY2NjaXQ9PT0dd2mT24gFBQXYMkwIKpvNjo+PFwqFGRkZbDZ7z549Wq02IyODxWLhCElJSTQ5JEQ6PT3daASVSoW/4zKZDDdeCTco7DdHc/Kmpqbs7Ow//vjDUNQNSUhImD179u7du3/44QepVOrq6urs7CwUCin2ZKMJEULLly/ncrkIIalU+tVXX9En0Wq1FHEyJDQ0ND8/v6Ghgei6Pn36NNkhkR5nZ2ejFnuVSmU0flpaWmlpaVZW1htvvLFgwYLMzExPT09PT0/DmC0tLRMmTMDbzc3NLBbL6CNKTEysrKwkh8TGxpqZ+W7x008/xcfHe3h4VFZWHjx4MCYmpieuAvz5AV23PPPmzcMNAtzDWlVVFRkZqdPp8vLykpOTcVMmICCAxWIRX3CVSjVgwADckebs7JycnBwXF2emZw1gDj4+PpZ1BsZiTxHUyMjIxsbG4OBghJCTk1NWVlaXWkiALQHHjx83FeHkyZMIIR6P19bWRukzpufbb7/Nz8/n8XiE1aFL3N3dsVm+uyQkJAQGBt65cwchtGrVKpraEgY3oyUSCc2DwhWmrKys6OhoFovV0tJSU1Nz6NChLjOzadMmo13pGo2mubmZML2Q+frrr0+fPk24DWJjW1pa2s6dOw1b+bdu3Vq5ciXerqqqmj59utFs6HQ6Ho9narQCPVqtljAy6fV6bFqvrKykWPsQQoWFhe3t7Tjb33777eLFi9lsdkhIyDNcFPirA7puYcLDwxUKBR6PhBBSKBQ6nQ4h1NTU5OTkRDaj+fj4vPbaa3i7pKRk6tSp5EPh4eHEECDgedBqtdiBqEvYbLa1tfVzXm7VqlULFiy4c+cOrsCRLx0TE0OsLOfg4EAMlEII6fV6/EU+f/680dMqFIrs7OyUlBQ/P79t27ZhJ3P6IWcYnU43duzY3bt3M5lMvV5PeRQMBiMmJoYwDpnZaR0UFETpfe/s7CQP7sDrQ3Z0dJSVlen1eq1W++TJE6OnamhoWLlyZWZmZk5ODo2NKjIycty4cU1NTbdv37azs/t//+//mZPP0NBQ/O9raGjYvn17dnY2QsjBwQEhZOjF8uOPPx46dMjHx6egoADbG/Aw1JSUlLKysi+//JLBYERHRxP1j4aGBiJta2urWCzOz883J1fdYs6cOVjLEUK2trZOTk62trYzZswYPXo0+VWRSqX19fUbNmzAu2w2e9u2bfhltrW1RQgxGAwzey6AXgDouoURi8Xx8fHBwcETJkzgcDg2Njb4y/L48WOyRxWG6FXV6XSUo7a2tqDrFuHkyZNmNpWys7MNByl1l4sXLxq2pQi8vLywy/TUqVMbGxuJLvYuV4jPy8ubP3/+ggULEEIeHh5/+9vfEELmjPViMplz584ViUTR0dGm4oSHh+Ov/zOMA8Tcv3+feMiPHj26dOkSYWoeO3bsqFGj8L+AQlpa2ujRoz/44IN79+7t27ePz+fTXGLixInEmHUzIYznDx8+RAjhwuXz+UYt/+++++67775LDiFqKnPmzKGMIFCpVMuXLydMGpWVlYsWLeqWEcVMKBZ7iUSCSPdFwOPxsHmP4kEik8lw6SOEzLfWAH91QNctTGlpKbkn8vz588SUFHj8iSnAbbWHCAsLMxwnzefzn80u2iV+fn6mDP5kN7eQkJCSkhK8LRKJ6O0EEomEbHkODQ3ds2cPQmjFihUZGRld2roJzOmJUKvVcrnc/O4DDJfLJZ4nnmuFGAWAEYvFlCS4GxvPzJOQkBAdHf3mm2+afy8qlaqxsRFnuMvILBaL6NVatmwZHrmAuvJ4oAE7+hHnrKys/Oc//2lm2urqar1e39LSotPphg0b1q3r7tixQ6PR7Nu3DyFkb29v2FVHf0cwL80rAui6hdHpdORvIuEvPWzYsObmZpVKRW5gEZbYsWPHXrlyhXweM4fYAi8Ao/7wzw+TyUxLS3NwcDh48KApXzmEUGFhYXZ2NtnfjcvlYoN5enp6UlLS/v37LZUlhFBLS4vhXG+WRa1Wf/7551KpNDk5GVu8EULvvPNOXFxcfHw8xfm8srKSYt+WyWSEMLu6unbpgq5QKBBCxB11t8piSG5ubmVlZVZWFu4HkUgkf/zxB73hRCqVkmt1HA6Hy+VyOJyxY8d269L43vHQgMjISKOO+kZn0MPzzXXrWsBfF9B1C8NkMk+cOOHl5WVnZ3fq1CmpVIq/XG5ubjNmzFi9evXatWu5XK5cLi8rKyOa8iEhIUePHsWj4zo6Ovbv319XV9cTZj2guyQkJFCanvSIxeI1a9YQI8TIBAUFDR8+nNhNTU2VSCRarXb79u1G3a0xbm5u6enpFPdv3K797rvvHj58aE4vO3FFo+GJiYnmzN1mKZ48eTJjxoyMjAxC1BFCERERjo6Ojo6OlMju7u7YPm9lZTVkyBAc2K9fv1GjRuHtLn0Campqjhw5YrSmkp2d7eLigoxN9YoQam5uNjz53Llzw8PD/f398d9Tp9OVl5fjuQJNsXHjRlwRYbFYlO42Mz0/MLt27Zo2bRqLxdq9e/eyZcvMTwi8aoCuW5i4uLiVK1fi1nZERER0dPS1a9fwoc2bNx89ejQqKkqr1bJYrJiYmBkzZhAJP/vss5UrVyqVSgaDwefz4+PjL1y48HLuAXg+nJ2d6QdkY4YOHWpqmlIyNMMimEym+aKOTMz68uKxt7dftGiRYbhR5wZ7e3t7e/seyglxRcpUr5hx48YZJrGysrKzsyPkmclkrl69mv4q5PjPBjFMcdu2bQihzz77jM/nmzPcAHg1AV23MFwuF/d+GSUkJOTNN9+8efOm4R/Szc2tpKREpVLhxTbQ/85BAfyFUCgUAoHA6CF7e/uXWKymchUWFkb2b5fJZDQubImJiTTWhT8nNHfk6uqakpLy/Mb5HkImk23fvr2ystLV1XXLli048PPPP09PT1+0aJG/vz+fz6cUx/Hjxw1HVZAnUAJ6PaDrLxomk0lTy36R5tBXGaPzeJsPYZm3t7ennMrBwYFm9nXzz8zj8YgJbbrEMBsUOByOmXOhODo6zp8/nyZCl7kaPny4oRcCk8k0/5l3KzKHw6HP0uTJk2lcwc1/yOZj1KPNKAwGgz4mi8WysbGhdJljL0WJRHL48GFKfFOl7ODg0EOT4QB/QvrU1tZ6enri8aYA0MvQaDQajYYYNQ4AANBb0Wg0TU1NkyZNMmu1CQAAAAAA/hKArgMAAABA7wF0HQAAAAB6D6DrAAAAANB76I8Q6ujo6NYoWAD4q4DHDdLP4AsAANAL6OjowBv9EUI3b958qZkBgJ7FnCnEAQAAegf9EUIwzg3orcA4NwAAXhHwODcE/esAAAAA0JsAXQcAAACA3gPoOgAAAAD0HkDXAQAAAKD3ALoOAAAAAL0H0HULoNPpRCLRy84F0AWpqam+/yU1NZUIl8vlvr6+RAk2NTVRSvPSpUvENp/PN7XaKRmRSNTQ0IAQIp/ZHAQCAR6VR0moVqsFAgGfz09LSxOLxYapaFZWRQipVCqBQBAaGurr64tvQafTEVkVCoXm59BSSCQSkQkkEgkRDf+5VCoVOS25RNasWdPltZqamnCpFRcXm1N8BIWFhbgUDMtdpVJt2LAhMTExNzeXPJASv05dnpbP57/11luzZ89OS0vDPswYX19fuVxufg4BwBBYp9UC3LlzJykpqba29mVnBKDjgw8+CAoKwtvDhw83Fe3YsWN5eXnk0tyzZ8/69esNYzY1NR07dgxvT5w4kVj0OiEh4fz5805OTvTrlO/cuXPp0qWU7by8vLCwMDs7O0rkjIyMwYMHe3l54W288Kj5q4avWLFCq9XGx8ezWCylUrl7924Oh0O/HivG19eXskiopYiLizN1yNvbe9euXXgb/7mysrLISxibKhGxWIwrPQ4ODsSK4y4uLkwmMy8vj1gD1yibNm0aM2ZMZGQkQkgikezYsSMnJ+f48eNeXl6Gty+RSJKSkvz9/V1dXauqqi5durR582azbhuhysrK7Ozs+fPnf/TRR3q9fv/+/XFxcUKhkGb5ZkxxcXFrayv9XQAAAl1/YZw4cSIwMNCy5xSLxUOGDHnttdcse9reh1wuLy8vpwRWVlYGBQU5Ozs/82ltbGycnJxOnDhha2trZ2fn5OSUkZGxfPlyM5O3trYS221tbTQxd+7c+dprr8XHx+PdgICATz75BCE0ZcoUPFNkc3OzjY2NqeRSqVSr1e7fv5+YVnLmzJnr16/vUtdxw/Hu3btm3U/3sXiNYciQIY8ePSooKNiyZcvAgQPz8vKcnJzeeOONzs7OLtM2NzcTz0er1UqlUlMxz5w5k5qaum7dOn9/fxyyYcMGPp/v4OCAEHrw4AH9hSoqKnJyctzc3PDu22+/vWTJku+++27Tpk30CbVabc+VBdCbAF1/QfSQrjs5OYGud4mzszNuHYpEItz461JOyEbXlpYWwiROnpKWy+WGh4e3trbiprmnp2dGRobFSxkhVFtbSzazT5w4Ua/XI4RcXFxw600gENTX15tKzmAwlErlzZs3iRahXC7v169fl9fdt28fQujnn39+9913n/MWnpPjx48T5hCE0N27d4kSIToUEEKvvfZae3t7QUHB9OnTEUJHjhxxdXXtbldIl0ilUjc3N0LUEUKenp5Xr15dt24dQkgul586dYomOYPBwGfAuyqVSqlUErv0162pqVm2bBnZdAEAhoCuG0cikWi1Wg8Pj+7+hSQSCYvF6tKkhrl06VL//v1xZJ1Od+7cOYSQp6enoRkW56cnzKGvFC0tLQghpVKJd7F4a7XaLhMmJSUR2+QP+gsDCzkFe3t7c9J6enr6+/snJSXFxMQ4ODicP3/+4MGDn3/+OX0qtVpdWloaGxubl5cnk8nMEZ4XRk1NTU1NDd7mcDgvPgOGKw6Yn405c+asXLny2rVrEyZM0Ov1uPL08ccfd5lQp9OxWKzvv/8+JSWluxkGXilA16l8/fXXjY2N/v7+LBarvLy8vb393//+99ChQxFCvr6+RUVFhOW2uLh46NChhNYWFRXV1dU5OjrqdLodO3bY29t/9tln1tbW2EXr4sWLqampTk5OS5cuFQgElZWVjo6ONjY2c+bMQQiJxeJ9+/ZNnTqVwWBkZmZOnz49NDQUIaTX63fu3NnY2Ojm5jZixIhVq1YhhFJTU/fv39/a2trS0mJlZXX27FmjfY0ABYVCUVBQEBMTs2/fvsmTJ48ZM8bJyQmZmD2e3IupUCjwxxchZOieptfryaZXopZw6tQpogJhlObmZsJhjRxz27ZtgwYNIsdctGjRzz//7OLiwuVyEUJ79uxxdXVFCNXX1+NmektLC40dHiG0devWhoaG69evd3R0uLq6bt++Hff9kxu7ZHQ63aZNmxYvXhwTE+Pt7Z2VlZWeno6vbikYDEZBQYFh/whCaMiQIcnJyeSQWbNmkSu1CoWCeOcpfnO4AqTRaPADIT9YoVB45cqVMWPGmMpSXV0dLhGy51plZaVCoZDL5di5ASEUFhZWWVm5YcOGuLg4Ozs7uVxeUVHBYrHwP71LOzyPx8vPz29padFqtX379k1JSXF3d8ddAKaK48SJE0KhMCYmxtXVde3atbt3746Ojqa/CvAqA7pOpaCggLDTzp8/Py0t7ebNm1jX6SkrK8vJySF2+Xx+dXV1YGAg/gCtWbMGm+kwzc3N8fHxxKfq5MmT8+bNww1BDw8PPp+Pdb2urq68vDw3NxebDd5///20tLTq6mrsYyUQCJycnMLDwy14+72YjRs3JiYmhoSETJs2bfXq1d9++y1+dHK5fPv27c982sbGRhaLhRDCXs337t3D4SNGjBg3bhxNQldXV8J3jNzX/tlnnzk7O5MFb8aMGTqdLiwsDO/6+/sT9QwMvR3eqKu8RqNpbm5GCGVlZVEOFRYWZmdnR0VFxcTE4MvduHEjLCwsNjbWlNOWQqFIT083DPf19SV8AylUVVWZyvDzcPnyZYTQ3bt3bWxsFAoFuWE9btw4+pX9vL29if4a4vn7+/snJCSQn6Gzs/O+ffsEAkFYWJher2exWP/4xz/wHxYhJJfLacz+mzZtwo+dAi4Ow7KQy+UpKSlKpTIjIwN/LrCoSySS1NRUMMgDRgFdp8JisVpaWgjFXbt2rZkJ33vvPfLurFmzyB9rCq6uruT2B9mwxmAwiDZfc3NzREQE+d/70Ucf0bfMAENUKtX333+PEAoJCUEI+fj4vPvuuwsWLAgODja0f+KWE/k7Tj/uSCaT4Wof/l4TDUQ3NzcL9puEhoaGhoaa6uWxt7fHLXijEA3NyspKXHdkMpkuLi4sFsvHx4csQiqVauvWreXl5cHBwR9++CFCSCQSeXh4LFy48M6dO3l5eWVlZYmJiW+//TblEgwGg7gKGWwReR4YDAZCKDs7+4cffiACaTogcCm0tbVZW1vjsiAawQEBAR0dHTT/ym6RkJAQFRUll8spoxIYDAaPxzOVasyYMfgFa29vx90cCKGJEycihJydnSlenEePHs3OzhaMBQYAACAASURBVOZyucnJyT4+Pria4u7unpaWxufz8QscHR1tWTsK0AsAXacSHx+fmZlZVFQUFhY2b94882vEkydPJu9yOBzcdDCKoTb/8ssvJSUlOp3u0aNHRKBWq6W0+czsuQcI1Gr1ihUrWCwWuVG+cOHCvn37Xrt2jc1mU2Q7NDTUxcWFHIKlxSjY76Fv374Iod9++83f318mk1n6Dv5/sABrtVpD8z6Hw6HRdaKRrVQq6UdJsdnsx48fk/0KiTFmCQkJs2fP/uGHH+7cuWOY0M7OzvzxV/ihdRkNVzu4XK5hK5ZmFENdXR2Px1Mqlbdu3eJwOCwW6/r162ZmrLvIZDK9Xm/YOv/oo49MJcHj6BBCIpGotLSU/qFptdrJkyd/+eWXeLempqa1tdXd3d3Nze3AgQP79++vrKwEgzxgCOg6lcjIyLlz516/fv369eu7du1qa2tLSEgYP358lwmtra2f+aKpqan29vYxMTG2trYKhYL8bzfqMAWYj52dXVFREcUV8ebNmx0dHdhM0q9fPw6HQ4g3m81ms9nmeIopFIrMzEw+n6/Vardv33727NmcnBzylC+WhaaaKBaL+/TpQ+4GMsqQIUOIbWJmnrt375Lbl5mZmaaSu7u7m2++ouHGjRuUqolYLO7Xr9+kSZPIgRwOBzeFcSXDnBIpKysbP3782rVrMzIyWlpali9frtfrT5069frrrz9/tg25evWqYQWlo6OjsLCwy9ksGAwG4Wq3c+dOo1YEohJgCK5pwVh2wCig6/+DWq3GhjU8bGnu3LnYxw3rOovFunv3LtFWUCqV5H73U6dOYTMvpqWlBXe7dgnuzDt16hQ20JG/FLa2tufOnSObPQsLC0eMGPFSXLL/uhiOL7h27ZpQKBw1alRISMioUaNKSkooEfLy8ui9EXU63cqVK21sbJYuXSqTyaKiorKyspydnadMmZKbm2tOrsrLy4lOXHO8qWkmctHr9TT96xiRSETudCDuTiQS0dQYegJDjxC9Xs9gMGhuEJlRIgihvXv3fv3113guATc3t+DgYIRQSkqKmbqel5eXl5dnTkzMokWLDAPlcnlhYSF9QolEwmAwiLeO7IJg1JEQALoF6Pr/0NrampSU9OuvvxIhOp2O6CN0c3MjvKIQQlKplGwkP3bsGFnXi4qKuhxKhMHy//DhQ6zreCwWxsXFRSAQvPfee4T5/fjx49ibCXgezp49y+FwDh8+TC4ycyDaxEwmMygoCHtLubm5EW5NM2bMsLOzM2ey0u5OUEg/OylNny4mKSkpOzvbsIrD4XCsrKy6lZM/FWR31CVLluCOs/DwcKJx/49//KOxsbHL83Rp7TAkNDSUfsiDKXbs2GHqirGxsWa2BwDAFKDr/wOWz8TExOjoaGdn5+Li4gMHDhQUFOCjs2bNOnDgQGBgoEqlKikpIWs8QkipVAoEgqioKLVanZ2djf73U0vToejj4+Pq6rp3794VK1Y0NTUVFxcTh3g8HofDSU9Pj46O5vF4mzZtkslkxGmZTCYxWSZgPiqVqrGxMSsrKy4uLi0t7Zlty4sXLya2ifqBoXBakOXLl1P6/gmeWQzIHhtGqw7ksfuYHppZ9vkhckW22LPZbHN0/Rlwc3OjjMd7fgjTOp/PNzrnHcWiQJ5zFwAwoOv/A5PJLCgoqK+vr62tra2t5XA45AHrkZGRQ4cOxSNcXV1d169fj/vUbW1t09PTZ86cWVFR8d133w0dOnTOnDmTJ08mpqXEaXHCuLi4GTNmeHt7k6/73XfflZSUCIVCPGaGvA7Ed999J5VKm5ubjxw5Eh4enpaWRpw2MjLyp59+EgqFzzkf6itCQ0NDTU1NQ0ODXq9PTEx0d3cvKCg4dOhQUlLS1KlTXVxcPD09yS5y5AoWhZc4ttBU2/r333/v7Oykd/L47bffjLYvhw0bhidoKyoqMicPNLPr9xw3b940VSKTJ09+KT7hf/zxh6nikMvl9H9JtVpt6na8vb3xnMTm+NbQOHUCryx9amtrPT09/9KGOAAwhUaj0Wg0I0aMQAiVlJR0dnbOmDGDMsZBrVbjFg95tOHJkyfxgmxGMd9fic/nL1u2zPwFWmgSdmnbj4qKorEW0Ayqxp7n3c2hBSksLLSysqKvLe3cufPx48dGD82ePdvMcSKVlZW3bt2i8UczBXlVGILc3FxTPpITJ06kMWnQjwhwc3ODoWvAM6DRaJqamiZNmgS6DvRmyLoOAADQiyF0HdZfBwAAAIDeA+g6AAAAAPQeQNcBAAAAoPcAug4AAAAAvYf+CKGHDx/26dPnZecEACyPTqd78uQJecp9AACAXsnDhw/xRn/0vxOcAUDv4/bt2y87CwAAAC+I/gghGOcG9FZgnBsAAK8IeJwbgv51AAAAAOhNgK4DAAAAQO8BdB0AAAAAeg+g6wAAAADQewBdBwAAAIDeQ7+4uDh7e/v+/WHBVsvT2dl569atoUOHPud55HL5kydP6JfgBIyi1+v1er2NjY3hIbVaffHixZEjR3Z0dOzevXvSpEnko+fPnz979qxKpXr06BF5kbTi4uL79++PHDnS8GwqlYpSTKYiEzQ0NFRXV//2228XLlxQq9WDBw8mkguFwuHDhz//y2OIXC4vLCx0cXExZxQMfTbkcvl90zx48IDy5HU6nUKhIJ+toaHB3t4eIVRRUTF27NjnuzMAeKXR6/VqtXrEiBEg5z3IxYsX4+Pja2trTUXYsGHD6tWruzxPREREbGys+WuDAhQkEsmOHTtycnLw7qZNm0JDQ9VqdVJSUm1t7f3794VCYVxcHBE/LS1NoVB4e3s3NjaWlpZ+8sknCxcuxIeOHDni5eXl5+dHPv8///nPI0eO4O2oqKi///3vNJEJKisr16xZM3/+/IkTJ+r1+oKCgoyMDKFQiJccFQqF48aNM7qGd3FxcWtrKzK9XGxhYeHx48fx9qxZs4jtiIiIOXPmyOVyoVAYFBSE9VUgEOTl5ZGT+/v7b926FW/TZAMhtG7dOqPhCCGFQsHlcolnjjl37hx+5kTIli1b8CK5J06cmDlzpqmzAQBgPqDrQO9Hq9VKpVJit7m52dSy2QghgUBw+vTpoqIi3Ez/+OOPFy9eXFFRgY/KZDIvLy9y/KNHj7a1tZWWlrLZbJVKtXr1apFIRLP2NsHp06eTk5NDQkLw7ttvvx0aGnr48GHyMvDPBofDwZnMy8vz8vLC2/X19bg2QGH27NkTJ04kdltaWqqqqsy8EEW2yQgEgvr6+u7lGwAASwC6/uLAXzryp9Ccxjrwgjl48GBMTAxhe2ez2S4uLm5ubnhXoVBQ4mdmZq5bt47NZuPIixYtyszMNEfXtVotIeoYHo/X3NzcZUKlUkkfLSAgAGcgLy/P3t4+MjISISQQCGxtbQ0ju7u7YwsBxsrKynxdp6G9vZ3D4RjmHCGk0+muXLmi1WoRQvgXAAALAn5zJuns7JTL5XK5nAiRy+WGn/XngXI2nU4nl8tv3LhhwUsA3UWr1To6OpJDWCzW1KlTExISEhISuFwu+ZBIJNJqtePHjydCXFxclEqlRCLp8kLe3t6rVq2qrKyUyWSXL1/Oz8+XSqULFizoMmFDQ8OlS5cuXbp07Ngxmmg4D6+//jrebWtrGzJkSJcnfzakUmloaCglhGwGwPz6668MBqOxsfHGjRuXL1++fPky6DoAWBxorxuBz+d7eXnV1dX16dNHJpOFhYXNmDEjMzMTf4N4PN7atWuJyAKBwMnJKTw8HO/K5fJ169YZ2idDQ0NxY8XX15foX0xLS8OdiwKBQKPRlJeXu7m5qdVqOzu7f/3rX7gJSCCXyyMiIoRCoY+PDxG4ZcuWkSNH4gYZQI+vr69hoEgkunv3LjmEx+OVlJS8/fbbREhLSwu5951sh2exWAghtVpNNIX1ej1CiFIzMMqCBQscHBzKy8vxizF16tTc3FxKoRuSlpbm5OQUFBSEEPriiy86OjpMlX5VVZWrqytR5zh79izhJWBxHj9+jO8C09TUxOVy33rrLXKcwsJCsVickZFx+PDh9evX40CxWNxDWQKAVxbQdeMcPHgwPT09MDBQpVJ98cUXNTU18+bNi4yMVCgUUVFRAoGgu15sa9as+fnnn2UyWXx8vNEIJ0+ezMrK8vHx0el0f/vb31asWLFv3z5yBGdnZw6Hc/z4cbKu37p1a+XKlc9wg68gRHWKz+cTgUlJSZRoy5YtS0pKOnDgwIIFC1Qq1f79+4cNG5aVlYWPZmdnkyP7+PjweLzGxkbCUF9VVcXj8bqUZwxhMKegUqmMxk9LSystLS0qKsKObBcuXMjMzPT09PT09DSMXFlZyePx8HZTU5NWqzU0jCOEcnNzt2/fTg4hUj0z7u7ulKqtQqHIzs6OjY0NCQnZt2+fRCIhv8YAAFgQ0HXjeHt7BwYGIoTYbPbYsWOdnJxwq4jL5fL5/Pz8/O7q+htvvFFbW6tUKk31vIaEhOAvHZPJ/O677z766KOdO3cuXbqUHGf16tWrVq1avHgxHhqkVqsZDMaz3SCAqa2txYYQIsTHx6egoODkyZOpqanDhw93dHSMiooiutt//vlnJpNJPkNGRkZubm5DQ4NWq2WxWH369Nm4cWOX1925c2dbWxtCSKfTyWQyb29vhJCDg4Ner3/y5Mn7779PjiyTyY4fP15dXe3h4VFUVGRra6tWqxFCKSkp06ZN27Ztm9d/IcaVNTQ0KJXK6OhovJufn+/n50fpRMDodLq4uDiyQcIcmpubS0tLiV29Xh8UFPTtt98axlyxYoVCofjyyy8XL148f/58hNA///nPzMxMPz+/xYsXd+uiAACYA+i6cVxdXYltOzs7slnV0dGRYrm1COTBu0wmMzAwsLa2lqLr06ZNmzlzpkQimTNnDkJo165dU6ZMsXhOAC6X6+3tPWrUKLzb0NBAHJo7dy6l1cvlcr/44ovuXoIoWZFIlJSURDNgDCEklUpVKtXu3bvxLnmcm7+/P4/Hy83NFQgEW7ZsIXS9uLg4Pj4eC7lCoSgvLxcKhd3NJA2urq4rVqyQSCQsFovsdkdAPsTlclNTU4nBcmPGjNmxYwfednFxwRtOTk4WzB4AvMqArv/FmDVr1pkzZ7Cunz59muKsBFiKPXv2lJeXGz0UGxtrVMmeHz6fTx6PR0DvP8FkMrFPHzmwsbGRGG3R2NjI4/F6wu69Y8cOLy8vo0+DcgiLukQioTjKTZs2TSQSIYTwKw0AwPMDuv5nAftbEbS3txuNFhAQcOjQIYTQ0aNHtVqt0Y5V4PlZv3494dtFhtw3T4NIJDKzi4TFYhH92cuWLSNkz7Dj33xyc3PJFqaKioqPPvrIzLRYepVK5eXLl9PT0585D0bZsWOH0YoLQigoKMjoAwcAoLuArj8vo0aNIo+Fe+a5OH799Vfc+4gQkslkp0+fNjU/CZvNlslku3fvBo85M3F2do6LiyMM0ZMnTx45cmRLSwtNkoqKCqMRFAoF4Q9/9OhRPNSbwWAMGzYMIaTVarVaLW6bEhZmGnbu3IlIs7uQm9Te3t7Y2b67NDc319XVJScn492SkpKnT5/SjKf39PT85ZdfUlNTGQwGttszGAxbW9s333zTnMvV1dUZ7VYnPygypmZOTE1NNedyAAB0Cej68/Luu+/OmzcvKCjI3d1dIpGUlZWZislkMhUKhU6nozheYa5fv56YmDhv3jy9Xr9u3bqYmJjg4GCj5/m///u/lStXcrncd955x2K30avBuk4JpNf1EydO4LFkFMaNG0f0r4eEhFAmlqFAGdFgCHbRp3hRYPAASGTaOI8Qosz/6u3tvWvXLldX123bthGBI0aM+PTTT2nyMGPGjBkzZtDnkwZvb2+jOn3+/PlnPicAAM8D6LoRXF1dscM5hsPhkFtOZMMpJiIiYtGiRThmcnLyb7/9hsOZTCY5ZmhoaFVV1ZtvvpmVlYXbT+QmXVhYWGNjY1JSkq2tLXl6UYQQj8cj5wfPfEK4OgM9hDlzxr0AyMZ5eoy272E4GQC8aoCuG4FiACfmnMH4+PhQxuZ+8MEHH3zwAbFL6IGnpyc5JpvNpiQkzyPL5XKNttuQwSzcd+/eZbFYz9PGAsxBIBCYOmTBNXhkMpmpPntXV9eUlJQ/uTDX19cbfVCm7PCm4gMAYClA1/96/Pbbb3w+38yZTwBTBAQEYDO4ra2toYNYbGzsvXv3nvMSMTExuN/dFBkZGRR/STI9NDmBm5tbenq60bniDUlPTyem3DEkMTHR1Ao6fn5+Dg4O5senf1AAAJgP6Ppfj4sXL1JmPQOeBxsbG4pJBiFEI2bm4+/vTx/B6EQxPQ2XyzW8X1PQx+zucAwYvgEALwDQ9T8F3bLrgqgDAAAApoD13AAAAACg9wC6DgAAAAC9B9B1AAAAAOg99EcIdXR0GJ0pBQD+6qhUqr59+2o0mpedEQAAgJ6lo6MDb/RHCOn1+qdPn77U/ABAj9C3b99Hjx6BrgMA0Ot58uQJ3uiPELK3t7eysnqp+QGAHkGj0Wg0mhEjRrzsjAAAAPQsGo1GrVYj6F8HAAAAgN4E6DoAAAAA9B5A1wEAAACg9wC6DgAAAAC9B9B1C3Dp0iVLnUqlUsnlckudDQAAAHjVAF23AHv27MEbEolk586d9JEbGhpMrcuJEGpsbCwvL7dk5oD/kpqa6vtfUlNTiXC5XO7r6ysSifBuU1MTsY0h19v4fL45y4yKRKKGhgaEEPnM5iAQCLBHKyWhWq0WCAR8Pj8tLU0sFhumMvpSqVQqkUikUCjMiUzQ1NSUlpY2e/bst956i8/nFxYWktMWFxebfzsUJBKJSCQiL+l29OhRvEEuEXq6zIPINOSiNCxoSq16zZo1XWZGJBLh5/MMBd3U1GQ0YWlpKS7owsJC8rMSi8U0pSyRSMiBpiITqNXqtLS0hQsXTp061bCU6dPSIBaLBaZRqVTPcE6RSOTr60suGoVC0d0cSiQS/M8i8okf+3O+0n9OYN0XS8LlcidNmkQfh81mh4WFvZj8AGQSExPj4uLwtrW1talox44dy8vLw0u4Yvbs2bN+/XrDmBcvXty3b59Wq+3Xr9/MmTOrqqqUSiWbzd6wYcP58+ednJzoly/LzMxMTk7G25s3b161ahVCKC8vLywszM7OjhxTLpdv27YtNDTUz88PIVRWVlZRUYFIy6M1Nzcb3sWPP/7o6OhoZ2dXXV198+bNDz74ACenp6GhISUlJS4ubvHixf369Wtvbz9w4ABCKDIykj6hSCRKSkoiPzcyFy9ezMzMnDJlyrBhw3788ce1a9fiubCqqqpCQkJMnVMgEDg5OZm/+hyRDaKgKbi4uIwfPx5vGxZ0Y2Pj5cuXDdPevn37m2++0Wq1er3ey8urra1NqVTa2trOmTPn0qVL9fX19A8nNDR0zZo1b7zxBkIoNzd31KhRs2bNysvLmzhxoru7OzmmXC7PysoaP348Fq3m5ua0tLS33noLH7127RrlzGq1evPmzUOGDMEvTEFBwYIFC8wpZYRQVlbWlClToqOjGQwGLuWSkpJdu3bRrw4sl8sjIiJMlTJCaOTIkUYzcPv27a+++mrixImmFpgWCoXjxo0LCAgwJ/N6vV4qlZoTk2DHjh18Pp/4Z9XV1en1ejMv95cDdN2ScLncLlfetLe379Z3Cnh+8LfeMDwrK+t5/tivv/76unXrsPaEhISEhIT4+voWFRWZmfz+/ftGtw3ZsmXLnDlzAgMD8a6Li0tQUBBCqLOzE69xbrioeWFh4a5du8i78fHx5eXllBqDIS0tLXPmzCFeUWdn56FDh+bn53ep6+fPn0cISSQSHx8fw6NFRUVLliwhnnZubm631jDsLqZ0/dmwt7fHBV1fX7906VKEkK+vL355zOmDUyqVer0eb+t0ugcPHpiKuWXLlj59+uBLIIT8/PzkcnlNTQ0uZcPG7tq1a/39/efPn493GxoaYmJi9u7dS6kuGKVPnz6UUl60aJFCoXB2dqZJ1d7ejkyXMkLowoULRv8Cjx496jJLPYpCodDr9SqVqrGxESEkl8tfyirJLwbQ9WekqalJq9VSXm6VSqVSqYgGgVHUanVDQwNFTiQSiZWVldGETU1NSqUSITRp0iSY7vfZCAgIwC0MLPDmyDnZ2N7S0kJYSl/K1HU6nc7W1pbYJbTZwcEBqyOWHHKSAQMGkHcjIyMzMzOVSmWXus5iscrKysiie+bMmeHDh3eZycrKSoRQVVWV0S/+vXv3iGfu5ORUXFzco7puPuSCbm9vf/r0KVHWhBi/MHQ6nZeXFznEzs7OxsYGPyuxWJyTk0M+WllZGRMTQ+xi+01dXZ05uo6/KgRnzpxBCHVZ0K2trch0KeMIHA4HV0Qo+Pn5eXh4dJkx86Hp+PD09CS/6iqVSqlUKpXKp0+fElX82NhYC2bmTwXoevfQ6/Vff/317du3nZycBg8efOjQoddff504invH169fX1paumnTph9//HHo0KH4UG1t7b/+9a+cnJyWlhbCXNnR0YENvG5ubn/88cfevXsdHBwGDhxInPCrr74aMmSIi4uLXq9PS0ubN2+ev7//i73jXsWRI0dYLFZ5eTnWGNyBarT9RLYlNjQ0XL58GW9rtVpLZaa5uVkoFOJt8keW0h2OEHJwcLh16xaxe/v2bbwhk8nwGerq6vr06UNO0q9fP/IubtAT00zS4O/v39LSkpGRYWVl1a9fv87OzocPH3apwT/99BODwcjOzs7IyJg0adL//d//USKQrbsjRoww7DgwSltb26BBg/A28azq6uqcnJzoE5pyPmUwGJRWGqWgq6uribK2oK6Xl5fj05Izf/fuXUo+HRwcLl26pNfricd1+/ZtlUqF7/3mzZuGt0PexRl+/PixOVlasmRJRkYGQmjw4MEajebhw4c5OTn0LQeFQvHrr7/iUh4wYMDixYuNGu2HDh1qqoBu375tyg7fLWxtbdPT04np0A2hvOpbt2719vYWi8WZmZn42ysUCl98ve2FAbrePcRi8ZkzZ0pKSoiQxMREwz9DcHBweXm5RCIhbKenT59esmSJnZ1dS0sLEe2XX36xsrJau3Yt3lWpVIsXLyaMY4WFhWw2e/ny5Xh38uTJERERZhrZAEOkUmlNTY1QKExPTz9x4kRgYOC6desQQnK5/NSpU5TI5M/9Tz/9RNh1a2pqKDF1Ot3du3eJ3fb2dmzJzMjIwN9NU7i6uhKnxc0gjKGIfvbZZytWrHBycsKNpM2bNwcHByOEZs2ahSPgHl9ykqdPn6pUKuIbunHjRhaL5eLiQpMfDIPBMOWRZMrpSSKR5OfnHzp0CCGUlZWVlJSUm5tL+XyTBQDXOXx9fRFCHA7HVE5UKlVFRQWxdAXxrOg/xywWCyEUERFh9Ki3tze5ewL9b0E/fPjw8ePHxIUofnM6nU4mkxG758+fx7VDqVSK74WGoKAgHJmcefz6kcEFvXPnzhUrViCECgsLm5qalixZgo8OGDCAXL1DCC1atKiqqorH4+HdyspKFos1e/Zs+sxg3njjDdzlT4GmlJOSkpKSkvz8/LKysuLi4qysrMjWAuJOaUb0UMxI3QKXKVZlGxsb83szT5w4cebMmQMHDuzatSstLY343vZiQNe7R2trK+WTER0dbbQ/afbs2Y2NjYSu37lzZ+XKlZQ4MpnsvffeI3bZbHZERARR3T5+/Dj5b+Ps7Ozq6nrmzBnQ9WcjLy8vOTnZ3d09OTk5MzNzwoQJFmk6NDc3Dxs2DCGE3ZuJD3dUVNTkyZON9uvTU1RU5OzsTJYKNpv94YcfEnrj7++/efNmcpLz589TdH3KlCmLFy+OiIhwcXGpr68/ffp0cnJyl/04Eolkx44dhuFqtbq1tZXH41GsxCqVav/+/Xl5eV999RUOcXd3nzFjxoIFC5KTk2kc4hBCWVlZCKHDhw+binDy5EmE0O+//06fZwo+Pj40Xl3PQ3NzM7bW4IImfBpcXV3j4+OfoaBxfxCloL/99tsVK1bk5+cjhDgcTnp6OlHzsLKyqqqqIp/h/fffX7p0qbW1tYuLi1ar3b17d3JycpdvtalSRgg1NDR4enpSShkhdPLkyVWrVgUHB8+cORMh5O7unpWV9fnnn7PZbKKUiR5DGpRK5d27d43WJ7pkzZo1uDeKz+eb4zQXGxuLq8hCoTA+Pp7NZsfGxkZFRS1cuJDwV+2tgK53D61WO27cOHKIj4+PUV0PCQkhD90xahwz7KF3cXEhzIAymaysrKyuro4c39BDCugSlUr1/fffI4TwN8jHx+fdd99dsGBBcHDwxx9/TImMxY/cZqWfUUAmk+HeFmxbJj5tbm5uFvS2DQ0NDQ0NlUgkLBbLsGJnb2/v6upKDomJiXn69GlVVVV+fv748eOFQqE51UEWi0V80ysrK3Gnj729PYfD4XA47u7u5N5o3NmEEIqNjQ0NDcUeSQEBAZ988klbW1t6evrhw4f5fD6WJcP3Fj+cY8eOmcrM7t27g4ODnz59SuOl9TwYFrRGoyEq4obgxrpMJsMFTUiLjY2NBQuazWbv27fPaEEzmUxKKbPZ7LS0tOzs7Pz8fA6HExERQV+XwpBLuayszNvbm8Ph4FJmsVg+Pj7kUm5qajp27NjBgwexTOp0OpFIFBAQ4OPjs3TpUlzKs2bNmjt3Lh5f0OXVORwO2d5pPjweD1vCli1bRukOS0pKwrUryoUQQomJiQ4ODtjrk8vlCoXCH374wdHRsYcqf38SQNe7jfm9MgwGQ61W29nZ/fTTT6YcRnQ6HU0rysfHZ9SoUcSun5+fUYcUgIYHDx4UFBQ4OjoSbsYIoYULF06YMOHevXtsNpsi25GRkZSPO6WvmsyePXtsbW379Omj0+l2797N5/PPnz9P+CdbFvoR3oY9mosXL168eHG3LuHu7k5oiVKpxM0duVyOu4d//fVXcvewo6Njenq6/xZ1XwAAIABJREFUl5cXdlBqbGzEjiNMJnPr1q1yubyxsZFoOw4cOJB41VtaWry9vWmyodFo1qxZw+FwEhMT29vb16xZ884770RFRdEPwUIIZWZm0o8swPj7+wcHBxsWNEKI7J9IBhd0UFDQ+fPnDxw4wOfzi4qKyGZ5C1JRUXHixAmjhwxLmcfjUZzpuoRcyvX19eHh4djxHs+cUVtbS3bXGDlypJOT0/bt27FT3p07dwj3oIiICF9f38bGRgaDwWQyExISEhISOjo6aIpg+PDh3XX+JQ86xxhW8ry9vV1cXIzWrtavX//06VOdTnfnzh2E0MCBA5csWdLZ2Tl69Ojff/9dLpePHTt27Nix3crSnx/Q9e5ha2t77ty5t99+mwihTAdBhsfjFRQUJCQk5OTkbNmyxTDC8OHDT506Ra5ik3vfvb29hw4dSu7/4/P57733Hv1AFIDCoEGD/v73v1MCxWJxfHw8/jwxGAwej4f7ZRFCTCaTyWSWlpbiPmwaJBLJli1bsrKybty4MXfuXA6Hs3Tp0lWrVj3b5BtdYnQMPUYgENTW1pIrLkaprq42v1bq6OiIN6ytrQkbVVtbGxGB7DFqiLOzM/lFHTduHDG2raKiIjo6miatQCDo7OzEHeF2dnZr1qxJSkp6+PBhlzdoaF/l8/lhYWFG+2JxQTc1NXV0dNCP+VYoFLigAwICZs+ebWtru3Tp0mHDhtEYG56HmTNnYnM3BewP3+VDkEgkWq0WD0jrEldXVyy0lFImzE5MJpOmJ5tSygghkUh05MgRo5GlUin9UJTjx4/j0ZKY5ubm5uZmpVKJu2xo6NOnT9++xudYw3dnaqQrJj09nWKF/asDut49XFxcBALBxx9/TDREaDoIXVxchEIhrgy6ubkZRvDw8CgqKiLrelFREfEvmjp1qlQqJZoUUqlUKpXi2UuA5wTL29GjR0NCQrhcrmGLp7Kykl7XdTpdZmYmj8cLCAiQyWRZWVnYDDhlypT9+/ebk4fy8nJibkEa97HuYth7KpfLsWcfg8F45513umwwYYv6hx9+iHfZbDbxtpM/u91i2rRpUVFR7e3tDg4ObW1tNB/3wsLCM2fO5ObmEiE+Pj5CofDzzz+fN2+eRVwiyCiVysuXL9Pr+rFjx3BBI4S8vLzwvFKRkZHJycldeuZjyKKSnp7+fFlGyFgpazQaYpQBi8Xq0q1Mp9OdO3eO+JRRSrnLnnJThIeHm7o0vXchh8OpqakhX9fLy2vatGleXl5dZsbMOWqM2t7NmT7yLwfoevdwd3fncDgrVqzIyMgYOXJkbm6uVCo1dDPBeHp6arXazMxMU4ZZLy+vjRs3pqWlffrpp3379qU4akZGRkZHRxcWFs6YMQMhJBQKY2NjwWnOIpw9e5bD4Rw+fNic/kgyRA2AyWQGBQWFhoYihNzc3DIyMvB3f8aMGXZ2duZ8LLrbw0f/WSScooneUyaTSXaA9/DwwB/uLvOGLepFRUWGNYCJEyd2OQLeKG5ubllZWcePH6+vr09JSaGJqdPpPvnkE4p+u7u7b9261eKiTg/hrz5x4kTiPYmLiyPq6CkpKQUFBV2ep7sFLRQKiUF9FAxLecCAAeQ+PqKUxWIxnoDFFNiinpWVZfhUJ06caG9v3608E4jFYsN5js2BpkJAr+u5ubksFksqlSoUil481Uy3AF3vHkwm87vvvjt79uyvv/6q0Wjc3Nzy8/OJarKbmxtlgtItW7a0tbVNmzaNCBk9ejRRYedyuQUFBTU1NYcPH9ZoNPPnz3d0dCTPfLJhw4bjx49jk8CiRYumT5/e43fY22loaPj1118fPXqUn58vFAqjo6M/+eSTqVOnPsOpyL3XxHf/2WTPTNasWUN82SkQfc/k3lOLQ7SzL126RCyLQBAUFGToBEB0HwQEBJjjX2bKJ8DMlnFPQH7mZMNbz5W1qYL+05ZyYGAg7juoq6t79OiRUfNkeno6/czK3UWtVu/du7e5uXn79u3t7e2bN29euHChp6cnzN8Fut5tmExmYGAg2eOG+HsbziPL4/Eo/0/KPLJcLpfGYjZy5MhePCnSC+bAgQPbt29HCMXExOBZAVavXq1SqVasWPHNN98EBQVFRkaSvwg0C0t011PJUpw7d+7GjRumjkZFRVlQadLS0shTJBH4+vouXbp0/PjxNP39fy2Ki4sNpyXA/AkLevbs2RZU9Ozs7B9++MHooYyMjGcr5Y6ODvJ8DGQePnzY5YTE5rBnz54jR440NzcvX75827ZtCCFPT08HB4eUlBSlUunv7x8UFGTYj2bUUlVfX/8Sq4w9BOg68KowaNCg+Pj4GTNmkA2PbDZ7+/btu3btun37NlnU3377bbwg27NBzC1D9sgzB8Jma5jQUjU8w0FxFDw8PGg8lcyZU9Z8CFu3+d9We3t7U17rhri6utJH9vDwmDNnjplnM6QnCtrb2/v5p0IzHBRHYfjw4fT+aIMHD36G61ok8xRYLBaPxyOPhtBqtUFBQRkZGeQqjqenZ0lJydGjRy9cuNDZ2Uk+A4fDMfX38fLyMme+pr8WfWpraz09Pa2srF52TgDA8mg0Go1GM2LEiJedEQAAgJ5Fo9E0NTVNmjQJ1l8HAAAAgN4D6DoAAAAA9B5A1wEAAACg9wC6DgAAAAC9h/4IoY6ODhjwB/RKVCpV3759yVMCAAAA9EqIBen7I4Ru3rz5UjMDAD2L4dIRAAAAvZX+CCEY5wb0VmCcGwAArwh4nBuC/nUAAAAA6E2ArgMAAABA7wF0HQAAAAB6D6DrAAAAANB76BcXF2dvb9+/PywAA/RC9Hq9Xq+3sbFBCFVUVPzyyy/nzp07d+5cR0fH2LFjcZyOjo7du3cPHz586NChCCG1Wq1SqfA2RqVSEQNBi4uL79+/P3LkSPrryuVyvV7PZDKFQiFxZnMQi8XDhg0bMGAAJWFnZ6dUKj137tzNmzcZDAZlTQ6xWHzu3LnXXnuNcjadTqdQKPr160demc1UZAK1Wl1dXV1ZWSmVSltbW3///XdiNW6xWKzVap956ReFQnH37l1ra+t+/frhEJlMhtegq6ioIErEVML7xnjw4AEuX4SQXq+/cePGgAEDyGuEkIvvxIkTY8aMoc+kWq2+ePHiyJEjr1y5cvXq1S7LmqChoeHBgwdDhw41fEl0Ot3Zs2cbGxs1Gs2QIUMGDBiAw/G7N2nSJMOzyeXy+/fvk98cmsgYvV6PX+9Tp05duXIFZwY/CrlcXlhYSJP22SguLr5y5Qr5Xero6GhvbzdaUvfv33/y5AllJWt68GtvZWVlbW1NLrvOzs5bt26Zusr9+/fJ79irg16vV6vVI0aMADkHXhW4XC7xPSUr0/3794VC4bhx45ydnRFCBQUFeXl5xHJbCKGtW7cSq1UeOXLEy8vLz88PIdTU1HTs2DEcPnHixPPnz+PthISEI0eOODk5hYeHk89MYefOnUuXLqVsx8fHFxUVOTs7UxKuXr168ODBDg4OCKGsrKyMjAyEkI+PDz4qFovr6+vJC/4qFIr09HSpVIoQYrFYMTExxLrmhpHJqNXqiIgINze3999/n8FgnD9/Pisra926df7+/jitk5OT0TqBSCRKSkoiPzcyOp0uMTFRJpOxWKxp06atXr0ah+fn5+Ml3U6cOIEX8DZKWFiYqUPe3t67du0i7joiIiIrK4u80Du5+E6cOEGssEys2ung4NDe3o63XVxcmEwmvpErV660trbisqawadOmMWPG4CVHJRLJjRs3wsPDt27d6uXlhUufeElwhKSkJH9/fw6HU1RUNHTo0M2bN+ND+N2Li4sjn7ykpOSrr74i7m7Dhg14BUKjkckUFxfn5eVFR0ePGzdOq9VmZGSwWKx9+/YhhORyOU1aX19fykMj89Zbb2m1WnIIEfnIkSMIIfK7JBKJcKAhMpls/vz5xAp4FMRisVgsJofY29tPmTIlPj4eX45cdteuXdu6davR8yCEpFIp/hOZitDrAV0HXhXGjx9v2RNqtdr6+nqFQsFgMOzt7evr66VSqflXIa9R3dbWRhNTJBIxGIy1a9fiXVdX16SkJISQm5sbDlEoFFwul5xk7969TCZz79697u7uDQ0Ny5cv1+l0pj6pZOrr6zkcDrHueEBAgL29fU1NDdb1Z6aiokKj0Rw4cIDNZkdHR6tUKvJqueZg8S91fX29RqNpbm6OiIi4evUqrnOEhYV5eHh0mba5uZmwAWi1WqVSaSqmSqVKSkoKDg5OSUnBIcuWLePz+Xj70aNHhkn+85//EML59ddff/HFF2YuA3/69Onc3Fziwbq6ui5atEgmkxHvybOh1WrXrFlDLHeL3z1ThIeHm6oyEndNT1lZmbe3N4fDoYnj6elJ80x8fX3NuVAvBnQd6P3gpqRhOE0bxRx8fHxycnIEAgFumkdGRvr6+hLqa0EOHTpEXiN88uTJuP3E4XBwC96QxsZGohXr6ekZHx+fmZkZFRWFjd40aLVaioR7e3vX19d3mUlsrpBIJIQVgYxUKo2Pj8eSM2fOnP3795tTyehRcnJy8IuBjQd8Pt/Ly2vp0qUikciCVykpKUEIEaKOEJo+ffrJkye9vLwQQlqt9tKlS+T4ubm5kydPJl7L2NjYoKCgwsJCbBugx8bGhlxbcnd353A49+7do08ll8sRQi0tLTT/BR6P9/yVKplM9tFHH5k66ufnhy0c2JiEt3HeugUewE1Z0v5VA3Qd6P0EBARg+/CPP/64bt26jIyMkJAQ9F/T3+3btw2TEEZahFBLS0tqairelsvl+Iv8ItHpdEOGDCF2CW0eO3Ystq4LBAKK9FJmho6MjMzMzGxtbe1S18eNGycUCp2cnNzd3fv169fe3r5nz57Zs2fTp1Kr1cXFxdgk/u9//9uwD/XevXuEbHh4eKSkpPScrh8/fpzoE0EIXbhwgSg+ertIT6DT6ZycnMghLBaLxWLh25fL5QcPHiQfraqqioqKInbt7Ox4PN5vv/1mjq47ODh8++23U6ZMcXBw0Gq1xcXFDAbDxcWFPtVvv/3m7e1dVFTk7+//DC17uVyempo6YcKEhQsXIoRKS0tbWloMo2k0Gq1Wa875uzvr8//H3rnHNXWkjX+8pa2JVkEwdBWsQCrGFcNFbQWs+HrBgl3lotit4K5g5WJpWsGKUD/xUqFrpBpoDW4F/KkIom3UIrqCBtrVcIm4BjQBNVGbQLjZJNrGtf7+mM87n/OeJIfDxRvO969z5szMmXPOnHlmnueZmeDg4NDQUGRmggqnbuv5wAbL9Z5x8eJFs9ns4eFB0iLq9frGxkYAAJfL7UuVqqurMxqNVjvOJpOptraWzWZzOJxe5/+Ss2/fPjabnZOTA+U6VOVZ1YUSpY5Wq0UGWpq6RDqUlZWVlZXBY6LWUS6Xk4Ypnp6eV69effvtt+GpQqGAB9nZ2dnZ2fCYx+MRk5hMJuKpXq8H9AYxHA5n//79J0+e3LlzJyxYZGRkt1oNsVg8d+7clJSU5cuXFxcXR0VFkSIQb21nZ9fR0dFtSUhYvhYIg8GYOXMmMWTevHnEAhM/36ZNm3p6X1vk5eXl5eXBY2S3bmlpkUqlRMk0derUvLw8ohpDoVBUVlba0hUzmUzSyzEYDG5ubnSKlJiYWFRUdOjQIZPJNGzYsHfffRf5MdhCr9d///33hYWFGRkZMTExhw8fJhl0usXFxQW9XgBAUFCQ1Whyuby+vp5O5k1NTTqdrqio6OzZs1b/TRI6nY5Y21taWkJDQ2kUfCCD5TotfHx8BALB8ePH4R+r0+ni4uJQD1omkyUnJ7NYLCcnJ61WKxQKoej98ssvFyxYQFRLvvvuu3w+H9mfFApFVFRUaWmpg4ODVquNiYkxGo1sNjs9PZ2YPxyNjRo1qqKiIjo6Gsv13iGXy41Go1gsTk9Phz44UK6r1eq+NAQmk4nYELe0tECNpUAggN5ttliwYIFVeQP9yIgsW7YsMTHR29sb1qW8vDzYes6bNw9GOHv2LMnEy2AwiDbs3bt3s1gsmuvpOjg4rFq1Cg2AELBzYEldXV11dfWxY8cAAAKBgM/nL1q0qFvzORRs1GZUBIvFsnwtEDabDXXdvQCaM5B3AlHnAYsXHR1tK210dDTs/Eml0mvXrsHA0tLS0tJSAACyZQQEBAQFBfH5/NzcXHd3d6lUWl9fLxQK4dWOjg7Scy1durSsrCwsLAyeKhSKpqamuLg4mk8UERFhObK39eH0en1iYqK/vz8AICUlRS6X5+XlddsV6B2dnZ10ButQi242m9lstqenp6WdolueuX3neQDLdboUFBTExsZCh0yFQpGRkeHk5OTv728ymQ4ePJifnw9b84aGBj6f/+mnn86ZM8fPz2/fvn05OTkwh7179wYGBhK9perq6mJiYmAL+O233/L5fJT/rl27Ghsbv/jiCxhTpVLFx8dv3rwZ77zXC0wmk1wuLy4uhm3rrl279u7d29jY6OnpSRrmAgCgz7xEIkEh1BsjXbp0ydfXFwBw8eJFAACS8fHx8YGBgb3oMUAHMeJ4zsHBQSAQnD9//sSJEwwGY+7cuURzOwCgubnZbDYTQ2JjYzMzM0eMGPH48eNHjx6NGjUqNze328pz9epV6D4NANBoNFCBzGQyhwwZ8ujRIy6XS4ysUqnOnDmjUCjMZvOOHTtMJlNbWxuHw1m/fn1iYuL48eP9/f29vb3hdC9S8eBjAgCQvoGa8+fP04kGpzZVV1ejja2ogdYZvV4/cuRIlUrFYDBQOUtKSsrLy0lqj26Bwp6k1NmyZYtMJjt9+vShQ4dcXFwEAgHqmt+5c4fUswkICFAqlZs2bYIfy2g05uTkWPXJJ4G6hi0tLXCIz2AwRo8efe/ePUdHx0mTJqGYJpPp1q1bp06dunr1alBQUHh4uFqtHjNmzD//+c+cnJzVq1cHBgZ6eHi89dZb0J7i7OycnZ2Npg6y2WziNEKEVColmj9IdHR0PH78WCQSMZlMyy4jAk4kuXLlikAgCAgIsLRTAACKi4uJvdgFCxYYDIY9e/aQonl6evbFe+aFBst1uixduhTNsuByuUlJSWVlZf7+/qdOnZoxYwZyKpk8efLKlSt37tw5Z84cLy+vTz75BKngTpw4IRQKiZNArl27hkZs9+/fJ+b/5ZdfBgUFxcbGwpEEm80ODw9/ag87kGhvb1+xYgWLxcrOzoafycnJafPmzUVFRT/99JOfn19bWxsx/tKlS0ke0R999JGtzOvq6jQaDRyInDp1ys/PTy6XQ6Frb2/fj/7bHA5Hp9Oh1pnk2+Xq6kqy+k+bNm3atGk9vcuUKVPQ8HHTpk2WQ2Si20Ftba1Op0tKSoJSCs1zmz179uzZs6VS6bFjx1gsFpTrREnQ0tLCZrPhy7EqIYhAy1S3JWexWF5eXuPGjUNDYQTFxLDy8nIej6dUKq9duwbN3iqVCl5ycXGxt7fvqVy3xfTp0//44w/YadDpdESxlJycTIq8evXqXtwCfSyo3iN9O2KFYTKZhYWF48aNKygogCFocuD69euVSuWBAwcqKirQRDKoiemWgICAPspRpVJ5+PBhgUBAfcfw8HBolLR6O2gSfWklOgTLdbqQutVeXl5wwNHa2kryi3Fzc4P/LZPJ9PPzO3v2rJeXl1arBQBwOBzi1nmDBg2CB3V1dbdv3yY2mhA0ekArb2B6ir29vVgstjRe2HJEcnBwoD8F6/jx435+fn/88Ydery8tLRUKhb3WCXcL9fwiHo9HczZUTyHNJkhPT4cH0E/KFqRW/vfff0d2AZ1OZ6kmsUVOTs7ly5e7jYYen36DXlRUBABYv3794cOHGxsbFy5caDKZmpub6S8i1CO2bt1qazqcrUn/fceWFZ9i1gaHw3kSczro8NVXX/F4vEWLFjU2NopEIgqNeltbm63FEhobGynWUXhJwHK9/4Gjc6lUGhAQ8M477xQUFKSkpOh0OmjHGj9+/I8//rho0SK9Xo+WSTEajZY+TdHR0S/5bI3+wlKoy2SyuLg4+PMzGAwej0d61aWlpbY8gBB1dXVQlt+5cyc8PNzNzS0gIODEiRO2zJl9hKKpsvSHtwr0+qR5u/Hjx8MDDw8PNAg+e/YszeQkuFwumtt26dKlBQsW0EyIZushRCIRg8GgGIUDGp/PZDIVFBSEhYVxOJzm5madTgd9/vPz8+mXrUdY7fDR9O1QKpU6nY7mt3N0dER+dujDNTc30zR5WEUikfz22290fPLFYrFYLLZ1lWJmaXl5uVwuh2kXLlwYFRUF16XpdZlfZrBcpwtJtyOVSuHUo9GjR//666/EmMXFxSwWC0aOiIg4efJkcXGxyWSC4xsPD49du3YtWrSooKAAOddwudw33niD5INdXV392muvPYVHewm5ceMGi8XauXPnp59+6uTkZDnSraqqsioYQkJCoObGbDaXlJR89tlnAQEB7e3tcrkcfr5ly5bdvHmTThngonLwmM5qNhTN5eXLl5HuB9nIoXkVAAAXWx0zZszIkSMplo9FNDQ0HDx4MCkpCZ4SFRgtLS0wz54SEhIiFArT0tIeP37s7Oz8pNWktj4fMnUplUpfX19o6I2IiHB0dISdPzqWbABASEiITqdDX4TO+qyHDh2yNCiQ/ACQjRwtS6DT6VgsFpxiM2HChG7vkpqa6ufnh6bLo/fMYrF6YZdB2OpVWF0H0JbwplguRq1WFxYW5ufnQx8OLpebn59/6NAh6kV/LW3qsKgUSV4SsFynS25urq+vL3Juz8nJgSOGDz74IC4u7q9//SsMN5lM2dnZxHk+y5cvz8nJmTNnDjQouru7azSaurq6w4cPI29be3t7kpU3IyOjqanJ1spNmL6g1+v/9a9/wWU1u7q6eqR1RF+EwWAg3wh7e3u0MihsvEgrYlqFesRpiVgsjo+PtzodedKkSUjfQLSRW6VbtXZbW1tZWZnV4iEnD1tL/Vi23VDNYG9vT5wN9axAcp3H4yFbQHBwMIrw/vvv01mXphc/ZnV19ZIlSyzDiZP0qD8cnUVaysrKrM4l8/LyQpoPq/LV8msS52vYor8aKGIfF8Llcrdt20b9yImJiZaBUqkUTR99acFynS48Ho/P58OZSwcOHDAajUhHxGQyRSLR/PnzORzOP/7xDzabTXT4XLRoUWZmJnEqlL+/f2Zmpp+fH3GmO4/Hi4mJWbJkyYwZM7Kysqqqqiw9gDB9p6ioKCcn56OPPuJwOEKhkM/nw1H7sy4XLVxdXZ8ThyCich5DByaT+Zx8O5ofrte7+2CeOViu0+XDDz+8cuUKdBry9/ffvn07mjWUkJCwdetWuEiFn58fmimEiIqKImrU33777aamJtIaXitWrNBoNDB/Pz8/sViMdANEgxmm1xQXF0MTY1RUFLSJeHl5FRcXJyYmLl++fMGCBREREcSZYBRL0DwhD7VuIa2kRoLOMrH0SUtLI+4Ch/Dx8VmzZk2PvAufPtXV1bY+39q1a62udPukaWlpsXSMhUydOrUfRf7p06dtOVskJSVxudze3YsiW9Irpa6l/YjV94m28HmZGVRTU8PlcolO2hhLqPc7wjy3GAwGg8EA12NRKpUPHz6cMGECaRr3/fv36+rqAGEtEQDAzZs3KdzfaFphAQASicTX17ena3hZTditbn/KlCl0NsFUKBSdnZ0U+7jAmei2rg4fPvxJSPSamhqa23UoFIqhQ4dSOwrU1NT88ccfVi+5urrS7P1oNBqDwUCatU+Hqqqq0aNHkxLK5fKHDx9ajT927Fg6UyINBkNFRQW16ptace3g4NCjbVIRra2tt27dsnWV+Erv3r1Lsd4D/ZdvCbGG3L9//+rVqxSR6f+hAwmDwaBUKr29vbFcpwWW6y8oRLmOwWAwAxgk1wc/65JgMBgMBoPpN7B9nRYv+SoHGAwGg3lRwON1DAaDwWAGDliuYzAYDAYzcMByHYPBYDCYgcNQAIBGo+l2VyUM5kXEZDINGjSI/qLoGAwG84Ly22+/wYOhAABnZ2c8zw0zIMHz3DAYzEsCnOcGsB4eg8FgMJiBBJbrGAwGg8EMHLBcx2AwGAxm4IDlOgaDwWAwAwcs1zEYDAaDGTjgdWRfbLRa7enTp5lM5pw5c57nfTMxGAwG83TAct0mCoUiKyvrWe20TRORSDRjxgwAwH//+99nXZbnGrVaLRaLbV394IMPJk+ebOvquXPnTp486ejo+ODBgz/++OP3339///334T6nIpGovr7eaiXp6uoqKiqKjY2lWcI9e/agY6PRaDQa7ezs0MISgYGB1BuGFhcX63Q6q5cePXqUlJRkK6FEIiElnDZtGtzmEm5hTnq6Y8eOKZXKYcOGMRiMV155pb29ncFgmEwmPz+/wMBAW3cpLCyEe95DGhoaDh48uG3bNnjq4+OTk5ND2ltz7969Go0GHhM/kNXItjCZTLt373748OG77777dPZjPHv27J07d1atWtXThNevX79w4UJISAhpV1+xWIy+CAUymay1tTU4OJgULpFIKLZ23b9/f1NTk9VLEydO/Pvf/04KtFWrU1NT0dfEPHOwXLcJl8t9zoU6AGDQoEHU+zFjIGq12sXFhb6UJVJSUpKTk4NOi4qKkpKSLly4QNrHncS9e/fEYjH9OyYmJqLjjIyMsrIygUCwaNEimsnDw8NtXdq0aRNFwnHjxo0aNQqdlpWVjRo1ypYUqauru3Dhwtdff00K12q1ISEhycnJERERVhP+5z//Icr1tra2srIyW5KguLi4paUFAIAkXHl5+aVLl3ohLGtra+3t7Xv33XvHgwcPTCZTLxJev3790KFD1dXVpGZHLBZHR0fTketHjx6dMWMGSW934sQJiibi559/jomJsZq51WrT01qNeSZg+zoG0w12dnbE02nTpgEA2traqFNByVRXV9fT22m12tLSUh6PV1BQ0DsJQWLQoEEUV728vAIImM3mOXPm2IqHSrlMAAAgAElEQVRsNBonTJhgGe7k5OTm5tba2tr30r7MBAUFqVQqhULRu+Tu7u67d+/u3yJhXkQGwnhdKpUCANhsNofDAQAolUqdTmdV59bQ0NDW1oZiUtPe3q5QKEj5wBw8PDxgp7iurs5oNLq7u5NUZzSLzWKxvLy84CnMqr9UhRcvXmQwGDBzvV7f2NgIAPD29rYcYpKKgbGEpKb+6aefAABjxoyhTgV1yD///HNP3+2OHTvi4uIiIiLS0tJ27979+eef97C8ZB4/fkwzpl6vf/jwIXHAp9VqRSLR2LFjoT7Aw8Nj3759er2eNCgsLy9vamoSCAQUmUOtPsRgMFDEhPeqq6trampqbW2dOHGir6/vy+A+wmQyw8LCzp8/T21zscXUqVPz8/PnzZv3dCwOmOeWF1iuS6VSPp8fGRnp4uICADhx4sS4cePu3r3r5OQ0fvz4lStXenh4rFu3DkoymUwmFou9vLzGjRtXW1t7/PjxlJQUAIDJZNq8eTOfz4eCWalUbtiwgc/n+/n5NTc38/l8uPO6SCQqLy/39PR0dXUdPHhwQUHB6NGjJ0yYwGQy7ezsdu3a5eXlhdSMsGCkLduR8io1NRWO/1xcXOrq6rKysmJjYyUSCZfLHTZs2MqVK6OjoynslAhofbx69WpqaioAAKo0fXx8FixYwGKx3N3dVSrV1q1bFy5c2N7e7u7uDgDYuHEjn8+Hr6urq+uLL75gMBgzZsy4ceNGTk6Oh4fHp59+CgAoLCz8/vvvd+3aBd+JQqE4cODAjh07+uvDPSu6urrUarXVSywWy97e3lbC1atXQ4k1cuRIg8Hw22+/5ebmUivhtVrt+fPnc3JyBALBsGHDVq1aRb0FQ0NDQ3Fx8cOHDx8/fhwWFubv7w8A2LJli0Qigd938uTJH3zwAUUOMJrlQ5lMpt9//50iIcRkMp07d+7o0aPr1q0jZTJ9+nT0sA4ODuvWrSsoKAAAvPLKKzDQbDa/+uqrJSUlsGrZgijXFQoFyax76tSpy5cvw39Eo9EkJyf7+/u7urpOmDBBo9Fs3bp17ty5SJ98/fp1AAC1alomk12+fFmtVre1tYnF4gULFri4uFy/fv3evXtms7mmpubevXvu7u5z5szRaDTl5eUsFstoNC5fvvzNN9+EORgMhhMnTqjVagaDYW9v7+vrC8WtTCZramp6//330WspLS2dPn06rEKjR4+WyWQikchWwRISEiiKvWrVqs8++6y9vd1qhYSfSaVSAQAGDx7s6+sL/TwgLi4u8fHxW7du3bVrF/2eQWtrq9X/4tGjR5aB9+7dAwBcvHhx5syZNPPHPANqamoePHjw+AXkwoUL3t7eV69eRSHz5s1rbW2Fx62trd7e3qdOnYKnO3bs2LFjB4q5ceNGdHzp0qVly5bBhBs3bkQ5XLp0ydvbGx7v2bPH29v7+vXrxMyLi4vhqVKp9Pb2RglhwUil3bt3L7r1kSNHUPiyZcuIaVtbWz/77DP6LyE1NZV46u3tvWnTJnS6Y8cOYm7FxcXoJVy9enX16tXoEnyiX375BT3C9u3bHz9+fP369dmzZ9+6dYt+kZ4rfv3117t37z5+/Li2ttbbNnv27OlF5q2trXv27CG+Rkhtbe3s2bN/+OGHx//7AvPy8qizMhqNfYxgiwsXLqC6Z4urV6/Onj172bJlqIZDVq9ebfl0vYP4xz22+Ee8vb0vXbqETuEvSYoPKySMvGzZsm4LBt3Qvvvuu40bN164cAH+Yj/88MPs2bPhP9La2gofcPPmzTBJbW3t2rVrUQ4ikQj9TUeOHCG2AKtXr/74449RKtLT9Y4ffvgB1sMffviB+HTE+rl69eply5bBygCrGWoA9+zZA6vcnj17Zs+ejSoM9Yv6+OOPbf0UH330kWX84uJib29vYlsK6Zc3gOkjv/76a01NzePHj1/g8TqE2C2dPn06UtY5ODjweLwbN27AUzg6t8r06dNHjBixe/fuDz/8kMFg2FL38Xg8pL2HmTs7O8NTOBpubGykqSok+hb5+fmNGDGCWGw0DOod8+bNQ8dvv/32tWvX0Kmzs3NZWRk8JnkFwgKgfc8CAgJOnjyp1+vT09PDwsKox2EvBF5eXiQNCh3q6uq++eYbq5cUCgWXy/X09CSFV1RUrF+/PigoaO7cuQAADocjFAo3bNjg4OBgywlOqVSeOXOGTnmoh3pWuXLlCpvNtnUV3loikYSFhVFnLhKJ8vLy6NwxPT29j76c8KcODg5euHAhAKClpaWysjIzMxNF4PP53fqRcTgc+MM+fPiQqJdmsVhbtmwBADg4OCxZsiQ9PT0qKgpe8vLyIqpVhg4dumTJEngcERFx7Nixn376Cea5ffv28PBwWAcyMzP5fH5fnpeEp6enQCD48ccfrVaYpUuXQj2Bl5dXUFDQ7du3SUPzZcuWHT16VC6XE4fytsjKyupR2VQqFY/Hq6yspGhRMc+cF16u00SlUkkkkgcPHrz++usAAJIOMCsr68MPP4yNjc3Ozn5GBXza3L9//+DBg7du3bK3tx82bJhlhIULF4aHh/v5+fVCljxXGI1GW+p3Eg4ODsOHDyeGuLi4IO2xUCh877333nrrLSaTyWKxGAyGk5MTUd2q0WjEYvHvv/8OZ2Hp9frt27dv27bNy8srKyvr4MGDJ0+e9PDwWLNmDUknP2LECNRHhKhUqsOHD6enp9MpdmlpaXNzs62rOp2uo6MDltPyUz58+NDOzm7btm2+vr4wBNnODQZDcHAw0gZHRkaGhITQKQ/JzRASGBhImmdI4VPNZDILCwtVKlVnZ2deXl5MTExSUhKFoaRHwL4CZNGiRenp6ePHjyfeGh2vWbNGpVJVVVV1dHQAAMxmM3JjdHBwyM/PF4vFLS0tf/nLX2Ano7/6Zy4uLps3b87KynrttddIPoy5ublarba8vNxoNAIAtFqth4cHKbmDg0N2dvZ3331HLdf1ev39+/fplBZ167VarUajycrK2rhx48cff7x169YRI0bQyQHzlHlZ5HpMTExUVBSaJ0PyhNq/fz+DwRAIBL32WHnhkEqlcII+CsnPzydGqKysFAqFfD5fKpW+0G44FRUVNOcrWs6Ktre3R+JkxIgRb7311vTp06VSKRrhAQB4PB48cHZ23rp1Kwq/f/8+mso1efJkitm9Tk5OpAGuVCo9fPgwzVFvUFAQnWhW4XK5XC43NTUVyfWsrCxY1IqKitu3b7///vswHL0KHx8fW7kJhUJbVWXu3LlQgdEtJB2JWq2GkwwNBkNTU1N0dDStB+sPJBKJUCgMCgry9vZmMBik3hiUdoMGDUKONUhD0HeCg4P1ev369euRgg0CtSZRUVFQUWRLrHK53JEjRxYVFdmadggAyMrKImVuC6jo0uv1n3zyyYoVK5hM5tdff52UlCQSifru1Il5ErwUcl0qlRqNRuKKDbC3C9FqtXl5edCrjmZ3mxoWiwUAqKurQ47Q0GP/uUKj0cyfPx+dwl17EXq93mg0enl5JScnZ2ZmWnWkf1EICQlZs2YNKTAmJqanixO4ubnBl+Dh4SEUCmHg2bNnba0G0zt+/PHHCxcuQAVDTEzM2LFjly5dSsejPiMjIzg4+Cn0Sm2ZMyjkPQQOZ+fPn08t/FgsFtG64enpyWQyXV1dAQBwHgpNc0DfqaysLC4uRjayAwcOEK/q9Xp4IBKJiONvhULR3t7e967wqlWrysrK4OQLCLGlgiFXrlyxlXzu3LmbNm2imLK4bds2Ul9TKpXaWlTAZDIlJibqdDrUOUtNTV21atWL3ukfqLwUch0K2s7OTvSLEvWWJ0+ejI+Ph7+Ki4vL/v37e7H8BRGYVVNTE/r9jh07RrGc2TOBwWAQOzekDs22bdugunLRokVnzpyprKwkai9fNkwmU21t7d/+9jdYfxwcHFBFunLlSn/J9bq6Oqh4DwkJee+992BgTU1NbGysn5/ftm3bqLtWTU1NfZnsjswNyGZhNpvr6+t7naElOp0uLy9v6tSp1HIdjnrh5Ew0ofSZMHjwYNKUP2KHA/4jEydOjI2NDQ0NRTNdm5ubNRpNv0i7uLi4srIypBC6ffu2m5sbsZPX0tJCsuAgYKojR46MHTu27yX59ttvdTqdUCgkzoz46KOP+Hw+sZ+BeU54geU6g8EgOQRB2znCzs4OOZgkJiZmZmZ6eHgwGIzOzk7Y/QcAaLXa1tZWNEcoPDz8s88+YzAYH3zwwbBhw1D+cD4bKXOiWZrNZhPVdJs3b/7+++9v374NAHj48OHixYtR608qpGXOxAgSiUQgEFCoN0m5kYrBYDBgnwYybNgwdK/AwECBQFBfXz9u3Lh79+45OTmx2ewhQ4bAdTeZTCaaa7dt27aMjAx/f/8Xd8jeR9ra2vh8vlAotJQxISEhcEikVqtJWs2uri4AgOXitdDZmBSo1+sTEhI2btxIWgc0ICAgKioqIyPjhx9+WLFiRb88jlWQXN+/fz88UCgUarW6oqKCNOZbs2bNlClTLHNYsGBBt3P6bWGpA2hsbLT1znNycog9A4lE4unp+SRcO//44w+5XM7hcEwm0z//+U/UD9ZqtQKBwNnZOTAwkMFg7Nq1a9++fWlpaf1egICAgLKysvb2dng6ZsyYjo6O8vLymTNn6vX68+fPy+VyZEAhwWQyd+3alZaWRuE1SZ/Zs2evWLGCtEpHcHCwt7d3L5buwDxpXmC5PnPmzJMnTxJD1q9fTzzNyMhAx1FRUUSbKMLJyYk48XfUqFH79u2DxzweD+VvOYInZg4AIJUkODjYcqFmSHJyMvHUMmfiUyxevPjQoUMUfybpkUnFmDlzJnGaKY/HIxqD0ZNC0Psh2cyYTCb1eiMvM0icDB8+fNKkSaSrVuf4WhV+gwcPNpvNSLVLxN7eHs1TeHIgx4IffvgBAFBUVAQASEpKWr9+PWlANmbMGOKSt08fkg+ERCIZNWqULbnOYrGIv4+dnd1vv/1GjMDj8YhdYeLwNzo6OiUlRafTOTs7b9q0afDgwY6OjgCAgoICLpeLdO88Hu/y5ct910hblg0AEBYWlpOTA+87ceLEHTt2ZGZmJicnu7m5rVy5cuXKlain7ujoSBoh8Hi85OTkU6dO9aVUEFtGFizUn08G1dTUcLncV1999VmXBGMFtVq9b98+OC0H0wsMBoPBYHjjjTdI4T2yr6vV6tDQUDc3N1tuSgKBoO8NXFFRUWZmZlBQUGhoKFyqFgAglUoPHDgA3eOpbxETE2MwGGyVcO3atRTK0tTUVJR5VVWVn59fXl5efn4+l8tNS0urrKzMzs5Glvvly5fbcrR2dHSkcNSC6zXZeo0hISFEP8EeRX6ukEgkYrGY4mP1S215ElDY17sF7/vyPGAwGOBiKi/weP1lgMFgYKH+JHBzc6MfecyYMchRziojR47sc4lARETEtGnTDhw4kJSUhFS+dnZ2ixcv3r59e7dm5iVLlqDVGiwhmmMsgasromNHR8fk5GQoyLds2SISiYgDQTqzoq3i4eERHx9vywmApJTqUeTnCg8PD2pnFOqVB58hLBbLlrW+W3qdEPMkwON1zEDG1ngdg8FgBhhovI73c8NgMBgMZuCA5ToGg8FgMAMHLNcxGAwGgxk4YLmOwWAwGMzAYSgAoKur66VdcgQzsNHr9YMHDzYYDM+6IBgMBvNkgWthASjX7969+0wLg8E8WdCKXRgMBjPgGQoAwPPcMAMVPM8Ng8G8JMB5bgDb1zEYDAaDGUhguY7BYDAYzMABy3UMBoPBYAYOWK5jMBgMBjNwwPu+vNhotdrTp08zmcw5c+Z0uzUIBoPBYAY8L6NcLyoqevXVV7vd51GhUGRlZdHfzfOZIBKJWltbAQBubm49lesxMTHz5s2j2FhzgCGVSm1d8vDwoHh77e3tWVlZKpVKo9FwuVziSxOJRPX19f1SSSiKBwBwd3fv9eaeq1ev3rdvHylQJpMdOnTo8uXLRqORwWBwudx33nknODi4171DHx+f6OhotCs5iYaGhsmTJ6NTvV7f2NiINiz38fHJyckhbaweExMjl8vhsVAopI5MgVQqbW5unjVrFofD6dET0UehUJw8eTIlJeUJ5d+/wJdv9RKLxaLYz5eEWCyeNGlSH3edxzwJXka5PpAYNGjQc97zeE6A+3nbuioUCinkWV5enk6nW7lyJYvFunLlSk5Ozs2bN7ttxOGu7TU1NTRLeODAAXSs1Wp1Oh1x9/GoqCgKuU4UgQgKKVtXVycQCEJDQ5cuXRoQEKDVaisrKwsKCvLz84lbrVvi4+NDCiFKXAoOHjxI3J+7sbGRz+dTv5y1a9ei/Wo9PDy6vYVV9Hp9Zmamk5MTk8nsqVyvqqr66aef6Ehrk8nU1NTUi+LJZLK4uLj4+PhVq1YRw2NiYgAA3f7aUqk0Kyvr2LFjpHCRSMRgMGJjY62mOnLkSF5entVLbDb75MmTluFYhL9YvIxyneYIlcvlDmyRObCfzpLY2FhbLR01v/zyC3pXAQEBU6dO5fP5f/vb36iHtlAmabVamuNsdAuDwfDJJ58AADw9PT/99FM623ULBAKz2QwA+OSTT3g83sqVK4HtPdcbGhoSEhK++eYbT09PGOLk5BQREREREVFeXn7o0CGiACZRUlJCzIe6E9BriouLW1paiCFXrlxhMpkk4UeHxsbGxYsX9+67P509xZ2dnU+cOOHg4BAcHNyL5I8ePfryyy8///zzHqXi8XhWf/9Nmzb1ogyY540BJdfb29sVCgUAAPUrpVKppWZJqVS+8sorLi4uxECoBeVyufb29sTcSF3UhoaGtrY2pLatq6szGo2905GSygaz6q8e8cWLFxkMBswcqd28vb2JCwZLpVI2m00cxFi+QAwA4N69e8TT5uZmAMDw4cOpU8F3XlJSYmvQbItNmzbNnz8/IiIiLS1t586ddJpsWP1MJpNGo2EwGKS6Df5v9W5razObzW5ubpb5BAYGSiQSihsRc87Ly0tOTkb/CwCgvr5eJBK5uroGBQVZpoVjUAj1yr7h4eEAgLq6uqamptbW1okTJ/r6+j599xFnZ+enINrt7e0//PBDPp//5z//2fLDdcu77777ww8/jBgxoqfVDDOAGSByPSYmxtPT8/Lly4MGDVKpVCEhIXPmzMnMzIRjJh6Pt2XLFhT5zJkzSEklEokeP35cUlLi7u5uMBgYDEZBQQGM1tzcjFSF0Iw6b968wsJCs9lsNBrj4uKGDBmyZ88ed3d3rVa7f/9+1O5AlS9JxygWi+EdU1NTQ0ND09PTWSxWR0fH3LlzU1JSRCLR6dOnAQDp6emHDx+m00tAqleYEN7Ox8dHIBAcP37cYDA0NTXxeLz4+PikpCQ2mw0AGDt27Ndff41y4PP50dHRUK7DhMeOHYMvkMVi5ebm9tqgO8CYMWNGTEzMO++8M378+Nra2uLi4vj4+G63VLh06VJ0dPTRo0fnz59PRwNcV1d39uzZysrKWbNmQZXSli1bPv744+XLly9YsGDx4sVECWqVW7dusVispqYmqVRK6plBG0ROTo69vX1AQACbza6oqLAcIKalpY0fP77bogIA9Hp9Z2dnj/p/SD0AAGhpaSEpruPi4sD/VmOTyZSUlKRSqaZNm+bm5lZQUJCZmdm/ugFSNxr2e0jdXK1Wq9VqSaMCUs+eGFkkEtm6HXUdCAgI4PF41dXVFHId9s5JJQQAMJnMsLAw+tWsd5hMpubmZtzdf1EYIHIdAHD06NH09PTAwEC9Xr9x48bq6uqlS5dGRERotdrIyEiRSGSrP/vTTz+JxWL4S6SmphYVFVlV1KtUKoPBcODAASaTmZGRkZOT4+/vf/78eQBAfn7+xo0b6au109PTBQKBl5eXSqWKjIwEAMjl8iNHjjCZzLS0tGPHjsXHx3ebCbQ+FhYWLl++nBiemZkZFxcXERGhVCpjY2NFIpFQKIRt08cff2zZ4iMKCgpSUlJ4PJ5er9+2bVtFRcWKFStoPtELgVqttuWbZtlcElmxYsXQoUN//vlnGJOORbmurq6zs/Orr76qqqpKT0//5z//Sd0POHr06I4dO/z8/FauXEmsftu3by8qKiorK6uoqEA9TlucP38+LCzMZDJlZmaSdDOkXqZAINi6datCoXj77bdhSHNzc0lJidFoPHz4MPVd4NOlp6dHR0eTwj09PSlGjcRLUqm0tLSUeJXoCqdUKrVabXFxMZSdCQkJ+/fvP3PmDJLrEolEJpNRj1BFIhGyIovFYvjVJBKJRqMxmUyXLl3q6OhgsVgCgeCnn34qKytzcnKSy+WZmZmBgYEwVXV19YkTJ+B/DUcOTCbzxIkTqGePvtTYsWMXLlzYzVujZP369dnZ2WFhYVavZmRkFBcXT548uaGhgcfjZWVlET9uQkLC6dOnDxw4QBy9UGMwGKz+CyaTyWr8tra2YcOG0cwc88wZOHJ92rRp8Id0cHCYOHGis7Mz/OucnJxiYmLy8/NttQIzZ85EbXpQUFB+fr5Vuc5isbKzs+HvlJCQUFlZiRr34ODgPXv2kDx+KcjIyIAtlLu7e2BgYGVlJRTqAIANGzbQ/DmhqD5z5gxJxkRFRcHyczicmJgYjUaDBhzBwcGnTp2yJZM8PT15PB4AwMHBIS0tTSgU0inGi4K7u/u1a9euXbtm9aqt/RG0Wm11dTUAwN7ePiQkBAZ2dXVJJBK9Xm9VVN+8ebOgoKC5uTk5ORkAkJ2dLRaL09PTP/roI3d3d6t3aW9vZ7PZOTk58FQmkxGvcrlcLpdrNptlMpktJ3CtVnvmzBmlUrl9+3YAAJvN3rx5c3h4uKurq9VRvpeX17fffnv16tWuri6j0ThkyBAnJ6eMjIwJEyZQ9D+0Wm1jY2NVVZXBYODz+X5+frZi9pFRo0axWKyzZ89CY4HRaNRoNG+99RaK4ODg0K2GPDIyMiQkRC6XK5XKZcuWjRkzBoZLJJINGzakpKSYTKZvv/02PT09IiICOotptdrt27cjuU7i9OnTH330UWFhIYPBkMlkycnJPB4PflMXF5c+qsE5HM6oUaPOnDkzf/580iWhUKhSqU6cOOHk5GQymXbv3n3mzJklS5YQ42RnZ8fHx//888/vvPNOt/eaNWsWg8Gw+i/MnDnTapJbt25VV1dHRkZ2qzTCPA8MHLlOtBfa29sT1Ynjx4/v6OiwlXDixInomMJHycnJCdVpJpPp5OT0+uuvo9sBANra2mgWlahOdHZ27uzsRI0pk8kcOrRPH8XV1RUdjx8/ntgBf/311ynew6xZs9DxwPt7nZyceuE8ZTAYNBoNPD59+vS0adPYbLajoyObzR43bpyXlxdR9apUKs+cOXP06NGwsLAvvvjCZDJB7cjnn39eUlISGRnJ4/HmzZv33nvvkWSnWq3Oz88n3ReaUUjlsSrXq6qqkpKSiMO4qKgolUqVlpZGsn8TcXR0tCXAbJGTkwOztaoP5/F4jo6OFMktfelt8eabbxYWFv74448ymayqqmrBggWRkZFEhcrbb7/d7Tw3e3t7e3t7tVo9atQoon578eLF8MGZTOann356+PDh2bNnw0tOTk4jR460lSGPx0OWi+nTp7u7u3d2dgIAKNTvRGy5HSAiIiKioqLGjBlD0vwT53EwmcxZs2ZZimQXFxehULhr1y46cp3H41lWLQqKioqmTJly48aNLVu2ZGVl0U+IeVYMHLmOwVhFq9XSnINE9JqEcDgcJE7q6+sXL15MIU5Gjx5dX18fHx8P3b7a2tqQm0VoaKiDg8OxY8f+85//WGqDvLy8SEYc6KJB07Lj6uqanJxMytbd3b2wsJAUE86qopOnVX9pqEm6evUqPG1vb1er1VAIqdXq7du3U7i2bdu2jcLN3iqLFi0CAOh0ul64wT8Jxo4d+0Tz53K5PB7vm2++sXzzSqXyp59+qq6ufvjwocFgsNoh43A4gwYN0uv1FF9BrVar1Wo6hUEOBHq9vqCggM/nL1iwIDY2VqFQPIkZEJj+Bcv1/gcO+okTnGj+S5gnwa+//qpSqUiBEonEcmEioqrDEjs7O2hibGhoOHjwIAxsbm5GU8wdHBwoJHFAQAAdtyOVSnXr1q0rV67AQrJYLA8PD2oHRjhLDca3GgFpYqZPnw77GWq12snJic4MOksKCwu3bt0KAGhubs7NzYWPXFZWNmnSJGqX9fb29ubmZlumAcTVq1eJPZJ79+4JBILRo0ebzebBgwcTtUrPCQkJCV1dXXfv3u27wBMIBCkpKadOnSIGpqamGo3GuXPnrlu37rXXXpPL5XApKkuWLFmSmJiYkZFhK/+2tjbLsb7VfwFqOMrLy8Visa+vr5+fH4PByM3NFQqFCQkJPRruY54+WK73P9BGVVlZiYZQu3btoml6x/Q7b7311pw5c0iB1dXV9NXyJpOptrb2s88+g3Jr8uTJaOgJJ0r0SzmhMxoAICQkxNfX19fXFwBQU1OTnJzs5+e3bdu2bj3wkcmAxOnTp0lD3tDQ0JKSkl7MqgIAdHR0wBlrBoMB9WlMJtOVK1eoOy4KhYLP53frdThlypStW7dC92/qdQCfH5RKJeri9AUnJ6edO3d+8cUXnp6esF6p1eqysrLS0lL0Hi5dumQr+bx584qKirZu3frhhx9aNZ97e3t7e3uTAmUymdV/obCw8B//+AdRFcTj8RISEmJiYiwX0sE8V2C5/kQICgrKycmZMWPG77//fuDAAdT89RSJRCIQCGgu6YV5QkCNutU16aZOnUptVKaJyWTi8/n+/v4kr8mAgIDg4OD09PRz5851u/KxLdety5cv972ECAaDATupOp0OrR5z69at+/fv9zpPy4Xn4IJ0Vt95dHT0k1aJP0McHByGDRuG3GKgTqWzsxO9h7Nnz8I+n1XWrl0bGxvr6enZO2UMkUePHgkEAmgNQfB4PLFYTH+tWcwzYYDIdTc3N2Lzytx/btMAACAASURBVGaziYttsVgsouLI0dER+T87Ojra2dmhS0wmE/nfMZlMlMrR0ZG0joebmxtx/MTj8Yh3XLduHYvFioyMZDAYYWFhCQkJSEdK8uO1zJnmBGKrkUnFYLFYcOa65dOB/+voREpoWU6MVYgToK2uU2vpLGZ12bu2tjaj0bhu3TrLHDgcjp+fn06n64/y9gMsFgt2IGQyGRqhDho0SC6XU8yi7EdI3ZfVq1evXLlyIHV8/f39RSIR9LR3cnJyc3NLT09PTk52cXHZsmUL9ZI+Xl5e4eHhR48e7fsk1Q8++MDWLfqYM+ZJM6impobL5dqa54N5tnR1dW3cuHHLli0Dz0H96WAwGAwGwxtvvEEKj4mJoa81hSu9R0ZG2pqoNmfOnMGDB9OcEPH666+PGjWKFHj//v3PP//cbDaHh4dPnjwZ9cbUanV9ff2hQ4fWrVtHx9XZKpb7vvj4+MTHx9uqVNSKgeTkZDjN+vr162fPnl2xYsWhQ4f+/ve///77799++21QUNDy5cutKqhg18fWa3zrrbeIM9noR5ZIJJ6enrZsClqt9tdff0WRNRqNwWAgGsIlEsmcOXNQgWtqalBXTKPRaDQaOJ2vqqpq9OjRxIRVVVUcDgf2jGUy2Y4dOywn9CNcXV2tWt9bW1uVSiVpxmBXV5dUKrWzs4PhJpOpsrISriQ4efLk8ePHoyciPR3EZDKdO3eO9D4psLotEB3wovHPGwaDQalUent7Y7n+XEN/dXGMVWzJ9YyMDPq7b0H7OkUE0iIwvUapVB44cKCyshLtd2JnZ7d48eJly5b1xcxs2XDv37/f1gokwLY+H0JcvN3R0fHmzZvz5s1DKxZ/9913CQkJVt+GXq8/efKkrftOnz6dONegR5GfOVqtlrhyviVTp059buVfL5aXh0gkEjjbs9+LhOkdWK5jXgpsyXUMBoMZYCC5PvhZlwSDwWAwGEy/geU6BoPBYDADByzXMRgMBoMZOGC5jsFgMBjMwGEoAMBoND58+PBZlwSD6X+6uroePXpEPeUXg8FgBgAPHjyAB0MBAPfv3zebzc+0PBjME+HRo0e///47lusYDGbAg+T4UPB/11/DYAYSeJ4bBoN5STAYDO3t7QDb1zEYDAaDGUhguY7BYDAYzMABy3UMBoPBYAYOWK5jMBgMBjNwwHIdg8FgMJiBw5DY2FhHR8ehQwfIRuwDA61Wazabhw8f/qwL8sJjNpvNZjPchfPcuXP/+te/amtra2tru7q6Jk6cCON0dXUVFBSMGTMGbp/a3t6u1+uJW6nq9Xq0QZlEIrl3796f/vQn6vuq1Wqz2cxkMsViMcqZDjKZbPTo0cOGDSMlvH//vlwur62tvXv3LoPBGDlyJClVbW2t5b6cJpNJq9UOGTLklVde6TYyor29/eLFi1VVVXK5XKPR/Pe//4W7kcK0RqNxzJgxNB+HhFar7ejoGD58+JAhQ2CISqWC28WeO3cOfRFbCe9Z48GDB2iXVbPZfOfOnWHDhjEYDJSW+PnKy8vffPNN6kK2t7dfvXr1T3/60/Xr12/cuNHtt0YoFIoHDx6MGjXKspKYTKZLly41NjYaDIbXX3992LBhMBzWPW9vb8vc1Gr1vXv3iDWHIjLEbDbD6n3hwoXr16/DwsBXoVari4qKKNJSI5fLb9++fdcagwcPtrotb7eIxWI2m02syRKJZOTIkb3LzRZqtbq2tpaiahG5fv36zz//THN/27t37xYWFvb6lT4JzGZze3v7G2+8gcX580h6erqnpyf1dpmYnuLk5ITaU6JkunfvHtxJGu7hffjw4by8vJqaGhQhKytr27Zt8PjEiROenp5wk1ClUnnmzBkYPnXq1CtXrsDjhISEEydOODs7L168mJgzib17965Zs4Z0HBcXV1JS4uLiQkr4+eefjxw5cuzYsQAAoVAoEAgAAGiLTJlMVl9fT9w3XavVpqeny+VyAACLxYqKilq1apWtyETa29tDQ0Pd3d2XLVvGYDCuXLkiFAq3bt0K9wKXyWTOzs5WGz64YzrxvRExmUxJSUkqlYrFYs2aNQttDJqfn79161YAQHl5+dy5c62mBQCEhITYujRt2jS0C61Wqw0NDRUKhcRNUYmfr7y8PDAwEB6LRCJ4MHbsWLTzrKurK5PJhA9y/fp1jUZjdUPYjIyMN998MyIiAgBQV1d3586dxYsXZ2Vlwd+WWElgBD6f7+fnx2azS0pKRo0a9dVXX8FLsO7FxsYSMz958uTmzZvR03355Zdwl16rkYlIJJK8vLyVK1dOmjTJaDQKBAIWi1VYWAgAUKvVFGl9fHxIL43E5cuXre6Zm5eXFx0dbaulkkgkGo3G1lWxWDxt2jRi70cgEAiFwl7sTE1RfrVaTapaMTExlsnh33f9+vUTJ06gX6OoqOjs2bOWea5du9bLy+vu3bvUn+MZguU65mVh8uTJ/Zuh0Wisr6/XarUMBsPR0bG+vl4ul9O/i0ajQce3b9+miCmVShkMxpYtW+Cpm5sbn88HALi7u8MQrVZLag0PHTrEZDIPHTrE4XAUCkV8fLzJZKLTU6yvr2ez2bm5ufA0ICDA0dGxuroayvVec+7cOYPBUFxc7ODgsHLlSr1e39Md5WF3py9lIFFfX28wGJqamkJDQ2/cuAH7HCEhIR4eHt2mbWpqQjoAo9Go0+lsxdTr9Xw+PygoKCUlBYasXbsWiZbff//dMsn/+3//D0mpnTt3bty4EX0OaiorK/fv349erJub24oVK1QqFaonvQZ1Cknk5eX1Meenj1wuDwoKgl1kCPFPJMJmsz09PQEARqPx6NGj0dHRMJzFYj2FcvYFLNcxAx84lLQMpx6jdIuXl1dubq5IJIJD84iICB8fHyR9+5Fjx44tXLgQnfr6+hqNRgAAm80mNk9EGhsb0SiWy+XGxcVlZmZGRkZCpTcFRqORJMKnTZtWX1/fbSGhuqKurg5pEYjI5fK4uDgochYuXHjkyJFnro7Kzc2FFQMqD2JiYjw9PdesWSOVSvvxLidPngQAIKEOAPD396+oqEACo6GhgRh///79vr6+qFpGR0cvWLCgqKgI6gaoGTFiBLG3xOFw2Gx2Z2cndSq1Wg0AaG5upvgXNm3ahFQaA4B58+YRHzY1NdVqtICAABhNrVYfPXr0mddY+mC53g/cuXNnyJAhcMBkNpu1Wi0AYMyYMahHjzCZTG1tbSwWy7J5hQkZDEYv1FAYagICAqB++Pvvv9+6datAIFi0aBEAQCaTyWSy1tZWyyRISQsAaG5uRn++Wq2GLfLTxGQyvf766+gUVZ6JEyfCgZRIJCKJXlLdi4iIyMzM1Gg03cr1SZMmicViZ2dnDoczZMiQlpaWgwcPzp8/nzpVe3u7RCKBKvF//OMflq4hnZ2dqCX18PBISUl5cq3k2bNnkU0EAPCf//wHfT5qvciTwGQyOTs7E0NYLBaLxYKPDwUG8erPP/8cGRmJTu3t7Xk83r///W86cn3s2LF79uyZMWPG2LFjjUajRCJhMBiurq7Uqf79739PmzatpKTEz8/P1sjeaDRaqq8h48eP77Zg9Kmuru7q6rJ6adq0aaQ3+dS4d+/eM7lvr8FyvfeIxeJx48YdP34cavN4PN727duzsrKam5sBAE1NTfn5+VwuF8UXiURHjx5ls9kw8vr16zkcDryk1+sTExONRqPRaKQwJWL6yL59+9hsdk5ODpTrUL1pVRdKlDparRYZaG21br2grKysrKwMHrPZbBQul8vhEArh6el59erVt99+G54qFAp4kJ2dnZ2dDY95PB4xCckaqtfrAT39IYfD2b9//8mTJ3fu3AkLFhkZ2a1WQywWz507NyUlZfny5cXFxVFRUaQIxFvb2dl1dHR0WxISlq8FwmAwZs6cSQwhjcaIn2/Tpk09va8t8vLykBYaGVlbWlqkUilxP4KpU6fm5eUR1RgKhaKystLHx8dqtkwmk/RyDAaDm5sbnSIlJiYWFRUdOnTIZDINGzbs3XffRX4MttDr9d9//31hYWFGRkZMTMzhw4etjit0Op0tW4CbmxtRG9EXoLXIlla82w5Kr+no6IBKGpVKZTXCr7/+CgCQSqV9Ue89TbBc7xOZmZlxcXERERFKpTI2Nnb37t12dnawEYE/GGpQZDLZ0aNHBQJBQECAXq/ftm0bn88/cuQIHFdt3Lhxzpw50HcjNTUV71PyJJDL5UajUSwWp6enQ/8p2FSp1erQ0NBeZ2symYgNcUtLCzQDCwQC6N1miwULFliVN9CPjMiyZcsSExO9vb2hbMjLywsKCgIAzJs3D0Y4e/YsycTLYDCINuzdu3ezWCya6+Q7ODisWrXK0qQKOweW1NXVVVdXHzt2DAAgEAj4fP6iRYu6NZ9DwUbs0FDAYrEsXwuEzWZDXXcvgOYM5J1A1HnA4iGTqiXIX0wqlV67dg0GlpaWlpaWAgCQLSMgICAoKIjP5+fm5rq7u0ul0vr6eqFQCK92dHSQnmvp0qVlZWVhYWHwVKFQNDU1xcXF0XyiiIgIy5G9rQ8HhxP+/v4AgJSUFLlcnpeXZ7UrkJSUZGtvsL4Ym+FzIXOYLSt+H0EdaFtOnc3NzQcOHAAAtLe3W1VowZ+L2lTxXIHlep/w9/eHfxGHwwkKCiouLj58+DC8FBER8fPPP6OY1dXVcXFxsFo4ODhkZWUFBwcrFIrp06f/+OOPcrl8x44dMGZYWFhMTEwf3ZQwluTl5SUnJ3M4nOTk5MzMzD//+c89dd2ySlNT0+jRowEASqUSELZUioyM9PX1tWrXpwY6iBHHcw4ODn/961/RoNDPzw85VEOuXLlCkuszZsxYtWpVaGioq6trfX19ZWVlcnKypWGIRF1d3TfffGMZ3t7ertFoeDweyQah1+uPHDmSl5eH/Lc5HM6cOXPCw8OTk5OhUsQWULYdP36cukiQ8+fP04nWU27cuAH+95NptVqiiBIKhdXV1T3NEAp7klJny5YtIpEoKirKbDazWKzPPvsMiQdLDURAQMC+ffsyMjKgembfvn3R0dF0xIktTZJKpTIajagngYDelGw2e/ny5TBkz549q1atEolESFml1+sbGxup72s0GqVSqYuLSy+8GuPj411dXek4KvYFX19fomnDagTYw5ZIJCdOnLCMoFAo/Pz8SkpKnlDPo9/Bcr1PoAETAODtt98uLi4mGqiIzcQvv/wSHx9PTJuUlNTQ0DB9+vSzZ88uXrwY9RN5PN6zMiMNSB48eJCdna1QKAICAqCk8fLy2rRpU2Zm5pgxYyytvDweT6vV7tmzB4VQjEi0Wq1CoYByvaKiwtnZGTYBAAB3d/d+7N0HBwf/+c9/hh4Y9vb2JHkwceJEkgNdVFTU1KlTb9++fePGjYkTJ5aUlHRrWQcAuLi4IPEApzABAJhMJjQJ29vbE90Ojh8/fvz4cU9Pz5ycnOnTpzc0NBw8eHDbtm2JiYlcLreysvLkyZMrVqyAb4M42jMajSwWC74cNFHQFnAth25LDh1T7OzsFixYUF1dTRx5U8wwrqqqYrPZjY2NLS0tRqPRbDbfvXsXXgoICOjq6rKlE+4pCQkJ8+fP7+jogIoB9PkMBoOlzWLXrl3V1dV37twBAKxbt86Wxp4E+nASiaSpqYnP5w8bNszOzm7IkCHjxo0jOgOaTKbvvvvu+vXr6enpM2bMYDKZqampH3zwweTJk/fu3VtQULB69WpnZ+ePP/74/v37SBVBDZPJ7IVc53K5cDYgVGMQL3V2dspksgULFhAD2Wx2eHh4T+9iZ2fXlz9RrVbr9fqMjIz169efOnXqvffe63VWTw0s158SgwYNIoX8z//8D3TnMRqNJNMRnSYYQ5PXXntt3rx5pE7VlClT0JC3ra2NeGnWrFmzZs2imTkUaY8fP9br9bm5uUKhsNc64W6hNhbweDxSk8fj8UhG926xt7dHdU8ikaA2lyh70tPT4cGSJUuWLFmCwtva2srKyrZt28ZgMBYuXEh04AcAwFcEFSTNzc1Q90uHtLS0y5cvdxuNx+Pl5uaOGDECmTa6paioSKfTicXiw4cPNzY2hoWFmUym2tpa+osI9Qg+n29rOlxiYiLx1N7envT26ICmy8tkspaWFnhqtU/AZDJJdywrK4MS9E9/+hNRD//6669DLdHFixdt9a7YbDbyE6KJpV0AeZ4jpFKpRCIhlbOnQBVaX9Dr9VFRURs2bGAymTk5OcuXL58+fXq/6PmeKFiuPzOg8goeW13zAdNfWLY7MpksLi4O2tsYDAaPxyMNyktLS6ENm4K6urrS0lKhUHjnzp3w8HA3N7eAgIATJ07YMmf2EVvWQWDNH94qFK2zJcjP2cPDA2lxrS7TQQcul4vmtl26dIk0DqMAzdZDiEQiBoNBvR5It5/PZDIVFBSEhYVxOJzm5madTgd9/vPz8+mXrUdY7fDR9O1QKpU6nY7mt3N0dER+dujDNTc3IxfLXnD8+HGrro4qlQq+Q1sJ6+vriTqelpYWhUKh0Wgs7QJ9hDQJoqGhQSaTAcIbIAJdm7sF+h+w2WzUDQ0KCgoPD4duUv1R6icFlutPidGjR1dUVMyZMweemkymwsLCv/zlLwCA+fPn5+bmrlmzBg4UWltbFQrF059M9VJx48YNFou1c+fOTz/91MnJydLXt6qqyqpgCAkJga5eZrO5pKQE2krb29vlcjkUWsuWLbt58yadMsBF5eAxndVsUGRLLl++jBRCV69ehUuMMRgMaCCAi62OGTNm5MiRdNbIhBr1pKQkeOrg4IAGKC0tLTDPnhISEiIUCtPS0h4/fuzs7Pykm0Vbnw8tNqdUKn19faG5NCIiwtHREQonq6vLWRISEgLH+vCUzmKihw4dgm56REhzupD7JLKq6HQ6NC12woQJ3d4lNTXVz88POaij98xisaZNm9ZtclssX7784cOHluHU4tnyjtOmTQsPD3dwcLDqdU9cNo7BYND0qQQEHRJi+vTpKSkpLBYLTR4hRSa+eaLaCaFWqz/55JO5c+cuXboUOaZERkaOHj26rKys70v9PFGwXH9KLF68ODIyMjo6OjIy8tKlSzk5OSwWCw4RwsPDr1y58vXXX3/xxRcAgK+++srOzu5Zl3cgo9fr//Wvf8E1ILu6unq0kgxaY5LBYCCVr729PdLqQ80nHCtQ09MVKMViMfQzsrw0adIkpG+YMmWKLddxSLdqbahRt1o8pOq3tdSPpeIXqhns7e3pa8ifHEiuE40UwcHBKML7779PZ10aW6vwUlBdXW1VfhAn6VF/OKvT/EiUlZVZFZleXl5I82FVOW/5NYnzNTIyMqwu2z5ixAiKpdednZ177So0c+ZM+iatHn0OmpFdXFzgFA8iDAZj8eLFMIenvxYCfbBc7z1sNpuovGWxWCRzJnHFBnd3d6FQeODAgby8PDabvXDhQqLH1pYtW+Li4uD/Fhoa6u/v363rMqZ3FBUV5eTkfPTRRxwORygU8vl8OGp/1uWihaur63OiACQq5zF0YDKZz8m3o/nhiHsouLm5Ufc5MM8VWK73HlK/D64qSgxBu3pALH1DiOTk5CiVytGjRz//ThkvKMXFxdDEGBUVBef2eHl5FRcXJyYmLl++fMGCBREREcTuFMUSNDTX6+53SEZEEnSWiaVPWloacRc4BNwkg6icfw6prq629fngph1PuTwAgJaWFqKlmcjUqVP7UeSfPn3alrNFUlISl8vtxb0oCg/+7yJOfSQnJwdOJbckJCSkF2qSl5NBNTU1XC731VdffdYlwWD6H4PBYDAY4HosSqXy4cOHEyZMIOlC7t+/X1dXBwhriQAAbt68SeH+RtMKCwCQSCS+vr69WBvYMmG3uv0pU6bQ2dtXoVB0dnZSLJAAVzu2dXX48OFPQqLX1NTQnNClUCiGDh1K7ShQU1Pzxx9/WL3k6upKs/ej0WgMBgNxyUiaVFVVjR49mpRQLpdbNVEDAMaOHUtnkpjBYKioqKCWbdS6egcHh97t/kxReNCT34GIRCKZOXMm2gK427v86U9/or9nLkKr1d69e5dm1dJoNBqNhubaIa2trRcvXnyuuhoGg0GpVHp7e2O5jhnIEOU6BoPBDGCQXB/8rEuCwWAwGAym38ByHYPBYDCYgQOW6xgMBoPBDByGAgCMRiOFtwIG8+LS1dX16NEjvD8eBoMZ8Dx48AAeDAX0ljvAYF5c2tvbn3URMBgM5ikxFACA/eExAxXsD4/BYF4SoD88wPZ1DAaDwWAGEliuYzAYDAYzcMByHYPBYDCYgQOW6xgMBoPBDBywXMdgXiKKiop6mkSv16tUqidRGEgvimS5qTYGg0Fguf6SolaroedktyiVymc1ExJux9JfSG1DscULAKC9vT0tLW358uXvvPNOTEwMUQ6JRCKKbd/6i5iYGIlEYuvqxYsXLcufmppqNfKxY8coNuaySmdn56FDh3qUhD4ymaygoKCnqZ7Vfnr0EYlEveiv0MmW5hYmVlGr1bDGpqWlkfpGMTExlhVDKpVaBvr4+PS0ChGxVTMt8fHxIbY8sPC2+PHHHymyKioqysjIsHWpqqqKZpHEYrFUKiUF/vjjjyKRaP/+/aTfkP6TIkQiEWyWfXx8SDcqLS2FH66oqMhkMqFwmUxm2QThfVpfUsrKysxmM4fD6TbmmTNnGAxGbGzsUygViZycnH379vVLVlKplM/n27oqFAop9ijLy8vT6XQrV65ksVhXrlzJycm5efNmSkoK9R3VanVoaGhNTQ2d4kkkEoFAQAqMjo6m3gFTJBIdPXrUaDQCAPz8/NLS0rrdqSwuLo7P58+fP5/Op4dwOJzOzk6akXtKZWVlcnJyj5LA7YyfUHn6i7y8PD8/v4iIiF6k3bRpE3Gzc9hq2+rKfPnllzdu3LCVFWlT2rS0NDs7O09Pz5aWlpSUlP3791NvzXflypW8vLwebcMqk8ni4uJIgTwez2r59+7da/UH2bFjR492HD59+rSTk9OiRYtsRWhtbW1qarJ1iTjNWyQS5eXlkeJs3bp14cKFlmnr6uoyMzN1Ot3cuXOrqqry8/OTk5MpikEkJiZGIBDADRuLioreeOMNPz+/vLy8qVOnWv6bRUVFx44dgxvNFRQU3L59+9NPP6XI/BnI9XPnzs2dO/fp37e/kMlkOp3uudqeD0OH2NjY3vVOfvnlF9QqBQQETJ06lc/n/+1vf6NuE6G41Wq1dDZpnTNnjqenJzrVarUJCQlTp061GtlgMMTHxwMAxo8fn52dzeVy29vbq6urs7KytmzZQn2jgICAlJSUDRs25Obm0m86//KXv8TFxW3ZsqUf93cHAKhUqo6Ojh5tB65SqTZs2LB58+Z+LMYTws3N7SncZfHixcTRG5G4uDhYCSHr16+fM2fOqlWr4Gl5efkHH3wQGBjIYrEAAFqtllgDe82UKVNKSkrQaXt7O+xH7t27V6PRkCIHBgbyeDxiiEKhyM7Ofu211yxzZrFYzs7OVm/KYDC6LZhWq92zZ49leH19PTHbyMjIkJAQYoTDhw+bzWbLhK2trRs2bAgNDf3rX/8Kt36WyWQCgcDFxYXO3r5yuRxlS+pbkNi7d29ZWRn6YRMSEj7++ONPPvkE3rSjo8MyyTOQ6+Xl5S+6XK+vr8dy/eXh3r17xNPm5mYAQLf7WDc2NgIASkpK6Ax3RowYMWLECHS6b98+Ho9nS+A1NjbCJhJpsO3t7RcuXHj69OlubwQACA8Pb2lpOXbsGH0Lwrvvvnvw4MEtW7ZkZWXRTNIter3+k08+SU9P72mShQsX2urxvITYEiFwjUUoswEAer2+oqKC2K8NDAxMTk6eOHEiVCrU19dbZgLHuHV1dcRBPzXDhw8n7iW/a9cud3f38PBwFELUTru7u5OS//bbb8DGz9Xc3CwWi62OmwMDAydOnEhdMCcnp8TERMtwkk3B3t6e1HlF75CEUqm0s7Nbs2YNCpk+fTr8DeHLtypxe0FNTU1gYCCxVFwu12w2w4ZFJpNZ6kLIct1kMtXW1gIA3N3drY4zGhoahg4dihQFSqVSp9ONGTNm8uTJlpGlUimLxaJTJ9RqtVqtthUZ3sXb2xv2UKiBkdlstlVNo2VWdXV1RqPRw8ODNPxCr4LL5XY7TNHr9bAdtxX54sWLM2fOpFl4y8IAALRaLXRfovkeENBOQ/ND0AG+MRcXF+IPDGloaGhra7O8V3t7O7Tn0XmZtqB+yRcvXjSbzVZfXR+ZMWNGTEzMO++8M378+Nra2uLi4vj4+G4/waVLl6Kjo48ePdojpTcAoL29vbS0VCgUEgNVKpVUKkW1ms1mWyYkDs6oSUhISEpKol8kAMD69etXrFghlUp7NLym4MiRI8C2WKJIsmzZsn4pwMAGVgb0G96+fRtYG9e2trbaysFkMl2+fBkAcPz4cdLvXF9fLxKJXF1dg4KCKMogl8svX74sFot7WmxbODk59cgoQESlUlntyGq12t6p8YxGI7EvjqioqLh27Rro1wXaLVUyjo6OFPHJcn3z5s23b98eMWJEe3v76tWr09PTof1DJBLV19fPmzcvKytrxYoVHA7HZDIlJSXJ5XIej6dWq+fOnUu0OBYVFeXk5LDZbJ1Ox2KxcnNznZyckOmirKwMACAUCmEbUVRUtG/fPhcXF5VKhSLDfDZt2jRixIji4mIAQElJSbeNaUZGRnFxMY/HU6lU/v7+Y8eOdXZ2hmPrmJgYDw8P6AEEs9Lr9Rs3btRqtSwWq6mpKTw8nPgIa9euNZvNI0aM0Gq1yBAVHBys0+kAAD4+PkivW1VVlZSU5ObmRooMowkEguPHj8vlcmpTK3qfkydPbmhoIBVGr9fHx8dDYVZWVtba2urp6QmruI+PD3qTkJiYmE2bNkGhu379+sbGRicnJ5VKFRISQm2V6RatVhsTE2M0Gt3d3dVq9f9v71zjmjq2BT5ViWhCxQCaBVATbwAAIABJREFUqIBCoCJeISDYCmKBo4ioVwUU9ajQEr0ingO0QH1AW9C2You0IAqogC2iKHoKlJf1BagVMDxaQJNgG9QmGEFqEj2N9ng/zO/O3d1JNgmE2uL8P+3sx+w1s3f2mllrzZrw8HCiB3Hv3r3nz5+3traGbwXyHslksrCwMDabDddfSU9PH4DqpWhkPp+fmJhIo9FUKpVCoQgKCtL45xeLxeoxLxBtvUDI2rVrR40adfXqVXgmqbU1wufzHz58uG/fvrq6usTExCNHjujeFSsrK/P39yfdorCwsLCwMDQ01N7e3sjICA6kZDIZsSW1DSw0YmRkpNc4zN7ePjg4OCUlBXUrNXp2ORxOv5EHAACBQJCXlxcXF6d7s/T09MBLiFXm8/kHDx5UP1mXwDqNX/nZs2fDEdhgSiZRVFR07tw50k6KhmpubiYFx5GM1bpAMh3DB93b24v64nBMSafT4Z9CfW0k2BGPi4tLSUmJiIggDvMkEgkAwMjIiFqGAwcOpKam2tvbExuTWiHdvn2bwn+hTTdDKB7NwoULKWw86mYDXWAymbAdiCiVyk2bNkGN02/cXGBgINpGhitoDiTi5ORUWVkZGRmJ/ixtbW1XrlxJSUmBP9Vfj9/p9fT09GnTpu3btw8A0NXVRerRC4XCKVOmnDp1avLkyQCAnJwcT0/PtLQ0Op0ul8tTU1M3bNiwf/9+MzOz8vLyY8eOQc8fAKCsrOz06dPbtm2DrovPP//8n//8JwDA3NwcAPDhhx/euXPnq6++gs/7woULhw4d+vDDD+FNb926tWTJksLCQl2a/uzZsw8ePCgtLWWz2UqlsrS09NChQ8RoqXv37qGi2tra4uPjg4OD16xZQ6PRJBJJdnZ2QUHBunXrAACpqal+fn5w+8KFC++88w60eR46dOirr75qb29PTk4eN24cAKCnp+fUqVPwpgCAhoaGsLCwvXv3ooHIsWPHQkNDScMvdYjtCYXZsGHDoUOHxo4d29bWFh0dvWfPHjc3N9ien376qS7OsPLy8smTJ8MHCgCAnRhd3L3agO3p4+MDALh///6OHTs6Ojref/99AEBubu7169eLi4tNTEyUSuXRo0cbGhrg+/3RRx9t2bIlICAAAHDmzJkvv/ySIoRNI9SNHBMTs3HjRug4FAqFCQkJfn5+pBfGzs7u5s2bsB+tjjbnlkQiaWhoAACYmZkhr1tfX19JSYlMJtOok3788cdjx451dnbCcLADBw5kZ2cnJib+z//8T7/vsEQiqa6uFgqF27dvJx1KTExErh9HR0dvb28AwPbt29euXTt16tRffvmlsrJSm/dRI2vXrk1ISCC+qP0SGRkJ/18hISFAi2dXFz0Nfa48Hk+vsLLjx4+rX2JtbT3g+QgaL0QReYMpmcScOXOmTp1K2knRUDNmzDhw4AD6mZCQQF0+MeKnpKSExWK5u7t3d3eTbKjx8fFfffUVg8Gws7OTSCRFRUXe3t5Pnz6FfwrSQFkoFBYUFOzfv5/L5Zqbm3/yySfr1q1zd3eHRxctWqRt3Hzv3r1r1641NTUplcr169fD/gSxMb/++mvSJTCmFQ57pFIp0Qp48uRJU1NTPz8/AICJiYl6bCkRsVhsbm6u3rD9GgxgC/j5+VlbW2dlZeXk5BBH8DQa7bXXXlO/ysHBgclkxsbGhoaGwia9dOlSbW2t7m91cXExrCzRFyASiUjLq4aFhZmYmHzwwQfwAyIWi+3s7NAn9Pvvv1dv0t/p9fz8/MLCQrhtZWUFx+voKIvFgl9wiEQiQYrfxMTk/fffDwkJKSkpCQsLW7x4MTEmcMmSJbDnAl0XY8aMQU9OLBaXlpZWVFSgPriPj8/58+fRtTY2Nhs3btSxmRobG1F3nk6nh4SEkCwhK1asQN/WtLS0efPmocLZbPb777+PelhExWNra9ve3g63p0yZwmAwRo8ejapQWFg4b948pCzd3NzmzZuXk5ODPJEbNmzQ6BMiQWxPKExISMitW7e4XO6JEydmzJgBlToAYMmSJYcOHdKlQUgPYurUqUKhcDB6/fHjx1CpAwAmTJjw8ccf+/v7L126FP57VSrViBEjAAB0Op3oynr+/PnIkSPh9sqVKwdw334bGWFnZ3fixAn1Eths9gCsbXK5HAX7VFZWOjs7s1isCRMmsFisKVOmuLi4EP+QAoGgurr69OnTQUFB77//vlKphFbr7du3FxcXr1mzhsvlLliwICAgQP3T09PTk5aWVlFRERwcvH37dmrtSKPRYF+Nz+dDUxCbzV6wYIFeapLL5TIYjLS0NN0HoHQ6PS4ubvv27VCv62VCJ9LQ0MBgMIiOSV1oaWlRnxyh7g3VHaSlNDKYkklo9FhRQKPRiOePHj2a+nxixE9paamTk5O7u3tvby/pAQUHB48ZM2bNmjXw58aNG1GPHwAA+68AAIFA8OWXX1ZUVKSkpMCBoI+Pz/jx46Ojo+3s7Pp9W06cOPHs2bONGzcSDWDExmxqaqK4XCQSwahvyOrVq2FT6Di7T6Mtbfr06aQ9MTExu3btYjKZxJ3QqQ91qi7fChMTk2PHjmVkZGzduhX2ivz9/fudYtAvfn5+Xl5exL4InU6HeorP5zMYDJJlUaFQqFs4/l+vQ2sMsaokHx7JlyAUCkkRBwqFAvXfYZjGtWvXYIW12V5gZAF0myGIhoh+TT1ElEolqU1J9yW6l6CvmlQF4vjj22+/LSsrUyqVv/76K8VNRSKRSCSCxnm0h3iCjtZRje0JXzKpVEoaneuum+vr60tLS6F4EolE/RXXHT6ff+fOHfWpq/ARL1mypKqqav369T4+PnPnziUaeDds2BATE3PlyhUbG5tly5YN4HNJ3cgREREpKSkNDQ1vvvmmt7c36R2QSCTapriQUHfb29vbo38R/HRSKIPx48e3tLRs3boVRgk9ePAAjUICAwMtLCzOnDnz/fffq2tfmUy2bds2ExMTXSz8RFxcXAYcMyEUCkUikV6+TwDA0aNH58yZA7dPnTrV3d1NOmHChAn9di+cnJxEIlFRUZFeHRFLS0v1S2BfSv1kXbywGidhI5/xYEoGvzeN1tTUtLa2kk7QpaEGg1QqVf/qLlmyZMmSJdQXKhQKoVCYlJSEevAAAC6XC52h/QI9fQKBQJvPa968eRSXm5iYzJ07V32/jvNFNaLxP8XlcvXqbGkjMjIyMjJSx/CpwSAWixUKhUKhIH4GIQsWLCDt+X+9DnUecYIBtfKYOHEi6Rvn7u4+ceJEAEBBQUFVVdWiRYvCw8OhVqP4fECrEakcivtSoD47gnqe66xZs0j3guZNAMDOnTsnTJiwceNG6ESh+DO/8sorM2fO/K//+i+0x93dXa+4NojG9kRKhWQlo+5qIAoKCjo7O5cuXQqfC6n/NAAsLS3VhbS1tQUAWFhYnDhx4ubNmwKBoLW1tbCw8I033oCjcxcXl+Li4o6Ojt7e3vT09NGjR6vbmamhbuRVq1YFBAT88MMPd+7cOXz48J07dyIjI5ER8tGjR+rp0kpKStRnNMCKaIPJZMJeZnt7e0FBAdzZ2dmJ+rsWFhYUoxkvLy9tOtvCwmLv3r3W1tZ1dXVtbW0DHgerVCro8NOlK1lYWPjRRx/p1S3Iysqqra3Nz8+HP1kslvpQkjQG0gibzf7oo48+/fRTCwsL9I/rl7///e9btmwhXWJiYqKX94GIxgtRp3AwJUPQ+2lmZqZeFEVDqVQqoqHx119/7XfIro65ubmrqytpp1wuv3jxIvVcHhcXF2jxunXr1quvvoq0gF7D0L6+Pm0+L7FYvGfPHm0XUvyDxGKxtuxMCoWCFJpOory8HMbHQJydnQ8dOgSNiN3d3WvWrCF2Yoj09PQoFAqVSvXw4UNt8e11dXV6BcYOjAcPHmhs0nv37hEn4kL+X6/D7saPP/6IPiu1tbUUtzExMSF94nk83ooVK6ytrffv35+UlIQswBR5zWBgnampKbFdPvvss4Gp9hEjRggEAmJRN27cQOZrEs7Ozvfv3yfd6LPPPnN0dKypqamqqrp8+TL8Z1KHaM6aNWv06NHEcvbu3Uun0/X9Omtsz7i4OFNTUxg3gfb39PS0t7ejkxkMRmdnJ1FnIEvX/v37iaEJv/32m14ikXBxcSksLCQKCcNhYmNjzczMampqHBwcpk+fjkwC4eHhK1euhEHsXl5e0Lzm5OQUGBjo4eGh18CUopEFAoFCoXBxcZkzZw4cSmZkZNTV1SG9/tprr6krj4aGBt3N8nBmxLvvvgs/bTNmzEAfJhhPqntFtAGHDvn5+U5OTv2+OfHx8aRPjFAoRG8ph8PpN9OLQCCQy+ULFy7UXcKioqLCwsLs7Gxk0qAeeFGzcOHCZ8+excbGVlVV6Wi/sbW1jYqKio2NPX78OPqPs9nsAc84pb5wMCUDALZs2WJpaQm3HR0d9foatLe3EyOqAABE07SOaHR49fb2JiUl6Vivy5cvT58+fWBuO3d3d23fcOTrRBYRaPXJyMjo7u6Gg1GxWKwupLW1tcaJavDaxsZGCr1O8kiSrlX/wpPM/lZWVlZWVhwOR+NE+fz8fB6PRx0PqBGNcXPacHV1Ve+oAV3mufn7+3d0dBADvihu8/z5c6ISzc3NbWpqio2NBQAwGAxiS2k0Z0HYbDaLxTp79iwKDUVzmQaAo6MjsSiBQFBRUaFNr8+dOzczM5NUBRhECoc7//73v6FeVw9QJOLh4ZGTk7N27Vr4UyKRnDp1St8UWkBLe8JO/cKFC/Py8tBIDnnCIHZ2dsSw5NzcXLTNYDCIYbGdnZ0eHh76CkaEFCd17NgxiUQCZU5MTETBawAAmUwGjQR37tyJiYlBIW9QHn3nSlE08pUrV/Lz8y9dukQUcpAjLRLQoq4xJ92sWbMG8H/WF9L/dvr06ehB2NjYoNE5cW4qMTeIOpmZmdoGKBpRKpXHjh0LCgoy4Lhk8eLF1dXVV65c0V19wkv27dv3588jO5g5pWVlZQaUREd0b1JdTOIas7ZBYBAcAEChUKA+MfR9TJw4ceLEiTY2Nkwm8/XXXyeVAIOxNJbZb99aoysEXUv8XKxevRpGztNoNHXTul5+KwqzBNDfs5Cdna3t7v3Ew69fv/69996zsbFxcXFJT0+ntub5+vrGxMRs2LDB29tbIBAcOHAATsIBAPj7+2dmZjIYjPnz5+fm5tbV1REtnDQajTjBJikpadOmTVOmTFm3bh1My0cxDoCRk8TYYCJubm4w7HzNmjU//PBDZmYmxZSJVatWXb16FZY2bdq0srKyAwcOZGZmAgBcXFw4HM7x48e3bdsmEAhIxh8Yr46mGNnb26tUqoyMDDhNOSMjg8vlDsBzRmxPKExoaCgcytjb22/dujUvL4/H40ml0ry8PGK9FixYkJKSAvNLFBUVVVVVoaP+/v7Hjx/fs2ePTCY7efKker4nCI/Ha2pq0sW5y+VyoVVm8eLFp06dqqurQ3H+QUFB+fn5jo6O7u7uNTU1mZmZQUFBsDG5XG5eXt727dtlMlleXh5KUgEzrWrLMUmEopGXLFmSn58fFRUVHx8vl8uvXLly6tQpFP451KAW05anVj3eZ8Bp7xCo8zQwampqmpubSVHW1O9AW1sbg8HQa+ow9V8VEhERkZ+fj06AyoA6e25ERMSmTZuEQqGOc5OI81ENC3XJPB5Pxyl/AwY+MqI8cKOpqYmoEZ2dnQ2VjFkvOByOekJZ8H/ToAAALi4uevXPuru7T58+re25U88Pam1trays1Bi/7OTkRFRPFhYWBk+AYSi2bt2q0Veorql/p9dHjx4dHR3d2NjY2NhoZ2fn4ODw3nvvwUPe3t7Ozs7EkxctWsRkMtvb28+ePTtmzBiivTc+Pt7Dw0MkEsFA7rCwMOIQPCwsrLKysrGx0dnZ2d3d3cXFpbS09OLFi9nZ2TAPOdHotHz5cuJNra2tvb29tWUNNDU1PXz4cHt7e2VlJZPJ3L9/P7F/t3HjRtJsk7S0tPr6+u+//765uZnJZBKrcOTIkbKysuzsbAaD8e677xJdCatWrTIzMzt79qytrS1MnJeYmFhVVXXp0qVLly7NmzeP+PYkJibq+AEitidJGNhotbW1cFQaHx8P+x9IHjs7u46OjoKCAg6Hc+TIETTQj4+PLykpgQ07Y8aMN998E9k858+f/+zZM7i9dOlSmBRIo2De3t6jRo1CbWhrawvjrcaNG4dG4QCAyMhId3f39vb25uZmqAOQIS4tLa26uhp2Nn18fFC2wXHjxnl7eyMx1CFOhdDWyBYWFoWFhS0tLfBZs1gsNHvEsDQ0NPT19Wk85O3t7erqSj1ERsDpkdoQiUQanYiTJk0azIIfiPr6+pSUlJSUFJL1m/odKCkp0bZshjao/6oQe3t7MzOzixcvQkeJu7t7fX09dWyKvb19SkpKcXEx+jRRs27dOl2SjA4A6pLd3Nw05g4yIElJSRrzm5JQF5JiDSFvb29ifDTFO+/m5taviV7j9FEdY4M0wmKxKCYfPn78mCILJIPB0OYaGPwbcu3aNfVwNgAAk8kcgA+FAo1N+uzZs56eHuI/+nd6PT4+fu3atagHGhUVhQb4Gv1DFE4UT09PYn2InyQrKytSJ5fNZiMTKwnSt2zs2LHGxsbaumZfffWVkZER6uzLZLILFy4gMTS2r7Yq0Ol0YlorYhg5nU4nDUHMzMy0yU88U1uE7axZs+AgiaI9AQDz5s3TZsngcrlEUwyxptpGS8QZmaampnPmzNFmOSQ+ehqN5uPjo82ES9GYK1asUN9vZGRkbGys8RCEWF+KRmaz2fp6AfXK3W1ubk6dfmDEiBF0On0AwZIkVqxYcfv2bY1mFb0mhgAtQWFKpTI1NTUuLk79MVG8A3w+X9+ZWqC/vyoiMDBw69atM2fOtLCwMDU1ZTKZ/QZsu7u7nz9/npSTRxtGRkbaPHGDhLrkIVonacKECeifPgDPt7m5eWhoqDa7Hfh9NhsPD4+LFy9qO5na9Q5N2fX19eqH6HS6jml2uFwuUeNOnDjR09NTY5kQW1tbbXqdQh54oY6jLxaLpd73pfjbwrS4uoOM83AaKvGQs7NzfX29tiqYmpoS9forjY2Njo6OsBdQXl5++PBhGMTe0dFRWFiYmppqqOSjBkEmkz18+FCbkw+mJAsODn7jjTcUCgWMD9Ar1deQoi2Dlb4zjwEAPB4P5ZsziGAv5Ckrlcp79+4NaSipXC6Xy+WTJk0aulsMDwz+DlD/VTUCF2ozrBV06N7tF/WvwWC0IZfLBQKBq6vr7/Q6ACA3N7eqqkoqlc6ZM+ftt9/+A8L3DUtRUdHVq1dFIhGbzZ47d+6SJUv+tM6SwWBYvT6MwXodg8G8JGjV6xjMcALrdQwG85KA9PqIFy0JBoPBYDAYg4H1OgaDwWAwwwes1zEYDAaDGT5gvY7BYDAYzPAB63UMBoPBYIYPWK9jMBgMBjN8wHodg8FgMJjhA9brGAwGg8EMH7Bex2AwGAxm+ID1OgaDwWAww4dR/Z8yjJDJZGlpaevWrZsxY8aLloVMVlbW5s2bX7QUL4adO3eGhobquKTSwKivr29ubtZ4aNy4ccS1+0hkZWX5+Pgg2bKysqysrPz9/cH/rReOlmCCwHcMbltZWaFnqvFkDAaDMTgvl15//PhxVVWVn5/fixZEAw0NDS+tXq+qqvrv//7vIb2FqakpcbFdImfPnqXQ642NjcRlJRsbG58+fart5IyMDEBYQPPp06dwz5o1awYmNgaDwejLy6XXX3Kys7OnT58O13p/2bC3t9e2OGF1dfUfLAwGg8EMHVivYzD9kJqaamJiAreFQqGTk5O2MyMjI5VK5Y0bN1pbW42MjNzc3PAS3RgM5g/GwHpdIpGcPXv2t99+UygUr7766vLlyydPntzvJRcvXpRIJCqVis1mu7m5OTo6oqNXr169fPkyg8FQqVSenp4tLS1+fn7W1tZisbiqqmrTpk3Eom7cuOHq6goA6OrqKi4u/s9//kOj0caMGbNmzRo6na5vXe7fv19eXi6RSGg0GpvN9vb2RvZVAEBbW9u33347YsQIJBgU5t69ezdu3Fi2bBk6UywWt7S0wD1KpbKwsPDJkycqlWrEiBGBgYFWVlb6ClZdXT1q1Ki2tjb4MygoiChYfX19Q0PDv//9b5VK5ejo+Le//W3s2LGwuW7cuCEWi2/evOns7Ozu7k5xCwo5lUrl+fPn29raGAzGiBEjFi5c2NHR4erqCh/0+fPnfX19UTklJSVOTk7W1tawxRoaGnp6elQqlbW1Nak9h5r29vavv/6awWCoH/r3v/9NfW1AQMBrr70Gt1NTU0lHs7OzWSwWeuIJCQlz5851dnYGAFy7di0lJeWtt95auHAhPFpfX0+n04lvOAaDwRiYxsbGJ0+ePDcQAQEB58+fh9vffPPNjh07qM9/8ODB/Pnzd+3aBX+ePHnS1dVVIBDAn7du3Vq/fj06eceOHa6urpcvX37+/Pnly5ddXV1JpWVlZcGNLVu23LhxA27n5eWh8n/66SdUQr+8++67J0+ehNu7du2aP3/+rVu3UNVcXV1/+OEH+PPtt99Gwly/fj08PJxYzuXLl9Ge8PDwvLw8uH3jxo13330Xnfb222/rItXz588XLFhw9OhRuH369OmAgAB0KD09ff78+bCC9+/f/+c//5mdnQ23L1++vGPHjqNHj16+fBlVRBurV68mykmUbfXq1atXr75//z48NH/+/ICAgOvXr8OjpCceHh4OhYEtT2xPotiurq6oBMPy6NGje/fuPX/+/PLly+j10Ivw8HCibOHh4enp6XA7PT1d/SUkPlN4Pnz94Mnh4eEfffTRAMTAYDAYah49etTY2Pj8+XMDz3OTSqW2trZwe/HixSwWi/r8lpYWOzu75ORk+HPVqlWhoaENDQ3w55dffkkc+OoeWmVtbY3sn3Pnzq2trdW9CoinT5+uWrUKbicnJ9vZ2X355ZfwZ2ZmZnBwMBp1EYXsl9mzZ8MNFxeX0aNHD0AwGo0WFhYGt998802pVFpTUwMAUCqVp0+fjoiIgB50CwuLtLQ0OKy3sLDw8vKytra2tbX18vLS5mmGFBUVSaXSoKAgJOfEiRMFAgEAoK2tTSQSpaenW1hYwENJSUlSqbRfmRUKBZfLRe35j3/8QyqVSiSSAVT/T45KpUpISMjIyMjIyAgJCZFIJOvXr0dHc3Jytm/f/gLFw2Awwx4D63UGg9Hb24t+btu2jfp8kUi0YsUK4p7Vq1cLhUK43dTUhHoJAADiNjXx8fFom0ajKRQKHS9E1NTUQOsxYsWKFbB/IBAIpFLpggULBiBYTk7O4G2wxNuZmZmh7Z9++onBYCDdCRmAA+LcuXP+/v7EC7lc7pUrVwAA3d3dnp6eUKlDvLy8+u29AQAcHR1zcnLQT1iCSqXSV7YXQkRExOz/o6mpifrkxMREGxub7u7u5ubmDRs2lJWVUfeiMBgMxrAY2L9+4MCBf/3rX2VlZf/5z39effXVgIAA6o/a3bt3e3t7b9++TdyJ9IRUKmUymWg/UYdRU1ZWxufzjYyMGAzGAJQ6AKCjo0MoFMJJShCFQsHhcKBUAABiPJRGr61G6uvrq6urR44cCS/RZaSrjrbbKZVKdY81k8kUi8WkPgo10HdOrHtvb6+DgwMgNAIRXdzkjx8/Ligo+Omnn8zMzIyMjHQXxlCYm5v39PSkp6fDnz/88MPMmTPRUScnJ23TBIjdEWrq6upgp9bMzKy3t/fx48fPnj0rKSkBA33QGAwGMwAMrNcdHR3ReFQgEKSkpBw+fJji/DFjxqxcuZJC9xO1slKp1FGMc+fOff7553BbLBYXFxfreCFi/Pjxnp6ea9eu1XaCQCBAYus47uTz+REREaWlpUgR7tq1S1/B9KW3t1cvpQ4AYDKZb7zxBmncj+ju7ibtkcvl/ZZZU1PT1taGErYAAPLz8/WSapDMmDGDmIxo165d/RqTEG1tbW1tbdoaBPHzzz/fv38fbo8ePXratGmjRo2CnTA3N7cBvIQYDAYzAAxphxcIBHw+H/3UxfzIZrNJWcD4fH5ubi7c5nK5RC3y008/oW34uSTeDvqY4cbUqVPR/oGN1zkcjlgsJu4pKiqKiooCAMCBHVHsO3fuoG0jIyPkR4C0trbCjatXr3I4HOLoVveeii6MHz9eKBTKZDLizgHcgsPhfP/998Q9JSUl5eXlAAAWi0UyRAsEApFIhH6SWhud3NXVhWLC4VX6SvUC6ezsPHfuXL+nrVq1KjIyMjAwcO7cuZGRkZGRkYsXL/by8vLy8vojI/8xGMxLjiHH6zKZbOfOnfv37+dyuT09PV1dXUQrukbmzp373nvvGRsbe3h4AABaWloyMjKio6Ph0aioqLy8PEtLSyaT2dvbe+LECXShi4sLh8MpLCy0sbH57bffWlpaKisroYnYzs6uuLhYIpGw2eyenh6okDSSnZ0NACBNlkPlFxYWXrhwwcHBgcFgnDlzpqCg4B//+Ac8+sEHHxw6dMjGxmbatGlSqfTUqVPowmnTpgEAsrKygoKCaDTamTNnmpubX3nlFQDA9OnTS0pK2traHB0dxWLxpUuXNAaO9fX1FRUVEadO6YidnZ2Hh8f27ds3bdo0c+bMe/fuXbp0ydLSEp0wcuRIYvSDNng8XnJycllZmbe3NwBAIBCUlZV9/PHHAICZM2daWlrGxsaGhoYymcyWlpa8vDziU37llVeampq4XK5SqfzXv/6FDrFYrIsXL9rZ2VlbWzc3N58+fVqvqg2GW7dulZWVkXaKRCL49IkEBAT0Oy2TCFTepJ0NDQ2lpaXq1vulS5dSzy3EYDAYg2BIve7h4ZGampqcnNzV1QUA4HK5/dqZ7e3ts7Kyvvjii6SkJACAp6fnrl27kOva0dExODg4OjpaKpUyGIx33323oqICXZuenn706NExN0IIAAAelklEQVTFixfTaLSgoKCUlBToy2Sz2V5eXkuXLgUAsFgsHo+H8oDSaDQul4v80xR6HQAQExOTmJjY1NREo9F8fX0LCgpQvNiSJUvmzJnzzjvvtLe3s1isjRs3ohh+U1PT7OzszMxMPz8/BoMRFxcXEREBR3t/+9vfmExmdHR0b28vh8PZsGEDVJwQFA33yy+/ZGdnc7lcbXqdNOWdWKM9e/bU1NTk5OQ0NTWxWKxFixa988476MzXX39969atu3fv5nK5FG5jR0fHEydOREREfPDBBwAADoeTnJwMgxvGjh178ODB8vLy5ORkkUjk6ekZFxd38OBBdO3GjRsTEhKgO/mDDz7w9fWFsi1btqyjo4PH46lUKl9f39jY2IcPH9JoNFSFAcT36cirr76qnkFWY05ZY2PjIZIBAGBtba2vQwSDwWAGwCuNjY2Ojo5D+kUzILNnz05NTTVUJlSZTBYWFqY+mNMXsVgcGBhowCU9ysvLr127hqb//cnh8Xg8Hu/PORiVy+VyuXzSpEmDKaSkpCQ1NVXbsjQLFiwgut71OhmDwWAMhVwuFwgErq6uf0Qe2ZqaGuRjJrJw4cIXOwXo5MmTGzZseIECaESpVF67do00/c/gVFRUdHZ2knZOnDgxODh4SO/7V8TJyQnN5leHNM1Pr5MxGAzG4PwRet3MzExjtlSUc/tFERgY+CcMaDIyMoqKitJ9Ut/AsLCwUF+XbPz48UN6078o1tbW6n50g5yMwWAwBucvZofHYPTCIHZ4DAaD+fOD7PAGzjeHwWAwGAzmBYL1OgaDwWAwwwes1zEYDAaDGT6MAgAoFAr1ECoMZhjQ19f322+/6ZLpFoPBYP7SPHnyBG6MAgCQEqZiMMOMnp6eFy0CBoPB/EGMAgDgeHjMcAXHw2MwmJcEGA8PsH8dg8FgMJjhBNbrGAwGg8EMH7Bex2AwGAxm+ID1OgaDwWAwwwes1zEYDAaDGT6Q9Tqfz38hcrwQGWQyWU1NjS5n8vn8F94y7e3tMpnsD7udWCyGoZUvkD+4yhgMBjMMIOv1zMzMQZZYV1e3d+/ewZQweBl0pKOjIyYmRpczDx48ePDgwUHejsfjFRUVDfjygoKCjo6OQcqgO1VVVdXV1YMs5K9VZQwGgxkGGH6dVo1LsmIAAEuXLrW1tX3RUvyhvIRVxmAwmBfLkOh1rNo1smzZshctwh/NS1hlDAaDebH0r9drampoNNrrr79O2t/T09PW1gYAYLFY9vb2aL9EIpFIJC4uLmiPTCbr6OggnQb57rvvVCqVl5fXAEQXCARSqdTc3HzGjBkaxVaXDcLn842NjTVepTsUleLz+QqFAgDg6upKp9OJIpHOh2c6ODhYWFioC89gMIjNaBDZ0E0H0OawwdWlBQCIxWKYjZhUrO5Vbm9vf/DggTaZMRgMBqMjVHq9vLw8MzNToVAwmUyVShUXF0f8akdHR48ePRoAIBQKFy1a1NnZmZOTAwBoaGgoLS2F2wCA3Nzc/Px8JpPZ1dXl6em5c+dO+EHn8/mJiYk0Gk2lUiUmJh44cMDR0VFHoZVKZVRUVFNTE5fLFYvFvr6+8fHx8FBGRkZLS8uUKVPu3r0rl8tFIlFaWpqnpyc8KhQKo6OjpVIpk8n09fV944039Gut/yMjI+P06dMsFkskEnG53E8++cTMzAweOnHixKFDh+zs7AAAxcXFjx8/dnJyioyMBADExMSEhoZCvSWTyY4ePXr+/HkajSaVSkNDQ+E5AIDY2NiOjg42my0UCpcuXfrOO+8YSrbY2Ni+vr6mpiYAQGNjo+5lKpXKTz75pKKigsPhiESi4ODgt956Cylm+CjZbLZcLr9y5UpxcXFqaip8VXSs8t69e8+fP29tbQ2faVpaGrE/REF9fX1SUlJubi4SBr5vxcXFqNYYDAbzUqFVr1+/fv3YsWPJyclcLhcAUF9fn5qa2tHRsXnzZqVSGRsbu3z58pUrVwIAlErl+++/r7GQkpKS5ubmnJwcOzs7pVL51VdfhYWFFRYWdnd37969e82aNevWrQMAtLW1nT59Wne9fv78+SlTpsCvv1wuj46O/uyzz5D+EwqF69ate/PNNwEAYrF4//79SK8fPHgQ1ujx48cVFRUDCNBTqVRRUVF0Oj0/P9/a2lqpVNbW1h46dGjnzp3wdvX19d988w1USxUVFcnJyU5OTqRCxGJxdHS0t7d3cXGxiYmJRCJJTU395ptvAgICysvLJ0+evG/fPnjmjh07JBIJm80evGwAgJaWlpiYmKSkJB0LROTn50+ZMqWqqsrMzEwikZSUlGzevPno0aOmpqYXL178+OOPs7Kypk2bBgA4duyYxhL6+vo2b96sscqpqalCoRDuVyqVX3zxRXV19YoVK3QRzN3d/e9///u2bdsSEhIcHR3T09M7OjpycnKwUsdgMC8tWvX6hQsXkpKSkFHU3d09KSlp7dq1QUFBbW1t9fX1SPfQ6fTly5fn5+erF1JbW/v555+j0zZv3uzg4DBixAgOh3PmzBl0mqOjY2Fhoe5CL1u2DDluTUxMnJ2dW1pa0FEGgwGVOgDA2tqawWDAbYFAMG7cONhNGTt2bGBg4KNHj0Qike73BQAIhcKurq6ysjJUqUWLFtXW1sKfpaWlc+fORWNNf39/jc1y+PBhKyurbdu2wZ9sNjsuLu7x48cAgMWLFy9evBidOXXqVKFQqKMappYNAODk5LRo0SK96guRSCTJyclI2s2bN9+9e5fP5/v4+Bw/ftzX1xcqdQBAYGDgF198oV4Cn8/XVmXilAQ6ne7h4XHz5k3dZQsJCZk0adLWrVu3bt3a2tqKDEUYDAbzcqJVrysUCpKn097ensFgKBSK1tZWFotFtJRqs5pCQz0RoiW/vLz88uXLvb29AAAjIyO95Obz+VevXoXqnDSi1aYFpVIp6dAAQrWVSqV6+TQaDW60tLSQ3PYsFkujJKRBPNHZXF9fX1paKpVKAQASiWT69OkGkY20rRfPnz8n7bGxsYExBE1NTQsWLED76XQ66kgRUSgUHA6HuIdYZYFAUFxcfPv2bQCAXC738fHRSzwvL6+goKCcnJyCggK9LsRgMJjhh3755uzs7Lq7u4Ga7mQymfremMfjpaSkTJ8+ff369evXr9eoDLRRX1+/adOm7u7uBQsWrF+/Hg7BXyBsNhvltyFVhKTM+kUgECQlJU2cOBE2i7oNfzCyGRBbW1vY8wBqfRcYW6A75eXlmzZtevr0Kayyn5/fAOSZNWsWjUZTD+jDYDCYlw2t4/WxY8eKxWJra2u0RywWNzU1WVpa/vzzz6dPn378+PHYsWPhoZ9//lljIb/++qtSqSSO5ktKSry9vffv329kZIT80AAAZD3Wha+//rq0tBT1La5evarLVebm5kgVQaCpQC+MjY17enpIlRIKhZs2bQIAWFpakm5RX1/v7u5OKoTJZJLs/xKJ5NGjR6+99tp7772XkJAwZ84cuF+vJHfUsg2G3377jbSnuroaRi1YWVm1tLQgM8zjx4/hLAkSY8aM0VhlY2Pj3bt379u3z8PDA+5XKBR3797VS7zi4uJTp05FR0dHREQkJCToGz2AwWAwwwmt43VXV9fdu3cT9+zevdvT05PNZi9fvpzBYBBVzqVLlzQW4ujomJGRgX7W1NQkJSWNGDGit7fXzMwMqZ+amhq9VKxKpULfbqVSWVlZqctVM2bMICndw4cP635TyKxZs3p7e3Nzc9EemUymUqngdkhICNGf3dbW1t7erl7I6tWr6+rqysvL0Z7i4uLvv/8eANDb20sc8f/www+Gkm0wGBsbEwf9NTU1lZWV0JYQEhJSXFzc09MDD8GJi+olzJw5U2OVe3p6VCoVcZx99uxZvWTLzc3Nzc1NT0/39fV1c3Pj8Xg49SwGg3mZ0arX3dzchEJhVFQUn8+XSCQ8Hk8oFEZERMCjERER2dnZAoFAJpOVl5c3NDRoLMTDw+PUqVMZGRldXV1FRUWJiYmhoaF0On3hwoUVFRW5ublKpbKoqCglJUUvOzyLxUpISIDZyw8dOqTRh60RS0vLhIQEmUzW09MTFRVFPFRTUzN79uySkpJ+C4mLi8vLy8vIyOjp6SkvLw8LC5s3bx48ZG9v//Dhw9zcXJlMJhAI8vLyNMrm4uISHByckpJSX18vEAgyMjLy8vLc3NwAAP7+/sePHwcAyGQy2G46Vq1f2dTRvcq+vr6JiYlFRUUymSw3NzcxMTE4OBh2rVatWsVisWDvjc/nayuNzWZrrLKLiwuHw0lMTJRIJAKBICoqSi6X615fiURy4MCBuLg42DMICwtjs9l79uzRvQQMBoMZZrzS2Njo6OhobGwMf9fW1iJN0NPT09LSIhKJRo4cOW3atDlz5sARtlKpfPDggUAg+PHHHwEATCbT2Nj466+/hqHIXV1dcKo6LEQsFjc0NMBhqJOTE5rM1tbW1tLSolAorKysnJyc7t27N3v2bHUZNCKXy6uqquAQ38HBgclkPnz4EN6xra0NbUMaGxtRyXK5/OLFi1KpVC6Xz5kzx9LSsqWlZdGiRTQaTSwWZ2Rk+Pr6aowYr6urAwAQK9XS0iKVShkMBofDQZb2np4eqVTa0NAAx6xubm779+93d3eHE7VLSkpsbW1RCzQ1NbW0tKhUKhaL5eTkhFweJSUlUqmURqNZWVlNmDDBzMwMatDGxsbJkyf3a2TWJhupKeCZFFW+devWs2fP1J8Xk8l0cnJCTnSJRKJUKpubm3t7e2k02uzZs0NDQ9H8dV2qDOfjdXV1QYEtLS2hS0KXKnd1dUmlUmIde3p6rly54uXlZWpqCgCQy+VyuXzSpEnUjYbB/AFIJJKGhgZvb28TExMdL2lqamIymUR/KAajDblcLhAIXF1dyXpdF2Qymb+/f2ZmJvqe5uTk/PrrryjNiEGoqalpbW1V379w4cKhSEkmk8m++OKLiIiIwXhny8vLr1y5gsaLEolk6dKlSMkZCmjnUN+vb/sbpMp79+6tqKhAoRJNTU3R0dGnTp0ybAgb0ZuDmDBhwqpVq6gv1EWv79y508/PT5dnVF9fHxERQZ3SB2UbVKffBII1NTVnzpxpbm6GXZyVK1ciqXbt2kXyiw0R4eHhGv1T0BFDbCWxWBwYGEjRGnw+/+7du4PPJczj8VByJ0hbW1tZWZlIJOJwOCEhIUS1N3v2bPV/HFx8iPi2QOH1/W/KZDIYCeTh4TGAr1BNTU1MTExxcbHuejoqKkqpVA549mZGRoaVlZUujwBm9CLeqK2t7eLFi9rOnzt3rsaXWalU3rhxg9iqMP0l2qPxBePxeDBfFgCA+FC0vY0YjSC9PpD88BYWFsHBwRkZGeHh4QAAhUJx/vz59PR0w4oolUqJs9IRc+fONeyNEOvXrx9kyNXixYszMzNzc3PhDLrS0lJ/f3/DKnUAwM2bNwcQ8aeRwVd5xYoVFRUVn376qbe3NwDg2LFjERERBo9L1/gm6D7XAH5PSTu1KSToIyDuYbFYusd1JiYmksI4EFwul+IDXV5enpiY6O/vn5SUBAA4d+5cTExMYWGhLvML1D/KFBBtNhA/Pz8K54VMJtu2bRsMe2QwGDt27Fi4cKEuN1IoFNqagoT6A2IwGNqidmQyGUxD5OTkJBKJ4uPjT5w4QV3+uXPnwO/1+gCA7cBisUxMTKD3Z5AF6nJHS0vL0tJSgUCgrRuRnZ2dnZ1N2qmtvxIfH6/+6eDxeOqxvdTAP4hGvf7gwYOYmBjinwsum0ndG96yZQvqDTs4OOglDEadAa77Eh8f/9lnn6WkpAAA2Gz2tm3bDP4pX7Vq1VD/bYhYWFgYpArbt2/Py8vLz89nsVhubm76ZoHVhUEug4swSJXt7e2zs7OPHDkSExPD5XI9PDyG4qkNMtuMg4NDamoqcY+2vHgAgIULF86aNYu4p1+1QcTZ2XlgA+vMzMzg4GCUERl+l1taWvSdN9gvpKbo7Oyk1r7btm1zc3ODjVBTU3P48GEd9brukB5Qb28vRRvu2bPH39+fx+PBnx9//HFUVJS+E0oHQFlZmUKhSEtLAwDY2NhkZmYO9Qfq4sWLjo6Oz549O3v2LHoxSPj5+RFTXLS2tubl5Tk4OED7Snd3N3EVrunTp5NMfZWVldrMS46OjtpygJI6vgNGLBaXlpaSdra2ttLp9LCwMIPc4uVk4Ou5vfPOO0OhtP7qeHh4oClbLwn29vaG6moMEaQeTE9Pj7m5ubaT7e3tiWOjtra2yZMnD618AAAAFArFhAkTiHtMTU2fPHnS74UqlaqysrK3t7evrw9GFVBDGsmVlpb6+vpqOxkaD7Zs2YKuFQgE6enpKHWgQSA9ILiGkEa+++67urq62NhYtCcgIOCtt97y8/ODyYM1qhw0X2Mw3Llzx9nZGW4zGIwBZ3nSEYlEcuzYsaNHj8JZHm1tbRq1rLW1NbLqy+XyzMxMHo9nYWEB55VIJBLiyerKsqWlRVvM8oULFwoLCydOnKh+yNnZ2dLSkkJ4YvysUCjUdtq4ceOgqUAikUil0qdPn44fP37SpEm6vMYYCgy/TisG8ycnOTmZlNIOGoE3bdpEmusvk8ni4+MTExOJO6EdOzEx0bCr0CYlJSUmJt6+ffuNN95QKBRXr15tbm7WmIeYRH19PQDA19f322+/DQoK0uumRUVFDQ0NH3zwAdqjUCjgUA+uRnjnzh0ul4syVQAAJkyYoD7GopBN20zLWbNmDcBF1dHRAQAg9rTGjRsHAKDT6dqMyWKxGM4rKSoqIo2wz50719ra6u7uroshOiQkZNOmTXDpwgMHDsAez9CRmZk5b9482NULCQlJTk7u12504sQJLpe7efNmAAB8k/ud5kox/UShUJDCGnSHOJGnr6+PeKi5uRn+gxobG01NTadNm7Zjxw6hUOjj48NkMmGqzQMHDgzgphgE1uuYl4uioqLm5uaEhATizq1bt9ra2qpHM33xxRcMBoP00YcWY23mcaVSSZHgj0KTeXl5ZWdnnz17Fo60OBxORESELgFWp06dioiI4HA4u3fv1kuv8/n8zMzMiIgIYiIjkUgEeznFxcV0Op1Op6OAJohKpdLR6M1isdAAVyQSKZXKwedPhJErxNTRyIysrdlbWlo8PT1NTEyOHTsWEBBAytoklUqJlmoK7O3tIyIi9u7dW19fT1rc0uDIZLLa2lrkOF+1alVmZib1ElB8Pv/69eswymzv3r0wHkIikVCnpRKJROPHj9d2tLKyUmNoCwCAw+Focw2A38fw1tTUVFRUoJ/Ozs7EULiysjKJRIIibSMjI3Nzc6urq6FxQiqVwphZwwZlD3uwXse8RMBFbFNTU0kLvtna2pI+00qlcufOnVKpVD0glPqDLhaL1WP0ENTRQ/b29hq/lRSZdoqKipRKJVwraOLEiQkJCWiFHmokEklMTMy8efNIQ1jSZ3flypUxMTHE1JO1tbWBgYG63ILo0SgpKenq6tL2debz+TpmRfTy8mKxWC0tLUjDwRE8RZtXVFTweDxLS8tt27adPn1648aN6FBERIRe6tnZ2TkzM/MPiJizsLAghQ1qiyIEAMhkspMnT+bl5UHfPwBg2rRpFCsdk+YXaHMouLm5UdjD9co4QoFSqWQwGEQvjK2t7ZUrV+C2QqHQ1rHAUID1OmaY8/Tp07a2ts7OztraWnt7+8LCQopBT09PT1dXV0dHR2Njo4+Pj6+vr44rwSOICxXqTlZW1p07d+B2V1cXHEGOHz9epVIZGxuTIjZaW1u/+eYbAEBHR8fEiROTk5Nh2r7Y2NgjR46EhIQ4ODgEBASox71DYIaD2traxMTEfpfY8fLySklJyc7Oht9xpVLp6upq8KGqQqGgjsknsn///uzs7OvXr7PZbLFYPGrUKLiCMDyKag2rWVJS4uXlBSO3jxw5kpqaGhsbGxwcrNFtTIFEIsnLy7tz505iYuLp06efPHkSFBREp9PT09MZDMYLDPLat2/f/fv3uVwucfoc6nbk5uaOGTNG27XffvstICz2IZFIsrOzWSwWh8PRZQml4uJibY+MGKJPES0BAAgLC2OxWB9++OErr7yiUqmYTObz5883bNgAj3I4HLxC4wDAeh0zzHn69GlaWhqHw3nvvff6XZddLBanpKT4+fklJyfrpdHhJF1dziQGOiGgTxSyc+dO9WhwYiDS5cuXYWKTzz77DA500Dy37du3AwCKioq++eYbdb0ukUgSExObmpr8/f11aQ2Ij4+PvivsEacjE1EPaiOmwdAROzs7tEg0BdevXz937lxERASajkWn02GeSnt7e2plo050dDSXy83MzAQA+Pj4hISE1NXV5eTktLa2Dt65MBhgCGFNTQ10/JOO2traUsyn6O3tDQ4ORuN1NpuNrCYDTtpobW2tbpSiKI1OpwcFBQUFBVFbdDB6gfU6ZpgzduxY6i7/unXrkBnQxcWFIjrJ1taWNEkMASfp6iKPenSeNogz6ZGjGgDQbyy6Nisxm81esGBBbGzsUGR2IvJnGGNpmyg7gLoLhUKRSET0yMAZAWVlZU1NTevXrx+UoIaA4t2jCPCk9iZIJBKKUHYWizX4tygrKwt1AqDNCVrd5XK5SCQKDQ0dZPkvLVivY14WNCblgMTGxpKm8qPp0STodLpGK7SXlxdpmDKwjGYAABTGRZxJr9eChxSgT3lWVhbRSKAXAoFAKpX2G2stEAj6+vr0HY4DANrb2x88eKBQKG7fvq0xqgvmm6OI2yIymJpCHj58yOFwiG+IhYVFenr6unXrWCzWkAbQ6QhFkqUBl9nZ2fnll19qPCQUCoOCgij0ukAgqK6uXrNmDbVNyMrK6unTp8Q9dDodhkY6ODhYWFjA1GcYfcF6HfOyEBISQvqIQHJzc6VSKekjpVGv37p16/PPPx8q+QCoqKioq6tDRkti3JmORn7d0bakEHFst2vXLrjBYDCgVwKuXAA9slOnTqW+hVQqvXnzpi56HTomdu7cibYBACwWy8rKysHBQT1kTKlUkpb9RWzatInk5tBY03HjxqmfqQ1zc3ORSNTU1MTlctHOsWPHTp069dGjR9pmlv+RqKecgzQ3N6NuIorhkMvlMM4cPk1jY2MjIyMjIyPStfb29tp6t9qsVgipVJqXl7d06VJ1vU58wfz9/QEA7e3tBQUFUVFR6mmyoI7H6AvW65iXBeJHmcjXX3+tvnMAo8zB09nZWVVVpdEZiUac6mluESSHOnXaWm0QP7vUifP0dVFTYG1tbahV+HT0cZiampLOhLlsNVqtbWxstm7dyuPx/P3916xZ8+DBg87OzuLi4uDg4DFjxmzcuBHGrMFHo1fEQHh4uLOz8+CdytnZ2XCuJmn/9OnTkX+d2mihPrL/7rvvsrOzNQaZmpiY2NjYDExU9eZ98OBBVVWVxgcH40Uw+oL1OgbzV0I9za02DDUTCQMACAsLs7W1PXPmTHh4OJzBHxgYCKfM/fjjj42NjS98yTX1uZqDZ9GiRTiQ7a8I1usYzJAwcuRIFoulV7ZRW1tbPz8/bUsowXA5UprbAaNQKJCZnYSO+e1hBSlOMDc3b29v13YXS0tLHd3eTCaTNDfh1VdfNTIy0lYy+H0V7OzsdDnT1dWVx+NROBe8vLy0LaYCN9asWSOVSvXKOrx8+XJS8uCB4ezsfPXqVY0LYNra2kJzNzV0Op3JZBL3jB8/vr6+nsJDT6Hyzc3N3dzcDh06NHLkSPWjpBdMr5MxujCQdVoxmL8KeP11jI7IZLKHDx8Ops8kEAjGjx9PsZYSnAwJE/TCPShXAQYzeAa1TisGg8EMMwa/vGG/fQL1W2CljhkKRrxoATAYDAaDwRgMPF4fKpRKZXFxMczsPWLEiGXLlsFo1b6+vqKioqVLl168ePHu3btxcXEvWlIMBoPBDB/weH2oiIqKevLkCVylfv78+R9//DHc/8svv2RnZ/N4vN7e3rfffvvFConBYDCYYQbW60NCTU1NU1MTWjTTxcXF1taWuI4knECiY4JuDAaDwWB0BOv1IeHcuXP+/v5EtT1nzpxz586hn6tXr34RcmEwGAxmmIP1+pAglUpJC0FOmjSJuMLVICNvMRgMBoPRCNbrfxCPHj2iWPYbg8FgMBiDgPX6kMDhcOCCgwipVEqdnAuDwWAwmMGD9fqQsGDBgqamJuLCGNevX1+xYsULFAmDwWAwLwN4/vqQ4OLikpaWdvDgQehlf/DgAYfDcXFxATpk1cZgMBgMZsBgvT5UeHp6enp6qu+fMmVKWVnZHy8PBoPBYF4GsB0eg8FgMJjhA9brGAwGg8EMH7Bex2AwGAxm+ID1OgaDwWAwwwes1zEYDAaDGT5gvY7BYDAYzPBhFABAoVA8ffr0RUuCwRievr6+3377TS6Xv2hBMBgMZmh58uQJ3BgFACCmRcNghh89PT0vWgQMBoP5g3jl+fPnL1oGDAaDwWAwhuF/ATuPhUlyZ/TSAAAAAElFTkSuQmCC)"
      ],
      "metadata": {
        "id": "lCG8JYsSWakX"
      }
    },
    {
      "cell_type": "markdown",
      "source": [
        "## 배열을 이용한 배열지향 프로그래밍\n",
        "- meshgrid 함수는 두 개의 1차원 배열을 받아서 가능한 모든 (x, y) 짝을 만들 수 있는 2차월 배열 두 개를 반환한다."
      ],
      "metadata": {
        "id": "kIgEGmihWmWj"
      }
    },
    {
      "cell_type": "code",
      "source": [
        "points = np.arange(-5, 5, 0.01)  ## -5부터 4.99까지 0.01씩 증가하는 값들의 배열\n",
        "\n",
        "xs, ys = np.meshgrid(points, points)\n",
        "\n",
        "ys"
      ],
      "metadata": {
        "colab": {
          "base_uri": "https://localhost:8080/"
        },
        "id": "SDdXleIyWUPb",
        "outputId": "86cf0321-e32c-4edd-9136-9c17ed48b6dd"
      },
      "execution_count": null,
      "outputs": [
        {
          "output_type": "execute_result",
          "data": {
            "text/plain": [
              "array([[-5.  , -5.  , -5.  , ..., -5.  , -5.  , -5.  ],\n",
              "       [-4.99, -4.99, -4.99, ..., -4.99, -4.99, -4.99],\n",
              "       [-4.98, -4.98, -4.98, ..., -4.98, -4.98, -4.98],\n",
              "       ...,\n",
              "       [ 4.97,  4.97,  4.97, ...,  4.97,  4.97,  4.97],\n",
              "       [ 4.98,  4.98,  4.98, ...,  4.98,  4.98,  4.98],\n",
              "       [ 4.99,  4.99,  4.99, ...,  4.99,  4.99,  4.99]])"
            ]
          },
          "metadata": {},
          "execution_count": 121
        }
      ]
    },
    {
      "cell_type": "code",
      "source": [
        "xs"
      ],
      "metadata": {
        "colab": {
          "base_uri": "https://localhost:8080/"
        },
        "id": "2XPygMgtXDex",
        "outputId": "d3ae8f5a-8a37-4538-a82b-26f8cf2305b2"
      },
      "execution_count": null,
      "outputs": [
        {
          "output_type": "execute_result",
          "data": {
            "text/plain": [
              "array([[-5.  , -4.99, -4.98, ...,  4.97,  4.98,  4.99],\n",
              "       [-5.  , -4.99, -4.98, ...,  4.97,  4.98,  4.99],\n",
              "       [-5.  , -4.99, -4.98, ...,  4.97,  4.98,  4.99],\n",
              "       ...,\n",
              "       [-5.  , -4.99, -4.98, ...,  4.97,  4.98,  4.99],\n",
              "       [-5.  , -4.99, -4.98, ...,  4.97,  4.98,  4.99],\n",
              "       [-5.  , -4.99, -4.98, ...,  4.97,  4.98,  4.99]])"
            ]
          },
          "metadata": {},
          "execution_count": 122
        }
      ]
    },
    {
      "cell_type": "code",
      "source": [
        "z = np.sqrt(xs ** 2 + ys ** 2)"
      ],
      "metadata": {
        "id": "5U6IbedZXJUL"
      },
      "execution_count": null,
      "outputs": []
    },
    {
      "cell_type": "code",
      "source": [
        "z"
      ],
      "metadata": {
        "colab": {
          "base_uri": "https://localhost:8080/"
        },
        "id": "dm6a3F0VXNdL",
        "outputId": "7be16cc9-48e1-466e-f7ba-5c3dd0446ffa"
      },
      "execution_count": null,
      "outputs": [
        {
          "output_type": "execute_result",
          "data": {
            "text/plain": [
              "array([[7.07106781, 7.06400028, 7.05693985, ..., 7.04988652, 7.05693985,\n",
              "        7.06400028],\n",
              "       [7.06400028, 7.05692568, 7.04985815, ..., 7.04279774, 7.04985815,\n",
              "        7.05692568],\n",
              "       [7.05693985, 7.04985815, 7.04278354, ..., 7.03571603, 7.04278354,\n",
              "        7.04985815],\n",
              "       ...,\n",
              "       [7.04988652, 7.04279774, 7.03571603, ..., 7.0286414 , 7.03571603,\n",
              "        7.04279774],\n",
              "       [7.05693985, 7.04985815, 7.04278354, ..., 7.03571603, 7.04278354,\n",
              "        7.04985815],\n",
              "       [7.06400028, 7.05692568, 7.04985815, ..., 7.04279774, 7.04985815,\n",
              "        7.05692568]])"
            ]
          },
          "metadata": {},
          "execution_count": 124
        }
      ]
    },
    {
      "cell_type": "code",
      "source": [
        "import matplotlib.pyplot as plt\n",
        "\n",
        "plt.imshow(z, cmap = plt.cm.gray); plt.colorbar()\n",
        "plt.title(\"Image plot of $\\sqrt{x^2 + y^2}$ for a grid of values\")"
      ],
      "metadata": {
        "colab": {
          "base_uri": "https://localhost:8080/",
          "height": 306
        },
        "id": "ZSycZ8NhXOZD",
        "outputId": "f8a804dd-6119-4097-bed5-2eeeeedc5f18"
      },
      "execution_count": null,
      "outputs": [
        {
          "output_type": "execute_result",
          "data": {
            "text/plain": [
              "Text(0.5, 1.0, 'Image plot of $\\\\sqrt{x^2 + y^2}$ for a grid of values')"
            ]
          },
          "metadata": {},
          "execution_count": 127
        },
        {
          "output_type": "display_data",
          "data": {
            "text/plain": [
              "<Figure size 432x288 with 2 Axes>"
            ],
            "image/png": "[encoded data removed]"
          },
          "metadata": {
            "needs_background": "light"
          }
        }
      ]
    },
    {
      "cell_type": "markdown",
      "source": [
        "### 배열 연산으로 조건절 표현하기\n",
        "- numpy.where 함수는 x if 조건 else y 같은 삼항식의 벡터화 버전임"
      ],
      "metadata": {
        "id": "33YDhOjAXpvb"
      }
    },
    {
      "cell_type": "code",
      "source": [
        "xarr = np.array([1.1, 1.2, 1.3, 1.4, 1.5])\n",
        "\n",
        "yarr = np.array([2.1, 2.2, 2.3, 2.4, 2.5])\n",
        "\n",
        "cond = np.array([True, False, True, True, False])"
      ],
      "metadata": {
        "id": "5aFx9roWXkav"
      },
      "execution_count": null,
      "outputs": []
    },
    {
      "cell_type": "markdown",
      "source": [
        "- cond의 값이 True일 때는 xarr의 값을 취하고 아니면 yarr의 값을 취하고 싶다면 리스트 표기법을 이용해서 다음과 같이 작성"
      ],
      "metadata": {
        "id": "EuftHQITYF7I"
      }
    },
    {
      "cell_type": "code",
      "source": [
        "result = [(x if c else y) for x, y, c, in zip(xarr, yarr, cond)]\n",
        "\n",
        "result"
      ],
      "metadata": {
        "colab": {
          "base_uri": "https://localhost:8080/"
        },
        "id": "nKeeXAdzX9YR",
        "outputId": "db39354a-d2b2-49ef-b277-73e30da32a40"
      },
      "execution_count": null,
      "outputs": [
        {
          "output_type": "execute_result",
          "data": {
            "text/plain": [
              "[1.1, 2.2, 1.3, 1.4, 2.5]"
            ]
          },
          "metadata": {},
          "execution_count": 129
        }
      ]
    },
    {
      "cell_type": "markdown",
      "source": [
        "- 순수 파이썬으로 진행되므로 느림\n",
        "- 다차원 배열에서는 사용할 수 없음\n",
        "- 이를 해결하기 위해  np.where 사용"
      ],
      "metadata": {
        "id": "UB_mC9EGYjsz"
      }
    },
    {
      "cell_type": "code",
      "source": [
        "result = np.where(cond, xarr, yarr)\n",
        "\n",
        "result"
      ],
      "metadata": {
        "colab": {
          "base_uri": "https://localhost:8080/"
        },
        "id": "Uw6wNbaAYZf8",
        "outputId": "17a8db5e-528f-461d-e14d-0b4615057adb"
      },
      "execution_count": null,
      "outputs": [
        {
          "output_type": "execute_result",
          "data": {
            "text/plain": [
              "array([1.1, 2.2, 1.3, 1.4, 2.5])"
            ]
          },
          "metadata": {},
          "execution_count": 130
        }
      ]
    },
    {
      "cell_type": "code",
      "source": [
        "arr = np.random.randn(4, 4)\n",
        "\n",
        "arr"
      ],
      "metadata": {
        "colab": {
          "base_uri": "https://localhost:8080/"
        },
        "id": "UrIFh76tYwmI",
        "outputId": "1aa5b43a-cf3e-4ef5-a2e3-4cabd9b4e0b2"
      },
      "execution_count": null,
      "outputs": [
        {
          "output_type": "execute_result",
          "data": {
            "text/plain": [
              "array([[-0.25091154,  0.75355245,  1.06587926, -0.14488564],\n",
              "       [ 0.81729282,  1.07339033,  0.15747431,  0.19592108],\n",
              "       [-1.3840986 , -0.94073065, -2.46889185,  0.14104828],\n",
              "       [-0.20099481,  0.20957915,  2.05570746,  0.81643095]])"
            ]
          },
          "metadata": {},
          "execution_count": 131
        }
      ]
    },
    {
      "cell_type": "code",
      "source": [
        "arr > 0"
      ],
      "metadata": {
        "colab": {
          "base_uri": "https://localhost:8080/"
        },
        "id": "0odbQnB7Y19w",
        "outputId": "1753c943-fe53-4e4e-a166-a68bac6fbae7"
      },
      "execution_count": null,
      "outputs": [
        {
          "output_type": "execute_result",
          "data": {
            "text/plain": [
              "array([[False,  True,  True, False],\n",
              "       [ True,  True,  True,  True],\n",
              "       [False, False, False,  True],\n",
              "       [False,  True,  True,  True]])"
            ]
          },
          "metadata": {},
          "execution_count": 132
        }
      ]
    },
    {
      "cell_type": "code",
      "source": [
        "np.where(arr > 0, 2, -1)"
      ],
      "metadata": {
        "colab": {
          "base_uri": "https://localhost:8080/"
        },
        "id": "8GLBzJlzY2vg",
        "outputId": "1582d5ac-ff88-4f35-911a-3f7b1e29a742"
      },
      "execution_count": null,
      "outputs": [
        {
          "output_type": "execute_result",
          "data": {
            "text/plain": [
              "array([[-1,  2,  2, -1],\n",
              "       [ 2,  2,  2,  2],\n",
              "       [-1, -1, -1,  2],\n",
              "       [-1,  2,  2,  2]])"
            ]
          },
          "metadata": {},
          "execution_count": 133
        }
      ]
    },
    {
      "cell_type": "code",
      "source": [
        "np.where(arr > 0, 2, arr)"
      ],
      "metadata": {
        "colab": {
          "base_uri": "https://localhost:8080/"
        },
        "id": "1KTKAwYfY5Xg",
        "outputId": "5644c973-c47c-43f0-ba64-a6fc77aed38b"
      },
      "execution_count": null,
      "outputs": [
        {
          "output_type": "execute_result",
          "data": {
            "text/plain": [
              "array([[-0.25091154,  2.        ,  2.        , -0.14488564],\n",
              "       [ 2.        ,  2.        ,  2.        ,  2.        ],\n",
              "       [-1.3840986 , -0.94073065, -2.46889185,  2.        ],\n",
              "       [-0.20099481,  2.        ,  2.        ,  2.        ]])"
            ]
          },
          "metadata": {},
          "execution_count": 134
        }
      ]
    },
    {
      "cell_type": "markdown",
      "source": [
        "### 수학 메서드와 통계 메서드\n",
        "- 배열 전체 혹은 배열에서 한 축을 따르는 자료에 대한 통계를 계산하는 수학 함수는 배열 메서드로 사용할 수 있다.\n",
        "- 전체의 합(sum)이나 평균(mean), 표준편차(std)는 NumPy의 최상위 함수를 이용하거나 배열의 인스턴스 메서드를 사용해서 구할 수 있다."
      ],
      "metadata": {
        "id": "Ig5Ua-S4Y-X_"
      }
    },
    {
      "cell_type": "code",
      "source": [
        "## 임의의 정규 분포 데이터\n",
        "arr = np.random.randn(5, 4)\n",
        "\n",
        "arr"
      ],
      "metadata": {
        "colab": {
          "base_uri": "https://localhost:8080/"
        },
        "id": "MPP0X5EMY83a",
        "outputId": "87036d69-c12b-4e8f-e401-e3c77ee41e58"
      },
      "execution_count": null,
      "outputs": [
        {
          "output_type": "execute_result",
          "data": {
            "text/plain": [
              "array([[ 0.50812977, -1.49150693,  0.57724498,  0.51134642],\n",
              "       [ 0.47740519, -0.1376306 , -0.6448491 , -1.8126308 ],\n",
              "       [-0.31073172, -0.84891616,  2.04807801, -1.25229614],\n",
              "       [-0.14098841,  0.92086726, -0.82920653, -0.55342409],\n",
              "       [ 0.22582342,  0.11593208, -0.83578185,  0.33356955]])"
            ]
          },
          "metadata": {},
          "execution_count": 136
        }
      ]
    },
    {
      "cell_type": "code",
      "source": [
        "arr.mean()"
      ],
      "metadata": {
        "colab": {
          "base_uri": "https://localhost:8080/"
        },
        "id": "Jf3PpdZLZUlK",
        "outputId": "4c1dc363-4446-4432-f7db-f488c59c275d"
      },
      "execution_count": null,
      "outputs": [
        {
          "output_type": "execute_result",
          "data": {
            "text/plain": [
              "-0.156978282884902"
            ]
          },
          "metadata": {},
          "execution_count": 137
        }
      ]
    },
    {
      "cell_type": "code",
      "source": [
        "np.mean(arr)"
      ],
      "metadata": {
        "colab": {
          "base_uri": "https://localhost:8080/"
        },
        "id": "KNwh5_3uZco9",
        "outputId": "725fe84c-f278-4e76-8235-c8409d55ce96"
      },
      "execution_count": null,
      "outputs": [
        {
          "output_type": "execute_result",
          "data": {
            "text/plain": [
              "-0.156978282884902"
            ]
          },
          "metadata": {},
          "execution_count": 138
        }
      ]
    },
    {
      "cell_type": "code",
      "source": [
        "arr.sum()"
      ],
      "metadata": {
        "colab": {
          "base_uri": "https://localhost:8080/"
        },
        "id": "2aYscxscZd5t",
        "outputId": "ec914fe4-f9a2-4f4a-d386-856968c4036d"
      },
      "execution_count": null,
      "outputs": [
        {
          "output_type": "execute_result",
          "data": {
            "text/plain": [
              "-3.13956565769804"
            ]
          },
          "metadata": {},
          "execution_count": 139
        }
      ]
    },
    {
      "cell_type": "markdown",
      "source": [
        "- mean이나 sum 같은 함수는 선택적으로 axis인자를 받아서 해당 axis에 대한 통계를 계산하고 한 차수 낮은 배열을 반환"
      ],
      "metadata": {
        "id": "vzesW-UEZgq7"
      }
    },
    {
      "cell_type": "code",
      "source": [
        "arr.mean(axis = 1)"
      ],
      "metadata": {
        "colab": {
          "base_uri": "https://localhost:8080/"
        },
        "id": "qL4_XSTKZfPt",
        "outputId": "d0edf2b9-0d5b-406f-a3cd-5b9459906f98"
      },
      "execution_count": null,
      "outputs": [
        {
          "output_type": "execute_result",
          "data": {
            "text/plain": [
              "array([ 0.02630356, -0.52942633, -0.0909665 , -0.15068794, -0.0401142 ])"
            ]
          },
          "metadata": {},
          "execution_count": 140
        }
      ]
    },
    {
      "cell_type": "code",
      "source": [
        "arr.sum(axis = 0)"
      ],
      "metadata": {
        "colab": {
          "base_uri": "https://localhost:8080/"
        },
        "id": "gBFpmW34ZrJm",
        "outputId": "7b6fcc12-64b6-4b3c-a227-acfed7df0a06"
      },
      "execution_count": null,
      "outputs": [
        {
          "output_type": "execute_result",
          "data": {
            "text/plain": [
              "array([ 0.75963825, -1.44125435,  0.3154855 , -2.77343506])"
            ]
          },
          "metadata": {},
          "execution_count": 141
        }
      ]
    },
    {
      "cell_type": "code",
      "source": [
        "## cumsum은 누적합\n",
        "arr = np.array([0, 1, 2, 3, 4, 5, 6, 7])\n",
        "\n",
        "arr.cumsum()"
      ],
      "metadata": {
        "colab": {
          "base_uri": "https://localhost:8080/"
        },
        "id": "QQhhGcoaZvL2",
        "outputId": "67b95b1d-5776-48f2-988e-9882e8fabff2"
      },
      "execution_count": null,
      "outputs": [
        {
          "output_type": "execute_result",
          "data": {
            "text/plain": [
              "array([ 0,  1,  3,  6, 10, 15, 21, 28])"
            ]
          },
          "metadata": {},
          "execution_count": 142
        }
      ]
    },
    {
      "cell_type": "code",
      "source": [
        "arr = np.array([[0, 1, 2], [3, 4, 5], [6, 7, 8]])\n",
        "arr"
      ],
      "metadata": {
        "colab": {
          "base_uri": "https://localhost:8080/"
        },
        "id": "eKAPXXY6Z32Q",
        "outputId": "75fe3802-1258-4bba-e87b-47945c401189"
      },
      "execution_count": null,
      "outputs": [
        {
          "output_type": "execute_result",
          "data": {
            "text/plain": [
              "array([[0, 1, 2],\n",
              "       [3, 4, 5],\n",
              "       [6, 7, 8]])"
            ]
          },
          "metadata": {},
          "execution_count": 144
        }
      ]
    },
    {
      "cell_type": "code",
      "source": [
        "arr.cumsum(axis = 0)"
      ],
      "metadata": {
        "colab": {
          "base_uri": "https://localhost:8080/"
        },
        "id": "1w16CfmmaCuw",
        "outputId": "d0950d84-51f0-4cd3-d341-d8872c224840"
      },
      "execution_count": null,
      "outputs": [
        {
          "output_type": "execute_result",
          "data": {
            "text/plain": [
              "array([[ 0,  1,  2],\n",
              "       [ 3,  5,  7],\n",
              "       [ 9, 12, 15]])"
            ]
          },
          "metadata": {},
          "execution_count": 145
        }
      ]
    },
    {
      "cell_type": "code",
      "source": [
        "arr.cumprod(axis = 1)"
      ],
      "metadata": {
        "colab": {
          "base_uri": "https://localhost:8080/"
        },
        "id": "pQ92cGStaI4p",
        "outputId": "9257407b-f475-4a6d-9420-e12a4c424bec"
      },
      "execution_count": null,
      "outputs": [
        {
          "output_type": "execute_result",
          "data": {
            "text/plain": [
              "array([[  0,   0,   0],\n",
              "       [  3,  12,  60],\n",
              "       [  6,  42, 336]])"
            ]
          },
          "metadata": {},
          "execution_count": 146
        }
      ]
    },
    {
      "cell_type": "markdown",
      "source": [
        "<기본 배열 통계 메서드>\n",
        "\n",
        "- sum : 배열 전체 혹은 특정 축에 대한 모든 원소의 합을 계산(크기가 0인 배열에 대한 sum 결과는 0)\n",
        "- mean : 산술 평균(크기가 0인 배열에 대한 mean은 NaN)\n",
        "- std, var : 표준편차(std), 분산(var)으로 선택적으로 자유도를 줄 수 있으며 분모의 기본값은 ndlek.\n",
        "- min, max : 최솟값과 최댓값\n",
        "- argmin, argmax : 최소 원소의 색인값과 최대 원소의 색인값\n",
        "- cumsum :  각 원소의 누적합\n",
        "- cumprod : 각 원소의 누적곱"
      ],
      "metadata": {
        "id": "0c7AjX3KaPDF"
      }
    },
    {
      "cell_type": "markdown",
      "source": [
        "### 불리언 배열을 위한 메서드"
      ],
      "metadata": {
        "id": "1tIVu6vRbd15"
      }
    },
    {
      "cell_type": "code",
      "source": [
        "arr = np.random.randn(100)\n",
        "\n",
        "arr"
      ],
      "metadata": {
        "colab": {
          "base_uri": "https://localhost:8080/"
        },
        "id": "qpO8oDHWaK9R",
        "outputId": "c9ae0768-d697-41fc-ae4f-c7c87fe806af"
      },
      "execution_count": null,
      "outputs": [
        {
          "output_type": "execute_result",
          "data": {
            "text/plain": [
              "array([-2.18765722, -0.63477735,  1.68747006, -1.22709071, -0.26547824,\n",
              "       -1.34448797, -1.29533697,  1.22247153,  0.64626646, -1.71349451,\n",
              "       -0.74936206, -1.04440472,  1.30104063,  1.0956682 , -0.30240085,\n",
              "       -1.41628246, -0.41748915, -1.46965777, -1.04796499, -0.10246154,\n",
              "        0.88011389,  0.81679253, -0.11988532,  0.0854897 , -0.86963446,\n",
              "       -0.4379182 , -0.07196644, -0.27788108, -0.6865483 , -0.76431539,\n",
              "        0.03305749,  1.77432152, -0.55947753,  0.04452245,  0.29323495,\n",
              "        0.70147113,  0.98894148, -0.21763206, -1.27869461, -1.7680665 ,\n",
              "        0.17300691,  0.25577655,  0.39771657, -0.44792046, -1.24463031,\n",
              "       -1.30145016, -1.84884383, -0.65858223, -0.43149824,  0.3599243 ,\n",
              "        1.41654104,  0.17026932,  0.00672546, -0.41493872,  0.59955916,\n",
              "        0.43804406, -1.99127744, -0.31050484,  1.30372429, -0.48525271,\n",
              "        0.70390928,  0.42862153, -0.84787611, -0.10606042, -1.02425777,\n",
              "       -0.24448466,  1.00718269,  0.1411975 , -1.147005  ,  0.57184305,\n",
              "        0.40012711,  0.98883736, -0.11800555,  1.78625652,  0.49124779,\n",
              "        0.43090025,  0.86189915, -0.020566  , -1.4520932 , -0.61057191,\n",
              "        0.43539909,  0.39243155,  0.36138991, -0.63605461, -0.28440532,\n",
              "        0.49647692, -1.00847479, -0.33445861,  0.90730185,  0.88573292,\n",
              "        0.00921822,  0.88755758,  0.85380129,  0.9073793 , -2.2088289 ,\n",
              "        0.25287612, -0.4037237 ,  1.63114873, -2.28781789, -1.03232745])"
            ]
          },
          "metadata": {},
          "execution_count": 148
        }
      ]
    },
    {
      "cell_type": "code",
      "source": [
        "(arr > 0).sum()"
      ],
      "metadata": {
        "colab": {
          "base_uri": "https://localhost:8080/"
        },
        "id": "wQds1UcZbpFj",
        "outputId": "29cdff0b-fe68-40e0-822d-978b93d1b589"
      },
      "execution_count": null,
      "outputs": [
        {
          "output_type": "execute_result",
          "data": {
            "text/plain": [
              "47"
            ]
          },
          "metadata": {},
          "execution_count": 150
        }
      ]
    },
    {
      "cell_type": "code",
      "source": [
        "### boolean 값을 1 또는 0으로 강제할 수 있음\n",
        "bools = np.array([False, False, True, False])"
      ],
      "metadata": {
        "id": "h0kUCAuebuOc"
      },
      "execution_count": null,
      "outputs": []
    },
    {
      "cell_type": "code",
      "source": [
        "bools.any()"
      ],
      "metadata": {
        "colab": {
          "base_uri": "https://localhost:8080/"
        },
        "id": "f73updvEb8JO",
        "outputId": "4a08d20f-599c-4e8a-f45f-b18c40300056"
      },
      "execution_count": null,
      "outputs": [
        {
          "output_type": "execute_result",
          "data": {
            "text/plain": [
              "True"
            ]
          },
          "metadata": {},
          "execution_count": 152
        }
      ]
    },
    {
      "cell_type": "code",
      "source": [
        "bools.all()"
      ],
      "metadata": {
        "colab": {
          "base_uri": "https://localhost:8080/"
        },
        "id": "aZqV_JtRb9tt",
        "outputId": "656752a0-7d86-45c7-e4ef-882737ea66c2"
      },
      "execution_count": null,
      "outputs": [
        {
          "output_type": "execute_result",
          "data": {
            "text/plain": [
              "False"
            ]
          },
          "metadata": {},
          "execution_count": 153
        }
      ]
    },
    {
      "cell_type": "markdown",
      "source": [
        "- any와 all 메섣는 불리언 배열에 특히 유용함."
      ],
      "metadata": {
        "id": "l507sq4ncMjW"
      }
    },
    {
      "cell_type": "markdown",
      "source": [
        "### 정렬"
      ],
      "metadata": {
        "id": "wtK9FANFcTFr"
      }
    },
    {
      "cell_type": "code",
      "source": [
        "arr = np.random.randn(6)\n",
        "\n",
        "arr"
      ],
      "metadata": {
        "colab": {
          "base_uri": "https://localhost:8080/"
        },
        "id": "jZYzw9h3b-4V",
        "outputId": "9d2d2407-f68e-4f01-f2bd-fc812173a378"
      },
      "execution_count": null,
      "outputs": [
        {
          "output_type": "execute_result",
          "data": {
            "text/plain": [
              "array([ 1.13600683,  0.1242101 ,  0.20739977, -0.30250649,  1.13277333,\n",
              "       -2.03800213])"
            ]
          },
          "metadata": {},
          "execution_count": 154
        }
      ]
    },
    {
      "cell_type": "code",
      "source": [
        "arr.sort()"
      ],
      "metadata": {
        "id": "ze46SAzlcXgG"
      },
      "execution_count": null,
      "outputs": []
    },
    {
      "cell_type": "code",
      "source": [
        "arr"
      ],
      "metadata": {
        "colab": {
          "base_uri": "https://localhost:8080/"
        },
        "id": "rN5tzqUBcYgg",
        "outputId": "f70e0eaf-10b0-4ee8-d33c-33864ab37ecf"
      },
      "execution_count": null,
      "outputs": [
        {
          "output_type": "execute_result",
          "data": {
            "text/plain": [
              "array([-2.03800213, -0.30250649,  0.1242101 ,  0.20739977,  1.13277333,\n",
              "        1.13600683])"
            ]
          },
          "metadata": {},
          "execution_count": 156
        }
      ]
    },
    {
      "cell_type": "markdown",
      "source": [
        "- 다차원 배열의 정렬은 sort 메서드에 넘긴 축의 값에 따라 1차원 부분을 정렬한다."
      ],
      "metadata": {
        "id": "olbPQE2acbwV"
      }
    },
    {
      "cell_type": "code",
      "source": [
        "arr = np.random.randn(5, 3)"
      ],
      "metadata": {
        "id": "VnQfqLjPcZco"
      },
      "execution_count": null,
      "outputs": []
    },
    {
      "cell_type": "code",
      "source": [
        "arr"
      ],
      "metadata": {
        "colab": {
          "base_uri": "https://localhost:8080/"
        },
        "id": "TkqsTLX0cjxQ",
        "outputId": "b6e190a0-b072-4f99-c1e6-1d942945c27d"
      },
      "execution_count": null,
      "outputs": [
        {
          "output_type": "execute_result",
          "data": {
            "text/plain": [
              "array([[ 0.59355286, -1.12183103, -0.58232991],\n",
              "       [-1.0551982 ,  0.14013679,  1.76721239],\n",
              "       [ 0.35302748, -1.5925953 , -1.91547395],\n",
              "       [ 0.77739648,  0.41199755, -0.34362646],\n",
              "       [ 1.1378501 ,  1.52059427,  0.23499118]])"
            ]
          },
          "metadata": {},
          "execution_count": 158
        }
      ]
    },
    {
      "cell_type": "code",
      "source": [
        "arr.sort(1)"
      ],
      "metadata": {
        "id": "YGJ-WDbockTQ"
      },
      "execution_count": null,
      "outputs": []
    },
    {
      "cell_type": "code",
      "source": [
        "arr"
      ],
      "metadata": {
        "colab": {
          "base_uri": "https://localhost:8080/"
        },
        "id": "KPa28TSScmYQ",
        "outputId": "d8375d6e-0c58-4d7c-bcf4-f3d1be5dc68b"
      },
      "execution_count": null,
      "outputs": [
        {
          "output_type": "execute_result",
          "data": {
            "text/plain": [
              "array([[-1.12183103, -0.58232991,  0.59355286],\n",
              "       [-1.0551982 ,  0.14013679,  1.76721239],\n",
              "       [-1.91547395, -1.5925953 ,  0.35302748],\n",
              "       [-0.34362646,  0.41199755,  0.77739648],\n",
              "       [ 0.23499118,  1.1378501 ,  1.52059427]])"
            ]
          },
          "metadata": {},
          "execution_count": 160
        }
      ]
    },
    {
      "cell_type": "markdown",
      "source": [
        "### 집합 관련 함수\n",
        "- np.unique : 배열 내에서 중복된 원소를 제거하고 남은 원소를 정렬된 형태로 반환해줌"
      ],
      "metadata": {
        "id": "Ke-wBS4GdG0K"
      }
    },
    {
      "cell_type": "code",
      "source": [
        "names = np.array(['Bob', 'Joe', 'Will', 'Bob', 'Will', 'Joe', 'Joe'])\n",
        "\n",
        "np.unique(names)"
      ],
      "metadata": {
        "colab": {
          "base_uri": "https://localhost:8080/"
        },
        "id": "JL0KN9ljcolC",
        "outputId": "41d765fd-410f-4774-cd76-cb1d3a131b70"
      },
      "execution_count": null,
      "outputs": [
        {
          "output_type": "execute_result",
          "data": {
            "text/plain": [
              "array(['Bob', 'Joe', 'Will'], dtype='<U4')"
            ]
          },
          "metadata": {},
          "execution_count": 161
        }
      ]
    },
    {
      "cell_type": "code",
      "source": [
        "ints = np.array([3, 3, 3, 2, 2, 1, 1, 4, 4])\n",
        "\n",
        "np.unique(ints)"
      ],
      "metadata": {
        "colab": {
          "base_uri": "https://localhost:8080/"
        },
        "id": "5U1fd9zcdaj1",
        "outputId": "0300204a-7257-4b65-987d-ae3e0a59e7ba"
      },
      "execution_count": null,
      "outputs": [
        {
          "output_type": "execute_result",
          "data": {
            "text/plain": [
              "array([1, 2, 3, 4])"
            ]
          },
          "metadata": {},
          "execution_count": 163
        }
      ]
    },
    {
      "cell_type": "code",
      "source": [
        "### 순수 파이썬만으로 구현하면\n",
        "sorted(set(names))"
      ],
      "metadata": {
        "colab": {
          "base_uri": "https://localhost:8080/"
        },
        "id": "j8hygK7edmfH",
        "outputId": "f1b90ab0-0d9b-4929-d751-26343f4b61f7"
      },
      "execution_count": null,
      "outputs": [
        {
          "output_type": "execute_result",
          "data": {
            "text/plain": [
              "['Bob', 'Joe', 'Will']"
            ]
          },
          "metadata": {},
          "execution_count": 164
        }
      ]
    },
    {
      "cell_type": "markdown",
      "source": [
        "- np.in1d : 두 개의 배열을 인자로 받아서 첫 번째 배열의 원소가 두 번째 배열의 원소를 포함하는지 나타내는 불리언 배열을 반환"
      ],
      "metadata": {
        "id": "Hw0QlADDdyoI"
      }
    },
    {
      "cell_type": "code",
      "source": [
        "values = np.array([6, 0, 0, 3, 2, 5, 6])\n",
        "\n",
        "np.in1d(values, [2, 3, 6])"
      ],
      "metadata": {
        "colab": {
          "base_uri": "https://localhost:8080/"
        },
        "id": "tR51_soudt7X",
        "outputId": "e281c6c0-884b-4f4a-ad6f-1e05925c6418"
      },
      "execution_count": null,
      "outputs": [
        {
          "output_type": "execute_result",
          "data": {
            "text/plain": [
              "array([ True, False, False,  True,  True, False,  True])"
            ]
          },
          "metadata": {},
          "execution_count": 165
        }
      ]
    },
    {
      "cell_type": "markdown",
      "source": [
        "## 3. 배열 데이터의 파일 입출력"
      ],
      "metadata": {
        "id": "kSGcs7oseGSH"
      }
    },
    {
      "cell_type": "markdown",
      "source": [
        "- np.save와 np.load는 배열 데이터를 효과적으로 디스크에 저장하고 불러오기 위한 함수\n",
        "- 배열은 기본적으로 압축되지 않은 원시(가공되지 않은) 바이너리 형식의 .npy 파일로 저장됨"
      ],
      "metadata": {
        "id": "SS-Wvkmdeg6w"
      }
    },
    {
      "cell_type": "code",
      "source": [
        "arr = np.arange(10)\n",
        "\n",
        "np.save('some_array', arr)"
      ],
      "metadata": {
        "id": "ES6VTcoNeAi6"
      },
      "execution_count": null,
      "outputs": []
    },
    {
      "cell_type": "code",
      "source": [
        "np.load('some_array.npy')"
      ],
      "metadata": {
        "colab": {
          "base_uri": "https://localhost:8080/"
        },
        "id": "w0KoRsH3ey70",
        "outputId": "b8175aab-7025-47af-f029-1c59b568110a"
      },
      "execution_count": null,
      "outputs": [
        {
          "output_type": "execute_result",
          "data": {
            "text/plain": [
              "array([0, 1, 2, 3, 4, 5, 6, 7, 8, 9])"
            ]
          },
          "metadata": {},
          "execution_count": 167
        }
      ]
    },
    {
      "cell_type": "markdown",
      "source": [
        "- np.savez : 여러 개의 배열을 압축된 형식으로 저장할 수 있는데, 저장하려는 배열을 키워드 인자 형태로 전달함\n",
        "- npz 파일을 불러올 때는 각각의 배열을 필요할 때 불러올 수 있도록 사전 형식의 객체에 저장함\n",
        "- 압축이 잘되는 형식의 데이터라면 numpy.savez.compressed 사용"
      ],
      "metadata": {
        "id": "5bnjcKm7e6HA"
      }
    },
    {
      "cell_type": "code",
      "source": [
        "np.savez('array_archive.npz', a = arr, b = arr)"
      ],
      "metadata": {
        "id": "aE79RP0We4Z9"
      },
      "execution_count": null,
      "outputs": []
    },
    {
      "cell_type": "code",
      "source": [
        "arch = np.load('array_archive.npz')\n",
        "\n",
        "arch['b']"
      ],
      "metadata": {
        "colab": {
          "base_uri": "https://localhost:8080/"
        },
        "id": "eYHZgLajfFFe",
        "outputId": "db8272ad-1af2-4dc7-a3b6-db7aaac0851d"
      },
      "execution_count": null,
      "outputs": [
        {
          "output_type": "execute_result",
          "data": {
            "text/plain": [
              "array([0, 1, 2, 3, 4, 5, 6, 7, 8, 9])"
            ]
          },
          "metadata": {},
          "execution_count": 169
        }
      ]
    },
    {
      "cell_type": "markdown",
      "source": [
        "## 4. 선형 대수\n",
        "- 행렬의 곱셈, 분할, 행렬식 그리고 정사각 행렬 수학 같은 선형대수는 배열을 다루는 라이브러리에서 중요한 부분임\n",
        "- 두 개의 2차원 배열을 * 연산자로 곱하면 행렬 곱셈이 아니라 대응하는 각각의 원소의 곱을 계산함\n",
        "- 행렬 곱셈은 배열 메서드이자 numpy 네임스페이스 안에 있는 dot 함수를 이용해서 계산"
      ],
      "metadata": {
        "id": "tMXlBuC5ffNW"
      }
    },
    {
      "cell_type": "code",
      "source": [
        "x = np.array([[1., 2., 3.], [4., 5., 6.]])\n",
        "\n",
        "y = np.array([[6., 23.], [-1, 7], [8, 9]])"
      ],
      "metadata": {
        "id": "7DUq7lYOfT8P"
      },
      "execution_count": null,
      "outputs": []
    },
    {
      "cell_type": "code",
      "source": [
        "x"
      ],
      "metadata": {
        "colab": {
          "base_uri": "https://localhost:8080/"
        },
        "id": "PV4GqthJf7ic",
        "outputId": "2c906ae4-0364-447f-9c6b-b06b8f72f456"
      },
      "execution_count": null,
      "outputs": [
        {
          "output_type": "execute_result",
          "data": {
            "text/plain": [
              "array([[1., 2., 3.],\n",
              "       [4., 5., 6.]])"
            ]
          },
          "metadata": {},
          "execution_count": 171
        }
      ]
    },
    {
      "cell_type": "code",
      "source": [
        "y"
      ],
      "metadata": {
        "colab": {
          "base_uri": "https://localhost:8080/"
        },
        "id": "nNvjVfEgf7zS",
        "outputId": "9b9ffc45-53e6-4503-b735-4a64ff536660"
      },
      "execution_count": null,
      "outputs": [
        {
          "output_type": "execute_result",
          "data": {
            "text/plain": [
              "array([[ 6., 23.],\n",
              "       [-1.,  7.],\n",
              "       [ 8.,  9.]])"
            ]
          },
          "metadata": {},
          "execution_count": 172
        }
      ]
    },
    {
      "cell_type": "code",
      "source": [
        "x.dot(y)"
      ],
      "metadata": {
        "colab": {
          "base_uri": "https://localhost:8080/"
        },
        "id": "JAt35QD9f8MM",
        "outputId": "d8f8e579-df70-4b70-d5dc-0d138722b0c1"
      },
      "execution_count": null,
      "outputs": [
        {
          "output_type": "execute_result",
          "data": {
            "text/plain": [
              "array([[ 28.,  64.],\n",
              "       [ 67., 181.]])"
            ]
          },
          "metadata": {},
          "execution_count": 173
        }
      ]
    },
    {
      "cell_type": "code",
      "source": [
        "np.dot(x, y)"
      ],
      "metadata": {
        "colab": {
          "base_uri": "https://localhost:8080/"
        },
        "id": "B2oUalQtf9qD",
        "outputId": "3debcd9f-d012-462a-b90e-f09e331d7b64"
      },
      "execution_count": null,
      "outputs": [
        {
          "output_type": "execute_result",
          "data": {
            "text/plain": [
              "array([[ 28.,  64.],\n",
              "       [ 67., 181.]])"
            ]
          },
          "metadata": {},
          "execution_count": 174
        }
      ]
    },
    {
      "cell_type": "code",
      "source": [
        "np.dot(x, np.ones(3))"
      ],
      "metadata": {
        "colab": {
          "base_uri": "https://localhost:8080/"
        },
        "id": "GT9P2T4UgBEr",
        "outputId": "ddb05df5-a024-4a01-ac59-ecb707edf515"
      },
      "execution_count": null,
      "outputs": [
        {
          "output_type": "execute_result",
          "data": {
            "text/plain": [
              "array([ 6., 15.])"
            ]
          },
          "metadata": {},
          "execution_count": 175
        }
      ]
    },
    {
      "cell_type": "code",
      "source": [
        "### 행렬의 곱셉 @\n",
        "x @ np.ones(3)"
      ],
      "metadata": {
        "colab": {
          "base_uri": "https://localhost:8080/"
        },
        "id": "dixzTcPKgGj8",
        "outputId": "e20c145a-b36c-4768-d2ac-e1895f92a0fa"
      },
      "execution_count": null,
      "outputs": [
        {
          "output_type": "execute_result",
          "data": {
            "text/plain": [
              "array([ 6., 15.])"
            ]
          },
          "metadata": {},
          "execution_count": 176
        }
      ]
    },
    {
      "cell_type": "markdown",
      "source": [
        "- numpy.linalg는 행렬의 분할과 역행렬, 행렬식과 같은 것들을 포함"
      ],
      "metadata": {
        "id": "OcAwCCAxgjUV"
      }
    },
    {
      "cell_type": "code",
      "source": [
        "from numpy.linalg import inv, qr\n",
        "\n",
        "X = np.random.randn(5, 5)\n",
        "\n",
        "mat = X.T.dot(X)\n",
        "\n",
        "inv(mat)  ### 정사각 행렬의 역행렬 계산"
      ],
      "metadata": {
        "colab": {
          "base_uri": "https://localhost:8080/"
        },
        "id": "pINIxdnlgNmc",
        "outputId": "e4348054-7de4-4017-86cc-7b1f8f9f4186"
      },
      "execution_count": null,
      "outputs": [
        {
          "output_type": "execute_result",
          "data": {
            "text/plain": [
              "array([[ 185.99728293,  353.35151996, -336.56922786, -110.8736814 ,\n",
              "         -44.93948545],\n",
              "       [ 353.35151996,  673.85284718, -638.80204908, -212.20292911,\n",
              "         -84.61962413],\n",
              "       [-336.56922786, -638.80204908,  609.9861623 ,  199.96837742,\n",
              "          81.65900675],\n",
              "       [-110.8736814 , -212.20292911,  199.96837742,   67.29207915,\n",
              "          26.17146526],\n",
              "       [ -44.93948545,  -84.61962413,   81.65900675,   26.17146526,\n",
              "          11.28972746]])"
            ]
          },
          "metadata": {},
          "execution_count": 178
        }
      ]
    },
    {
      "cell_type": "code",
      "source": [
        "mat.dot(inv(mat))  ### dot : 행렬 곱셈"
      ],
      "metadata": {
        "colab": {
          "base_uri": "https://localhost:8080/"
        },
        "id": "Xss3S16BgySr",
        "outputId": "d814870d-49e3-4db4-c468-de508bd6e4a4"
      },
      "execution_count": null,
      "outputs": [
        {
          "output_type": "execute_result",
          "data": {
            "text/plain": [
              "array([[ 1.00000000e+00,  9.55833737e-14, -1.02523148e-13,\n",
              "        -5.86105140e-14, -9.26206623e-15],\n",
              "       [ 5.12728635e-14,  1.00000000e+00,  4.79066813e-14,\n",
              "         1.64396716e-14,  6.63010990e-14],\n",
              "       [-1.38542168e-13, -2.02834856e-13,  1.00000000e+00,\n",
              "        -9.56927756e-14,  7.80907977e-15],\n",
              "       [-2.37923759e-14, -7.44108904e-14, -3.51541884e-13,\n",
              "         1.00000000e+00,  6.46789779e-14],\n",
              "       [-1.22962833e-13, -1.83117502e-13,  3.17772424e-13,\n",
              "         2.97155013e-14,  1.00000000e+00]])"
            ]
          },
          "metadata": {},
          "execution_count": 179
        }
      ]
    },
    {
      "cell_type": "code",
      "source": [
        "q, r = qr(mat) ## QR 분해 계산\n",
        "\n",
        "r"
      ],
      "metadata": {
        "colab": {
          "base_uri": "https://localhost:8080/"
        },
        "id": "9IUi0y7tg4WI",
        "outputId": "53b47a21-b81f-4702-aab3-ab9447c0513c"
      },
      "execution_count": null,
      "outputs": [
        {
          "output_type": "execute_result",
          "data": {
            "text/plain": [
              "array([[-1.36081858e+01, -2.96811944e+00, -5.10157635e+00,\n",
              "        -1.26641908e+01, -1.01897642e+01],\n",
              "       [ 0.00000000e+00, -4.95001617e+00, -1.51403141e+00,\n",
              "        -9.65035190e+00, -3.78225611e+00],\n",
              "       [ 0.00000000e+00,  0.00000000e+00, -1.58700160e+00,\n",
              "         2.26678050e+00,  6.29828110e+00],\n",
              "       [ 0.00000000e+00,  0.00000000e+00,  0.00000000e+00,\n",
              "        -2.16414331e-01,  5.36793057e-01],\n",
              "       [ 0.00000000e+00,  0.00000000e+00,  0.00000000e+00,\n",
              "         0.00000000e+00,  7.74736869e-03]])"
            ]
          },
          "metadata": {},
          "execution_count": 182
        }
      ]
    },
    {
      "cell_type": "markdown",
      "source": [
        "## 5. 난수 생성\n",
        "- numpy.random 모듈은 파이썬 내장 random 함수를 보강하여 다양한 종류의 확률분포로부터 효과적으로 표본값을 생성하는 데 주로 사용됨\n",
        "- normal 을 사용하여 표준정규분포로부터 4X4 크기의 표본을 생성할 수 있음"
      ],
      "metadata": {
        "id": "p36p0Uy0hMuB"
      }
    },
    {
      "cell_type": "code",
      "source": [
        "samples = np.random.normal(size = (4, 4))\n",
        "\n",
        "samples"
      ],
      "metadata": {
        "colab": {
          "base_uri": "https://localhost:8080/"
        },
        "id": "4q77HbsEhAs5",
        "outputId": "5500ee49-68dd-4249-f8d0-edbda3ae4798"
      },
      "execution_count": null,
      "outputs": [
        {
          "output_type": "execute_result",
          "data": {
            "text/plain": [
              "array([[ 1.30901558, -0.53505906, -1.30670693,  0.29625942],\n",
              "       [ 0.68810811,  0.51605024,  1.01602234,  0.1402701 ],\n",
              "       [ 0.79953369, -0.19585486,  0.64667237,  1.80104551],\n",
              "       [ 0.74068297, -0.86259904,  0.22019718,  0.70485778]])"
            ]
          },
          "metadata": {},
          "execution_count": 183
        }
      ]
    },
    {
      "cell_type": "code",
      "source": [
        "np.random.normal(172, 3, (2, 3))  ## 평균 172, 표준편차 3인 표본"
      ],
      "metadata": {
        "colab": {
          "base_uri": "https://localhost:8080/"
        },
        "id": "htZphxkvomMB",
        "outputId": "a782b746-9a7d-4571-c321-a4dd5c443c74"
      },
      "execution_count": 202,
      "outputs": [
        {
          "output_type": "execute_result",
          "data": {
            "text/plain": [
              "array([[176.12361699, 171.33731066, 172.61000859],\n",
              "       [173.13560673, 171.43854247, 177.94000959]])"
            ]
          },
          "metadata": {},
          "execution_count": 202
        }
      ]
    },
    {
      "cell_type": "code",
      "source": [
        "(np.random.normal(172, 3, (2, 3)) - 172) / 3  ### 표준화 "
      ],
      "metadata": {
        "colab": {
          "base_uri": "https://localhost:8080/"
        },
        "id": "ls5CasWcozus",
        "outputId": "a3bdb239-c52c-4882-b449-18c854c130ee"
      },
      "execution_count": 203,
      "outputs": [
        {
          "output_type": "execute_result",
          "data": {
            "text/plain": [
              "array([[ 0.21138173,  0.28543204, -0.94169959],\n",
              "       [-1.68926155,  1.29727596, -0.09467522]])"
            ]
          },
          "metadata": {},
          "execution_count": 203
        }
      ]
    },
    {
      "cell_type": "code",
      "source": [
        "np.random.randn(2, 3) *3 + 172  ## 표준 정규분포에서 정규분포로 바꾼 것"
      ],
      "metadata": {
        "colab": {
          "base_uri": "https://localhost:8080/"
        },
        "id": "3YoBIMcuphFH",
        "outputId": "945aed53-74c7-4b36-b3bc-54a5deb5623b"
      },
      "execution_count": 204,
      "outputs": [
        {
          "output_type": "execute_result",
          "data": {
            "text/plain": [
              "array([[172.20169013, 171.32889093, 174.1011166 ],\n",
              "       [169.9597507 , 177.52828718, 172.0163213 ]])"
            ]
          },
          "metadata": {},
          "execution_count": 204
        }
      ]
    },
    {
      "cell_type": "code",
      "source": [
        "np.random.uniform(size = (2, 3))"
      ],
      "metadata": {
        "colab": {
          "base_uri": "https://localhost:8080/"
        },
        "id": "eCNIK-BQplBI",
        "outputId": "67e25522-b905-4c7f-b221-f3a7b6a93d27"
      },
      "execution_count": 205,
      "outputs": [
        {
          "output_type": "execute_result",
          "data": {
            "text/plain": [
              "array([[0.26644288, 0.39160732, 0.76586529],\n",
              "       [0.70606839, 0.90026035, 0.95732373]])"
            ]
          },
          "metadata": {},
          "execution_count": 205
        }
      ]
    },
    {
      "cell_type": "code",
      "source": [
        "import random\n",
        "random.uniform(0, 1) ### uniform은 균등분포임"
      ],
      "metadata": {
        "colab": {
          "base_uri": "https://localhost:8080/"
        },
        "id": "8sLx6BXeplz-",
        "outputId": "058413fa-d08e-4552-d27f-3f25533e3780"
      },
      "execution_count": 206,
      "outputs": [
        {
          "output_type": "execute_result",
          "data": {
            "text/plain": [
              "0.28836685413399743"
            ]
          },
          "metadata": {},
          "execution_count": 206
        }
      ]
    },
    {
      "cell_type": "code",
      "source": [
        "random.random()  ### 위 random.uniform과 같음"
      ],
      "metadata": {
        "colab": {
          "base_uri": "https://localhost:8080/"
        },
        "id": "dk68sA3kpnoW",
        "outputId": "88a27ce5-4f02-4b64-f349-566a7515c4c4"
      },
      "execution_count": 207,
      "outputs": [
        {
          "output_type": "execute_result",
          "data": {
            "text/plain": [
              "0.8629834004283172"
            ]
          },
          "metadata": {},
          "execution_count": 207
        }
      ]
    },
    {
      "cell_type": "markdown",
      "source": [
        "- 이에 비해 파이썬 내장 random 모듈을 한 번에 하나의 값만 생성할 수 있다.\n",
        "- numpy.random은 매우 큰 표본을 생성하는데 파이썬 내장 모듈보다 수십 배 이상 빠르다."
      ],
      "metadata": {
        "id": "lkkuqOsBhk35"
      }
    },
    {
      "cell_type": "code",
      "source": [
        "from random import normalvariate\n",
        "\n",
        "N = 1000000\n",
        "\n",
        "%timeit samples = [normalvariate(0, 1) for _ in range(N)]\n",
        "\n",
        "%timeit np.random.normal(size = N)"
      ],
      "metadata": {
        "colab": {
          "base_uri": "https://localhost:8080/"
        },
        "id": "Ss8UV_rXhi67",
        "outputId": "f2eafae4-71e5-4dc0-e213-70e3f2f31981"
      },
      "execution_count": null,
      "outputs": [
        {
          "output_type": "stream",
          "name": "stdout",
          "text": [
            "856 ms ± 9.54 ms per loop (mean ± std. dev. of 7 runs, 1 loop each)\n",
            "44.5 ms ± 375 µs per loop (mean ± std. dev. of 7 runs, 10 loops each)\n"
          ]
        }
      ]
    },
    {
      "cell_type": "markdown",
      "source": [
        "- 이를 엄밀하게는 유사 난수라고 부르는데 , 난수 생성기의 시드값에 따라 정해진 난수를 알고리즘으로 생성하기 때문임\n",
        "- Numpy 난수 생성기의 시드값은 np.random.seed를 이용해서 변경할 수 있음"
      ],
      "metadata": {
        "id": "UdHw9cV8iLoj"
      }
    },
    {
      "cell_type": "code",
      "source": [
        "np.random.seed(1234)"
      ],
      "metadata": {
        "id": "pCUiIHQch887"
      },
      "execution_count": null,
      "outputs": []
    },
    {
      "cell_type": "markdown",
      "source": [
        "- numpy.random에서 제공하는 데이터를 생성할 수 있는 함수들은 전역 난수 시드값을 이용함\n",
        "- numpy.random.RandomState를 이용해 다른 난수 생성기로부터 격리된 난수 생성기를 만들 수 있음"
      ],
      "metadata": {
        "id": "N7a4_J6oiaY1"
      }
    },
    {
      "cell_type": "code",
      "source": [
        "rng = np.random.RandomState(1234)\n",
        "\n",
        "rng.randn(10)"
      ],
      "metadata": {
        "colab": {
          "base_uri": "https://localhost:8080/"
        },
        "id": "RiAhhJIAiZKH",
        "outputId": "6793124e-113b-4223-fb50-039ce8d395f4"
      },
      "execution_count": null,
      "outputs": [
        {
          "output_type": "execute_result",
          "data": {
            "text/plain": [
              "array([ 0.47143516, -1.19097569,  1.43270697, -0.3126519 , -0.72058873,\n",
              "        0.88716294,  0.85958841, -0.6365235 ,  0.01569637, -2.24268495])"
            ]
          },
          "metadata": {},
          "execution_count": 186
        }
      ]
    },
    {
      "cell_type": "markdown",
      "source": [
        "## 6. 계단 오르내리기 예제"
      ],
      "metadata": {
        "id": "iG4SgSiFivMM"
      }
    },
    {
      "cell_type": "markdown",
      "source": [
        "- 계단 중간에서 같은 확률로 한 계단 올라가거나 내려간다고 가정하자.\n",
        "\n",
        "\n",
        "\n",
        "> \n",
        "\n",
        "\n",
        "\n",
        "\n",
        "- 순수 파이썬으로 내장 random 모듈을 사용하여 계단 오르내리기를 1000번 수행하는 코드는 다음과 같음"
      ],
      "metadata": {
        "id": "NpLQEivTi1A-"
      }
    },
    {
      "cell_type": "code",
      "source": [
        "import random\n",
        "\n",
        "position = 0\n",
        "walk = [position]\n",
        "steps = 1000\n",
        "\n",
        "for i in range(steps):\n",
        "  step = 1 if random.randint(0, 1) else -1\n",
        "  position += step\n",
        "  walk.append(position)"
      ],
      "metadata": {
        "id": "gJ8srmW0ipSA"
      },
      "execution_count": null,
      "outputs": []
    },
    {
      "cell_type": "code",
      "source": [
        "plt.plot(walk[:100])"
      ],
      "metadata": {
        "colab": {
          "base_uri": "https://localhost:8080/",
          "height": 283
        },
        "id": "JW3dDlCDjWD0",
        "outputId": "cab49883-e07d-4a93-c321-ca85de082d45"
      },
      "execution_count": null,
      "outputs": [
        {
          "output_type": "execute_result",
          "data": {
            "text/plain": [
              "[<matplotlib.lines.Line2D at 0x7ff0f2cebc10>]"
            ]
          },
          "metadata": {},
          "execution_count": 188
        },
        {
          "output_type": "display_data",
          "data": {
            "text/plain": [
              "<Figure size 432x288 with 1 Axes>"
            ],
            "image/png": "[encoded data removed]"
          },
          "metadata": {
            "needs_background": "light"
          }
        }
      ]
    },
    {
      "cell_type": "markdown",
      "source": [
        "- walk는 계단을 오르거나 내려간 값의 누적합\n",
        "- 배열식으로 나타낼 수 있음\n",
        "- np.random 모듈을 사용해서 1000번 수행한 결과 (1, -1)를 한 번에 저장하고 누적합을 계산"
      ],
      "metadata": {
        "id": "eFHp8Q2Bj6sr"
      }
    },
    {
      "cell_type": "code",
      "source": [
        "nsteps = 1000\n",
        "\n",
        "draws = np.random.randint(0, 2, size = nsteps)\n",
        "\n",
        "steps = np.where(draws > 0, 1, -1)\n",
        "\n",
        "walk = steps.cumsum()"
      ],
      "metadata": {
        "id": "zdA2yHoPjxZ1"
      },
      "execution_count": null,
      "outputs": []
    },
    {
      "cell_type": "code",
      "source": [
        "walk.min()"
      ],
      "metadata": {
        "colab": {
          "base_uri": "https://localhost:8080/"
        },
        "id": "pQ0adtpDk0xZ",
        "outputId": "381477a8-51b5-4222-82fc-fc150c917336"
      },
      "execution_count": null,
      "outputs": [
        {
          "output_type": "execute_result",
          "data": {
            "text/plain": [
              "-9"
            ]
          },
          "metadata": {},
          "execution_count": 190
        }
      ]
    },
    {
      "cell_type": "code",
      "source": [
        "walk.max()"
      ],
      "metadata": {
        "colab": {
          "base_uri": "https://localhost:8080/"
        },
        "id": "PJBa8kIqk1u5",
        "outputId": "c3138d4a-991f-4928-a9a6-1e9a60ab4916"
      },
      "execution_count": null,
      "outputs": [
        {
          "output_type": "execute_result",
          "data": {
            "text/plain": [
              "60"
            ]
          },
          "metadata": {},
          "execution_count": 191
        }
      ]
    },
    {
      "cell_type": "code",
      "source": [
        "plt.plot(walk)"
      ],
      "metadata": {
        "colab": {
          "base_uri": "https://localhost:8080/",
          "height": 283
        },
        "id": "lYlbwCpMk2fh",
        "outputId": "b4656d3f-fc2d-4307-f086-a9bf4a7e2bf9"
      },
      "execution_count": null,
      "outputs": [
        {
          "output_type": "execute_result",
          "data": {
            "text/plain": [
              "[<matplotlib.lines.Line2D at 0x7ff0f2cd8750>]"
            ]
          },
          "metadata": {},
          "execution_count": 192
        },
        {
          "output_type": "display_data",
          "data": {
            "text/plain": [
              "<Figure size 432x288 with 1 Axes>"
            ],
            "image/png": "[encoded data removed]"
          },
          "metadata": {
            "needs_background": "light"
          }
        }
      ]
    },
    {
      "cell_type": "markdown",
      "source": [
        "- 계단의 처음 위치에서 최초로 10칸 떨어지기까지 얼마나 걸렸는지 확인해보자\n",
        "- np.abs(walk) >= 10으로 처음 위치에서 10칸 이상 떨어진 시점을 알려주는 불리언 배열을 얻을 수 있다.\n",
        "- 최초의 10 혹은 -10인 시점을 구해야 하므로 불리언 배열에서 최댓값의 처음 색인을 반환하는 argmax를 사용"
      ],
      "metadata": {
        "id": "5l3XjH76k-Qw"
      }
    },
    {
      "cell_type": "code",
      "source": [
        "((np.abs(walk)) >= 10).argmax()"
      ],
      "metadata": {
        "colab": {
          "base_uri": "https://localhost:8080/"
        },
        "id": "0uOAkxUWk5pq",
        "outputId": "3ada485a-0d0c-43ea-ffc1-f5de2727128f"
      },
      "execution_count": null,
      "outputs": [
        {
          "output_type": "execute_result",
          "data": {
            "text/plain": [
              "297"
            ]
          },
          "metadata": {},
          "execution_count": 193
        }
      ]
    },
    {
      "cell_type": "markdown",
      "source": [
        "### 한 번에 시뮬레이션하기(5000번 시뮬레이션)"
      ],
      "metadata": {
        "id": "AtL-X3Vola76"
      }
    },
    {
      "cell_type": "code",
      "source": [
        "nwalks = 5000\n",
        "\n",
        "nsteps = 1000\n",
        "\n",
        "draws = np.random.randint(0, 2, size = (nwalks, nsteps))  ## 0 또는 1\n",
        " \n",
        "steps = np.where(draws > 0, 1, -1)\n",
        "\n",
        "walks = steps.cumsum(1)\n",
        "\n",
        "walks"
      ],
      "metadata": {
        "colab": {
          "base_uri": "https://localhost:8080/"
        },
        "id": "9Haxu8gXletH",
        "outputId": "453915c1-3075-4abc-f080-90511ddb6566"
      },
      "execution_count": null,
      "outputs": [
        {
          "output_type": "execute_result",
          "data": {
            "text/plain": [
              "array([[  1,   2,   3, ...,  46,  47,  46],\n",
              "       [  1,   0,   1, ...,  40,  41,  42],\n",
              "       [  1,   2,   3, ..., -26, -27, -28],\n",
              "       ...,\n",
              "       [  1,   0,   1, ...,  64,  65,  66],\n",
              "       [  1,   2,   1, ...,   2,   1,   0],\n",
              "       [ -1,  -2,  -3, ...,  32,  33,  34]])"
            ]
          },
          "metadata": {},
          "execution_count": 194
        }
      ]
    },
    {
      "cell_type": "code",
      "source": [
        "walks.max()"
      ],
      "metadata": {
        "colab": {
          "base_uri": "https://localhost:8080/"
        },
        "id": "darlXKzFlXI8",
        "outputId": "ac03fb5f-57b9-4b8e-a6e2-cd0c7e726fc3"
      },
      "execution_count": null,
      "outputs": [
        {
          "output_type": "execute_result",
          "data": {
            "text/plain": [
              "122"
            ]
          },
          "metadata": {},
          "execution_count": 195
        }
      ]
    },
    {
      "cell_type": "code",
      "source": [
        "walks.min()"
      ],
      "metadata": {
        "colab": {
          "base_uri": "https://localhost:8080/"
        },
        "id": "Jn8mCQD7mEfW",
        "outputId": "1b954f12-fa56-455e-d843-fec70fcaf72e"
      },
      "execution_count": null,
      "outputs": [
        {
          "output_type": "execute_result",
          "data": {
            "text/plain": [
              "-128"
            ]
          },
          "metadata": {},
          "execution_count": 196
        }
      ]
    },
    {
      "cell_type": "markdown",
      "source": [
        "- 이 데이터에서 누적합이 30 혹은 -30이 되는 최소 시점을 계산해보자"
      ],
      "metadata": {
        "id": "twnb95gUmGrm"
      }
    },
    {
      "cell_type": "code",
      "source": [
        "hits30 = (np.abs(walks) >= 30).any(1)\n",
        "\n",
        "hits30"
      ],
      "metadata": {
        "colab": {
          "base_uri": "https://localhost:8080/"
        },
        "id": "iVIt6vQdmFJm",
        "outputId": "d93163ca-e318-4465-8a81-cfdecc9ecd34"
      },
      "execution_count": null,
      "outputs": [
        {
          "output_type": "execute_result",
          "data": {
            "text/plain": [
              "array([ True,  True,  True, ...,  True, False,  True])"
            ]
          },
          "metadata": {},
          "execution_count": 197
        }
      ]
    },
    {
      "cell_type": "code",
      "source": [
        "hits30.sum()"
      ],
      "metadata": {
        "colab": {
          "base_uri": "https://localhost:8080/"
        },
        "id": "nTsZpYxymPt4",
        "outputId": "142856f6-a7e6-4e51-fef6-aabe405109e4"
      },
      "execution_count": null,
      "outputs": [
        {
          "output_type": "execute_result",
          "data": {
            "text/plain": [
              "3368"
            ]
          },
          "metadata": {},
          "execution_count": 198
        }
      ]
    },
    {
      "cell_type": "markdown",
      "source": [
        "- 이 불리언 배열을 사용해서 walks에서 컬럼을 선택하고 절댓값이 30이 넘는 경우에 대해 축 1의 argmax 값을 구하면 처음 위치에서 30칸 이상 멀어지는 최소 횟수를 구할 수 있다."
      ],
      "metadata": {
        "id": "nkpP7eupmTll"
      }
    },
    {
      "cell_type": "code",
      "source": [
        "crossing_times = (np.abs(walks[hits30]) >= 30).argmax(1)\n",
        "\n",
        "crossing_times.mean()"
      ],
      "metadata": {
        "colab": {
          "base_uri": "https://localhost:8080/"
        },
        "id": "ahLwda3mmRM3",
        "outputId": "41fdde34-8753-4b1b-c762-30125d13a409"
      },
      "execution_count": null,
      "outputs": [
        {
          "output_type": "execute_result",
          "data": {
            "text/plain": [
              "509.99762470308787"
            ]
          },
          "metadata": {},
          "execution_count": 199
        }
      ]
    },
    {
      "cell_type": "code",
      "source": [
        "steps = np.random.normal(loc = 0, scale = 0.25, size = (nwalks, nsteps))"
      ],
      "metadata": {
        "id": "UtZqnHzTmk2Z"
      },
      "execution_count": null,
      "outputs": []
    },
    {
      "cell_type": "code",
      "source": [
        "steps"
      ],
      "metadata": {
        "colab": {
          "base_uri": "https://localhost:8080/"
        },
        "id": "jl9yQPPAnCFC",
        "outputId": "5135b3b7-d519-48ce-9c60-044bdfe33aa6"
      },
      "execution_count": null,
      "outputs": [
        {
          "output_type": "execute_result",
          "data": {
            "text/plain": [
              "array([[-0.20472197, -0.03407671, -0.24781626, ...,  0.22195392,\n",
              "         0.21250584,  0.43994277],\n",
              "       [-0.09066595,  0.04741116,  0.09872352, ...,  0.10684413,\n",
              "         0.2540548 , -0.22255203],\n",
              "       [ 0.00942324,  0.03418277, -0.42305453, ..., -0.05711872,\n",
              "        -0.11820873, -0.71117832],\n",
              "       ...,\n",
              "       [ 0.1230118 , -0.18155722,  0.12782267, ...,  0.0730254 ,\n",
              "         0.06546779,  0.47920034],\n",
              "       [-0.20550269,  0.16459572, -0.03138668, ...,  0.06915243,\n",
              "         0.07831634,  0.27554056],\n",
              "       [-0.23056172,  0.28924403,  0.08444807, ..., -0.27018412,\n",
              "        -0.02140732,  0.06343304]])"
            ]
          },
          "metadata": {},
          "execution_count": 201
        }
      ]
    },
    {
      "cell_type": "code",
      "source": [],
      "metadata": {
        "id": "Ll0-trFrnC0J"
      },
      "execution_count": null,
      "outputs": []
    }
  ]
}