{
 "cells": [
  {
   "cell_type": "code",
   "execution_count": 3,
   "id": "c78d12d6-81f1-4b39-bca7-e3bf5de8293c",
   "metadata": {},
   "outputs": [],
   "source": [
    "a = 'a:b:c:d'\n",
    "a = a.split(\":\")"
   ]
  },
  {
   "cell_type": "code",
   "execution_count": 6,
   "id": "06e24be8-bf16-4302-bd6e-532b0f540657",
   "metadata": {},
   "outputs": [
    {
     "data": {
      "text/plain": [
       "'a#b#c#d'"
      ]
     },
     "execution_count": 6,
     "metadata": {},
     "output_type": "execute_result"
    }
   ],
   "source": [
    "\"#\".join(a)"
   ]
  },
  {
   "cell_type": "code",
   "execution_count": 7,
   "id": "db631644-01ef-424d-862d-eeeeb1ab1df9",
   "metadata": {},
   "outputs": [],
   "source": [
    "a = {'A': 90, 'B': 80}\n",
    "a['C'] = 70"
   ]
  },
  {
   "cell_type": "code",
   "execution_count": 8,
   "id": "3ef18cc9-610b-4187-b478-3d17e1426f99",
   "metadata": {},
   "outputs": [
    {
     "data": {
      "text/plain": [
       "{'A': 90, 'B': 80, 'C': 70}"
      ]
     },
     "execution_count": 8,
     "metadata": {},
     "output_type": "execute_result"
    }
   ],
   "source": [
    "a"
   ]
  },
  {
   "cell_type": "code",
   "execution_count": 9,
   "id": "92e9c5ea-82f6-4901-a42b-0e203ac447f7",
   "metadata": {},
   "outputs": [
    {
     "data": {
      "text/plain": [
       "70"
      ]
     },
     "execution_count": 9,
     "metadata": {},
     "output_type": "execute_result"
    }
   ],
   "source": [
    "a['C']"
   ]
  },
  {
   "cell_type": "code",
   "execution_count": 14,
   "id": "1808f462-9adb-4f3f-b324-3481a07710d3",
   "metadata": {},
   "outputs": [
    {
     "data": {
      "text/plain": [
       "[1, 2, 3]"
      ]
     },
     "execution_count": 14,
     "metadata": {},
     "output_type": "execute_result"
    }
   ],
   "source": [
    "a = [1, 2, 3]\n",
    "a + [4, 5]\n",
    "a"
   ]
  },
  {
   "cell_type": "code",
   "execution_count": 15,
   "id": "07d6feee-b750-4864-9000-fde42e9ba887",
   "metadata": {},
   "outputs": [
    {
     "data": {
      "text/plain": [
       "[1, 2, 3, 4, 5]"
      ]
     },
     "execution_count": 15,
     "metadata": {},
     "output_type": "execute_result"
    }
   ],
   "source": [
    "a = [1, 2, 3]\n",
    "a.extend([4, 5])\n",
    "a"
   ]
  },
  {
   "cell_type": "code",
   "execution_count": 16,
   "id": "4ef060ee-3496-4f4e-b1dc-f7406d83e829",
   "metadata": {},
   "outputs": [],
   "source": [
    "A = [20, 55, 67, 82, 45, 33, 90, 87, 100, 25]"
   ]
  },
  {
   "cell_type": "code",
   "execution_count": 17,
   "id": "9d35cdbc-4ff6-439f-8448-1acd0ee4c2e9",
   "metadata": {},
   "outputs": [
    {
     "name": "stdout",
     "output_type": "stream",
     "text": [
      "604\n"
     ]
    }
   ],
   "source": [
    "total = 0\n",
    "\n",
    "for i in A:\n",
    "    total += i\n",
    "    \n",
    "print(total)"
   ]
  },
  {
   "cell_type": "code",
   "execution_count": null,
   "id": "aff41754-2d04-43e1-b544-b1aed4c6cb50",
   "metadata": {},
   "outputs": [],
   "source": [
    "a = 0\n",
    "i = 0\n",
    "lis = []\n",
    "\n",
    "def fibo(num):\n",
    "    while i < num:\n",
    "        lis.append(a)\n",
    "        i += 1\n",
    "        "
   ]
  },
  {
   "cell_type": "code",
   "execution_count": 21,
   "id": "b3993a47-f3d6-489b-96e9-07d2595a6416",
   "metadata": {},
   "outputs": [
    {
     "ename": "TypeError",
     "evalue": "'tuple' object cannot be interpreted as an integer",
     "output_type": "error",
     "traceback": [
      "\u001b[1;31m---------------------------------------------------------------------------\u001b[0m",
      "\u001b[1;31mTypeError\u001b[0m                                 Traceback (most recent call last)",
      "Input \u001b[1;32mIn [21]\u001b[0m, in \u001b[0;36m<cell line: 7>\u001b[1;34m()\u001b[0m\n\u001b[0;32m      4\u001b[0m         total \u001b[38;5;241m+\u001b[39m\u001b[38;5;241m=\u001b[39m i\n\u001b[0;32m      5\u001b[0m     \u001b[38;5;28;01mreturn\u001b[39;00m total\n\u001b[1;32m----> 7\u001b[0m \u001b[43mtotal\u001b[49m\u001b[43m(\u001b[49m\u001b[38;5;241;43m65\u001b[39;49m\u001b[43m,\u001b[49m\u001b[43m \u001b[49m\u001b[38;5;241;43m45\u001b[39;49m\u001b[43m,\u001b[49m\u001b[43m \u001b[49m\u001b[38;5;241;43m2\u001b[39;49m\u001b[43m,\u001b[49m\u001b[43m \u001b[49m\u001b[38;5;241;43m3\u001b[39;49m\u001b[43m,\u001b[49m\u001b[43m \u001b[49m\u001b[38;5;241;43m45\u001b[39;49m\u001b[43m,\u001b[49m\u001b[43m \u001b[49m\u001b[38;5;241;43m8\u001b[39;49m\u001b[43m)\u001b[49m\n",
      "Input \u001b[1;32mIn [21]\u001b[0m, in \u001b[0;36mtotal\u001b[1;34m(*argvs)\u001b[0m\n\u001b[0;32m      1\u001b[0m \u001b[38;5;28;01mdef\u001b[39;00m \u001b[38;5;21mtotal\u001b[39m(\u001b[38;5;241m*\u001b[39margvs):\n\u001b[0;32m      2\u001b[0m     total \u001b[38;5;241m=\u001b[39m \u001b[38;5;241m0\u001b[39m\n\u001b[1;32m----> 3\u001b[0m     \u001b[38;5;28;01mfor\u001b[39;00m i \u001b[38;5;129;01min\u001b[39;00m \u001b[38;5;28;43mrange\u001b[39;49m\u001b[43m(\u001b[49m\u001b[43margvs\u001b[49m\u001b[43m)\u001b[49m:\n\u001b[0;32m      4\u001b[0m         total \u001b[38;5;241m+\u001b[39m\u001b[38;5;241m=\u001b[39m i\n\u001b[0;32m      5\u001b[0m     \u001b[38;5;28;01mreturn\u001b[39;00m total\n",
      "\u001b[1;31mTypeError\u001b[0m: 'tuple' object cannot be interpreted as an integer"
     ]
    }
   ],
   "source": [
    "def total(*argvs):\n",
    "    total = 0\n",
    "    for i in range(argvs):\n",
    "        total += i\n",
    "    return total\n",
    "\n",
    "total(65, 45, 2, 3, 45, 8)"
   ]
  },
  {
   "cell_type": "code",
   "execution_count": 22,
   "id": "1090a5e6-9358-4fc4-8acb-e13942e667fa",
   "metadata": {},
   "outputs": [
    {
     "name": "stdin",
     "output_type": "stream",
     "text": [
      "구구단을 출력할 숫자를 입력하세요(2~9):  2\n"
     ]
    },
    {
     "name": "stdout",
     "output_type": "stream",
     "text": [
      "2 4 6 8 10 12 14 16 18 "
     ]
    }
   ],
   "source": [
    "a = int(input(\"구구단을 출력할 숫자를 입력하세요(2~9): \"))\n",
    "\n",
    "for i in range(1, 10):\n",
    "    print(i*a, end = \" \")"
   ]
  },
  {
   "cell_type": "code",
   "execution_count": 23,
   "id": "5eb29af3-0692-445c-b683-e84c996e90ed",
   "metadata": {},
   "outputs": [],
   "source": [
    "import os\n",
    "import sys"
   ]
  },
  {
   "cell_type": "code",
   "execution_count": 38,
   "id": "798b6425-d748-4215-bafc-42b7a7a21bab",
   "metadata": {},
   "outputs": [],
   "source": [
    "a = \"\"\"AAA\n",
    "BBB\n",
    "CCC\n",
    "DDD\n",
    "EEE\n",
    "\"\"\"\n",
    "\n",
    "\n",
    "with open(\"abc.txt\", \"w\") as f:\n",
    "    f.write(a)"
   ]
  },
  {
   "cell_type": "code",
   "execution_count": 26,
   "id": "6dcd50d3-ae8a-4e7d-94a0-9c1e5d914dca",
   "metadata": {},
   "outputs": [
    {
     "data": {
      "text/plain": [
       "'C:\\\\Users\\\\admin\\\\doit'"
      ]
     },
     "execution_count": 26,
     "metadata": {},
     "output_type": "execute_result"
    }
   ],
   "source": [
    "os.getcwd()"
   ]
  },
  {
   "cell_type": "code",
   "execution_count": 41,
   "id": "8415b352-2d91-42ec-a253-6ff8e6b2726a",
   "metadata": {},
   "outputs": [],
   "source": [
    "with open(\"abc.txt\" ,\"r\") as f:\n",
    "    lines = f.read()\n",
    "\n",
    "lines = lines[::-1]\n",
    "\n",
    "with open(\"abc.txt\", \"w\") as f:\n",
    "    f.write(lines)"
   ]
  },
  {
   "cell_type": "code",
   "execution_count": 42,
   "id": "75b9e045-9e3a-4877-bc31-c40835e75b6d",
   "metadata": {},
   "outputs": [],
   "source": [
    "a = \"\"\"70\n",
    "60\n",
    "55\n",
    "75\n",
    "95\n",
    "90\n",
    "80\n",
    "80\n",
    "85\n",
    "100\"\"\"\n",
    "\n",
    "with open(\"sample.txt\", \"w\") as f:\n",
    "    f.write(a)"
   ]
  },
  {
   "cell_type": "code",
   "execution_count": 47,
   "id": "a5f9d727-7656-4c11-a367-409fd3061a64",
   "metadata": {},
   "outputs": [],
   "source": [
    "class Calculator:\n",
    "    def __init__(self, nums):\n",
    "        self.nums = nums\n",
    "        \n",
    "    def sum(self):\n",
    "        self.total = 0\n",
    "        for i in self.nums:\n",
    "            self.total += i\n",
    "        return self.total\n",
    "    \n",
    "    def avg(self):\n",
    "        return self.total/len(self.nums)"
   ]
  },
  {
   "cell_type": "code",
   "execution_count": 49,
   "id": "9030442e-db17-42e2-9790-e6e3bde8b5b8",
   "metadata": {},
   "outputs": [],
   "source": [
    "a = Calculator([1, 2, 3, 4, 5])"
   ]
  },
  {
   "cell_type": "code",
   "execution_count": 50,
   "id": "7dec0503-bad0-43bb-9d25-81e869f9a2c1",
   "metadata": {},
   "outputs": [
    {
     "data": {
      "text/plain": [
       "15"
      ]
     },
     "execution_count": 50,
     "metadata": {},
     "output_type": "execute_result"
    }
   ],
   "source": [
    "a.sum()"
   ]
  },
  {
   "cell_type": "code",
   "execution_count": 51,
   "id": "5d6a4e22-7216-4a04-9bf9-978b1d2b6c2d",
   "metadata": {},
   "outputs": [
    {
     "data": {
      "text/plain": [
       "3.0"
      ]
     },
     "execution_count": 51,
     "metadata": {},
     "output_type": "execute_result"
    }
   ],
   "source": [
    "a.avg()"
   ]
  },
  {
   "cell_type": "code",
   "execution_count": 52,
   "id": "d087e665-3c6d-4241-9924-fa539b36a36d",
   "metadata": {},
   "outputs": [],
   "source": [
    "cal2 = Calculator([6, 7, 8, 9, 10])"
   ]
  },
  {
   "cell_type": "code",
   "execution_count": 53,
   "id": "253486ac-2c97-46b2-9dc6-8d3dd76a3a15",
   "metadata": {},
   "outputs": [
    {
     "data": {
      "text/plain": [
       "40"
      ]
     },
     "execution_count": 53,
     "metadata": {},
     "output_type": "execute_result"
    }
   ],
   "source": [
    "cal2.sum()"
   ]
  },
  {
   "cell_type": "code",
   "execution_count": 54,
   "id": "cc3bd4c5-ba78-4fb0-835f-8a632671ad8b",
   "metadata": {},
   "outputs": [
    {
     "data": {
      "text/plain": [
       "8.0"
      ]
     },
     "execution_count": 54,
     "metadata": {},
     "output_type": "execute_result"
    }
   ],
   "source": [
    "cal2.avg()"
   ]
  },
  {
   "cell_type": "code",
   "execution_count": 55,
   "id": "6d2dc322-647e-42a2-9af6-a8001adc8ba4",
   "metadata": {},
   "outputs": [
    {
     "name": "stdout",
     "output_type": "stream",
     "text": [
      "7\n"
     ]
    }
   ],
   "source": [
    "result = 0\n",
    "\n",
    "try:\n",
    "    [1, 2, 3][3]\n",
    "    \"a\"+1\n",
    "    4 / 0\n",
    "except TypeError:\n",
    "    result += 1\n",
    "except ZeroDivisionError:\n",
    "    result += 2\n",
    "except IndexError:\n",
    "    result += 3\n",
    "finally:\n",
    "    result += 4\n",
    "\n",
    "print(result)"
   ]
  },
  {
   "cell_type": "code",
   "execution_count": 56,
   "id": "7dc190e6-9421-42a0-bae1-9a18e419f86a",
   "metadata": {},
   "outputs": [
    {
     "data": {
      "text/plain": [
       "10"
      ]
     },
     "execution_count": 56,
     "metadata": {},
     "output_type": "execute_result"
    }
   ],
   "source": [
    "import re\n",
    "p = re.compile(\"[a-z]+\")\n",
    "m = p.search(\"5 python\")\n",
    "m.start() + m.end()\n",
    "    "
   ]
  },
  {
   "cell_type": "code",
   "execution_count": 60,
   "id": "ccb8624b-2cba-4c9e-a8f3-4dfd3f704508",
   "metadata": {},
   "outputs": [
    {
     "data": {
      "text/plain": [
       "['.com', '.net', '.co.kr']"
      ]
     },
     "execution_count": 60,
     "metadata": {},
     "output_type": "execute_result"
    }
   ],
   "source": [
    "a = \"\"\"park@naver.com\n",
    "kim@daum.net\n",
    "lee@myhome.co.kr\"\"\"\n",
    "\n",
    "import re\n",
    "p = re.compile(\"[.][A-z.]*\")\n",
    "re.findall(p, a)"
   ]
  },
  {
   "cell_type": "code",
   "execution_count": 63,
   "id": "58777047-3aa7-4b78-ad01-5c1a815c72cd",
   "metadata": {},
   "outputs": [
    {
     "name": "stdout",
     "output_type": "stream",
     "text": [
      "\n",
      "park 010-9999-#### kim 010-9909-#### lee 010-8789-#### \n"
     ]
    }
   ],
   "source": [
    "a = \"\"\"\n",
    "park 010-9999-9988\n",
    "kim 010-9909-7789\n",
    "lee 010-8789-7768\n",
    "\"\"\"\n",
    "\n",
    "p = re.compile(\"[-]\\d{4}\\s\")\n",
    "print(re.sub(p, \"-#### \", a))"
   ]
  },
  {
   "cell_type": "code",
   "execution_count": 66,
   "id": "3d37a752-16a7-4121-8901-2b37785d9500",
   "metadata": {},
   "outputs": [
    {
     "name": "stdout",
     "output_type": "stream",
     "text": [
      "0\n",
      "1\n",
      "1\n",
      "2\n",
      "3\n",
      "5\n",
      "8\n",
      "13\n",
      "21\n",
      "34\n"
     ]
    }
   ],
   "source": [
    "def fib(num):\n",
    "    if num == 0:\n",
    "        return 0\n",
    "    if num == 1:\n",
    "        return 1\n",
    "    return fib(num-2) + fib(num-1)\n",
    "\n",
    "for i in range(10):\n",
    "    print(fib(i))"
   ]
  },
  {
   "cell_type": "code",
   "execution_count": 68,
   "id": "7ab423a9-533d-4cd7-92f0-22a7433a2400",
   "metadata": {},
   "outputs": [
    {
     "name": "stdin",
     "output_type": "stream",
     "text": [
      " 65,45,2,3,45,8\n"
     ]
    },
    {
     "name": "stdout",
     "output_type": "stream",
     "text": [
      "168\n"
     ]
    }
   ],
   "source": [
    "a = input()\n",
    "a = a.split(\",\")\n",
    "\n",
    "total = 0\n",
    "for i in a:\n",
    "    total += int(i)\n",
    "print(total)"
   ]
  },
  {
   "cell_type": "code",
   "execution_count": 72,
   "id": "67a6b87b-e64a-410c-898c-59f53911e361",
   "metadata": {},
   "outputs": [
    {
     "name": "stdout",
     "output_type": "stream",
     "text": [
      "454*67-9-3\n"
     ]
    }
   ],
   "source": [
    "data = \"4546793\"\n",
    "numbers = list(map(int, data))\n",
    "result = []\n",
    "\n",
    "for i, num in enumerate (numbers):\n",
    "    result.append(str(num))\n",
    "    if i < len(numbers)-1 :\n",
    "        is_odd = num % 2 == 1\n",
    "        is_next_odd = numbers[i+1] % 2 == 1\n",
    "        if is_odd and is_next_odd:\n",
    "            result.append(\"-\")\n",
    "        elif not is_odd and not is_next_odd:\n",
    "            result.append(\"*\")\n",
    "            \n",
    "print(\"\".join(result))"
   ]
  },
  {
   "cell_type": "code",
   "execution_count": 75,
   "id": "9d730c41-f7bd-4242-9aa1-7ddd03738b25",
   "metadata": {},
   "outputs": [
    {
     "name": "stdout",
     "output_type": "stream",
     "text": [
      "43-545-7-54\n"
     ]
    }
   ],
   "source": [
    "data = \"43545754\"\n",
    "numbers = list(map(str, data))\n",
    "numbers\n",
    "\n",
    "result = []\n",
    "\n",
    "for i, num in enumerate(numbers):\n",
    "    result.append(str(num))\n",
    "    if i < len(numbers)-1:\n",
    "        is_odd = int(num) % 2 == 1\n",
    "        is_next_odd = int(numbers[i+1]) % 2 == 1\n",
    "        if is_odd and is_next_odd:\n",
    "            result.append(\"-\")\n",
    "        elif not is_odd and not is_next_odd:\n",
    "            result.append(\"*\")\n",
    "\n",
    "print(\"\".join(result))"
   ]
  },
  {
   "cell_type": "code",
   "execution_count": 78,
   "id": "c3543fc1-3e52-4522-bb59-4e839021180d",
   "metadata": {},
   "outputs": [
    {
     "name": "stdout",
     "output_type": "stream",
     "text": [
      "0\n",
      "1\n",
      "1\n",
      "2\n",
      "3\n",
      "5\n",
      "8\n",
      "13\n",
      "21\n",
      "34\n"
     ]
    }
   ],
   "source": [
    "def fibo(num):\n",
    "    if num == 0:\n",
    "        return 0\n",
    "    elif num == 1:\n",
    "        return 1\n",
    "    return fibo(num-2) + fibo(num-1)\n",
    "\n",
    "for i in range(10):\n",
    "    print(fibo(i))"
   ]
  },
  {
   "cell_type": "code",
   "execution_count": 84,
   "id": "c30347db-8bc3-4278-bff3-9541d2a44f42",
   "metadata": {},
   "outputs": [
    {
     "name": "stdout",
     "output_type": "stream",
     "text": [
      "a3b2c6a1\n"
     ]
    }
   ],
   "source": [
    "def compress_string(s):\n",
    "    _c = \"\"\n",
    "    cnt = 0\n",
    "    result = \"\"\n",
    "    for c in s:\n",
    "        if c != _c:\n",
    "            _c = c\n",
    "            if cnt: \n",
    "                result += str(cnt)\n",
    "            result += c\n",
    "            cnt = 1\n",
    "        else:\n",
    "            cnt += 1\n",
    "    if cnt: result += str(cnt)\n",
    "    return result\n",
    "\n",
    "print(compress_string(\"aaabbcccccca\"))"
   ]
  },
  {
   "cell_type": "code",
   "execution_count": 85,
   "id": "f1417287-b1ac-45c7-b23d-c5b8a73c4a83",
   "metadata": {},
   "outputs": [],
   "source": [
    "def compress_string(s):\n",
    "    _c = \"\"\n",
    "    cnt = 0\n",
    "    result = \"\"\n",
    "    for c in s:\n",
    "        if c != _c:\n",
    "            _c = c\n",
    "            if cnt:\n",
    "                result += str(cnt)\n",
    "            result += c\n",
    "            cnt = 1\n",
    "        else:\n",
    "            cnt += 1\n",
    "        \n",
    "        if cnt:\n",
    "            result+=str(cnt)\n",
    "        return result"
   ]
  },
  {
   "cell_type": "code",
   "execution_count": 88,
   "id": "7a694196-81cf-4247-9db9-7953811c5149",
   "metadata": {},
   "outputs": [
    {
     "data": {
      "text/plain": [
       "False"
      ]
     },
     "execution_count": 88,
     "metadata": {},
     "output_type": "execute_result"
    }
   ],
   "source": [
    "def dupli(x):\n",
    "    lis = []\n",
    "    for i in x:\n",
    "        lis.append(i)\n",
    "        if i not in lis:\n",
    "            lis.append(i)\n",
    "        else:\n",
    "            return False\n",
    "    return len(result) == 10\n",
    "\n",
    "dupli('0123456789')"
   ]
  },
  {
   "cell_type": "code",
   "execution_count": null,
   "id": "2ada1bb8-6249-415e-a32e-f412fd0de340",
   "metadata": {},
   "outputs": [],
   "source": []
  }
 ],
 "metadata": {
  "kernelspec": {
   "display_name": "Python 3 (ipykernel)",
   "language": "python",
   "name": "python3"
  },
  "language_info": {
   "codemirror_mode": {
    "name": "ipython",
    "version": 3
   },
   "file_extension": ".py",
   "mimetype": "text/x-python",
   "name": "python",
   "nbconvert_exporter": "python",
   "pygments_lexer": "ipython3",
   "version": "3.10.6"
  }
 },
 "nbformat": 4,
 "nbformat_minor": 5
}
