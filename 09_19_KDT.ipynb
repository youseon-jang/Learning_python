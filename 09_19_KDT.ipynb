{
 "cells": [
  {
   "cell_type": "markdown",
   "id": "0571955b-385f-4031-8e77-9349627b902b",
   "metadata": {},
   "source": [
    "# 복습문제"
   ]
  },
  {
   "cell_type": "code",
   "execution_count": 13,
   "id": "89241e9a-4195-44db-bede-a48c133ad883",
   "metadata": {},
   "outputs": [
    {
     "name": "stdout",
     "output_type": "stream",
     "text": [
      " \n",
      "1\n",
      "12\n",
      "123\n",
      "1234\n",
      "abc\n",
      "1a\n"
     ]
    }
   ],
   "source": [
    "## li=[\" \",\"1\",\"12\",\"123\",\"1234\",\"abc\",\"1a\"] 를\n",
    "## A A AA AAA AAAA AAAAA AaAbAcA AAaA 로 바꾸기\n",
    "\n",
    "import re\n",
    "\n",
    "li=[\" \",\"1\",\"12\",\"123\",\"1234\",\"abc\",\"1a\"] \n",
    "\n",
    "p = re.compile(\"r[0-9]\")\n",
    "for i in li:\n",
    "    print(re.sub(p, \"A\", i))"
   ]
  },
  {
   "cell_type": "code",
   "execution_count": 17,
   "id": "af14150e-b4bb-4920-9f54-b8137698ae08",
   "metadata": {},
   "outputs": [
    {
     "name": "stdout",
     "output_type": "stream",
     "text": [
      "A A AA AAA AAAA AAAAA AaAbAcA AAaA "
     ]
    }
   ],
   "source": [
    "import re\n",
    "\n",
    "li=[\" \",\"1\",\"12\",\"123\",\"1234\",\"abc\",\"1a\"] \n",
    "\n",
    "p = re.compile(\"[0-9]?\")\n",
    "for i in li:\n",
    "    print(re.sub(p, \"A\", i), end = \" \")"
   ]
  },
  {
   "cell_type": "code",
   "execution_count": 16,
   "id": "0ffc1827-2369-4ed2-aced-0b6e9b858362",
   "metadata": {},
   "outputs": [
    {
     "name": "stdout",
     "output_type": "stream",
     "text": [
      "A A AA AA AA AA AaAbAcA AAaA "
     ]
    }
   ],
   "source": [
    "import re\n",
    "\n",
    "li=[\" \",\"1\",\"12\",\"123\",\"1234\",\"abc\",\"1a\"] \n",
    "\n",
    "p = re.compile(\"[0-9]*\")\n",
    "for i in li:\n",
    "    print(re.sub(p, \"A\", i), end = \" \")"
   ]
  },
  {
   "cell_type": "code",
   "execution_count": 32,
   "id": "7c196677-7269-4d10-90c9-774392aa81ec",
   "metadata": {},
   "outputs": [
    {
     "data": {
      "text/plain": [
       "array([[  1,   2,   3,   4,   5,   6,   7,   8,   9,  10],\n",
       "       [ 11,  12,  13,  14,  15,  16,  17,  18,  19,  20],\n",
       "       [ 21,  22,  23,  24,  25,  26,  27,  28,  29,  30],\n",
       "       [ 31,  32,  33,  34,  35,  36,  37,  38,  39,  40],\n",
       "       [ 41,  42,  43,  44,  45,  46,  47,  48,  49,  50],\n",
       "       [ 51,  52,  53,  54,  55,  56,  57,  58,  59,  60],\n",
       "       [ 61,  62,  63,  64,  65,  66,  67,  68,  69,  70],\n",
       "       [ 71,  72,  73,  74,  75,  76,  77,  78,  79,  80],\n",
       "       [ 81,  82,  83,  84,  85,  86,  87,  88,  89,  90],\n",
       "       [ 91,  92,  93,  94,  95,  96,  97,  98,  99, 100]])"
      ]
     },
     "execution_count": 32,
     "metadata": {},
     "output_type": "execute_result"
    }
   ],
   "source": [
    "import numpy as np\n",
    "\n",
    "a = np.arange(1,101).reshape((10,10)) \n",
    "a"
   ]
  },
  {
   "cell_type": "code",
   "execution_count": 47,
   "id": "1bdd912b-b2d5-41a5-bf8e-d4fa6aa218ce",
   "metadata": {},
   "outputs": [
    {
     "data": {
      "text/plain": [
       "array([[44, 46],\n",
       "       [74, 76]])"
      ]
     },
     "execution_count": 47,
     "metadata": {},
     "output_type": "execute_result"
    }
   ],
   "source": [
    "a[4::3,3:6:2]"
   ]
  },
  {
   "cell_type": "markdown",
   "id": "ef7a56fb-7085-40e3-b9cc-3d51490cdd46",
   "metadata": {},
   "source": [
    "- a[[0,1],[0,1]] --> [0,0], [1,1]로 인덱싱 됨\n",
    "\n",
    "- 위 array에서 7, 18, 29, 40 처럼 계단식으로 나타나는 숫자들을 찾을 때 유용함"
   ]
  },
  {
   "cell_type": "code",
   "execution_count": 87,
   "id": "b8b420f4-58b6-428c-b042-e681e242ee76",
   "metadata": {},
   "outputs": [
    {
     "data": {
      "text/plain": [
       "'hello world'"
      ]
     },
     "execution_count": 87,
     "metadata": {},
     "output_type": "execute_result"
    }
   ],
   "source": [
    "###data = '''\n",
    "###  <head>\n",
    "###    <title>hello world</title>\n",
    "###  </head>\n",
    "###''' \n",
    "###에서 hello world만 \n",
    "\n",
    "data = '''\n",
    "  <head>\n",
    "    <title>hello world</title>\n",
    "  </head>\n",
    "''' \n",
    "\n",
    "p = re.compile(\"(?<=>).+(?=<)\")\n",
    "re.search(p, data).group()"
   ]
  },
  {
   "cell_type": "code",
   "execution_count": 84,
   "id": "08280884-1376-4b0d-b57f-5b2e57ec93f6",
   "metadata": {},
   "outputs": [
    {
     "data": {
      "text/plain": [
       "'hello world'"
      ]
     },
     "execution_count": 84,
     "metadata": {},
     "output_type": "execute_result"
    }
   ],
   "source": [
    "p = re.compile(\"(?<=>).*(?=<)\")\n",
    "p.search(data).group() "
   ]
  },
  {
   "cell_type": "code",
   "execution_count": 90,
   "id": "60705f1e-a960-4b8c-be56-ffde171ed551",
   "metadata": {},
   "outputs": [
    {
     "data": {
      "text/plain": [
       "array([[ 1,  2,  3,  4,  5,  6],\n",
       "       [ 7,  8,  9, 10, 11, 12],\n",
       "       [13, 14, 15, 16, 17, 18],\n",
       "       [19, 20, 21, 22, 23, 24],\n",
       "       [25, 26, 27, 28, 29, 30],\n",
       "       [31, 32, 33, 34, 35, 36]])"
      ]
     },
     "execution_count": 90,
     "metadata": {},
     "output_type": "execute_result"
    }
   ],
   "source": [
    "### 1~35로 구성된 6*6 빙고판을 만들고\n",
    "### 1_ 짝수만 출력\n",
    "\n",
    "a = np.arange(1, 37).reshape(6, 6)\n",
    "a"
   ]
  },
  {
   "cell_type": "code",
   "execution_count": 95,
   "id": "d4568123-a3c1-46db-a5fa-d682b9993eb1",
   "metadata": {},
   "outputs": [
    {
     "data": {
      "text/plain": [
       "array([[ 2,  4,  6],\n",
       "       [ 8, 10, 12],\n",
       "       [14, 16, 18],\n",
       "       [20, 22, 24],\n",
       "       [26, 28, 30],\n",
       "       [32, 34, 36]])"
      ]
     },
     "execution_count": 95,
     "metadata": {},
     "output_type": "execute_result"
    }
   ],
   "source": [
    "a[0:, 1::2]"
   ]
  },
  {
   "cell_type": "code",
   "execution_count": 96,
   "id": "921da5f6-96bb-49c8-a61a-8bf075bdea01",
   "metadata": {},
   "outputs": [
    {
     "data": {
      "text/plain": [
       "array([[ 1,  3,  5],\n",
       "       [ 7,  9, 11],\n",
       "       [13, 15, 17],\n",
       "       [19, 21, 23],\n",
       "       [25, 27, 29],\n",
       "       [31, 33, 35]])"
      ]
     },
     "execution_count": 96,
     "metadata": {},
     "output_type": "execute_result"
    }
   ],
   "source": [
    "### 2_ 홀수만 출력\n",
    "a[0:, 0::2]"
   ]
  },
  {
   "cell_type": "code",
   "execution_count": 102,
   "id": "f14d5922-dfa5-471e-b28d-08dea853b7fc",
   "metadata": {},
   "outputs": [
    {
     "data": {
      "text/plain": [
       "array([[[ 1,  2,  3,  4,  5,  6,  7,  8,  9, 10, 11],\n",
       "        [12, 13, 14, 15, 16, 17, 18, 19, 20, 21, 22],\n",
       "        [23, 24, 25, 26, 27, 28, 29, 30, 31, 32, 33]],\n",
       "\n",
       "       [[34, 35, 36, 37, 38, 39, 40, 41, 42, 43, 44],\n",
       "        [45, 46, 47, 48, 49, 50, 51, 52, 53, 54, 55],\n",
       "        [56, 57, 58, 59, 60, 61, 62, 63, 64, 65, 66]],\n",
       "\n",
       "       [[67, 68, 69, 70, 71, 72, 73, 74, 75, 76, 77],\n",
       "        [78, 79, 80, 81, 82, 83, 84, 85, 86, 87, 88],\n",
       "        [89, 90, 91, 92, 93, 94, 95, 96, 97, 98, 99]]])"
      ]
     },
     "execution_count": 102,
     "metadata": {},
     "output_type": "execute_result"
    }
   ],
   "source": [
    "### 1-99개의 값으로 3차원에 3행을 갖는 array\n",
    "\n",
    "a = np.arange(1, 100).reshape(3,3,-1)\n",
    "a"
   ]
  },
  {
   "cell_type": "code",
   "execution_count": null,
   "id": "1d3bbeae-cab8-4257-99ff-3e6ec28e0b1a",
   "metadata": {},
   "outputs": [],
   "source": [
    "### factorial\n",
    "def factorial(n):\n",
    "    multi = 1\n",
    "    for i in range(1, n + 1):\n",
    "        multi *= i\n",
    "    return multi"
   ]
  },
  {
   "cell_type": "code",
   "execution_count": null,
   "id": "8120869c-c7c3-4d38-9c60-3320bd56d015",
   "metadata": {},
   "outputs": [],
   "source": [
    "def factorial(n):\n",
    "    if n == 1:\n",
    "        return 1\n",
    "    return n*factorial(n-1)"
   ]
  },
  {
   "cell_type": "markdown",
   "id": "a70595f5-894f-43bb-826c-a5a5281f2eb3",
   "metadata": {},
   "source": [
    "# 수업\n",
    "# 파이썬 블로그 추천 : Rfriend"
   ]
  },
  {
   "cell_type": "code",
   "execution_count": 122,
   "id": "64d1624b-d2c1-49c8-8ac3-362a64b96035",
   "metadata": {},
   "outputs": [
    {
     "data": {
      "text/plain": [
       "array([1, 2, 3, 4])"
      ]
     },
     "execution_count": 122,
     "metadata": {},
     "output_type": "execute_result"
    }
   ],
   "source": [
    "a = np.array([1, 2, 3, 4])\n",
    "a"
   ]
  },
  {
   "cell_type": "code",
   "execution_count": 123,
   "id": "009c50ae-4290-4bee-996b-cf0eef0bf37c",
   "metadata": {},
   "outputs": [
    {
     "ename": "ValueError",
     "evalue": "operands could not be broadcast together with shapes (4,) (2,) ",
     "output_type": "error",
     "traceback": [
      "\u001b[1;31m---------------------------------------------------------------------------\u001b[0m",
      "\u001b[1;31mValueError\u001b[0m                                Traceback (most recent call last)",
      "Input \u001b[1;32mIn [123]\u001b[0m, in \u001b[0;36m<cell line: 1>\u001b[1;34m()\u001b[0m\n\u001b[1;32m----> 1\u001b[0m \u001b[43ma\u001b[49m\u001b[43m \u001b[49m\u001b[38;5;241;43m+\u001b[39;49m\u001b[43m \u001b[49m\u001b[43mnp\u001b[49m\u001b[38;5;241;43m.\u001b[39;49m\u001b[43marray\u001b[49m\u001b[43m(\u001b[49m\u001b[43m[\u001b[49m\u001b[38;5;241;43m1\u001b[39;49m\u001b[43m,\u001b[49m\u001b[43m \u001b[49m\u001b[38;5;241;43m2\u001b[39;49m\u001b[43m]\u001b[49m\u001b[43m)\u001b[49m\n",
      "\u001b[1;31mValueError\u001b[0m: operands could not be broadcast together with shapes (4,) (2,) "
     ]
    }
   ],
   "source": [
    "a + np.array([1, 2])"
   ]
  },
  {
   "cell_type": "markdown",
   "id": "fa7ea261-401f-4041-87e0-8906421fc0c3",
   "metadata": {},
   "source": [
    "- [1, 2]를 아래로 늘려주는 것(열 방향)은 가능하지만 옆으로 늘리는 것은 안됨"
   ]
  },
  {
   "cell_type": "code",
   "execution_count": 125,
   "id": "cbe1d4e6-490a-4265-9398-675ae4977b35",
   "metadata": {},
   "outputs": [
    {
     "data": {
      "text/plain": [
       "array([[1],\n",
       "       [2]])"
      ]
     },
     "execution_count": 125,
     "metadata": {},
     "output_type": "execute_result"
    }
   ],
   "source": [
    "np.array([[1], [2]])"
   ]
  },
  {
   "cell_type": "code",
   "execution_count": 124,
   "id": "17e61270-dd07-4a87-b4b3-77514febdf68",
   "metadata": {},
   "outputs": [
    {
     "data": {
      "text/plain": [
       "array([[2, 3, 4, 5],\n",
       "       [3, 4, 5, 6]])"
      ]
     },
     "execution_count": 124,
     "metadata": {},
     "output_type": "execute_result"
    }
   ],
   "source": [
    "a + np.array([[1], [2]])"
   ]
  },
  {
   "cell_type": "markdown",
   "id": "82391ad9-2e90-4b9a-a901-27377abed694",
   "metadata": {},
   "source": [
    "- 해당 array는 옆으로 늘리는 것 가능"
   ]
  },
  {
   "cell_type": "markdown",
   "id": "72658ae3-acd4-49c5-84a6-a2e89c96490f",
   "metadata": {},
   "source": [
    "## Numpy 내장함수를 이용하여  array 만들기"
   ]
  },
  {
   "cell_type": "markdown",
   "id": "bb0d3832-a9f4-4fa9-93a2-ac0b83d13475",
   "metadata": {},
   "source": [
    "### arange(start, stop, step, dtype)"
   ]
  },
  {
   "cell_type": "markdown",
   "id": "c47e286c-751b-4ec8-9943-57e09bdad9b8",
   "metadata": {},
   "source": [
    "### linspace(start, stop, numbers of element)"
   ]
  },
  {
   "cell_type": "code",
   "execution_count": 129,
   "id": "eaf02ec5-e8b5-42e4-b675-8f6d518595e1",
   "metadata": {},
   "outputs": [
    {
     "data": {
      "text/plain": [
       "array([1., 3., 5., 7., 9.])"
      ]
     },
     "execution_count": 129,
     "metadata": {},
     "output_type": "execute_result"
    }
   ],
   "source": [
    "np.linspace(1, 9, 5)"
   ]
  },
  {
   "cell_type": "markdown",
   "id": "56e77f52-a776-46f9-90a3-34c9a3031824",
   "metadata": {},
   "source": [
    "### ones(shape, [dtype, order])"
   ]
  },
  {
   "cell_type": "code",
   "execution_count": 130,
   "id": "eefc9b1d-5257-411e-b231-058bd0894b63",
   "metadata": {},
   "outputs": [
    {
     "data": {
      "text/plain": [
       "array([[1, 1, 1],\n",
       "       [1, 1, 1]], dtype=int16)"
      ]
     },
     "execution_count": 130,
     "metadata": {},
     "output_type": "execute_result"
    }
   ],
   "source": [
    "np.ones((2,3), dtype = 'int16')"
   ]
  },
  {
   "cell_type": "code",
   "execution_count": 131,
   "id": "c44eaab4-19b6-4bb4-b051-c683d40026be",
   "metadata": {},
   "outputs": [
    {
     "data": {
      "text/plain": [
       "array([[0., 0., 0.],\n",
       "       [0., 0., 0.]])"
      ]
     },
     "execution_count": 131,
     "metadata": {},
     "output_type": "execute_result"
    }
   ],
   "source": [
    "np.zeros((2, 3))"
   ]
  },
  {
   "cell_type": "markdown",
   "id": "32227fd9-cdb4-4902-8c06-7eaa47b9e961",
   "metadata": {},
   "source": [
    "### sparse matrix(희소행렬)"
   ]
  },
  {
   "cell_type": "code",
   "execution_count": 135,
   "id": "3253f0cc-34e3-46d0-8565-cae1e0752142",
   "metadata": {},
   "outputs": [],
   "source": [
    "### - 10X10 대부분 0\n",
    "### - 3행 3열 부분 1\n",
    "### - 5행 6열 부분 1\n",
    "\n",
    "a = np.zeros((10, 10))"
   ]
  },
  {
   "cell_type": "code",
   "execution_count": 136,
   "id": "5a6fbf08-378f-4c0e-848e-d40ade1c3f08",
   "metadata": {},
   "outputs": [
    {
     "data": {
      "text/plain": [
       "array([[0., 0., 0., 0., 0., 0., 0., 0., 0., 0.],\n",
       "       [0., 0., 0., 0., 0., 0., 0., 0., 0., 0.],\n",
       "       [0., 0., 0., 0., 0., 0., 0., 0., 0., 0.],\n",
       "       [0., 0., 0., 0., 0., 0., 0., 0., 0., 0.],\n",
       "       [0., 0., 0., 0., 0., 0., 0., 0., 0., 0.],\n",
       "       [0., 0., 0., 0., 0., 0., 0., 0., 0., 0.],\n",
       "       [0., 0., 0., 0., 0., 0., 0., 0., 0., 0.],\n",
       "       [0., 0., 0., 0., 0., 0., 0., 0., 0., 0.],\n",
       "       [0., 0., 0., 0., 0., 0., 0., 0., 0., 0.],\n",
       "       [0., 0., 0., 0., 0., 0., 0., 0., 0., 0.]])"
      ]
     },
     "execution_count": 136,
     "metadata": {},
     "output_type": "execute_result"
    }
   ],
   "source": [
    "a"
   ]
  },
  {
   "cell_type": "code",
   "execution_count": 137,
   "id": "8c01966d-3870-4d03-a301-403f01a5f101",
   "metadata": {},
   "outputs": [],
   "source": [
    "a[3, 3] = 1"
   ]
  },
  {
   "cell_type": "code",
   "execution_count": 138,
   "id": "b7731dc3-9f75-4e36-9045-1fda1cbbe8c1",
   "metadata": {},
   "outputs": [],
   "source": [
    "a[5, 6] = 1"
   ]
  },
  {
   "cell_type": "code",
   "execution_count": 139,
   "id": "3561e92e-adef-4741-9dd3-5c778c19118c",
   "metadata": {},
   "outputs": [
    {
     "data": {
      "text/plain": [
       "array([[0., 0., 0., 0., 0., 0., 0., 0., 0., 0.],\n",
       "       [0., 0., 0., 0., 0., 0., 0., 0., 0., 0.],\n",
       "       [0., 0., 0., 0., 0., 0., 0., 0., 0., 0.],\n",
       "       [0., 0., 0., 1., 0., 0., 0., 0., 0., 0.],\n",
       "       [0., 0., 0., 0., 0., 0., 0., 0., 0., 0.],\n",
       "       [0., 0., 0., 0., 0., 0., 1., 0., 0., 0.],\n",
       "       [0., 0., 0., 0., 0., 0., 0., 0., 0., 0.],\n",
       "       [0., 0., 0., 0., 0., 0., 0., 0., 0., 0.],\n",
       "       [0., 0., 0., 0., 0., 0., 0., 0., 0., 0.],\n",
       "       [0., 0., 0., 0., 0., 0., 0., 0., 0., 0.]])"
      ]
     },
     "execution_count": 139,
     "metadata": {},
     "output_type": "execute_result"
    }
   ],
   "source": [
    "a"
   ]
  },
  {
   "cell_type": "code",
   "execution_count": 142,
   "id": "4152de44-683b-4413-8807-ffa001eb6454",
   "metadata": {},
   "outputs": [
    {
     "data": {
      "text/plain": [
       "array([[0., 0., 0., 0., 0., 0., 0., 0., 0., 0.],\n",
       "       [0., 0., 0., 0., 0., 0., 0., 0., 0., 0.],\n",
       "       [0., 0., 0., 0., 0., 0., 0., 0., 0., 0.],\n",
       "       [0., 0., 0., 0., 0., 0., 0., 0., 0., 0.],\n",
       "       [0., 0., 0., 0., 0., 0., 0., 0., 0., 0.],\n",
       "       [0., 0., 0., 0., 0., 0., 0., 0., 0., 0.],\n",
       "       [0., 0., 0., 0., 0., 0., 0., 0., 0., 0.],\n",
       "       [0., 0., 0., 0., 0., 0., 0., 0., 0., 0.],\n",
       "       [0., 0., 0., 0., 0., 0., 0., 0., 0., 0.],\n",
       "       [0., 0., 0., 0., 0., 0., 0., 0., 0., 0.]])"
      ]
     },
     "execution_count": 142,
     "metadata": {},
     "output_type": "execute_result"
    }
   ],
   "source": [
    "### 모든 원소가 3인 10X10인 array\n",
    "\n",
    "a = np.zeros((10, 10))\n",
    "a"
   ]
  },
  {
   "cell_type": "code",
   "execution_count": 144,
   "id": "97785fdf-d920-47ad-a244-e6dea1d89976",
   "metadata": {},
   "outputs": [],
   "source": [
    "a[0::] = 3"
   ]
  },
  {
   "cell_type": "code",
   "execution_count": 145,
   "id": "958eb616-3f8f-4626-807b-a02de797423f",
   "metadata": {},
   "outputs": [
    {
     "data": {
      "text/plain": [
       "array([[3., 3., 3., 3., 3., 3., 3., 3., 3., 3.],\n",
       "       [3., 3., 3., 3., 3., 3., 3., 3., 3., 3.],\n",
       "       [3., 3., 3., 3., 3., 3., 3., 3., 3., 3.],\n",
       "       [3., 3., 3., 3., 3., 3., 3., 3., 3., 3.],\n",
       "       [3., 3., 3., 3., 3., 3., 3., 3., 3., 3.],\n",
       "       [3., 3., 3., 3., 3., 3., 3., 3., 3., 3.],\n",
       "       [3., 3., 3., 3., 3., 3., 3., 3., 3., 3.],\n",
       "       [3., 3., 3., 3., 3., 3., 3., 3., 3., 3.],\n",
       "       [3., 3., 3., 3., 3., 3., 3., 3., 3., 3.],\n",
       "       [3., 3., 3., 3., 3., 3., 3., 3., 3., 3.]])"
      ]
     },
     "execution_count": 145,
     "metadata": {},
     "output_type": "execute_result"
    }
   ],
   "source": [
    "a"
   ]
  },
  {
   "cell_type": "code",
   "execution_count": 146,
   "id": "50eafa83-f49e-4b2f-9b8f-deec94c9e4ec",
   "metadata": {},
   "outputs": [
    {
     "data": {
      "text/plain": [
       "array([[3., 3., 3., 3., 3., 3., 3., 3., 3., 3.],\n",
       "       [3., 3., 3., 3., 3., 3., 3., 3., 3., 3.],\n",
       "       [3., 3., 3., 3., 3., 3., 3., 3., 3., 3.],\n",
       "       [3., 3., 3., 3., 3., 3., 3., 3., 3., 3.],\n",
       "       [3., 3., 3., 3., 3., 3., 3., 3., 3., 3.],\n",
       "       [3., 3., 3., 3., 3., 3., 3., 3., 3., 3.],\n",
       "       [3., 3., 3., 3., 3., 3., 3., 3., 3., 3.],\n",
       "       [3., 3., 3., 3., 3., 3., 3., 3., 3., 3.],\n",
       "       [3., 3., 3., 3., 3., 3., 3., 3., 3., 3.],\n",
       "       [3., 3., 3., 3., 3., 3., 3., 3., 3., 3.]])"
      ]
     },
     "execution_count": 146,
     "metadata": {},
     "output_type": "execute_result"
    }
   ],
   "source": [
    "np.ones((10, 10))*3"
   ]
  },
  {
   "cell_type": "markdown",
   "id": "aadc0dc4-885e-4034-9556-a965a8687bf3",
   "metadata": {},
   "source": [
    "### diagonal"
   ]
  },
  {
   "cell_type": "markdown",
   "id": "b134dd3c-79b3-4d22-9e16-ba0ea3da7573",
   "metadata": {},
   "source": [
    "-  대각선에 무엇이 들어갈 지 지정"
   ]
  },
  {
   "cell_type": "markdown",
   "id": "c8753c4f-ffee-4cb6-b33e-58d3207a5189",
   "metadata": {},
   "source": [
    "### Identity"
   ]
  },
  {
   "cell_type": "markdown",
   "id": "06d5fd5b-0e90-4be7-a703-502ca576c5ef",
   "metadata": {},
   "source": [
    "-  대각선에 1만 들어감"
   ]
  },
  {
   "cell_type": "markdown",
   "id": "7d690049-f3f5-4043-ba88-2fe056860432",
   "metadata": {},
   "source": [
    "### eye"
   ]
  },
  {
   "cell_type": "markdown",
   "id": "98c5844b-9d25-4771-b0c0-02be7d994015",
   "metadata": {},
   "source": [
    "- identity와 비슷하지만 변수가 두 개도 들어갈 수 있음"
   ]
  },
  {
   "cell_type": "markdown",
   "id": "8d1b3855-c333-4666-963a-5a7490986dfb",
   "metadata": {},
   "source": [
    "### 단위행렬"
   ]
  },
  {
   "cell_type": "code",
   "execution_count": 149,
   "id": "ac69bf5f-d488-4563-8084-5156c1bafca2",
   "metadata": {},
   "outputs": [
    {
     "data": {
      "text/plain": [
       "array([[1., 0., 0.],\n",
       "       [0., 1., 0.],\n",
       "       [0., 0., 1.]])"
      ]
     },
     "execution_count": 149,
     "metadata": {},
     "output_type": "execute_result"
    }
   ],
   "source": [
    "np.identity(3)"
   ]
  },
  {
   "cell_type": "code",
   "execution_count": 150,
   "id": "6937d193-dbc6-43e5-b912-8b54de884568",
   "metadata": {},
   "outputs": [
    {
     "data": {
      "text/plain": [
       "array([[1., 0., 0.],\n",
       "       [0., 1., 0.],\n",
       "       [0., 0., 1.]])"
      ]
     },
     "execution_count": 150,
     "metadata": {},
     "output_type": "execute_result"
    }
   ],
   "source": [
    "np.eye(3)"
   ]
  },
  {
   "cell_type": "markdown",
   "id": "b0068304-7319-4914-9143-1c48eb48f9bf",
   "metadata": {},
   "source": [
    "### full"
   ]
  },
  {
   "cell_type": "markdown",
   "id": "ea2d99f9-5fe3-46b3-97df-858806ce2bde",
   "metadata": {},
   "source": [
    "### empty"
   ]
  },
  {
   "cell_type": "markdown",
   "id": "b7df82f0-6309-4db6-9fb1-39c85fb617ff",
   "metadata": {},
   "source": [
    "### _like() 함수로 배열만들기"
   ]
  },
  {
   "cell_type": "markdown",
   "id": "c21689ef-72a2-4f35-8016-be2658838451",
   "metadata": {},
   "source": [
    "- zeros_like\n",
    "- ones_like\n",
    "- empty_like\n",
    "- full_like\n",
    "\n",
    "데이터타입과 형태를 유지하면서 배열을 채움"
   ]
  },
  {
   "cell_type": "code",
   "execution_count": 154,
   "id": "a73df07b-00e5-4ccf-8dae-32a82c989c5f",
   "metadata": {},
   "outputs": [
    {
     "data": {
      "text/plain": [
       "array([[0, 1, 2],\n",
       "       [3, 4, 5]])"
      ]
     },
     "execution_count": 154,
     "metadata": {},
     "output_type": "execute_result"
    }
   ],
   "source": [
    "a = np.arange(6).reshape(2, 3)\n",
    "a"
   ]
  },
  {
   "cell_type": "raw",
   "id": "5d31bd8a-a2a1-4be7-a30f-ca23f18e320b",
   "metadata": {},
   "source": [
    "np.zeros_like(a)"
   ]
  },
  {
   "cell_type": "code",
   "execution_count": 155,
   "id": "6768ff95-ba3f-4785-bd2e-835dcccdd7f4",
   "metadata": {},
   "outputs": [
    {
     "data": {
      "text/plain": [
       "array([[1, 1, 1],\n",
       "       [1, 1, 1]])"
      ]
     },
     "execution_count": 155,
     "metadata": {},
     "output_type": "execute_result"
    }
   ],
   "source": [
    "np.ones_like(a)"
   ]
  },
  {
   "cell_type": "code",
   "execution_count": 156,
   "id": "f678583d-dce4-459a-af3c-48de38bf7752",
   "metadata": {},
   "outputs": [
    {
     "data": {
      "text/plain": [
       "array([[          0,           0,   344352432],\n",
       "       [        444,           0, -2147483648]])"
      ]
     },
     "execution_count": 156,
     "metadata": {},
     "output_type": "execute_result"
    }
   ],
   "source": [
    "np.empty_like(a)"
   ]
  },
  {
   "cell_type": "code",
   "execution_count": 158,
   "id": "fcec8601-9b7f-4fd1-9954-cdcfbe23b9a2",
   "metadata": {},
   "outputs": [
    {
     "data": {
      "text/plain": [
       "array([[1, 1, 1],\n",
       "       [1, 1, 1]])"
      ]
     },
     "execution_count": 158,
     "metadata": {},
     "output_type": "execute_result"
    }
   ],
   "source": [
    "np.full_like(a, 1)"
   ]
  },
  {
   "cell_type": "markdown",
   "id": "1a862314-b1e8-4ecc-a899-1576291b4eca",
   "metadata": {},
   "source": [
    "### Copy의 3 가지 방법"
   ]
  },
  {
   "cell_type": "code",
   "execution_count": 160,
   "id": "ed7f1989-2433-4ecb-b98d-74bbd2fc7fd9",
   "metadata": {},
   "outputs": [],
   "source": [
    "a = [1, 2, 3, 4]"
   ]
  },
  {
   "cell_type": "code",
   "execution_count": 161,
   "id": "6f09afcd-81f8-4195-9419-f19ba4a36f05",
   "metadata": {},
   "outputs": [
    {
     "data": {
      "text/plain": [
       "[1, 2, 3, 4]"
      ]
     },
     "execution_count": 161,
     "metadata": {},
     "output_type": "execute_result"
    }
   ],
   "source": [
    "a"
   ]
  },
  {
   "cell_type": "code",
   "execution_count": 162,
   "id": "cee7e079-0226-43e6-ab29-6332e7ce3f1a",
   "metadata": {},
   "outputs": [
    {
     "data": {
      "text/plain": [
       "[1, 2, 3, 4]"
      ]
     },
     "execution_count": 162,
     "metadata": {},
     "output_type": "execute_result"
    }
   ],
   "source": [
    "## 1\n",
    "b = a\n",
    "b"
   ]
  },
  {
   "cell_type": "code",
   "execution_count": 164,
   "id": "b4a1e1e5-e943-4d22-959b-3a3cc2f6cbc1",
   "metadata": {},
   "outputs": [
    {
     "data": {
      "text/plain": [
       "[1, 2, 3, 4]"
      ]
     },
     "execution_count": 164,
     "metadata": {},
     "output_type": "execute_result"
    }
   ],
   "source": [
    "## 2 (list 일 때)\n",
    "c = a.copy()\n",
    "c"
   ]
  },
  {
   "cell_type": "code",
   "execution_count": 166,
   "id": "2ccf63eb-5e78-4565-80b8-03d56ff56b96",
   "metadata": {},
   "outputs": [
    {
     "data": {
      "text/plain": [
       "[1, 2, 3, 4]"
      ]
     },
     "execution_count": 166,
     "metadata": {},
     "output_type": "execute_result"
    }
   ],
   "source": [
    "## 3\n",
    "import copy\n",
    "d = copy.copy(a)\n",
    "d"
   ]
  },
  {
   "cell_type": "code",
   "execution_count": 168,
   "id": "5c283b2b-74a5-4950-ad0f-81f9d2d803e8",
   "metadata": {},
   "outputs": [
    {
     "data": {
      "text/plain": [
       "[100, 2, 3, 4]"
      ]
     },
     "execution_count": 168,
     "metadata": {},
     "output_type": "execute_result"
    }
   ],
   "source": [
    "b[0] = 100\n",
    "b"
   ]
  },
  {
   "cell_type": "code",
   "execution_count": 169,
   "id": "5dfe87de-afaa-4f89-8476-b9107411f6b5",
   "metadata": {},
   "outputs": [
    {
     "data": {
      "text/plain": [
       "[100, 2, 3, 4]"
      ]
     },
     "execution_count": 169,
     "metadata": {},
     "output_type": "execute_result"
    }
   ],
   "source": [
    "a"
   ]
  },
  {
   "cell_type": "code",
   "execution_count": 170,
   "id": "2d93c08f-0c60-4e49-8302-8e20cbb9b8f7",
   "metadata": {},
   "outputs": [
    {
     "data": {
      "text/plain": [
       "[1, 2, 3, 4]"
      ]
     },
     "execution_count": 170,
     "metadata": {},
     "output_type": "execute_result"
    }
   ],
   "source": [
    "c"
   ]
  },
  {
   "cell_type": "code",
   "execution_count": 171,
   "id": "70bf7aa5-1561-451f-9e04-d02e0fb41b8a",
   "metadata": {},
   "outputs": [
    {
     "data": {
      "text/plain": [
       "[1, 2, 3, 4]"
      ]
     },
     "execution_count": 171,
     "metadata": {},
     "output_type": "execute_result"
    }
   ],
   "source": [
    "d"
   ]
  },
  {
   "cell_type": "code",
   "execution_count": 172,
   "id": "c73cbdc1-8e1c-4d6c-9bb4-cbb0c62757a0",
   "metadata": {},
   "outputs": [
    {
     "name": "stdout",
     "output_type": "stream",
     "text": [
      "1907458726976\n",
      "1907458726976\n",
      "1907457870592\n",
      "1907457870080\n"
     ]
    }
   ],
   "source": [
    "print(id(a))\n",
    "print(id(b))\n",
    "print(id(c))\n",
    "print(id(d))"
   ]
  },
  {
   "cell_type": "code",
   "execution_count": 173,
   "id": "edb22944-7985-4334-95f2-8a934a0a18d8",
   "metadata": {},
   "outputs": [
    {
     "data": {
      "text/plain": [
       "array([1, 2, 3, 4])"
      ]
     },
     "execution_count": 173,
     "metadata": {},
     "output_type": "execute_result"
    }
   ],
   "source": [
    "a = np.array([1, 2, 3, 4])\n",
    "a"
   ]
  },
  {
   "cell_type": "code",
   "execution_count": 174,
   "id": "c9ac9866-20a8-4f1a-a46b-cc7e223349e3",
   "metadata": {},
   "outputs": [
    {
     "data": {
      "text/plain": [
       "array([1, 2, 3, 4])"
      ]
     },
     "execution_count": 174,
     "metadata": {},
     "output_type": "execute_result"
    }
   ],
   "source": [
    "b = a\n",
    "b"
   ]
  },
  {
   "cell_type": "code",
   "execution_count": 175,
   "id": "a653221d-9b8e-41e1-83b8-5fe68fade0dc",
   "metadata": {},
   "outputs": [
    {
     "data": {
      "text/plain": [
       "array([1, 2, 3, 4])"
      ]
     },
     "execution_count": 175,
     "metadata": {},
     "output_type": "execute_result"
    }
   ],
   "source": [
    "c = a.copy()\n",
    "c"
   ]
  },
  {
   "cell_type": "code",
   "execution_count": 176,
   "id": "ec3b73dd-c2d4-468d-977b-d1341977f1f5",
   "metadata": {},
   "outputs": [
    {
     "data": {
      "text/plain": [
       "array([1, 2, 3, 4])"
      ]
     },
     "execution_count": 176,
     "metadata": {},
     "output_type": "execute_result"
    }
   ],
   "source": [
    "d = copy.copy(a)\n",
    "d"
   ]
  },
  {
   "cell_type": "code",
   "execution_count": 179,
   "id": "31fea5a7-3acf-4c8d-8ffb-9c8c7f19720a",
   "metadata": {},
   "outputs": [
    {
     "data": {
      "text/plain": [
       "array([100,   2,   3,   4])"
      ]
     },
     "execution_count": 179,
     "metadata": {},
     "output_type": "execute_result"
    }
   ],
   "source": [
    "b[0] = 100\n",
    "b"
   ]
  },
  {
   "cell_type": "code",
   "execution_count": 178,
   "id": "5f3f09da-43d4-4e9f-9f34-15b3e89c518a",
   "metadata": {},
   "outputs": [
    {
     "data": {
      "text/plain": [
       "array([100,   2,   3,   4])"
      ]
     },
     "execution_count": 178,
     "metadata": {},
     "output_type": "execute_result"
    }
   ],
   "source": [
    "a"
   ]
  },
  {
   "cell_type": "code",
   "execution_count": 180,
   "id": "cd68a1b1-d204-4278-bf02-9a2549c87efe",
   "metadata": {},
   "outputs": [
    {
     "data": {
      "text/plain": [
       "array([1, 2, 3, 4])"
      ]
     },
     "execution_count": 180,
     "metadata": {},
     "output_type": "execute_result"
    }
   ],
   "source": [
    "c"
   ]
  },
  {
   "cell_type": "code",
   "execution_count": 181,
   "id": "cb2e9398-622b-4681-9354-58a6a3ec6065",
   "metadata": {},
   "outputs": [
    {
     "data": {
      "text/plain": [
       "array([1, 2, 3, 4])"
      ]
     },
     "execution_count": 181,
     "metadata": {},
     "output_type": "execute_result"
    }
   ],
   "source": [
    "d"
   ]
  },
  {
   "cell_type": "markdown",
   "id": "997ddd2a-751e-450e-b351-3fc7aaac37d3",
   "metadata": {},
   "source": [
    "- id를 공유하는 상태를 View라고 함"
   ]
  },
  {
   "cell_type": "code",
   "execution_count": 182,
   "id": "283d0456-fb42-42f1-9a1e-5eb669eef159",
   "metadata": {},
   "outputs": [
    {
     "data": {
      "text/plain": [
       "array([1, 3, 5, 7])"
      ]
     },
     "execution_count": 182,
     "metadata": {},
     "output_type": "execute_result"
    }
   ],
   "source": [
    "np.arange(1, 9, 2)"
   ]
  },
  {
   "cell_type": "code",
   "execution_count": 183,
   "id": "4b7885f8-2bd5-40e4-9a2d-d9f56138c24c",
   "metadata": {},
   "outputs": [
    {
     "data": {
      "text/plain": [
       "array([0. , 0.2, 0.4, 0.6, 0.8, 1. ])"
      ]
     },
     "execution_count": 183,
     "metadata": {},
     "output_type": "execute_result"
    }
   ],
   "source": [
    "np.linspace(0, 1, 6)"
   ]
  },
  {
   "cell_type": "code",
   "execution_count": 184,
   "id": "d1a8b835-9a7a-4519-896f-84c8fe5aa123",
   "metadata": {},
   "outputs": [
    {
     "data": {
      "text/plain": [
       "array([[1, 1, 1],\n",
       "       [1, 1, 1],\n",
       "       [1, 1, 1]])"
      ]
     },
     "execution_count": 184,
     "metadata": {},
     "output_type": "execute_result"
    }
   ],
   "source": [
    "np.ones((3, 3), int)"
   ]
  },
  {
   "cell_type": "markdown",
   "id": "852bdb3b-f357-4cde-a942-e64db15a358c",
   "metadata": {},
   "source": [
    "## 배열"
   ]
  },
  {
   "cell_type": "markdown",
   "id": "a0c47afd-2e79-4e91-8399-3583b2213dda",
   "metadata": {},
   "source": [
    "### 배열의 결합"
   ]
  },
  {
   "cell_type": "markdown",
   "id": "3eaaf349-fe69-49b8-a0e4-2c6ca03e9603",
   "metadata": {},
   "source": [
    "- hstack\n",
    "- vstack\n",
    "- stack : 쌓는 것(First In Last Out/선착순의 반대)\n",
    "- 맨 마지막에 입력된(가장 최근 작업) 것을 복구해야할 때 사용됨"
   ]
  },
  {
   "cell_type": "code",
   "execution_count": 188,
   "id": "dd93ca53-6acb-4789-a070-3be00e187be7",
   "metadata": {},
   "outputs": [
    {
     "data": {
      "text/plain": [
       "array([0, 1, 2, 3, 4])"
      ]
     },
     "execution_count": 188,
     "metadata": {},
     "output_type": "execute_result"
    }
   ],
   "source": [
    "a = np.arange(5)\n",
    "a"
   ]
  },
  {
   "cell_type": "code",
   "execution_count": 186,
   "id": "dbc013ae-8669-4046-ac42-42622d2cbdc2",
   "metadata": {},
   "outputs": [
    {
     "data": {
      "text/plain": [
       "array([[ 0, 10, 20, 30, 40],\n",
       "       [ 0, 20, 40, 60, 80]])"
      ]
     },
     "execution_count": 186,
     "metadata": {},
     "output_type": "execute_result"
    }
   ],
   "source": [
    "np.vstack([a * 10, a * 20])"
   ]
  },
  {
   "cell_type": "code",
   "execution_count": 187,
   "id": "ce2e54a9-88a8-4828-9c63-1ad0c97acb77",
   "metadata": {},
   "outputs": [
    {
     "data": {
      "text/plain": [
       "(2, 5)"
      ]
     },
     "execution_count": 187,
     "metadata": {},
     "output_type": "execute_result"
    }
   ],
   "source": [
    "np.vstack([a * 10, a * 20]).shape"
   ]
  },
  {
   "cell_type": "code",
   "execution_count": 191,
   "id": "54570b3f-dfb7-482d-aa1c-52c788d21599",
   "metadata": {},
   "outputs": [
    {
     "name": "stdout",
     "output_type": "stream",
     "text": [
      "[ 0 10 20 30 40 50 60 70 80 90]\n",
      "[  0  20  40  60  80 100 120 140 160 180]\n"
     ]
    }
   ],
   "source": [
    "a = np.arange(0, 100, 10)\n",
    "b = np.arange(10) * 20\n",
    "print(a)\n",
    "print(b)"
   ]
  },
  {
   "cell_type": "code",
   "execution_count": 197,
   "id": "9aef771e-d58b-444f-949e-0727054ae925",
   "metadata": {},
   "outputs": [
    {
     "data": {
      "text/plain": [
       "array([[  0,  10,  20,  30,  40,  50,  60,  70,  80,  90],\n",
       "       [  0,  20,  40,  60,  80, 100, 120, 140, 160, 180]])"
      ]
     },
     "execution_count": 197,
     "metadata": {},
     "output_type": "execute_result"
    }
   ],
   "source": [
    "np.vstack((a, b)) ### 리스트나 array 들어갈 수 있음"
   ]
  },
  {
   "cell_type": "code",
   "execution_count": 195,
   "id": "f15bc115-d063-4a73-85c4-679ec0308444",
   "metadata": {},
   "outputs": [
    {
     "data": {
      "text/plain": [
       "array([  0,  10,  20,  30,  40,  50,  60,  70,  80,  90,   0,  20,  40,\n",
       "        60,  80, 100, 120, 140, 160, 180])"
      ]
     },
     "execution_count": 195,
     "metadata": {},
     "output_type": "execute_result"
    }
   ],
   "source": [
    "np.hstack((a, b))"
   ]
  },
  {
   "cell_type": "code",
   "execution_count": 196,
   "id": "e9d22980-9d7b-402e-a505-a119e0e919cf",
   "metadata": {},
   "outputs": [
    {
     "data": {
      "text/plain": [
       "(20,)"
      ]
     },
     "execution_count": 196,
     "metadata": {},
     "output_type": "execute_result"
    }
   ],
   "source": [
    "np.hstack((a, b)).shape"
   ]
  },
  {
   "cell_type": "code",
   "execution_count": 199,
   "id": "8b2bb05c-b047-4d54-9fd5-4345eab5f88b",
   "metadata": {},
   "outputs": [
    {
     "name": "stdout",
     "output_type": "stream",
     "text": [
      "[[1]\n",
      " [2]\n",
      " [3]]\n",
      "\n",
      "[[2]\n",
      " [3]\n",
      " [4]]\n"
     ]
    }
   ],
   "source": [
    "a = np.array([[1], [2], [3]])\n",
    "b = np.array([[2], [3], [4]])\n",
    "print(a)\n",
    "print(\"\")\n",
    "print(b)"
   ]
  },
  {
   "cell_type": "code",
   "execution_count": 204,
   "id": "ce8892c9-885c-4562-80fb-28b4024104ef",
   "metadata": {},
   "outputs": [
    {
     "data": {
      "text/plain": [
       "array([[1, 2],\n",
       "       [2, 3],\n",
       "       [3, 4]])"
      ]
     },
     "execution_count": 204,
     "metadata": {},
     "output_type": "execute_result"
    }
   ],
   "source": [
    "np.hstack((a, b))"
   ]
  },
  {
   "cell_type": "code",
   "execution_count": 205,
   "id": "e4b65cdc-6183-4a74-b505-97e41880f5e4",
   "metadata": {},
   "outputs": [
    {
     "data": {
      "text/plain": [
       "(3, 2)"
      ]
     },
     "execution_count": 205,
     "metadata": {},
     "output_type": "execute_result"
    }
   ],
   "source": [
    "np.hstack((a, b)).shape"
   ]
  },
  {
   "cell_type": "code",
   "execution_count": 207,
   "id": "7a25d1ea-6e39-4478-a90a-5389122b90bf",
   "metadata": {},
   "outputs": [
    {
     "data": {
      "text/plain": [
       "array([[[1, 2]],\n",
       "\n",
       "       [[2, 3]],\n",
       "\n",
       "       [[3, 4]]])"
      ]
     },
     "execution_count": 207,
     "metadata": {},
     "output_type": "execute_result"
    }
   ],
   "source": [
    "c = np.dstack((a, b))\n",
    "c \n",
    "\n",
    "### 2차원 자료가 더해지면서 3차원이 됨"
   ]
  },
  {
   "cell_type": "code",
   "execution_count": 206,
   "id": "133200d2-5c86-4053-a605-125cbfb53e01",
   "metadata": {},
   "outputs": [
    {
     "data": {
      "text/plain": [
       "(3, 1, 2)"
      ]
     },
     "execution_count": 206,
     "metadata": {},
     "output_type": "execute_result"
    }
   ],
   "source": [
    "c.shape"
   ]
  },
  {
   "cell_type": "markdown",
   "id": "71059e78-2472-4e0c-950c-9500a81dadeb",
   "metadata": {},
   "source": [
    "### 배열의 분리"
   ]
  },
  {
   "cell_type": "markdown",
   "id": "d0b51512-1334-4250-b317-e791afdfdfdd",
   "metadata": {},
   "source": [
    "- hsplit  : 결과물이 수평일 때 ㅁ|ㅁ\n",
    "- vsplit  : 결과물이 수직일 때 믐"
   ]
  },
  {
   "cell_type": "code",
   "execution_count": 210,
   "id": "4a51e4ad-b5a0-44ba-ba8c-04e681623c82",
   "metadata": {},
   "outputs": [
    {
     "data": {
      "text/plain": [
       "array([[ 0,  1,  2,  3,  4,  5,  6,  7],\n",
       "       [ 8,  9, 10, 11, 12, 13, 14, 15],\n",
       "       [16, 17, 18, 19, 20, 21, 22, 23],\n",
       "       [24, 25, 26, 27, 28, 29, 30, 31]])"
      ]
     },
     "execution_count": 210,
     "metadata": {},
     "output_type": "execute_result"
    }
   ],
   "source": [
    "a = np.arange(32).reshape(4, 8)\n",
    "a"
   ]
  },
  {
   "cell_type": "code",
   "execution_count": 211,
   "id": "318669dd-83e3-410e-b7ba-58861f11be1d",
   "metadata": {},
   "outputs": [
    {
     "data": {
      "text/plain": [
       "[array([[ 0,  1,  2,  3],\n",
       "        [ 8,  9, 10, 11],\n",
       "        [16, 17, 18, 19],\n",
       "        [24, 25, 26, 27]]),\n",
       " array([[ 4,  5,  6,  7],\n",
       "        [12, 13, 14, 15],\n",
       "        [20, 21, 22, 23],\n",
       "        [28, 29, 30, 31]])]"
      ]
     },
     "execution_count": 211,
     "metadata": {},
     "output_type": "execute_result"
    }
   ],
   "source": [
    "np.hsplit(a, 2)"
   ]
  },
  {
   "cell_type": "code",
   "execution_count": 213,
   "id": "d5800552-e53a-421f-9fba-a847b134bf17",
   "metadata": {},
   "outputs": [
    {
     "data": {
      "text/plain": [
       "[array([[ 0,  1],\n",
       "        [ 8,  9],\n",
       "        [16, 17],\n",
       "        [24, 25]]),\n",
       " array([[ 2,  3],\n",
       "        [10, 11],\n",
       "        [18, 19],\n",
       "        [26, 27]]),\n",
       " array([[ 4,  5],\n",
       "        [12, 13],\n",
       "        [20, 21],\n",
       "        [28, 29]]),\n",
       " array([[ 6,  7],\n",
       "        [14, 15],\n",
       "        [22, 23],\n",
       "        [30, 31]])]"
      ]
     },
     "execution_count": 213,
     "metadata": {},
     "output_type": "execute_result"
    }
   ],
   "source": [
    "np.hsplit(a, 4)"
   ]
  },
  {
   "cell_type": "code",
   "execution_count": 212,
   "id": "f98fc385-f138-4687-b645-efa130dead9f",
   "metadata": {},
   "outputs": [
    {
     "data": {
      "text/plain": [
       "[array([[ 0,  1,  2,  3,  4,  5,  6,  7],\n",
       "        [ 8,  9, 10, 11, 12, 13, 14, 15]]),\n",
       " array([[16, 17, 18, 19, 20, 21, 22, 23],\n",
       "        [24, 25, 26, 27, 28, 29, 30, 31]])]"
      ]
     },
     "execution_count": 212,
     "metadata": {},
     "output_type": "execute_result"
    }
   ],
   "source": [
    "np.vsplit(a, 2)"
   ]
  },
  {
   "cell_type": "code",
   "execution_count": 215,
   "id": "76d0a065-d590-4888-b8d8-4a55f6c4bd60",
   "metadata": {},
   "outputs": [
    {
     "data": {
      "text/plain": [
       "[array([[0, 1, 2, 3, 4, 5, 6, 7]]),\n",
       " array([[ 8,  9, 10, 11, 12, 13, 14, 15]]),\n",
       " array([[16, 17, 18, 19, 20, 21, 22, 23]]),\n",
       " array([[24, 25, 26, 27, 28, 29, 30, 31]])]"
      ]
     },
     "execution_count": 215,
     "metadata": {},
     "output_type": "execute_result"
    }
   ],
   "source": [
    "np.vsplit(a, 4)"
   ]
  },
  {
   "cell_type": "markdown",
   "id": "fe362ec0-d374-4cb2-b750-5c2d748adf83",
   "metadata": {},
   "source": [
    "## Numpy의 shape 변경 함수"
   ]
  },
  {
   "cell_type": "markdown",
   "id": "b0004713-e02f-45de-8685-5c08704709cc",
   "metadata": {},
   "source": [
    "- reshape - 함수로도 사용되나 메소드로 더 많이 사용됨\n",
    "- flatten\n",
    "- ravel"
   ]
  },
  {
   "cell_type": "code",
   "execution_count": 218,
   "id": "fa66a1d5-d25c-4c7f-be4f-5f81a80f37c4",
   "metadata": {},
   "outputs": [
    {
     "data": {
      "text/plain": [
       "(4, 8)"
      ]
     },
     "execution_count": 218,
     "metadata": {},
     "output_type": "execute_result"
    }
   ],
   "source": [
    "a.shape"
   ]
  },
  {
   "cell_type": "code",
   "execution_count": 219,
   "id": "67e8e8ac-72d8-4df3-b91d-17268aeea2d5",
   "metadata": {},
   "outputs": [
    {
     "data": {
      "text/plain": [
       "array([ 0,  1,  2,  3,  4,  5,  6,  7,  8,  9, 10, 11, 12, 13, 14, 15, 16,\n",
       "       17, 18, 19, 20, 21, 22, 23, 24, 25, 26, 27, 28, 29, 30, 31])"
      ]
     },
     "execution_count": 219,
     "metadata": {},
     "output_type": "execute_result"
    }
   ],
   "source": [
    "a.flatten() ### return copy"
   ]
  },
  {
   "cell_type": "code",
   "execution_count": 221,
   "id": "4d155fa9-199c-40eb-a0ee-c2228a16a6f1",
   "metadata": {},
   "outputs": [
    {
     "data": {
      "text/plain": [
       "(32,)"
      ]
     },
     "execution_count": 221,
     "metadata": {},
     "output_type": "execute_result"
    }
   ],
   "source": [
    "a.flatten().shape"
   ]
  },
  {
   "cell_type": "code",
   "execution_count": 223,
   "id": "6dfc3366-05eb-4bba-a9e6-fd2825aed185",
   "metadata": {},
   "outputs": [
    {
     "data": {
      "text/plain": [
       "array([ 0,  1,  2,  3,  4,  5,  6,  7,  8,  9, 10, 11, 12, 13, 14, 15, 16,\n",
       "       17, 18, 19, 20, 21, 22, 23, 24, 25, 26, 27, 28, 29, 30, 31])"
      ]
     },
     "execution_count": 223,
     "metadata": {},
     "output_type": "execute_result"
    }
   ],
   "source": [
    "a.ravel() ### View (복사본이 아니라 그 자체를 바꿈)"
   ]
  },
  {
   "cell_type": "markdown",
   "id": "e8730e71-c32c-4fa3-98a8-f7d4ebe51006",
   "metadata": {},
   "source": [
    "- transpose : 행과 열의 위치를 바꿈(행렬의 곱셈을 가능하게 해줌)"
   ]
  },
  {
   "cell_type": "code",
   "execution_count": 227,
   "id": "413eba7f-ce65-4fc2-b0a1-b6f950f427dd",
   "metadata": {},
   "outputs": [
    {
     "data": {
      "text/plain": [
       "array([[1, 2],\n",
       "       [3, 4],\n",
       "       [5, 6]])"
      ]
     },
     "execution_count": 227,
     "metadata": {},
     "output_type": "execute_result"
    }
   ],
   "source": [
    "a = np.arange(1,7).reshape(3, 2)\n",
    "a"
   ]
  },
  {
   "cell_type": "code",
   "execution_count": 228,
   "id": "ebde2a8a-caa4-4336-a111-6267239afd33",
   "metadata": {},
   "outputs": [
    {
     "data": {
      "text/plain": [
       "array([[1, 3, 5],\n",
       "       [2, 4, 6]])"
      ]
     },
     "execution_count": 228,
     "metadata": {},
     "output_type": "execute_result"
    }
   ],
   "source": [
    "a.T"
   ]
  },
  {
   "cell_type": "code",
   "execution_count": 229,
   "id": "e816edd8-eee9-4013-95a3-5b601d5e39e5",
   "metadata": {},
   "outputs": [
    {
     "data": {
      "text/plain": [
       "array([[1, 3, 5],\n",
       "       [2, 4, 6]])"
      ]
     },
     "execution_count": 229,
     "metadata": {},
     "output_type": "execute_result"
    }
   ],
   "source": [
    "np.transpose(a)"
   ]
  },
  {
   "cell_type": "code",
   "execution_count": 230,
   "id": "1caa7c96-e55a-4ba8-8699-8a23d0f2b9cc",
   "metadata": {},
   "outputs": [
    {
     "data": {
      "text/plain": [
       "array([[1, 3, 5],\n",
       "       [2, 4, 6]])"
      ]
     },
     "execution_count": 230,
     "metadata": {},
     "output_type": "execute_result"
    }
   ],
   "source": [
    "np.swapaxes(a, 0, 1)"
   ]
  },
  {
   "cell_type": "code",
   "execution_count": 238,
   "id": "8c8304c5-50fb-4ce3-b962-681fd119f7a9",
   "metadata": {},
   "outputs": [
    {
     "data": {
      "text/plain": [
       "array([[1, 2, 3],\n",
       "       [4, 5, 6]])"
      ]
     },
     "execution_count": 238,
     "metadata": {},
     "output_type": "execute_result"
    }
   ],
   "source": [
    "a = np.array([1, 2, 3])\n",
    "b = np.array([4, 5, 6])\n",
    "\n",
    "c = np.vstack((a, b))\n",
    "c"
   ]
  },
  {
   "cell_type": "code",
   "execution_count": 240,
   "id": "ff0ff493-f45e-4f76-bf7a-c121757ef4dd",
   "metadata": {},
   "outputs": [
    {
     "data": {
      "text/plain": [
       "[array([[1, 2, 3]]), array([[4, 5, 6]])]"
      ]
     },
     "execution_count": 240,
     "metadata": {},
     "output_type": "execute_result"
    }
   ],
   "source": [
    "d = np.vsplit(c, 2)\n",
    "d"
   ]
  },
  {
   "cell_type": "markdown",
   "id": "3f05d209-fb7f-432a-8c83-bfea92f824ad",
   "metadata": {},
   "source": [
    "## 비교(Comparison)"
   ]
  },
  {
   "cell_type": "code",
   "execution_count": 242,
   "id": "692ac8d9-f411-43b4-a0d7-473efab975cb",
   "metadata": {},
   "outputs": [
    {
     "data": {
      "text/plain": [
       "array([ True, False, False, False])"
      ]
     },
     "execution_count": 242,
     "metadata": {},
     "output_type": "execute_result"
    }
   ],
   "source": [
    "a = np.array([1, 2, 3, 4])\n",
    "b = np.array([1, 3, 4, 2])\n",
    "\n",
    "a == b ## 안에 있는 각각의 성분을 비교해줌"
   ]
  },
  {
   "cell_type": "code",
   "execution_count": 243,
   "id": "6c98b9ee-83fc-4b1e-a5cf-96f010085689",
   "metadata": {},
   "outputs": [
    {
     "data": {
      "text/plain": [
       "array([False, False,  True,  True])"
      ]
     },
     "execution_count": 243,
     "metadata": {},
     "output_type": "execute_result"
    }
   ],
   "source": [
    "a > 2"
   ]
  },
  {
   "cell_type": "code",
   "execution_count": 244,
   "id": "dac93ab2-4a03-4b06-b40e-3e4dc1221789",
   "metadata": {},
   "outputs": [
    {
     "data": {
      "text/plain": [
       "array([3, 4])"
      ]
     },
     "execution_count": 244,
     "metadata": {},
     "output_type": "execute_result"
    }
   ],
   "source": [
    "a[a > 2]"
   ]
  },
  {
   "cell_type": "markdown",
   "id": "70647d1a-302a-4da4-a95d-acb7400ac466",
   "metadata": {},
   "source": [
    "## 정렬(Sorting)"
   ]
  },
  {
   "cell_type": "code",
   "execution_count": 245,
   "id": "3379cbdc-f629-4e01-a295-edf7d90e1172",
   "metadata": {},
   "outputs": [
    {
     "data": {
      "text/plain": [
       "array([1, 3, 4, 2])"
      ]
     },
     "execution_count": 245,
     "metadata": {},
     "output_type": "execute_result"
    }
   ],
   "source": [
    "a = np.array([1, 3, 4, 2])\n",
    "a"
   ]
  },
  {
   "cell_type": "code",
   "execution_count": 246,
   "id": "6890bcf2-739b-439a-9fdd-ce39efe2fece",
   "metadata": {},
   "outputs": [
    {
     "data": {
      "text/plain": [
       "array([1, 2, 3, 4])"
      ]
     },
     "execution_count": 246,
     "metadata": {},
     "output_type": "execute_result"
    }
   ],
   "source": [
    "np.sort(a)"
   ]
  },
  {
   "cell_type": "code",
   "execution_count": 247,
   "id": "bf1530f1-0105-45f9-b791-bd0f582d5449",
   "metadata": {},
   "outputs": [
    {
     "data": {
      "text/plain": [
       "array([1, 3, 4, 2])"
      ]
     },
     "execution_count": 247,
     "metadata": {},
     "output_type": "execute_result"
    }
   ],
   "source": [
    "a"
   ]
  },
  {
   "cell_type": "code",
   "execution_count": 248,
   "id": "8c3352f3-2eba-4fe8-a939-311cd4362fd3",
   "metadata": {},
   "outputs": [],
   "source": [
    "a.sort()"
   ]
  },
  {
   "cell_type": "code",
   "execution_count": 249,
   "id": "b884cfe5-6155-45f9-97c9-5b186a9fb806",
   "metadata": {},
   "outputs": [
    {
     "data": {
      "text/plain": [
       "array([1, 2, 3, 4])"
      ]
     },
     "execution_count": 249,
     "metadata": {},
     "output_type": "execute_result"
    }
   ],
   "source": [
    "a"
   ]
  },
  {
   "cell_type": "code",
   "execution_count": 251,
   "id": "c80ba3dd-09db-4bff-a3df-849ac8cbb9e3",
   "metadata": {},
   "outputs": [
    {
     "data": {
      "text/plain": [
       "array([4, 3, 2, 1])"
      ]
     },
     "execution_count": 251,
     "metadata": {},
     "output_type": "execute_result"
    }
   ],
   "source": [
    "### reverse\n",
    "a[: :-1]"
   ]
  },
  {
   "cell_type": "code",
   "execution_count": 252,
   "id": "ec664abe-578e-4e6f-8259-846ea24c6ddb",
   "metadata": {},
   "outputs": [
    {
     "data": {
      "text/plain": [
       "array([[2, 1, 6],\n",
       "       [0, 7, 4],\n",
       "       [5, 3, 2]])"
      ]
     },
     "execution_count": 252,
     "metadata": {},
     "output_type": "execute_result"
    }
   ],
   "source": [
    "### 축을 지정하여 정렬\n",
    "x = np.array([[2, 1, 6], \n",
    "            [0, 7, 4],\n",
    "            [5, 3, 2]])\n",
    "x"
   ]
  },
  {
   "cell_type": "code",
   "execution_count": 255,
   "id": "7a206c52-7337-4a77-ab18-d8dc3f51cb43",
   "metadata": {},
   "outputs": [
    {
     "data": {
      "text/plain": [
       "array([[0, 1, 2],\n",
       "       [2, 3, 4],\n",
       "       [5, 7, 6]])"
      ]
     },
     "execution_count": 255,
     "metadata": {},
     "output_type": "execute_result"
    }
   ],
   "source": [
    "np.sort(x, axis = 0) ## 열만 생각하고 각각의 열대로 배열함 / row-wise"
   ]
  },
  {
   "cell_type": "code",
   "execution_count": 254,
   "id": "85c91ba0-948a-48fb-ac59-390a939d8f62",
   "metadata": {},
   "outputs": [
    {
     "data": {
      "text/plain": [
       "array([[1, 2, 6],\n",
       "       [0, 4, 7],\n",
       "       [2, 3, 5]])"
      ]
     },
     "execution_count": 254,
     "metadata": {},
     "output_type": "execute_result"
    }
   ],
   "source": [
    "np.sort(x, axis = 1) ## 행 / column-wise"
   ]
  },
  {
   "cell_type": "markdown",
   "id": "244f346b-a736-40f7-bc05-49f208397673",
   "metadata": {},
   "source": [
    "## 인덱싱"
   ]
  },
  {
   "cell_type": "markdown",
   "id": "01f06a74-d7d8-496c-8b50-ee8414033bbf",
   "metadata": {},
   "source": [
    "## 슬라이싱"
   ]
  },
  {
   "cell_type": "code",
   "execution_count": 273,
   "id": "a19160f6-3751-481b-a16a-b8ac30ff7712",
   "metadata": {},
   "outputs": [
    {
     "data": {
      "text/plain": [
       "array([10, 11, 12, 13, 14, 15])"
      ]
     },
     "execution_count": 273,
     "metadata": {},
     "output_type": "execute_result"
    }
   ],
   "source": [
    "a = np.arange(0, 6)\n",
    "a + 10"
   ]
  },
  {
   "cell_type": "code",
   "execution_count": 279,
   "id": "6dd3f57e-5f5d-40f6-aa26-1ca50ed0f230",
   "metadata": {},
   "outputs": [
    {
     "data": {
      "text/plain": [
       "array([[ 0,  1,  2,  3,  4,  5],\n",
       "       [10, 11, 12, 13, 14, 15],\n",
       "       [20, 21, 22, 23, 24, 25],\n",
       "       [30, 31, 32, 33, 34, 35],\n",
       "       [40, 41, 42, 43, 44, 45],\n",
       "       [50, 51, 52, 53, 54, 55]])"
      ]
     },
     "execution_count": 279,
     "metadata": {},
     "output_type": "execute_result"
    }
   ],
   "source": [
    "a = np.arange(6)\n",
    "array = a.copy()\n",
    "for i in range(5):\n",
    "    i+=1\n",
    "    array = np.vstack((array, a+10*i))\n",
    "array "
   ]
  },
  {
   "cell_type": "code",
   "execution_count": 280,
   "id": "ec23b861-52c9-41f0-9ad2-ff0794dd92ad",
   "metadata": {},
   "outputs": [
    {
     "data": {
      "text/plain": [
       "array([[ 0,  1,  2,  3,  4,  5],\n",
       "       [10, 11, 12, 13, 14, 15],\n",
       "       [20, 21, 22, 23, 24, 25],\n",
       "       [30, 31, 32, 33, 34, 35],\n",
       "       [40, 41, 42, 43, 44, 45],\n",
       "       [50, 51, 52, 53, 54, 55]])"
      ]
     },
     "execution_count": 280,
     "metadata": {},
     "output_type": "execute_result"
    }
   ],
   "source": [
    "a = np.array([0,1,2,3,4,5])\n",
    "b = np.array([[0],[10],[20],[30],[40],[50]])\n",
    "a+b "
   ]
  },
  {
   "cell_type": "code",
   "execution_count": 281,
   "id": "e237e377-6b62-45d6-9598-4afc9ae30321",
   "metadata": {},
   "outputs": [
    {
     "data": {
      "text/plain": [
       "array([[ 0,  1,  2,  3,  4,  5],\n",
       "       [10, 11, 12, 13, 14, 15],\n",
       "       [20, 21, 22, 23, 24, 25],\n",
       "       [30, 31, 32, 33, 34, 35],\n",
       "       [40, 41, 42, 43, 44, 45],\n",
       "       [50, 51, 52, 53, 54, 55]])"
      ]
     },
     "execution_count": 281,
     "metadata": {},
     "output_type": "execute_result"
    }
   ],
   "source": [
    "a = np.arange(100).reshape(10,10)\n",
    "a = a[0:6:1,0:6:1]\n",
    "a "
   ]
  },
  {
   "cell_type": "code",
   "execution_count": 287,
   "id": "bd7c2dfa-6269-45ca-8557-7dfd36b3106b",
   "metadata": {},
   "outputs": [
    {
     "data": {
      "text/plain": [
       "array([ 2, 12, 22, 32, 42, 52])"
      ]
     },
     "execution_count": 287,
     "metadata": {},
     "output_type": "execute_result"
    }
   ],
   "source": [
    "a[:,2]"
   ]
  },
  {
   "cell_type": "code",
   "execution_count": 289,
   "id": "ef8d2d7e-184c-445c-8165-1d8f639e6d3e",
   "metadata": {},
   "outputs": [
    {
     "data": {
      "text/plain": [
       "array([3, 4])"
      ]
     },
     "execution_count": 289,
     "metadata": {},
     "output_type": "execute_result"
    }
   ],
   "source": [
    "a[0,3:5]"
   ]
  },
  {
   "cell_type": "code",
   "execution_count": 307,
   "id": "daeecc54-5b07-46c7-9ad7-75ba93038669",
   "metadata": {},
   "outputs": [
    {
     "data": {
      "text/plain": [
       "array([[44, 45],\n",
       "       [54, 55]])"
      ]
     },
     "execution_count": 307,
     "metadata": {},
     "output_type": "execute_result"
    }
   ],
   "source": [
    "a[4:6, 4:6]"
   ]
  },
  {
   "cell_type": "code",
   "execution_count": 305,
   "id": "a97db536-192b-4549-aa05-62eea7d7a2f1",
   "metadata": {},
   "outputs": [
    {
     "data": {
      "text/plain": [
       "array([[20, 22, 24],\n",
       "       [40, 42, 44]])"
      ]
     },
     "execution_count": 305,
     "metadata": {},
     "output_type": "execute_result"
    }
   ],
   "source": [
    "a[2::2, 0::2]"
   ]
  },
  {
   "cell_type": "code",
   "execution_count": 308,
   "id": "e63f7f14-9ac3-468e-a668-89a530aa7359",
   "metadata": {},
   "outputs": [
    {
     "data": {
      "text/plain": [
       "array([[ 0,  1,  2,  3,  4,  5],\n",
       "       [10, 11, 12, 13, 14, 15]])"
      ]
     },
     "execution_count": 308,
     "metadata": {},
     "output_type": "execute_result"
    }
   ],
   "source": [
    "a[ :2]"
   ]
  },
  {
   "cell_type": "markdown",
   "id": "0d2a7528-97bc-4b5f-8838-79da36682724",
   "metadata": {},
   "source": [
    "## 팬시 인덱싱(Fancy Indexing)"
   ]
  },
  {
   "cell_type": "markdown",
   "id": "89db2a15-b224-45ff-8c4e-f2bfbd20edd4",
   "metadata": {},
   "source": [
    "- indexing by position\n",
    "- indexing by boolean\n",
    "- indexing by condition"
   ]
  },
  {
   "cell_type": "code",
   "execution_count": 309,
   "id": "ebf76cd1-600b-40aa-840a-286742c0e613",
   "metadata": {},
   "outputs": [
    {
     "data": {
      "text/plain": [
       "array([[10, 11, 12, 13, 14, 15],\n",
       "       [20, 21, 22, 23, 24, 25],\n",
       "       [30, 31, 32, 33, 34, 35]])"
      ]
     },
     "execution_count": 309,
     "metadata": {},
     "output_type": "execute_result"
    }
   ],
   "source": [
    "### position\n",
    "indicies = [1, 2, -3]\n",
    "a[indicies]"
   ]
  },
  {
   "cell_type": "code",
   "execution_count": 311,
   "id": "7196a6c7-49ef-47a3-850b-0e88cd934a86",
   "metadata": {},
   "outputs": [
    {
     "data": {
      "text/plain": [
       "array([ 0, 10, 20, 30, 40, 50, 60, 70])"
      ]
     },
     "execution_count": 311,
     "metadata": {},
     "output_type": "execute_result"
    }
   ],
   "source": [
    "a = np.arange(8)*10\n",
    "a"
   ]
  },
  {
   "cell_type": "code",
   "execution_count": 312,
   "id": "bb76aa86-7506-461c-bd52-fb79a5b9cc8e",
   "metadata": {},
   "outputs": [
    {
     "data": {
      "text/plain": [
       "array([10, 20, 50])"
      ]
     },
     "execution_count": 312,
     "metadata": {},
     "output_type": "execute_result"
    }
   ],
   "source": [
    "a[[1, 2, -3]]"
   ]
  },
  {
   "cell_type": "code",
   "execution_count": 313,
   "id": "49b30ff2-ccd2-46a5-977a-d1e574383d74",
   "metadata": {},
   "outputs": [
    {
     "data": {
      "text/plain": [
       "array([10, 20, 50])"
      ]
     },
     "execution_count": 313,
     "metadata": {},
     "output_type": "execute_result"
    }
   ],
   "source": [
    "### boolean\n",
    "mask = [False, True, True, False, False, True, False, False]\n",
    "a[mask]"
   ]
  },
  {
   "cell_type": "code",
   "execution_count": 316,
   "id": "97f6d405-c66a-49f2-9cd6-e6a5efef8b9d",
   "metadata": {},
   "outputs": [
    {
     "data": {
      "text/plain": [
       "array([10, 20, 50])"
      ]
     },
     "execution_count": 316,
     "metadata": {},
     "output_type": "execute_result"
    }
   ],
   "source": [
    "mask = np.array([0, 1, 1, 0, 0, 1, 0, 0], dtype = bool)\n",
    "a[mask]"
   ]
  },
  {
   "cell_type": "markdown",
   "id": "96f558f2-c226-444b-a2fd-c825cabffd89",
   "metadata": {},
   "source": [
    "팬시 인덱싱"
   ]
  },
  {
   "cell_type": "code",
   "execution_count": 317,
   "id": "c8323c8c-04de-42fb-a7ea-721c4deedb45",
   "metadata": {},
   "outputs": [
    {
     "data": {
      "text/plain": [
       "array([[ 0,  1,  2,  3],\n",
       "       [ 4,  5,  6,  7],\n",
       "       [ 8,  9, 10, 11]])"
      ]
     },
     "execution_count": 317,
     "metadata": {},
     "output_type": "execute_result"
    }
   ],
   "source": [
    "a = np.arange(12).reshape(3, 4)\n",
    "a"
   ]
  },
  {
   "cell_type": "code",
   "execution_count": 320,
   "id": "45177d99-7b18-4841-a685-05c74f3cab0d",
   "metadata": {},
   "outputs": [
    {
     "data": {
      "text/plain": [
       "[1, 6, 8, 11]"
      ]
     },
     "execution_count": 320,
     "metadata": {},
     "output_type": "execute_result"
    }
   ],
   "source": [
    "[a[0, 1], a[1, 2], a[2, 0], a[2, 3]]"
   ]
  },
  {
   "cell_type": "code",
   "execution_count": 321,
   "id": "416d477d-38fb-4b86-98e5-e686100f9fbb",
   "metadata": {},
   "outputs": [
    {
     "data": {
      "text/plain": [
       "array([ 1,  6,  8, 11])"
      ]
     },
     "execution_count": 321,
     "metadata": {},
     "output_type": "execute_result"
    }
   ],
   "source": [
    "a[[0, 1, 2, 2], [1, 2, 0, 3]]\n",
    "\n",
    "## 바로 윗줄과 같은 표현임"
   ]
  },
  {
   "cell_type": "code",
   "execution_count": 323,
   "id": "c6dfcb4a-6530-403f-8da1-99f4c514085a",
   "metadata": {},
   "outputs": [
    {
     "data": {
      "text/plain": [
       "array([[ 0,  1,  2,  3,  4],\n",
       "       [ 5,  6,  7,  8,  9],\n",
       "       [10, 11, 12, 13, 14],\n",
       "       [15, 16, 17, 18, 19],\n",
       "       [20, 21, 22, 23, 24]])"
      ]
     },
     "execution_count": 323,
     "metadata": {},
     "output_type": "execute_result"
    }
   ],
   "source": [
    "a = np.arange(25).reshape(5, -1)\n",
    "a"
   ]
  },
  {
   "cell_type": "code",
   "execution_count": 324,
   "id": "c9d80d1d-5629-4012-83d9-07ec223ee81b",
   "metadata": {},
   "outputs": [
    {
     "data": {
      "text/plain": [
       "array([ 1,  7, 13, 19])"
      ]
     },
     "execution_count": 324,
     "metadata": {},
     "output_type": "execute_result"
    }
   ],
   "source": [
    "a[[0, 1, 2, 3], [1, 2, 3, 4]]"
   ]
  },
  {
   "cell_type": "markdown",
   "id": "c0200f1b-0f4c-4a5e-a2fd-ae88bda64fb5",
   "metadata": {},
   "source": [
    "## Broadcasting"
   ]
  },
  {
   "cell_type": "code",
   "execution_count": 327,
   "id": "f6dade5a-64d3-4594-a134-330400987dba",
   "metadata": {},
   "outputs": [
    {
     "data": {
      "text/plain": [
       "array([[1., 1., 1., 1., 1.],\n",
       "       [1., 1., 1., 1., 1.],\n",
       "       [1., 1., 1., 1., 1.]])"
      ]
     },
     "execution_count": 327,
     "metadata": {},
     "output_type": "execute_result"
    }
   ],
   "source": [
    "a = np.ones((3, 5))\n",
    "a"
   ]
  },
  {
   "cell_type": "code",
   "execution_count": 329,
   "id": "ee52823e-c42b-42ec-b000-aecc1e7713a7",
   "metadata": {},
   "outputs": [
    {
     "data": {
      "text/plain": [
       "array([1., 1., 1., 1., 1.])"
      ]
     },
     "execution_count": 329,
     "metadata": {},
     "output_type": "execute_result"
    }
   ],
   "source": [
    "b = np.ones((5,))\n",
    "b"
   ]
  },
  {
   "cell_type": "code",
   "execution_count": 330,
   "id": "37e40115-4847-4c9d-b316-293956c91e8a",
   "metadata": {},
   "outputs": [
    {
     "data": {
      "text/plain": [
       "array([[2., 2., 2., 2., 2.],\n",
       "       [2., 2., 2., 2., 2.],\n",
       "       [2., 2., 2., 2., 2.]])"
      ]
     },
     "execution_count": 330,
     "metadata": {},
     "output_type": "execute_result"
    }
   ],
   "source": [
    "a + b"
   ]
  },
  {
   "cell_type": "markdown",
   "id": "ad0d9985-675a-45c4-97a8-d6d276db210b",
   "metadata": {},
   "source": [
    "## Universal Functions(ufuncs)"
   ]
  },
  {
   "cell_type": "code",
   "execution_count": 334,
   "id": "b0c1441d-3ea9-4144-886b-56cb7eedb685",
   "metadata": {},
   "outputs": [
    {
     "data": {
      "text/plain": [
       "array([[1, 2, 3],\n",
       "       [4, 5, 6]])"
      ]
     },
     "execution_count": 334,
     "metadata": {},
     "output_type": "execute_result"
    }
   ],
   "source": [
    "a = np.array([[1, 2, 3], [4, 5, 6]])\n",
    "a"
   ]
  },
  {
   "cell_type": "code",
   "execution_count": 335,
   "id": "2380ed77-d3ac-42dc-a919-28f7be4132e0",
   "metadata": {},
   "outputs": [
    {
     "data": {
      "text/plain": [
       "array([5, 7, 9])"
      ]
     },
     "execution_count": 335,
     "metadata": {},
     "output_type": "execute_result"
    }
   ],
   "source": [
    "sum(a)"
   ]
  },
  {
   "cell_type": "code",
   "execution_count": 336,
   "id": "10f0f700-f018-4e5a-8772-f8c670582d1e",
   "metadata": {},
   "outputs": [
    {
     "data": {
      "text/plain": [
       "21"
      ]
     },
     "execution_count": 336,
     "metadata": {},
     "output_type": "execute_result"
    }
   ],
   "source": [
    "np.sum(a)"
   ]
  },
  {
   "cell_type": "code",
   "execution_count": 337,
   "id": "b24e301c-601f-4d8f-841e-c74e19ef2760",
   "metadata": {},
   "outputs": [
    {
     "data": {
      "text/plain": [
       "array([5, 7, 9])"
      ]
     },
     "execution_count": 337,
     "metadata": {},
     "output_type": "execute_result"
    }
   ],
   "source": [
    "np.sum(a, axis = 0)"
   ]
  },
  {
   "cell_type": "code",
   "execution_count": 338,
   "id": "b0a4690d-1451-4cf4-87b4-ad6e19524689",
   "metadata": {},
   "outputs": [
    {
     "data": {
      "text/plain": [
       "array([ 6, 15])"
      ]
     },
     "execution_count": 338,
     "metadata": {},
     "output_type": "execute_result"
    }
   ],
   "source": [
    "np.sum(a, axis = 1)"
   ]
  },
  {
   "cell_type": "code",
   "execution_count": 339,
   "id": "06a293c3-bcd9-4373-ba69-b77450235b81",
   "metadata": {},
   "outputs": [
    {
     "data": {
      "text/plain": [
       "1"
      ]
     },
     "execution_count": 339,
     "metadata": {},
     "output_type": "execute_result"
    }
   ],
   "source": [
    "np.min(a)"
   ]
  },
  {
   "cell_type": "code",
   "execution_count": 341,
   "id": "19640719-bc87-4c52-97a1-1adc11da3f75",
   "metadata": {},
   "outputs": [
    {
     "data": {
      "text/plain": [
       "6"
      ]
     },
     "execution_count": 341,
     "metadata": {},
     "output_type": "execute_result"
    }
   ],
   "source": [
    "np.max(a)"
   ]
  },
  {
   "cell_type": "code",
   "execution_count": 342,
   "id": "863034ed-c7c1-4212-868b-1b432753487e",
   "metadata": {},
   "outputs": [
    {
     "data": {
      "text/plain": [
       "array([1, 2, 3])"
      ]
     },
     "execution_count": 342,
     "metadata": {},
     "output_type": "execute_result"
    }
   ],
   "source": [
    "np.min(a, axis = 0)"
   ]
  },
  {
   "cell_type": "code",
   "execution_count": 343,
   "id": "a9922414-7265-4700-baf6-6654c854f4f4",
   "metadata": {},
   "outputs": [
    {
     "data": {
      "text/plain": [
       "array([1, 4])"
      ]
     },
     "execution_count": 343,
     "metadata": {},
     "output_type": "execute_result"
    }
   ],
   "source": [
    "np.min(a, axis = 1)"
   ]
  },
  {
   "cell_type": "code",
   "execution_count": 347,
   "id": "bb7f4278-9cb6-4529-b389-44eaefd20dc4",
   "metadata": {},
   "outputs": [
    {
     "data": {
      "text/plain": [
       "0"
      ]
     },
     "execution_count": 347,
     "metadata": {},
     "output_type": "execute_result"
    }
   ],
   "source": [
    "np.argmin(a) ### 1행으로 쭉 펼쳐놓고 min이 되는 index(y가 최소일 때의 x)"
   ]
  },
  {
   "cell_type": "code",
   "execution_count": 346,
   "id": "221844bc-49ed-4db6-b53e-09541f116c3b",
   "metadata": {},
   "outputs": [
    {
     "data": {
      "text/plain": [
       "5"
      ]
     },
     "execution_count": 346,
     "metadata": {},
     "output_type": "execute_result"
    }
   ],
   "source": [
    "np.argmax(a) ### 1행으로 쭉 펼쳐놓고 max가 되는 index"
   ]
  },
  {
   "cell_type": "code",
   "execution_count": 349,
   "id": "2a819bc5-5b2d-45ee-84d9-bc63e5e8b799",
   "metadata": {},
   "outputs": [
    {
     "data": {
      "text/plain": [
       "3.5"
      ]
     },
     "execution_count": 349,
     "metadata": {},
     "output_type": "execute_result"
    }
   ],
   "source": [
    "np.mean(a)"
   ]
  },
  {
   "cell_type": "code",
   "execution_count": 350,
   "id": "ed87601c-522c-4419-8d4f-8a520dcc950e",
   "metadata": {},
   "outputs": [
    {
     "data": {
      "text/plain": [
       "array([5, 7, 9])"
      ]
     },
     "execution_count": 350,
     "metadata": {},
     "output_type": "execute_result"
    }
   ],
   "source": [
    "a = np.array([1, 2, 3])\n",
    "b = np.array([4, 5, 6])\n",
    "a + b"
   ]
  },
  {
   "cell_type": "code",
   "execution_count": 351,
   "id": "195d7a85-082b-4e1d-9f14-34fb45c9f30c",
   "metadata": {},
   "outputs": [
    {
     "data": {
      "text/plain": [
       "array([  1,  32, 729])"
      ]
     },
     "execution_count": 351,
     "metadata": {},
     "output_type": "execute_result"
    }
   ],
   "source": [
    "a**b"
   ]
  },
  {
   "cell_type": "code",
   "execution_count": 352,
   "id": "4019546e-c07c-4dc2-8632-a9fc87572bea",
   "metadata": {},
   "outputs": [
    {
     "data": {
      "text/plain": [
       "array([0.84147098, 0.90929743, 0.14112001])"
      ]
     },
     "execution_count": 352,
     "metadata": {},
     "output_type": "execute_result"
    }
   ],
   "source": [
    "np.sin(a)"
   ]
  },
  {
   "cell_type": "code",
   "execution_count": 353,
   "id": "d2d53251-ac20-4def-9f37-647894fb6fec",
   "metadata": {},
   "outputs": [
    {
     "data": {
      "text/plain": [
       "3"
      ]
     },
     "execution_count": 353,
     "metadata": {},
     "output_type": "execute_result"
    }
   ],
   "source": [
    "np.max(a)"
   ]
  },
  {
   "cell_type": "markdown",
   "id": "8e130afa-f379-40d9-9cb6-204ef1180be9",
   "metadata": {},
   "source": [
    "## where(검색할 때 많이 쓰임)"
   ]
  },
  {
   "cell_type": "code",
   "execution_count": 355,
   "id": "40047351-3b82-472d-8fca-0e06b59d413b",
   "metadata": {},
   "outputs": [
    {
     "data": {
      "text/plain": [
       "array([ 6,  8,  7,  9, 10])"
      ]
     },
     "execution_count": 355,
     "metadata": {},
     "output_type": "execute_result"
    }
   ],
   "source": [
    "a = np.array([6, 8, 7, 9, 10], dtype = int)\n",
    "a"
   ]
  },
  {
   "cell_type": "code",
   "execution_count": 359,
   "id": "2f7d148c-59fd-4d00-9a19-c34c2bda2e81",
   "metadata": {},
   "outputs": [
    {
     "data": {
      "text/plain": [
       "(array([1, 3, 4], dtype=int64),)"
      ]
     },
     "execution_count": 359,
     "metadata": {},
     "output_type": "execute_result"
    }
   ],
   "source": [
    "np.where(a > 7) ### return index"
   ]
  },
  {
   "cell_type": "code",
   "execution_count": 360,
   "id": "db6d9512-3807-4916-a6d4-9879a55b952f",
   "metadata": {},
   "outputs": [
    {
     "name": "stdout",
     "output_type": "stream",
     "text": [
      "(array([1, 3, 4], dtype=int64),)\n"
     ]
    },
    {
     "data": {
      "text/plain": [
       "array([ 8,  9, 10])"
      ]
     },
     "execution_count": 360,
     "metadata": {},
     "output_type": "execute_result"
    }
   ],
   "source": [
    "index = np.where(a > 7)  ### index를 통해 검색 가능\n",
    "print(index)\n",
    "a[index]"
   ]
  },
  {
   "cell_type": "code",
   "execution_count": 361,
   "id": "4b76db3c-9288-4672-ba34-8ea37dad654b",
   "metadata": {},
   "outputs": [
    {
     "data": {
      "text/plain": [
       "array(['fail', 'pass', 'fail', 'pass', 'pass'], dtype='<U4')"
      ]
     },
     "execution_count": 361,
     "metadata": {},
     "output_type": "execute_result"
    }
   ],
   "source": [
    "np.where(a > 7, \"pass\", \"fail\")\n",
    "\n",
    "### R프로그램에서 ifelse(a > 70, \"pass\", \"fail\")와 기능과 문법 같음"
   ]
  },
  {
   "cell_type": "code",
   "execution_count": 362,
   "id": "b16257c2-0cc5-45e5-868a-2d76e1959951",
   "metadata": {},
   "outputs": [],
   "source": [
    "####"
   ]
  },
  {
   "cell_type": "code",
   "execution_count": 364,
   "id": "14b5b079-b764-4fd9-a54b-c8e565152c99",
   "metadata": {},
   "outputs": [
    {
     "data": {
      "text/plain": [
       "array([[225, 196, 169, 144, 121, 100],\n",
       "       [ 81,  64,  49,  36,  25,  16],\n",
       "       [  9,   4,   1,   0,   1,   4],\n",
       "       [  9,  16,  25,  36,  49,  64],\n",
       "       [ 81, 100, 121, 144, 169, 196]])"
      ]
     },
     "execution_count": 364,
     "metadata": {},
     "output_type": "execute_result"
    }
   ],
   "source": [
    "a = np.arange(-15, 15).reshape(5, 6)**2\n",
    "a"
   ]
  },
  {
   "cell_type": "code",
   "execution_count": 368,
   "id": "2a91c3aa-3536-4e53-9518-77760c0e4795",
   "metadata": {},
   "outputs": [
    {
     "data": {
      "text/plain": [
       "array([225,  81,   9,  64, 196])"
      ]
     },
     "execution_count": 368,
     "metadata": {},
     "output_type": "execute_result"
    }
   ],
   "source": [
    "### 각 행별로 최댓값은 각각 얼마입니까\n",
    "np.max(a, axis = 1)"
   ]
  },
  {
   "cell_type": "code",
   "execution_count": 369,
   "id": "f94ec9cc-378d-41cf-b64c-b98e3c2edfa0",
   "metadata": {},
   "outputs": [
    {
     "data": {
      "text/plain": [
       "array([81., 76., 73., 72., 73., 76.])"
      ]
     },
     "execution_count": 369,
     "metadata": {},
     "output_type": "execute_result"
    }
   ],
   "source": [
    "### 각 열별로 평균은 얼마입니까\n",
    "np.mean(a, axis = 0)"
   ]
  },
  {
   "cell_type": "code",
   "execution_count": 371,
   "id": "78568002-3e21-414d-a26e-bad045a5198d",
   "metadata": {},
   "outputs": [
    {
     "data": {
      "text/plain": [
       "array([9, 4, 1, 0, 1, 4, 9])"
      ]
     },
     "execution_count": 371,
     "metadata": {},
     "output_type": "execute_result"
    }
   ],
   "source": [
    "### 10보다 작은 수를 모두 골라라\n",
    "index = np.where(a < 10)\n",
    "a[index]"
   ]
  },
  {
   "cell_type": "code",
   "execution_count": 372,
   "id": "21997387-9e9b-4f59-9035-9b30ba68dea3",
   "metadata": {},
   "outputs": [
    {
     "data": {
      "text/plain": [
       "array([[1, 1, 1, 1, 1, 1],\n",
       "       [1, 1, 1, 1, 1, 1],\n",
       "       [0, 0, 0, 0, 0, 0],\n",
       "       [0, 1, 1, 1, 1, 1],\n",
       "       [1, 1, 1, 1, 1, 1]])"
      ]
     },
     "execution_count": 372,
     "metadata": {},
     "output_type": "execute_result"
    }
   ],
   "source": [
    "### 10보다 작은 것은 모두 0으로, 크거나 같은 것은 1로 바꾸자\n",
    "np.where(a < 10, 0, 1)"
   ]
  },
  {
   "cell_type": "code",
   "execution_count": null,
   "id": "ace61ed8-9ab1-43eb-8443-91247a13e084",
   "metadata": {},
   "outputs": [],
   "source": []
  }
 ],
 "metadata": {
  "kernelspec": {
   "display_name": "Python 3 (ipykernel)",
   "language": "python",
   "name": "python3"
  },
  "language_info": {
   "codemirror_mode": {
    "name": "ipython",
    "version": 3
   },
   "file_extension": ".py",
   "mimetype": "text/x-python",
   "name": "python",
   "nbconvert_exporter": "python",
   "pygments_lexer": "ipython3",
   "version": "3.10.6"
  }
 },
 "nbformat": 4,
 "nbformat_minor": 5
}
