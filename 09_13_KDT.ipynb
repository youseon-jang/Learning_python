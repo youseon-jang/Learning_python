{
 "cells": [
  {
   "cell_type": "markdown",
   "id": "6be16863-e973-4271-b6d2-d257e9bb372a",
   "metadata": {},
   "source": [
    "# 복습문제"
   ]
  },
  {
   "cell_type": "code",
   "execution_count": null,
   "id": "20fa471f-eb98-4cfe-9efa-d7d3f491a080",
   "metadata": {},
   "outputs": [],
   "source": [
    "## 내장함수"
   ]
  },
  {
   "cell_type": "code",
   "execution_count": 1,
   "id": "e4295613-ea36-4977-ae65-fb04405ce12b",
   "metadata": {},
   "outputs": [
    {
     "name": "stdout",
     "output_type": "stream",
     "text": [
      "0 a\n",
      "1 b\n",
      "2 c\n"
     ]
    }
   ],
   "source": [
    "### numbering 포함해서 출력하시 a = [\"a\", \"b\", \"c\"]\n",
    "for i, name in enumerate([\"a\", \"b\", \"c\"]):\n",
    "    print(i, name)"
   ]
  },
  {
   "cell_type": "code",
   "execution_count": 2,
   "id": "21fddc23-85a8-4fd9-9e86-86169ad8da96",
   "metadata": {},
   "outputs": [
    {
     "name": "stdout",
     "output_type": "stream",
     "text": [
      "[6, 28, 8, 12, 56, 284]\n"
     ]
    }
   ],
   "source": [
    "### filter 써서 num list 중에서 짝수만\n",
    "num = [1,6,99,3,28,8,9,12,56,17,284] \n",
    "\n",
    "def even(i):\n",
    "    if i % 2 == 0:\n",
    "        return i\n",
    "    \n",
    "print(list(filter(even, num)))"
   ]
  },
  {
   "cell_type": "code",
   "execution_count": 3,
   "id": "282e5223-037a-4fce-8d08-9fdfbc0813d4",
   "metadata": {},
   "outputs": [
    {
     "data": {
      "text/plain": [
       "[6, 28, 8, 12, 56, 284]"
      ]
     },
     "execution_count": 3,
     "metadata": {},
     "output_type": "execute_result"
    }
   ],
   "source": [
    "list(filter(lambda x: x % 2 == 0, num))"
   ]
  },
  {
   "cell_type": "code",
   "execution_count": 4,
   "id": "05baee2a-c5d3-453b-bcaa-6d4926067a6d",
   "metadata": {},
   "outputs": [
    {
     "data": {
      "text/plain": [
       "[6, 28, 8, 12, 56, 284]"
      ]
     },
     "execution_count": 4,
     "metadata": {},
     "output_type": "execute_result"
    }
   ],
   "source": [
    "[i for i in num if i % 2 == 0]"
   ]
  },
  {
   "cell_type": "code",
   "execution_count": null,
   "id": "c9f5759a-9b29-4495-86cf-550745fb78a7",
   "metadata": {},
   "outputs": [],
   "source": [
    "### if__name == \"__main__\" :의 용도는\n",
    "##해당 모듈 안에서만 실행하고, import 당했을 때 실행하지 않기 위해 사용 "
   ]
  },
  {
   "cell_type": "code",
   "execution_count": 6,
   "id": "a82ffe7a-cede-4347-857c-aadfee4ac094",
   "metadata": {},
   "outputs": [
    {
     "name": "stdout",
     "output_type": "stream",
     "text": [
      "division by zero\n"
     ]
    }
   ],
   "source": [
    "### 4 / 0을 division by zero 라고 출력되게 하기\n",
    "try:\n",
    "    4/0\n",
    "except ZeroDivisionError as e:\n",
    "    print(e)"
   ]
  },
  {
   "cell_type": "code",
   "execution_count": 5,
   "id": "9a6c57c5-5271-47a4-bd09-ff7759ff25a5",
   "metadata": {},
   "outputs": [
    {
     "ename": "ZeroDivisionError",
     "evalue": "division by zero",
     "output_type": "error",
     "traceback": [
      "\u001b[1;31m---------------------------------------------------------------------------\u001b[0m",
      "\u001b[1;31mZeroDivisionError\u001b[0m                         Traceback (most recent call last)",
      "Input \u001b[1;32mIn [5]\u001b[0m, in \u001b[0;36m<cell line: 1>\u001b[1;34m()\u001b[0m\n\u001b[1;32m----> 1\u001b[0m \u001b[38;5;241;43m4\u001b[39;49m\u001b[38;5;241;43m/\u001b[39;49m\u001b[38;5;241;43m0\u001b[39;49m\n",
      "\u001b[1;31mZeroDivisionError\u001b[0m: division by zero"
     ]
    }
   ],
   "source": [
    "4/0"
   ]
  },
  {
   "cell_type": "code",
   "execution_count": 17,
   "id": "a657ac4a-94ec-421f-8c38-68c91109a977",
   "metadata": {},
   "outputs": [
    {
     "ename": "TypeError",
     "evalue": "unsupported operand type(s) for &: 'int' and 'str'",
     "output_type": "error",
     "traceback": [
      "\u001b[1;31m---------------------------------------------------------------------------\u001b[0m",
      "\u001b[1;31mTypeError\u001b[0m                                 Traceback (most recent call last)",
      "Input \u001b[1;32mIn [17]\u001b[0m, in \u001b[0;36m<cell line: 20>\u001b[1;34m()\u001b[0m\n\u001b[0;32m     17\u001b[0m             \u001b[38;5;28mprint\u001b[39m(\u001b[38;5;124m'\u001b[39m\u001b[38;5;124mmen\u001b[39m\u001b[38;5;124m'\u001b[39m)\n\u001b[0;32m     19\u001b[0m a \u001b[38;5;241m=\u001b[39m Clothes(\u001b[38;5;124m'\u001b[39m\u001b[38;5;124mred\u001b[39m\u001b[38;5;124m'\u001b[39m, \u001b[38;5;124m'\u001b[39m\u001b[38;5;124mtight\u001b[39m\u001b[38;5;124m'\u001b[39m)\n\u001b[1;32m---> 20\u001b[0m \u001b[43ma\u001b[49m\u001b[38;5;241;43m.\u001b[39;49m\u001b[43mtarget\u001b[49m\u001b[43m(\u001b[49m\u001b[38;5;241;43m15\u001b[39;49m\u001b[43m,\u001b[49m\u001b[43m \u001b[49m\u001b[38;5;124;43m'\u001b[39;49m\u001b[38;5;124;43mfemale\u001b[39;49m\u001b[38;5;124;43m'\u001b[39;49m\u001b[43m)\u001b[49m\n",
      "Input \u001b[1;32mIn [17]\u001b[0m, in \u001b[0;36mClothes.target\u001b[1;34m(self, age, gender)\u001b[0m\n\u001b[0;32m     12\u001b[0m \u001b[38;5;28;01melif\u001b[39;00m \u001b[38;5;28mself\u001b[39m\u001b[38;5;241m.\u001b[39mage \u001b[38;5;241m<\u001b[39m\u001b[38;5;241m=\u001b[39m \u001b[38;5;241m13\u001b[39m:\n\u001b[0;32m     13\u001b[0m     \u001b[38;5;28mprint\u001b[39m(\u001b[38;5;124m'\u001b[39m\u001b[38;5;124mkids\u001b[39m\u001b[38;5;124m'\u001b[39m)\n\u001b[1;32m---> 14\u001b[0m \u001b[38;5;28;01melif\u001b[39;00m \u001b[38;5;28mself\u001b[39m\u001b[38;5;241m.\u001b[39mage \u001b[38;5;241m>\u001b[39m\u001b[38;5;241m=\u001b[39m \u001b[38;5;241;43m14\u001b[39;49m\u001b[43m \u001b[49m\u001b[38;5;241;43m&\u001b[39;49m\u001b[43m \u001b[49m\u001b[38;5;28;43mself\u001b[39;49m\u001b[38;5;241;43m.\u001b[39;49m\u001b[43mgender\u001b[49m \u001b[38;5;241m==\u001b[39m \u001b[38;5;124m'\u001b[39m\u001b[38;5;124mfemale\u001b[39m\u001b[38;5;124m'\u001b[39m:\n\u001b[0;32m     15\u001b[0m     \u001b[38;5;28mprint\u001b[39m(\u001b[38;5;124m'\u001b[39m\u001b[38;5;124mwomen\u001b[39m\u001b[38;5;124m'\u001b[39m)\n\u001b[0;32m     16\u001b[0m \u001b[38;5;28;01melse\u001b[39;00m:\n",
      "\u001b[1;31mTypeError\u001b[0m: unsupported operand type(s) for &: 'int' and 'str'"
     ]
    }
   ],
   "source": [
    "## 함수 추가\n",
    "class Clothes:\n",
    "    def __init__(self, color, fit):\n",
    "        self.color = color\n",
    "        self.fit = fit\n",
    "        \n",
    "    def target(self, age, gender):\n",
    "        self.age = age\n",
    "        self.gender = gender\n",
    "        if self.age <= 5:\n",
    "            print('baby')\n",
    "        elif self.age <= 13:\n",
    "            print('kids')\n",
    "        elif self.age >= 14 & self.gender == 'female':\n",
    "            print('women')\n",
    "        else:\n",
    "            print('men')\n",
    "\n",
    "a = Clothes('red', 'tight')\n",
    "a.target(15, 'female')"
   ]
  },
  {
   "cell_type": "code",
   "execution_count": 22,
   "id": "f038921c-f0fa-41b3-aa77-cfae0b848d93",
   "metadata": {},
   "outputs": [],
   "source": [
    "class Clothes:\n",
    "    def __init__(self,color,fit):\n",
    "        self.color = color\n",
    "        self.fit = fit        \n",
    "        \n",
    "def target(self,age,gender):\n",
    "        if age <= 5:\n",
    "            self.age = 'baby'\n",
    "        elif age <= 13:\n",
    "            self.age = 'kids'\n",
    "        elif age > 13 and gender == 'female':\n",
    "            self.age = 'adult'\n",
    "            self.gender = 'wemen'\n",
    "        else:\n",
    "            self.age = 'adult'\n",
    "            self.gender = 'men' "
   ]
  },
  {
   "cell_type": "code",
   "execution_count": 27,
   "id": "72aeaa30-0878-45ee-b6a4-73b75b41628a",
   "metadata": {},
   "outputs": [],
   "source": [
    "## 상속 변수에 함수 추가\n",
    "class Clothes2(Clothes):\n",
    "    def __init__(self, color, fit, season):\n",
    "        super().__init__(color, fit)\n",
    "        self.season = season"
   ]
  },
  {
   "cell_type": "code",
   "execution_count": 43,
   "id": "b2be7dd9-da30-4612-91f8-86c974a22660",
   "metadata": {},
   "outputs": [
    {
     "name": "stdout",
     "output_type": "stream",
     "text": [
      "['970212-1054321', '020202-1065432', '220908-1044444']\n"
     ]
    }
   ],
   "source": [
    "### filter와  lambda만 써서 남자만\n",
    "id= ['970212-1054321','010101-2054321','020202-1065432','220 \n",
    "     908-1044444']\n",
    "\n",
    "id_male = [  ] \n",
    "\n",
    "id_male = list(filter(lambda id: id[7] == '1', id))\n",
    "print(id_male)\n"
   ]
  },
  {
   "cell_type": "code",
   "execution_count": 45,
   "id": "13fac8de-3428-4ee9-a7d5-332c2d4f2c27",
   "metadata": {},
   "outputs": [
    {
     "name": "stdout",
     "output_type": "stream",
     "text": [
      "['970212-1054321', '020202-1065432', '220908-1044444']\n"
     ]
    }
   ],
   "source": [
    "id= ['970212-1054321','010101-2054321','020202-1065432','220908-1044444']\n",
    "\n",
    "id_male = [  ] \n",
    "\n",
    "id_male = list(filter(lambda x: int(x[7]) == 1, id))\n",
    "print(id_male)\n"
   ]
  },
  {
   "cell_type": "markdown",
   "id": "24add5a1-0d2a-490e-bf7a-99cb01774d2e",
   "metadata": {},
   "source": [
    "# 수업"
   ]
  },
  {
   "cell_type": "markdown",
   "id": "87e43452-8d0f-48b3-924a-2a62ec7580ac",
   "metadata": {},
   "source": [
    "## 내장함수"
   ]
  },
  {
   "cell_type": "markdown",
   "id": "85ff2f8f-6259-4ed5-83ef-1891191e4471",
   "metadata": {},
   "source": [
    "- hex()"
   ]
  },
  {
   "cell_type": "code",
   "execution_count": 46,
   "id": "ac8d4ea4-fb19-46c3-bffa-cee788793cee",
   "metadata": {},
   "outputs": [
    {
     "data": {
      "text/plain": [
       "'0x3'"
      ]
     },
     "execution_count": 46,
     "metadata": {},
     "output_type": "execute_result"
    }
   ],
   "source": [
    "hex(3)"
   ]
  },
  {
   "cell_type": "code",
   "execution_count": 47,
   "id": "e26c61b4-9e75-4242-ba8f-a6e3751843ad",
   "metadata": {},
   "outputs": [
    {
     "data": {
      "text/plain": [
       "'0x9'"
      ]
     },
     "execution_count": 47,
     "metadata": {},
     "output_type": "execute_result"
    }
   ],
   "source": [
    "hex(9)"
   ]
  },
  {
   "cell_type": "code",
   "execution_count": 49,
   "id": "683bbbe1-ed3f-4228-8135-d97ff3964c04",
   "metadata": {},
   "outputs": [
    {
     "data": {
      "text/plain": [
       "'0xa'"
      ]
     },
     "execution_count": 49,
     "metadata": {},
     "output_type": "execute_result"
    }
   ],
   "source": [
    "hex(10)"
   ]
  },
  {
   "cell_type": "code",
   "execution_count": 50,
   "id": "ec07f6ea-8785-4f78-87d9-238f75bf3947",
   "metadata": {},
   "outputs": [
    {
     "data": {
      "text/plain": [
       "'0xb'"
      ]
     },
     "execution_count": 50,
     "metadata": {},
     "output_type": "execute_result"
    }
   ],
   "source": [
    "hex(11)"
   ]
  },
  {
   "cell_type": "code",
   "execution_count": 51,
   "id": "cd4655f7-1ef5-4495-92d2-947cb24204de",
   "metadata": {},
   "outputs": [
    {
     "data": {
      "text/plain": [
       "'0xf'"
      ]
     },
     "execution_count": 51,
     "metadata": {},
     "output_type": "execute_result"
    }
   ],
   "source": [
    "hex(15)"
   ]
  },
  {
   "cell_type": "code",
   "execution_count": 48,
   "id": "79f4439f-dd27-4d36-a43d-2eb23fe03889",
   "metadata": {},
   "outputs": [
    {
     "data": {
      "text/plain": [
       "'0x10'"
      ]
     },
     "execution_count": 48,
     "metadata": {},
     "output_type": "execute_result"
    }
   ],
   "source": [
    "hex(16)"
   ]
  },
  {
   "cell_type": "code",
   "execution_count": 58,
   "id": "26e4a240-a7d3-4bfa-afb8-ff045b69c616",
   "metadata": {},
   "outputs": [
    {
     "data": {
      "text/plain": [
       "'0xff'"
      ]
     },
     "execution_count": 58,
     "metadata": {},
     "output_type": "execute_result"
    }
   ],
   "source": [
    "hex(255)"
   ]
  },
  {
   "cell_type": "markdown",
   "id": "fc2d72c3-a23f-44ec-a490-0773619c03c9",
   "metadata": {},
   "source": [
    "```\n",
    "16진수: 1 1 --> 17\n",
    "16진수: 2 a --> 2 * 16 + 10 = 42\n",
    "16진수: f f --> 15 * 16 + 15 = 255\n",
    "```"
   ]
  },
  {
   "cell_type": "markdown",
   "id": "067d0000-1c10-415f-8198-8521903cbc95",
   "metadata": {},
   "source": [
    "- int()"
   ]
  },
  {
   "cell_type": "code",
   "execution_count": 62,
   "id": "df0ccb69-fede-47a2-b7a8-e553738d9669",
   "metadata": {},
   "outputs": [
    {
     "data": {
      "text/plain": [
       "int"
      ]
     },
     "execution_count": 62,
     "metadata": {},
     "output_type": "execute_result"
    }
   ],
   "source": [
    "a = int('3')\n",
    "type(a)"
   ]
  },
  {
   "cell_type": "code",
   "execution_count": 63,
   "id": "8a902bde-f66d-429e-b06d-e4dda17e3585",
   "metadata": {},
   "outputs": [
    {
     "data": {
      "text/plain": [
       "255"
      ]
     },
     "execution_count": 63,
     "metadata": {},
     "output_type": "execute_result"
    }
   ],
   "source": [
    "int('ff', base = 16)"
   ]
  },
  {
   "cell_type": "code",
   "execution_count": 64,
   "id": "2c6fe9c8-fedc-478d-845a-4483efc5134f",
   "metadata": {},
   "outputs": [
    {
     "data": {
      "text/plain": [
       "15"
      ]
     },
     "execution_count": 64,
     "metadata": {},
     "output_type": "execute_result"
    }
   ],
   "source": [
    "int('1111', base = 2)"
   ]
  },
  {
   "cell_type": "markdown",
   "id": "8ed80316-7dbf-4fbb-aa3c-6d2620df7886",
   "metadata": {},
   "source": [
    "- map(f, iterable)\n",
    "\n",
    "iterable : 하나씩 뽑아서 순환 가능한"
   ]
  },
  {
   "cell_type": "code",
   "execution_count": 78,
   "id": "5cb844da-351d-447b-b7c5-9296b96e33da",
   "metadata": {},
   "outputs": [
    {
     "data": {
      "text/plain": [
       "<map at 0x268cf2596c0>"
      ]
     },
     "execution_count": 78,
     "metadata": {},
     "output_type": "execute_result"
    }
   ],
   "source": [
    "def two_times(x):\n",
    "    return x * 2\n",
    "\n",
    "map(two_times, [1, 2, 3, 4])"
   ]
  },
  {
   "cell_type": "code",
   "execution_count": 68,
   "id": "45b7472b-5e36-4328-8636-2302836b730e",
   "metadata": {},
   "outputs": [
    {
     "data": {
      "text/plain": [
       "[2, 4, 6, 8]"
      ]
     },
     "execution_count": 68,
     "metadata": {},
     "output_type": "execute_result"
    }
   ],
   "source": [
    "list(map(two_times, [1, 2, 3, 4]))"
   ]
  },
  {
   "cell_type": "code",
   "execution_count": 69,
   "id": "0e61bb22-17c8-44d9-8767-70a757847711",
   "metadata": {},
   "outputs": [
    {
     "data": {
      "text/plain": [
       "['11', '22', '33', '44']"
      ]
     },
     "execution_count": 69,
     "metadata": {},
     "output_type": "execute_result"
    }
   ],
   "source": [
    "list(map(two_times, [\"1\", \"2\", \"3\", \"4\"]))"
   ]
  },
  {
   "cell_type": "code",
   "execution_count": 74,
   "id": "8b3b2e2e-405c-4d82-8553-ec0bb589ce4e",
   "metadata": {},
   "outputs": [
    {
     "data": {
      "text/plain": [
       "[2, 4, 6, 8]"
      ]
     },
     "execution_count": 74,
     "metadata": {},
     "output_type": "execute_result"
    }
   ],
   "source": [
    "list(map(lambda a: a * 2, [1, 2, 3, 4]))"
   ]
  },
  {
   "cell_type": "markdown",
   "id": "3cb48e75-b2c9-4f13-8341-9f4f3db4f768",
   "metadata": {},
   "source": [
    "- max()"
   ]
  },
  {
   "cell_type": "code",
   "execution_count": 72,
   "id": "24fd33d4-5642-45bc-9e88-77279cf5636f",
   "metadata": {},
   "outputs": [
    {
     "data": {
      "text/plain": [
       "'y'"
      ]
     },
     "execution_count": 72,
     "metadata": {},
     "output_type": "execute_result"
    }
   ],
   "source": [
    "max(\"python\")"
   ]
  },
  {
   "cell_type": "code",
   "execution_count": 76,
   "id": "6ed6a4b0-a60a-433a-b9b1-b3820e519c31",
   "metadata": {},
   "outputs": [
    {
     "data": {
      "text/plain": [
       "['__add__',\n",
       " '__class__',\n",
       " '__contains__',\n",
       " '__delattr__',\n",
       " '__dir__',\n",
       " '__doc__',\n",
       " '__eq__',\n",
       " '__format__',\n",
       " '__ge__',\n",
       " '__getattribute__',\n",
       " '__getitem__',\n",
       " '__getnewargs__',\n",
       " '__gt__',\n",
       " '__hash__',\n",
       " '__init__',\n",
       " '__init_subclass__',\n",
       " '__iter__',\n",
       " '__le__',\n",
       " '__len__',\n",
       " '__lt__',\n",
       " '__mod__',\n",
       " '__mul__',\n",
       " '__ne__',\n",
       " '__new__',\n",
       " '__reduce__',\n",
       " '__reduce_ex__',\n",
       " '__repr__',\n",
       " '__rmod__',\n",
       " '__rmul__',\n",
       " '__setattr__',\n",
       " '__sizeof__',\n",
       " '__str__',\n",
       " '__subclasshook__',\n",
       " 'capitalize',\n",
       " 'casefold',\n",
       " 'center',\n",
       " 'count',\n",
       " 'encode',\n",
       " 'endswith',\n",
       " 'expandtabs',\n",
       " 'find',\n",
       " 'format',\n",
       " 'format_map',\n",
       " 'index',\n",
       " 'isalnum',\n",
       " 'isalpha',\n",
       " 'isascii',\n",
       " 'isdecimal',\n",
       " 'isdigit',\n",
       " 'isidentifier',\n",
       " 'islower',\n",
       " 'isnumeric',\n",
       " 'isprintable',\n",
       " 'isspace',\n",
       " 'istitle',\n",
       " 'isupper',\n",
       " 'join',\n",
       " 'ljust',\n",
       " 'lower',\n",
       " 'lstrip',\n",
       " 'maketrans',\n",
       " 'partition',\n",
       " 'removeprefix',\n",
       " 'removesuffix',\n",
       " 'replace',\n",
       " 'rfind',\n",
       " 'rindex',\n",
       " 'rjust',\n",
       " 'rpartition',\n",
       " 'rsplit',\n",
       " 'rstrip',\n",
       " 'split',\n",
       " 'splitlines',\n",
       " 'startswith',\n",
       " 'strip',\n",
       " 'swapcase',\n",
       " 'title',\n",
       " 'translate',\n",
       " 'upper',\n",
       " 'zfill']"
      ]
     },
     "execution_count": 76,
     "metadata": {},
     "output_type": "execute_result"
    }
   ],
   "source": [
    "# __iter__ 내장함수가 있어서 iterable함\n",
    "dir('python')"
   ]
  },
  {
   "cell_type": "markdown",
   "id": "80b7f57a-6480-499a-943d-cdc4ba3f114a",
   "metadata": {},
   "source": [
    "- round()"
   ]
  },
  {
   "cell_type": "code",
   "execution_count": 79,
   "id": "bb14c7a3-07f4-46de-88b6-bb35c9c45322",
   "metadata": {},
   "outputs": [
    {
     "data": {
      "text/plain": [
       "3.1416"
      ]
     },
     "execution_count": 79,
     "metadata": {},
     "output_type": "execute_result"
    }
   ],
   "source": [
    "round(3.141592, 4)"
   ]
  },
  {
   "cell_type": "markdown",
   "id": "b57b8188-131e-4b6f-a640-8f941cb6594d",
   "metadata": {},
   "source": [
    "- sum()"
   ]
  },
  {
   "cell_type": "code",
   "execution_count": 80,
   "id": "c2e7e42a-31b7-46b5-bdf7-4bc5e6bb4aa5",
   "metadata": {},
   "outputs": [
    {
     "ename": "TypeError",
     "evalue": "can only concatenate list (not \"int\") to list",
     "output_type": "error",
     "traceback": [
      "\u001b[1;31m---------------------------------------------------------------------------\u001b[0m",
      "\u001b[1;31mTypeError\u001b[0m                                 Traceback (most recent call last)",
      "Input \u001b[1;32mIn [80]\u001b[0m, in \u001b[0;36m<cell line: 1>\u001b[1;34m()\u001b[0m\n\u001b[1;32m----> 1\u001b[0m \u001b[38;5;28;43msum\u001b[39;49m\u001b[43m(\u001b[49m\u001b[43m[\u001b[49m\u001b[38;5;241;43m1\u001b[39;49m\u001b[43m,\u001b[49m\u001b[43m \u001b[49m\u001b[38;5;241;43m2\u001b[39;49m\u001b[43m,\u001b[49m\u001b[43m \u001b[49m\u001b[38;5;241;43m3\u001b[39;49m\u001b[43m]\u001b[49m\u001b[43m,\u001b[49m\u001b[43m \u001b[49m\u001b[43m[\u001b[49m\u001b[38;5;241;43m4\u001b[39;49m\u001b[43m,\u001b[49m\u001b[43m \u001b[49m\u001b[38;5;241;43m5\u001b[39;49m\u001b[43m,\u001b[49m\u001b[43m \u001b[49m\u001b[38;5;241;43m6\u001b[39;49m\u001b[43m]\u001b[49m\u001b[43m)\u001b[49m\n",
      "\u001b[1;31mTypeError\u001b[0m: can only concatenate list (not \"int\") to list"
     ]
    }
   ],
   "source": [
    "sum([1, 2, 3], [4, 5, 6])"
   ]
  },
  {
   "cell_type": "code",
   "execution_count": 83,
   "id": "6fdc1203-f0b8-463f-92ed-06fe9c49d546",
   "metadata": {},
   "outputs": [
    {
     "data": {
      "text/plain": [
       "21"
      ]
     },
     "execution_count": 83,
     "metadata": {},
     "output_type": "execute_result"
    }
   ],
   "source": [
    "import numpy as np\n",
    "np.sum(np.array([[1, 2, 3], [4, 5, 6]]))"
   ]
  },
  {
   "cell_type": "markdown",
   "id": "9e37e34b-d295-42d7-8f79-8445b2c65bf8",
   "metadata": {},
   "source": [
    "- zip()"
   ]
  },
  {
   "cell_type": "code",
   "execution_count": 89,
   "id": "72cf431c-300d-4080-81b4-04bb03a9bef5",
   "metadata": {},
   "outputs": [
    {
     "name": "stdout",
     "output_type": "stream",
     "text": [
      "(1, 4, 'a', '정')\n",
      "(2, 5, 'b', '전')\n",
      "(3, 6, 'c', '박')\n"
     ]
    }
   ],
   "source": [
    "for i in zip([1, 2, 3], [4, 5, 6], ['a', 'b', 'c'], ['정', '전', '박']):\n",
    "    print(i)"
   ]
  },
  {
   "cell_type": "code",
   "execution_count": 91,
   "id": "1a68f29a-6df1-4eb3-91ff-a25f1d911501",
   "metadata": {},
   "outputs": [
    {
     "name": "stdout",
     "output_type": "stream",
     "text": [
      "1 4 a 정\n",
      "2 5 b 전\n",
      "3 6 c 박\n"
     ]
    }
   ],
   "source": [
    "for i, j, k, l in zip([1, 2, 3], [4, 5, 6], ['a', 'b', 'c'], ['정', '전', '박']):\n",
    "    print(i, j, k, l)"
   ]
  },
  {
   "cell_type": "code",
   "execution_count": 90,
   "id": "ca749789-738b-493f-bc50-1817ac947734",
   "metadata": {},
   "outputs": [
    {
     "data": {
      "text/plain": [
       "[('a', 'd'), ('b', 'e'), ('c', 'f')]"
      ]
     },
     "execution_count": 90,
     "metadata": {},
     "output_type": "execute_result"
    }
   ],
   "source": [
    "list(zip(\"abc\", \"def\"))"
   ]
  },
  {
   "cell_type": "markdown",
   "id": "787a19c6-2766-4647-8714-bb95ccebc5c4",
   "metadata": {},
   "source": [
    "- filter, map, enumerate, zip 중요"
   ]
  },
  {
   "cell_type": "code",
   "execution_count": 92,
   "id": "c5e84644-5e26-4644-a400-a0b53d686821",
   "metadata": {},
   "outputs": [
    {
     "name": "stdout",
     "output_type": "stream",
     "text": [
      "Collecting folium\n",
      "  Downloading folium-0.12.1.post1-py2.py3-none-any.whl (95 kB)\n",
      "     ---------------------------------------- 95.0/95.0 kB 1.3 MB/s eta 0:00:00\n",
      "Requirement already satisfied: numpy in c:\\users\\admin\\appdata\\local\\programs\\python\\python310\\lib\\site-packages (from folium) (1.23.2)\n",
      "Requirement already satisfied: jinja2>=2.9 in c:\\users\\admin\\appdata\\local\\programs\\python\\python310\\lib\\site-packages (from folium) (3.1.2)\n",
      "Collecting branca>=0.3.0\n",
      "  Downloading branca-0.5.0-py3-none-any.whl (24 kB)\n",
      "Requirement already satisfied: requests in c:\\users\\admin\\appdata\\local\\programs\\python\\python310\\lib\\site-packages (from folium) (2.28.1)\n",
      "Requirement already satisfied: MarkupSafe>=2.0 in c:\\users\\admin\\appdata\\local\\programs\\python\\python310\\lib\\site-packages (from jinja2>=2.9->folium) (2.1.1)\n",
      "Requirement already satisfied: certifi>=2017.4.17 in c:\\users\\admin\\appdata\\local\\programs\\python\\python310\\lib\\site-packages (from requests->folium) (2022.6.15)\n",
      "Requirement already satisfied: idna<4,>=2.5 in c:\\users\\admin\\appdata\\local\\programs\\python\\python310\\lib\\site-packages (from requests->folium) (3.3)\n",
      "Requirement already satisfied: urllib3<1.27,>=1.21.1 in c:\\users\\admin\\appdata\\local\\programs\\python\\python310\\lib\\site-packages (from requests->folium) (1.26.12)\n",
      "Requirement already satisfied: charset-normalizer<3,>=2 in c:\\users\\admin\\appdata\\local\\programs\\python\\python310\\lib\\site-packages (from requests->folium) (2.1.1)\n",
      "Installing collected packages: branca, folium\n",
      "Successfully installed branca-0.5.0 folium-0.12.1.post1\n",
      "Note: you may need to restart the kernel to use updated packages.\n"
     ]
    },
    {
     "name": "stderr",
     "output_type": "stream",
     "text": [
      "\n",
      "[notice] A new release of pip available: 22.2.1 -> 22.2.2\n",
      "[notice] To update, run: python.exe -m pip install --upgrade pip\n"
     ]
    }
   ],
   "source": [
    "pip install folium"
   ]
  },
  {
   "cell_type": "code",
   "execution_count": 93,
   "id": "e830e891-3111-4d39-a533-11141d8fabd5",
   "metadata": {},
   "outputs": [],
   "source": [
    "import folium\n",
    "import pandas as pd"
   ]
  },
  {
   "cell_type": "code",
   "execution_count": 94,
   "id": "1584b24c-0339-4d06-94ce-dab1ac9aff6a",
   "metadata": {},
   "outputs": [
    {
     "data": {
      "text/plain": [
       "'C:\\\\Users\\\\admin\\\\doit'"
      ]
     },
     "execution_count": 94,
     "metadata": {},
     "output_type": "execute_result"
    }
   ],
   "source": [
    "import os\n",
    "os.getcwd()"
   ]
  },
  {
   "cell_type": "code",
   "execution_count": 96,
   "id": "965d16a7-a40a-4455-880c-53db15aefd82",
   "metadata": {},
   "outputs": [
    {
     "name": "stdout",
     "output_type": "stream",
     "text": [
      "Collecting openpyxl\n",
      "  Downloading openpyxl-3.0.10-py2.py3-none-any.whl (242 kB)\n",
      "     -------------------------------------- 242.1/242.1 kB 3.7 MB/s eta 0:00:00\n",
      "Collecting et-xmlfile\n",
      "  Downloading et_xmlfile-1.1.0-py3-none-any.whl (4.7 kB)\n",
      "Installing collected packages: et-xmlfile, openpyxl\n",
      "Successfully installed et-xmlfile-1.1.0 openpyxl-3.0.10\n",
      "Note: you may need to restart the kernel to use updated packages.\n"
     ]
    },
    {
     "name": "stderr",
     "output_type": "stream",
     "text": [
      "\n",
      "[notice] A new release of pip available: 22.2.1 -> 22.2.2\n",
      "[notice] To update, run: python.exe -m pip install --upgrade pip\n"
     ]
    }
   ],
   "source": [
    "pip install openpyxl"
   ]
  },
  {
   "cell_type": "code",
   "execution_count": 98,
   "id": "5c7583ea-3a42-49a4-bb06-6a1bc2fa5822",
   "metadata": {},
   "outputs": [
    {
     "data": {
      "text/html": [
       "<div>\n",
       "<style scoped>\n",
       "    .dataframe tbody tr th:only-of-type {\n",
       "        vertical-align: middle;\n",
       "    }\n",
       "\n",
       "    .dataframe tbody tr th {\n",
       "        vertical-align: top;\n",
       "    }\n",
       "\n",
       "    .dataframe thead th {\n",
       "        text-align: right;\n",
       "    }\n",
       "</style>\n",
       "<table border=\"1\" class=\"dataframe\">\n",
       "  <thead>\n",
       "    <tr style=\"text-align: right;\">\n",
       "      <th></th>\n",
       "      <th>대학교</th>\n",
       "      <th>위도</th>\n",
       "      <th>경도</th>\n",
       "    </tr>\n",
       "  </thead>\n",
       "  <tbody>\n",
       "    <tr>\n",
       "      <th>0</th>\n",
       "      <td>KAIST 서울캠퍼스</td>\n",
       "      <td>37.592573</td>\n",
       "      <td>127.046737</td>\n",
       "    </tr>\n",
       "    <tr>\n",
       "      <th>1</th>\n",
       "      <td>KC대학교</td>\n",
       "      <td>37.548345</td>\n",
       "      <td>126.854797</td>\n",
       "    </tr>\n",
       "    <tr>\n",
       "      <th>2</th>\n",
       "      <td>가톨릭대학교(성신교정)</td>\n",
       "      <td>37.585922</td>\n",
       "      <td>127.004328</td>\n",
       "    </tr>\n",
       "    <tr>\n",
       "      <th>3</th>\n",
       "      <td>가톨릭대학교(성의교정)</td>\n",
       "      <td>37.499623</td>\n",
       "      <td>127.006065</td>\n",
       "    </tr>\n",
       "    <tr>\n",
       "      <th>4</th>\n",
       "      <td>감리교신학대학교</td>\n",
       "      <td>37.567645</td>\n",
       "      <td>126.961610</td>\n",
       "    </tr>\n",
       "    <tr>\n",
       "      <th>5</th>\n",
       "      <td>건국대학교</td>\n",
       "      <td>37.540762</td>\n",
       "      <td>127.079343</td>\n",
       "    </tr>\n",
       "    <tr>\n",
       "      <th>6</th>\n",
       "      <td>경기대학교 서울캠퍼스</td>\n",
       "      <td>37.300485</td>\n",
       "      <td>127.035833</td>\n",
       "    </tr>\n",
       "    <tr>\n",
       "      <th>7</th>\n",
       "      <td>경희대학교 서울캠퍼스</td>\n",
       "      <td>37.596195</td>\n",
       "      <td>127.052544</td>\n",
       "    </tr>\n",
       "    <tr>\n",
       "      <th>8</th>\n",
       "      <td>고려대학교</td>\n",
       "      <td>37.590192</td>\n",
       "      <td>127.033184</td>\n",
       "    </tr>\n",
       "    <tr>\n",
       "      <th>9</th>\n",
       "      <td>광운대학교</td>\n",
       "      <td>37.619496</td>\n",
       "      <td>127.059696</td>\n",
       "    </tr>\n",
       "    <tr>\n",
       "      <th>10</th>\n",
       "      <td>국민대학교</td>\n",
       "      <td>37.609641</td>\n",
       "      <td>126.997697</td>\n",
       "    </tr>\n",
       "    <tr>\n",
       "      <th>11</th>\n",
       "      <td>덕성여자대학교</td>\n",
       "      <td>37.651199</td>\n",
       "      <td>127.016160</td>\n",
       "    </tr>\n",
       "    <tr>\n",
       "      <th>12</th>\n",
       "      <td>동국대학교</td>\n",
       "      <td>37.557477</td>\n",
       "      <td>127.002052</td>\n",
       "    </tr>\n",
       "    <tr>\n",
       "      <th>13</th>\n",
       "      <td>동덕여자대학교</td>\n",
       "      <td>37.606320</td>\n",
       "      <td>127.041808</td>\n",
       "    </tr>\n",
       "    <tr>\n",
       "      <th>14</th>\n",
       "      <td>명지대학교 서울캠퍼스</td>\n",
       "      <td>37.580205</td>\n",
       "      <td>126.923445</td>\n",
       "    </tr>\n",
       "    <tr>\n",
       "      <th>15</th>\n",
       "      <td>삼육대학교</td>\n",
       "      <td>37.642952</td>\n",
       "      <td>127.105476</td>\n",
       "    </tr>\n",
       "    <tr>\n",
       "      <th>16</th>\n",
       "      <td>상명대학교 서울캠퍼스</td>\n",
       "      <td>37.602638</td>\n",
       "      <td>126.955252</td>\n",
       "    </tr>\n",
       "    <tr>\n",
       "      <th>17</th>\n",
       "      <td>서강대학교</td>\n",
       "      <td>37.550944</td>\n",
       "      <td>126.941002</td>\n",
       "    </tr>\n",
       "    <tr>\n",
       "      <th>18</th>\n",
       "      <td>서경대학교</td>\n",
       "      <td>37.615095</td>\n",
       "      <td>127.013111</td>\n",
       "    </tr>\n",
       "    <tr>\n",
       "      <th>19</th>\n",
       "      <td>서울과학기술대학교</td>\n",
       "      <td>37.631668</td>\n",
       "      <td>127.077481</td>\n",
       "    </tr>\n",
       "    <tr>\n",
       "      <th>20</th>\n",
       "      <td>서울교육대학교</td>\n",
       "      <td>37.489961</td>\n",
       "      <td>127.016412</td>\n",
       "    </tr>\n",
       "    <tr>\n",
       "      <th>21</th>\n",
       "      <td>서울기독대학교</td>\n",
       "      <td>37.600923</td>\n",
       "      <td>126.912382</td>\n",
       "    </tr>\n",
       "    <tr>\n",
       "      <th>22</th>\n",
       "      <td>서울대학교</td>\n",
       "      <td>37.459882</td>\n",
       "      <td>126.951905</td>\n",
       "    </tr>\n",
       "    <tr>\n",
       "      <th>23</th>\n",
       "      <td>서울시립대학교</td>\n",
       "      <td>37.583866</td>\n",
       "      <td>127.058777</td>\n",
       "    </tr>\n",
       "    <tr>\n",
       "      <th>24</th>\n",
       "      <td>서울여자대학교</td>\n",
       "      <td>37.628113</td>\n",
       "      <td>127.090457</td>\n",
       "    </tr>\n",
       "    <tr>\n",
       "      <th>25</th>\n",
       "      <td>서울한영대학교</td>\n",
       "      <td>37.496541</td>\n",
       "      <td>126.851262</td>\n",
       "    </tr>\n",
       "    <tr>\n",
       "      <th>26</th>\n",
       "      <td>성공회대학교</td>\n",
       "      <td>37.487232</td>\n",
       "      <td>126.825320</td>\n",
       "    </tr>\n",
       "    <tr>\n",
       "      <th>27</th>\n",
       "      <td>성균관대학교 서울캠퍼스</td>\n",
       "      <td>37.588227</td>\n",
       "      <td>126.993606</td>\n",
       "    </tr>\n",
       "    <tr>\n",
       "      <th>28</th>\n",
       "      <td>성신여자대학교</td>\n",
       "      <td>37.591310</td>\n",
       "      <td>127.022131</td>\n",
       "    </tr>\n",
       "    <tr>\n",
       "      <th>29</th>\n",
       "      <td>세종대학교</td>\n",
       "      <td>37.550260</td>\n",
       "      <td>127.073139</td>\n",
       "    </tr>\n",
       "    <tr>\n",
       "      <th>30</th>\n",
       "      <td>숙명여자대학교</td>\n",
       "      <td>37.546364</td>\n",
       "      <td>126.964831</td>\n",
       "    </tr>\n",
       "    <tr>\n",
       "      <th>31</th>\n",
       "      <td>숭실대학교</td>\n",
       "      <td>37.496311</td>\n",
       "      <td>126.957460</td>\n",
       "    </tr>\n",
       "    <tr>\n",
       "      <th>32</th>\n",
       "      <td>연세대학교</td>\n",
       "      <td>37.565784</td>\n",
       "      <td>126.938572</td>\n",
       "    </tr>\n",
       "    <tr>\n",
       "      <th>33</th>\n",
       "      <td>육군사관학교</td>\n",
       "      <td>37.623819</td>\n",
       "      <td>127.098878</td>\n",
       "    </tr>\n",
       "    <tr>\n",
       "      <th>34</th>\n",
       "      <td>이화여자대학교</td>\n",
       "      <td>37.564308</td>\n",
       "      <td>126.950179</td>\n",
       "    </tr>\n",
       "    <tr>\n",
       "      <th>35</th>\n",
       "      <td>장로회신학대학교</td>\n",
       "      <td>37.550511</td>\n",
       "      <td>127.103458</td>\n",
       "    </tr>\n",
       "    <tr>\n",
       "      <th>36</th>\n",
       "      <td>중앙대학교 서울캠퍼스</td>\n",
       "      <td>37.505088</td>\n",
       "      <td>126.957101</td>\n",
       "    </tr>\n",
       "    <tr>\n",
       "      <th>37</th>\n",
       "      <td>총신대학교</td>\n",
       "      <td>37.488623</td>\n",
       "      <td>126.966817</td>\n",
       "    </tr>\n",
       "    <tr>\n",
       "      <th>38</th>\n",
       "      <td>추계예술대학교</td>\n",
       "      <td>37.562452</td>\n",
       "      <td>126.953417</td>\n",
       "    </tr>\n",
       "    <tr>\n",
       "      <th>39</th>\n",
       "      <td>한국방송통신대학교</td>\n",
       "      <td>37.578613</td>\n",
       "      <td>127.003291</td>\n",
       "    </tr>\n",
       "    <tr>\n",
       "      <th>40</th>\n",
       "      <td>한국성서대학교</td>\n",
       "      <td>37.648749</td>\n",
       "      <td>127.064320</td>\n",
       "    </tr>\n",
       "    <tr>\n",
       "      <th>41</th>\n",
       "      <td>한국예술종합학교</td>\n",
       "      <td>37.604997</td>\n",
       "      <td>127.056740</td>\n",
       "    </tr>\n",
       "    <tr>\n",
       "      <th>42</th>\n",
       "      <td>한국외국어대학교</td>\n",
       "      <td>37.597319</td>\n",
       "      <td>127.057843</td>\n",
       "    </tr>\n",
       "    <tr>\n",
       "      <th>43</th>\n",
       "      <td>한국체육대학교</td>\n",
       "      <td>37.519627</td>\n",
       "      <td>127.130984</td>\n",
       "    </tr>\n",
       "    <tr>\n",
       "      <th>44</th>\n",
       "      <td>한성대학교</td>\n",
       "      <td>37.581785</td>\n",
       "      <td>127.010369</td>\n",
       "    </tr>\n",
       "    <tr>\n",
       "      <th>45</th>\n",
       "      <td>한양대학교</td>\n",
       "      <td>37.557232</td>\n",
       "      <td>127.045322</td>\n",
       "    </tr>\n",
       "    <tr>\n",
       "      <th>46</th>\n",
       "      <td>홍익대학교</td>\n",
       "      <td>37.551464</td>\n",
       "      <td>126.925011</td>\n",
       "    </tr>\n",
       "  </tbody>\n",
       "</table>\n",
       "</div>"
      ],
      "text/plain": [
       "               대학교         위도          경도\n",
       "0     KAIST 서울캠퍼스   37.592573  127.046737\n",
       "1            KC대학교  37.548345  126.854797\n",
       "2     가톨릭대학교(성신교정)  37.585922  127.004328\n",
       "3     가톨릭대학교(성의교정)  37.499623  127.006065\n",
       "4         감리교신학대학교  37.567645  126.961610\n",
       "5            건국대학교  37.540762  127.079343\n",
       "6     경기대학교 서울캠퍼스   37.300485  127.035833\n",
       "7     경희대학교 서울캠퍼스   37.596195  127.052544\n",
       "8            고려대학교  37.590192  127.033184\n",
       "9            광운대학교  37.619496  127.059696\n",
       "10           국민대학교  37.609641  126.997697\n",
       "11         덕성여자대학교  37.651199  127.016160\n",
       "12           동국대학교  37.557477  127.002052\n",
       "13         동덕여자대학교  37.606320  127.041808\n",
       "14    명지대학교 서울캠퍼스   37.580205  126.923445\n",
       "15           삼육대학교  37.642952  127.105476\n",
       "16    상명대학교 서울캠퍼스   37.602638  126.955252\n",
       "17           서강대학교  37.550944  126.941002\n",
       "18           서경대학교  37.615095  127.013111\n",
       "19       서울과학기술대학교  37.631668  127.077481\n",
       "20         서울교육대학교  37.489961  127.016412\n",
       "21         서울기독대학교  37.600923  126.912382\n",
       "22           서울대학교  37.459882  126.951905\n",
       "23         서울시립대학교  37.583866  127.058777\n",
       "24         서울여자대학교  37.628113  127.090457\n",
       "25         서울한영대학교  37.496541  126.851262\n",
       "26          성공회대학교  37.487232  126.825320\n",
       "27  성균관대학교 서울캠퍼스    37.588227  126.993606\n",
       "28         성신여자대학교  37.591310  127.022131\n",
       "29           세종대학교  37.550260  127.073139\n",
       "30         숙명여자대학교  37.546364  126.964831\n",
       "31           숭실대학교  37.496311  126.957460\n",
       "32           연세대학교  37.565784  126.938572\n",
       "33          육군사관학교  37.623819  127.098878\n",
       "34         이화여자대학교  37.564308  126.950179\n",
       "35        장로회신학대학교  37.550511  127.103458\n",
       "36    중앙대학교 서울캠퍼스   37.505088  126.957101\n",
       "37           총신대학교  37.488623  126.966817\n",
       "38         추계예술대학교  37.562452  126.953417\n",
       "39       한국방송통신대학교  37.578613  127.003291\n",
       "40         한국성서대학교  37.648749  127.064320\n",
       "41        한국예술종합학교  37.604997  127.056740\n",
       "42        한국외국어대학교  37.597319  127.057843\n",
       "43         한국체육대학교  37.519627  127.130984\n",
       "44           한성대학교  37.581785  127.010369\n",
       "45           한양대학교  37.557232  127.045322\n",
       "46           홍익대학교  37.551464  126.925011"
      ]
     },
     "execution_count": 98,
     "metadata": {},
     "output_type": "execute_result"
    }
   ],
   "source": [
    "df = pd.read_excel(\"서울지역대학교위치.xlsx\")\n",
    "df"
   ]
  },
  {
   "cell_type": "code",
   "execution_count": 100,
   "id": "9ed59165-ba3b-425e-91f7-346257d38b58",
   "metadata": {},
   "outputs": [
    {
     "data": {
      "text/plain": [
       "0       KAIST 서울캠퍼스 \n",
       "1              KC대학교\n",
       "2       가톨릭대학교(성신교정)\n",
       "3       가톨릭대학교(성의교정)\n",
       "4           감리교신학대학교\n",
       "5              건국대학교\n",
       "6       경기대학교 서울캠퍼스 \n",
       "7       경희대학교 서울캠퍼스 \n",
       "8              고려대학교\n",
       "9              광운대학교\n",
       "10             국민대학교\n",
       "11           덕성여자대학교\n",
       "12             동국대학교\n",
       "13           동덕여자대학교\n",
       "14      명지대학교 서울캠퍼스 \n",
       "15             삼육대학교\n",
       "16      상명대학교 서울캠퍼스 \n",
       "17             서강대학교\n",
       "18             서경대학교\n",
       "19         서울과학기술대학교\n",
       "20           서울교육대학교\n",
       "21           서울기독대학교\n",
       "22             서울대학교\n",
       "23           서울시립대학교\n",
       "24           서울여자대학교\n",
       "25           서울한영대학교\n",
       "26            성공회대학교\n",
       "27    성균관대학교 서울캠퍼스  \n",
       "28           성신여자대학교\n",
       "29             세종대학교\n",
       "30           숙명여자대학교\n",
       "31             숭실대학교\n",
       "32             연세대학교\n",
       "33            육군사관학교\n",
       "34           이화여자대학교\n",
       "35          장로회신학대학교\n",
       "36      중앙대학교 서울캠퍼스 \n",
       "37             총신대학교\n",
       "38           추계예술대학교\n",
       "39         한국방송통신대학교\n",
       "40           한국성서대학교\n",
       "41          한국예술종합학교\n",
       "42          한국외국어대학교\n",
       "43           한국체육대학교\n",
       "44             한성대학교\n",
       "45             한양대학교\n",
       "46             홍익대학교\n",
       "Name: 대학교, dtype: object"
      ]
     },
     "execution_count": 100,
     "metadata": {},
     "output_type": "execute_result"
    }
   ],
   "source": [
    "df.대학교"
   ]
  },
  {
   "cell_type": "code",
   "execution_count": 101,
   "id": "953432cd-44e1-481e-bb4d-681ca18dfc1e",
   "metadata": {},
   "outputs": [
    {
     "data": {
      "text/plain": [
       "0     37.592573\n",
       "1     37.548345\n",
       "2     37.585922\n",
       "3     37.499623\n",
       "4     37.567645\n",
       "5     37.540762\n",
       "6     37.300485\n",
       "7     37.596195\n",
       "8     37.590192\n",
       "9     37.619496\n",
       "10    37.609641\n",
       "11    37.651199\n",
       "12    37.557477\n",
       "13    37.606320\n",
       "14    37.580205\n",
       "15    37.642952\n",
       "16    37.602638\n",
       "17    37.550944\n",
       "18    37.615095\n",
       "19    37.631668\n",
       "20    37.489961\n",
       "21    37.600923\n",
       "22    37.459882\n",
       "23    37.583866\n",
       "24    37.628113\n",
       "25    37.496541\n",
       "26    37.487232\n",
       "27    37.588227\n",
       "28    37.591310\n",
       "29    37.550260\n",
       "30    37.546364\n",
       "31    37.496311\n",
       "32    37.565784\n",
       "33    37.623819\n",
       "34    37.564308\n",
       "35    37.550511\n",
       "36    37.505088\n",
       "37    37.488623\n",
       "38    37.562452\n",
       "39    37.578613\n",
       "40    37.648749\n",
       "41    37.604997\n",
       "42    37.597319\n",
       "43    37.519627\n",
       "44    37.581785\n",
       "45    37.557232\n",
       "46    37.551464\n",
       "Name: 위도, dtype: float64"
      ]
     },
     "execution_count": 101,
     "metadata": {},
     "output_type": "execute_result"
    }
   ],
   "source": [
    "df.위도"
   ]
  },
  {
   "cell_type": "code",
   "execution_count": 102,
   "id": "113c5a46-91d6-4c81-a7e0-377c31adf048",
   "metadata": {},
   "outputs": [
    {
     "data": {
      "text/plain": [
       "0     127.046737\n",
       "1     126.854797\n",
       "2     127.004328\n",
       "3     127.006065\n",
       "4     126.961610\n",
       "5     127.079343\n",
       "6     127.035833\n",
       "7     127.052544\n",
       "8     127.033184\n",
       "9     127.059696\n",
       "10    126.997697\n",
       "11    127.016160\n",
       "12    127.002052\n",
       "13    127.041808\n",
       "14    126.923445\n",
       "15    127.105476\n",
       "16    126.955252\n",
       "17    126.941002\n",
       "18    127.013111\n",
       "19    127.077481\n",
       "20    127.016412\n",
       "21    126.912382\n",
       "22    126.951905\n",
       "23    127.058777\n",
       "24    127.090457\n",
       "25    126.851262\n",
       "26    126.825320\n",
       "27    126.993606\n",
       "28    127.022131\n",
       "29    127.073139\n",
       "30    126.964831\n",
       "31    126.957460\n",
       "32    126.938572\n",
       "33    127.098878\n",
       "34    126.950179\n",
       "35    127.103458\n",
       "36    126.957101\n",
       "37    126.966817\n",
       "38    126.953417\n",
       "39    127.003291\n",
       "40    127.064320\n",
       "41    127.056740\n",
       "42    127.057843\n",
       "43    127.130984\n",
       "44    127.010369\n",
       "45    127.045322\n",
       "46    126.925011\n",
       "Name: 경도, dtype: float64"
      ]
     },
     "execution_count": 102,
     "metadata": {},
     "output_type": "execute_result"
    }
   ],
   "source": [
    "df.경도"
   ]
  },
  {
   "cell_type": "code",
   "execution_count": 103,
   "id": "9a3b9513-189c-4815-bd7b-546dc4de615d",
   "metadata": {},
   "outputs": [
    {
     "name": "stdout",
     "output_type": "stream",
     "text": [
      "KAIST 서울캠퍼스  37.592573 127.046737\n",
      "KC대학교 37.5483449 126.8547974\n",
      "가톨릭대학교(성신교정) 37.5859218 127.0043275\n",
      "가톨릭대학교(성의교정) 37.4996227 127.0060653\n",
      "감리교신학대학교 37.5676455 126.96161\n",
      "건국대학교 37.5407625 127.0793428\n",
      "경기대학교 서울캠퍼스  37.30048499999999 127.035833\n",
      "경희대학교 서울캠퍼스  37.5961951 127.052544\n",
      "고려대학교 37.59019162 127.03318417123\n",
      "광운대학교 37.6194965 127.0596958\n",
      "국민대학교 37.6096409 126.997697\n",
      "덕성여자대학교 37.6511988 127.0161604\n",
      "동국대학교 37.5574771 127.0020518\n",
      "동덕여자대학교 37.6063202 127.041808\n",
      "명지대학교 서울캠퍼스  37.5802046 126.9234451\n",
      "삼육대학교 37.6429515 127.1054757\n",
      "상명대학교 서울캠퍼스  37.602638 126.955252\n",
      "서강대학교 37.5509442 126.9410023\n",
      "서경대학교 37.615095 127.0131113\n",
      "서울과학기술대학교 37.6316684 127.0774813\n",
      "서울교육대학교 37.4899615 127.0164124\n",
      "서울기독대학교 37.6009228 126.9123818\n",
      "서울대학교 37.459882 126.9519053\n",
      "서울시립대학교 37.5838657 127.0587771\n",
      "서울여자대학교 37.6281126 127.0904568\n",
      "서울한영대학교 37.4965411 126.8512616\n",
      "성공회대학교 37.4872325 126.8253202\n",
      "성균관대학교 서울캠퍼스   37.588227 126.993606\n",
      "성신여자대학교 37.5913103 127.0221312\n",
      "세종대학교 37.5502596 127.073139\n",
      "숙명여자대학교 37.5463644 126.9648311\n",
      "숭실대학교 37.4963111 126.9574596\n",
      "연세대학교 37.565784 126.938572\n",
      "육군사관학교 37.6238188 127.0988783\n",
      "이화여자대학교 37.5643079 126.9501786\n",
      "장로회신학대학교 37.5505112 127.1034577\n",
      "중앙대학교 서울캠퍼스  37.5050881 126.9571012\n",
      "총신대학교 37.4886232 126.9668169\n",
      "추계예술대학교 37.5624515 126.9534165\n",
      "한국방송통신대학교 37.5786127 127.0032905\n",
      "한국성서대학교 37.6487485 127.0643199\n",
      "한국예술종합학교 37.6049973 127.0567397\n",
      "한국외국어대학교 37.597319 127.057843\n",
      "한국체육대학교 37.5196266 127.1309837\n",
      "한성대학교 37.5817849 127.010369\n",
      "한양대학교 37.5572321 127.0453219\n",
      "홍익대학교 37.5514642 126.9250106\n"
     ]
    }
   ],
   "source": [
    "for i, j, k in zip(df.대학교, df.위도, df.경도):\n",
    "    print(i, j, k)"
   ]
  },
  {
   "cell_type": "code",
   "execution_count": 105,
   "id": "e4e495e5-b870-4f31-89ca-80dd83355280",
   "metadata": {},
   "outputs": [],
   "source": [
    "seoul_map = folium.Map(location = [37.55, 126.98], zoom_start = 12)"
   ]
  },
  {
   "cell_type": "code",
   "execution_count": 107,
   "id": "b5ce5d39-5675-4ba8-b27f-1c5d9a3cb993",
   "metadata": {},
   "outputs": [],
   "source": [
    "for name, lat, longt in zip(df.대학교, df.위도, df.경도):\n",
    "    folium.Marker([lat, longt], tooltip = name).add_to(seoul_map)"
   ]
  },
  {
   "cell_type": "code",
   "execution_count": 108,
   "id": "7a34d9e0-8d4c-4a7f-a9d6-cb514370ecfa",
   "metadata": {
    "collapsed": true,
    "jupyter": {
     "outputs_hidden": true
    },
    "tags": []
   },
   "outputs": [
    {
     "data": {
      "text/html": [
       "<div style=\"width:100%;\"><div style=\"position:relative;width:100%;height:0;padding-bottom:60%;\"><span style=\"color:#565656\">Make this Notebook Trusted to load map: File -> Trust Notebook</span><iframe srcdoc=\"&lt;!DOCTYPE html&gt;\n",
       "&lt;head&gt;    \n",
       "    &lt;meta http-equiv=&quot;content-type&quot; content=&quot;text/html; charset=UTF-8&quot; /&gt;\n",
       "    \n",
       "        &lt;script&gt;\n",
       "            L_NO_TOUCH = false;\n",
       "            L_DISABLE_3D = false;\n",
       "        &lt;/script&gt;\n",
       "    \n",
       "    &lt;style&gt;html, body {width: 100%;height: 100%;margin: 0;padding: 0;}&lt;/style&gt;\n",
       "    &lt;style&gt;#map {position:absolute;top:0;bottom:0;right:0;left:0;}&lt;/style&gt;\n",
       "    &lt;script src=&quot;https://cdn.jsdelivr.net/npm/leaflet@1.6.0/dist/leaflet.js&quot;&gt;&lt;/script&gt;\n",
       "    &lt;script src=&quot;https://code.jquery.com/jquery-1.12.4.min.js&quot;&gt;&lt;/script&gt;\n",
       "    &lt;script src=&quot;https://maxcdn.bootstrapcdn.com/bootstrap/3.2.0/js/bootstrap.min.js&quot;&gt;&lt;/script&gt;\n",
       "    &lt;script src=&quot;https://cdnjs.cloudflare.com/ajax/libs/Leaflet.awesome-markers/2.0.2/leaflet.awesome-markers.js&quot;&gt;&lt;/script&gt;\n",
       "    &lt;link rel=&quot;stylesheet&quot; href=&quot;https://cdn.jsdelivr.net/npm/leaflet@1.6.0/dist/leaflet.css&quot;/&gt;\n",
       "    &lt;link rel=&quot;stylesheet&quot; href=&quot;https://maxcdn.bootstrapcdn.com/bootstrap/3.2.0/css/bootstrap.min.css&quot;/&gt;\n",
       "    &lt;link rel=&quot;stylesheet&quot; href=&quot;https://maxcdn.bootstrapcdn.com/bootstrap/3.2.0/css/bootstrap-theme.min.css&quot;/&gt;\n",
       "    &lt;link rel=&quot;stylesheet&quot; href=&quot;https://maxcdn.bootstrapcdn.com/font-awesome/4.6.3/css/font-awesome.min.css&quot;/&gt;\n",
       "    &lt;link rel=&quot;stylesheet&quot; href=&quot;https://cdnjs.cloudflare.com/ajax/libs/Leaflet.awesome-markers/2.0.2/leaflet.awesome-markers.css&quot;/&gt;\n",
       "    &lt;link rel=&quot;stylesheet&quot; href=&quot;https://cdn.jsdelivr.net/gh/python-visualization/folium/folium/templates/leaflet.awesome.rotate.min.css&quot;/&gt;\n",
       "    \n",
       "            &lt;meta name=&quot;viewport&quot; content=&quot;width=device-width,\n",
       "                initial-scale=1.0, maximum-scale=1.0, user-scalable=no&quot; /&gt;\n",
       "            &lt;style&gt;\n",
       "                #map_ac8a14901cf11614bc6443caea365bee {\n",
       "                    position: relative;\n",
       "                    width: 100.0%;\n",
       "                    height: 100.0%;\n",
       "                    left: 0.0%;\n",
       "                    top: 0.0%;\n",
       "                }\n",
       "            &lt;/style&gt;\n",
       "        \n",
       "&lt;/head&gt;\n",
       "&lt;body&gt;    \n",
       "    \n",
       "            &lt;div class=&quot;folium-map&quot; id=&quot;map_ac8a14901cf11614bc6443caea365bee&quot; &gt;&lt;/div&gt;\n",
       "        \n",
       "&lt;/body&gt;\n",
       "&lt;script&gt;    \n",
       "    \n",
       "            var map_ac8a14901cf11614bc6443caea365bee = L.map(\n",
       "                &quot;map_ac8a14901cf11614bc6443caea365bee&quot;,\n",
       "                {\n",
       "                    center: [37.55, 126.98],\n",
       "                    crs: L.CRS.EPSG3857,\n",
       "                    zoom: 12,\n",
       "                    zoomControl: true,\n",
       "                    preferCanvas: false,\n",
       "                }\n",
       "            );\n",
       "\n",
       "            \n",
       "\n",
       "        \n",
       "    \n",
       "            var tile_layer_85d0f74f89d6cd7b040805bcc1c82ff2 = L.tileLayer(\n",
       "                &quot;https://{s}.tile.openstreetmap.org/{z}/{x}/{y}.png&quot;,\n",
       "                {&quot;attribution&quot;: &quot;Data by \\u0026copy; \\u003ca href=\\&quot;http://openstreetmap.org\\&quot;\\u003eOpenStreetMap\\u003c/a\\u003e, under \\u003ca href=\\&quot;http://www.openstreetmap.org/copyright\\&quot;\\u003eODbL\\u003c/a\\u003e.&quot;, &quot;detectRetina&quot;: false, &quot;maxNativeZoom&quot;: 18, &quot;maxZoom&quot;: 18, &quot;minZoom&quot;: 0, &quot;noWrap&quot;: false, &quot;opacity&quot;: 1, &quot;subdomains&quot;: &quot;abc&quot;, &quot;tms&quot;: false}\n",
       "            ).addTo(map_ac8a14901cf11614bc6443caea365bee);\n",
       "        \n",
       "    \n",
       "            var marker_947444de93f9832e8ceacfbf09a58aad = L.marker(\n",
       "                [37.592573, 127.046737],\n",
       "                {}\n",
       "            ).addTo(map_ac8a14901cf11614bc6443caea365bee);\n",
       "        \n",
       "    \n",
       "            marker_947444de93f9832e8ceacfbf09a58aad.bindTooltip(\n",
       "                `&lt;div&gt;\n",
       "                     KAIST 서울캠퍼스 \n",
       "                 &lt;/div&gt;`,\n",
       "                {&quot;sticky&quot;: true}\n",
       "            );\n",
       "        \n",
       "    \n",
       "            var marker_5c98368703bacb1b90dba046e6277bc2 = L.marker(\n",
       "                [37.5483449, 126.8547974],\n",
       "                {}\n",
       "            ).addTo(map_ac8a14901cf11614bc6443caea365bee);\n",
       "        \n",
       "    \n",
       "            marker_5c98368703bacb1b90dba046e6277bc2.bindTooltip(\n",
       "                `&lt;div&gt;\n",
       "                     KC대학교\n",
       "                 &lt;/div&gt;`,\n",
       "                {&quot;sticky&quot;: true}\n",
       "            );\n",
       "        \n",
       "    \n",
       "            var marker_b2f03a26b537675561e38291b9f47373 = L.marker(\n",
       "                [37.5859218, 127.0043275],\n",
       "                {}\n",
       "            ).addTo(map_ac8a14901cf11614bc6443caea365bee);\n",
       "        \n",
       "    \n",
       "            marker_b2f03a26b537675561e38291b9f47373.bindTooltip(\n",
       "                `&lt;div&gt;\n",
       "                     가톨릭대학교(성신교정)\n",
       "                 &lt;/div&gt;`,\n",
       "                {&quot;sticky&quot;: true}\n",
       "            );\n",
       "        \n",
       "    \n",
       "            var marker_013ac2a2b38f05045076c23bb206fda0 = L.marker(\n",
       "                [37.4996227, 127.0060653],\n",
       "                {}\n",
       "            ).addTo(map_ac8a14901cf11614bc6443caea365bee);\n",
       "        \n",
       "    \n",
       "            marker_013ac2a2b38f05045076c23bb206fda0.bindTooltip(\n",
       "                `&lt;div&gt;\n",
       "                     가톨릭대학교(성의교정)\n",
       "                 &lt;/div&gt;`,\n",
       "                {&quot;sticky&quot;: true}\n",
       "            );\n",
       "        \n",
       "    \n",
       "            var marker_c7fb4895a380795ff072111a729e981b = L.marker(\n",
       "                [37.5676455, 126.96161],\n",
       "                {}\n",
       "            ).addTo(map_ac8a14901cf11614bc6443caea365bee);\n",
       "        \n",
       "    \n",
       "            marker_c7fb4895a380795ff072111a729e981b.bindTooltip(\n",
       "                `&lt;div&gt;\n",
       "                     감리교신학대학교\n",
       "                 &lt;/div&gt;`,\n",
       "                {&quot;sticky&quot;: true}\n",
       "            );\n",
       "        \n",
       "    \n",
       "            var marker_76fb2339472472c4868705ba1b08ac63 = L.marker(\n",
       "                [37.5407625, 127.0793428],\n",
       "                {}\n",
       "            ).addTo(map_ac8a14901cf11614bc6443caea365bee);\n",
       "        \n",
       "    \n",
       "            marker_76fb2339472472c4868705ba1b08ac63.bindTooltip(\n",
       "                `&lt;div&gt;\n",
       "                     건국대학교\n",
       "                 &lt;/div&gt;`,\n",
       "                {&quot;sticky&quot;: true}\n",
       "            );\n",
       "        \n",
       "    \n",
       "            var marker_74f98f9da1127644015ab84fe7f68f58 = L.marker(\n",
       "                [37.30048499999999, 127.035833],\n",
       "                {}\n",
       "            ).addTo(map_ac8a14901cf11614bc6443caea365bee);\n",
       "        \n",
       "    \n",
       "            marker_74f98f9da1127644015ab84fe7f68f58.bindTooltip(\n",
       "                `&lt;div&gt;\n",
       "                     경기대학교 서울캠퍼스 \n",
       "                 &lt;/div&gt;`,\n",
       "                {&quot;sticky&quot;: true}\n",
       "            );\n",
       "        \n",
       "    \n",
       "            var marker_6decef52e365b3f1e23400c3541c8e80 = L.marker(\n",
       "                [37.5961951, 127.052544],\n",
       "                {}\n",
       "            ).addTo(map_ac8a14901cf11614bc6443caea365bee);\n",
       "        \n",
       "    \n",
       "            marker_6decef52e365b3f1e23400c3541c8e80.bindTooltip(\n",
       "                `&lt;div&gt;\n",
       "                     경희대학교 서울캠퍼스 \n",
       "                 &lt;/div&gt;`,\n",
       "                {&quot;sticky&quot;: true}\n",
       "            );\n",
       "        \n",
       "    \n",
       "            var marker_5fc9efd51147d1a75be3ff66a59d4aab = L.marker(\n",
       "                [37.59019162, 127.03318417123],\n",
       "                {}\n",
       "            ).addTo(map_ac8a14901cf11614bc6443caea365bee);\n",
       "        \n",
       "    \n",
       "            marker_5fc9efd51147d1a75be3ff66a59d4aab.bindTooltip(\n",
       "                `&lt;div&gt;\n",
       "                     고려대학교\n",
       "                 &lt;/div&gt;`,\n",
       "                {&quot;sticky&quot;: true}\n",
       "            );\n",
       "        \n",
       "    \n",
       "            var marker_7a16e7baffcc561041823bd5028862b5 = L.marker(\n",
       "                [37.6194965, 127.0596958],\n",
       "                {}\n",
       "            ).addTo(map_ac8a14901cf11614bc6443caea365bee);\n",
       "        \n",
       "    \n",
       "            marker_7a16e7baffcc561041823bd5028862b5.bindTooltip(\n",
       "                `&lt;div&gt;\n",
       "                     광운대학교\n",
       "                 &lt;/div&gt;`,\n",
       "                {&quot;sticky&quot;: true}\n",
       "            );\n",
       "        \n",
       "    \n",
       "            var marker_85cd516071f05e626718148ed6ea36fc = L.marker(\n",
       "                [37.6096409, 126.997697],\n",
       "                {}\n",
       "            ).addTo(map_ac8a14901cf11614bc6443caea365bee);\n",
       "        \n",
       "    \n",
       "            marker_85cd516071f05e626718148ed6ea36fc.bindTooltip(\n",
       "                `&lt;div&gt;\n",
       "                     국민대학교\n",
       "                 &lt;/div&gt;`,\n",
       "                {&quot;sticky&quot;: true}\n",
       "            );\n",
       "        \n",
       "    \n",
       "            var marker_63757bbfd3400333786903c8f7181d90 = L.marker(\n",
       "                [37.6511988, 127.0161604],\n",
       "                {}\n",
       "            ).addTo(map_ac8a14901cf11614bc6443caea365bee);\n",
       "        \n",
       "    \n",
       "            marker_63757bbfd3400333786903c8f7181d90.bindTooltip(\n",
       "                `&lt;div&gt;\n",
       "                     덕성여자대학교\n",
       "                 &lt;/div&gt;`,\n",
       "                {&quot;sticky&quot;: true}\n",
       "            );\n",
       "        \n",
       "    \n",
       "            var marker_91080f531db682e2fb4cd61f0180461d = L.marker(\n",
       "                [37.5574771, 127.0020518],\n",
       "                {}\n",
       "            ).addTo(map_ac8a14901cf11614bc6443caea365bee);\n",
       "        \n",
       "    \n",
       "            marker_91080f531db682e2fb4cd61f0180461d.bindTooltip(\n",
       "                `&lt;div&gt;\n",
       "                     동국대학교\n",
       "                 &lt;/div&gt;`,\n",
       "                {&quot;sticky&quot;: true}\n",
       "            );\n",
       "        \n",
       "    \n",
       "            var marker_663f0a86dd403db1e48feea9af581051 = L.marker(\n",
       "                [37.6063202, 127.041808],\n",
       "                {}\n",
       "            ).addTo(map_ac8a14901cf11614bc6443caea365bee);\n",
       "        \n",
       "    \n",
       "            marker_663f0a86dd403db1e48feea9af581051.bindTooltip(\n",
       "                `&lt;div&gt;\n",
       "                     동덕여자대학교\n",
       "                 &lt;/div&gt;`,\n",
       "                {&quot;sticky&quot;: true}\n",
       "            );\n",
       "        \n",
       "    \n",
       "            var marker_82e23593ae620c550bcbfa1dda6973b5 = L.marker(\n",
       "                [37.5802046, 126.9234451],\n",
       "                {}\n",
       "            ).addTo(map_ac8a14901cf11614bc6443caea365bee);\n",
       "        \n",
       "    \n",
       "            marker_82e23593ae620c550bcbfa1dda6973b5.bindTooltip(\n",
       "                `&lt;div&gt;\n",
       "                     명지대학교 서울캠퍼스 \n",
       "                 &lt;/div&gt;`,\n",
       "                {&quot;sticky&quot;: true}\n",
       "            );\n",
       "        \n",
       "    \n",
       "            var marker_e992bc875027fec7f5a41d661d0845c5 = L.marker(\n",
       "                [37.6429515, 127.1054757],\n",
       "                {}\n",
       "            ).addTo(map_ac8a14901cf11614bc6443caea365bee);\n",
       "        \n",
       "    \n",
       "            marker_e992bc875027fec7f5a41d661d0845c5.bindTooltip(\n",
       "                `&lt;div&gt;\n",
       "                     삼육대학교\n",
       "                 &lt;/div&gt;`,\n",
       "                {&quot;sticky&quot;: true}\n",
       "            );\n",
       "        \n",
       "    \n",
       "            var marker_4ba7d11b86abb7d9ad748efbf08b24fb = L.marker(\n",
       "                [37.602638, 126.955252],\n",
       "                {}\n",
       "            ).addTo(map_ac8a14901cf11614bc6443caea365bee);\n",
       "        \n",
       "    \n",
       "            marker_4ba7d11b86abb7d9ad748efbf08b24fb.bindTooltip(\n",
       "                `&lt;div&gt;\n",
       "                     상명대학교 서울캠퍼스 \n",
       "                 &lt;/div&gt;`,\n",
       "                {&quot;sticky&quot;: true}\n",
       "            );\n",
       "        \n",
       "    \n",
       "            var marker_fc9fff5d9821023107f09a35b339658c = L.marker(\n",
       "                [37.5509442, 126.9410023],\n",
       "                {}\n",
       "            ).addTo(map_ac8a14901cf11614bc6443caea365bee);\n",
       "        \n",
       "    \n",
       "            marker_fc9fff5d9821023107f09a35b339658c.bindTooltip(\n",
       "                `&lt;div&gt;\n",
       "                     서강대학교\n",
       "                 &lt;/div&gt;`,\n",
       "                {&quot;sticky&quot;: true}\n",
       "            );\n",
       "        \n",
       "    \n",
       "            var marker_139e5f591e38dbf2106bf46a0aff9cf2 = L.marker(\n",
       "                [37.615095, 127.0131113],\n",
       "                {}\n",
       "            ).addTo(map_ac8a14901cf11614bc6443caea365bee);\n",
       "        \n",
       "    \n",
       "            marker_139e5f591e38dbf2106bf46a0aff9cf2.bindTooltip(\n",
       "                `&lt;div&gt;\n",
       "                     서경대학교\n",
       "                 &lt;/div&gt;`,\n",
       "                {&quot;sticky&quot;: true}\n",
       "            );\n",
       "        \n",
       "    \n",
       "            var marker_6f8274d85419c2d2121f867991312d75 = L.marker(\n",
       "                [37.6316684, 127.0774813],\n",
       "                {}\n",
       "            ).addTo(map_ac8a14901cf11614bc6443caea365bee);\n",
       "        \n",
       "    \n",
       "            marker_6f8274d85419c2d2121f867991312d75.bindTooltip(\n",
       "                `&lt;div&gt;\n",
       "                     서울과학기술대학교\n",
       "                 &lt;/div&gt;`,\n",
       "                {&quot;sticky&quot;: true}\n",
       "            );\n",
       "        \n",
       "    \n",
       "            var marker_550f1ee7fc9a4fea5d3d2664b822d3cb = L.marker(\n",
       "                [37.4899615, 127.0164124],\n",
       "                {}\n",
       "            ).addTo(map_ac8a14901cf11614bc6443caea365bee);\n",
       "        \n",
       "    \n",
       "            marker_550f1ee7fc9a4fea5d3d2664b822d3cb.bindTooltip(\n",
       "                `&lt;div&gt;\n",
       "                     서울교육대학교\n",
       "                 &lt;/div&gt;`,\n",
       "                {&quot;sticky&quot;: true}\n",
       "            );\n",
       "        \n",
       "    \n",
       "            var marker_f352e2f1dbbd1ca5ab340d287bf5e77e = L.marker(\n",
       "                [37.6009228, 126.9123818],\n",
       "                {}\n",
       "            ).addTo(map_ac8a14901cf11614bc6443caea365bee);\n",
       "        \n",
       "    \n",
       "            marker_f352e2f1dbbd1ca5ab340d287bf5e77e.bindTooltip(\n",
       "                `&lt;div&gt;\n",
       "                     서울기독대학교\n",
       "                 &lt;/div&gt;`,\n",
       "                {&quot;sticky&quot;: true}\n",
       "            );\n",
       "        \n",
       "    \n",
       "            var marker_2c0c074532fae4c1fefebbf86c2263d1 = L.marker(\n",
       "                [37.459882, 126.9519053],\n",
       "                {}\n",
       "            ).addTo(map_ac8a14901cf11614bc6443caea365bee);\n",
       "        \n",
       "    \n",
       "            marker_2c0c074532fae4c1fefebbf86c2263d1.bindTooltip(\n",
       "                `&lt;div&gt;\n",
       "                     서울대학교\n",
       "                 &lt;/div&gt;`,\n",
       "                {&quot;sticky&quot;: true}\n",
       "            );\n",
       "        \n",
       "    \n",
       "            var marker_92043c000b50ae3d59342f4d376b47b1 = L.marker(\n",
       "                [37.5838657, 127.0587771],\n",
       "                {}\n",
       "            ).addTo(map_ac8a14901cf11614bc6443caea365bee);\n",
       "        \n",
       "    \n",
       "            marker_92043c000b50ae3d59342f4d376b47b1.bindTooltip(\n",
       "                `&lt;div&gt;\n",
       "                     서울시립대학교\n",
       "                 &lt;/div&gt;`,\n",
       "                {&quot;sticky&quot;: true}\n",
       "            );\n",
       "        \n",
       "    \n",
       "            var marker_dca238a1fc8358f5f2b4c52bdf91f561 = L.marker(\n",
       "                [37.6281126, 127.0904568],\n",
       "                {}\n",
       "            ).addTo(map_ac8a14901cf11614bc6443caea365bee);\n",
       "        \n",
       "    \n",
       "            marker_dca238a1fc8358f5f2b4c52bdf91f561.bindTooltip(\n",
       "                `&lt;div&gt;\n",
       "                     서울여자대학교\n",
       "                 &lt;/div&gt;`,\n",
       "                {&quot;sticky&quot;: true}\n",
       "            );\n",
       "        \n",
       "    \n",
       "            var marker_e72ece0c0809dbee65afcb923e6cf977 = L.marker(\n",
       "                [37.4965411, 126.8512616],\n",
       "                {}\n",
       "            ).addTo(map_ac8a14901cf11614bc6443caea365bee);\n",
       "        \n",
       "    \n",
       "            marker_e72ece0c0809dbee65afcb923e6cf977.bindTooltip(\n",
       "                `&lt;div&gt;\n",
       "                     서울한영대학교\n",
       "                 &lt;/div&gt;`,\n",
       "                {&quot;sticky&quot;: true}\n",
       "            );\n",
       "        \n",
       "    \n",
       "            var marker_5937c13c8bdceef87b69b5e9102ca798 = L.marker(\n",
       "                [37.4872325, 126.8253202],\n",
       "                {}\n",
       "            ).addTo(map_ac8a14901cf11614bc6443caea365bee);\n",
       "        \n",
       "    \n",
       "            marker_5937c13c8bdceef87b69b5e9102ca798.bindTooltip(\n",
       "                `&lt;div&gt;\n",
       "                     성공회대학교\n",
       "                 &lt;/div&gt;`,\n",
       "                {&quot;sticky&quot;: true}\n",
       "            );\n",
       "        \n",
       "    \n",
       "            var marker_7368acedc6688ab94c390423f2310972 = L.marker(\n",
       "                [37.588227, 126.993606],\n",
       "                {}\n",
       "            ).addTo(map_ac8a14901cf11614bc6443caea365bee);\n",
       "        \n",
       "    \n",
       "            marker_7368acedc6688ab94c390423f2310972.bindTooltip(\n",
       "                `&lt;div&gt;\n",
       "                     성균관대학교 서울캠퍼스  \n",
       "                 &lt;/div&gt;`,\n",
       "                {&quot;sticky&quot;: true}\n",
       "            );\n",
       "        \n",
       "    \n",
       "            var marker_6288e2a38aaaf289e74939b83f654ee3 = L.marker(\n",
       "                [37.5913103, 127.0221312],\n",
       "                {}\n",
       "            ).addTo(map_ac8a14901cf11614bc6443caea365bee);\n",
       "        \n",
       "    \n",
       "            marker_6288e2a38aaaf289e74939b83f654ee3.bindTooltip(\n",
       "                `&lt;div&gt;\n",
       "                     성신여자대학교\n",
       "                 &lt;/div&gt;`,\n",
       "                {&quot;sticky&quot;: true}\n",
       "            );\n",
       "        \n",
       "    \n",
       "            var marker_f8c2c7993ad8fb9a9114ce0dd919f54f = L.marker(\n",
       "                [37.5502596, 127.073139],\n",
       "                {}\n",
       "            ).addTo(map_ac8a14901cf11614bc6443caea365bee);\n",
       "        \n",
       "    \n",
       "            marker_f8c2c7993ad8fb9a9114ce0dd919f54f.bindTooltip(\n",
       "                `&lt;div&gt;\n",
       "                     세종대학교\n",
       "                 &lt;/div&gt;`,\n",
       "                {&quot;sticky&quot;: true}\n",
       "            );\n",
       "        \n",
       "    \n",
       "            var marker_9079b456f8d05710c7ee2e47d45e5973 = L.marker(\n",
       "                [37.5463644, 126.9648311],\n",
       "                {}\n",
       "            ).addTo(map_ac8a14901cf11614bc6443caea365bee);\n",
       "        \n",
       "    \n",
       "            marker_9079b456f8d05710c7ee2e47d45e5973.bindTooltip(\n",
       "                `&lt;div&gt;\n",
       "                     숙명여자대학교\n",
       "                 &lt;/div&gt;`,\n",
       "                {&quot;sticky&quot;: true}\n",
       "            );\n",
       "        \n",
       "    \n",
       "            var marker_c6fb3093ad344297ff0fdee995bfb850 = L.marker(\n",
       "                [37.4963111, 126.9574596],\n",
       "                {}\n",
       "            ).addTo(map_ac8a14901cf11614bc6443caea365bee);\n",
       "        \n",
       "    \n",
       "            marker_c6fb3093ad344297ff0fdee995bfb850.bindTooltip(\n",
       "                `&lt;div&gt;\n",
       "                     숭실대학교\n",
       "                 &lt;/div&gt;`,\n",
       "                {&quot;sticky&quot;: true}\n",
       "            );\n",
       "        \n",
       "    \n",
       "            var marker_5614c13649061ac85a1593b8448ec9b8 = L.marker(\n",
       "                [37.565784, 126.938572],\n",
       "                {}\n",
       "            ).addTo(map_ac8a14901cf11614bc6443caea365bee);\n",
       "        \n",
       "    \n",
       "            marker_5614c13649061ac85a1593b8448ec9b8.bindTooltip(\n",
       "                `&lt;div&gt;\n",
       "                     연세대학교\n",
       "                 &lt;/div&gt;`,\n",
       "                {&quot;sticky&quot;: true}\n",
       "            );\n",
       "        \n",
       "    \n",
       "            var marker_4adeb6e5dc2b921a77ff7d8052a75f99 = L.marker(\n",
       "                [37.6238188, 127.0988783],\n",
       "                {}\n",
       "            ).addTo(map_ac8a14901cf11614bc6443caea365bee);\n",
       "        \n",
       "    \n",
       "            marker_4adeb6e5dc2b921a77ff7d8052a75f99.bindTooltip(\n",
       "                `&lt;div&gt;\n",
       "                     육군사관학교\n",
       "                 &lt;/div&gt;`,\n",
       "                {&quot;sticky&quot;: true}\n",
       "            );\n",
       "        \n",
       "    \n",
       "            var marker_58e4b1980d1ab93be4acece6f3f05ae7 = L.marker(\n",
       "                [37.5643079, 126.9501786],\n",
       "                {}\n",
       "            ).addTo(map_ac8a14901cf11614bc6443caea365bee);\n",
       "        \n",
       "    \n",
       "            marker_58e4b1980d1ab93be4acece6f3f05ae7.bindTooltip(\n",
       "                `&lt;div&gt;\n",
       "                     이화여자대학교\n",
       "                 &lt;/div&gt;`,\n",
       "                {&quot;sticky&quot;: true}\n",
       "            );\n",
       "        \n",
       "    \n",
       "            var marker_80768b138f27921798e413074257712f = L.marker(\n",
       "                [37.5505112, 127.1034577],\n",
       "                {}\n",
       "            ).addTo(map_ac8a14901cf11614bc6443caea365bee);\n",
       "        \n",
       "    \n",
       "            marker_80768b138f27921798e413074257712f.bindTooltip(\n",
       "                `&lt;div&gt;\n",
       "                     장로회신학대학교\n",
       "                 &lt;/div&gt;`,\n",
       "                {&quot;sticky&quot;: true}\n",
       "            );\n",
       "        \n",
       "    \n",
       "            var marker_c56dba0026b0e6487bff7b111e79390b = L.marker(\n",
       "                [37.5050881, 126.9571012],\n",
       "                {}\n",
       "            ).addTo(map_ac8a14901cf11614bc6443caea365bee);\n",
       "        \n",
       "    \n",
       "            marker_c56dba0026b0e6487bff7b111e79390b.bindTooltip(\n",
       "                `&lt;div&gt;\n",
       "                     중앙대학교 서울캠퍼스 \n",
       "                 &lt;/div&gt;`,\n",
       "                {&quot;sticky&quot;: true}\n",
       "            );\n",
       "        \n",
       "    \n",
       "            var marker_e1ffb27521300872acfb1f8d9a63c5dc = L.marker(\n",
       "                [37.4886232, 126.9668169],\n",
       "                {}\n",
       "            ).addTo(map_ac8a14901cf11614bc6443caea365bee);\n",
       "        \n",
       "    \n",
       "            marker_e1ffb27521300872acfb1f8d9a63c5dc.bindTooltip(\n",
       "                `&lt;div&gt;\n",
       "                     총신대학교\n",
       "                 &lt;/div&gt;`,\n",
       "                {&quot;sticky&quot;: true}\n",
       "            );\n",
       "        \n",
       "    \n",
       "            var marker_742590931a1518d11009ceed3bae7b6b = L.marker(\n",
       "                [37.5624515, 126.9534165],\n",
       "                {}\n",
       "            ).addTo(map_ac8a14901cf11614bc6443caea365bee);\n",
       "        \n",
       "    \n",
       "            marker_742590931a1518d11009ceed3bae7b6b.bindTooltip(\n",
       "                `&lt;div&gt;\n",
       "                     추계예술대학교\n",
       "                 &lt;/div&gt;`,\n",
       "                {&quot;sticky&quot;: true}\n",
       "            );\n",
       "        \n",
       "    \n",
       "            var marker_73bed1eab6b195b52e3c687b1014fe91 = L.marker(\n",
       "                [37.5786127, 127.0032905],\n",
       "                {}\n",
       "            ).addTo(map_ac8a14901cf11614bc6443caea365bee);\n",
       "        \n",
       "    \n",
       "            marker_73bed1eab6b195b52e3c687b1014fe91.bindTooltip(\n",
       "                `&lt;div&gt;\n",
       "                     한국방송통신대학교\n",
       "                 &lt;/div&gt;`,\n",
       "                {&quot;sticky&quot;: true}\n",
       "            );\n",
       "        \n",
       "    \n",
       "            var marker_ce352b465db5aa24f0976931ca5a9ee6 = L.marker(\n",
       "                [37.6487485, 127.0643199],\n",
       "                {}\n",
       "            ).addTo(map_ac8a14901cf11614bc6443caea365bee);\n",
       "        \n",
       "    \n",
       "            marker_ce352b465db5aa24f0976931ca5a9ee6.bindTooltip(\n",
       "                `&lt;div&gt;\n",
       "                     한국성서대학교\n",
       "                 &lt;/div&gt;`,\n",
       "                {&quot;sticky&quot;: true}\n",
       "            );\n",
       "        \n",
       "    \n",
       "            var marker_a2905ba348e57a9bbd1c4810e327c74b = L.marker(\n",
       "                [37.6049973, 127.0567397],\n",
       "                {}\n",
       "            ).addTo(map_ac8a14901cf11614bc6443caea365bee);\n",
       "        \n",
       "    \n",
       "            marker_a2905ba348e57a9bbd1c4810e327c74b.bindTooltip(\n",
       "                `&lt;div&gt;\n",
       "                     한국예술종합학교\n",
       "                 &lt;/div&gt;`,\n",
       "                {&quot;sticky&quot;: true}\n",
       "            );\n",
       "        \n",
       "    \n",
       "            var marker_f0bb9bf20ca08fc4611000d5a5994bac = L.marker(\n",
       "                [37.597319, 127.057843],\n",
       "                {}\n",
       "            ).addTo(map_ac8a14901cf11614bc6443caea365bee);\n",
       "        \n",
       "    \n",
       "            marker_f0bb9bf20ca08fc4611000d5a5994bac.bindTooltip(\n",
       "                `&lt;div&gt;\n",
       "                     한국외국어대학교\n",
       "                 &lt;/div&gt;`,\n",
       "                {&quot;sticky&quot;: true}\n",
       "            );\n",
       "        \n",
       "    \n",
       "            var marker_b290c673cda90bfa02b1cf627034ba85 = L.marker(\n",
       "                [37.5196266, 127.1309837],\n",
       "                {}\n",
       "            ).addTo(map_ac8a14901cf11614bc6443caea365bee);\n",
       "        \n",
       "    \n",
       "            marker_b290c673cda90bfa02b1cf627034ba85.bindTooltip(\n",
       "                `&lt;div&gt;\n",
       "                     한국체육대학교\n",
       "                 &lt;/div&gt;`,\n",
       "                {&quot;sticky&quot;: true}\n",
       "            );\n",
       "        \n",
       "    \n",
       "            var marker_675401022917e56b69de876e1c24ee3a = L.marker(\n",
       "                [37.5817849, 127.010369],\n",
       "                {}\n",
       "            ).addTo(map_ac8a14901cf11614bc6443caea365bee);\n",
       "        \n",
       "    \n",
       "            marker_675401022917e56b69de876e1c24ee3a.bindTooltip(\n",
       "                `&lt;div&gt;\n",
       "                     한성대학교\n",
       "                 &lt;/div&gt;`,\n",
       "                {&quot;sticky&quot;: true}\n",
       "            );\n",
       "        \n",
       "    \n",
       "            var marker_9baae6edb9f52ca7a2cfdbd0872ee824 = L.marker(\n",
       "                [37.5572321, 127.0453219],\n",
       "                {}\n",
       "            ).addTo(map_ac8a14901cf11614bc6443caea365bee);\n",
       "        \n",
       "    \n",
       "            marker_9baae6edb9f52ca7a2cfdbd0872ee824.bindTooltip(\n",
       "                `&lt;div&gt;\n",
       "                     한양대학교\n",
       "                 &lt;/div&gt;`,\n",
       "                {&quot;sticky&quot;: true}\n",
       "            );\n",
       "        \n",
       "    \n",
       "            var marker_72d7b230ab08cc2bad5740b2b9ccd8d4 = L.marker(\n",
       "                [37.5514642, 126.9250106],\n",
       "                {}\n",
       "            ).addTo(map_ac8a14901cf11614bc6443caea365bee);\n",
       "        \n",
       "    \n",
       "            marker_72d7b230ab08cc2bad5740b2b9ccd8d4.bindTooltip(\n",
       "                `&lt;div&gt;\n",
       "                     홍익대학교\n",
       "                 &lt;/div&gt;`,\n",
       "                {&quot;sticky&quot;: true}\n",
       "            );\n",
       "        \n",
       "&lt;/script&gt;\" style=\"position:absolute;width:100%;height:100%;left:0;top:0;border:none !important;\" allowfullscreen webkitallowfullscreen mozallowfullscreen></iframe></div></div>"
      ],
      "text/plain": [
       "<folium.folium.Map at 0x268d72981c0>"
      ]
     },
     "execution_count": 108,
     "metadata": {},
     "output_type": "execute_result"
    }
   ],
   "source": [
    "seoul_map"
   ]
  },
  {
   "cell_type": "markdown",
   "id": "fd6121eb-8de2-45ef-890b-b8a36292c449",
   "metadata": {},
   "source": [
    "- 최소코드"
   ]
  },
  {
   "cell_type": "code",
   "execution_count": 111,
   "id": "3d11d4e2-28b7-4696-b987-d6cae870c891",
   "metadata": {
    "collapsed": true,
    "jupyter": {
     "outputs_hidden": true
    },
    "tags": []
   },
   "outputs": [
    {
     "data": {
      "text/html": [
       "<div style=\"width:100%;\"><div style=\"position:relative;width:100%;height:0;padding-bottom:60%;\"><span style=\"color:#565656\">Make this Notebook Trusted to load map: File -> Trust Notebook</span><iframe srcdoc=\"&lt;!DOCTYPE html&gt;\n",
       "&lt;head&gt;    \n",
       "    &lt;meta http-equiv=&quot;content-type&quot; content=&quot;text/html; charset=UTF-8&quot; /&gt;\n",
       "    \n",
       "        &lt;script&gt;\n",
       "            L_NO_TOUCH = false;\n",
       "            L_DISABLE_3D = false;\n",
       "        &lt;/script&gt;\n",
       "    \n",
       "    &lt;style&gt;html, body {width: 100%;height: 100%;margin: 0;padding: 0;}&lt;/style&gt;\n",
       "    &lt;style&gt;#map {position:absolute;top:0;bottom:0;right:0;left:0;}&lt;/style&gt;\n",
       "    &lt;script src=&quot;https://cdn.jsdelivr.net/npm/leaflet@1.6.0/dist/leaflet.js&quot;&gt;&lt;/script&gt;\n",
       "    &lt;script src=&quot;https://code.jquery.com/jquery-1.12.4.min.js&quot;&gt;&lt;/script&gt;\n",
       "    &lt;script src=&quot;https://maxcdn.bootstrapcdn.com/bootstrap/3.2.0/js/bootstrap.min.js&quot;&gt;&lt;/script&gt;\n",
       "    &lt;script src=&quot;https://cdnjs.cloudflare.com/ajax/libs/Leaflet.awesome-markers/2.0.2/leaflet.awesome-markers.js&quot;&gt;&lt;/script&gt;\n",
       "    &lt;link rel=&quot;stylesheet&quot; href=&quot;https://cdn.jsdelivr.net/npm/leaflet@1.6.0/dist/leaflet.css&quot;/&gt;\n",
       "    &lt;link rel=&quot;stylesheet&quot; href=&quot;https://maxcdn.bootstrapcdn.com/bootstrap/3.2.0/css/bootstrap.min.css&quot;/&gt;\n",
       "    &lt;link rel=&quot;stylesheet&quot; href=&quot;https://maxcdn.bootstrapcdn.com/bootstrap/3.2.0/css/bootstrap-theme.min.css&quot;/&gt;\n",
       "    &lt;link rel=&quot;stylesheet&quot; href=&quot;https://maxcdn.bootstrapcdn.com/font-awesome/4.6.3/css/font-awesome.min.css&quot;/&gt;\n",
       "    &lt;link rel=&quot;stylesheet&quot; href=&quot;https://cdnjs.cloudflare.com/ajax/libs/Leaflet.awesome-markers/2.0.2/leaflet.awesome-markers.css&quot;/&gt;\n",
       "    &lt;link rel=&quot;stylesheet&quot; href=&quot;https://cdn.jsdelivr.net/gh/python-visualization/folium/folium/templates/leaflet.awesome.rotate.min.css&quot;/&gt;\n",
       "    \n",
       "            &lt;meta name=&quot;viewport&quot; content=&quot;width=device-width,\n",
       "                initial-scale=1.0, maximum-scale=1.0, user-scalable=no&quot; /&gt;\n",
       "            &lt;style&gt;\n",
       "                #map_00f6bac5199779337754ea4388f59d75 {\n",
       "                    position: relative;\n",
       "                    width: 100.0%;\n",
       "                    height: 100.0%;\n",
       "                    left: 0.0%;\n",
       "                    top: 0.0%;\n",
       "                }\n",
       "            &lt;/style&gt;\n",
       "        \n",
       "&lt;/head&gt;\n",
       "&lt;body&gt;    \n",
       "    \n",
       "            &lt;div class=&quot;folium-map&quot; id=&quot;map_00f6bac5199779337754ea4388f59d75&quot; &gt;&lt;/div&gt;\n",
       "        \n",
       "&lt;/body&gt;\n",
       "&lt;script&gt;    \n",
       "    \n",
       "            var map_00f6bac5199779337754ea4388f59d75 = L.map(\n",
       "                &quot;map_00f6bac5199779337754ea4388f59d75&quot;,\n",
       "                {\n",
       "                    center: [37.55, 126.98],\n",
       "                    crs: L.CRS.EPSG3857,\n",
       "                    zoom: 12,\n",
       "                    zoomControl: true,\n",
       "                    preferCanvas: false,\n",
       "                }\n",
       "            );\n",
       "\n",
       "            \n",
       "\n",
       "        \n",
       "    \n",
       "            var tile_layer_d74148ad7ffc729ae776a2fe0143b29b = L.tileLayer(\n",
       "                &quot;https://{s}.tile.openstreetmap.org/{z}/{x}/{y}.png&quot;,\n",
       "                {&quot;attribution&quot;: &quot;Data by \\u0026copy; \\u003ca href=\\&quot;http://openstreetmap.org\\&quot;\\u003eOpenStreetMap\\u003c/a\\u003e, under \\u003ca href=\\&quot;http://www.openstreetmap.org/copyright\\&quot;\\u003eODbL\\u003c/a\\u003e.&quot;, &quot;detectRetina&quot;: false, &quot;maxNativeZoom&quot;: 18, &quot;maxZoom&quot;: 18, &quot;minZoom&quot;: 0, &quot;noWrap&quot;: false, &quot;opacity&quot;: 1, &quot;subdomains&quot;: &quot;abc&quot;, &quot;tms&quot;: false}\n",
       "            ).addTo(map_00f6bac5199779337754ea4388f59d75);\n",
       "        \n",
       "    \n",
       "            var marker_1510f94d464271ca50a69ace8b2667d3 = L.marker(\n",
       "                [37.592573, 127.046737],\n",
       "                {}\n",
       "            ).addTo(map_00f6bac5199779337754ea4388f59d75);\n",
       "        \n",
       "    \n",
       "            marker_1510f94d464271ca50a69ace8b2667d3.bindTooltip(\n",
       "                `&lt;div&gt;\n",
       "                     KAIST 서울캠퍼스 \n",
       "                 &lt;/div&gt;`,\n",
       "                {&quot;sticky&quot;: true}\n",
       "            );\n",
       "        \n",
       "    \n",
       "            var marker_47e4447a101f695a0d15c5c805ff59cc = L.marker(\n",
       "                [37.5483449, 126.8547974],\n",
       "                {}\n",
       "            ).addTo(map_00f6bac5199779337754ea4388f59d75);\n",
       "        \n",
       "    \n",
       "            marker_47e4447a101f695a0d15c5c805ff59cc.bindTooltip(\n",
       "                `&lt;div&gt;\n",
       "                     KC대학교\n",
       "                 &lt;/div&gt;`,\n",
       "                {&quot;sticky&quot;: true}\n",
       "            );\n",
       "        \n",
       "    \n",
       "            var marker_dfabe85a4d0d88d6fed7b4a94b64459d = L.marker(\n",
       "                [37.5859218, 127.0043275],\n",
       "                {}\n",
       "            ).addTo(map_00f6bac5199779337754ea4388f59d75);\n",
       "        \n",
       "    \n",
       "            marker_dfabe85a4d0d88d6fed7b4a94b64459d.bindTooltip(\n",
       "                `&lt;div&gt;\n",
       "                     가톨릭대학교(성신교정)\n",
       "                 &lt;/div&gt;`,\n",
       "                {&quot;sticky&quot;: true}\n",
       "            );\n",
       "        \n",
       "    \n",
       "            var marker_450366f150e03de228eabb5ed8d8df94 = L.marker(\n",
       "                [37.4996227, 127.0060653],\n",
       "                {}\n",
       "            ).addTo(map_00f6bac5199779337754ea4388f59d75);\n",
       "        \n",
       "    \n",
       "            marker_450366f150e03de228eabb5ed8d8df94.bindTooltip(\n",
       "                `&lt;div&gt;\n",
       "                     가톨릭대학교(성의교정)\n",
       "                 &lt;/div&gt;`,\n",
       "                {&quot;sticky&quot;: true}\n",
       "            );\n",
       "        \n",
       "    \n",
       "            var marker_1712b2d077a746b6dee048ccbcd0db5e = L.marker(\n",
       "                [37.5676455, 126.96161],\n",
       "                {}\n",
       "            ).addTo(map_00f6bac5199779337754ea4388f59d75);\n",
       "        \n",
       "    \n",
       "            marker_1712b2d077a746b6dee048ccbcd0db5e.bindTooltip(\n",
       "                `&lt;div&gt;\n",
       "                     감리교신학대학교\n",
       "                 &lt;/div&gt;`,\n",
       "                {&quot;sticky&quot;: true}\n",
       "            );\n",
       "        \n",
       "    \n",
       "            var marker_00e76acb8f66c5d829106f6cb7c77aec = L.marker(\n",
       "                [37.5407625, 127.0793428],\n",
       "                {}\n",
       "            ).addTo(map_00f6bac5199779337754ea4388f59d75);\n",
       "        \n",
       "    \n",
       "            marker_00e76acb8f66c5d829106f6cb7c77aec.bindTooltip(\n",
       "                `&lt;div&gt;\n",
       "                     건국대학교\n",
       "                 &lt;/div&gt;`,\n",
       "                {&quot;sticky&quot;: true}\n",
       "            );\n",
       "        \n",
       "    \n",
       "            var marker_0aa0c0fa574770c445b0b4f2ccbdf1b9 = L.marker(\n",
       "                [37.30048499999999, 127.035833],\n",
       "                {}\n",
       "            ).addTo(map_00f6bac5199779337754ea4388f59d75);\n",
       "        \n",
       "    \n",
       "            marker_0aa0c0fa574770c445b0b4f2ccbdf1b9.bindTooltip(\n",
       "                `&lt;div&gt;\n",
       "                     경기대학교 서울캠퍼스 \n",
       "                 &lt;/div&gt;`,\n",
       "                {&quot;sticky&quot;: true}\n",
       "            );\n",
       "        \n",
       "    \n",
       "            var marker_4a9796c7e8588b6d2b919072ab9578e8 = L.marker(\n",
       "                [37.5961951, 127.052544],\n",
       "                {}\n",
       "            ).addTo(map_00f6bac5199779337754ea4388f59d75);\n",
       "        \n",
       "    \n",
       "            marker_4a9796c7e8588b6d2b919072ab9578e8.bindTooltip(\n",
       "                `&lt;div&gt;\n",
       "                     경희대학교 서울캠퍼스 \n",
       "                 &lt;/div&gt;`,\n",
       "                {&quot;sticky&quot;: true}\n",
       "            );\n",
       "        \n",
       "    \n",
       "            var marker_aa8ed17e85c9b5927bb2ccd66e6d0cc9 = L.marker(\n",
       "                [37.59019162, 127.03318417123],\n",
       "                {}\n",
       "            ).addTo(map_00f6bac5199779337754ea4388f59d75);\n",
       "        \n",
       "    \n",
       "            marker_aa8ed17e85c9b5927bb2ccd66e6d0cc9.bindTooltip(\n",
       "                `&lt;div&gt;\n",
       "                     고려대학교\n",
       "                 &lt;/div&gt;`,\n",
       "                {&quot;sticky&quot;: true}\n",
       "            );\n",
       "        \n",
       "    \n",
       "            var marker_e2d6150345411d591aef72b0fe586863 = L.marker(\n",
       "                [37.6194965, 127.0596958],\n",
       "                {}\n",
       "            ).addTo(map_00f6bac5199779337754ea4388f59d75);\n",
       "        \n",
       "    \n",
       "            marker_e2d6150345411d591aef72b0fe586863.bindTooltip(\n",
       "                `&lt;div&gt;\n",
       "                     광운대학교\n",
       "                 &lt;/div&gt;`,\n",
       "                {&quot;sticky&quot;: true}\n",
       "            );\n",
       "        \n",
       "    \n",
       "            var marker_9430a21e356d256e8d15c39c4818a26e = L.marker(\n",
       "                [37.6096409, 126.997697],\n",
       "                {}\n",
       "            ).addTo(map_00f6bac5199779337754ea4388f59d75);\n",
       "        \n",
       "    \n",
       "            marker_9430a21e356d256e8d15c39c4818a26e.bindTooltip(\n",
       "                `&lt;div&gt;\n",
       "                     국민대학교\n",
       "                 &lt;/div&gt;`,\n",
       "                {&quot;sticky&quot;: true}\n",
       "            );\n",
       "        \n",
       "    \n",
       "            var marker_1faba0f4bffa4bf8c0d51c492765ff14 = L.marker(\n",
       "                [37.6511988, 127.0161604],\n",
       "                {}\n",
       "            ).addTo(map_00f6bac5199779337754ea4388f59d75);\n",
       "        \n",
       "    \n",
       "            marker_1faba0f4bffa4bf8c0d51c492765ff14.bindTooltip(\n",
       "                `&lt;div&gt;\n",
       "                     덕성여자대학교\n",
       "                 &lt;/div&gt;`,\n",
       "                {&quot;sticky&quot;: true}\n",
       "            );\n",
       "        \n",
       "    \n",
       "            var marker_870689d6e147017d22a24533989002f2 = L.marker(\n",
       "                [37.5574771, 127.0020518],\n",
       "                {}\n",
       "            ).addTo(map_00f6bac5199779337754ea4388f59d75);\n",
       "        \n",
       "    \n",
       "            marker_870689d6e147017d22a24533989002f2.bindTooltip(\n",
       "                `&lt;div&gt;\n",
       "                     동국대학교\n",
       "                 &lt;/div&gt;`,\n",
       "                {&quot;sticky&quot;: true}\n",
       "            );\n",
       "        \n",
       "    \n",
       "            var marker_64954f916176347e7ab5d3679a76cb30 = L.marker(\n",
       "                [37.6063202, 127.041808],\n",
       "                {}\n",
       "            ).addTo(map_00f6bac5199779337754ea4388f59d75);\n",
       "        \n",
       "    \n",
       "            marker_64954f916176347e7ab5d3679a76cb30.bindTooltip(\n",
       "                `&lt;div&gt;\n",
       "                     동덕여자대학교\n",
       "                 &lt;/div&gt;`,\n",
       "                {&quot;sticky&quot;: true}\n",
       "            );\n",
       "        \n",
       "    \n",
       "            var marker_8d0a74ed77d4cdc606f96ae2f0ec4552 = L.marker(\n",
       "                [37.5802046, 126.9234451],\n",
       "                {}\n",
       "            ).addTo(map_00f6bac5199779337754ea4388f59d75);\n",
       "        \n",
       "    \n",
       "            marker_8d0a74ed77d4cdc606f96ae2f0ec4552.bindTooltip(\n",
       "                `&lt;div&gt;\n",
       "                     명지대학교 서울캠퍼스 \n",
       "                 &lt;/div&gt;`,\n",
       "                {&quot;sticky&quot;: true}\n",
       "            );\n",
       "        \n",
       "    \n",
       "            var marker_c2a7e9e617e011349dcaa8d95f79470d = L.marker(\n",
       "                [37.6429515, 127.1054757],\n",
       "                {}\n",
       "            ).addTo(map_00f6bac5199779337754ea4388f59d75);\n",
       "        \n",
       "    \n",
       "            marker_c2a7e9e617e011349dcaa8d95f79470d.bindTooltip(\n",
       "                `&lt;div&gt;\n",
       "                     삼육대학교\n",
       "                 &lt;/div&gt;`,\n",
       "                {&quot;sticky&quot;: true}\n",
       "            );\n",
       "        \n",
       "    \n",
       "            var marker_27899b9d5929960c088251a24adc59d7 = L.marker(\n",
       "                [37.602638, 126.955252],\n",
       "                {}\n",
       "            ).addTo(map_00f6bac5199779337754ea4388f59d75);\n",
       "        \n",
       "    \n",
       "            marker_27899b9d5929960c088251a24adc59d7.bindTooltip(\n",
       "                `&lt;div&gt;\n",
       "                     상명대학교 서울캠퍼스 \n",
       "                 &lt;/div&gt;`,\n",
       "                {&quot;sticky&quot;: true}\n",
       "            );\n",
       "        \n",
       "    \n",
       "            var marker_f871c9bda97b835cfb45e034d7f39865 = L.marker(\n",
       "                [37.5509442, 126.9410023],\n",
       "                {}\n",
       "            ).addTo(map_00f6bac5199779337754ea4388f59d75);\n",
       "        \n",
       "    \n",
       "            marker_f871c9bda97b835cfb45e034d7f39865.bindTooltip(\n",
       "                `&lt;div&gt;\n",
       "                     서강대학교\n",
       "                 &lt;/div&gt;`,\n",
       "                {&quot;sticky&quot;: true}\n",
       "            );\n",
       "        \n",
       "    \n",
       "            var marker_2f6199bc4e053ff3f65f1b03fa2592ad = L.marker(\n",
       "                [37.615095, 127.0131113],\n",
       "                {}\n",
       "            ).addTo(map_00f6bac5199779337754ea4388f59d75);\n",
       "        \n",
       "    \n",
       "            marker_2f6199bc4e053ff3f65f1b03fa2592ad.bindTooltip(\n",
       "                `&lt;div&gt;\n",
       "                     서경대학교\n",
       "                 &lt;/div&gt;`,\n",
       "                {&quot;sticky&quot;: true}\n",
       "            );\n",
       "        \n",
       "    \n",
       "            var marker_78394bcd0de130de729032afde45405d = L.marker(\n",
       "                [37.6316684, 127.0774813],\n",
       "                {}\n",
       "            ).addTo(map_00f6bac5199779337754ea4388f59d75);\n",
       "        \n",
       "    \n",
       "            marker_78394bcd0de130de729032afde45405d.bindTooltip(\n",
       "                `&lt;div&gt;\n",
       "                     서울과학기술대학교\n",
       "                 &lt;/div&gt;`,\n",
       "                {&quot;sticky&quot;: true}\n",
       "            );\n",
       "        \n",
       "    \n",
       "            var marker_1ff9c06e6652564f8a30ec343ea2f10b = L.marker(\n",
       "                [37.4899615, 127.0164124],\n",
       "                {}\n",
       "            ).addTo(map_00f6bac5199779337754ea4388f59d75);\n",
       "        \n",
       "    \n",
       "            marker_1ff9c06e6652564f8a30ec343ea2f10b.bindTooltip(\n",
       "                `&lt;div&gt;\n",
       "                     서울교육대학교\n",
       "                 &lt;/div&gt;`,\n",
       "                {&quot;sticky&quot;: true}\n",
       "            );\n",
       "        \n",
       "    \n",
       "            var marker_05483ed031e0235cea48f22109245e83 = L.marker(\n",
       "                [37.6009228, 126.9123818],\n",
       "                {}\n",
       "            ).addTo(map_00f6bac5199779337754ea4388f59d75);\n",
       "        \n",
       "    \n",
       "            marker_05483ed031e0235cea48f22109245e83.bindTooltip(\n",
       "                `&lt;div&gt;\n",
       "                     서울기독대학교\n",
       "                 &lt;/div&gt;`,\n",
       "                {&quot;sticky&quot;: true}\n",
       "            );\n",
       "        \n",
       "    \n",
       "            var marker_67a2a6c37a42385c104d97681c6d2930 = L.marker(\n",
       "                [37.459882, 126.9519053],\n",
       "                {}\n",
       "            ).addTo(map_00f6bac5199779337754ea4388f59d75);\n",
       "        \n",
       "    \n",
       "            marker_67a2a6c37a42385c104d97681c6d2930.bindTooltip(\n",
       "                `&lt;div&gt;\n",
       "                     서울대학교\n",
       "                 &lt;/div&gt;`,\n",
       "                {&quot;sticky&quot;: true}\n",
       "            );\n",
       "        \n",
       "    \n",
       "            var marker_d4e5d85e5062e9453a9334e239851596 = L.marker(\n",
       "                [37.5838657, 127.0587771],\n",
       "                {}\n",
       "            ).addTo(map_00f6bac5199779337754ea4388f59d75);\n",
       "        \n",
       "    \n",
       "            marker_d4e5d85e5062e9453a9334e239851596.bindTooltip(\n",
       "                `&lt;div&gt;\n",
       "                     서울시립대학교\n",
       "                 &lt;/div&gt;`,\n",
       "                {&quot;sticky&quot;: true}\n",
       "            );\n",
       "        \n",
       "    \n",
       "            var marker_c5ca29e79ad25686972e77782f9e2756 = L.marker(\n",
       "                [37.6281126, 127.0904568],\n",
       "                {}\n",
       "            ).addTo(map_00f6bac5199779337754ea4388f59d75);\n",
       "        \n",
       "    \n",
       "            marker_c5ca29e79ad25686972e77782f9e2756.bindTooltip(\n",
       "                `&lt;div&gt;\n",
       "                     서울여자대학교\n",
       "                 &lt;/div&gt;`,\n",
       "                {&quot;sticky&quot;: true}\n",
       "            );\n",
       "        \n",
       "    \n",
       "            var marker_2105a7a7d58bd4f9393e6e975c6e1541 = L.marker(\n",
       "                [37.4965411, 126.8512616],\n",
       "                {}\n",
       "            ).addTo(map_00f6bac5199779337754ea4388f59d75);\n",
       "        \n",
       "    \n",
       "            marker_2105a7a7d58bd4f9393e6e975c6e1541.bindTooltip(\n",
       "                `&lt;div&gt;\n",
       "                     서울한영대학교\n",
       "                 &lt;/div&gt;`,\n",
       "                {&quot;sticky&quot;: true}\n",
       "            );\n",
       "        \n",
       "    \n",
       "            var marker_ec895a10b6906d0b4399609e71b30515 = L.marker(\n",
       "                [37.4872325, 126.8253202],\n",
       "                {}\n",
       "            ).addTo(map_00f6bac5199779337754ea4388f59d75);\n",
       "        \n",
       "    \n",
       "            marker_ec895a10b6906d0b4399609e71b30515.bindTooltip(\n",
       "                `&lt;div&gt;\n",
       "                     성공회대학교\n",
       "                 &lt;/div&gt;`,\n",
       "                {&quot;sticky&quot;: true}\n",
       "            );\n",
       "        \n",
       "    \n",
       "            var marker_58efa2208d49e956e18b412e61209bd0 = L.marker(\n",
       "                [37.588227, 126.993606],\n",
       "                {}\n",
       "            ).addTo(map_00f6bac5199779337754ea4388f59d75);\n",
       "        \n",
       "    \n",
       "            marker_58efa2208d49e956e18b412e61209bd0.bindTooltip(\n",
       "                `&lt;div&gt;\n",
       "                     성균관대학교 서울캠퍼스  \n",
       "                 &lt;/div&gt;`,\n",
       "                {&quot;sticky&quot;: true}\n",
       "            );\n",
       "        \n",
       "    \n",
       "            var marker_b26baf43e2165df90a6253da7525aad1 = L.marker(\n",
       "                [37.5913103, 127.0221312],\n",
       "                {}\n",
       "            ).addTo(map_00f6bac5199779337754ea4388f59d75);\n",
       "        \n",
       "    \n",
       "            marker_b26baf43e2165df90a6253da7525aad1.bindTooltip(\n",
       "                `&lt;div&gt;\n",
       "                     성신여자대학교\n",
       "                 &lt;/div&gt;`,\n",
       "                {&quot;sticky&quot;: true}\n",
       "            );\n",
       "        \n",
       "    \n",
       "            var marker_43c82eb1cb0c308659067c220843b8be = L.marker(\n",
       "                [37.5502596, 127.073139],\n",
       "                {}\n",
       "            ).addTo(map_00f6bac5199779337754ea4388f59d75);\n",
       "        \n",
       "    \n",
       "            marker_43c82eb1cb0c308659067c220843b8be.bindTooltip(\n",
       "                `&lt;div&gt;\n",
       "                     세종대학교\n",
       "                 &lt;/div&gt;`,\n",
       "                {&quot;sticky&quot;: true}\n",
       "            );\n",
       "        \n",
       "    \n",
       "            var marker_8308354b6fb0069b98ecaa809a7f60f1 = L.marker(\n",
       "                [37.5463644, 126.9648311],\n",
       "                {}\n",
       "            ).addTo(map_00f6bac5199779337754ea4388f59d75);\n",
       "        \n",
       "    \n",
       "            marker_8308354b6fb0069b98ecaa809a7f60f1.bindTooltip(\n",
       "                `&lt;div&gt;\n",
       "                     숙명여자대학교\n",
       "                 &lt;/div&gt;`,\n",
       "                {&quot;sticky&quot;: true}\n",
       "            );\n",
       "        \n",
       "    \n",
       "            var marker_22590ed0f6481fe7006e4dcc18539ff2 = L.marker(\n",
       "                [37.4963111, 126.9574596],\n",
       "                {}\n",
       "            ).addTo(map_00f6bac5199779337754ea4388f59d75);\n",
       "        \n",
       "    \n",
       "            marker_22590ed0f6481fe7006e4dcc18539ff2.bindTooltip(\n",
       "                `&lt;div&gt;\n",
       "                     숭실대학교\n",
       "                 &lt;/div&gt;`,\n",
       "                {&quot;sticky&quot;: true}\n",
       "            );\n",
       "        \n",
       "    \n",
       "            var marker_72265d2cfadf2c0e6e638f471dba7cba = L.marker(\n",
       "                [37.565784, 126.938572],\n",
       "                {}\n",
       "            ).addTo(map_00f6bac5199779337754ea4388f59d75);\n",
       "        \n",
       "    \n",
       "            marker_72265d2cfadf2c0e6e638f471dba7cba.bindTooltip(\n",
       "                `&lt;div&gt;\n",
       "                     연세대학교\n",
       "                 &lt;/div&gt;`,\n",
       "                {&quot;sticky&quot;: true}\n",
       "            );\n",
       "        \n",
       "    \n",
       "            var marker_bccaa340be04c14e3823dda9483ca8b0 = L.marker(\n",
       "                [37.6238188, 127.0988783],\n",
       "                {}\n",
       "            ).addTo(map_00f6bac5199779337754ea4388f59d75);\n",
       "        \n",
       "    \n",
       "            marker_bccaa340be04c14e3823dda9483ca8b0.bindTooltip(\n",
       "                `&lt;div&gt;\n",
       "                     육군사관학교\n",
       "                 &lt;/div&gt;`,\n",
       "                {&quot;sticky&quot;: true}\n",
       "            );\n",
       "        \n",
       "    \n",
       "            var marker_5fc237b0d7401fdc9cbad21833685819 = L.marker(\n",
       "                [37.5643079, 126.9501786],\n",
       "                {}\n",
       "            ).addTo(map_00f6bac5199779337754ea4388f59d75);\n",
       "        \n",
       "    \n",
       "            marker_5fc237b0d7401fdc9cbad21833685819.bindTooltip(\n",
       "                `&lt;div&gt;\n",
       "                     이화여자대학교\n",
       "                 &lt;/div&gt;`,\n",
       "                {&quot;sticky&quot;: true}\n",
       "            );\n",
       "        \n",
       "    \n",
       "            var marker_23782f8934c3d95ecd29e2bd39eef52f = L.marker(\n",
       "                [37.5505112, 127.1034577],\n",
       "                {}\n",
       "            ).addTo(map_00f6bac5199779337754ea4388f59d75);\n",
       "        \n",
       "    \n",
       "            marker_23782f8934c3d95ecd29e2bd39eef52f.bindTooltip(\n",
       "                `&lt;div&gt;\n",
       "                     장로회신학대학교\n",
       "                 &lt;/div&gt;`,\n",
       "                {&quot;sticky&quot;: true}\n",
       "            );\n",
       "        \n",
       "    \n",
       "            var marker_cd920f090dae1fc62b7a0b62e03146a1 = L.marker(\n",
       "                [37.5050881, 126.9571012],\n",
       "                {}\n",
       "            ).addTo(map_00f6bac5199779337754ea4388f59d75);\n",
       "        \n",
       "    \n",
       "            marker_cd920f090dae1fc62b7a0b62e03146a1.bindTooltip(\n",
       "                `&lt;div&gt;\n",
       "                     중앙대학교 서울캠퍼스 \n",
       "                 &lt;/div&gt;`,\n",
       "                {&quot;sticky&quot;: true}\n",
       "            );\n",
       "        \n",
       "    \n",
       "            var marker_542b2493c44d997a436c361c78b4e12d = L.marker(\n",
       "                [37.4886232, 126.9668169],\n",
       "                {}\n",
       "            ).addTo(map_00f6bac5199779337754ea4388f59d75);\n",
       "        \n",
       "    \n",
       "            marker_542b2493c44d997a436c361c78b4e12d.bindTooltip(\n",
       "                `&lt;div&gt;\n",
       "                     총신대학교\n",
       "                 &lt;/div&gt;`,\n",
       "                {&quot;sticky&quot;: true}\n",
       "            );\n",
       "        \n",
       "    \n",
       "            var marker_fc77789d22e4c61b626d8720e087e506 = L.marker(\n",
       "                [37.5624515, 126.9534165],\n",
       "                {}\n",
       "            ).addTo(map_00f6bac5199779337754ea4388f59d75);\n",
       "        \n",
       "    \n",
       "            marker_fc77789d22e4c61b626d8720e087e506.bindTooltip(\n",
       "                `&lt;div&gt;\n",
       "                     추계예술대학교\n",
       "                 &lt;/div&gt;`,\n",
       "                {&quot;sticky&quot;: true}\n",
       "            );\n",
       "        \n",
       "    \n",
       "            var marker_85ffba8f3c059a5fd2ca3aa58c08dbf9 = L.marker(\n",
       "                [37.5786127, 127.0032905],\n",
       "                {}\n",
       "            ).addTo(map_00f6bac5199779337754ea4388f59d75);\n",
       "        \n",
       "    \n",
       "            marker_85ffba8f3c059a5fd2ca3aa58c08dbf9.bindTooltip(\n",
       "                `&lt;div&gt;\n",
       "                     한국방송통신대학교\n",
       "                 &lt;/div&gt;`,\n",
       "                {&quot;sticky&quot;: true}\n",
       "            );\n",
       "        \n",
       "    \n",
       "            var marker_8623d8f114f78d124ca8e52ca6cb9aff = L.marker(\n",
       "                [37.6487485, 127.0643199],\n",
       "                {}\n",
       "            ).addTo(map_00f6bac5199779337754ea4388f59d75);\n",
       "        \n",
       "    \n",
       "            marker_8623d8f114f78d124ca8e52ca6cb9aff.bindTooltip(\n",
       "                `&lt;div&gt;\n",
       "                     한국성서대학교\n",
       "                 &lt;/div&gt;`,\n",
       "                {&quot;sticky&quot;: true}\n",
       "            );\n",
       "        \n",
       "    \n",
       "            var marker_8a6bc15f094191a5a62b3e9abfed7079 = L.marker(\n",
       "                [37.6049973, 127.0567397],\n",
       "                {}\n",
       "            ).addTo(map_00f6bac5199779337754ea4388f59d75);\n",
       "        \n",
       "    \n",
       "            marker_8a6bc15f094191a5a62b3e9abfed7079.bindTooltip(\n",
       "                `&lt;div&gt;\n",
       "                     한국예술종합학교\n",
       "                 &lt;/div&gt;`,\n",
       "                {&quot;sticky&quot;: true}\n",
       "            );\n",
       "        \n",
       "    \n",
       "            var marker_07a10f45f71decc648c96c48ad192824 = L.marker(\n",
       "                [37.597319, 127.057843],\n",
       "                {}\n",
       "            ).addTo(map_00f6bac5199779337754ea4388f59d75);\n",
       "        \n",
       "    \n",
       "            marker_07a10f45f71decc648c96c48ad192824.bindTooltip(\n",
       "                `&lt;div&gt;\n",
       "                     한국외국어대학교\n",
       "                 &lt;/div&gt;`,\n",
       "                {&quot;sticky&quot;: true}\n",
       "            );\n",
       "        \n",
       "    \n",
       "            var marker_c8d4d35506b1396642b5436146243988 = L.marker(\n",
       "                [37.5196266, 127.1309837],\n",
       "                {}\n",
       "            ).addTo(map_00f6bac5199779337754ea4388f59d75);\n",
       "        \n",
       "    \n",
       "            marker_c8d4d35506b1396642b5436146243988.bindTooltip(\n",
       "                `&lt;div&gt;\n",
       "                     한국체육대학교\n",
       "                 &lt;/div&gt;`,\n",
       "                {&quot;sticky&quot;: true}\n",
       "            );\n",
       "        \n",
       "    \n",
       "            var marker_23f5f31414586bb03e1bcfa20984b160 = L.marker(\n",
       "                [37.5817849, 127.010369],\n",
       "                {}\n",
       "            ).addTo(map_00f6bac5199779337754ea4388f59d75);\n",
       "        \n",
       "    \n",
       "            marker_23f5f31414586bb03e1bcfa20984b160.bindTooltip(\n",
       "                `&lt;div&gt;\n",
       "                     한성대학교\n",
       "                 &lt;/div&gt;`,\n",
       "                {&quot;sticky&quot;: true}\n",
       "            );\n",
       "        \n",
       "    \n",
       "            var marker_3e4d5822891d395c156b6ba09e2cead0 = L.marker(\n",
       "                [37.5572321, 127.0453219],\n",
       "                {}\n",
       "            ).addTo(map_00f6bac5199779337754ea4388f59d75);\n",
       "        \n",
       "    \n",
       "            marker_3e4d5822891d395c156b6ba09e2cead0.bindTooltip(\n",
       "                `&lt;div&gt;\n",
       "                     한양대학교\n",
       "                 &lt;/div&gt;`,\n",
       "                {&quot;sticky&quot;: true}\n",
       "            );\n",
       "        \n",
       "    \n",
       "            var marker_2a2be61bf79884f7d27633556e557e08 = L.marker(\n",
       "                [37.5514642, 126.9250106],\n",
       "                {}\n",
       "            ).addTo(map_00f6bac5199779337754ea4388f59d75);\n",
       "        \n",
       "    \n",
       "            marker_2a2be61bf79884f7d27633556e557e08.bindTooltip(\n",
       "                `&lt;div&gt;\n",
       "                     홍익대학교\n",
       "                 &lt;/div&gt;`,\n",
       "                {&quot;sticky&quot;: true}\n",
       "            );\n",
       "        \n",
       "&lt;/script&gt;\" style=\"position:absolute;width:100%;height:100%;left:0;top:0;border:none !important;\" allowfullscreen webkitallowfullscreen mozallowfullscreen></iframe></div></div>"
      ],
      "text/plain": [
       "<folium.folium.Map at 0x268d7286050>"
      ]
     },
     "execution_count": 111,
     "metadata": {},
     "output_type": "execute_result"
    }
   ],
   "source": [
    "df = pd.read_excel(\"서울지역대학교위치.xlsx\")\n",
    "\n",
    "seoul_map = folium.Map(location = [37.55, 126.98], zoom_start = 12)\n",
    "\n",
    "for name, lat, longt in zip(df.대학교, df.위도, df.경도):\n",
    "    folium.Marker([lat, longt], tooltip = name).add_to(seoul_map)\n",
    "\n",
    "seoul_map"
   ]
  },
  {
   "cell_type": "markdown",
   "id": "e09d9414-a8da-4bd7-afbd-443e74d2ad47",
   "metadata": {},
   "source": [
    "## 외장함수"
   ]
  },
  {
   "cell_type": "markdown",
   "id": "e7911c98-cbb9-4331-8882-83634bde01ff",
   "metadata": {},
   "source": [
    "- sys"
   ]
  },
  {
   "cell_type": "code",
   "execution_count": 112,
   "id": "3fec88af-d15b-42f2-9fdb-ca1a759bb10c",
   "metadata": {},
   "outputs": [],
   "source": [
    "import sys"
   ]
  },
  {
   "cell_type": "code",
   "execution_count": 113,
   "id": "afab87a9-a3d1-4d5a-8a67-ad11d233837f",
   "metadata": {},
   "outputs": [
    {
     "data": {
      "text/plain": [
       "['C:\\\\Users\\\\admin\\\\doit',\n",
       " 'C:\\\\Users\\\\admin\\\\AppData\\\\Local\\\\Programs\\\\Python\\\\Python310\\\\python310.zip',\n",
       " 'C:\\\\Users\\\\admin\\\\AppData\\\\Local\\\\Programs\\\\Python\\\\Python310\\\\DLLs',\n",
       " 'C:\\\\Users\\\\admin\\\\AppData\\\\Local\\\\Programs\\\\Python\\\\Python310\\\\lib',\n",
       " 'C:\\\\Users\\\\admin\\\\AppData\\\\Local\\\\Programs\\\\Python\\\\Python310',\n",
       " '',\n",
       " 'C:\\\\Users\\\\admin\\\\AppData\\\\Local\\\\Programs\\\\Python\\\\Python310\\\\lib\\\\site-packages',\n",
       " 'C:\\\\Users\\\\admin\\\\AppData\\\\Local\\\\Programs\\\\Python\\\\Python310\\\\lib\\\\site-packages\\\\win32',\n",
       " 'C:\\\\Users\\\\admin\\\\AppData\\\\Local\\\\Programs\\\\Python\\\\Python310\\\\lib\\\\site-packages\\\\win32\\\\lib',\n",
       " 'C:\\\\Users\\\\admin\\\\AppData\\\\Local\\\\Programs\\\\Python\\\\Python310\\\\lib\\\\site-packages\\\\Pythonwin']"
      ]
     },
     "execution_count": 113,
     "metadata": {},
     "output_type": "execute_result"
    }
   ],
   "source": [
    "sys.path"
   ]
  },
  {
   "cell_type": "code",
   "execution_count": null,
   "id": "832d4db3-b5ec-4120-9354-94bb8ca33ab6",
   "metadata": {},
   "outputs": [],
   "source": [
    "sys.path.append()"
   ]
  },
  {
   "cell_type": "code",
   "execution_count": null,
   "id": "ebc21d0f-ace8-42fe-a289-17fcab43e2bd",
   "metadata": {},
   "outputs": [],
   "source": [
    "sys.argv"
   ]
  },
  {
   "cell_type": "markdown",
   "id": "eefda46a-a085-4e9e-bae0-3bee16bbe485",
   "metadata": {},
   "source": [
    "- os"
   ]
  },
  {
   "cell_type": "code",
   "execution_count": 115,
   "id": "fff8ef4a-9ab4-4f53-b0ba-d1674713dad5",
   "metadata": {},
   "outputs": [],
   "source": [
    "import os"
   ]
  },
  {
   "cell_type": "code",
   "execution_count": 117,
   "id": "923ad8cc-a4df-4277-b4ea-d9c71590610a",
   "metadata": {},
   "outputs": [
    {
     "data": {
      "text/plain": [
       "environ{'ALLUSERSPROFILE': 'C:\\\\ProgramData',\n",
       "        'APPDATA': 'C:\\\\Users\\\\admin\\\\AppData\\\\Roaming',\n",
       "        'COMMONPROGRAMFILES': 'C:\\\\Program Files\\\\Common Files',\n",
       "        'COMMONPROGRAMFILES(X86)': 'C:\\\\Program Files (x86)\\\\Common Files',\n",
       "        'COMMONPROGRAMW6432': 'C:\\\\Program Files\\\\Common Files',\n",
       "        'COMPUTERNAME': 'DESKTOP-ATQK1HG',\n",
       "        'COMSPEC': 'C:\\\\WINDOWS\\\\system32\\\\cmd.exe',\n",
       "        'DRIVERDATA': 'C:\\\\Windows\\\\System32\\\\Drivers\\\\DriverData',\n",
       "        'FPS_BROWSER_APP_PROFILE_STRING': 'Internet Explorer',\n",
       "        'FPS_BROWSER_USER_PROFILE_STRING': 'Default',\n",
       "        'HOMEDRIVE': 'C:',\n",
       "        'HOMEPATH': '\\\\Users\\\\admin',\n",
       "        'JAVA_HOME': 'C:\\\\Program Files\\\\Amazon Corretto\\\\jdk11.0.16_9',\n",
       "        'LOCALAPPDATA': 'C:\\\\Users\\\\admin\\\\AppData\\\\Local',\n",
       "        'LOGONSERVER': '\\\\\\\\DESKTOP-ATQK1HG',\n",
       "        'NUMBER_OF_PROCESSORS': '4',\n",
       "        'ONEDRIVE': 'C:\\\\Users\\\\admin\\\\OneDrive',\n",
       "        'OS': 'Windows_NT',\n",
       "        'PATH': 'C:\\\\Program Files\\\\Amazon Corretto\\\\jdk11.0.16_9\\\\bin;C:\\\\WINDOWS\\\\system32;C:\\\\WINDOWS;C:\\\\WINDOWS\\\\System32\\\\Wbem;C:\\\\WINDOWS\\\\System32\\\\WindowsPowerShell\\\\v1.0\\\\;C:\\\\WINDOWS\\\\System32\\\\OpenSSH\\\\;C:\\\\Users\\\\admin\\\\AppData\\\\Local\\\\Programs\\\\Python\\\\Python310\\\\Scripts\\\\;C:\\\\Users\\\\admin\\\\AppData\\\\Local\\\\Programs\\\\Python\\\\Python310\\\\;C:\\\\Users\\\\admin\\\\AppData\\\\Local\\\\Microsoft\\\\WindowsApps;',\n",
       "        'PATHEXT': '.COM;.EXE;.BAT;.CMD;.VBS;.VBE;.JS;.JSE;.WSF;.WSH;.MSC',\n",
       "        'PROCESSOR_ARCHITECTURE': 'AMD64',\n",
       "        'PROCESSOR_IDENTIFIER': 'Intel64 Family 6 Model 94 Stepping 3, GenuineIntel',\n",
       "        'PROCESSOR_LEVEL': '6',\n",
       "        'PROCESSOR_REVISION': '5e03',\n",
       "        'PROGRAMDATA': 'C:\\\\ProgramData',\n",
       "        'PROGRAMFILES': 'C:\\\\Program Files',\n",
       "        'PROGRAMFILES(X86)': 'C:\\\\Program Files (x86)',\n",
       "        'PROGRAMW6432': 'C:\\\\Program Files',\n",
       "        'PROMPT': '$P$G',\n",
       "        'PSMODULEPATH': 'C:\\\\Program Files\\\\WindowsPowerShell\\\\Modules;C:\\\\WINDOWS\\\\system32\\\\WindowsPowerShell\\\\v1.0\\\\Modules',\n",
       "        'PUBLIC': 'C:\\\\Users\\\\Public',\n",
       "        'SESSIONNAME': 'Console',\n",
       "        'SYSTEMDRIVE': 'C:',\n",
       "        'SYSTEMROOT': 'C:\\\\WINDOWS',\n",
       "        'TEMP': 'C:\\\\Users\\\\admin\\\\AppData\\\\Local\\\\Temp',\n",
       "        'TMP': 'C:\\\\Users\\\\admin\\\\AppData\\\\Local\\\\Temp',\n",
       "        'USERDOMAIN': 'DESKTOP-ATQK1HG',\n",
       "        'USERDOMAIN_ROAMINGPROFILE': 'DESKTOP-ATQK1HG',\n",
       "        'USERNAME': 'admin',\n",
       "        'USERPROFILE': 'C:\\\\Users\\\\admin',\n",
       "        'WINDIR': 'C:\\\\WINDOWS',\n",
       "        'JPY_INTERRUPT_EVENT': '3592',\n",
       "        'IPY_INTERRUPT_EVENT': '3592',\n",
       "        'JPY_PARENT_PID': '3552',\n",
       "        'TERM': 'xterm-color',\n",
       "        'CLICOLOR': '1',\n",
       "        'PAGER': 'cat',\n",
       "        'GIT_PAGER': 'cat',\n",
       "        'MPLBACKEND': 'module://matplotlib_inline.backend_inline'}"
      ]
     },
     "execution_count": 117,
     "metadata": {},
     "output_type": "execute_result"
    }
   ],
   "source": [
    "os.environ"
   ]
  },
  {
   "cell_type": "code",
   "execution_count": 118,
   "id": "5d7c62b6-6b03-49cc-bf77-1bf726ad77c8",
   "metadata": {},
   "outputs": [
    {
     "data": {
      "text/plain": [
       "'C:\\\\Users\\\\admin\\\\doit'"
      ]
     },
     "execution_count": 118,
     "metadata": {},
     "output_type": "execute_result"
    }
   ],
   "source": [
    "os.getcwd()"
   ]
  },
  {
   "cell_type": "code",
   "execution_count": 119,
   "id": "f1d2ec68-548c-420c-b5ce-ec7be995e21c",
   "metadata": {},
   "outputs": [],
   "source": [
    "os.chdir(\"C:/Users/admin/\")"
   ]
  },
  {
   "cell_type": "code",
   "execution_count": 123,
   "id": "b39e1226-6cbb-4f9a-8fac-0c79e6dfe202",
   "metadata": {},
   "outputs": [
    {
     "data": {
      "text/plain": [
       "'C:\\\\Users\\\\admin'"
      ]
     },
     "execution_count": 123,
     "metadata": {},
     "output_type": "execute_result"
    }
   ],
   "source": [
    "os.getcwd()"
   ]
  },
  {
   "cell_type": "code",
   "execution_count": 125,
   "id": "c2eb5b2b-57cd-4d95-bd93-e4c66a7bd9ee",
   "metadata": {},
   "outputs": [
    {
     "data": {
      "text/plain": [
       "0"
      ]
     },
     "execution_count": 125,
     "metadata": {},
     "output_type": "execute_result"
    }
   ],
   "source": [
    "os.system('dir')"
   ]
  },
  {
   "cell_type": "code",
   "execution_count": 126,
   "id": "8f39de62-3a3a-408d-9367-31e11ab87785",
   "metadata": {},
   "outputs": [
    {
     "name": "stdout",
     "output_type": "stream",
     "text": [
      " C 드라이브의 볼륨에는 이름이 없습니다.\n",
      " 볼륨 일련 번호: 6C4B-8418\n",
      "\n",
      " C:\\Users\\admin 디렉터리\n",
      "\n",
      "2022-09-13  오전 11:35    <DIR>          .\n",
      "2022-09-13  오전 11:35    <DIR>          ..\n",
      "2022-09-01  오전 11:26    <DIR>          .idlerc\n",
      "2022-09-08  오후 04:24    <DIR>          .ipynb_checkpoints\n",
      "2022-09-01  오전 11:20    <DIR>          .ipython\n",
      "2022-09-01  오전 11:24    <DIR>          .jupyter\n",
      "2022-09-01  오후 12:38    <DIR>          .matplotlib\n",
      "2022-09-02  오전 09:20           140,252 09_01_KDT_00.ipynb\n",
      "2022-09-02  오후 06:06            76,643 09_02_KDT.ipynb\n",
      "2022-09-07  오전 09:06            75,132 09_03_KDT.ipynb\n",
      "2022-09-07  오후 05:51            63,790 09_07_KDT.ipynb\n",
      "2022-09-08  오후 04:14            34,111 09_08_KDT.ipynb\n",
      "2022-08-10  오후 03:51    <DIR>          3D Objects\n",
      "2022-09-08  오후 02:11    <DIR>          abc\n",
      "2022-08-10  오후 03:51    <DIR>          Contacts\n",
      "2022-09-08  오후 05:47    <DIR>          Desktop\n",
      "2022-09-01  오후 04:08    <DIR>          Documents\n",
      "2022-09-13  오전 11:36    <DIR>          doit\n",
      "2022-09-07  오전 08:55    <DIR>          Downloads\n",
      "2022-08-10  오후 03:51    <DIR>          Favorites\n",
      "2022-09-07  오후 12:40                35 foo.txt\n",
      "2022-09-08  오전 09:53               190 gugu.txt\n",
      "2022-09-01  오후 05:07    <DIR>          jupyter\n",
      "2022-08-10  오후 03:51    <DIR>          Links\n",
      "2022-08-10  오후 03:51    <DIR>          Music\n",
      "2022-09-08  오전 09:53                80 new.txt\n",
      "2022-09-07  오후 12:38               645 newfile.txt\n",
      "2022-08-10  오후 03:53    <DIR>          OneDrive\n",
      "2022-09-07  오후 12:34                32 people.txt\n",
      "2022-08-10  오후 03:53    <DIR>          Pictures\n",
      "2022-09-08  오후 05:38            11,683 practicing_09_08.ipynb\n",
      "2022-09-07  오후 12:48                17 Q_five.txt\n",
      "2022-08-10  오후 03:51    <DIR>          Saved Games\n",
      "2022-08-10  오후 03:53    <DIR>          Searches\n",
      "2022-09-07  오전 11:42                33 test.py\n",
      "2022-09-07  오후 01:58               224 test.txt\n",
      "2022-09-07  오후 02:53                34 test7.txt\n",
      "2022-08-23  오전 09:01    <DIR>          Videos\n",
      "2022-08-23  오전 11:16    <DIR>          WR\n",
      "2022-09-08  오후 02:15    <DIR>          __pycache__\n",
      "2022-09-13  오전 10:51            10,942 서울지역대학교위치.xlsx\n",
      "              16개 파일             413,843 바이트\n",
      "              25개 디렉터리  959,638,118,400 바이트 남음\n"
     ]
    }
   ],
   "source": [
    "!dir"
   ]
  },
  {
   "cell_type": "markdown",
   "id": "14da1060-428c-4177-bfb6-da13752347b8",
   "metadata": {},
   "source": [
    "- pickle"
   ]
  },
  {
   "cell_type": "code",
   "execution_count": 127,
   "id": "75ff28de-98f4-423d-8e50-dd4c80b9dafc",
   "metadata": {
    "collapsed": true,
    "jupyter": {
     "outputs_hidden": true
    },
    "tags": []
   },
   "outputs": [
    {
     "data": {
      "text/html": [
       "<div>\n",
       "<style scoped>\n",
       "    .dataframe tbody tr th:only-of-type {\n",
       "        vertical-align: middle;\n",
       "    }\n",
       "\n",
       "    .dataframe tbody tr th {\n",
       "        vertical-align: top;\n",
       "    }\n",
       "\n",
       "    .dataframe thead th {\n",
       "        text-align: right;\n",
       "    }\n",
       "</style>\n",
       "<table border=\"1\" class=\"dataframe\">\n",
       "  <thead>\n",
       "    <tr style=\"text-align: right;\">\n",
       "      <th></th>\n",
       "      <th>대학교</th>\n",
       "      <th>위도</th>\n",
       "      <th>경도</th>\n",
       "    </tr>\n",
       "  </thead>\n",
       "  <tbody>\n",
       "    <tr>\n",
       "      <th>0</th>\n",
       "      <td>KAIST 서울캠퍼스</td>\n",
       "      <td>37.592573</td>\n",
       "      <td>127.046737</td>\n",
       "    </tr>\n",
       "    <tr>\n",
       "      <th>1</th>\n",
       "      <td>KC대학교</td>\n",
       "      <td>37.548345</td>\n",
       "      <td>126.854797</td>\n",
       "    </tr>\n",
       "    <tr>\n",
       "      <th>2</th>\n",
       "      <td>가톨릭대학교(성신교정)</td>\n",
       "      <td>37.585922</td>\n",
       "      <td>127.004328</td>\n",
       "    </tr>\n",
       "    <tr>\n",
       "      <th>3</th>\n",
       "      <td>가톨릭대학교(성의교정)</td>\n",
       "      <td>37.499623</td>\n",
       "      <td>127.006065</td>\n",
       "    </tr>\n",
       "    <tr>\n",
       "      <th>4</th>\n",
       "      <td>감리교신학대학교</td>\n",
       "      <td>37.567645</td>\n",
       "      <td>126.961610</td>\n",
       "    </tr>\n",
       "    <tr>\n",
       "      <th>5</th>\n",
       "      <td>건국대학교</td>\n",
       "      <td>37.540762</td>\n",
       "      <td>127.079343</td>\n",
       "    </tr>\n",
       "    <tr>\n",
       "      <th>6</th>\n",
       "      <td>경기대학교 서울캠퍼스</td>\n",
       "      <td>37.300485</td>\n",
       "      <td>127.035833</td>\n",
       "    </tr>\n",
       "    <tr>\n",
       "      <th>7</th>\n",
       "      <td>경희대학교 서울캠퍼스</td>\n",
       "      <td>37.596195</td>\n",
       "      <td>127.052544</td>\n",
       "    </tr>\n",
       "    <tr>\n",
       "      <th>8</th>\n",
       "      <td>고려대학교</td>\n",
       "      <td>37.590192</td>\n",
       "      <td>127.033184</td>\n",
       "    </tr>\n",
       "    <tr>\n",
       "      <th>9</th>\n",
       "      <td>광운대학교</td>\n",
       "      <td>37.619496</td>\n",
       "      <td>127.059696</td>\n",
       "    </tr>\n",
       "    <tr>\n",
       "      <th>10</th>\n",
       "      <td>국민대학교</td>\n",
       "      <td>37.609641</td>\n",
       "      <td>126.997697</td>\n",
       "    </tr>\n",
       "    <tr>\n",
       "      <th>11</th>\n",
       "      <td>덕성여자대학교</td>\n",
       "      <td>37.651199</td>\n",
       "      <td>127.016160</td>\n",
       "    </tr>\n",
       "    <tr>\n",
       "      <th>12</th>\n",
       "      <td>동국대학교</td>\n",
       "      <td>37.557477</td>\n",
       "      <td>127.002052</td>\n",
       "    </tr>\n",
       "    <tr>\n",
       "      <th>13</th>\n",
       "      <td>동덕여자대학교</td>\n",
       "      <td>37.606320</td>\n",
       "      <td>127.041808</td>\n",
       "    </tr>\n",
       "    <tr>\n",
       "      <th>14</th>\n",
       "      <td>명지대학교 서울캠퍼스</td>\n",
       "      <td>37.580205</td>\n",
       "      <td>126.923445</td>\n",
       "    </tr>\n",
       "    <tr>\n",
       "      <th>15</th>\n",
       "      <td>삼육대학교</td>\n",
       "      <td>37.642952</td>\n",
       "      <td>127.105476</td>\n",
       "    </tr>\n",
       "    <tr>\n",
       "      <th>16</th>\n",
       "      <td>상명대학교 서울캠퍼스</td>\n",
       "      <td>37.602638</td>\n",
       "      <td>126.955252</td>\n",
       "    </tr>\n",
       "    <tr>\n",
       "      <th>17</th>\n",
       "      <td>서강대학교</td>\n",
       "      <td>37.550944</td>\n",
       "      <td>126.941002</td>\n",
       "    </tr>\n",
       "    <tr>\n",
       "      <th>18</th>\n",
       "      <td>서경대학교</td>\n",
       "      <td>37.615095</td>\n",
       "      <td>127.013111</td>\n",
       "    </tr>\n",
       "    <tr>\n",
       "      <th>19</th>\n",
       "      <td>서울과학기술대학교</td>\n",
       "      <td>37.631668</td>\n",
       "      <td>127.077481</td>\n",
       "    </tr>\n",
       "    <tr>\n",
       "      <th>20</th>\n",
       "      <td>서울교육대학교</td>\n",
       "      <td>37.489961</td>\n",
       "      <td>127.016412</td>\n",
       "    </tr>\n",
       "    <tr>\n",
       "      <th>21</th>\n",
       "      <td>서울기독대학교</td>\n",
       "      <td>37.600923</td>\n",
       "      <td>126.912382</td>\n",
       "    </tr>\n",
       "    <tr>\n",
       "      <th>22</th>\n",
       "      <td>서울대학교</td>\n",
       "      <td>37.459882</td>\n",
       "      <td>126.951905</td>\n",
       "    </tr>\n",
       "    <tr>\n",
       "      <th>23</th>\n",
       "      <td>서울시립대학교</td>\n",
       "      <td>37.583866</td>\n",
       "      <td>127.058777</td>\n",
       "    </tr>\n",
       "    <tr>\n",
       "      <th>24</th>\n",
       "      <td>서울여자대학교</td>\n",
       "      <td>37.628113</td>\n",
       "      <td>127.090457</td>\n",
       "    </tr>\n",
       "    <tr>\n",
       "      <th>25</th>\n",
       "      <td>서울한영대학교</td>\n",
       "      <td>37.496541</td>\n",
       "      <td>126.851262</td>\n",
       "    </tr>\n",
       "    <tr>\n",
       "      <th>26</th>\n",
       "      <td>성공회대학교</td>\n",
       "      <td>37.487232</td>\n",
       "      <td>126.825320</td>\n",
       "    </tr>\n",
       "    <tr>\n",
       "      <th>27</th>\n",
       "      <td>성균관대학교 서울캠퍼스</td>\n",
       "      <td>37.588227</td>\n",
       "      <td>126.993606</td>\n",
       "    </tr>\n",
       "    <tr>\n",
       "      <th>28</th>\n",
       "      <td>성신여자대학교</td>\n",
       "      <td>37.591310</td>\n",
       "      <td>127.022131</td>\n",
       "    </tr>\n",
       "    <tr>\n",
       "      <th>29</th>\n",
       "      <td>세종대학교</td>\n",
       "      <td>37.550260</td>\n",
       "      <td>127.073139</td>\n",
       "    </tr>\n",
       "    <tr>\n",
       "      <th>30</th>\n",
       "      <td>숙명여자대학교</td>\n",
       "      <td>37.546364</td>\n",
       "      <td>126.964831</td>\n",
       "    </tr>\n",
       "    <tr>\n",
       "      <th>31</th>\n",
       "      <td>숭실대학교</td>\n",
       "      <td>37.496311</td>\n",
       "      <td>126.957460</td>\n",
       "    </tr>\n",
       "    <tr>\n",
       "      <th>32</th>\n",
       "      <td>연세대학교</td>\n",
       "      <td>37.565784</td>\n",
       "      <td>126.938572</td>\n",
       "    </tr>\n",
       "    <tr>\n",
       "      <th>33</th>\n",
       "      <td>육군사관학교</td>\n",
       "      <td>37.623819</td>\n",
       "      <td>127.098878</td>\n",
       "    </tr>\n",
       "    <tr>\n",
       "      <th>34</th>\n",
       "      <td>이화여자대학교</td>\n",
       "      <td>37.564308</td>\n",
       "      <td>126.950179</td>\n",
       "    </tr>\n",
       "    <tr>\n",
       "      <th>35</th>\n",
       "      <td>장로회신학대학교</td>\n",
       "      <td>37.550511</td>\n",
       "      <td>127.103458</td>\n",
       "    </tr>\n",
       "    <tr>\n",
       "      <th>36</th>\n",
       "      <td>중앙대학교 서울캠퍼스</td>\n",
       "      <td>37.505088</td>\n",
       "      <td>126.957101</td>\n",
       "    </tr>\n",
       "    <tr>\n",
       "      <th>37</th>\n",
       "      <td>총신대학교</td>\n",
       "      <td>37.488623</td>\n",
       "      <td>126.966817</td>\n",
       "    </tr>\n",
       "    <tr>\n",
       "      <th>38</th>\n",
       "      <td>추계예술대학교</td>\n",
       "      <td>37.562452</td>\n",
       "      <td>126.953417</td>\n",
       "    </tr>\n",
       "    <tr>\n",
       "      <th>39</th>\n",
       "      <td>한국방송통신대학교</td>\n",
       "      <td>37.578613</td>\n",
       "      <td>127.003291</td>\n",
       "    </tr>\n",
       "    <tr>\n",
       "      <th>40</th>\n",
       "      <td>한국성서대학교</td>\n",
       "      <td>37.648749</td>\n",
       "      <td>127.064320</td>\n",
       "    </tr>\n",
       "    <tr>\n",
       "      <th>41</th>\n",
       "      <td>한국예술종합학교</td>\n",
       "      <td>37.604997</td>\n",
       "      <td>127.056740</td>\n",
       "    </tr>\n",
       "    <tr>\n",
       "      <th>42</th>\n",
       "      <td>한국외국어대학교</td>\n",
       "      <td>37.597319</td>\n",
       "      <td>127.057843</td>\n",
       "    </tr>\n",
       "    <tr>\n",
       "      <th>43</th>\n",
       "      <td>한국체육대학교</td>\n",
       "      <td>37.519627</td>\n",
       "      <td>127.130984</td>\n",
       "    </tr>\n",
       "    <tr>\n",
       "      <th>44</th>\n",
       "      <td>한성대학교</td>\n",
       "      <td>37.581785</td>\n",
       "      <td>127.010369</td>\n",
       "    </tr>\n",
       "    <tr>\n",
       "      <th>45</th>\n",
       "      <td>한양대학교</td>\n",
       "      <td>37.557232</td>\n",
       "      <td>127.045322</td>\n",
       "    </tr>\n",
       "    <tr>\n",
       "      <th>46</th>\n",
       "      <td>홍익대학교</td>\n",
       "      <td>37.551464</td>\n",
       "      <td>126.925011</td>\n",
       "    </tr>\n",
       "  </tbody>\n",
       "</table>\n",
       "</div>"
      ],
      "text/plain": [
       "               대학교         위도          경도\n",
       "0     KAIST 서울캠퍼스   37.592573  127.046737\n",
       "1            KC대학교  37.548345  126.854797\n",
       "2     가톨릭대학교(성신교정)  37.585922  127.004328\n",
       "3     가톨릭대학교(성의교정)  37.499623  127.006065\n",
       "4         감리교신학대학교  37.567645  126.961610\n",
       "5            건국대학교  37.540762  127.079343\n",
       "6     경기대학교 서울캠퍼스   37.300485  127.035833\n",
       "7     경희대학교 서울캠퍼스   37.596195  127.052544\n",
       "8            고려대학교  37.590192  127.033184\n",
       "9            광운대학교  37.619496  127.059696\n",
       "10           국민대학교  37.609641  126.997697\n",
       "11         덕성여자대학교  37.651199  127.016160\n",
       "12           동국대학교  37.557477  127.002052\n",
       "13         동덕여자대학교  37.606320  127.041808\n",
       "14    명지대학교 서울캠퍼스   37.580205  126.923445\n",
       "15           삼육대학교  37.642952  127.105476\n",
       "16    상명대학교 서울캠퍼스   37.602638  126.955252\n",
       "17           서강대학교  37.550944  126.941002\n",
       "18           서경대학교  37.615095  127.013111\n",
       "19       서울과학기술대학교  37.631668  127.077481\n",
       "20         서울교육대학교  37.489961  127.016412\n",
       "21         서울기독대학교  37.600923  126.912382\n",
       "22           서울대학교  37.459882  126.951905\n",
       "23         서울시립대학교  37.583866  127.058777\n",
       "24         서울여자대학교  37.628113  127.090457\n",
       "25         서울한영대학교  37.496541  126.851262\n",
       "26          성공회대학교  37.487232  126.825320\n",
       "27  성균관대학교 서울캠퍼스    37.588227  126.993606\n",
       "28         성신여자대학교  37.591310  127.022131\n",
       "29           세종대학교  37.550260  127.073139\n",
       "30         숙명여자대학교  37.546364  126.964831\n",
       "31           숭실대학교  37.496311  126.957460\n",
       "32           연세대학교  37.565784  126.938572\n",
       "33          육군사관학교  37.623819  127.098878\n",
       "34         이화여자대학교  37.564308  126.950179\n",
       "35        장로회신학대학교  37.550511  127.103458\n",
       "36    중앙대학교 서울캠퍼스   37.505088  126.957101\n",
       "37           총신대학교  37.488623  126.966817\n",
       "38         추계예술대학교  37.562452  126.953417\n",
       "39       한국방송통신대학교  37.578613  127.003291\n",
       "40         한국성서대학교  37.648749  127.064320\n",
       "41        한국예술종합학교  37.604997  127.056740\n",
       "42        한국외국어대학교  37.597319  127.057843\n",
       "43         한국체육대학교  37.519627  127.130984\n",
       "44           한성대학교  37.581785  127.010369\n",
       "45           한양대학교  37.557232  127.045322\n",
       "46           홍익대학교  37.551464  126.925011"
      ]
     },
     "execution_count": 127,
     "metadata": {},
     "output_type": "execute_result"
    }
   ],
   "source": [
    "df"
   ]
  },
  {
   "cell_type": "code",
   "execution_count": 128,
   "id": "c2039037-b5b6-4524-94c1-e81a87daf0ad",
   "metadata": {},
   "outputs": [],
   "source": [
    "df.to_csv(\"aaaaaaa.csv\")"
   ]
  },
  {
   "cell_type": "code",
   "execution_count": 131,
   "id": "87d6307a-e763-4a45-9176-c188511887ea",
   "metadata": {},
   "outputs": [],
   "source": [
    "df.to_excel(\"bbbbbb.xlsx\")"
   ]
  },
  {
   "cell_type": "code",
   "execution_count": 134,
   "id": "d39d8ee9-0638-4c63-bbe0-387bf2cd7770",
   "metadata": {},
   "outputs": [],
   "source": [
    "with open(\"test.pickle\", \"wb\") as f:\n",
    "    pickle.dump(df, f)"
   ]
  },
  {
   "cell_type": "code",
   "execution_count": 136,
   "id": "dc9a3510-7856-4532-a7af-94a7de12a447",
   "metadata": {},
   "outputs": [
    {
     "name": "stdout",
     "output_type": "stream",
     "text": [
      "               대학교         위도          경도\n",
      "0     KAIST 서울캠퍼스   37.592573  127.046737\n",
      "1            KC대학교  37.548345  126.854797\n",
      "2     가톨릭대학교(성신교정)  37.585922  127.004328\n",
      "3     가톨릭대학교(성의교정)  37.499623  127.006065\n",
      "4         감리교신학대학교  37.567645  126.961610\n",
      "5            건국대학교  37.540762  127.079343\n",
      "6     경기대학교 서울캠퍼스   37.300485  127.035833\n",
      "7     경희대학교 서울캠퍼스   37.596195  127.052544\n",
      "8            고려대학교  37.590192  127.033184\n",
      "9            광운대학교  37.619496  127.059696\n",
      "10           국민대학교  37.609641  126.997697\n",
      "11         덕성여자대학교  37.651199  127.016160\n",
      "12           동국대학교  37.557477  127.002052\n",
      "13         동덕여자대학교  37.606320  127.041808\n",
      "14    명지대학교 서울캠퍼스   37.580205  126.923445\n",
      "15           삼육대학교  37.642952  127.105476\n",
      "16    상명대학교 서울캠퍼스   37.602638  126.955252\n",
      "17           서강대학교  37.550944  126.941002\n",
      "18           서경대학교  37.615095  127.013111\n",
      "19       서울과학기술대학교  37.631668  127.077481\n",
      "20         서울교육대학교  37.489961  127.016412\n",
      "21         서울기독대학교  37.600923  126.912382\n",
      "22           서울대학교  37.459882  126.951905\n",
      "23         서울시립대학교  37.583866  127.058777\n",
      "24         서울여자대학교  37.628113  127.090457\n",
      "25         서울한영대학교  37.496541  126.851262\n",
      "26          성공회대학교  37.487232  126.825320\n",
      "27  성균관대학교 서울캠퍼스    37.588227  126.993606\n",
      "28         성신여자대학교  37.591310  127.022131\n",
      "29           세종대학교  37.550260  127.073139\n",
      "30         숙명여자대학교  37.546364  126.964831\n",
      "31           숭실대학교  37.496311  126.957460\n",
      "32           연세대학교  37.565784  126.938572\n",
      "33          육군사관학교  37.623819  127.098878\n",
      "34         이화여자대학교  37.564308  126.950179\n",
      "35        장로회신학대학교  37.550511  127.103458\n",
      "36    중앙대학교 서울캠퍼스   37.505088  126.957101\n",
      "37           총신대학교  37.488623  126.966817\n",
      "38         추계예술대학교  37.562452  126.953417\n",
      "39       한국방송통신대학교  37.578613  127.003291\n",
      "40         한국성서대학교  37.648749  127.064320\n",
      "41        한국예술종합학교  37.604997  127.056740\n",
      "42        한국외국어대학교  37.597319  127.057843\n",
      "43         한국체육대학교  37.519627  127.130984\n",
      "44           한성대학교  37.581785  127.010369\n",
      "45           한양대학교  37.557232  127.045322\n",
      "46           홍익대학교  37.551464  126.925011\n"
     ]
    }
   ],
   "source": [
    "with open(\"test.pickle\", \"rb\") as f:\n",
    "    data = pickle.load(f)\n",
    "print(data)"
   ]
  },
  {
   "cell_type": "markdown",
   "id": "ec601f55-a911-48fa-98ea-1262bb17ad4c",
   "metadata": {},
   "source": [
    "- glob"
   ]
  },
  {
   "cell_type": "code",
   "execution_count": 137,
   "id": "e12a4eff-9826-4ee5-aadf-3daea5793018",
   "metadata": {},
   "outputs": [],
   "source": [
    "import glob"
   ]
  },
  {
   "cell_type": "code",
   "execution_count": 139,
   "id": "c5a5df68-ff72-4cd3-8a82-18dbd7a47214",
   "metadata": {},
   "outputs": [
    {
     "data": {
      "text/plain": [
       "['C:/users/admin\\\\09_01_KDT_00.ipynb',\n",
       " 'C:/users/admin\\\\09_02_KDT.ipynb',\n",
       " 'C:/users/admin\\\\09_03_KDT.ipynb',\n",
       " 'C:/users/admin\\\\09_07_KDT.ipynb',\n",
       " 'C:/users/admin\\\\09_08_KDT.ipynb',\n",
       " 'C:/users/admin\\\\3D Objects',\n",
       " 'C:/users/admin\\\\aaaaaaa.csv',\n",
       " 'C:/users/admin\\\\abc',\n",
       " 'C:/users/admin\\\\AppData',\n",
       " 'C:/users/admin\\\\Application Data',\n",
       " 'C:/users/admin\\\\bbbbbb.xlsx',\n",
       " 'C:/users/admin\\\\Contacts',\n",
       " 'C:/users/admin\\\\Cookies',\n",
       " 'C:/users/admin\\\\Desktop',\n",
       " 'C:/users/admin\\\\Documents',\n",
       " 'C:/users/admin\\\\doit',\n",
       " 'C:/users/admin\\\\Downloads',\n",
       " 'C:/users/admin\\\\Favorites',\n",
       " 'C:/users/admin\\\\foo.txt',\n",
       " 'C:/users/admin\\\\gugu.txt',\n",
       " 'C:/users/admin\\\\jupyter',\n",
       " 'C:/users/admin\\\\Links',\n",
       " 'C:/users/admin\\\\Local Settings',\n",
       " 'C:/users/admin\\\\Music',\n",
       " 'C:/users/admin\\\\My Documents',\n",
       " 'C:/users/admin\\\\NetHood',\n",
       " 'C:/users/admin\\\\new.txt',\n",
       " 'C:/users/admin\\\\newfile.txt',\n",
       " 'C:/users/admin\\\\NTUSER.DAT',\n",
       " 'C:/users/admin\\\\ntuser.dat.LOG1',\n",
       " 'C:/users/admin\\\\ntuser.dat.LOG2',\n",
       " 'C:/users/admin\\\\NTUSER.DAT{ba5a7ab1-1877-11ed-a7a0-24f5aaea1d42}.TM.blf',\n",
       " 'C:/users/admin\\\\NTUSER.DAT{ba5a7ab1-1877-11ed-a7a0-24f5aaea1d42}.TMContainer00000000000000000001.regtrans-ms',\n",
       " 'C:/users/admin\\\\NTUSER.DAT{ba5a7ab1-1877-11ed-a7a0-24f5aaea1d42}.TMContainer00000000000000000002.regtrans-ms',\n",
       " 'C:/users/admin\\\\ntuser.ini',\n",
       " 'C:/users/admin\\\\OneDrive',\n",
       " 'C:/users/admin\\\\people.txt',\n",
       " 'C:/users/admin\\\\Pictures',\n",
       " 'C:/users/admin\\\\practicing_09_08.ipynb',\n",
       " 'C:/users/admin\\\\PrintHood',\n",
       " 'C:/users/admin\\\\Q_five.txt',\n",
       " 'C:/users/admin\\\\Recent',\n",
       " 'C:/users/admin\\\\Saved Games',\n",
       " 'C:/users/admin\\\\Searches',\n",
       " 'C:/users/admin\\\\SendTo',\n",
       " 'C:/users/admin\\\\Templates',\n",
       " 'C:/users/admin\\\\test.pickle',\n",
       " 'C:/users/admin\\\\test.py',\n",
       " 'C:/users/admin\\\\test.txt',\n",
       " 'C:/users/admin\\\\test7.txt',\n",
       " 'C:/users/admin\\\\Videos',\n",
       " 'C:/users/admin\\\\WR',\n",
       " 'C:/users/admin\\\\__pycache__',\n",
       " 'C:/users/admin\\\\서울지역대학교위치.xlsx',\n",
       " 'C:/users/admin\\\\시작 메뉴']"
      ]
     },
     "execution_count": 139,
     "metadata": {},
     "output_type": "execute_result"
    }
   ],
   "source": [
    "glob.glob(\"C:/users/admin/*\")"
   ]
  },
  {
   "cell_type": "code",
   "execution_count": 140,
   "id": "476d4db7-8c35-47a1-8f49-5a11ba206b97",
   "metadata": {},
   "outputs": [
    {
     "data": {
      "text/plain": [
       "['C:/users/admin\\\\aaaaaaa.csv',\n",
       " 'C:/users/admin\\\\abc',\n",
       " 'C:/users/admin\\\\AppData',\n",
       " 'C:/users/admin\\\\Application Data']"
      ]
     },
     "execution_count": 140,
     "metadata": {},
     "output_type": "execute_result"
    }
   ],
   "source": [
    "glob.glob(\"C:/users/admin/a*\")"
   ]
  },
  {
   "cell_type": "code",
   "execution_count": 141,
   "id": "84d1134e-0e53-4b80-875d-d5ce7ad5543e",
   "metadata": {},
   "outputs": [
    {
     "data": {
      "text/plain": [
       "['C:/users/admin\\\\aaaaaaa.csv']"
      ]
     },
     "execution_count": 141,
     "metadata": {},
     "output_type": "execute_result"
    }
   ],
   "source": [
    "glob.glob(\"C:/users/admin/*.csv\")"
   ]
  },
  {
   "cell_type": "markdown",
   "id": "aa50ffdd-1655-4e3a-936c-e959e3a33ee2",
   "metadata": {},
   "source": [
    "- time"
   ]
  },
  {
   "cell_type": "code",
   "execution_count": 142,
   "id": "360a3581-2962-4113-8961-d8a1dc579060",
   "metadata": {},
   "outputs": [],
   "source": [
    "import time"
   ]
  },
  {
   "cell_type": "code",
   "execution_count": 143,
   "id": "1770f35f-b974-4137-8f96-9f2c98dd83a1",
   "metadata": {},
   "outputs": [
    {
     "data": {
      "text/plain": [
       "1663045595.7701445"
      ]
     },
     "execution_count": 143,
     "metadata": {},
     "output_type": "execute_result"
    }
   ],
   "source": [
    "time.time()"
   ]
  },
  {
   "cell_type": "code",
   "execution_count": 148,
   "id": "164dbc3f-bd21-49a6-aab0-d0545929f101",
   "metadata": {},
   "outputs": [
    {
     "data": {
      "text/plain": [
       "53.46726234199835"
      ]
     },
     "execution_count": 148,
     "metadata": {},
     "output_type": "execute_result"
    }
   ],
   "source": [
    "((((time.time()/60)/60)/24)/30)/12"
   ]
  },
  {
   "cell_type": "code",
   "execution_count": 149,
   "id": "60cb7d90-00b0-4919-9f96-366230334043",
   "metadata": {},
   "outputs": [
    {
     "data": {
      "text/plain": [
       "time.struct_time(tm_year=2022, tm_mon=9, tm_mday=13, tm_hour=14, tm_min=9, tm_sec=15, tm_wday=1, tm_yday=256, tm_isdst=0)"
      ]
     },
     "execution_count": 149,
     "metadata": {},
     "output_type": "execute_result"
    }
   ],
   "source": [
    "time.localtime(time.time())"
   ]
  },
  {
   "cell_type": "code",
   "execution_count": 151,
   "id": "7d65ee40-c15d-4452-84d8-cdb5a9fdd519",
   "metadata": {},
   "outputs": [
    {
     "data": {
      "text/plain": [
       "2022"
      ]
     },
     "execution_count": 151,
     "metadata": {},
     "output_type": "execute_result"
    }
   ],
   "source": [
    "time.localtime(time.time()).tm_year"
   ]
  },
  {
   "cell_type": "code",
   "execution_count": 152,
   "id": "b6d22de6-1a65-456c-82e8-8c0bb476e106",
   "metadata": {},
   "outputs": [
    {
     "data": {
      "text/plain": [
       "14"
      ]
     },
     "execution_count": 152,
     "metadata": {},
     "output_type": "execute_result"
    }
   ],
   "source": [
    "time.localtime(time.time()).tm_hour"
   ]
  },
  {
   "cell_type": "markdown",
   "id": "ca02eab8-53e4-458f-8b2a-42b87c81b92c",
   "metadata": {},
   "source": [
    "time.strftime --> string from time"
   ]
  },
  {
   "cell_type": "code",
   "execution_count": 155,
   "id": "828178e7-dfb3-4bfd-8345-f8f7fc10c4dc",
   "metadata": {},
   "outputs": [
    {
     "data": {
      "text/plain": [
       "'09/13/22'"
      ]
     },
     "execution_count": 155,
     "metadata": {},
     "output_type": "execute_result"
    }
   ],
   "source": [
    "now = time.localtime(time.time())\n",
    "time.strftime('%x', now)"
   ]
  },
  {
   "cell_type": "code",
   "execution_count": 156,
   "id": "4bc74d92-f816-4988-9c43-9b0d5b04c716",
   "metadata": {},
   "outputs": [
    {
     "data": {
      "text/plain": [
       "'Tue'"
      ]
     },
     "execution_count": 156,
     "metadata": {},
     "output_type": "execute_result"
    }
   ],
   "source": [
    "now = time.localtime(time.time())\n",
    "time.strftime('%a', now)"
   ]
  },
  {
   "cell_type": "code",
   "execution_count": 157,
   "id": "f9a666a0-d28d-4bd5-a14b-f151e3f9f8ce",
   "metadata": {},
   "outputs": [
    {
     "data": {
      "text/plain": [
       "'2022-09-13 02:15:00 PM'"
      ]
     },
     "execution_count": 157,
     "metadata": {},
     "output_type": "execute_result"
    }
   ],
   "source": [
    "time.strftime('%Y-%m-%d %I:%M:%S %p', now)"
   ]
  },
  {
   "cell_type": "code",
   "execution_count": 158,
   "id": "12660e7b-1bcd-46e3-ad84-78042a6802fe",
   "metadata": {},
   "outputs": [
    {
     "data": {
      "text/plain": [
       "time.struct_time(tm_year=2022, tm_mon=9, tm_mday=13, tm_hour=14, tm_min=15, tm_sec=0, tm_wday=1, tm_yday=256, tm_isdst=-1)"
      ]
     },
     "execution_count": 158,
     "metadata": {},
     "output_type": "execute_result"
    }
   ],
   "source": [
    "time.strptime('2022-09-13 02:15:00 PM', '%Y-%m-%d %I:%M:%S %p')"
   ]
  },
  {
   "cell_type": "code",
   "execution_count": 159,
   "id": "ffa0fc76-0eb6-40e9-9b86-14c34c4565bb",
   "metadata": {},
   "outputs": [
    {
     "data": {
      "text/plain": [
       "time.struct_time(tm_year=2022, tm_mon=9, tm_mday=13, tm_hour=14, tm_min=22, tm_sec=23, tm_wday=1, tm_yday=256, tm_isdst=0)"
      ]
     },
     "execution_count": 159,
     "metadata": {},
     "output_type": "execute_result"
    }
   ],
   "source": [
    "time.localtime()"
   ]
  },
  {
   "cell_type": "code",
   "execution_count": 161,
   "id": "65debcf7-3442-47e7-bc01-8f86c7b32bf8",
   "metadata": {},
   "outputs": [],
   "source": [
    "time.sleep(1)"
   ]
  },
  {
   "cell_type": "code",
   "execution_count": 163,
   "id": "af4b98ec-c051-490e-a668-a6cc92688fec",
   "metadata": {},
   "outputs": [
    {
     "name": "stdout",
     "output_type": "stream",
     "text": [
      "Hello\n",
      "Hello\n",
      "Hello\n",
      "Hello\n",
      "Hello\n"
     ]
    },
    {
     "ename": "KeyboardInterrupt",
     "evalue": "",
     "output_type": "error",
     "traceback": [
      "\u001b[1;31m---------------------------------------------------------------------------\u001b[0m",
      "\u001b[1;31mKeyboardInterrupt\u001b[0m                         Traceback (most recent call last)",
      "Input \u001b[1;32mIn [163]\u001b[0m, in \u001b[0;36m<cell line: 1>\u001b[1;34m()\u001b[0m\n\u001b[0;32m      1\u001b[0m \u001b[38;5;28;01mwhile\u001b[39;00m \u001b[38;5;28;01mTrue\u001b[39;00m:\n\u001b[0;32m      2\u001b[0m     \u001b[38;5;28mprint\u001b[39m(\u001b[38;5;124m\"\u001b[39m\u001b[38;5;124mHello\u001b[39m\u001b[38;5;124m\"\u001b[39m)\n\u001b[1;32m----> 3\u001b[0m     \u001b[43mtime\u001b[49m\u001b[38;5;241;43m.\u001b[39;49m\u001b[43msleep\u001b[49m\u001b[43m(\u001b[49m\u001b[38;5;241;43m1\u001b[39;49m\u001b[43m)\u001b[49m\n",
      "\u001b[1;31mKeyboardInterrupt\u001b[0m: "
     ]
    }
   ],
   "source": [
    "while True:\n",
    "    print(\"Hello\")\n",
    "    time.sleep(1)"
   ]
  },
  {
   "cell_type": "markdown",
   "id": "aafa7831-3ea6-43bf-afc2-2037c5979c00",
   "metadata": {},
   "source": [
    "- random"
   ]
  },
  {
   "cell_type": "code",
   "execution_count": 2,
   "id": "2f3b3072-d411-4b62-ad5e-d8c7f01a75b4",
   "metadata": {},
   "outputs": [],
   "source": [
    "import random"
   ]
  },
  {
   "cell_type": "code",
   "execution_count": 3,
   "id": "42c071c0-5942-40fc-a255-a274d64b1884",
   "metadata": {},
   "outputs": [
    {
     "data": {
      "text/plain": [
       "2"
      ]
     },
     "execution_count": 3,
     "metadata": {},
     "output_type": "execute_result"
    }
   ],
   "source": [
    "random.randint(1, 5)"
   ]
  },
  {
   "cell_type": "code",
   "execution_count": 4,
   "id": "d2646594-79ae-4358-94a2-5fead6197775",
   "metadata": {},
   "outputs": [],
   "source": [
    "li = []\n",
    "for i in range(10):\n",
    "    li.append(random.randint(1, 5))"
   ]
  },
  {
   "cell_type": "code",
   "execution_count": 5,
   "id": "136081f4-94ec-41ea-bbdd-e348d45abd4e",
   "metadata": {},
   "outputs": [
    {
     "data": {
      "text/plain": [
       "[4, 5, 4, 3, 2, 1, 2, 3, 5, 5]"
      ]
     },
     "execution_count": 5,
     "metadata": {},
     "output_type": "execute_result"
    }
   ],
   "source": [
    "li"
   ]
  },
  {
   "cell_type": "code",
   "execution_count": 6,
   "id": "94ddfe50-e0b9-4e54-b7bb-92f108f68fdf",
   "metadata": {},
   "outputs": [],
   "source": [
    "li = []\n",
    "for _ in range(10):\n",
    "    li.append(random.randint(1, 5))"
   ]
  },
  {
   "cell_type": "code",
   "execution_count": 7,
   "id": "518f8bdb-4a51-4711-b74c-45162897a24b",
   "metadata": {},
   "outputs": [
    {
     "data": {
      "text/plain": [
       "[2, 5, 3, 3, 5, 5, 3, 4, 3, 3]"
      ]
     },
     "execution_count": 7,
     "metadata": {},
     "output_type": "execute_result"
    }
   ],
   "source": [
    "li"
   ]
  },
  {
   "cell_type": "code",
   "execution_count": 8,
   "id": "b57d60ed-ccc3-4621-849d-e03d14ca9cfb",
   "metadata": {},
   "outputs": [],
   "source": [
    "li = []\n",
    "for _ in range(10):\n",
    "    li.append(random.randint(1, 20))\n",
    "    "
   ]
  },
  {
   "cell_type": "code",
   "execution_count": 21,
   "id": "1e03858b-cfe2-4c8f-9fba-ee328b30e185",
   "metadata": {},
   "outputs": [
    {
     "data": {
      "text/plain": [
       "2"
      ]
     },
     "execution_count": 21,
     "metadata": {},
     "output_type": "execute_result"
    }
   ],
   "source": [
    "random.choice([1, 2, 3, 10])"
   ]
  },
  {
   "cell_type": "code",
   "execution_count": 36,
   "id": "194a409e-0991-4061-aa72-e1eefcb6ad83",
   "metadata": {},
   "outputs": [
    {
     "data": {
      "text/plain": [
       "3"
      ]
     },
     "execution_count": 36,
     "metadata": {},
     "output_type": "execute_result"
    }
   ],
   "source": [
    "random.choice(range(5))"
   ]
  },
  {
   "cell_type": "code",
   "execution_count": 54,
   "id": "2d7b415a-684f-4b27-83b0-0241fcde256d",
   "metadata": {},
   "outputs": [
    {
     "data": {
      "text/plain": [
       "0.05018750667557925"
      ]
     },
     "execution_count": 54,
     "metadata": {},
     "output_type": "execute_result"
    }
   ],
   "source": [
    "random.random() ### 0과 1사이의 소수값을 출력"
   ]
  },
  {
   "cell_type": "code",
   "execution_count": 60,
   "id": "2d6f1a8d-2c9f-46a1-bd15-82596cadb1d1",
   "metadata": {},
   "outputs": [
    {
     "data": {
      "text/plain": [
       "0.9864680797037465"
      ]
     },
     "execution_count": 60,
     "metadata": {},
     "output_type": "execute_result"
    }
   ],
   "source": [
    "import numpy as np\n",
    "np.random.uniform()\n",
    "### random.random()과 같은 기능"
   ]
  },
  {
   "cell_type": "code",
   "execution_count": 68,
   "id": "98a72fb2-4bf5-4e4b-9a01-f764c6c2dc7a",
   "metadata": {},
   "outputs": [
    {
     "data": {
      "text/plain": [
       "[7, 3, 6, 9, 3, 5, 1]"
      ]
     },
     "execution_count": 68,
     "metadata": {},
     "output_type": "execute_result"
    }
   ],
   "source": [
    "data = [1, 3, 6, 3, 5, 7, 9]\n",
    "random.shuffle(data)\n",
    "data"
   ]
  },
  {
   "cell_type": "code",
   "execution_count": 69,
   "id": "43ec39f6-df31-49f0-b40a-66cebd3a02d4",
   "metadata": {},
   "outputs": [],
   "source": [
    "import webbrowser"
   ]
  },
  {
   "cell_type": "code",
   "execution_count": 70,
   "id": "89371243-a453-4b7f-8be5-7598694f8942",
   "metadata": {},
   "outputs": [
    {
     "data": {
      "text/plain": [
       "True"
      ]
     },
     "execution_count": 70,
     "metadata": {},
     "output_type": "execute_result"
    }
   ],
   "source": [
    "webbrowser.open(\"www.naver.com\")"
   ]
  },
  {
   "cell_type": "code",
   "execution_count": 71,
   "id": "184a5f62-8c34-4fd4-88e3-4c78f84a6c34",
   "metadata": {},
   "outputs": [],
   "source": [
    "### Selenium을 더 많이 사용함"
   ]
  },
  {
   "cell_type": "markdown",
   "id": "14964833-ccef-42ec-9ec8-0e5eb94bc0ed",
   "metadata": {},
   "source": [
    "- threading"
   ]
  },
  {
   "cell_type": "code",
   "execution_count": 76,
   "id": "1303b02b-2ead-49b1-b617-c737b118522a",
   "metadata": {},
   "outputs": [
    {
     "name": "stdout",
     "output_type": "stream",
     "text": [
      "Start\n",
      "working: 0\n",
      "working: 1\n",
      "working: 2\n",
      "working: 3\n",
      "working: 4\n",
      "working: 0\n",
      "working: 1\n",
      "working: 2\n",
      "working: 3\n",
      "working: 4\n",
      "working: 0\n",
      "working: 1\n",
      "working: 2\n",
      "working: 3\n",
      "working: 4\n",
      "working: 0\n",
      "working: 1\n",
      "working: 2\n",
      "working: 3\n",
      "working: 4\n",
      "working: 0\n",
      "working: 1\n",
      "working: 2\n",
      "working: 3\n",
      "working: 4\n",
      "End\n"
     ]
    }
   ],
   "source": [
    "import time\n",
    "\n",
    "def long_task():\n",
    "    for i in range(5):\n",
    "        time.sleep(1)\n",
    "        print(\"working: %s\" %i)\n",
    "print(\"Start\")\n",
    "\n",
    "for i in range(5):\n",
    "    long_task()\n",
    "    \n",
    "print(\"End\")"
   ]
  },
  {
   "cell_type": "code",
   "execution_count": 80,
   "id": "7827f7a2-ce7a-4d3e-af8f-3835b00050d1",
   "metadata": {},
   "outputs": [
    {
     "name": "stdout",
     "output_type": "stream",
     "text": [
      "Start\n",
      "End\n",
      "working: 0working: 0\n",
      "working: 0\n",
      "working: 0\n",
      "working: 0\n",
      "\n",
      "working: 1working: 1\n",
      "working: 1\n",
      "working: 1\n",
      "working: 1\n",
      "\n",
      "working: 2\n",
      "working: 2\n",
      "working: 2\n",
      "working: 2\n",
      "working: 2\n",
      "working: 3\n",
      "working: 3\n",
      "working: 3\n",
      "working: 3\n",
      "working: 3\n",
      "working: 4\n",
      "working: 4\n",
      "working: 4\n",
      "working: 4\n",
      "working: 4\n"
     ]
    }
   ],
   "source": [
    "import time\n",
    "import threading\n",
    "\n",
    "def long_task():\n",
    "    for i in range(5):\n",
    "        time.sleep(1)\n",
    "        print(\"working: %s\" %i)\n",
    "print(\"Start\")\n",
    "\n",
    "threads = []\n",
    "for i in range(5):\n",
    "    t = threading.Thread(target=long_task)\n",
    "    threads.append(t)\n",
    "    \n",
    "for t in threads:\n",
    "    t.start()\n",
    "    \n",
    "print(\"End\")"
   ]
  },
  {
   "cell_type": "code",
   "execution_count": 81,
   "id": "ad7ca116-20e2-4429-94af-d28e5386331b",
   "metadata": {},
   "outputs": [
    {
     "name": "stdout",
     "output_type": "stream",
     "text": [
      "Start\n",
      "working: 0working: 0\n",
      "working: 0\n",
      "working: 0\n",
      "working: 0\n",
      "\n",
      "working: 1working: 1\n",
      "\n",
      "working: 1\n",
      "working: 1\n",
      "working: 1\n",
      "working: 2working: 2\n",
      "working: 2\n",
      "working: 2\n",
      "\n",
      "working: 2\n",
      "working: 3working: 3\n",
      "working: 3\n",
      "\n",
      "working: 3\n",
      "working: 3\n",
      "working: 4working: 4\n",
      "working: 4\n",
      "working: 4\n",
      "working: 4\n",
      "\n",
      "End\n"
     ]
    }
   ],
   "source": [
    "def long_task():\n",
    "    for i in range(5):\n",
    "        time.sleep(1)\n",
    "        print(\"working: %s\" %i)\n",
    "print(\"Start\")\n",
    "\n",
    "threads = []\n",
    "for i in range(5):\n",
    "    t = threading.Thread(target=long_task)\n",
    "    threads.append(t)\n",
    "    \n",
    "for t in threads:\n",
    "    t.start()\n",
    "\n",
    "for t in threads:\n",
    "    t.join()\n",
    "    \n",
    "print(\"End\")"
   ]
  },
  {
   "cell_type": "code",
   "execution_count": 98,
   "id": "7164b84e-8b29-4441-abdb-357d3e2c1e94",
   "metadata": {},
   "outputs": [
    {
     "data": {
      "text/plain": [
       "[2, 4, 6, 8, 10, 12, 14, 16, 18]"
      ]
     },
     "execution_count": 98,
     "metadata": {},
     "output_type": "execute_result"
    }
   ],
   "source": [
    "def GuGu(i):\n",
    "    Gu_list = []\n",
    "    for j in range(1, 10):\n",
    "        a = i * j\n",
    "        Gu_list.append(a)\n",
    "    return Gu_list\n",
    "\n",
    "GuGu(2)"
   ]
  },
  {
   "cell_type": "code",
   "execution_count": 101,
   "id": "1047951f-c9f0-479a-ad13-494d1fe35bb3",
   "metadata": {},
   "outputs": [],
   "source": [
    "def GuGu(num):\n",
    "    return list(num*i for i in range(1,10)) "
   ]
  },
  {
   "cell_type": "code",
   "execution_count": 2,
   "id": "ea096038-01e7-4bd3-a973-bc5a55f207dc",
   "metadata": {},
   "outputs": [
    {
     "name": "stdout",
     "output_type": "stream",
     "text": [
      "2318\n"
     ]
    }
   ],
   "source": [
    "### 1부터 100사이에서\n",
    "### 3의 배수 또는 5의 배수의 합\n",
    "\n",
    "sum = 0\n",
    "\n",
    "for i in range(1, 100):\n",
    "    if i % 3 == 0 or i % 5 == 0:\n",
    "        sum += i\n",
    "\n",
    "print(sum)"
   ]
  },
  {
   "cell_type": "code",
   "execution_count": 2,
   "id": "8d07e5da-ffea-4deb-b872-38ab52419e46",
   "metadata": {},
   "outputs": [
    {
     "name": "stdout",
     "output_type": "stream",
     "text": [
      "2318\n"
     ]
    }
   ],
   "source": [
    "i = 1\n",
    "sum = 0\n",
    "while i < 100:\n",
    "    if i % 3 == 0 or i % 5 == 0:\n",
    "        sum += i\n",
    "    i += 1\n",
    "\n",
    "print(sum)       "
   ]
  },
  {
   "cell_type": "code",
   "execution_count": 20,
   "id": "51e29bf6-a7fd-42e8-b335-2ebbd548fd11",
   "metadata": {},
   "outputs": [
    {
     "data": {
      "text/plain": [
       "3"
      ]
     },
     "execution_count": 20,
     "metadata": {},
     "output_type": "execute_result"
    }
   ],
   "source": [
    "import math\n",
    "\n",
    "def getTotalPage(m, n):\n",
    "    if m / n <= 1:\n",
    "        return 1\n",
    "    elif m / n > 1:\n",
    "        return math.ceil(m/n)\n",
    "\n",
    "getTotalPage(25, 10)"
   ]
  },
  {
   "cell_type": "code",
   "execution_count": 21,
   "id": "5198cf64-6f6f-41fb-bc6c-165fb6102ea3",
   "metadata": {},
   "outputs": [],
   "source": [
    "def getTotalPage(m, n):\n",
    "    if m % n == 0:\n",
    "        return m // n\n",
    "    else:\n",
    "        return m // n + 1"
   ]
  },
  {
   "cell_type": "code",
   "execution_count": 22,
   "id": "1f4ac480-c7e1-4316-b741-8543d9089397",
   "metadata": {},
   "outputs": [
    {
     "ename": "SyntaxError",
     "evalue": "invalid syntax (3047269019.py, line 1)",
     "output_type": "error",
     "traceback": [
      "\u001b[1;36m  Input \u001b[1;32mIn [22]\u001b[1;36m\u001b[0m\n\u001b[1;33m    python memo.py-a \"Life is too short\"\u001b[0m\n\u001b[1;37m           ^\u001b[0m\n\u001b[1;31mSyntaxError\u001b[0m\u001b[1;31m:\u001b[0m invalid syntax\n"
     ]
    }
   ],
   "source": [
    "python memo.py-a \"Life is too short\""
   ]
  },
  {
   "cell_type": "code",
   "execution_count": 2,
   "id": "38d680e5-9d34-4d92-8a4f-43809d7d34fc",
   "metadata": {},
   "outputs": [
    {
     "name": "stdout",
     "output_type": "stream",
     "text": [
      "-f\n",
      "C:\\Users\\admin\\AppData\\Roaming\\jupyter\\runtime\\kernel-33062f01-add5-45dd-8d85-1597fe760bc4.json\n"
     ]
    }
   ],
   "source": [
    "import memo"
   ]
  },
  {
   "cell_type": "code",
   "execution_count": 8,
   "id": "8778e23b-0b7f-473c-9454-d7f15bc48f85",
   "metadata": {},
   "outputs": [],
   "source": [
    "class Calculator:\n",
    "    def __init__(self):\n",
    "        self.value = 0\n",
    "    \n",
    "    def add(self, val):\n",
    "        self.value += val"
   ]
  },
  {
   "cell_type": "code",
   "execution_count": 10,
   "id": "27b04467-f2d5-4bfc-a79b-d90a7092d633",
   "metadata": {},
   "outputs": [],
   "source": [
    "class UpgradeCalculator(Calculator):\n",
    "    def minus(self, val):\n",
    "        self.value -= val"
   ]
  },
  {
   "cell_type": "code",
   "execution_count": 11,
   "id": "182103b3-5b3d-4f14-b08e-972a5521aaea",
   "metadata": {},
   "outputs": [
    {
     "name": "stdout",
     "output_type": "stream",
     "text": [
      "3\n"
     ]
    }
   ],
   "source": [
    "cal = UpgradeCalculator()\n",
    "cal.add(10)\n",
    "cal.minus(7)\n",
    "\n",
    "print(cal.value)"
   ]
  },
  {
   "cell_type": "code",
   "execution_count": 12,
   "id": "9a445353-7e1c-4bc4-9665-957081f6e31c",
   "metadata": {},
   "outputs": [],
   "source": [
    "class Calculator:\n",
    "    def __init__(self):\n",
    "        self.value = 0\n",
    "\n",
    "    def add(self, val):\n",
    "        self.value += val"
   ]
  },
  {
   "cell_type": "code",
   "execution_count": 34,
   "id": "0623f9bf-12e1-4324-bc87-5cd214cb71bc",
   "metadata": {},
   "outputs": [],
   "source": [
    "class MaxLimitCalculator(Calculator):\n",
    "    def add(self, val):\n",
    "        self.value += val\n",
    "        if self.value >= 100:\n",
    "            self.value = 100"
   ]
  },
  {
   "cell_type": "code",
   "execution_count": 35,
   "id": "a75ba429-d7c6-4c06-8bd0-3794fc323b93",
   "metadata": {},
   "outputs": [
    {
     "name": "stdout",
     "output_type": "stream",
     "text": [
      "100\n"
     ]
    }
   ],
   "source": [
    "cal = MaxLimitCalculator()\n",
    "cal.add(50)\n",
    "cal.add(60)\n",
    "\n",
    "print(cal.value)"
   ]
  },
  {
   "cell_type": "code",
   "execution_count": 36,
   "id": "78595ced-5cf4-48ff-bfdb-31bd6a61e26a",
   "metadata": {},
   "outputs": [
    {
     "data": {
      "text/plain": [
       "False"
      ]
     },
     "execution_count": 36,
     "metadata": {},
     "output_type": "execute_result"
    }
   ],
   "source": [
    "all([1, 2, abs(-3)-3])"
   ]
  },
  {
   "cell_type": "code",
   "execution_count": 37,
   "id": "225b377a-58e2-40e7-a8e6-5f92541ff99d",
   "metadata": {},
   "outputs": [
    {
     "data": {
      "text/plain": [
       "True"
      ]
     },
     "execution_count": 37,
     "metadata": {},
     "output_type": "execute_result"
    }
   ],
   "source": [
    "chr(ord('a')) == 'a'"
   ]
  },
  {
   "cell_type": "code",
   "execution_count": 38,
   "id": "979aa660-dbb7-48ba-96a7-33aa2f94cec8",
   "metadata": {},
   "outputs": [
    {
     "data": {
      "text/plain": [
       "[1, 3, 8, 3]"
      ]
     },
     "execution_count": 38,
     "metadata": {},
     "output_type": "execute_result"
    }
   ],
   "source": [
    "list(filter(lambda x: x > 0, [1, -2, 3, -5, 8, 3]))"
   ]
  },
  {
   "cell_type": "code",
   "execution_count": 39,
   "id": "a8959a0a-159d-449c-8935-9fd87be8d5c6",
   "metadata": {},
   "outputs": [
    {
     "data": {
      "text/plain": [
       "'0xea'"
      ]
     },
     "execution_count": 39,
     "metadata": {},
     "output_type": "execute_result"
    }
   ],
   "source": [
    "hex(234)"
   ]
  },
  {
   "cell_type": "code",
   "execution_count": 42,
   "id": "22ad0437-6772-497c-b781-1bc281f91f7e",
   "metadata": {},
   "outputs": [
    {
     "data": {
      "text/plain": [
       "234"
      ]
     },
     "execution_count": 42,
     "metadata": {},
     "output_type": "execute_result"
    }
   ],
   "source": [
    "int('0xea', 16)"
   ]
  },
  {
   "cell_type": "code",
   "execution_count": 43,
   "id": "a55c3db3-4984-446b-866c-7c6a8f1d5727",
   "metadata": {},
   "outputs": [
    {
     "data": {
      "text/plain": [
       "[3, 6, 9, 12]"
      ]
     },
     "execution_count": 43,
     "metadata": {},
     "output_type": "execute_result"
    }
   ],
   "source": [
    "list(map(lambda x: x * 3, [1, 2, 3, 4]))"
   ]
  },
  {
   "cell_type": "code",
   "execution_count": 44,
   "id": "4cea6a8d-abce-4169-8e86-5525da3e5ca6",
   "metadata": {},
   "outputs": [
    {
     "data": {
      "text/plain": [
       "-1"
      ]
     },
     "execution_count": 44,
     "metadata": {},
     "output_type": "execute_result"
    }
   ],
   "source": [
    "a = [-8, 2, 7, 5, -3, 5, 0, 1]\n",
    "max(a) + min(a)"
   ]
  },
  {
   "cell_type": "code",
   "execution_count": 45,
   "id": "4fc3ae78-0816-4d04-9466-cd42f2902f03",
   "metadata": {},
   "outputs": [
    {
     "data": {
      "text/plain": [
       "5.6667"
      ]
     },
     "execution_count": 45,
     "metadata": {},
     "output_type": "execute_result"
    }
   ],
   "source": [
    "round(17 / 3, 4)"
   ]
  },
  {
   "cell_type": "code",
   "execution_count": 46,
   "id": "c553141f-db1c-47c9-bb94-735f5e7d5201",
   "metadata": {},
   "outputs": [],
   "source": [
    "import os"
   ]
  },
  {
   "cell_type": "code",
   "execution_count": null,
   "id": "2aaad422-eaa4-48de-8aaa-0fc6904a1bac",
   "metadata": {},
   "outputs": [],
   "source": [
    "os."
   ]
  },
  {
   "cell_type": "code",
   "execution_count": 47,
   "id": "924b9dea-6ee7-48ca-9c41-3a2338a73880",
   "metadata": {},
   "outputs": [],
   "source": [
    "import glob"
   ]
  },
  {
   "cell_type": "code",
   "execution_count": 49,
   "id": "4540bfdc-7ded-45e9-bc54-f7d2b86738d8",
   "metadata": {},
   "outputs": [
    {
     "data": {
      "text/plain": [
       "['C:/users/admin\\\\memo.py',\n",
       " 'C:/users/admin\\\\memo1.py',\n",
       " 'C:/users/admin\\\\test.py']"
      ]
     },
     "execution_count": 49,
     "metadata": {},
     "output_type": "execute_result"
    }
   ],
   "source": [
    "glob.glob(\"C:/users/admin/*.py\")"
   ]
  },
  {
   "cell_type": "code",
   "execution_count": 55,
   "id": "65562626-3e99-4f2d-9b69-d67463342673",
   "metadata": {},
   "outputs": [
    {
     "data": {
      "text/plain": [
       "'2022/09/13 17:47:27'"
      ]
     },
     "execution_count": 55,
     "metadata": {},
     "output_type": "execute_result"
    }
   ],
   "source": [
    "import time\n",
    "time.strftime('%Y/%m/%d %H:%M:%S')"
   ]
  },
  {
   "cell_type": "code",
   "execution_count": 56,
   "id": "e87b0d07-5c0e-4c4c-8cc8-ec521db2d669",
   "metadata": {},
   "outputs": [],
   "source": [
    "import random"
   ]
  },
  {
   "cell_type": "code",
   "execution_count": 66,
   "id": "ce257852-1831-4f81-9cbb-4f089b7e1874",
   "metadata": {},
   "outputs": [
    {
     "name": "stdout",
     "output_type": "stream",
     "text": [
      "[29, 33, 5, 24, 40, 20]\n"
     ]
    }
   ],
   "source": [
    "lottery = []\n",
    "\n",
    "while True:\n",
    "    a = random.randint(1, 45)\n",
    "    lottery.append(a)\n",
    "    if len(lottery) == 6:\n",
    "        break\n",
    "print(lottery)"
   ]
  },
  {
   "cell_type": "code",
   "execution_count": null,
   "id": "5c29dc4d-de5f-46a8-95f1-5431d2b01333",
   "metadata": {},
   "outputs": [],
   "source": []
  }
 ],
 "metadata": {
  "kernelspec": {
   "display_name": "Python 3 (ipykernel)",
   "language": "python",
   "name": "python3"
  },
  "language_info": {
   "codemirror_mode": {
    "name": "ipython",
    "version": 3
   },
   "file_extension": ".py",
   "mimetype": "text/x-python",
   "name": "python",
   "nbconvert_exporter": "python",
   "pygments_lexer": "ipython3",
   "version": "3.10.6"
  }
 },
 "nbformat": 4,
 "nbformat_minor": 5
}
