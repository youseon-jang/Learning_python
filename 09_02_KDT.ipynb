{
 "cells": [
  {
   "cell_type": "markdown",
   "id": "2edacd30-92fb-4309-947f-81f194b334ec",
   "metadata": {},
   "source": [
    "# 연습문제"
   ]
  },
  {
   "cell_type": "code",
   "execution_count": 5,
   "id": "32899068-d9ca-4f67-913f-3f8a7e82d2bf",
   "metadata": {},
   "outputs": [
    {
     "name": "stdin",
     "output_type": "stream",
     "text": [
      " 4\n"
     ]
    },
    {
     "data": {
      "text/plain": [
       "24"
      ]
     },
     "execution_count": 5,
     "metadata": {},
     "output_type": "execute_result"
    }
   ],
   "source": [
    "a = int(input())\n",
    "\n",
    "import math\n",
    "math.factorial(a)\n"
   ]
  },
  {
   "cell_type": "code",
   "execution_count": 6,
   "id": "bccc1b2c-543c-4b2a-acf1-1c2fd8389dbf",
   "metadata": {},
   "outputs": [
    {
     "name": "stdin",
     "output_type": "stream",
     "text": [
      " 3\n"
     ]
    },
    {
     "name": "stdout",
     "output_type": "stream",
     "text": [
      "홀\n"
     ]
    }
   ],
   "source": [
    "a = int(input())\n",
    "\n",
    "if a % 2 == 0:\n",
    "    print(\"짝\")\n",
    "else :\n",
    "    print(\"홀\")"
   ]
  },
  {
   "cell_type": "code",
   "execution_count": 10,
   "id": "3300b482-110b-4794-858b-9b46cd8808bd",
   "metadata": {},
   "outputs": [
    {
     "data": {
      "text/plain": [
       "['blueberry', 'smoothie']"
      ]
     },
     "execution_count": 10,
     "metadata": {},
     "output_type": "execute_result"
    }
   ],
   "source": [
    "a = \"blueberry smoothie\" \n",
    "\n",
    "a.count(\"e\")\n",
    "a.split(\" \")"
   ]
  },
  {
   "cell_type": "code",
   "execution_count": 12,
   "id": "0177f1e9-a7bc-4408-b55d-f2963564bd28",
   "metadata": {},
   "outputs": [
    {
     "data": {
      "text/plain": [
       "array([   1.,  334.,  667., 1000.])"
      ]
     },
     "execution_count": 12,
     "metadata": {},
     "output_type": "execute_result"
    }
   ],
   "source": [
    "import numpy as np\n",
    "np.linspace(1, 1000, 4)"
   ]
  },
  {
   "cell_type": "code",
   "execution_count": 71,
   "id": "1e5ec38c-247b-4dc4-adc8-b8075ade541a",
   "metadata": {},
   "outputs": [
    {
     "ename": "TypeError",
     "evalue": "'function' object is not subscriptable",
     "output_type": "error",
     "traceback": [
      "\u001b[1;31m---------------------------------------------------------------------------\u001b[0m",
      "\u001b[1;31mTypeError\u001b[0m                                 Traceback (most recent call last)",
      "Input \u001b[1;32mIn [71]\u001b[0m, in \u001b[0;36m<cell line: 2>\u001b[1;34m()\u001b[0m\n\u001b[0;32m      1\u001b[0m \u001b[38;5;28;01mimport\u001b[39;00m \u001b[38;5;21;01mmath\u001b[39;00m \u001b[38;5;28;01mas\u001b[39;00m \u001b[38;5;21;01mm\u001b[39;00m\n\u001b[1;32m----> 2\u001b[0m x \u001b[38;5;241m=\u001b[39m \u001b[43mnp\u001b[49m\u001b[38;5;241;43m.\u001b[39;49m\u001b[43mlinspace\u001b[49m\u001b[43m[\u001b[49m\u001b[38;5;241;43m0\u001b[39;49m\u001b[43m,\u001b[49m\u001b[38;5;241;43m2\u001b[39;49m\u001b[38;5;241;43m*\u001b[39;49m\u001b[43mm\u001b[49m\u001b[38;5;241;43m.\u001b[39;49m\u001b[43mpi\u001b[49m\u001b[43m,\u001b[49m\u001b[38;5;241;43m100\u001b[39;49m\u001b[43m]\u001b[49m\n\u001b[0;32m      3\u001b[0m y \u001b[38;5;241m=\u001b[39m np\u001b[38;5;241m.\u001b[39msin(x)\n\u001b[0;32m      4\u001b[0m z \u001b[38;5;241m=\u001b[39m np\u001b[38;5;241m.\u001b[39mcos(x)\n",
      "\u001b[1;31mTypeError\u001b[0m: 'function' object is not subscriptable"
     ]
    }
   ],
   "source": [
    "import math as m\n",
    "x = np.linspace[0,2*m.pi,100]\n",
    "y = np.sin(x)\n",
    "z = np.cos(x)\n",
    "\n",
    "plt.plot(x, y)\n",
    "plt.plot(x, y)"
   ]
  },
  {
   "cell_type": "code",
   "execution_count": 39,
   "id": "ef016938-f0a0-4652-a8db-d858e7996343",
   "metadata": {},
   "outputs": [
    {
     "data": {
      "text/plain": [
       "'Life is short, we need Python'"
      ]
     },
     "execution_count": 39,
     "metadata": {},
     "output_type": "execute_result"
    }
   ],
   "source": [
    "a = '   LIFE-IS-SHORT,-WE-NEED-PYTHON   ' \n",
    "\n",
    "b = a.strip().lower().split('-')\n",
    "\" \".join(b).capitalize().replace(\"p\", \"P\")"
   ]
  },
  {
   "cell_type": "code",
   "execution_count": 36,
   "id": "af87d9ca-0d6e-4b07-ac9f-b0245d96e960",
   "metadata": {},
   "outputs": [],
   "source": [
    "from math import factorial, sqrt"
   ]
  },
  {
   "cell_type": "code",
   "execution_count": 37,
   "id": "e3b7557e-63f6-47ce-a3ed-4abc1ad1a463",
   "metadata": {},
   "outputs": [
    {
     "data": {
      "text/plain": [
       "24"
      ]
     },
     "execution_count": 37,
     "metadata": {},
     "output_type": "execute_result"
    }
   ],
   "source": [
    "factorial(4)"
   ]
  },
  {
   "cell_type": "code",
   "execution_count": 38,
   "id": "7b3f047e-3041-474a-8481-7f2670ef2a81",
   "metadata": {},
   "outputs": [
    {
     "data": {
      "text/plain": [
       "2.0"
      ]
     },
     "execution_count": 38,
     "metadata": {},
     "output_type": "execute_result"
    }
   ],
   "source": [
    "sqrt(4)"
   ]
  },
  {
   "cell_type": "code",
   "execution_count": 42,
   "id": "5198491c-d880-45b4-b8f7-9e0316f622ac",
   "metadata": {},
   "outputs": [
    {
     "data": {
      "text/plain": [
       "170"
      ]
     },
     "execution_count": 42,
     "metadata": {},
     "output_type": "execute_result"
    }
   ],
   "source": [
    "a = 1000 % 167\n",
    "b = 1000 // 167\n",
    "\n",
    "a + b"
   ]
  },
  {
   "cell_type": "code",
   "execution_count": 56,
   "id": "c390bd54-8183-4242-8df0-3ff9892da3d2",
   "metadata": {},
   "outputs": [
    {
     "data": {
      "text/plain": [
       "array([  0.,  10.,  20.,  30.,  40.,  50.,  60.,  70.,  80.,  90., 100.,\n",
       "       110., 120., 130., 140., 150., 160., 170., 180., 190., 200.])"
      ]
     },
     "execution_count": 56,
     "metadata": {},
     "output_type": "execute_result"
    }
   ],
   "source": [
    "a = np.linspace(0, 200, 21)\n",
    "b = a[a <= 80]\n",
    "b\n",
    "\n",
    "if a.all() <= 80 :\n",
    "    b = a\n",
    "\n",
    "b"
   ]
  },
  {
   "cell_type": "code",
   "execution_count": 57,
   "id": "96aad3ff-9e98-4f9c-92f9-d8982d0426d5",
   "metadata": {},
   "outputs": [
    {
     "data": {
      "text/plain": [
       "'철수$영희$민수$아영'"
      ]
     },
     "execution_count": 57,
     "metadata": {},
     "output_type": "execute_result"
    }
   ],
   "source": [
    "a=[\"철수\",\"영희\",\"민수\",\"아영\"]\n",
    "\n",
    "\"$\".join(a)"
   ]
  },
  {
   "cell_type": "code",
   "execution_count": 66,
   "id": "d712f543-6303-4aca-9b08-41592f1d2a9d",
   "metadata": {},
   "outputs": [
    {
     "data": {
      "text/plain": [
       "1.46"
      ]
     },
     "execution_count": 66,
     "metadata": {},
     "output_type": "execute_result"
    }
   ],
   "source": [
    "round(1.4567, ndigits = 2)"
   ]
  },
  {
   "cell_type": "code",
   "execution_count": 70,
   "id": "2894ec58-1b34-45b6-a636-1e791be5165c",
   "metadata": {},
   "outputs": [
    {
     "data": {
      "text/plain": [
       "['We', 'are', 'studying', 'Python']"
      ]
     },
     "execution_count": 70,
     "metadata": {},
     "output_type": "execute_result"
    }
   ],
   "source": [
    "a = 'WezarezstudyingzPython'\n",
    "\n",
    "a.replace(\"z\",\" \")\n",
    "a.split(\"z\")"
   ]
  },
  {
   "cell_type": "code",
   "execution_count": 80,
   "id": "a3f821db-25f5-4d13-a6fc-88e235180724",
   "metadata": {},
   "outputs": [
    {
     "data": {
      "text/plain": [
       "array([4, 3, 6])"
      ]
     },
     "execution_count": 80,
     "metadata": {},
     "output_type": "execute_result"
    }
   ],
   "source": [
    "a = [4, 3, 8, 6, 9]\n",
    "b = np.array([4, 3, 8, 6, 9])\n",
    "b[b < 8]\n",
    "\n",
    "####list는 비교안됨 np.array()로 바꿔줘야 함"
   ]
  },
  {
   "cell_type": "code",
   "execution_count": 91,
   "id": "8c9cc172-6bfd-4c64-b9c7-452c94ed3970",
   "metadata": {},
   "outputs": [
    {
     "data": {
      "text/plain": [
       "'Good morning'"
      ]
     },
     "execution_count": 91,
     "metadata": {},
     "output_type": "execute_result"
    }
   ],
   "source": [
    "a = \"gOod$moRning\"\n",
    "b = a.split(\"$\")\n",
    "b = \" \".join(b).lower().capitalize()\n",
    "b"
   ]
  },
  {
   "cell_type": "markdown",
   "id": "8e66a3b2-743f-4a1e-97d8-6d6fc16fd329",
   "metadata": {},
   "source": [
    "# 수업"
   ]
  },
  {
   "cell_type": "code",
   "execution_count": 93,
   "id": "e469212b-3cbd-48de-84ec-3822e3f9f4bf",
   "metadata": {},
   "outputs": [
    {
     "name": "stdin",
     "output_type": "stream",
     "text": [
      " 3\n"
     ]
    },
    {
     "name": "stdout",
     "output_type": "stream",
     "text": [
      "6\n"
     ]
    }
   ],
   "source": [
    "### 입력받은 것의 두 배 출력해보기\n",
    "a = input()\n",
    "b = int(a)*2\n",
    "print(b)\n",
    "\n",
    "\n",
    "a = int(input())\n",
    "print(a*2)"
   ]
  },
  {
   "cell_type": "code",
   "execution_count": 98,
   "id": "b741fd68-1ba4-4b03-a803-c1d0f61e42b6",
   "metadata": {},
   "outputs": [
    {
     "name": "stdin",
     "output_type": "stream",
     "text": [
      " a b c \n"
     ]
    },
    {
     "data": {
      "text/plain": [
       "['a', 'b', 'c', '']"
      ]
     },
     "execution_count": 98,
     "metadata": {},
     "output_type": "execute_result"
    }
   ],
   "source": [
    "### ' '로 여러 개를 입력받기\n",
    "words = input().split(' ')\n",
    "words"
   ]
  },
  {
   "cell_type": "code",
   "execution_count": 99,
   "id": "55c28bfe-7d97-4979-aaa3-3982fdd9829d",
   "metadata": {},
   "outputs": [
    {
     "name": "stdin",
     "output_type": "stream",
     "text": [
      " a, b, c\n"
     ]
    },
    {
     "data": {
      "text/plain": [
       "['a', ' b', ' c']"
      ]
     },
     "execution_count": 99,
     "metadata": {},
     "output_type": "execute_result"
    }
   ],
   "source": [
    "### ','로 여러 개를 입력받기\n",
    "words = input().split(',')\n",
    "words"
   ]
  },
  {
   "cell_type": "markdown",
   "id": "b4b53612-6693-43c9-8e3d-aa74fe9a6746",
   "metadata": {},
   "source": [
    "## formatting"
   ]
  },
  {
   "cell_type": "code",
   "execution_count": 101,
   "id": "6a98a782-6ab7-42fc-ab13-ea808ccf5e80",
   "metadata": {},
   "outputs": [
    {
     "name": "stdout",
     "output_type": "stream",
     "text": [
      "I ate three apples. So I have sicked for 3 days\n"
     ]
    }
   ],
   "source": [
    "print(\"I ate three apples. So I have sicked for 3 days\")"
   ]
  },
  {
   "cell_type": "markdown",
   "id": "d11176e5-9801-48e6-854f-210e908a41fb",
   "metadata": {},
   "source": [
    "- 방법 1"
   ]
  },
  {
   "cell_type": "code",
   "execution_count": 112,
   "id": "5964fe2e-731f-487a-8a9a-377ff8514ea8",
   "metadata": {},
   "outputs": [
    {
     "name": "stdout",
     "output_type": "stream",
     "text": [
      "I ate num apples. So I have sicked for day days\n",
      "I ate three apples. So I have sicked for 3 days\n",
      "I ate three apples. So I have sicked for 3 days\n",
      "I ate three apples. So I have sicked for 3 days\n",
      "I ate 3 apples. So I have sicked for three days\n",
      "I ate three apples. So I have sicked for three days\n"
     ]
    }
   ],
   "source": [
    "num = 'three'\n",
    "day = 3\n",
    "\n",
    "print(\"I ate num apples. So I have sicked for day days\")\n",
    "print(\"I ate \" + num + \" apples. So I have sicked for \" + str(day) + \" days\")\n",
    "\n",
    "\n",
    "print(\"I ate {} apples. So I have sicked for {} days\".format(num, day))\n",
    "print(\"I ate {0} apples. So I have sicked for {1} days\".format(num, day))\n",
    "print(\"I ate {1} apples. So I have sicked for {0} days\".format(num, day))\n",
    "print(\"I ate {0} apples. So I have sicked for {0} days\".format(num, day))"
   ]
  },
  {
   "cell_type": "markdown",
   "id": "23f128b7-6d71-4f7b-9cf4-5ecc0ba5d0c1",
   "metadata": {},
   "source": [
    "- 방법 2(f string)"
   ]
  },
  {
   "cell_type": "code",
   "execution_count": 113,
   "id": "13baa851-ca7f-4d09-afd2-b0059eebb1f7",
   "metadata": {},
   "outputs": [
    {
     "name": "stdout",
     "output_type": "stream",
     "text": [
      "I ate three apples. So I have sicked for 3 days\n"
     ]
    }
   ],
   "source": [
    "num = 'three'\n",
    "day = 3\n",
    "\n",
    "print(f\"I ate {num} apples. So I have sicked for {day} days\")\n"
   ]
  },
  {
   "cell_type": "code",
   "execution_count": 115,
   "id": "88886a4e-8c9c-402e-803b-04a1a43af20e",
   "metadata": {},
   "outputs": [
    {
     "name": "stdin",
     "output_type": "stream",
     "text": [
      "이름 장유선\n",
      "나이 25\n"
     ]
    },
    {
     "name": "stdout",
     "output_type": "stream",
     "text": [
      "나의 이름은 장유선이고 나이는 25입니다.\n"
     ]
    }
   ],
   "source": [
    "### 이름과 나이를 입력받아서 \"나의 이름은 000이고 나이는 00세입니다.\"\n",
    "name = input(\"이름\")\n",
    "age = input(\"나이\")\n",
    "\n",
    "print(f\"나의 이름은 {name}이고 나이는 {age}입니다.\")"
   ]
  },
  {
   "cell_type": "markdown",
   "id": "284540fd-7725-4565-8957-2212e4c0e4b4",
   "metadata": {},
   "source": [
    "## python의 자료형"
   ]
  },
  {
   "cell_type": "markdown",
   "id": "83889708-f29c-4d40-bd6f-2e3455bd1ba8",
   "metadata": {},
   "source": [
    "- 리스트, 튜플, 딕셔너리, 집합\n",
    "- 리스트는 여러 개를 하나로 묶어주는 역할을 함"
   ]
  },
  {
   "cell_type": "markdown",
   "id": "951d5125-12fd-4864-9fd0-f1c95653c650",
   "metadata": {},
   "source": [
    "### 리스트"
   ]
  },
  {
   "cell_type": "markdown",
   "id": "cf0e9bf0-9246-450c-8519-c80ff2772729",
   "metadata": {},
   "source": [
    "- 만들기 : []\n",
    "- 접근(읽기)\n",
    "- 수정"
   ]
  },
  {
   "cell_type": "markdown",
   "id": "e32210c7-cd9e-496b-97ac-1cfb8f118e36",
   "metadata": {},
   "source": [
    "#### 만들기"
   ]
  },
  {
   "cell_type": "code",
   "execution_count": 129,
   "id": "906ff7d4-1157-4a97-ac74-263faef95e43",
   "metadata": {},
   "outputs": [
    {
     "data": {
      "text/plain": [
       "[1, 2, 3, 4, 'Hello', 'Good Morning', [5, 6, 7, 8]]"
      ]
     },
     "execution_count": 129,
     "metadata": {},
     "output_type": "execute_result"
    }
   ],
   "source": [
    "a = [1, 2, 3, 4]\n",
    "a = [1, 2, 3, 4, \"Hello\", \"Good Morning\"] ###list안에 숫자와 문자 모두 가능함\n",
    "a = [1, 2, 3, 4, \"Hello\", \"Good Morning\", [5, 6, 7, 8]] ###list 안에 list도 가능(nested list/중첩리스트)\n",
    "\n",
    "a"
   ]
  },
  {
   "cell_type": "code",
   "execution_count": 124,
   "id": "1eb4bf1e-2e9c-4ece-8d8d-e334a57011e9",
   "metadata": {},
   "outputs": [
    {
     "data": {
      "text/plain": [
       "list"
      ]
     },
     "execution_count": 124,
     "metadata": {},
     "output_type": "execute_result"
    }
   ],
   "source": [
    "type(a)"
   ]
  },
  {
   "cell_type": "markdown",
   "id": "25d93e54-c8bc-417e-a35c-4a9618d916b2",
   "metadata": {},
   "source": [
    "#### 접근"
   ]
  },
  {
   "cell_type": "code",
   "execution_count": 127,
   "id": "6cc0bfad-2779-484e-8c87-3494aef399f8",
   "metadata": {},
   "outputs": [
    {
     "data": {
      "text/plain": [
       "[1, 2, 3, 4, 'Hello', 'Good Morning', [5, 6, 7, 8]]"
      ]
     },
     "execution_count": 127,
     "metadata": {},
     "output_type": "execute_result"
    }
   ],
   "source": [
    "a"
   ]
  },
  {
   "cell_type": "markdown",
   "id": "893ba4d9-ade1-49da-b662-246fa8396d4a",
   "metadata": {},
   "source": [
    "- 인덱스으로 접근(indexing)"
   ]
  },
  {
   "cell_type": "code",
   "execution_count": 128,
   "id": "7fa20f75-73b3-4b24-9f3c-7a7bd4212463",
   "metadata": {},
   "outputs": [
    {
     "data": {
      "text/plain": [
       "1"
      ]
     },
     "execution_count": 128,
     "metadata": {},
     "output_type": "execute_result"
    }
   ],
   "source": [
    "a[0]"
   ]
  },
  {
   "cell_type": "code",
   "execution_count": 130,
   "id": "6c8eb233-2f49-4660-b08f-3790feb59d5e",
   "metadata": {},
   "outputs": [
    {
     "data": {
      "text/plain": [
       "'Hello'"
      ]
     },
     "execution_count": 130,
     "metadata": {},
     "output_type": "execute_result"
    }
   ],
   "source": [
    "a[4]"
   ]
  },
  {
   "cell_type": "code",
   "execution_count": 131,
   "id": "d11e995c-bf2e-445c-aae5-31a2c89ac5db",
   "metadata": {},
   "outputs": [
    {
     "data": {
      "text/plain": [
       "[5, 6, 7, 8]"
      ]
     },
     "execution_count": 131,
     "metadata": {},
     "output_type": "execute_result"
    }
   ],
   "source": [
    "a[6]"
   ]
  },
  {
   "cell_type": "code",
   "execution_count": 132,
   "id": "baf3c2af-e678-4375-bde1-4a16645603fa",
   "metadata": {},
   "outputs": [
    {
     "data": {
      "text/plain": [
       "5"
      ]
     },
     "execution_count": 132,
     "metadata": {},
     "output_type": "execute_result"
    }
   ],
   "source": [
    "a[6][0]"
   ]
  },
  {
   "cell_type": "code",
   "execution_count": 133,
   "id": "3f04c089-36b5-4faa-a708-547edea42684",
   "metadata": {},
   "outputs": [
    {
     "data": {
      "text/plain": [
       "'M'"
      ]
     },
     "execution_count": 133,
     "metadata": {},
     "output_type": "execute_result"
    }
   ],
   "source": [
    "a[5][5]"
   ]
  },
  {
   "cell_type": "code",
   "execution_count": 134,
   "id": "fcf3267d-2f61-42a0-946c-4a5d7f70e0bc",
   "metadata": {},
   "outputs": [
    {
     "data": {
      "text/plain": [
       "7"
      ]
     },
     "execution_count": 134,
     "metadata": {},
     "output_type": "execute_result"
    }
   ],
   "source": [
    "a[6][2]"
   ]
  },
  {
   "cell_type": "code",
   "execution_count": 136,
   "id": "b8bcf5ef-acb0-45d2-87b2-233ce9aeb481",
   "metadata": {},
   "outputs": [
    {
     "data": {
      "text/plain": [
       "[5, 6, 7, 8]"
      ]
     },
     "execution_count": 136,
     "metadata": {},
     "output_type": "execute_result"
    }
   ],
   "source": [
    "a[-1] ###뒤부터 셀 때에는 -1부터 시작"
   ]
  },
  {
   "cell_type": "code",
   "execution_count": 137,
   "id": "9b4e462e-1a98-4b4e-ada4-3371cde8a31a",
   "metadata": {},
   "outputs": [
    {
     "data": {
      "text/plain": [
       "'g'"
      ]
     },
     "execution_count": 137,
     "metadata": {},
     "output_type": "execute_result"
    }
   ],
   "source": [
    "a[-2][-1]"
   ]
  },
  {
   "cell_type": "code",
   "execution_count": 139,
   "id": "4310c385-9b9f-4251-bd98-ff8af4046179",
   "metadata": {},
   "outputs": [
    {
     "data": {
      "text/plain": [
       "1"
      ]
     },
     "execution_count": 139,
     "metadata": {},
     "output_type": "execute_result"
    }
   ],
   "source": [
    "a[-0] ### -0은 0으로 인식함"
   ]
  },
  {
   "cell_type": "markdown",
   "id": "f9d2598c-913c-4468-ac98-d62dbd959877",
   "metadata": {},
   "source": [
    "- 슬라이싱(slicing)"
   ]
  },
  {
   "cell_type": "code",
   "execution_count": 144,
   "id": "172d963c-0e7f-4a2f-a8b4-29d729776397",
   "metadata": {},
   "outputs": [
    {
     "data": {
      "text/plain": [
       "[1, 2, 3, 4]"
      ]
     },
     "execution_count": 144,
     "metadata": {},
     "output_type": "execute_result"
    }
   ],
   "source": [
    "a[0:4] \n",
    "### a[start:stop]\n",
    "### stop은 포함 안됨"
   ]
  },
  {
   "cell_type": "code",
   "execution_count": 145,
   "id": "4c9a6554-40cb-4040-9a57-87ff92091d6e",
   "metadata": {},
   "outputs": [
    {
     "data": {
      "text/plain": [
       "['Hello', 'Good Morning']"
      ]
     },
     "execution_count": 145,
     "metadata": {},
     "output_type": "execute_result"
    }
   ],
   "source": [
    "a[4:6]"
   ]
  },
  {
   "cell_type": "code",
   "execution_count": 146,
   "id": "0892985c-1c7b-4cef-a8f8-a6c5478357cd",
   "metadata": {},
   "outputs": [
    {
     "data": {
      "text/plain": [
       "['Hello', 'Good Morning', [5, 6, 7, 8]]"
      ]
     },
     "execution_count": 146,
     "metadata": {},
     "output_type": "execute_result"
    }
   ],
   "source": [
    "a[4: ]"
   ]
  },
  {
   "cell_type": "code",
   "execution_count": 147,
   "id": "b30aecae-5407-421e-80a8-2c99e6e3f7f0",
   "metadata": {},
   "outputs": [
    {
     "data": {
      "text/plain": [
       "[1, 2, 3, 4]"
      ]
     },
     "execution_count": 147,
     "metadata": {},
     "output_type": "execute_result"
    }
   ],
   "source": [
    "a[ :4]"
   ]
  },
  {
   "cell_type": "code",
   "execution_count": 148,
   "id": "ba55a7ce-4218-40dd-ab69-dd919d6ea4d7",
   "metadata": {},
   "outputs": [
    {
     "data": {
      "text/plain": [
       "[1, 2, 3, 4, 'Hello', 'Good Morning', [5, 6, 7, 8]]"
      ]
     },
     "execution_count": 148,
     "metadata": {},
     "output_type": "execute_result"
    }
   ],
   "source": [
    "a[ : ]"
   ]
  },
  {
   "cell_type": "code",
   "execution_count": 149,
   "id": "f6f1952d-4fef-4bb6-bdbe-48e5e3fba13b",
   "metadata": {},
   "outputs": [
    {
     "data": {
      "text/plain": [
       "[1, 2, 3, 4, 'Hello', 'Good Morning', [5, 6, 7, 8]]"
      ]
     },
     "execution_count": 149,
     "metadata": {},
     "output_type": "execute_result"
    }
   ],
   "source": [
    "a[:]"
   ]
  },
  {
   "cell_type": "code",
   "execution_count": 152,
   "id": "70387b52-27cc-46b5-9d4a-1fc8488475cf",
   "metadata": {},
   "outputs": [
    {
     "data": {
      "text/plain": [
       "'ll'"
      ]
     },
     "execution_count": 152,
     "metadata": {},
     "output_type": "execute_result"
    }
   ],
   "source": [
    "a[4][2:4]\n",
    "### stop - start = 추출하려는 개수 (stop은 포함이 아니기 때문에 가능)"
   ]
  },
  {
   "cell_type": "code",
   "execution_count": 154,
   "id": "4a8566e5-b236-4c3d-a6e0-f456185045f6",
   "metadata": {},
   "outputs": [
    {
     "data": {
      "text/plain": [
       "'Morning'"
      ]
     },
     "execution_count": 154,
     "metadata": {},
     "output_type": "execute_result"
    }
   ],
   "source": [
    "a[5][5:]"
   ]
  },
  {
   "cell_type": "markdown",
   "id": "5817b27f-ec48-460b-8cb4-c2476ab26712",
   "metadata": {},
   "source": [
    "#### 수정"
   ]
  },
  {
   "cell_type": "code",
   "execution_count": 155,
   "id": "6233c71f-6547-4ebb-8eb3-20393890dc43",
   "metadata": {},
   "outputs": [
    {
     "data": {
      "text/plain": [
       "[1, 2, 3, 4, 'Hello', 'Good Morning', [5, 6, 7, 8]]"
      ]
     },
     "execution_count": 155,
     "metadata": {},
     "output_type": "execute_result"
    }
   ],
   "source": [
    "a"
   ]
  },
  {
   "cell_type": "code",
   "execution_count": 156,
   "id": "0526849e-25d8-4364-98d0-d79c02dcbd80",
   "metadata": {},
   "outputs": [],
   "source": [
    "a[1] = 22"
   ]
  },
  {
   "cell_type": "code",
   "execution_count": 157,
   "id": "3969cb39-f2fd-4a78-847e-a7a12a396547",
   "metadata": {},
   "outputs": [
    {
     "data": {
      "text/plain": [
       "[1, 22, 3, 4, 'Hello', 'Good Morning', [5, 6, 7, 8]]"
      ]
     },
     "execution_count": 157,
     "metadata": {},
     "output_type": "execute_result"
    }
   ],
   "source": [
    "a"
   ]
  },
  {
   "cell_type": "markdown",
   "id": "25cfcb32-a367-4705-a5d2-489ba0024360",
   "metadata": {},
   "source": [
    "- 추가"
   ]
  },
  {
   "cell_type": "code",
   "execution_count": 158,
   "id": "5ed0fb77-8f7a-4caa-ada3-b6c6057be86f",
   "metadata": {},
   "outputs": [
    {
     "data": {
      "text/plain": [
       "[1, 22, 3, 4, 'Hello', 'Good Morning', [5, 6, 7, 8]]"
      ]
     },
     "execution_count": 158,
     "metadata": {},
     "output_type": "execute_result"
    }
   ],
   "source": [
    "a"
   ]
  },
  {
   "cell_type": "code",
   "execution_count": 159,
   "id": "a49edbe6-1269-4ed7-8a1d-a076a2d469df",
   "metadata": {},
   "outputs": [],
   "source": [
    "a.append(9) #### 마지막에 추가됨"
   ]
  },
  {
   "cell_type": "code",
   "execution_count": 160,
   "id": "d7c9ed4c-ae19-4668-9119-962edbec9622",
   "metadata": {},
   "outputs": [
    {
     "data": {
      "text/plain": [
       "[1, 22, 3, 4, 'Hello', 'Good Morning', [5, 6, 7, 8], 9]"
      ]
     },
     "execution_count": 160,
     "metadata": {},
     "output_type": "execute_result"
    }
   ],
   "source": [
    "a"
   ]
  },
  {
   "cell_type": "code",
   "execution_count": 161,
   "id": "6b283de1-22af-4b4e-802c-15c6f33fa86e",
   "metadata": {},
   "outputs": [],
   "source": [
    "a.append(\"Hi\")"
   ]
  },
  {
   "cell_type": "code",
   "execution_count": 162,
   "id": "c5cad0f5-d0b4-4c0e-803a-d1239aa2830a",
   "metadata": {},
   "outputs": [
    {
     "data": {
      "text/plain": [
       "[1, 22, 3, 4, 'Hello', 'Good Morning', [5, 6, 7, 8], 9, 'Hi']"
      ]
     },
     "execution_count": 162,
     "metadata": {},
     "output_type": "execute_result"
    }
   ],
   "source": [
    "a"
   ]
  },
  {
   "cell_type": "code",
   "execution_count": 163,
   "id": "dbb4c216-d303-455b-b358-afb011181ddb",
   "metadata": {},
   "outputs": [],
   "source": [
    "b = []\n",
    "for i in [1, 2, 3]:\n",
    "    b.append(i)"
   ]
  },
  {
   "cell_type": "code",
   "execution_count": 164,
   "id": "983bf3f9-5822-4769-a374-4cacef4536d5",
   "metadata": {},
   "outputs": [
    {
     "data": {
      "text/plain": [
       "[1, 2, 3]"
      ]
     },
     "execution_count": 164,
     "metadata": {},
     "output_type": "execute_result"
    }
   ],
   "source": [
    "b"
   ]
  },
  {
   "cell_type": "code",
   "execution_count": 165,
   "id": "87dd339f-f8b0-4729-a2f7-4b7c8d2783ed",
   "metadata": {},
   "outputs": [],
   "source": [
    "a.insert(2, 33) ### insert(index, data)"
   ]
  },
  {
   "cell_type": "code",
   "execution_count": 167,
   "id": "a417cf2c-4ec1-4ad6-95f1-a4aa9616d838",
   "metadata": {},
   "outputs": [
    {
     "data": {
      "text/plain": [
       "[1, 22, 33, 3, 4, 'Hello', 'Good Morning', [5, 6, 7, 8], 9, 'Hi']"
      ]
     },
     "execution_count": 167,
     "metadata": {},
     "output_type": "execute_result"
    }
   ],
   "source": [
    "a"
   ]
  },
  {
   "cell_type": "markdown",
   "id": "b1dbe67a-626c-414e-9127-e25d7aa9b5db",
   "metadata": {},
   "source": [
    "- 삭제"
   ]
  },
  {
   "cell_type": "code",
   "execution_count": 168,
   "id": "5110a975-070b-40b8-821d-d86c1e46d6a2",
   "metadata": {},
   "outputs": [],
   "source": [
    "a.remove(3)"
   ]
  },
  {
   "cell_type": "code",
   "execution_count": 169,
   "id": "a32f1000-860c-46ce-9475-06dd4106e045",
   "metadata": {},
   "outputs": [
    {
     "data": {
      "text/plain": [
       "[1, 22, 33, 4, 'Hello', 'Good Morning', [5, 6, 7, 8], 9, 'Hi']"
      ]
     },
     "execution_count": 169,
     "metadata": {},
     "output_type": "execute_result"
    }
   ],
   "source": [
    "a"
   ]
  },
  {
   "cell_type": "code",
   "execution_count": 170,
   "id": "ec11320f-be18-4b76-85ea-59f16e519f82",
   "metadata": {},
   "outputs": [
    {
     "data": {
      "text/plain": [
       "'Hello'"
      ]
     },
     "execution_count": 170,
     "metadata": {},
     "output_type": "execute_result"
    }
   ],
   "source": [
    "a.pop(4) ### 화면에 무엇을 지웠는지 띄워주고 해당 내용 삭제함"
   ]
  },
  {
   "cell_type": "markdown",
   "id": "35130d0a-6e7a-4889-8a89-69d34684207f",
   "metadata": {},
   "source": [
    "- 정렬\n",
    "- sorted() : 파이썬 내장함수\n",
    "- sort() : 메소드"
   ]
  },
  {
   "cell_type": "code",
   "execution_count": 172,
   "id": "f56cc874-9103-4497-a43f-e8e419328839",
   "metadata": {},
   "outputs": [],
   "source": [
    "a = [1, 3, 4, 2]"
   ]
  },
  {
   "cell_type": "code",
   "execution_count": 173,
   "id": "a283cfa3-3103-42d6-af11-06c2561202a1",
   "metadata": {},
   "outputs": [
    {
     "data": {
      "text/plain": [
       "[1, 2, 3, 4]"
      ]
     },
     "execution_count": 173,
     "metadata": {},
     "output_type": "execute_result"
    }
   ],
   "source": [
    "sorted(a)"
   ]
  },
  {
   "cell_type": "code",
   "execution_count": 182,
   "id": "c5a6d1f6-acf0-4ba4-8f6f-17cac4b75f5b",
   "metadata": {},
   "outputs": [
    {
     "data": {
      "text/plain": [
       "[1, 3, 4, 5]"
      ]
     },
     "execution_count": 182,
     "metadata": {},
     "output_type": "execute_result"
    }
   ],
   "source": [
    "a = [3, 4, 1, 5]\n",
    "a.sort()\n",
    "a"
   ]
  },
  {
   "cell_type": "code",
   "execution_count": 178,
   "id": "7ddfadf6-c4bd-4aef-b232-fc7d5cf8caf5",
   "metadata": {},
   "outputs": [
    {
     "ename": "AttributeError",
     "evalue": "'list' object has no attribute 'sorted'",
     "output_type": "error",
     "traceback": [
      "\u001b[1;31m---------------------------------------------------------------------------\u001b[0m",
      "\u001b[1;31mAttributeError\u001b[0m                            Traceback (most recent call last)",
      "Input \u001b[1;32mIn [178]\u001b[0m, in \u001b[0;36m<cell line: 1>\u001b[1;34m()\u001b[0m\n\u001b[1;32m----> 1\u001b[0m \u001b[43ma\u001b[49m\u001b[38;5;241;43m.\u001b[39;49m\u001b[43msorted\u001b[49m()\n",
      "\u001b[1;31mAttributeError\u001b[0m: 'list' object has no attribute 'sorted'"
     ]
    }
   ],
   "source": [
    "a.sorted() ### 둘의 차이 알아두기"
   ]
  },
  {
   "cell_type": "code",
   "execution_count": 181,
   "id": "35603557-65eb-4d78-bf16-0dabf0ff4e41",
   "metadata": {},
   "outputs": [
    {
     "data": {
      "text/plain": [
       "[1, 3, 4, 5]"
      ]
     },
     "execution_count": 181,
     "metadata": {},
     "output_type": "execute_result"
    }
   ],
   "source": [
    "a.reverse()\n",
    "a"
   ]
  },
  {
   "cell_type": "markdown",
   "id": "6fc71936-5e83-4f10-a7ec-b3b2c6d65b70",
   "metadata": {},
   "source": [
    "### 튜플"
   ]
  },
  {
   "cell_type": "markdown",
   "id": "ad9bd664-6d6d-4e90-bef8-ab76e50d94fd",
   "metadata": {},
   "source": [
    "- list와 같지만 튜플은 수정을 할 수 없다는 점이 차이점임\n",
    "- 실수로라도 수정되면 안되는 정보가 있을 때 사용됨"
   ]
  },
  {
   "cell_type": "markdown",
   "id": "99cecc17-bf2a-45cf-bea1-35e77fe2b529",
   "metadata": {},
   "source": [
    "#### 만들기"
   ]
  },
  {
   "cell_type": "code",
   "execution_count": 185,
   "id": "c8ed4060-3210-419e-9380-fa8914125dfa",
   "metadata": {},
   "outputs": [
    {
     "data": {
      "text/plain": [
       "(1, 2, 3, 4)"
      ]
     },
     "execution_count": 185,
     "metadata": {},
     "output_type": "execute_result"
    }
   ],
   "source": [
    "a = (1, 2, 3, 4)\n",
    "a"
   ]
  },
  {
   "cell_type": "code",
   "execution_count": 186,
   "id": "b2d1d569-40ea-4c54-9ce6-4feea886e3ef",
   "metadata": {},
   "outputs": [
    {
     "data": {
      "text/plain": [
       "tuple"
      ]
     },
     "execution_count": 186,
     "metadata": {},
     "output_type": "execute_result"
    }
   ],
   "source": [
    "type(a)"
   ]
  },
  {
   "cell_type": "code",
   "execution_count": 187,
   "id": "37acd938-d2f2-4b65-ad92-707433630eeb",
   "metadata": {},
   "outputs": [],
   "source": [
    "a = 5, 6, 7, 8"
   ]
  },
  {
   "cell_type": "code",
   "execution_count": 188,
   "id": "0a7d0316-8c1b-434e-92ed-3fd5c3388e21",
   "metadata": {},
   "outputs": [
    {
     "data": {
      "text/plain": [
       "tuple"
      ]
     },
     "execution_count": 188,
     "metadata": {},
     "output_type": "execute_result"
    }
   ],
   "source": [
    "type(a)"
   ]
  },
  {
   "cell_type": "code",
   "execution_count": 189,
   "id": "604de8d6-054f-4e59-82ed-b3c23ba9bcb0",
   "metadata": {},
   "outputs": [
    {
     "ename": "TypeError",
     "evalue": "'tuple' object does not support item assignment",
     "output_type": "error",
     "traceback": [
      "\u001b[1;31m---------------------------------------------------------------------------\u001b[0m",
      "\u001b[1;31mTypeError\u001b[0m                                 Traceback (most recent call last)",
      "Input \u001b[1;32mIn [189]\u001b[0m, in \u001b[0;36m<cell line: 1>\u001b[1;34m()\u001b[0m\n\u001b[1;32m----> 1\u001b[0m \u001b[43ma\u001b[49m\u001b[43m[\u001b[49m\u001b[38;5;241;43m0\u001b[39;49m\u001b[43m]\u001b[49m \u001b[38;5;241m=\u001b[39m \u001b[38;5;241m55\u001b[39m\n",
      "\u001b[1;31mTypeError\u001b[0m: 'tuple' object does not support item assignment"
     ]
    }
   ],
   "source": [
    "a[0] = 55"
   ]
  },
  {
   "cell_type": "code",
   "execution_count": 190,
   "id": "fcd706dc-8104-4810-8a06-e9bb0b2ea578",
   "metadata": {},
   "outputs": [
    {
     "data": {
      "text/plain": [
       "(10, 12)"
      ]
     },
     "execution_count": 190,
     "metadata": {},
     "output_type": "execute_result"
    }
   ],
   "source": [
    "num = (10, 12)\n",
    "num"
   ]
  },
  {
   "cell_type": "code",
   "execution_count": 192,
   "id": "1c7228d0-c27c-47ed-819d-14ca24610369",
   "metadata": {},
   "outputs": [
    {
     "name": "stdout",
     "output_type": "stream",
     "text": [
      "10\n",
      "12\n"
     ]
    }
   ],
   "source": [
    "a, b = num  \n",
    "### unpacking : 묶여져있는 것을 a,b로 쪼갬\n",
    "### ()없이 a, b를 입력해도 저절로 () 튜플형으로 저장됨\n",
    "\n",
    "print(a)   \n",
    "print(b)"
   ]
  },
  {
   "cell_type": "markdown",
   "id": "6891a04b-a248-4f9d-b5a0-a2abbc1df10f",
   "metadata": {},
   "source": [
    "### 딕셔너리(dictionary)"
   ]
  },
  {
   "cell_type": "markdown",
   "id": "ae7bd511-1132-4105-83b9-6f71eb731ff0",
   "metadata": {},
   "source": [
    "#### 만들기 | {key : value}"
   ]
  },
  {
   "cell_type": "code",
   "execution_count": 195,
   "id": "5e46ad23-31c9-420e-ac94-78bef271d947",
   "metadata": {},
   "outputs": [],
   "source": [
    "a = {\"apple\" : \"사과\", \"banana\" : \"바나나\", \"cherry\" : \"체리\"}"
   ]
  },
  {
   "cell_type": "code",
   "execution_count": 194,
   "id": "8f429bf1-16b1-4823-98d4-518de50ec3b6",
   "metadata": {},
   "outputs": [
    {
     "data": {
      "text/plain": [
       "dict"
      ]
     },
     "execution_count": 194,
     "metadata": {},
     "output_type": "execute_result"
    }
   ],
   "source": [
    "type(a)"
   ]
  },
  {
   "cell_type": "code",
   "execution_count": 196,
   "id": "2091aee3-25ce-479f-86d6-d248cadd38c1",
   "metadata": {},
   "outputs": [
    {
     "data": {
      "text/plain": [
       "{'apple': '사과', 'banana': '바나나', 'cherry': '체리'}"
      ]
     },
     "execution_count": 196,
     "metadata": {},
     "output_type": "execute_result"
    }
   ],
   "source": [
    "a"
   ]
  },
  {
   "cell_type": "markdown",
   "id": "83e2b535-ba6a-47ed-8243-4b500005b5dc",
   "metadata": {},
   "source": [
    "#### 접근, 검색"
   ]
  },
  {
   "cell_type": "markdown",
   "id": "e64e829e-859b-4d83-801e-fbecb2bd3c66",
   "metadata": {},
   "source": [
    "- 인덱스 없음"
   ]
  },
  {
   "cell_type": "code",
   "execution_count": 198,
   "id": "80a38de1-8f6a-498a-bb88-f80e5551f3d6",
   "metadata": {},
   "outputs": [
    {
     "data": {
      "text/plain": [
       "'사과'"
      ]
     },
     "execution_count": 198,
     "metadata": {},
     "output_type": "execute_result"
    }
   ],
   "source": [
    "a['apple']"
   ]
  },
  {
   "cell_type": "code",
   "execution_count": 199,
   "id": "084b1751-9000-4e5e-a182-253d2443f357",
   "metadata": {},
   "outputs": [
    {
     "ename": "KeyError",
     "evalue": "0",
     "output_type": "error",
     "traceback": [
      "\u001b[1;31m---------------------------------------------------------------------------\u001b[0m",
      "\u001b[1;31mKeyError\u001b[0m                                  Traceback (most recent call last)",
      "Input \u001b[1;32mIn [199]\u001b[0m, in \u001b[0;36m<cell line: 1>\u001b[1;34m()\u001b[0m\n\u001b[1;32m----> 1\u001b[0m \u001b[43ma\u001b[49m\u001b[43m[\u001b[49m\u001b[38;5;241;43m0\u001b[39;49m\u001b[43m]\u001b[49m\n",
      "\u001b[1;31mKeyError\u001b[0m: 0"
     ]
    }
   ],
   "source": [
    "a[0]"
   ]
  },
  {
   "cell_type": "code",
   "execution_count": 201,
   "id": "06f08545-ec0d-482e-9569-4bdb93b6ea12",
   "metadata": {},
   "outputs": [
    {
     "ename": "KeyError",
     "evalue": "'사과'",
     "output_type": "error",
     "traceback": [
      "\u001b[1;31m---------------------------------------------------------------------------\u001b[0m",
      "\u001b[1;31mKeyError\u001b[0m                                  Traceback (most recent call last)",
      "Input \u001b[1;32mIn [201]\u001b[0m, in \u001b[0;36m<cell line: 1>\u001b[1;34m()\u001b[0m\n\u001b[1;32m----> 1\u001b[0m \u001b[43ma\u001b[49m\u001b[43m[\u001b[49m\u001b[38;5;124;43m'\u001b[39;49m\u001b[38;5;124;43m사과\u001b[39;49m\u001b[38;5;124;43m'\u001b[39;49m\u001b[43m]\u001b[49m\n",
      "\u001b[1;31mKeyError\u001b[0m: '사과'"
     ]
    }
   ],
   "source": [
    "a['사과'] ### value로를 검색 안됨"
   ]
  },
  {
   "cell_type": "code",
   "execution_count": 202,
   "id": "2e7ebedf-4354-456a-96bb-fbfc5edbda3a",
   "metadata": {},
   "outputs": [
    {
     "data": {
      "text/plain": [
       "dict_keys(['apple', 'banana', 'cherry'])"
      ]
     },
     "execution_count": 202,
     "metadata": {},
     "output_type": "execute_result"
    }
   ],
   "source": [
    "a.keys()"
   ]
  },
  {
   "cell_type": "code",
   "execution_count": 203,
   "id": "8fcd94a0-ede6-4484-9e79-1fa61b834000",
   "metadata": {},
   "outputs": [
    {
     "data": {
      "text/plain": [
       "dict_values(['사과', '바나나', '체리'])"
      ]
     },
     "execution_count": 203,
     "metadata": {},
     "output_type": "execute_result"
    }
   ],
   "source": [
    "a.values()"
   ]
  },
  {
   "cell_type": "code",
   "execution_count": 204,
   "id": "fd4d9315-1053-46fc-a02f-0eec9347d144",
   "metadata": {},
   "outputs": [
    {
     "data": {
      "text/plain": [
       "dict_items([('apple', '사과'), ('banana', '바나나'), ('cherry', '체리')])"
      ]
     },
     "execution_count": 204,
     "metadata": {},
     "output_type": "execute_result"
    }
   ],
   "source": [
    "a.items() ### key와 value 모두 표시"
   ]
  },
  {
   "cell_type": "code",
   "execution_count": 205,
   "id": "ce7e0456-8363-4eb5-b891-7e153d206a59",
   "metadata": {},
   "outputs": [
    {
     "name": "stdout",
     "output_type": "stream",
     "text": [
      "('apple', '사과')\n",
      "('banana', '바나나')\n",
      "('cherry', '체리')\n"
     ]
    }
   ],
   "source": [
    "for i in a.items():\n",
    "    print(i)"
   ]
  },
  {
   "cell_type": "code",
   "execution_count": 206,
   "id": "d94c8dea-e1ff-43a4-867b-917dce781b26",
   "metadata": {},
   "outputs": [
    {
     "name": "stdout",
     "output_type": "stream",
     "text": [
      "apple 사과\n",
      "banana 바나나\n",
      "cherry 체리\n"
     ]
    }
   ],
   "source": [
    "for i, j in a.items():\n",
    "    print(i, j)    ### unpacking"
   ]
  },
  {
   "cell_type": "code",
   "execution_count": 210,
   "id": "0770e3b6-ab86-442e-a678-a7f8b502c8b2",
   "metadata": {},
   "outputs": [],
   "source": [
    "a = {\"apple\": [\"사과\", \"능금\", \"백설공주\"], \"banana\" : \"바나나\", \"cherry\" : \"체리\"}"
   ]
  },
  {
   "cell_type": "code",
   "execution_count": 211,
   "id": "2ce5b448-dde1-4af3-a75c-5f28a18d0a02",
   "metadata": {},
   "outputs": [
    {
     "data": {
      "text/plain": [
       "{'apple': ['사과', '능금', '백설공주'], 'banana': '바나나', 'cherry': '체리'}"
      ]
     },
     "execution_count": 211,
     "metadata": {},
     "output_type": "execute_result"
    }
   ],
   "source": [
    "a"
   ]
  },
  {
   "cell_type": "markdown",
   "id": "aa3ae3a6-0655-484c-8e2d-2577bfacb9a1",
   "metadata": {},
   "source": [
    "#### 수정"
   ]
  },
  {
   "cell_type": "code",
   "execution_count": 212,
   "id": "14e9415a-a8c1-438e-9d23-c95807723bf4",
   "metadata": {},
   "outputs": [],
   "source": [
    "a = {\"apple\": [\"사과\", \"능금\", \"백설공주\"], \"banana\" : \"바나나\", \"cherry\" : \"체리\"}\n",
    "a['banana'] = '빠나나'"
   ]
  },
  {
   "cell_type": "code",
   "execution_count": 213,
   "id": "1b28fe4f-b138-4039-a041-80db425d0194",
   "metadata": {},
   "outputs": [
    {
     "data": {
      "text/plain": [
       "{'apple': ['사과', '능금', '백설공주'], 'banana': '빠나나', 'cherry': '체리'}"
      ]
     },
     "execution_count": 213,
     "metadata": {},
     "output_type": "execute_result"
    }
   ],
   "source": [
    "a"
   ]
  },
  {
   "cell_type": "markdown",
   "id": "d4a44aac-65fa-4d4a-98a8-599185651d34",
   "metadata": {},
   "source": [
    "#### 추가"
   ]
  },
  {
   "cell_type": "code",
   "execution_count": 216,
   "id": "ae880713-f34a-49df-8391-075e8dd3d3c6",
   "metadata": {},
   "outputs": [
    {
     "data": {
      "text/plain": [
       "{'apple': ['사과', '능금', '백설공주'],\n",
       " 'banana': '빠나나',\n",
       " 'cherry': '체리',\n",
       " 'durian': '두리안'}"
      ]
     },
     "execution_count": 216,
     "metadata": {},
     "output_type": "execute_result"
    }
   ],
   "source": [
    "a['durian'] = '두리안'\n",
    "a"
   ]
  },
  {
   "cell_type": "code",
   "execution_count": 217,
   "id": "9bef721a-4126-450b-be27-d9f8f684386f",
   "metadata": {},
   "outputs": [],
   "source": [
    "명단 = {\"철수\": \"합격\", \"영희\": \"합격\"}"
   ]
  },
  {
   "cell_type": "code",
   "execution_count": 220,
   "id": "eff118de-66ea-4d8e-88ea-030c4454d40f",
   "metadata": {},
   "outputs": [
    {
     "name": "stdin",
     "output_type": "stream",
     "text": [
      "이름을 입력하세요. 철수\n"
     ]
    },
    {
     "name": "stdout",
     "output_type": "stream",
     "text": [
      "합격\n",
      "합격입니다.\n"
     ]
    }
   ],
   "source": [
    "a = input(\"이름을 입력하세요.\")\n",
    "print(명단[a])\n",
    "print(f'{명단[a]}입니다.')"
   ]
  },
  {
   "cell_type": "markdown",
   "id": "715aa9d0-7a30-4b0f-aa9e-ec3a62804684",
   "metadata": {},
   "source": [
    "- 집합(set)은 거의 쓰이지않으므로 생략"
   ]
  },
  {
   "cell_type": "markdown",
   "id": "a4bb11ff-45d2-4b28-91dd-ea48610e609e",
   "metadata": {},
   "source": [
    "```\n",
    "int()\n",
    "float()\n",
    "str()\n",
    "bool()\n",
    "\n",
    "list() []\n",
    "tuple() ()\n",
    "dict() { : }\n",
    "set() {}\n",
    "```"
   ]
  },
  {
   "cell_type": "code",
   "execution_count": 222,
   "id": "164b3ca4-1322-46de-9624-9661f8c431da",
   "metadata": {},
   "outputs": [
    {
     "data": {
      "text/plain": [
       "[1, 2, 3]"
      ]
     },
     "execution_count": 222,
     "metadata": {},
     "output_type": "execute_result"
    }
   ],
   "source": [
    "a = [1, 2, 3]\n",
    "a"
   ]
  },
  {
   "cell_type": "code",
   "execution_count": 223,
   "id": "88185496-3c2d-4ba2-bbae-62f401faca57",
   "metadata": {},
   "outputs": [
    {
     "data": {
      "text/plain": [
       "2063294879168"
      ]
     },
     "execution_count": 223,
     "metadata": {},
     "output_type": "execute_result"
    }
   ],
   "source": [
    "id(a)"
   ]
  },
  {
   "cell_type": "code",
   "execution_count": 228,
   "id": "02f280d1-64e2-442d-b6a4-3e7f8fb93967",
   "metadata": {},
   "outputs": [
    {
     "data": {
      "text/plain": [
       "[1, 2, 3]"
      ]
     },
     "execution_count": 228,
     "metadata": {},
     "output_type": "execute_result"
    }
   ],
   "source": [
    "b = a\n",
    "b"
   ]
  },
  {
   "cell_type": "code",
   "execution_count": 229,
   "id": "9ed180a7-098b-45f6-83a1-c70e80251280",
   "metadata": {},
   "outputs": [
    {
     "data": {
      "text/plain": [
       "[1, 2, 3]"
      ]
     },
     "execution_count": 229,
     "metadata": {},
     "output_type": "execute_result"
    }
   ],
   "source": [
    "c = a.copy()\n",
    "c"
   ]
  },
  {
   "cell_type": "code",
   "execution_count": 232,
   "id": "b29e8ab4-c069-4f28-af2d-a6fe03e035dd",
   "metadata": {},
   "outputs": [
    {
     "data": {
      "text/plain": [
       "[1, 2, 30]"
      ]
     },
     "execution_count": 232,
     "metadata": {},
     "output_type": "execute_result"
    }
   ],
   "source": [
    "c[2] = 30\n",
    "c"
   ]
  },
  {
   "cell_type": "code",
   "execution_count": 233,
   "id": "e69cb187-a843-4201-beb5-bda0708ebaa7",
   "metadata": {},
   "outputs": [
    {
     "data": {
      "text/plain": [
       "[1, 2, 3]"
      ]
     },
     "execution_count": 233,
     "metadata": {},
     "output_type": "execute_result"
    }
   ],
   "source": [
    "a"
   ]
  },
  {
   "cell_type": "code",
   "execution_count": 234,
   "id": "39dd0835-b42f-43f7-a95b-a6e61589689d",
   "metadata": {},
   "outputs": [
    {
     "data": {
      "text/plain": [
       "[1, 2, 3]"
      ]
     },
     "execution_count": 234,
     "metadata": {},
     "output_type": "execute_result"
    }
   ],
   "source": [
    "b"
   ]
  },
  {
   "cell_type": "code",
   "execution_count": 237,
   "id": "1fd8a67f-ae71-463d-a506-f0b874cc0903",
   "metadata": {},
   "outputs": [
    {
     "data": {
      "text/plain": [
       "[1, 2, 300]"
      ]
     },
     "execution_count": 237,
     "metadata": {},
     "output_type": "execute_result"
    }
   ],
   "source": [
    "b[2] = 300\n",
    "b"
   ]
  },
  {
   "cell_type": "code",
   "execution_count": 238,
   "id": "348876d9-7649-4ab6-84f8-e89678c629a0",
   "metadata": {},
   "outputs": [
    {
     "data": {
      "text/plain": [
       "[1, 2, 300]"
      ]
     },
     "execution_count": 238,
     "metadata": {},
     "output_type": "execute_result"
    }
   ],
   "source": [
    "a"
   ]
  },
  {
   "cell_type": "code",
   "execution_count": 239,
   "id": "5bc5fa77-4fb1-4275-b717-e6c36eddc20c",
   "metadata": {},
   "outputs": [
    {
     "data": {
      "text/plain": [
       "2063294879168"
      ]
     },
     "execution_count": 239,
     "metadata": {},
     "output_type": "execute_result"
    }
   ],
   "source": [
    "id(a)"
   ]
  },
  {
   "cell_type": "code",
   "execution_count": 240,
   "id": "cc785057-72c8-4477-bedd-579b381a9d94",
   "metadata": {},
   "outputs": [
    {
     "data": {
      "text/plain": [
       "2063294879168"
      ]
     },
     "execution_count": 240,
     "metadata": {},
     "output_type": "execute_result"
    }
   ],
   "source": [
    "id(b)"
   ]
  },
  {
   "cell_type": "code",
   "execution_count": 241,
   "id": "31c50a41-8d08-46f0-8d30-70e9f84a45a2",
   "metadata": {},
   "outputs": [
    {
     "ename": "ValueError",
     "evalue": "too many values to unpack (expected 2)",
     "output_type": "error",
     "traceback": [
      "\u001b[1;31m---------------------------------------------------------------------------\u001b[0m",
      "\u001b[1;31mValueError\u001b[0m                                Traceback (most recent call last)",
      "Input \u001b[1;32mIn [241]\u001b[0m, in \u001b[0;36m<cell line: 1>\u001b[1;34m()\u001b[0m\n\u001b[1;32m----> 1\u001b[0m a, b \u001b[38;5;241m=\u001b[39m (\u001b[38;5;124m'\u001b[39m\u001b[38;5;124mpython\u001b[39m\u001b[38;5;124m'\u001b[39m \u001b[38;5;124m'\u001b[39m\u001b[38;5;124mlife\u001b[39m\u001b[38;5;124m'\u001b[39m)\n\u001b[0;32m      2\u001b[0m (a, b) \u001b[38;5;241m=\u001b[39m \u001b[38;5;124m'\u001b[39m\u001b[38;5;124mpython\u001b[39m\u001b[38;5;124m'\u001b[39m, \u001b[38;5;124m'\u001b[39m\u001b[38;5;124mlife\u001b[39m\u001b[38;5;124m'\u001b[39m\n\u001b[0;32m      4\u001b[0m a \u001b[38;5;241m=\u001b[39m b \u001b[38;5;241m=\u001b[39m \u001b[38;5;124m'\u001b[39m\u001b[38;5;124mpython\u001b[39m\u001b[38;5;124m'\u001b[39m\n",
      "\u001b[1;31mValueError\u001b[0m: too many values to unpack (expected 2)"
     ]
    }
   ],
   "source": [
    "a, b = ('python' 'life')\n",
    "(a, b) = 'python', 'life'\n",
    "\n",
    "a = b = 'python'"
   ]
  },
  {
   "cell_type": "markdown",
   "id": "146e16d4-a008-42b3-b5f2-03e0f64a8c0a",
   "metadata": {},
   "source": [
    "## 조건문 IF"
   ]
  },
  {
   "cell_type": "markdown",
   "id": "1cb62928-f5ac-4ad6-9eff-bc245547305b",
   "metadata": {},
   "source": [
    "- if문의 구조 \n",
    "```\n",
    "if 참거짓 : \n",
    "    참일 때 실행될 문장\n",
    "```"
   ]
  },
  {
   "cell_type": "code",
   "execution_count": 243,
   "id": "6e200b7e-5c1c-4b88-8fc4-76ea5c4b3a84",
   "metadata": {},
   "outputs": [
    {
     "name": "stdout",
     "output_type": "stream",
     "text": [
      "No\n"
     ]
    }
   ],
   "source": [
    "if 1 > 2 :\n",
    "    print(\"Yes\")\n",
    "else : \n",
    "    print(\"No\")"
   ]
  },
  {
   "cell_type": "markdown",
   "id": "b8bf1cd9-73a6-4563-b26c-75442a65d7cf",
   "metadata": {},
   "source": [
    "```\n",
    "if  참거짓 :\n",
    "    참일 때 실행될 문장\n",
    "elif :\n",
    "    참일 때 실행될 문장\n",
    "elif : \n",
    "    참일 때 실행될 문장\n",
    "else :\n",
    "    나머지 모두에서 실행될 문장\n",
    "```\n",
    "\n",
    "- elif : else와 if 줄인 것"
   ]
  },
  {
   "cell_type": "code",
   "execution_count": 249,
   "id": "41a23d84-5e56-4f71-b8c7-fe653dee0256",
   "metadata": {},
   "outputs": [
    {
     "name": "stdin",
     "output_type": "stream",
     "text": [
      "기온을 입력하세요:  17\n"
     ]
    },
    {
     "name": "stdout",
     "output_type": "stream",
     "text": [
      "가을\n"
     ]
    }
   ],
   "source": [
    "## 25보다 크면 \"여름\"\n",
    "## 15보다 크면 \"가을\"\n",
    "## 5보다 크면 \"봄\"\n",
    "## 그 이하는 \"겨울\"\n",
    "\n",
    "temp = float(input(\"기온을 입력하세요: \"))\n",
    "\n",
    "if temp>25 : \n",
    "    print(\"여름\")\n",
    "elif temp>15: \n",
    "    print(\"가을\")\n",
    "elif temp>5: \n",
    "    print(\"봄\")\n",
    "else: \n",
    "    print(\"겨울\") \n",
    "\n",
    "#### elif를 if로 바꿔서 if를 여러번 쓰면\n",
    "#### 맞는 조건들에 해당하는 값을 표시할 수 있음(값이 하나 이상일 수 있음)\n",
    "#### elif사용이 더 좋음"
   ]
  },
  {
   "cell_type": "code",
   "execution_count": 250,
   "id": "a8126618-f094-45ef-8281-d4bb6d691159",
   "metadata": {},
   "outputs": [
    {
     "name": "stdin",
     "output_type": "stream",
     "text": [
      " 4\n"
     ]
    },
    {
     "name": "stdout",
     "output_type": "stream",
     "text": [
      "짝수\n"
     ]
    }
   ],
   "source": [
    "## 홀수인지 짝수인지 판단\n",
    "number = int(input())\n",
    "\n",
    "if number % 2 == 0:\n",
    "    print(\"짝수\")\n",
    "else :\n",
    "    print(\"홀수\")"
   ]
  },
  {
   "cell_type": "markdown",
   "id": "83bfeaa4-d658-4442-9e2f-c10a4107f464",
   "metadata": {},
   "source": [
    "- A in B"
   ]
  },
  {
   "cell_type": "code",
   "execution_count": 254,
   "id": "63aa3a86-0dfb-4748-b4b4-b55512781774",
   "metadata": {},
   "outputs": [
    {
     "name": "stdout",
     "output_type": "stream",
     "text": [
      "택시를 타자\n"
     ]
    }
   ],
   "source": [
    "pocket = ['coins', 'bill', 'card']\n",
    "\n",
    "if 'bill' in pocket:\n",
    "    print(\"택시를 타자\")\n",
    "else : \n",
    "    print(\"걸어가자\")"
   ]
  },
  {
   "cell_type": "code",
   "execution_count": 256,
   "id": "cc44f3b3-bdfa-4995-abd4-c1dea5f9422a",
   "metadata": {},
   "outputs": [
    {
     "name": "stdin",
     "output_type": "stream",
     "text": [
      "이름을 입력해 주세요 철수\n"
     ]
    },
    {
     "name": "stdout",
     "output_type": "stream",
     "text": [
      "불합격입니다.\n"
     ]
    }
   ],
   "source": [
    "names = [\"영희\", \"전우치\", \"홍길동\", \"장길산\"]\n",
    "name = input(\"이름을 입력해 주세요\")\n",
    "\n",
    "if name in names: \n",
    "    print(\"합격입니다.\")\n",
    "else: \n",
    "    print(\"불합격입니다.\")"
   ]
  },
  {
   "cell_type": "markdown",
   "id": "943a9862-3040-4e1d-bab1-18b8e025733f",
   "metadata": {},
   "source": [
    "## 반복문 For"
   ]
  },
  {
   "cell_type": "markdown",
   "id": "3ba4c938-0c70-4d2f-a3aa-d1b0498be835",
   "metadata": {},
   "source": [
    "- for문의 구조\n",
    "```\n",
    "for i in ....:\n",
    "    반복할 문장\n",
    "```"
   ]
  },
  {
   "cell_type": "code",
   "execution_count": 259,
   "id": "ddc51057-1979-4b36-abbe-33ecb3029255",
   "metadata": {},
   "outputs": [
    {
     "name": "stdout",
     "output_type": "stream",
     "text": [
      "1\n",
      "hello\n",
      "\n",
      "2\n",
      "hello\n",
      "\n",
      "3\n",
      "hello\n",
      "\n"
     ]
    }
   ],
   "source": [
    "for i in [1, 2, 3]:\n",
    "    print(i)\n",
    "    print(\"hello\")\n",
    "    print()"
   ]
  },
  {
   "cell_type": "code",
   "execution_count": 261,
   "id": "dfb4202b-71fb-4b3a-a304-55630ad13a1b",
   "metadata": {},
   "outputs": [
    {
     "name": "stdout",
     "output_type": "stream",
     "text": [
      "\n",
      "hello\n",
      "\n",
      "\n",
      "hello\n",
      "\n",
      "\n",
      "hello\n",
      "\n"
     ]
    }
   ],
   "source": [
    "for i in [1, 2, 3]:\n",
    "    print()\n",
    "    print(\"hello\")\n",
    "    print()\n",
    "\n",
    "### 안에 i가 없어도 에러가 뜨지 않음"
   ]
  },
  {
   "cell_type": "code",
   "execution_count": 262,
   "id": "03e06f9c-321c-42d5-9fe0-41ef218cd07b",
   "metadata": {},
   "outputs": [
    {
     "name": "stdout",
     "output_type": "stream",
     "text": [
      "hello\n",
      "hello\n",
      "hello\n"
     ]
    }
   ],
   "source": [
    "for _ in [1, 2, 3]:\n",
    "    print(\"hello\")"
   ]
  },
  {
   "cell_type": "code",
   "execution_count": 265,
   "id": "b06cba86-2e0c-4a07-bd16-5d1606198acf",
   "metadata": {},
   "outputs": [
    {
     "name": "stdout",
     "output_type": "stream",
     "text": [
      "1\n",
      "2\n",
      "3\n",
      "4\n",
      "5\n",
      "6\n",
      "7\n",
      "8\n",
      "9\n",
      "10\n"
     ]
    }
   ],
   "source": [
    "for i in [1, 2, 3, 4, 5, 6, 7, 8, 9, 10]:\n",
    "    print(i)"
   ]
  },
  {
   "cell_type": "code",
   "execution_count": 266,
   "id": "1c2698fe-4015-4c5d-b828-cfd30e5769a1",
   "metadata": {},
   "outputs": [
    {
     "name": "stdout",
     "output_type": "stream",
     "text": [
      "0\n",
      "1\n",
      "2\n",
      "3\n",
      "4\n",
      "5\n",
      "6\n",
      "7\n",
      "8\n",
      "9\n"
     ]
    }
   ],
   "source": [
    "for i in range(10):\n",
    "    print(i)"
   ]
  },
  {
   "cell_type": "code",
   "execution_count": 274,
   "id": "c46696c9-1568-4224-b3c9-0715d3a92a95",
   "metadata": {},
   "outputs": [
    {
     "name": "stdout",
     "output_type": "stream",
     "text": [
      "1\n",
      "2\n",
      "3\n",
      "4\n",
      "5\n",
      "6\n",
      "7\n",
      "8\n",
      "9\n"
     ]
    }
   ],
   "source": [
    "for i in range(1, 10):\n",
    "    print(i)\n",
    "\n",
    "### range(시작, 끝, 스텝 수)"
   ]
  },
  {
   "cell_type": "code",
   "execution_count": 271,
   "id": "b0956070-cff1-404e-a96f-d7a0f1b546f9",
   "metadata": {},
   "outputs": [
    {
     "name": "stdout",
     "output_type": "stream",
     "text": [
      "1\n",
      "3\n",
      "5\n",
      "7\n",
      "9\n"
     ]
    }
   ],
   "source": [
    "for i in range(1, 11, 2):\n",
    "    print(i)"
   ]
  },
  {
   "cell_type": "code",
   "execution_count": 273,
   "id": "b5c99b00-ee8c-478a-ba3f-88a9a2be1d19",
   "metadata": {},
   "outputs": [
    {
     "name": "stdout",
     "output_type": "stream",
     "text": [
      "0\n",
      "3\n",
      "6\n",
      "9\n"
     ]
    }
   ],
   "source": [
    "for i in range(0, 11, 3):\n",
    "    print(i)"
   ]
  },
  {
   "cell_type": "code",
   "execution_count": 275,
   "id": "9a12cc1e-d521-4c12-b453-c8aede875f1b",
   "metadata": {},
   "outputs": [
    {
     "name": "stdout",
     "output_type": "stream",
     "text": [
      "0\n",
      "1\n",
      "2\n",
      "3\n",
      "4\n",
      "5\n",
      "6\n",
      "7\n",
      "8\n",
      "9\n"
     ]
    }
   ],
   "source": [
    "for i in range(10):\n",
    "    print(i)"
   ]
  },
  {
   "cell_type": "code",
   "execution_count": 277,
   "id": "883d751d-00e8-4609-85d0-3da04e7e492e",
   "metadata": {},
   "outputs": [
    {
     "name": "stdout",
     "output_type": "stream",
     "text": [
      "0, \n",
      "1, \n",
      "2, \n",
      "3, \n",
      "4, \n",
      "5, \n",
      "6, \n",
      "7, \n",
      "8, \n",
      "9, \n"
     ]
    }
   ],
   "source": [
    "for i in range(10):\n",
    "    print(i, end = \", \")\n",
    "    print()"
   ]
  },
  {
   "cell_type": "code",
   "execution_count": 279,
   "id": "bb749eda-da0c-4cd9-95e9-7aa3c176c8b3",
   "metadata": {},
   "outputs": [
    {
     "name": "stdout",
     "output_type": "stream",
     "text": [
      "2\n",
      "4\n",
      "6\n",
      "8\n",
      "10\n"
     ]
    }
   ],
   "source": [
    "## 2부터 10까지 짝수만 출력\n",
    "for i in range(2, 11, 2):\n",
    "    print(i)"
   ]
  },
  {
   "cell_type": "code",
   "execution_count": 281,
   "id": "d552b780-dc9c-403c-9377-2d13ff0e27c7",
   "metadata": {},
   "outputs": [
    {
     "name": "stdout",
     "output_type": "stream",
     "text": [
      "2\n",
      "4\n",
      "6\n",
      "8\n",
      "10\n"
     ]
    }
   ],
   "source": [
    "for i in range(1, 11):\n",
    "    if i % 2 == 0:\n",
    "        print(i)"
   ]
  },
  {
   "cell_type": "code",
   "execution_count": 282,
   "id": "2e653591-88a4-4c30-8011-3eb14d03f773",
   "metadata": {},
   "outputs": [
    {
     "data": {
      "text/plain": [
       "['영희', '전우치', '홍길동', '장길산']"
      ]
     },
     "execution_count": 282,
     "metadata": {},
     "output_type": "execute_result"
    }
   ],
   "source": [
    "names"
   ]
  },
  {
   "cell_type": "code",
   "execution_count": 283,
   "id": "58a2e393-c0f8-4c51-b867-6d4f80def7a7",
   "metadata": {},
   "outputs": [
    {
     "name": "stdout",
     "output_type": "stream",
     "text": [
      "영희\n",
      "전우치\n",
      "홍길동\n",
      "장길산\n"
     ]
    }
   ],
   "source": [
    "for name in names:\n",
    "    print(name)"
   ]
  },
  {
   "cell_type": "code",
   "execution_count": 284,
   "id": "61fd4852-528f-48f5-9c5f-bea8eee3fd41",
   "metadata": {},
   "outputs": [
    {
     "name": "stdout",
     "output_type": "stream",
     "text": [
      "영희\n",
      "전우치\n",
      "홍길동\n",
      "장길산\n"
     ]
    }
   ],
   "source": [
    "for i in range(4):\n",
    "    print(names[i])"
   ]
  },
  {
   "cell_type": "markdown",
   "id": "d6571f5c-3fca-4904-ba36-21e0d42208b1",
   "metadata": {},
   "source": [
    "- 총합 구하기"
   ]
  },
  {
   "cell_type": "code",
   "execution_count": 293,
   "id": "c9bd526f-2b54-446f-bf17-a4fa6a60d5b6",
   "metadata": {},
   "outputs": [
    {
     "name": "stdout",
     "output_type": "stream",
     "text": [
      "45\n"
     ]
    }
   ],
   "source": [
    "sum = 0\n",
    "\n",
    "for i in range(10):\n",
    "    sum = sum + i  ### i 만큼씩\n",
    "print(sum)"
   ]
  },
  {
   "cell_type": "code",
   "execution_count": 295,
   "id": "5abda1ed-e0ba-4c62-99d5-1b6a1ddb1fb9",
   "metadata": {},
   "outputs": [
    {
     "name": "stdout",
     "output_type": "stream",
     "text": [
      "45\n"
     ]
    }
   ],
   "source": [
    "sum = 0\n",
    "\n",
    "for i in range(10):\n",
    "    sum += i  ### i 만큼씩 -=, *=, /= 모두 적용 가능\n",
    "print(sum)"
   ]
  },
  {
   "cell_type": "code",
   "execution_count": 297,
   "id": "63ec0ca5-ac89-48a7-9513-184f84174ac6",
   "metadata": {},
   "outputs": [
    {
     "name": "stdout",
     "output_type": "stream",
     "text": [
      "133767\n"
     ]
    }
   ],
   "source": [
    "###234부터 567까지의 합은?\n",
    "sum = 0\n",
    "\n",
    "for i in range(234, 568):\n",
    "    sum += i\n",
    "print(sum)"
   ]
  },
  {
   "cell_type": "code",
   "execution_count": 299,
   "id": "1fba0a2b-fa1d-4335-87f6-738e8d692cf3",
   "metadata": {},
   "outputs": [
    {
     "name": "stdin",
     "output_type": "stream",
     "text": [
      "1st 1\n",
      "2nd 3\n"
     ]
    },
    {
     "name": "stdout",
     "output_type": "stream",
     "text": [
      "6\n"
     ]
    }
   ],
   "source": [
    "### 두 수를 입력받아서 두 수에서 두 수 사이의 합은?\n",
    "a = int(input(\"1st\"))\n",
    "b = int(input(\"2nd\"))\n",
    "\n",
    "sum = 0\n",
    "for i in range (a, b+1):\n",
    "    sum += i\n",
    "print(sum)"
   ]
  },
  {
   "cell_type": "code",
   "execution_count": 304,
   "id": "f7998c91-9520-491c-9201-6e5809115829",
   "metadata": {},
   "outputs": [
    {
     "name": "stdout",
     "output_type": "stream",
     "text": [
      "[1, 3, 5, 7, 9, 11, 13, 15, 17, 19]\n"
     ]
    }
   ],
   "source": [
    "### 1부터 20까지의 숫자에서 홀수만\n",
    "a = []\n",
    "for i in range(1, 21):\n",
    "    if i % 2 == 1:\n",
    "        a.append(i)\n",
    "\n",
    "print(a)"
   ]
  },
  {
   "cell_type": "code",
   "execution_count": 306,
   "id": "3612fc0e-49ca-43b2-9efd-3a775bc3b9bb",
   "metadata": {},
   "outputs": [
    {
     "name": "stdout",
     "output_type": "stream",
     "text": [
      "2 X 1 = 2\n",
      "2 X 2 = 4\n",
      "2 X 3 = 6\n",
      "2 X 4 = 8\n",
      "2 X 5 = 10\n",
      "2 X 6 = 12\n",
      "2 X 7 = 14\n",
      "2 X 8 = 16\n",
      "2 X 9 = 18\n"
     ]
    }
   ],
   "source": [
    "### 구구단\n",
    "for i in range(1, 10):\n",
    "    print(f\"2 X {i} = {2*i}\")"
   ]
  },
  {
   "cell_type": "code",
   "execution_count": 315,
   "id": "c2bec642-6aa0-49d3-a566-5b62a7a4ad04",
   "metadata": {},
   "outputs": [
    {
     "name": "stdout",
     "output_type": "stream",
     "text": [
      "2단입니다.\n",
      "2 X 1 = 2\n",
      "2 X 2 = 4\n",
      "2 X 3 = 6\n",
      "2 X 4 = 8\n",
      "2 X 5 = 10\n",
      "2 X 6 = 12\n",
      "2 X 7 = 14\n",
      "2 X 8 = 16\n",
      "2 X 9 = 18\n",
      "\n",
      "3단입니다.\n",
      "3 X 1 = 3\n",
      "3 X 2 = 6\n",
      "3 X 3 = 9\n",
      "3 X 4 = 12\n",
      "3 X 5 = 15\n",
      "3 X 6 = 18\n",
      "3 X 7 = 21\n",
      "3 X 8 = 24\n",
      "3 X 9 = 27\n",
      "\n",
      "4단입니다.\n",
      "4 X 1 = 4\n",
      "4 X 2 = 8\n",
      "4 X 3 = 12\n",
      "4 X 4 = 16\n",
      "4 X 5 = 20\n",
      "4 X 6 = 24\n",
      "4 X 7 = 28\n",
      "4 X 8 = 32\n",
      "4 X 9 = 36\n",
      "\n",
      "5단입니다.\n",
      "5 X 1 = 5\n",
      "5 X 2 = 10\n",
      "5 X 3 = 15\n",
      "5 X 4 = 20\n",
      "5 X 5 = 25\n",
      "5 X 6 = 30\n",
      "5 X 7 = 35\n",
      "5 X 8 = 40\n",
      "5 X 9 = 45\n",
      "\n",
      "6단입니다.\n",
      "6 X 1 = 6\n",
      "6 X 2 = 12\n",
      "6 X 3 = 18\n",
      "6 X 4 = 24\n",
      "6 X 5 = 30\n",
      "6 X 6 = 36\n",
      "6 X 7 = 42\n",
      "6 X 8 = 48\n",
      "6 X 9 = 54\n",
      "\n",
      "7단입니다.\n",
      "7 X 1 = 7\n",
      "7 X 2 = 14\n",
      "7 X 3 = 21\n",
      "7 X 4 = 28\n",
      "7 X 5 = 35\n",
      "7 X 6 = 42\n",
      "7 X 7 = 49\n",
      "7 X 8 = 56\n",
      "7 X 9 = 63\n",
      "\n",
      "8단입니다.\n",
      "8 X 1 = 8\n",
      "8 X 2 = 16\n",
      "8 X 3 = 24\n",
      "8 X 4 = 32\n",
      "8 X 5 = 40\n",
      "8 X 6 = 48\n",
      "8 X 7 = 56\n",
      "8 X 8 = 64\n",
      "8 X 9 = 72\n",
      "\n",
      "9단입니다.\n",
      "9 X 1 = 9\n",
      "9 X 2 = 18\n",
      "9 X 3 = 27\n",
      "9 X 4 = 36\n",
      "9 X 5 = 45\n",
      "9 X 6 = 54\n",
      "9 X 7 = 63\n",
      "9 X 8 = 72\n",
      "9 X 9 = 81\n",
      "\n"
     ]
    }
   ],
   "source": [
    "for i in range(2, 10):\n",
    "    print(f\"{i}단입니다.\")\n",
    "    for j in range(1, 10):\n",
    "        print(f\"{i} X {j} = {i*j}\")\n",
    "    print()  "
   ]
  },
  {
   "cell_type": "markdown",
   "id": "d9115813-c755-45be-8d81-1207048001ed",
   "metadata": {},
   "source": [
    "# jump to python 예제"
   ]
  },
  {
   "cell_type": "markdown",
   "id": "2cfb5988-dc5a-4dd1-baec-8359484cbc10",
   "metadata": {},
   "source": [
    "## Q1"
   ]
  },
  {
   "cell_type": "code",
   "execution_count": 317,
   "id": "2d8d168b-5684-4ef2-a582-2c22ce39cf27",
   "metadata": {},
   "outputs": [
    {
     "data": {
      "text/plain": [
       "{'국어': 80, '영어': 75, '수학': 55}"
      ]
     },
     "execution_count": 317,
     "metadata": {},
     "output_type": "execute_result"
    }
   ],
   "source": [
    "홍길동 = {\"국어\" : 80, \"영어\" : 75, \"수학\" : 55}\n",
    "홍길동"
   ]
  },
  {
   "cell_type": "code",
   "execution_count": 368,
   "id": "62bfd02d-6b32-49ae-a3e4-d8ad54b10e54",
   "metadata": {},
   "outputs": [
    {
     "name": "stdout",
     "output_type": "stream",
     "text": [
      "70.0\n"
     ]
    }
   ],
   "source": [
    "a = 홍길동['국어']\n",
    "b = 홍길동['영어']\n",
    "c = 홍길동['수학']\n",
    "type(a)\n",
    "mean = (a + b + c)/3\n",
    "print(mean)"
   ]
  },
  {
   "cell_type": "markdown",
   "id": "7c6b7259-35fe-4509-9d87-8a6efd7e5676",
   "metadata": {},
   "source": [
    "## Q2"
   ]
  },
  {
   "cell_type": "code",
   "execution_count": 333,
   "id": "1b7b2b81-b89e-4bbc-a4c2-e14c8706c21d",
   "metadata": {},
   "outputs": [
    {
     "name": "stdout",
     "output_type": "stream",
     "text": [
      "홀수\n"
     ]
    }
   ],
   "source": [
    "if 13 % 2 == 0:\n",
    "    print(\"짝수\")\n",
    "else:\n",
    "    print(\"홀수\")"
   ]
  },
  {
   "cell_type": "markdown",
   "id": "5bf3c424-b940-465f-b720-d07d22b2ae6d",
   "metadata": {},
   "source": [
    "## Q3"
   ]
  },
  {
   "cell_type": "code",
   "execution_count": 383,
   "id": "2a9ebc04-0bf4-41c7-b61f-ef51b7bd1b45",
   "metadata": {},
   "outputs": [
    {
     "name": "stdout",
     "output_type": "stream",
     "text": [
      "year = 81\n",
      "month = 12\n",
      "date = 20\n",
      "idnr = 068234\n",
      "yymmdd = 881120\n",
      "pin number = 068234\n"
     ]
    }
   ],
   "source": [
    "Hong_id = '881120-1068234'\n",
    "year = Hong_id[1:3]\n",
    "month = Hong_id[3:5]\n",
    "date = Hong_id[4:6]\n",
    "idnr = Hong_id[8: ]\n",
    "\n",
    "print(f\"year = {year}\")\n",
    "print(f\"month = {month}\")\n",
    "print(f\"date = {date}\")\n",
    "print(f\"idnr = {idnr}\")\n",
    "\n",
    "yymmdd = Hong_id[0:6]\n",
    "print(f\"yymmdd = {yymmdd}\")\n",
    "\n",
    "pinum = Hong_id[8: ]\n",
    "print(f\"pin number = {pinum}\")"
   ]
  },
  {
   "cell_type": "markdown",
   "id": "d8bddbbb-00f2-4048-a8c9-165f1fe2c385",
   "metadata": {},
   "source": [
    "## Q4"
   ]
  },
  {
   "cell_type": "code",
   "execution_count": 347,
   "id": "b857ef03-c0e6-408f-ab2c-ece8fdfcdba6",
   "metadata": {},
   "outputs": [
    {
     "name": "stdout",
     "output_type": "stream",
     "text": [
      "male\n"
     ]
    }
   ],
   "source": [
    "pin = '881120-1068234'\n",
    "sex = int(pin[-7])\n",
    "\n",
    "if sex == 1:\n",
    "    print(\"male\")\n",
    "else: \n",
    "    print(\"female\")"
   ]
  },
  {
   "cell_type": "markdown",
   "id": "3d1874f7-bd8a-4829-86d5-17390fe54f9b",
   "metadata": {},
   "source": [
    "## Q5"
   ]
  },
  {
   "cell_type": "code",
   "execution_count": 349,
   "id": "326703a6-861a-4cb6-b0eb-9bf43c4f881d",
   "metadata": {},
   "outputs": [
    {
     "data": {
      "text/plain": [
       "'a#b#c#d'"
      ]
     },
     "execution_count": 349,
     "metadata": {},
     "output_type": "execute_result"
    }
   ],
   "source": [
    "a = 'a:b:c:d'\n",
    "a.replace(\":\", \"#\")"
   ]
  },
  {
   "cell_type": "code",
   "execution_count": 363,
   "id": "258f9c68-08b0-4203-984d-ec489ce14e66",
   "metadata": {},
   "outputs": [
    {
     "data": {
      "text/plain": [
       "[5, 4, 3, 2, 1]"
      ]
     },
     "execution_count": 363,
     "metadata": {},
     "output_type": "execute_result"
    }
   ],
   "source": [
    "a = [1, 3, 5, 4, 2]\n",
    "b = sorted(a)\n",
    "b.reverse()\n",
    "b\n",
    "\n",
    "sorted(a).reverse()"
   ]
  },
  {
   "cell_type": "code",
   "execution_count": 397,
   "id": "9c334629-1e49-42e4-96cb-2f7705ab683f",
   "metadata": {},
   "outputs": [
    {
     "name": "stdout",
     "output_type": "stream",
     "text": [
      "None\n"
     ]
    }
   ],
   "source": [
    "a = [1, 3, 5, 4, 2]\n",
    "\n",
    "print(sorted(a).reverse())"
   ]
  },
  {
   "cell_type": "code",
   "execution_count": 395,
   "id": "ee075e78-3c51-417a-803f-afbd404ca95b",
   "metadata": {},
   "outputs": [
    {
     "ename": "AttributeError",
     "evalue": "'NoneType' object has no attribute 'reverse'",
     "output_type": "error",
     "traceback": [
      "\u001b[1;31m---------------------------------------------------------------------------\u001b[0m",
      "\u001b[1;31mAttributeError\u001b[0m                            Traceback (most recent call last)",
      "Input \u001b[1;32mIn [395]\u001b[0m, in \u001b[0;36m<cell line: 3>\u001b[1;34m()\u001b[0m\n\u001b[0;32m      1\u001b[0m a \u001b[38;5;241m=\u001b[39m [\u001b[38;5;241m1\u001b[39m, \u001b[38;5;241m3\u001b[39m, \u001b[38;5;241m5\u001b[39m, \u001b[38;5;241m4\u001b[39m, \u001b[38;5;241m2\u001b[39m]\n\u001b[1;32m----> 3\u001b[0m \u001b[43ma\u001b[49m\u001b[38;5;241;43m.\u001b[39;49m\u001b[43msort\u001b[49m\u001b[43m(\u001b[49m\u001b[43m)\u001b[49m\u001b[38;5;241;43m.\u001b[39;49m\u001b[43mreverse\u001b[49m()\n",
      "\u001b[1;31mAttributeError\u001b[0m: 'NoneType' object has no attribute 'reverse'"
     ]
    }
   ],
   "source": [
    "a = [1, 3, 5, 4, 2]\n",
    "\n",
    "a.sort().reverse()\n",
    "#### 한 번에 .function()을 쓰는 것은 문자열만 가능"
   ]
  },
  {
   "cell_type": "code",
   "execution_count": 401,
   "id": "5c3aed0c-1bfb-4ac2-8117-303cf25315c2",
   "metadata": {},
   "outputs": [
    {
     "data": {
      "text/plain": [
       "[5, 4, 3, 2, 1]"
      ]
     },
     "execution_count": 401,
     "metadata": {},
     "output_type": "execute_result"
    }
   ],
   "source": [
    "a = [1, 3, 5, 4, 2]\n",
    "type(a.sort())\n",
    "a.reverse()\n",
    "a"
   ]
  },
  {
   "cell_type": "code",
   "execution_count": 392,
   "id": "70c9cf49-dddf-4543-974b-73343b6450d1",
   "metadata": {},
   "outputs": [
    {
     "data": {
      "text/plain": [
       "[1, 3, 5, 4, 2]"
      ]
     },
     "execution_count": 392,
     "metadata": {},
     "output_type": "execute_result"
    }
   ],
   "source": [
    "a = [1, 3, 5, 4, 2]\n",
    "sorted(a)\n",
    "a"
   ]
  },
  {
   "cell_type": "markdown",
   "id": "201cecb7-5417-44b8-bd52-e1040d5d403a",
   "metadata": {},
   "source": [
    "## Q7"
   ]
  },
  {
   "cell_type": "code",
   "execution_count": 365,
   "id": "0c6faf2d-faef-43af-b3bc-017851359fc5",
   "metadata": {},
   "outputs": [
    {
     "data": {
      "text/plain": [
       "'Life is too short'"
      ]
     },
     "execution_count": 365,
     "metadata": {},
     "output_type": "execute_result"
    }
   ],
   "source": [
    "a = ['Life', 'is', 'too', 'short']\n",
    "\" \".join(a)"
   ]
  },
  {
   "cell_type": "markdown",
   "id": "3c860e20-6821-4195-98f7-c7f1e1f48315",
   "metadata": {},
   "source": [
    "## Q8"
   ]
  },
  {
   "cell_type": "code",
   "execution_count": 388,
   "id": "9f849d1e-588c-4ffd-b36e-b1834d1808c9",
   "metadata": {},
   "outputs": [
    {
     "name": "stdout",
     "output_type": "stream",
     "text": [
      "(1, 2, 3, 4)\n"
     ]
    }
   ],
   "source": [
    "a = (1, 2, 3)\n",
    "a = a + (4,)\n",
    "print(a)"
   ]
  },
  {
   "cell_type": "markdown",
   "id": "dc561759-ab72-42a4-a91e-a1d9a3147c40",
   "metadata": {},
   "source": [
    "## Q9"
   ]
  },
  {
   "cell_type": "code",
   "execution_count": 370,
   "id": "675c1a33-106d-4b39-b015-2711579cd7e9",
   "metadata": {},
   "outputs": [
    {
     "data": {
      "text/plain": [
       "{}"
      ]
     },
     "execution_count": 370,
     "metadata": {},
     "output_type": "execute_result"
    }
   ],
   "source": [
    "a = dict()\n",
    "a"
   ]
  },
  {
   "cell_type": "code",
   "execution_count": 371,
   "id": "ae9e3362-ce13-4d3a-8f65-694617636790",
   "metadata": {},
   "outputs": [],
   "source": [
    "a['name'] = 'python'"
   ]
  },
  {
   "cell_type": "code",
   "execution_count": 372,
   "id": "8d4b6002-bbd1-4145-9c15-8cfb8ec7537d",
   "metadata": {},
   "outputs": [],
   "source": [
    "a[250] = 'python'"
   ]
  },
  {
   "cell_type": "code",
   "execution_count": 373,
   "id": "29390477-c489-4916-8afa-33a281c26e8f",
   "metadata": {},
   "outputs": [
    {
     "ename": "TypeError",
     "evalue": "unhashable type: 'list'",
     "output_type": "error",
     "traceback": [
      "\u001b[1;31m---------------------------------------------------------------------------\u001b[0m",
      "\u001b[1;31mTypeError\u001b[0m                                 Traceback (most recent call last)",
      "Input \u001b[1;32mIn [373]\u001b[0m, in \u001b[0;36m<cell line: 1>\u001b[1;34m()\u001b[0m\n\u001b[1;32m----> 1\u001b[0m \u001b[43ma\u001b[49m\u001b[43m[\u001b[49m\u001b[43m[\u001b[49m\u001b[38;5;241;43m1\u001b[39;49m\u001b[43m]\u001b[49m\u001b[43m]\u001b[49m \u001b[38;5;241m=\u001b[39m \u001b[38;5;124m'\u001b[39m\u001b[38;5;124mpython\u001b[39m\u001b[38;5;124m'\u001b[39m\n",
      "\u001b[1;31mTypeError\u001b[0m: unhashable type: 'list'"
     ]
    }
   ],
   "source": [
    "a[[1]] = 'python'\n",
    "## [[]]은 리스트임"
   ]
  },
  {
   "cell_type": "code",
   "execution_count": 375,
   "id": "03d5d829-cf9d-4450-8b26-da3130e2d2bc",
   "metadata": {},
   "outputs": [],
   "source": [
    "a[('a',)] = 'python'"
   ]
  },
  {
   "cell_type": "markdown",
   "id": "af84380d-6fe4-447f-ba40-c3e63a7246ec",
   "metadata": {},
   "source": [
    "## Q10"
   ]
  },
  {
   "cell_type": "code",
   "execution_count": 377,
   "id": "9e02d5bd-3d76-4e55-853c-1d75cbb4938a",
   "metadata": {},
   "outputs": [
    {
     "data": {
      "text/plain": [
       "80"
      ]
     },
     "execution_count": 377,
     "metadata": {},
     "output_type": "execute_result"
    }
   ],
   "source": [
    "a = {'A': 90, 'B': 80, 'C':70}\n",
    "a.pop('B')"
   ]
  },
  {
   "cell_type": "markdown",
   "id": "1d6ecee1-d4c4-4bc4-8387-d84a3057f893",
   "metadata": {},
   "source": [
    "## Q11"
   ]
  },
  {
   "cell_type": "code",
   "execution_count": 381,
   "id": "09c827ac-5489-4fcb-9f01-d99b43da2959",
   "metadata": {},
   "outputs": [
    {
     "data": {
      "text/plain": [
       "list"
      ]
     },
     "execution_count": 381,
     "metadata": {},
     "output_type": "execute_result"
    }
   ],
   "source": [
    "a = [1, 1, 1, 2, 2, 3, 3, 3, 4, 4, 5]\n",
    "a1 = [set(a)]\n",
    "a1\n",
    "type(a1)"
   ]
  },
  {
   "cell_type": "code",
   "execution_count": null,
   "id": "67e86e5d-82c4-4462-87ee-d4dc49d08c2d",
   "metadata": {},
   "outputs": [],
   "source": [
    "a = [1, 1, 1, 2, 2, 3, 3, 3, 4, 4, 5]\n",
    "aSet = set(a)\n",
    "b = list(aSet)"
   ]
  },
  {
   "cell_type": "markdown",
   "id": "56a9039b-c008-4b53-95c8-2187f521cb4a",
   "metadata": {},
   "source": [
    "## Q12"
   ]
  },
  {
   "cell_type": "markdown",
   "id": "d6451389-8b60-4d84-8055-d0760409ae6f",
   "metadata": {},
   "source": [
    "a와 b가 같은 id number에 저장되었기 때문에 같이 바뀜"
   ]
  }
 ],
 "metadata": {
  "kernelspec": {
   "display_name": "Python 3 (ipykernel)",
   "language": "python",
   "name": "python3"
  },
  "language_info": {
   "codemirror_mode": {
    "name": "ipython",
    "version": 3
   },
   "file_extension": ".py",
   "mimetype": "text/x-python",
   "name": "python",
   "nbconvert_exporter": "python",
   "pygments_lexer": "ipython3",
   "version": "3.10.6"
  }
 },
 "nbformat": 4,
 "nbformat_minor": 5
}
