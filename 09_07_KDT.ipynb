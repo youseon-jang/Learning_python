{
 "cells": [
  {
   "cell_type": "markdown",
   "id": "a24512da-edf7-4b1e-ba97-f82321007da6",
   "metadata": {},
   "source": [
    "# 복습 문제"
   ]
  },
  {
   "cell_type": "code",
   "execution_count": 1,
   "id": "26435500-f6db-4714-b7ca-5f38b44135c4",
   "metadata": {},
   "outputs": [
    {
     "name": "stdout",
     "output_type": "stream",
     "text": [
      "5050\n"
     ]
    }
   ],
   "source": [
    "## 1부터 100까지의 숫자합을 while문으로\n",
    "\n",
    "sum = 0\n",
    "i = 1\n",
    "while i < 101:\n",
    "    sum += i\n",
    "    i += 1\n",
    "print(sum)"
   ]
  },
  {
   "cell_type": "code",
   "execution_count": 16,
   "id": "0b5a85aa-cd2a-4a79-b221-b047ec9949f6",
   "metadata": {},
   "outputs": [
    {
     "name": "stdout",
     "output_type": "stream",
     "text": [
      "[0, 1, 2, 3, 4, 5]\n"
     ]
    }
   ],
   "source": [
    "## 1부터 45까지 중에서 6개 숫자를 임의로 고르고 오름차순으로 정리하시오\n",
    "import random\n",
    "i = random.randint(1, 45)\n",
    "a = []\n",
    "\n",
    "for i in range(6):\n",
    "    a.append(i)\n",
    "\n",
    "a.sort()\n",
    "print(a)"
   ]
  },
  {
   "cell_type": "code",
   "execution_count": 19,
   "id": "d14c5793-42e2-4e41-af4e-8bfd13e90247",
   "metadata": {},
   "outputs": [
    {
     "data": {
      "text/plain": [
       "[1, 6, 23, 30, 32, 45]"
      ]
     },
     "execution_count": 19,
     "metadata": {},
     "output_type": "execute_result"
    }
   ],
   "source": [
    "import random as r\n",
    "num = [r.randint(1,45) for i in range(6)]\n",
    "num.sort()\n",
    "num "
   ]
  },
  {
   "cell_type": "code",
   "execution_count": 18,
   "id": "06bb6a05-eb32-4703-be27-61b899babaa3",
   "metadata": {},
   "outputs": [
    {
     "name": "stdout",
     "output_type": "stream",
     "text": [
      "[1, 1, 10, 12, 34, 38]\n"
     ]
    }
   ],
   "source": [
    "import random\n",
    "l = []\n",
    "while True:  \n",
    "    if len(l) >= 6:\n",
    "        break\n",
    "    else:    \n",
    "        i =random.randint(1, 45)\n",
    "        l.append(i)\n",
    "l.sort()\n",
    "print(l) "
   ]
  },
  {
   "cell_type": "code",
   "execution_count": 21,
   "id": "495c2659-b30b-44d8-bb20-2a0f78f3567c",
   "metadata": {},
   "outputs": [
    {
     "data": {
      "text/plain": [
       "{'a': 1, 'b': 2, 'c': 'Hello'}"
      ]
     },
     "execution_count": 21,
     "metadata": {},
     "output_type": "execute_result"
    }
   ],
   "source": [
    "## 리턴값이 딕셔너리로 나오는 함수를 만드시오\n",
    "diction(a = 1, b = 2, c = \"Hello\")\n",
    "\n",
    "def diction(**kwargs):\n",
    "    return kwargs\n",
    "\n",
    "diction(a = 1, b = 2, c = \"Hello\")"
   ]
  },
  {
   "cell_type": "markdown",
   "id": "be9ecff2-165c-4143-b7fa-f6d3c7199721",
   "metadata": {},
   "source": []
  },
  {
   "cell_type": "code",
   "execution_count": 2,
   "id": "31ee33ab-f03b-4503-8c02-ed7e256201ce",
   "metadata": {},
   "outputs": [
    {
     "name": "stdout",
     "output_type": "stream",
     "text": [
      "1\n",
      "2\n",
      "짝\n",
      "4\n",
      "5\n",
      "짝\n",
      "7\n",
      "8\n",
      "짝\n",
      "10\n",
      "11\n",
      "짝\n",
      "13\n",
      "14\n",
      "짝\n",
      "16\n",
      "17\n",
      "짝\n",
      "19\n",
      "20\n",
      "짝\n",
      "22\n",
      "23\n",
      "짝\n",
      "25\n",
      "26\n",
      "짝\n",
      "28\n",
      "29\n",
      "짝\n"
     ]
    }
   ],
   "source": [
    "## while문으로 1부터 30까지 숫자를 나열하고, 3의 배수는 \"짝\"으로 표기하세요\n",
    "\n",
    "i = 0\n",
    "while i < 30:\n",
    "    i += 1\n",
    "    if i % 3 == 0:\n",
    "        print(\"짝\")\n",
    "    else:\n",
    "        print(i)"
   ]
  },
  {
   "cell_type": "code",
   "execution_count": 3,
   "id": "c25656cf-13ca-4629-b78a-1b6b6699af3d",
   "metadata": {},
   "outputs": [
    {
     "name": "stdout",
     "output_type": "stream",
     "text": [
      "1\n",
      "2\n",
      "짝\n",
      "4\n",
      "5\n",
      "짝\n",
      "7\n",
      "8\n",
      "짝\n",
      "10\n",
      "11\n",
      "짝\n",
      "13\n",
      "14\n",
      "짝\n",
      "16\n",
      "17\n",
      "짝\n",
      "19\n",
      "20\n",
      "짝\n",
      "22\n",
      "23\n",
      "짝\n",
      "25\n",
      "26\n",
      "짝\n",
      "28\n",
      "29\n",
      "짝\n"
     ]
    }
   ],
   "source": [
    "i = 0\n",
    "while i < 30:\n",
    "    i += 1\n",
    "    if i % 3 == 0:\n",
    "        print(\"짝\")\n",
    "        continue\n",
    "    else:\n",
    "        print(i)"
   ]
  },
  {
   "cell_type": "code",
   "execution_count": 7,
   "id": "9f6f0dd4-08dd-44e4-b800-4ef5b61e9b47",
   "metadata": {},
   "outputs": [
    {
     "ename": "IndexError",
     "evalue": "list index out of range",
     "output_type": "error",
     "traceback": [
      "\u001b[1;31m---------------------------------------------------------------------------\u001b[0m",
      "\u001b[1;31mIndexError\u001b[0m                                Traceback (most recent call last)",
      "Input \u001b[1;32mIn [7]\u001b[0m, in \u001b[0;36m<cell line: 8>\u001b[1;34m()\u001b[0m\n\u001b[0;32m      5\u001b[0m     gap_1\u001b[38;5;241m.\u001b[39msort()\n\u001b[0;32m      6\u001b[0m     \u001b[38;5;28;01mreturn\u001b[39;00m gap_1[\u001b[38;5;241m2\u001b[39m] \u001b[38;5;241m-\u001b[39m gap_1[\u001b[38;5;241m0\u001b[39m]\n\u001b[1;32m----> 8\u001b[0m \u001b[43mgap\u001b[49m\u001b[43m(\u001b[49m\u001b[38;5;241;43m1\u001b[39;49m\u001b[43m,\u001b[49m\u001b[43m \u001b[49m\u001b[38;5;241;43m2\u001b[39;49m\u001b[43m,\u001b[49m\u001b[43m \u001b[49m\u001b[38;5;241;43m3\u001b[39;49m\u001b[43m)\u001b[49m\n",
      "Input \u001b[1;32mIn [7]\u001b[0m, in \u001b[0;36mgap\u001b[1;34m(a, b, c)\u001b[0m\n\u001b[0;32m      4\u001b[0m gap_l \u001b[38;5;241m=\u001b[39m [a, b, c]\n\u001b[0;32m      5\u001b[0m gap_1\u001b[38;5;241m.\u001b[39msort()\n\u001b[1;32m----> 6\u001b[0m \u001b[38;5;28;01mreturn\u001b[39;00m \u001b[43mgap_1\u001b[49m\u001b[43m[\u001b[49m\u001b[38;5;241;43m2\u001b[39;49m\u001b[43m]\u001b[49m \u001b[38;5;241m-\u001b[39m gap_1[\u001b[38;5;241m0\u001b[39m]\n",
      "\u001b[1;31mIndexError\u001b[0m: list index out of range"
     ]
    }
   ],
   "source": [
    "## 3개 숫자 입력 받고 최댓값과 최솟값의 차이를 구하는 함수\n",
    "gap_1 = []\n",
    "def gap(a, b, c):\n",
    "    gap_l = [a, b, c]\n",
    "    gap_1.sort()\n",
    "    return gap_1[2] - gap_1[0]\n",
    "\n",
    "gap(1, 2, 3)"
   ]
  },
  {
   "cell_type": "code",
   "execution_count": 8,
   "id": "e8014595-1303-4988-a44b-236981aa31d1",
   "metadata": {},
   "outputs": [
    {
     "data": {
      "text/plain": [
       "2"
      ]
     },
     "execution_count": 8,
     "metadata": {},
     "output_type": "execute_result"
    }
   ],
   "source": [
    "def f(a, b, c):\n",
    "    li = [a, b, c]\n",
    "    return max(li) - min(li) \n",
    "\n",
    "f(1, 2, 3)"
   ]
  },
  {
   "cell_type": "code",
   "execution_count": 10,
   "id": "ac225dc9-5dfb-43bd-b35a-2ec784c0e201",
   "metadata": {},
   "outputs": [
    {
     "data": {
      "text/plain": [
       "[6, 12]"
      ]
     },
     "execution_count": 10,
     "metadata": {},
     "output_type": "execute_result"
    }
   ],
   "source": [
    "a = [1, 2, 3, 4]\n",
    "b = []\n",
    "\n",
    "b = [i*3 for i in a if i % 2 == 0]\n",
    "b"
   ]
  },
  {
   "cell_type": "code",
   "execution_count": 22,
   "id": "59a4a92f-27bc-4632-ae5d-132121091f52",
   "metadata": {},
   "outputs": [],
   "source": [
    "## 입력한 두 수 사이에 있는 값들의 합을 구해주는 함수\n",
    "def add(a, b):\n",
    "    sum = 0\n",
    "    l = [a,b]\n",
    "    for i in range(min(l), max(l)+1):\n",
    "        sum += i\n",
    "    return sum "
   ]
  },
  {
   "cell_type": "markdown",
   "id": "c5c207dc-85a4-48a7-b168-af26733fbc66",
   "metadata": {},
   "source": [
    "# 수업"
   ]
  },
  {
   "cell_type": "markdown",
   "id": "4e51d4fa-ab9d-4ba8-92d9-5abafa5d73db",
   "metadata": {},
   "source": [
    "## 파일 입출력"
   ]
  },
  {
   "cell_type": "markdown",
   "id": "11c69e32-842f-415a-bbec-891c5554332a",
   "metadata": {},
   "source": [
    "### 파일 만들기"
   ]
  },
  {
   "cell_type": "code",
   "execution_count": 28,
   "id": "00842086-295f-4c63-881f-00356bb4436b",
   "metadata": {},
   "outputs": [],
   "source": [
    "f = open(\"new.txt\", 'w')\n",
    "f.write(\"Hello\\n\")\n",
    "f.close()"
   ]
  },
  {
   "cell_type": "code",
   "execution_count": 31,
   "id": "76a5adbf-5702-4b80-a765-11f9c51f7107",
   "metadata": {},
   "outputs": [],
   "source": [
    "f = open(\"new.txt\", 'a')\n",
    "f.write(\"\\nGood Morning\")\n",
    "f.close()"
   ]
  },
  {
   "cell_type": "code",
   "execution_count": 32,
   "id": "9f69505b-df35-445c-b62b-45947bf4b9a1",
   "metadata": {},
   "outputs": [],
   "source": [
    "f = open(\"new.txt\", 'w')\n",
    "f.write(\"Hello\\n\")\n",
    "f.write(\"Good Morning\\n\")\n",
    "f.write(\"Good Afternon\\n\")\n",
    "f.close()"
   ]
  },
  {
   "cell_type": "code",
   "execution_count": 36,
   "id": "fe841451-3f5a-4aa4-bfea-ae193917b841",
   "metadata": {},
   "outputs": [],
   "source": [
    "f = open(\"new.txt\", 'w')\n",
    "for i in range(10):\n",
    "    f.write(f\"{i}\\n\")\n",
    "f.close()"
   ]
  },
  {
   "cell_type": "code",
   "execution_count": 38,
   "id": "a7b4cf3e-38db-40ce-9b94-5a29613820e2",
   "metadata": {},
   "outputs": [],
   "source": [
    "f = open(\"new.txt\", 'w')\n",
    "for _ in range(10):\n",
    "    f.write(\"Hello\\n\")\n",
    "f.close()"
   ]
  },
  {
   "cell_type": "code",
   "execution_count": 39,
   "id": "5ce0f464-b31c-4b79-9f77-f549f26a7ac0",
   "metadata": {},
   "outputs": [],
   "source": [
    "f = open(\"new.txt\", 'a')\n",
    "for _ in range(10):\n",
    "    f.write(\"Good Morning\\n\")\n",
    "f.close()"
   ]
  },
  {
   "cell_type": "markdown",
   "id": "6267cc72-c4ea-48b1-bcac-7680aaf80270",
   "metadata": {},
   "source": [
    "- r : read\n",
    "- w : write\n",
    "- a : append\n",
    "- b : binary(음악, 사진, 동영상)\n",
    "\n",
    "- wb : 바이너리를 쓰기 모드로"
   ]
  },
  {
   "cell_type": "code",
   "execution_count": 25,
   "id": "4dbb8922-bc19-4cde-8bdc-09992e8cc141",
   "metadata": {},
   "outputs": [
    {
     "data": {
      "text/plain": [
       "_io.TextIOWrapper"
      ]
     },
     "execution_count": 25,
     "metadata": {},
     "output_type": "execute_result"
    }
   ],
   "source": [
    "type(f)"
   ]
  },
  {
   "cell_type": "markdown",
   "id": "555df6b1-49d2-43c7-b8bc-5b13ca7617af",
   "metadata": {},
   "source": [
    "#### with open() as f\n",
    "- f = open()보다 더 자주 사용"
   ]
  },
  {
   "cell_type": "code",
   "execution_count": 40,
   "id": "cabfb55c-fa6d-4e51-a46d-ea11c620bdea",
   "metadata": {},
   "outputs": [],
   "source": [
    "with open(\"new.txt\", \"w\") as f:\n",
    "    f.write(\"Hello \\n\")"
   ]
  },
  {
   "cell_type": "code",
   "execution_count": 44,
   "id": "a7911e6b-dd5d-4459-a69b-55491ae71cfe",
   "metadata": {},
   "outputs": [],
   "source": [
    "with open(\"new.txt\", \"a\") as f:\n",
    "    for _ in range(10):\n",
    "        f.write(\"Good Morning \\n\")"
   ]
  },
  {
   "cell_type": "markdown",
   "id": "92f5353e-960e-4e59-9bd6-ad044177a072",
   "metadata": {},
   "source": [
    "### 파일 읽기"
   ]
  },
  {
   "cell_type": "markdown",
   "id": "ed419db8-417e-4ca7-8ef6-1d3ee064f542",
   "metadata": {},
   "source": [
    "- f.readline()"
   ]
  },
  {
   "cell_type": "code",
   "execution_count": 42,
   "id": "223589bc-b17c-4ae1-8c17-5b8503e28af6",
   "metadata": {},
   "outputs": [],
   "source": [
    "with open(\"new.txt\", \"w\") as f:\n",
    "    f.write(\"Hello\")"
   ]
  },
  {
   "cell_type": "code",
   "execution_count": 45,
   "id": "b82dae43-55bd-4f8e-8d1c-a548a3e8197a",
   "metadata": {},
   "outputs": [
    {
     "name": "stdout",
     "output_type": "stream",
     "text": [
      "HelloGood Morning \n",
      "\n"
     ]
    }
   ],
   "source": [
    "f = open(\"new.txt\", \"r\")\n",
    "data = f.readline()\n",
    "print(data)\n",
    "f.close()"
   ]
  },
  {
   "cell_type": "code",
   "execution_count": 46,
   "id": "95d99d0b-9a97-401f-934d-6c8d61464ace",
   "metadata": {},
   "outputs": [
    {
     "name": "stdout",
     "output_type": "stream",
     "text": [
      "HelloGood Morning \n",
      "\n"
     ]
    }
   ],
   "source": [
    "with open(\"new.txt\", \"r\") as f:\n",
    "    data = f.readline()\n",
    "    print(data)"
   ]
  },
  {
   "cell_type": "markdown",
   "id": "1881f375-8e94-4d61-8603-0600c5d5c078",
   "metadata": {},
   "source": [
    "- f.readlines()"
   ]
  },
  {
   "cell_type": "code",
   "execution_count": 47,
   "id": "b306bb11-7521-4ff1-8ddb-de491692d23a",
   "metadata": {},
   "outputs": [
    {
     "name": "stdout",
     "output_type": "stream",
     "text": [
      "['HelloGood Morning \\n', 'Good Morning \\n', 'Good Morning \\n', 'Good Morning \\n', 'Good Morning \\n', 'Good Morning \\n', 'Good Morning \\n', 'Good Morning \\n', 'Good Morning \\n', 'Good Morning \\n']\n"
     ]
    }
   ],
   "source": [
    "f = open(\"new.txt\", \"r\")\n",
    "data = f.readlines()\n",
    "print(data)\n",
    "f.close()"
   ]
  },
  {
   "cell_type": "code",
   "execution_count": 52,
   "id": "69c28fbc-17ba-44e9-be9a-b990f239369b",
   "metadata": {},
   "outputs": [
    {
     "name": "stdout",
     "output_type": "stream",
     "text": [
      "HelloGood Morning \n",
      "Good Morning \n",
      "Good Morning \n",
      "Good Morning \n",
      "Good Morning \n",
      "Good Morning \n",
      "Good Morning \n",
      "Good Morning \n",
      "Good Morning \n",
      "Good Morning \n"
     ]
    }
   ],
   "source": [
    "f = open(\"new.txt\", \"r\")\n",
    "data = f.readlines()\n",
    "for i in data:\n",
    "    print(i, end = \"\")\n",
    "f.close()"
   ]
  },
  {
   "cell_type": "markdown",
   "id": "76af1a87-a73a-41f7-99dd-75cf2ffd92f2",
   "metadata": {},
   "source": [
    "- f.read()"
   ]
  },
  {
   "cell_type": "code",
   "execution_count": 53,
   "id": "eef388d8-a5d2-48a9-9a5c-f07912d02100",
   "metadata": {},
   "outputs": [
    {
     "name": "stdout",
     "output_type": "stream",
     "text": [
      "Good Morning \n"
     ]
    }
   ],
   "source": [
    "f = open(\"new.txt\", \"r\")\n",
    "data = f.read()\n",
    "print(i, end = \"\")\n",
    "f.close()"
   ]
  },
  {
   "cell_type": "code",
   "execution_count": 84,
   "id": "4249fb60-3dff-4b95-8ca9-463ea3a31e4b",
   "metadata": {},
   "outputs": [],
   "source": [
    "## 문제\n",
    "with open(\"test.txt\", \"w\", encoding = 'UTF-8') as f:\n",
    "    for i in range(1, 11):\n",
    "        f.write(f\"{i}번째입니다. \\n\")"
   ]
  },
  {
   "cell_type": "code",
   "execution_count": 85,
   "id": "c36afba1-9163-46b1-a818-637770d09e70",
   "metadata": {},
   "outputs": [
    {
     "name": "stdout",
     "output_type": "stream",
     "text": [
      "['1번째입니다. \\n', '2번째입니다. \\n', '3번째입니다. \\n', '4번째입니다. \\n', '5번째입니다. \\n', '6번째입니다. \\n', '7번째입니다. \\n', '8번째입니다. \\n', '9번째입니다. \\n', '10번째입니다. \\n']\n"
     ]
    }
   ],
   "source": [
    "### readlines()로 읽기\n",
    "f = open(\"test.txt\", \"r\", encoding = \"utf-8\")\n",
    "data = f.readlines()\n",
    "print(data)\n",
    "f.close() "
   ]
  },
  {
   "cell_type": "code",
   "execution_count": 87,
   "id": "45539286-05e5-406b-b0bf-683c0faba5f2",
   "metadata": {},
   "outputs": [
    {
     "name": "stdout",
     "output_type": "stream",
     "text": [
      "1번째입니다.\n",
      "2번째입니다.\n",
      "3번째입니다.\n",
      "4번째입니다.\n",
      "5번째입니다.\n",
      "6번째입니다.\n",
      "7번째입니다.\n",
      "8번째입니다.\n",
      "9번째입니다.\n",
      "10번째입니다.\n"
     ]
    }
   ],
   "source": [
    "with open(\"test.txt\", \"r\", encoding = 'UTF-8') as f:\n",
    "    data = f.readlines()\n",
    "    for i in data:\n",
    "        i = i.strip()\n",
    "        print(i)"
   ]
  },
  {
   "cell_type": "code",
   "execution_count": 1,
   "id": "b21c0754-619b-4508-ae05-77e4b306f01c",
   "metadata": {},
   "outputs": [
    {
     "name": "stdout",
     "output_type": "stream",
     "text": [
      "1번째입니다.\n",
      "2번째입니다.\n",
      "3번째입니다.\n",
      "4번째입니다.\n",
      "5번째입니다.\n",
      "6번째입니다.\n",
      "7번째입니다.\n",
      "8번째입니다.\n",
      "9번째입니다.\n",
      "10번째입니다.\n"
     ]
    }
   ],
   "source": [
    "## 함수 show_file(\"파일이름\")\n",
    "\n",
    "def show_file(name):\n",
    "    with open (name, \"r\", encoding = 'UTF-8') as f:\n",
    "        data = f.readlines()\n",
    "        for i in data:\n",
    "            i = i.strip()\n",
    "            print(i)\n",
    "    f.close\n",
    "\n",
    "show_file(\"test.txt\")"
   ]
  },
  {
   "cell_type": "code",
   "execution_count": 2,
   "id": "62be2b6c-241e-4916-a3c1-bf75c206a878",
   "metadata": {},
   "outputs": [
    {
     "name": "stdin",
     "output_type": "stream",
     "text": [
      "이름 홍길동\n",
      "나이 23\n",
      "이름 전우치\n",
      "나이 20\n",
      "이름 \n"
     ]
    }
   ],
   "source": [
    "## 이름과 나이를 입력받아 \"people.txt\"\n",
    "## f.write(name + \", \" + age + \"\\n\")\n",
    "\n",
    "name = input(\"이름\")\n",
    "age = input(\"나이\")\n",
    "\n",
    "with open(\"people.txt\", \"w\", encoding=\"UTF-8\") as f:\n",
    "    while True:\n",
    "        name = input(\"이름\")\n",
    "        if name == \"\":\n",
    "            break\n",
    "        age = input(\"나이\")\n",
    "        f.write(name + \" : \" + age + \"\\n\")\n",
    "    f.close()"
   ]
  },
  {
   "cell_type": "code",
   "execution_count": null,
   "id": "12e62044-6019-4e8d-9302-9e6f8d4b5498",
   "metadata": {},
   "outputs": [],
   "source": [
    "f = open(\"people.txt\",'w', encoding=\"UTF-8\")\n",
    "while True:\n",
    "    name = input(\"이름을 입력하세요: \")\n",
    "    if name==\"\": break\n",
    "    age = input(\"나이를 입력하세요: \")\n",
    "    f.write(f\"{name} : {age}\\n\")\n",
    "f.close() "
   ]
  },
  {
   "cell_type": "code",
   "execution_count": null,
   "id": "081d5b33-ef44-41c6-b128-4c31170b6cd7",
   "metadata": {},
   "outputs": [],
   "source": [
    "with open(\"people.txt\", 'w', encoding = 'utf-8') as f:\n",
    "    while True:\n",
    "        name = input(\"이름을 입력하시오\")\n",
    "        age = input(\"나이를 입력하시오\")\n",
    "        f.write(name + \": \" + age + '\\n')\n",
    "        if name == \"\":\n",
    "            break "
   ]
  },
  {
   "cell_type": "code",
   "execution_count": 3,
   "id": "30989f5f-7b11-4def-bce3-77916898bc69",
   "metadata": {},
   "outputs": [
    {
     "name": "stdout",
     "output_type": "stream",
     "text": [
      "전우치 : 20\n"
     ]
    }
   ],
   "source": [
    "show_file(\"people.txt\")"
   ]
  },
  {
   "cell_type": "code",
   "execution_count": 5,
   "id": "27571743-3e79-4c9a-80c6-e34128ced4cd",
   "metadata": {},
   "outputs": [
    {
     "name": "stdout",
     "output_type": "stream",
     "text": [
      "<built-in method upper of str object at 0x00000144A00B85F0> <built-in method upper of str object at 0x00000144A0050B70> "
     ]
    }
   ],
   "source": [
    "#sys2.py\n",
    "#cmd에서 직접 실행시키려면 python.exe test.py aaa bbb 라고 입력해야하는데\n",
    "#sys.argv[0]는 test.py 이 부분을 의미\n",
    "#따라서 인덱스 [1]부터 시작\n",
    "\n",
    "import sys\n",
    "args = sys.argv[1:]\n",
    "for i in args:\n",
    "    print(i.upper, end = \" \")"
   ]
  },
  {
   "cell_type": "markdown",
   "id": "b4f4ff8b-07c6-48c2-a7af-46cc8f655939",
   "metadata": {},
   "source": [
    "- 새로운 파일 만들기"
   ]
  },
  {
   "cell_type": "code",
   "execution_count": 6,
   "id": "457238ab-4bd7-4e64-8f0e-e1c57ee6ae24",
   "metadata": {},
   "outputs": [],
   "source": [
    "f = open(\"newfile.txt\", \"w\")\n",
    "f.close()"
   ]
  },
  {
   "cell_type": "markdown",
   "id": "9c65ce98-8cbd-466b-bd58-4d781e7b42e8",
   "metadata": {},
   "source": [
    "- 파일 쓰기 모드로 열어 출력값 적기"
   ]
  },
  {
   "cell_type": "code",
   "execution_count": 25,
   "id": "c7b0f536-865f-49c0-9936-a70975c9bfef",
   "metadata": {},
   "outputs": [],
   "source": [
    "f = open(\"newfile.txt\", \"w\", encoding = 'utf-8')\n",
    "for i in range(1, 11):\n",
    "    data = f\"{i}번째 줄입니다.\\n\"\n",
    "    f.write(data)\n",
    "f.close()\n",
    "\n",
    "## 모니터 화면이 아닌 파일에 결괏값을 적는 방법"
   ]
  },
  {
   "cell_type": "code",
   "execution_count": 19,
   "id": "cc87bf67-ba80-4e20-b30a-552edc0af66d",
   "metadata": {},
   "outputs": [
    {
     "name": "stdout",
     "output_type": "stream",
     "text": [
      "1번째 줄입니다.\n",
      "\n",
      "2번째 줄입니다.\n",
      "\n",
      "3번째 줄입니다.\n",
      "\n",
      "4번째 줄입니다.\n",
      "\n",
      "5번째 줄입니다.\n",
      "\n",
      "6번째 줄입니다.\n",
      "\n",
      "7번째 줄입니다.\n",
      "\n",
      "8번째 줄입니다.\n",
      "\n",
      "9번째 줄입니다.\n",
      "\n",
      "10번째 줄입니다.\n",
      "\n"
     ]
    }
   ],
   "source": [
    "f = open(\"newfile.txt\", \"w\", encoding = 'utf-8')\n",
    "for i in range(1, 11):\n",
    "    data = f\"{i}번째 줄입니다.\\n\"\n",
    "    print(data)\n",
    "    \n",
    "## 모니터 화면에 출력하는 방법"
   ]
  },
  {
   "cell_type": "markdown",
   "id": "37958da2-bf2c-4751-a24c-0a78515a00ee",
   "metadata": {},
   "source": [
    "- 프로그램 외부에 저장된 파일을 읽은 여러 가지 방법"
   ]
  },
  {
   "cell_type": "code",
   "execution_count": 22,
   "id": "de172637-85c8-457c-bb76-cfc82952ea4f",
   "metadata": {},
   "outputs": [
    {
     "name": "stdout",
     "output_type": "stream",
     "text": [
      "1번째 줄입니다.\n",
      "\n"
     ]
    }
   ],
   "source": [
    "## readline.py\n",
    "## 가장 첫 번째 줄만\n",
    "\n",
    "f = open(\"newfile.txt\", \"r\", encoding = 'utf-8')\n",
    "line = f.readline()\n",
    "print(line)\n",
    "f.close()"
   ]
  },
  {
   "cell_type": "code",
   "execution_count": 23,
   "id": "ec869780-5375-4614-9316-adfcd29a3c6a",
   "metadata": {},
   "outputs": [
    {
     "name": "stdout",
     "output_type": "stream",
     "text": [
      "1번째 줄입니다.\n",
      "\n",
      "2번째 줄입니다.\n",
      "\n",
      "3번째 줄입니다.\n",
      "\n",
      "4번째 줄입니다.\n",
      "\n",
      "5번째 줄입니다.\n",
      "\n",
      "6번째 줄입니다.\n",
      "\n",
      "7번째 줄입니다.\n",
      "\n",
      "8번째 줄입니다.\n",
      "\n",
      "9번째 줄입니다.\n",
      "\n",
      "10번째 줄입니다.\n",
      "\n"
     ]
    }
   ],
   "source": [
    "## readline 함수로 모든 줄 읽고싶을 때\n",
    "\n",
    "f = open(\"newfile.txt\", \"r\", encoding = 'utf-8')\n",
    "while True:\n",
    "    line = f.readline()\n",
    "    if not line: \n",
    "        break\n",
    "    print(line)\n",
    "f.close()"
   ]
  },
  {
   "cell_type": "code",
   "execution_count": 24,
   "id": "faa7829a-3393-41da-918f-1ff79524892c",
   "metadata": {},
   "outputs": [
    {
     "name": "stdin",
     "output_type": "stream",
     "text": [
      " 3\n"
     ]
    },
    {
     "name": "stdout",
     "output_type": "stream",
     "text": [
      "\n"
     ]
    },
    {
     "name": "stdin",
     "output_type": "stream",
     "text": [
      " 4\n"
     ]
    },
    {
     "name": "stdout",
     "output_type": "stream",
     "text": [
      "\n"
     ]
    },
    {
     "name": "stdin",
     "output_type": "stream",
     "text": [
      " \n"
     ]
    }
   ],
   "source": [
    "f = open(\"newfile.txt\", \"r\", encoding = 'utf-8')\n",
    "while True:\n",
    "    data = input()\n",
    "    if not data: \n",
    "        break\n",
    "    print(line)\n",
    "f.close()"
   ]
  },
  {
   "cell_type": "code",
   "execution_count": 30,
   "id": "208ec845-79ad-4c46-95ae-d6d7b05c322d",
   "metadata": {},
   "outputs": [
    {
     "name": "stdin",
     "output_type": "stream",
     "text": [
      "name :  홍길동\n",
      "age :  23\n",
      "name :  전우치\n",
      "age :  20\n",
      "name :  \n"
     ]
    }
   ],
   "source": [
    "## 이름과 나이를 입력받아 \"people.txt\"\n",
    "## f.write(name + \", \" + age + \"\\n\")\n",
    "## 홍길동 : 23\n",
    "## 전우치 : 20\n",
    "\n",
    "f = open(\"people.txt\", \"w\", encoding = 'utf-8')\n",
    "\n",
    "while True:\n",
    "    name = input(\"name : \")\n",
    "    if not name:\n",
    "        break\n",
    "    age = input(\"age : \")\n",
    "    f.write(name + \" : \" + age + \"\\n\")\n",
    "    \n",
    "f.close()\n",
    "    "
   ]
  },
  {
   "cell_type": "code",
   "execution_count": 26,
   "id": "8a4eba4f-b324-408b-8889-373d5d14b0ac",
   "metadata": {},
   "outputs": [
    {
     "name": "stdout",
     "output_type": "stream",
     "text": [
      "1번째 줄입니다.\n",
      "\n",
      "2번째 줄입니다.\n",
      "\n",
      "3번째 줄입니다.\n",
      "\n",
      "4번째 줄입니다.\n",
      "\n",
      "5번째 줄입니다.\n",
      "\n",
      "6번째 줄입니다.\n",
      "\n",
      "7번째 줄입니다.\n",
      "\n",
      "8번째 줄입니다.\n",
      "\n",
      "9번째 줄입니다.\n",
      "\n",
      "10번째 줄입니다.\n",
      "\n"
     ]
    }
   ],
   "source": [
    "## readlines\n",
    "f = open(\"newfile.txt\", \"r\", encoding = 'utf-8')\n",
    "lines = f.readlines()\n",
    "for line in lines:\n",
    "    print(line)\n",
    "f.close()"
   ]
  },
  {
   "cell_type": "code",
   "execution_count": 27,
   "id": "2d14de66-9545-4b12-ada6-9c29b452e1c2",
   "metadata": {},
   "outputs": [
    {
     "name": "stdout",
     "output_type": "stream",
     "text": [
      "1번째 줄입니다.\n",
      "2번째 줄입니다.\n",
      "3번째 줄입니다.\n",
      "4번째 줄입니다.\n",
      "5번째 줄입니다.\n",
      "6번째 줄입니다.\n",
      "7번째 줄입니다.\n",
      "8번째 줄입니다.\n",
      "9번째 줄입니다.\n",
      "10번째 줄입니다.\n",
      "\n"
     ]
    }
   ],
   "source": [
    "## read\n",
    "f = open(\"newfile.txt\", \"r\", encoding = \"utf-8\")\n",
    "data = f.read()\n",
    "print(data)\n",
    "f.close()"
   ]
  },
  {
   "cell_type": "code",
   "execution_count": 32,
   "id": "6e68725c-0642-4ab6-a550-5d047c93375b",
   "metadata": {},
   "outputs": [],
   "source": [
    "## adddata.py\n",
    "f = open(\"newfile.txt\", \"a\", encoding = 'utf-8')\n",
    "for i in range(11, 20):\n",
    "    data = f\"{i}번째 줄입니다.\\n\"\n",
    "    f.write(data)\n",
    "f.close()"
   ]
  },
  {
   "cell_type": "code",
   "execution_count": 33,
   "id": "9e0eba4c-d071-42ba-b9a1-a72863d60990",
   "metadata": {},
   "outputs": [],
   "source": [
    "f = open(\"foo.txt\", \"w\", encoding = 'utf-8')\n",
    "f.write(\"Life is too short, you need python\")\n",
    "f.close()"
   ]
  },
  {
   "cell_type": "code",
   "execution_count": 34,
   "id": "51016508-e87a-4ae7-a1eb-befd1fe05f58",
   "metadata": {},
   "outputs": [],
   "source": [
    "with open(\"foo.txt\", \"w\", encoding = 'utf-8') as f:\n",
    "    f.write(\"Life is too short, you need python.\")"
   ]
  },
  {
   "cell_type": "code",
   "execution_count": 35,
   "id": "4fd7bbc0-b5d0-429d-b9db-cd914ee5a1a3",
   "metadata": {},
   "outputs": [],
   "source": [
    "f = open(\"Q_five.txt\", \"w\", encoding = 'utf-8')\n",
    "f.write(\"Life is too short\")\n",
    "f.close()"
   ]
  },
  {
   "cell_type": "code",
   "execution_count": 37,
   "id": "21cfb0b5-dbf7-4374-aacb-ff6b2faac6e3",
   "metadata": {},
   "outputs": [
    {
     "name": "stdout",
     "output_type": "stream",
     "text": [
      "['Life is too short']\n"
     ]
    }
   ],
   "source": [
    "with open(\"Q_five.txt\", \"r\", encoding = 'utf-8') as f:\n",
    "    data = f.readlines()\n",
    "    print(data)\n",
    "f.close()"
   ]
  },
  {
   "cell_type": "code",
   "execution_count": 38,
   "id": "29ac9cce-c581-428a-9893-975e83b040ba",
   "metadata": {},
   "outputs": [
    {
     "name": "stdin",
     "output_type": "stream",
     "text": [
      "저장할 내용을 입력하세요. 가나다라마바사\n"
     ]
    }
   ],
   "source": [
    "user_input = input(\"저장할 내용을 입력하세요.\")\n",
    "f = open(\"test.txt\", \"a\", encoding = 'utf-8')\n",
    "f.write(user_input)\n",
    "f.write(\"\\n\")\n",
    "f.close()"
   ]
  },
  {
   "cell_type": "code",
   "execution_count": 44,
   "id": "fe34edc7-d0fe-40a8-9f56-f2a20ed7fc28",
   "metadata": {},
   "outputs": [
    {
     "name": "stdout",
     "output_type": "stream",
     "text": [
      "1번째입니다.\n",
      "2번째입니다.\n",
      "3번째입니다.\n",
      "4번째입니다.\n",
      "5번째입니다.\n",
      "6번째입니다.\n",
      "7번째입니다.\n",
      "8번째입니다.\n",
      "9번째입니다.\n",
      "10번째입니다.\n",
      "가나다라마바사\n"
     ]
    }
   ],
   "source": [
    "with open(\"test.txt\", \"r\", encoding = 'utf-8') as f:\n",
    "    data = f.readlines()\n",
    "    for i in data:\n",
    "        i = i.strip()\n",
    "        print(i)\n",
    "f.close()"
   ]
  },
  {
   "cell_type": "code",
   "execution_count": 82,
   "id": "181c159e-4925-4bd4-b0ed-a76b2e39efa3",
   "metadata": {},
   "outputs": [],
   "source": [
    "with open(\"test7.txt\", \"w\") as f:\n",
    "    f.write(\"Life is too short \\n you need python\")\n",
    "f.close()"
   ]
  },
  {
   "cell_type": "code",
   "execution_count": 83,
   "id": "63cf2e39-7eae-4cb7-aad3-219a4f86b959",
   "metadata": {},
   "outputs": [],
   "source": [
    "f = open(\"test7.txt\", \"r\")\n",
    "body = f.read()\n",
    "f.close()"
   ]
  },
  {
   "cell_type": "code",
   "execution_count": 85,
   "id": "4d49655f-85a6-408b-9068-7829944ed1eb",
   "metadata": {},
   "outputs": [],
   "source": [
    "body = body.replace(\"python\", \"java\")"
   ]
  },
  {
   "cell_type": "code",
   "execution_count": 86,
   "id": "ce8b566f-42b1-46da-ac42-80ec72d3f1bb",
   "metadata": {},
   "outputs": [],
   "source": [
    "f = open(\"test7.txt\", \"w\")\n",
    "f.write(body)\n",
    "f.close()"
   ]
  },
  {
   "cell_type": "code",
   "execution_count": 88,
   "id": "a9e825d0-d488-4ef1-97a3-02767422c637",
   "metadata": {},
   "outputs": [
    {
     "name": "stdout",
     "output_type": "stream",
     "text": [
      "Life is too short \n",
      " you need java\n"
     ]
    }
   ],
   "source": [
    "f = open(\"test7.txt\", \"r\")\n",
    "data = f.read()\n",
    "print(data)\n",
    "f.close()"
   ]
  },
  {
   "cell_type": "markdown",
   "id": "5e31a331-69c2-47dd-8c9a-6af3419a903f",
   "metadata": {},
   "source": [
    "## 파이썬 날개 달기"
   ]
  },
  {
   "cell_type": "markdown",
   "id": "b29189fd-26e1-4942-88fe-0d74f668642f",
   "metadata": {},
   "source": [
    "## 클래스\n",
    "- 같은 성격의 데이터를 모아둔 것\n"
   ]
  },
  {
   "cell_type": "code",
   "execution_count": 53,
   "id": "1ce3371b-9073-4048-92ef-e6abaf4ecfef",
   "metadata": {},
   "outputs": [],
   "source": [
    "result = 0\n",
    "\n",
    "def add(num):\n",
    "    global result\n",
    "    result += num\n",
    "    return result\n",
    "\n",
    "def subtract(num):\n",
    "    global result\n",
    "    result -= num\n",
    "    return result"
   ]
  },
  {
   "cell_type": "code",
   "execution_count": 54,
   "id": "0a6781b0-be48-4e85-800c-8f9071f32860",
   "metadata": {},
   "outputs": [],
   "source": [
    "result1 = 0\n",
    "\n",
    "def add1(num):\n",
    "    global result1\n",
    "    result1 += num\n",
    "    return result1"
   ]
  },
  {
   "cell_type": "code",
   "execution_count": 55,
   "id": "5f0468e2-314b-42fc-8459-f832e3e2671a",
   "metadata": {},
   "outputs": [],
   "source": [
    "result2 = 0\n",
    "\n",
    "def add2(num):\n",
    "    global result2\n",
    "    result2 += num\n",
    "    return result2"
   ]
  },
  {
   "cell_type": "code",
   "execution_count": 56,
   "id": "525d0055-ae4a-43b5-8f5a-6dad354d419b",
   "metadata": {},
   "outputs": [
    {
     "data": {
      "text/plain": [
       "3"
      ]
     },
     "execution_count": 56,
     "metadata": {},
     "output_type": "execute_result"
    }
   ],
   "source": [
    "add(3)"
   ]
  },
  {
   "cell_type": "code",
   "execution_count": 57,
   "id": "5f631ecf-fda4-40c7-a6eb-461150864886",
   "metadata": {},
   "outputs": [
    {
     "data": {
      "text/plain": [
       "7"
      ]
     },
     "execution_count": 57,
     "metadata": {},
     "output_type": "execute_result"
    }
   ],
   "source": [
    "add(4)"
   ]
  },
  {
   "cell_type": "code",
   "execution_count": 58,
   "id": "25ff8108-01dc-4d15-8dbc-4fd701f360f7",
   "metadata": {},
   "outputs": [
    {
     "data": {
      "text/plain": [
       "5"
      ]
     },
     "execution_count": 58,
     "metadata": {},
     "output_type": "execute_result"
    }
   ],
   "source": [
    "add1(5)"
   ]
  },
  {
   "cell_type": "code",
   "execution_count": 59,
   "id": "b102a5b3-3825-4ed8-a28e-b0fbe6b17b64",
   "metadata": {},
   "outputs": [
    {
     "data": {
      "text/plain": [
       "11"
      ]
     },
     "execution_count": 59,
     "metadata": {},
     "output_type": "execute_result"
    }
   ],
   "source": [
    "add1(6)"
   ]
  },
  {
   "cell_type": "markdown",
   "id": "323b5f68-95a6-4867-b264-d4c4bc75be7e",
   "metadata": {},
   "source": [
    "- 위의 코드가 매장 POS기에 적용될 것이라고 가정하자\n",
    "- 3대일 때는 괜찮을 수 있으나 30대가 넘어간다고 하면 기능을 추가하거나 수정하고자할 때 너무 복잡해지고 코드 길이가 너무 길어짐\n",
    "- 이러한 문제를 해결하기위해 클래스 사용"
   ]
  },
  {
   "cell_type": "markdown",
   "id": "42a1ec24-04af-488b-9634-dcfa5bac69bb",
   "metadata": {},
   "source": [
    "```\n",
    "result = 0\n",
    "\n",
    "def add(num):\n",
    "    global result\n",
    "    result += num\n",
    "    return result\n",
    "\n",
    "def subtract(num):\n",
    "    global result\n",
    "    result -= num\n",
    "    return result\n",
    "```"
   ]
  },
  {
   "cell_type": "markdown",
   "id": "37070f90-8d0a-47c8-b13d-d1b90dcaf9ca",
   "metadata": {},
   "source": [
    "### 클래스 만들기\n",
    "- 클래스 네임은 대문자로 시작하는 것이 일반적임\n",
    "- 클래스 안에는 변수와 함수가 들어감\n",
    "- 함수의 변수 앞에 self 무조건 들어감!!\n",
    "- __는 특별하다는 의미임"
   ]
  },
  {
   "cell_type": "code",
   "execution_count": 72,
   "id": "dc0103da-1086-4e65-aea5-46ec73fa16b1",
   "metadata": {},
   "outputs": [],
   "source": [
    "class Calculator :\n",
    "    def __init__(self):\n",
    "        self.result = 0\n",
    "        \n",
    "    def add(self, num):\n",
    "        self.result += num\n",
    "        return self.result\n",
    "    \n",
    "    def subtract(self, num):\n",
    "        self.result -= num\n",
    "        return self.result\n",
    "    \n",
    "    def multiply(self, num):\n",
    "        self.result *= num\n",
    "        return self.result"
   ]
  },
  {
   "cell_type": "markdown",
   "id": "52d30cbd-93b8-4a06-b21c-8d60e281e3c4",
   "metadata": {},
   "source": [
    "### 클래스 불러오기"
   ]
  },
  {
   "cell_type": "code",
   "execution_count": 62,
   "id": "7060d0f7-5ea3-41c9-b823-ad6268efd818",
   "metadata": {},
   "outputs": [],
   "source": [
    "pos = Calculator()"
   ]
  },
  {
   "cell_type": "code",
   "execution_count": 63,
   "id": "e85c07c9-7069-4c19-9c42-2c068ae98510",
   "metadata": {},
   "outputs": [
    {
     "data": {
      "text/plain": [
       "3"
      ]
     },
     "execution_count": 63,
     "metadata": {},
     "output_type": "execute_result"
    }
   ],
   "source": [
    "pos.add(3)"
   ]
  },
  {
   "cell_type": "code",
   "execution_count": 64,
   "id": "ef15420d-8914-4fda-baa1-04e138f0d4d7",
   "metadata": {},
   "outputs": [
    {
     "data": {
      "text/plain": [
       "7"
      ]
     },
     "execution_count": 64,
     "metadata": {},
     "output_type": "execute_result"
    }
   ],
   "source": [
    "pos.add(4)"
   ]
  },
  {
   "cell_type": "code",
   "execution_count": 65,
   "id": "fa9cfe71-3ee0-4df5-88a6-071e2afec241",
   "metadata": {},
   "outputs": [
    {
     "data": {
      "text/plain": [
       "5"
      ]
     },
     "execution_count": 65,
     "metadata": {},
     "output_type": "execute_result"
    }
   ],
   "source": [
    "pos.subtract(2)"
   ]
  },
  {
   "cell_type": "code",
   "execution_count": 73,
   "id": "e07c5735-6ea6-464e-b701-9357747a2316",
   "metadata": {},
   "outputs": [],
   "source": [
    "pos1 = Calculator()"
   ]
  },
  {
   "cell_type": "code",
   "execution_count": 67,
   "id": "0f40e3da-abba-490c-85ae-fe640d4d3ffa",
   "metadata": {},
   "outputs": [
    {
     "data": {
      "text/plain": [
       "8"
      ]
     },
     "execution_count": 67,
     "metadata": {},
     "output_type": "execute_result"
    }
   ],
   "source": [
    "pos1.add(8)"
   ]
  },
  {
   "cell_type": "code",
   "execution_count": 68,
   "id": "b02618b2-ce64-4b25-ab30-9ea2425ee1a8",
   "metadata": {},
   "outputs": [
    {
     "data": {
      "text/plain": [
       "5"
      ]
     },
     "execution_count": 68,
     "metadata": {},
     "output_type": "execute_result"
    }
   ],
   "source": [
    "pos1.subtract(3)"
   ]
  },
  {
   "cell_type": "code",
   "execution_count": 71,
   "id": "6cd5ba92-9c1f-4d29-be4d-131e9e0decef",
   "metadata": {},
   "outputs": [],
   "source": [
    "pos3 = Calculator()\n",
    "pos4 = Calculator()"
   ]
  },
  {
   "cell_type": "markdown",
   "id": "73f3e91a-bc0c-49d6-a96c-1d71df083b0d",
   "metadata": {},
   "source": [
    "- Calculator()는 클래스\n",
    "- 위 예시에서 pos, pos1, pos2...는 객체 또는 인스턴스라고 부름\n",
    "- pos는 Calculator 클래스에서 구체화 된 인스턴스임\n",
    "- 다시 말해, pos는 객체이고 Calculator의 인스턴스입니다.\n",
    "- class 안에 있는 함수를 method라고 함"
   ]
  },
  {
   "cell_type": "markdown",
   "id": "c005b76e-1830-4c55-aade-999ea7b83c9c",
   "metadata": {},
   "source": [
    "### 클래스 만들기 연습"
   ]
  },
  {
   "cell_type": "code",
   "execution_count": 75,
   "id": "6cced581-6331-4813-a89b-7d317864af80",
   "metadata": {},
   "outputs": [],
   "source": [
    "class FourCal:\n",
    "    pass"
   ]
  },
  {
   "cell_type": "code",
   "execution_count": 76,
   "id": "8c3d5d27-79ce-4250-841a-2db807f03067",
   "metadata": {},
   "outputs": [],
   "source": [
    "class FourCal:\n",
    "    def setdata(self, a, b):\n",
    "        self.first = a\n",
    "        self.second = b"
   ]
  },
  {
   "cell_type": "code",
   "execution_count": 77,
   "id": "9d023d9a-bc31-49c9-b511-230af2b7abbf",
   "metadata": {},
   "outputs": [],
   "source": [
    "cal = FourCal()"
   ]
  },
  {
   "cell_type": "code",
   "execution_count": 78,
   "id": "dbfde02e-c42c-427d-b2aa-481389f7b37e",
   "metadata": {},
   "outputs": [],
   "source": [
    "cal.setdata(1, 2)"
   ]
  },
  {
   "cell_type": "code",
   "execution_count": 80,
   "id": "45715e7e-6e76-4287-a812-9215971f569f",
   "metadata": {},
   "outputs": [
    {
     "data": {
      "text/plain": [
       "1"
      ]
     },
     "execution_count": 80,
     "metadata": {},
     "output_type": "execute_result"
    }
   ],
   "source": [
    "cal.first"
   ]
  },
  {
   "cell_type": "code",
   "execution_count": 81,
   "id": "18b367d4-e31a-4cc7-a8d1-cb0f8638172e",
   "metadata": {},
   "outputs": [
    {
     "data": {
      "text/plain": [
       "2"
      ]
     },
     "execution_count": 81,
     "metadata": {},
     "output_type": "execute_result"
    }
   ],
   "source": [
    "cal.second"
   ]
  },
  {
   "cell_type": "markdown",
   "id": "56e001e2-0afe-471c-8fac-65d8e7e53d2a",
   "metadata": {},
   "source": [
    "- 객체 : object, instance, 오브젝트, 인스턴스\n",
    "- 동사\n",
    "- 형용사\n",
    "```\n",
    "car: car.go(), car.back(), car.turn()\n",
    "     car.color, car.size\n",
    "\n",
    "bird : bird.fly(), bird.sing(),\n",
    "       bird.color\n",
    "\n",
    "동사 : method, 메소드 --> () 있으면 method\n",
    "형용사 : attribute, 애트리뷰트 --> () 없으면 attribute\n",
    "```"
   ]
  },
  {
   "cell_type": "code",
   "execution_count": 89,
   "id": "2c87bffc-24f8-4e2a-9921-1ecd2618d803",
   "metadata": {},
   "outputs": [],
   "source": [
    "class FourCal:\n",
    "    def setdata(self, a, b):\n",
    "        self.first = a\n",
    "        self.second = b\n",
    "    \n",
    "    def add(self):\n",
    "        self.result = self.first + self.second\n",
    "        return self.result\n",
    "    \n",
    "    def subtract(self):\n",
    "        self.result = self.first - self.second\n",
    "        return self.result    "
   ]
  },
  {
   "cell_type": "code",
   "execution_count": 90,
   "id": "cd4993bd-4d84-4dd5-86b7-374285897932",
   "metadata": {},
   "outputs": [],
   "source": [
    "cal = FourCal()"
   ]
  },
  {
   "cell_type": "code",
   "execution_count": 91,
   "id": "b8a3e5eb-8239-4623-ac08-04fed19e204b",
   "metadata": {},
   "outputs": [
    {
     "data": {
      "text/plain": [
       "1"
      ]
     },
     "execution_count": 91,
     "metadata": {},
     "output_type": "execute_result"
    }
   ],
   "source": [
    "cal.setdata(1, 2)\n",
    "cal.first"
   ]
  },
  {
   "cell_type": "code",
   "execution_count": 92,
   "id": "789128a1-f689-4b3c-9442-8bf1a3afb6ef",
   "metadata": {},
   "outputs": [
    {
     "data": {
      "text/plain": [
       "3"
      ]
     },
     "execution_count": 92,
     "metadata": {},
     "output_type": "execute_result"
    }
   ],
   "source": [
    "cal.add()"
   ]
  },
  {
   "cell_type": "code",
   "execution_count": 93,
   "id": "52a8853e-0756-4349-8435-a200948077b0",
   "metadata": {},
   "outputs": [],
   "source": [
    "cal1 = FourCal()"
   ]
  },
  {
   "cell_type": "code",
   "execution_count": 94,
   "id": "3f132e21-7c13-467e-bf79-b7e0e93e5d71",
   "metadata": {},
   "outputs": [
    {
     "ename": "AttributeError",
     "evalue": "'FourCal' object has no attribute 'first'",
     "output_type": "error",
     "traceback": [
      "\u001b[1;31m---------------------------------------------------------------------------\u001b[0m",
      "\u001b[1;31mAttributeError\u001b[0m                            Traceback (most recent call last)",
      "Input \u001b[1;32mIn [94]\u001b[0m, in \u001b[0;36m<cell line: 1>\u001b[1;34m()\u001b[0m\n\u001b[1;32m----> 1\u001b[0m \u001b[43mcal1\u001b[49m\u001b[38;5;241;43m.\u001b[39;49m\u001b[43madd\u001b[49m\u001b[43m(\u001b[49m\u001b[43m)\u001b[49m\n",
      "Input \u001b[1;32mIn [89]\u001b[0m, in \u001b[0;36mFourCal.add\u001b[1;34m(self)\u001b[0m\n\u001b[0;32m      6\u001b[0m \u001b[38;5;28;01mdef\u001b[39;00m \u001b[38;5;21madd\u001b[39m(\u001b[38;5;28mself\u001b[39m):\n\u001b[1;32m----> 7\u001b[0m     \u001b[38;5;28mself\u001b[39m\u001b[38;5;241m.\u001b[39mresult \u001b[38;5;241m=\u001b[39m \u001b[38;5;28;43mself\u001b[39;49m\u001b[38;5;241;43m.\u001b[39;49m\u001b[43mfirst\u001b[49m \u001b[38;5;241m+\u001b[39m \u001b[38;5;28mself\u001b[39m\u001b[38;5;241m.\u001b[39msecond\n\u001b[0;32m      8\u001b[0m     \u001b[38;5;28;01mreturn\u001b[39;00m \u001b[38;5;28mself\u001b[39m\u001b[38;5;241m.\u001b[39mresult\n",
      "\u001b[1;31mAttributeError\u001b[0m: 'FourCal' object has no attribute 'first'"
     ]
    }
   ],
   "source": [
    "cal1.add()"
   ]
  },
  {
   "cell_type": "code",
   "execution_count": 95,
   "id": "1c175b65-8d14-4525-b0e9-a66729d5bd8f",
   "metadata": {},
   "outputs": [
    {
     "ename": "AttributeError",
     "evalue": "'FourCal' object has no attribute 'first'",
     "output_type": "error",
     "traceback": [
      "\u001b[1;31m---------------------------------------------------------------------------\u001b[0m",
      "\u001b[1;31mAttributeError\u001b[0m                            Traceback (most recent call last)",
      "Input \u001b[1;32mIn [95]\u001b[0m, in \u001b[0;36m<cell line: 1>\u001b[1;34m()\u001b[0m\n\u001b[1;32m----> 1\u001b[0m \u001b[43mcal1\u001b[49m\u001b[38;5;241;43m.\u001b[39;49m\u001b[43msubtract\u001b[49m\u001b[43m(\u001b[49m\u001b[43m)\u001b[49m\n",
      "Input \u001b[1;32mIn [89]\u001b[0m, in \u001b[0;36mFourCal.subtract\u001b[1;34m(self)\u001b[0m\n\u001b[0;32m     10\u001b[0m \u001b[38;5;28;01mdef\u001b[39;00m \u001b[38;5;21msubtract\u001b[39m(\u001b[38;5;28mself\u001b[39m):\n\u001b[1;32m---> 11\u001b[0m     \u001b[38;5;28mself\u001b[39m\u001b[38;5;241m.\u001b[39mresult \u001b[38;5;241m=\u001b[39m \u001b[38;5;28;43mself\u001b[39;49m\u001b[38;5;241;43m.\u001b[39;49m\u001b[43mfirst\u001b[49m \u001b[38;5;241m-\u001b[39m \u001b[38;5;28mself\u001b[39m\u001b[38;5;241m.\u001b[39msecond\n\u001b[0;32m     12\u001b[0m     \u001b[38;5;28;01mreturn\u001b[39;00m \u001b[38;5;28mself\u001b[39m\u001b[38;5;241m.\u001b[39mresult\n",
      "\u001b[1;31mAttributeError\u001b[0m: 'FourCal' object has no attribute 'first'"
     ]
    }
   ],
   "source": [
    "cal1.subtract()"
   ]
  },
  {
   "cell_type": "code",
   "execution_count": 96,
   "id": "54033d15-6f33-43c4-96b4-f91638222dfb",
   "metadata": {},
   "outputs": [],
   "source": [
    "cal1.setdata(1, 3)"
   ]
  },
  {
   "cell_type": "code",
   "execution_count": 97,
   "id": "9824169a-2919-41fd-8b3b-1ad622fee5ec",
   "metadata": {},
   "outputs": [
    {
     "data": {
      "text/plain": [
       "4"
      ]
     },
     "execution_count": 97,
     "metadata": {},
     "output_type": "execute_result"
    }
   ],
   "source": [
    "cal1.add()\n",
    "\n",
    "### FourCal클래스 안에 add나 subtract 함수를 사용하려면 setdata 함수가 무조건 먼저 실행되어야 함"
   ]
  },
  {
   "cell_type": "markdown",
   "id": "5afc03a9-595d-4e8b-acfb-d9db48c96993",
   "metadata": {},
   "source": [
    "#### __init__(초기화 함수, 생성자)"
   ]
  },
  {
   "cell_type": "code",
   "execution_count": 105,
   "id": "93fbcbcd-4a97-4c85-805f-120f7cf8ab35",
   "metadata": {},
   "outputs": [],
   "source": [
    "class FourCal1:\n",
    "    ## 초기화, 생성자(constructor)\n",
    "    def __init__(self, a, b):\n",
    "        self.first = a\n",
    "        self.second = b\n",
    "    \n",
    "    def add(self):\n",
    "        self.result = self.first + self.second\n",
    "        return self.result\n",
    "    \n",
    "    def subtract(self):\n",
    "        self.result = self.first - self.second\n",
    "        return self.result  \n",
    "\n",
    "### __init__함수는 클래스를 사용하면 무조건 실행됨\n",
    "### FourCal클래스에서는 def__init__(self, a, b): pass가 생략된 것"
   ]
  },
  {
   "cell_type": "code",
   "execution_count": 101,
   "id": "9cece71a-6cc9-42e8-97ff-aa6fcd59b579",
   "metadata": {},
   "outputs": [
    {
     "ename": "TypeError",
     "evalue": "FourCal1.__init__() missing 2 required positional arguments: 'a' and 'b'",
     "output_type": "error",
     "traceback": [
      "\u001b[1;31m---------------------------------------------------------------------------\u001b[0m",
      "\u001b[1;31mTypeError\u001b[0m                                 Traceback (most recent call last)",
      "Input \u001b[1;32mIn [101]\u001b[0m, in \u001b[0;36m<cell line: 1>\u001b[1;34m()\u001b[0m\n\u001b[1;32m----> 1\u001b[0m cal2 \u001b[38;5;241m=\u001b[39m \u001b[43mFourCal1\u001b[49m\u001b[43m(\u001b[49m\u001b[43m)\u001b[49m\n",
      "\u001b[1;31mTypeError\u001b[0m: FourCal1.__init__() missing 2 required positional arguments: 'a' and 'b'"
     ]
    }
   ],
   "source": [
    "cal2 = FourCal1()"
   ]
  },
  {
   "cell_type": "code",
   "execution_count": 102,
   "id": "0c42af10-6680-4f93-9068-c2df933ed9eb",
   "metadata": {},
   "outputs": [],
   "source": [
    "cal2 = FourCal1(3, 6)"
   ]
  },
  {
   "cell_type": "code",
   "execution_count": 103,
   "id": "fe17a328-a7f5-45ea-bddb-e2a07282717a",
   "metadata": {},
   "outputs": [
    {
     "data": {
      "text/plain": [
       "9"
      ]
     },
     "execution_count": 103,
     "metadata": {},
     "output_type": "execute_result"
    }
   ],
   "source": [
    "cal2.add()"
   ]
  },
  {
   "cell_type": "code",
   "execution_count": 104,
   "id": "687ecb02-ef80-432e-b315-a50ebe578572",
   "metadata": {},
   "outputs": [
    {
     "data": {
      "text/plain": [
       "-3"
      ]
     },
     "execution_count": 104,
     "metadata": {},
     "output_type": "execute_result"
    }
   ],
   "source": [
    "cal2.subtract()"
   ]
  },
  {
   "cell_type": "code",
   "execution_count": 106,
   "id": "079ce70b-f77b-4a1d-9ff9-a4f94338d7eb",
   "metadata": {},
   "outputs": [
    {
     "data": {
      "text/plain": [
       "-10"
      ]
     },
     "execution_count": 106,
     "metadata": {},
     "output_type": "execute_result"
    }
   ],
   "source": [
    "cal3 = FourCal1(10, 20)\n",
    "cal3.subtract()"
   ]
  },
  {
   "cell_type": "code",
   "execution_count": 111,
   "id": "7ef0c4f0-8a16-4306-8176-6bd2e4e82b86",
   "metadata": {},
   "outputs": [],
   "source": [
    "class FourCal1:\n",
    "    def __init__(self, a, b):\n",
    "        self.first = a\n",
    "        self.second = b\n",
    "    \n",
    "    def add(self):\n",
    "        self.result = self.first + self.second\n",
    "        return self.result\n",
    "    \n",
    "    def subtract(self):\n",
    "        self.result = self.first - self.second\n",
    "        return self.result  \n",
    "    \n",
    "    def multiply(self):\n",
    "        self.result = self.first * self.second\n",
    "        return self.result\n",
    "    \n",
    "    def divide(self):\n",
    "        self.result = self.first / self.second\n",
    "        return self.result"
   ]
  },
  {
   "cell_type": "code",
   "execution_count": 112,
   "id": "7370de32-9e31-4142-8d09-63816d364797",
   "metadata": {},
   "outputs": [],
   "source": [
    "cal = FourCal1(3, 5)"
   ]
  },
  {
   "cell_type": "code",
   "execution_count": 113,
   "id": "5485b2d5-cf6d-432d-9aa8-d9d5e0a03580",
   "metadata": {},
   "outputs": [
    {
     "data": {
      "text/plain": [
       "15"
      ]
     },
     "execution_count": 113,
     "metadata": {},
     "output_type": "execute_result"
    }
   ],
   "source": [
    "cal.multiply()"
   ]
  },
  {
   "cell_type": "code",
   "execution_count": 114,
   "id": "1e5228de-4d25-4b48-a304-1710dd01c776",
   "metadata": {},
   "outputs": [
    {
     "data": {
      "text/plain": [
       "0.6"
      ]
     },
     "execution_count": 114,
     "metadata": {},
     "output_type": "execute_result"
    }
   ],
   "source": [
    "cal.divide()"
   ]
  },
  {
   "cell_type": "code",
   "execution_count": 118,
   "id": "6508cacb-1e05-4424-834c-584cc55dc0f1",
   "metadata": {},
   "outputs": [],
   "source": [
    "cal1 = FourCal1(1, 2)"
   ]
  },
  {
   "cell_type": "code",
   "execution_count": 119,
   "id": "93a6b439-3bd3-4352-ac76-ea4b47ae7a99",
   "metadata": {},
   "outputs": [
    {
     "data": {
      "text/plain": [
       "0.5"
      ]
     },
     "execution_count": 119,
     "metadata": {},
     "output_type": "execute_result"
    }
   ],
   "source": [
    "cal1.divide()"
   ]
  },
  {
   "cell_type": "markdown",
   "id": "fe9e28de-cab8-40f8-a6d3-81ef609a8d8a",
   "metadata": {},
   "source": [
    "### 클래스 상속(inheritance)"
   ]
  },
  {
   "cell_type": "code",
   "execution_count": 120,
   "id": "35ad9753-5375-4c13-8790-b27efe1905d3",
   "metadata": {},
   "outputs": [],
   "source": [
    "class Child(FourCal1):\n",
    "    pass"
   ]
  },
  {
   "cell_type": "code",
   "execution_count": 124,
   "id": "29f97d0a-4fd0-4c52-9044-17ac7dbba709",
   "metadata": {},
   "outputs": [],
   "source": [
    "cal = Child(10, 20)"
   ]
  },
  {
   "cell_type": "code",
   "execution_count": 125,
   "id": "f36f6273-e3c1-42c2-afc8-a7aaa38ca171",
   "metadata": {},
   "outputs": [
    {
     "data": {
      "text/plain": [
       "30"
      ]
     },
     "execution_count": 125,
     "metadata": {},
     "output_type": "execute_result"
    }
   ],
   "source": [
    "cal.add()"
   ]
  },
  {
   "cell_type": "code",
   "execution_count": 126,
   "id": "15c95f0e-f0da-4e58-a411-c324db9ee8c2",
   "metadata": {},
   "outputs": [],
   "source": [
    "class Child(FourCal1):\n",
    "    def power(self):\n",
    "        self.result = self.first ** self.second\n",
    "        return self.result\n",
    "    \n",
    "    def remain(self):\n",
    "        self.result = self.first // self.second\n",
    "        return self.result"
   ]
  },
  {
   "cell_type": "code",
   "execution_count": 127,
   "id": "b5d94776-ff24-430e-b333-a841420c7178",
   "metadata": {},
   "outputs": [],
   "source": [
    "cal = Child(2, 3)"
   ]
  },
  {
   "cell_type": "code",
   "execution_count": 128,
   "id": "cdfc6f6e-6e23-4a93-94f5-93fc31fefbf3",
   "metadata": {},
   "outputs": [
    {
     "data": {
      "text/plain": [
       "8"
      ]
     },
     "execution_count": 128,
     "metadata": {},
     "output_type": "execute_result"
    }
   ],
   "source": [
    "cal.power()"
   ]
  },
  {
   "cell_type": "code",
   "execution_count": 129,
   "id": "6f38dc8f-1f4c-4053-a78f-43750453b880",
   "metadata": {},
   "outputs": [],
   "source": [
    "cal = Child(1, 0)"
   ]
  },
  {
   "cell_type": "code",
   "execution_count": 130,
   "id": "b7764cf3-e93c-45bc-94e0-5ae585021f41",
   "metadata": {},
   "outputs": [
    {
     "ename": "ZeroDivisionError",
     "evalue": "division by zero",
     "output_type": "error",
     "traceback": [
      "\u001b[1;31m---------------------------------------------------------------------------\u001b[0m",
      "\u001b[1;31mZeroDivisionError\u001b[0m                         Traceback (most recent call last)",
      "Input \u001b[1;32mIn [130]\u001b[0m, in \u001b[0;36m<cell line: 1>\u001b[1;34m()\u001b[0m\n\u001b[1;32m----> 1\u001b[0m \u001b[43mcal\u001b[49m\u001b[38;5;241;43m.\u001b[39;49m\u001b[43mdivide\u001b[49m\u001b[43m(\u001b[49m\u001b[43m)\u001b[49m\n",
      "Input \u001b[1;32mIn [111]\u001b[0m, in \u001b[0;36mFourCal1.divide\u001b[1;34m(self)\u001b[0m\n\u001b[0;32m     18\u001b[0m \u001b[38;5;28;01mdef\u001b[39;00m \u001b[38;5;21mdivide\u001b[39m(\u001b[38;5;28mself\u001b[39m):\n\u001b[1;32m---> 19\u001b[0m     \u001b[38;5;28mself\u001b[39m\u001b[38;5;241m.\u001b[39mresult \u001b[38;5;241m=\u001b[39m \u001b[38;5;28;43mself\u001b[39;49m\u001b[38;5;241;43m.\u001b[39;49m\u001b[43mfirst\u001b[49m\u001b[43m \u001b[49m\u001b[38;5;241;43m/\u001b[39;49m\u001b[43m \u001b[49m\u001b[38;5;28;43mself\u001b[39;49m\u001b[38;5;241;43m.\u001b[39;49m\u001b[43msecond\u001b[49m\n\u001b[0;32m     20\u001b[0m     \u001b[38;5;28;01mreturn\u001b[39;00m \u001b[38;5;28mself\u001b[39m\u001b[38;5;241m.\u001b[39mresult\n",
      "\u001b[1;31mZeroDivisionError\u001b[0m: division by zero"
     ]
    }
   ],
   "source": [
    "cal.divide()"
   ]
  },
  {
   "cell_type": "markdown",
   "id": "c6f8ecca-2048-41fd-acd8-10cdcdf2a99c",
   "metadata": {},
   "source": [
    "### 매소드 오버라이딩\n",
    "- overriding 메소드 재정의"
   ]
  },
  {
   "cell_type": "code",
   "execution_count": 131,
   "id": "f14903a2-648d-48ad-b3bd-38c9e550af6f",
   "metadata": {},
   "outputs": [],
   "source": [
    "class Child(FourCal1):\n",
    "    def power(self):\n",
    "        self.result = self.first ** self.second\n",
    "        return self.result\n",
    "    \n",
    "    def remain(self):\n",
    "        self.result = self.first // self.second\n",
    "        return self.result\n",
    "    \n",
    "    def divide(self):\n",
    "        if self.second != 0:\n",
    "            self.result = self.first / self.second\n",
    "        else:\n",
    "            print(\"0으로 나누셨군요\")"
   ]
  },
  {
   "cell_type": "code",
   "execution_count": 132,
   "id": "0bd444d0-a072-4fd6-8c81-ee6afdcac167",
   "metadata": {},
   "outputs": [],
   "source": [
    "cal = Child(1, 0)"
   ]
  },
  {
   "cell_type": "code",
   "execution_count": 133,
   "id": "e177f3a1-ace4-4499-b496-b900c15b0fe6",
   "metadata": {},
   "outputs": [
    {
     "name": "stdout",
     "output_type": "stream",
     "text": [
      "0으로 나누셨군요\n"
     ]
    }
   ],
   "source": [
    "cal.divide()"
   ]
  },
  {
   "cell_type": "code",
   "execution_count": 140,
   "id": "dc21c80f-20c8-4d9d-b3f8-e0a2f4133a8c",
   "metadata": {},
   "outputs": [],
   "source": [
    "class Calculator():\n",
    "    def __init__(self, a, b):\n",
    "        self.first = a\n",
    "        self.second = b\n",
    "        "
   ]
  },
  {
   "cell_type": "code",
   "execution_count": 141,
   "id": "d1617170-d903-49bf-9b3d-88eeb34fe8a8",
   "metadata": {},
   "outputs": [],
   "source": [
    "cal = Calculator(1, 2)"
   ]
  },
  {
   "cell_type": "code",
   "execution_count": 142,
   "id": "710e6760-ae3f-4f0e-9de2-c9cdf7f36ff2",
   "metadata": {},
   "outputs": [
    {
     "data": {
      "text/plain": [
       "1"
      ]
     },
     "execution_count": 142,
     "metadata": {},
     "output_type": "execute_result"
    }
   ],
   "source": [
    "cal.first ### cal.first = self.first"
   ]
  },
  {
   "cell_type": "code",
   "execution_count": 143,
   "id": "6efbd509-405b-4ffc-8960-dce047d247f4",
   "metadata": {},
   "outputs": [],
   "source": [
    "bal = Calculator(10, 20)"
   ]
  },
  {
   "cell_type": "code",
   "execution_count": 145,
   "id": "84f14913-49c3-4082-b698-330910e25bcc",
   "metadata": {},
   "outputs": [
    {
     "data": {
      "text/plain": [
       "10"
      ]
     },
     "execution_count": 145,
     "metadata": {},
     "output_type": "execute_result"
    }
   ],
   "source": [
    "bal.first ### bal.first = self.first"
   ]
  },
  {
   "cell_type": "markdown",
   "id": "24d99ed3-f360-4d82-95a2-c0a25ba576f6",
   "metadata": {},
   "source": [
    "# 연습문제"
   ]
  },
  {
   "cell_type": "code",
   "execution_count": 146,
   "id": "b6cd2fa0-0b38-4265-9d8d-dfe998d8ac71",
   "metadata": {},
   "outputs": [
    {
     "name": "stdout",
     "output_type": "stream",
     "text": [
      "32100\n",
      "32150\n",
      "32000\n",
      "32500\n"
     ]
    }
   ],
   "source": [
    "price_list = [32100, 32150, 32000, 32500]\n",
    "for i in range(len(price_list)):\n",
    "    print(price_list[i])"
   ]
  },
  {
   "cell_type": "code",
   "execution_count": 149,
   "id": "55f1316b-3c0c-423b-9c2f-89159d327fc7",
   "metadata": {},
   "outputs": [
    {
     "name": "stdout",
     "output_type": "stream",
     "text": [
      "0 32100\n",
      "1 32150\n",
      "2 32000\n",
      "3 32500\n"
     ]
    }
   ],
   "source": [
    "price_list = [32100, 32150, 32000, 32500]\n",
    "for i, data in enumerate(price_list):\n",
    "    print(i, data)"
   ]
  },
  {
   "cell_type": "code",
   "execution_count": 150,
   "id": "d1179d21-688b-446f-9298-e59c2687a391",
   "metadata": {},
   "outputs": [
    {
     "data": {
      "text/plain": [
       "[['101호', '102호'], ['201호', '202호'], ['301호', '302호']]"
      ]
     },
     "execution_count": 150,
     "metadata": {},
     "output_type": "execute_result"
    }
   ],
   "source": [
    "apartment = [['101호', '102호'], ['201호', '202호'], ['301호', '302호']]\n",
    "apartment"
   ]
  },
  {
   "cell_type": "code",
   "execution_count": 153,
   "id": "c0722dfd-814c-46b9-82fa-d2a10164f770",
   "metadata": {},
   "outputs": [
    {
     "data": {
      "text/plain": [
       "[[100, 200, 300], [80, 210, 330]]"
      ]
     },
     "execution_count": 153,
     "metadata": {},
     "output_type": "execute_result"
    }
   ],
   "source": [
    "stock = [[100, 200, 300], [80, 210 , 330]]\n",
    "stock"
   ]
  },
  {
   "cell_type": "code",
   "execution_count": 154,
   "id": "3d887ce9-865d-4358-9f23-6b1eb9086edc",
   "metadata": {},
   "outputs": [
    {
     "name": "stdout",
     "output_type": "stream",
     "text": [
      "dict_keys(['시가', '종가'])\n",
      "dict_values([[100, 200, 300], [80, 210, 330]])\n"
     ]
    }
   ],
   "source": [
    "stock = {'시가' : [100, 200, 300], '종가' : [80, 210, 330]}\n",
    "print(stock.keys())\n",
    "print(stock.values())"
   ]
  },
  {
   "cell_type": "code",
   "execution_count": 156,
   "id": "ee800171-d09e-45b5-a626-b335bc01d78e",
   "metadata": {},
   "outputs": [
    {
     "name": "stdout",
     "output_type": "stream",
     "text": [
      "101호\n",
      "102호\n",
      "201호\n",
      "202호\n",
      "301호\n",
      "302호\n"
     ]
    }
   ],
   "source": [
    "apart = [ [101, 102], [201, 202], [301, 302] ]\n",
    "for i in range(len(apart)):\n",
    "    print(str(apart[i][0]) + '호')\n",
    "    print(str(apart[i][1]) + '호')\n",
    "    "
   ]
  },
  {
   "cell_type": "code",
   "execution_count": 157,
   "id": "02377a02-ba0e-4a71-a63d-ebf30c55f93e",
   "metadata": {},
   "outputs": [
    {
     "name": "stdout",
     "output_type": "stream",
     "text": [
      "301호\n",
      "302호\n",
      "201호\n",
      "202호\n",
      "101호\n",
      "102호\n"
     ]
    }
   ],
   "source": [
    "apart = [ [101, 102], [201, 202], [301, 302] ]\n",
    "for i in range(len(apart)):\n",
    "    print(str(apart[-(i+1)][0]) + '호')\n",
    "    print(str(apart[-(i+1)][1]) + '호')"
   ]
  },
  {
   "cell_type": "code",
   "execution_count": 158,
   "id": "9ae085c4-0cd5-4bb6-8709-25dda11cbccd",
   "metadata": {},
   "outputs": [
    {
     "name": "stdout",
     "output_type": "stream",
     "text": [
      "302호\n",
      "301호\n",
      "202호\n",
      "201호\n",
      "102호\n",
      "101호\n"
     ]
    }
   ],
   "source": [
    "apart = [ [101, 102], [201, 202], [301, 302] ]\n",
    "for i in range(len(apart)):\n",
    "    print(str(apart[-(i+1)][1]) + '호')\n",
    "    print(str(apart[-(i+1)][0]) + '호')"
   ]
  },
  {
   "cell_type": "code",
   "execution_count": null,
   "id": "905dec26-4d50-4675-b8f7-98fe0d48449a",
   "metadata": {},
   "outputs": [],
   "source": []
  }
 ],
 "metadata": {
  "kernelspec": {
   "display_name": "Python 3 (ipykernel)",
   "language": "python",
   "name": "python3"
  },
  "language_info": {
   "codemirror_mode": {
    "name": "ipython",
    "version": 3
   },
   "file_extension": ".py",
   "mimetype": "text/x-python",
   "name": "python",
   "nbconvert_exporter": "python",
   "pygments_lexer": "ipython3",
   "version": "3.10.6"
  }
 },
 "nbformat": 4,
 "nbformat_minor": 5
}
