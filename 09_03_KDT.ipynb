{
 "cells": [
  {
   "cell_type": "code",
   "execution_count": 5,
   "id": "4de2d6a6-1d99-4694-bbea-13fde3c950cb",
   "metadata": {},
   "outputs": [
    {
     "name": "stdout",
     "output_type": "stream",
     "text": [
      "[1, 2, 3, 4, 'Good Morning']\n"
     ]
    }
   ],
   "source": [
    "a = [1, 2, 3, 4, \"Hello\", \"Good Morning\"] \n",
    "a.pop(4);print(a)"
   ]
  },
  {
   "cell_type": "code",
   "execution_count": 7,
   "id": "f468d633-7a4a-44c7-8bf9-1db968bcb880",
   "metadata": {},
   "outputs": [
    {
     "name": "stdin",
     "output_type": "stream",
     "text": [
      "팩토리얼을 구할 수를 입력하세요. 5\n"
     ]
    },
    {
     "name": "stdout",
     "output_type": "stream",
     "text": [
      "16\n"
     ]
    }
   ],
   "source": [
    "###문제 for문, range을 사용하여 팩토리얼을 구현하려면?\n",
    "\n",
    "a = int(input(\"팩토리얼을 구할 수를 입력하세요.\"))\n",
    "result = 1\n",
    "for b in range(1, a+1, 1):\n",
    "    result += b\n",
    "print(result) \n"
   ]
  },
  {
   "cell_type": "code",
   "execution_count": 19,
   "id": "109418b1-0546-41ce-b47f-d764d916ed89",
   "metadata": {
    "collapsed": true,
    "jupyter": {
     "outputs_hidden": true
    },
    "tags": []
   },
   "outputs": [
    {
     "data": {
      "text/plain": [
       "[0,\n",
       " 2,\n",
       " 4,\n",
       " 6,\n",
       " 8,\n",
       " 10,\n",
       " 12,\n",
       " 14,\n",
       " 16,\n",
       " 18,\n",
       " 20,\n",
       " 22,\n",
       " 24,\n",
       " 26,\n",
       " 28,\n",
       " 30,\n",
       " 32,\n",
       " 34,\n",
       " 36,\n",
       " 38,\n",
       " 40,\n",
       " 42,\n",
       " 44,\n",
       " 46,\n",
       " 48,\n",
       " 50,\n",
       " 52,\n",
       " 54,\n",
       " 56,\n",
       " 58,\n",
       " 60,\n",
       " 62,\n",
       " 64,\n",
       " 66,\n",
       " 68,\n",
       " 70,\n",
       " 72,\n",
       " 74,\n",
       " 76,\n",
       " 78,\n",
       " 80,\n",
       " 82,\n",
       " 84,\n",
       " 86,\n",
       " 88,\n",
       " 90,\n",
       " 92,\n",
       " 94,\n",
       " 96,\n",
       " 98,\n",
       " 100,\n",
       " 102,\n",
       " 104,\n",
       " 106,\n",
       " 108,\n",
       " 110,\n",
       " 112,\n",
       " 114,\n",
       " 116,\n",
       " 118,\n",
       " 120,\n",
       " 122,\n",
       " 124,\n",
       " 126,\n",
       " 128,\n",
       " 130,\n",
       " 132,\n",
       " 134,\n",
       " 136,\n",
       " 138,\n",
       " 140,\n",
       " 142,\n",
       " 144,\n",
       " 146,\n",
       " 148,\n",
       " 150,\n",
       " 152,\n",
       " 154,\n",
       " 156,\n",
       " 158,\n",
       " 160,\n",
       " 162,\n",
       " 164,\n",
       " 166,\n",
       " 168,\n",
       " 170,\n",
       " 172,\n",
       " 174,\n",
       " 176,\n",
       " 178,\n",
       " 180,\n",
       " 182,\n",
       " 184,\n",
       " 186,\n",
       " 188,\n",
       " 190,\n",
       " 192,\n",
       " 194,\n",
       " 196,\n",
       " 198,\n",
       " 200,\n",
       " 202,\n",
       " 204,\n",
       " 206,\n",
       " 208,\n",
       " 210,\n",
       " 212,\n",
       " 214,\n",
       " 216,\n",
       " 218,\n",
       " 220,\n",
       " 222,\n",
       " 224,\n",
       " 226,\n",
       " 228,\n",
       " 230,\n",
       " 232,\n",
       " 234,\n",
       " 236,\n",
       " 238,\n",
       " 240,\n",
       " 242,\n",
       " 244,\n",
       " 246,\n",
       " 248,\n",
       " 250,\n",
       " 252,\n",
       " 254,\n",
       " 256,\n",
       " 258,\n",
       " 260,\n",
       " 262,\n",
       " 264,\n",
       " 266,\n",
       " 268,\n",
       " 270,\n",
       " 272,\n",
       " 274,\n",
       " 276,\n",
       " 278,\n",
       " 280,\n",
       " 282,\n",
       " 284,\n",
       " 286,\n",
       " 288,\n",
       " 290,\n",
       " 292,\n",
       " 294,\n",
       " 296,\n",
       " 298,\n",
       " 300,\n",
       " 302,\n",
       " 304,\n",
       " 306,\n",
       " 308,\n",
       " 310,\n",
       " 312,\n",
       " 314,\n",
       " 316,\n",
       " 318,\n",
       " 320,\n",
       " 322,\n",
       " 324,\n",
       " 326,\n",
       " 328,\n",
       " 330,\n",
       " 332,\n",
       " 334,\n",
       " 336,\n",
       " 338,\n",
       " 340,\n",
       " 342,\n",
       " 344,\n",
       " 346,\n",
       " 348,\n",
       " 350,\n",
       " 352,\n",
       " 354,\n",
       " 356,\n",
       " 358,\n",
       " 360,\n",
       " 362,\n",
       " 364,\n",
       " 366,\n",
       " 368,\n",
       " 370,\n",
       " 372,\n",
       " 374,\n",
       " 376,\n",
       " 378,\n",
       " 380,\n",
       " 382,\n",
       " 384,\n",
       " 386,\n",
       " 388,\n",
       " 390,\n",
       " 392,\n",
       " 394,\n",
       " 396,\n",
       " 398,\n",
       " 400,\n",
       " 402,\n",
       " 404,\n",
       " 406,\n",
       " 408,\n",
       " 410,\n",
       " 412,\n",
       " 414,\n",
       " 416,\n",
       " 418,\n",
       " 420,\n",
       " 422,\n",
       " 424,\n",
       " 426,\n",
       " 428,\n",
       " 430,\n",
       " 432,\n",
       " 434,\n",
       " 436,\n",
       " 438,\n",
       " 440,\n",
       " 442,\n",
       " 444,\n",
       " 446,\n",
       " 448,\n",
       " 450,\n",
       " 452,\n",
       " 454,\n",
       " 456,\n",
       " 458,\n",
       " 460,\n",
       " 462,\n",
       " 464,\n",
       " 466,\n",
       " 468,\n",
       " 470,\n",
       " 472,\n",
       " 474,\n",
       " 476,\n",
       " 478,\n",
       " 480,\n",
       " 482,\n",
       " 484,\n",
       " 486,\n",
       " 488,\n",
       " 490,\n",
       " 492,\n",
       " 494,\n",
       " 496,\n",
       " 498,\n",
       " 500,\n",
       " 502,\n",
       " 504,\n",
       " 506,\n",
       " 508,\n",
       " 510,\n",
       " 512,\n",
       " 514,\n",
       " 516,\n",
       " 518,\n",
       " 520,\n",
       " 522,\n",
       " 524,\n",
       " 526,\n",
       " 528,\n",
       " 530,\n",
       " 532,\n",
       " 534,\n",
       " 536,\n",
       " 538,\n",
       " 540,\n",
       " 542,\n",
       " 544,\n",
       " 546,\n",
       " 548,\n",
       " 550,\n",
       " 552,\n",
       " 554,\n",
       " 556,\n",
       " 558,\n",
       " 560,\n",
       " 562,\n",
       " 564,\n",
       " 566,\n",
       " 568,\n",
       " 570,\n",
       " 572,\n",
       " 574,\n",
       " 576,\n",
       " 578,\n",
       " 580,\n",
       " 582,\n",
       " 584,\n",
       " 586,\n",
       " 588,\n",
       " 590,\n",
       " 592,\n",
       " 594,\n",
       " 596,\n",
       " 598,\n",
       " 600,\n",
       " 602,\n",
       " 604,\n",
       " 606,\n",
       " 608,\n",
       " 610,\n",
       " 612,\n",
       " 614,\n",
       " 616,\n",
       " 618,\n",
       " 620,\n",
       " 622,\n",
       " 624,\n",
       " 626,\n",
       " 628,\n",
       " 630,\n",
       " 632,\n",
       " 634,\n",
       " 636,\n",
       " 638,\n",
       " 640,\n",
       " 642,\n",
       " 644,\n",
       " 646,\n",
       " 648,\n",
       " 650,\n",
       " 652,\n",
       " 654,\n",
       " 656,\n",
       " 658,\n",
       " 660,\n",
       " 662,\n",
       " 664,\n",
       " 666,\n",
       " 668,\n",
       " 670,\n",
       " 672,\n",
       " 674,\n",
       " 676,\n",
       " 678,\n",
       " 680,\n",
       " 682,\n",
       " 684,\n",
       " 686,\n",
       " 688,\n",
       " 690,\n",
       " 692,\n",
       " 694,\n",
       " 696,\n",
       " 698,\n",
       " 700,\n",
       " 702,\n",
       " 704,\n",
       " 706,\n",
       " 708,\n",
       " 710,\n",
       " 712,\n",
       " 714,\n",
       " 716,\n",
       " 718,\n",
       " 720,\n",
       " 722,\n",
       " 724,\n",
       " 726,\n",
       " 728,\n",
       " 730,\n",
       " 732,\n",
       " 734,\n",
       " 736,\n",
       " 738,\n",
       " 740,\n",
       " 742,\n",
       " 744,\n",
       " 746,\n",
       " 748,\n",
       " 750,\n",
       " 752,\n",
       " 754,\n",
       " 756,\n",
       " 758,\n",
       " 760,\n",
       " 762,\n",
       " 764,\n",
       " 766,\n",
       " 768,\n",
       " 770,\n",
       " 772,\n",
       " 774,\n",
       " 776,\n",
       " 778,\n",
       " 780,\n",
       " 782,\n",
       " 784,\n",
       " 786,\n",
       " 788,\n",
       " 790,\n",
       " 792,\n",
       " 794,\n",
       " 796,\n",
       " 798,\n",
       " 800,\n",
       " 802,\n",
       " 804,\n",
       " 806,\n",
       " 808,\n",
       " 810,\n",
       " 812,\n",
       " 814,\n",
       " 816,\n",
       " 818,\n",
       " 820,\n",
       " 822,\n",
       " 824,\n",
       " 826,\n",
       " 828,\n",
       " 830,\n",
       " 832,\n",
       " 834,\n",
       " 836,\n",
       " 838,\n",
       " 840,\n",
       " 842,\n",
       " 844,\n",
       " 846,\n",
       " 848,\n",
       " 850,\n",
       " 852,\n",
       " 854,\n",
       " 856,\n",
       " 858,\n",
       " 860,\n",
       " 862,\n",
       " 864,\n",
       " 866,\n",
       " 868,\n",
       " 870,\n",
       " 872,\n",
       " 874,\n",
       " 876,\n",
       " 878,\n",
       " 880,\n",
       " 882,\n",
       " 884,\n",
       " 886,\n",
       " 888,\n",
       " 890,\n",
       " 892,\n",
       " 894,\n",
       " 896,\n",
       " 898,\n",
       " 900,\n",
       " 902,\n",
       " 904,\n",
       " 906,\n",
       " 908,\n",
       " 910,\n",
       " 912,\n",
       " 914,\n",
       " 916,\n",
       " 918,\n",
       " 920,\n",
       " 922,\n",
       " 924,\n",
       " 926,\n",
       " 928,\n",
       " 930,\n",
       " 932,\n",
       " 934,\n",
       " 936,\n",
       " 938,\n",
       " 940,\n",
       " 942,\n",
       " 944,\n",
       " 946,\n",
       " 948,\n",
       " 950,\n",
       " 952,\n",
       " 954,\n",
       " 956,\n",
       " 958,\n",
       " 960,\n",
       " 962,\n",
       " 964,\n",
       " 966,\n",
       " 968,\n",
       " 970,\n",
       " 972,\n",
       " 974,\n",
       " 976,\n",
       " 978,\n",
       " 980,\n",
       " 982,\n",
       " 984,\n",
       " 986,\n",
       " 988,\n",
       " 990,\n",
       " 992,\n",
       " 994,\n",
       " 996,\n",
       " 998,\n",
       " 1000]"
      ]
     },
     "execution_count": 19,
     "metadata": {},
     "output_type": "execute_result"
    }
   ],
   "source": [
    "#### 0부터 1000까지 짝수만 저장된 리스를 생성하려면?\n",
    "import numpy as np\n",
    "import math\n",
    "\n",
    "a = []\n",
    "for i in range(0, 1001, 2):\n",
    "    a.append(i)\n",
    "\n",
    "a"
   ]
  },
  {
   "cell_type": "markdown",
   "id": "73ce6c64-80d1-408a-8e5f-2a5b9a3ae9b1",
   "metadata": {},
   "source": [
    "- 리스트 한 줄로 만드는 방법"
   ]
  },
  {
   "cell_type": "code",
   "execution_count": 13,
   "id": "d4a2aa1b-85c3-4592-b66e-e9a3413dea5f",
   "metadata": {},
   "outputs": [
    {
     "name": "stdout",
     "output_type": "stream",
     "text": [
      "[0, 1, 2, 3, 4, 5, 6, 7, 8, 9, 10]\n",
      "[0, 1, 2, 3, 4, 5, 6, 7, 8, 9, 10]\n"
     ]
    }
   ],
   "source": [
    "a = []\n",
    "\n",
    "for i in range(0, 10 + 1):\n",
    "    a.append(i)\n",
    "print(a)\n",
    "\n",
    "b = [i for i in range(0, 10 + 1)]\n",
    "print(b)"
   ]
  },
  {
   "cell_type": "code",
   "execution_count": 18,
   "id": "c458ee27-0632-44a2-8a97-45a58bdd1052",
   "metadata": {},
   "outputs": [
    {
     "name": "stdout",
     "output_type": "stream",
     "text": [
      "[0, 2, 4, 6, 8, 10]\n",
      "[0, 2, 4, 6, 8, 10]\n",
      "[0, 2, 4, 6, 8, 10]\n"
     ]
    }
   ],
   "source": [
    "a = []\n",
    "for i in range(0, 10 + 1):\n",
    "    if i % 2 == 0 :\n",
    "        a.append(i)\n",
    "\n",
    "print(a)\n",
    "\n",
    "b = [i for i in range(0, 10 + 1, 2)]\n",
    "print(b)\n",
    "\n",
    "c = [i for i in range(0, 10 + 1) if i % 2 == 0]\n",
    "print(c)"
   ]
  },
  {
   "cell_type": "code",
   "execution_count": 22,
   "id": "c6e640b9-98ac-49e0-a749-18aa441dab54",
   "metadata": {},
   "outputs": [
    {
     "name": "stdout",
     "output_type": "stream",
     "text": [
      "[1, 2, 3]\n",
      "[1, 2, 3]\n",
      "[1, 2, 3]\n",
      "[1, 2, 3]\n",
      "[1, 2, 3]\n"
     ]
    }
   ],
   "source": [
    "### 객체를 복사하는 3가지 방법\n",
    "a = [1, 2, 3]\n",
    "\n",
    "b = a ### 주소가 같고 새로운 객체를 만드는 것이 아니므로 자제하는 것이 좋음\n",
    "c = a[:]\n",
    "d = a.copy()\n",
    "\n",
    "from copy import copy\n",
    "e = copy(a)\n",
    "e1 = copy.copy(a) ### 가장 일반적임\n",
    "\n",
    "print(a)\n",
    "print(b)\n",
    "print(c)\n",
    "print(d)\n",
    "print(e)"
   ]
  },
  {
   "cell_type": "code",
   "execution_count": 46,
   "id": "58b8e8fa-7e88-42c9-b955-1cad62e62835",
   "metadata": {},
   "outputs": [
    {
     "name": "stdout",
     "output_type": "stream",
     "text": [
      "33.666666666666664\n"
     ]
    }
   ],
   "source": [
    "### 여자들의 평균 나이\n",
    "data = [[\"영자\", \"옥순\", \"광수\", \"순자\"],[33, 37, 39, 31],[\"여자\",\"여자\",\"남자\",\"여자\"]] \n",
    "\n",
    "a = 0\n",
    "count = 0\n",
    "\n",
    "for i in range(len(data[2])):\n",
    "    if data[2][i] == \"여자\":\n",
    "        a = a + data[1][i]\n",
    "        count = count + 1\n",
    "    mean = a / count\n",
    "\n",
    "print(mean)\n",
    "\n",
    "        "
   ]
  },
  {
   "cell_type": "markdown",
   "id": "2334945c-bd66-4d00-9111-11695b87d4b3",
   "metadata": {},
   "source": [
    "```\n",
    "sum = 0\n",
    "count = 0\n",
    "for i in range(len(data[2])):\n",
    "  if data[2][i] == '여자':\n",
    "    sum = sum + data[1][i]\n",
    "    count = count + 1\n",
    "mean = sum / count\n",
    "print(mean) \n",
    "```"
   ]
  },
  {
   "cell_type": "code",
   "execution_count": 27,
   "id": "0ae1a469-7261-45a4-8393-424f478fcc44",
   "metadata": {},
   "outputs": [
    {
     "data": {
      "text/plain": [
       "'Morning'"
      ]
     },
     "execution_count": 27,
     "metadata": {},
     "output_type": "execute_result"
    }
   ],
   "source": [
    "#### M만 출력\n",
    "a = [1, 2, 3, 4, \"Hello\", \"Good Morning\"]\n",
    "a[5][5]\n",
    "\n",
    "### Morning만 출력\n",
    "a[5][5:]"
   ]
  },
  {
   "cell_type": "code",
   "execution_count": 39,
   "id": "cca5590e-fffb-4e9d-ae20-a38d1f6df787",
   "metadata": {},
   "outputs": [
    {
     "name": "stdout",
     "output_type": "stream",
     "text": [
      "[4, 3, 2, 1]\n"
     ]
    },
    {
     "data": {
      "text/plain": [
       "[4, 3, 2, 1]"
      ]
     },
     "execution_count": 39,
     "metadata": {},
     "output_type": "execute_result"
    }
   ],
   "source": [
    "#### [4, 3, 2, 1]\n",
    "##방법 1\n",
    "a = [1, 3, 4, 2]\n",
    "a.sort()\n",
    "a.reverse()\n",
    "print(a)\n",
    "\n",
    "##방법 2\n",
    "a = sorted(a)\n",
    "a.reverse()\n",
    "a"
   ]
  },
  {
   "cell_type": "markdown",
   "id": "c8ecbacd-aaed-49b3-9642-2863d2505ef6",
   "metadata": {},
   "source": [
    "# 수업"
   ]
  },
  {
   "cell_type": "markdown",
   "id": "4479a2f2-6620-4a44-9c04-4be6e81cfd1b",
   "metadata": {},
   "source": [
    "- 이스케이프 문자"
   ]
  },
  {
   "cell_type": "code",
   "execution_count": 52,
   "id": "76f1f710-f9df-4194-a2aa-b6e1b0343e0c",
   "metadata": {},
   "outputs": [
    {
     "name": "stdout",
     "output_type": "stream",
     "text": [
      "Life is short. You need Python.\n",
      "Life is short. \n",
      "You need Python.\n",
      "Life is short. \t\tYou need Python.\n"
     ]
    }
   ],
   "source": [
    "print(\"Life is short. You need Python.\")\n",
    "print(\"Life is short. \\nYou need Python.\")\n",
    "print(\"Life is short. \\t\\tYou need Python.\")"
   ]
  },
  {
   "cell_type": "code",
   "execution_count": 57,
   "id": "9f2fc718-c295-4b62-9aca-3789b0608180",
   "metadata": {},
   "outputs": [
    {
     "name": "stdout",
     "output_type": "stream",
     "text": [
      "그가 나에게 \"사랑해요\"라고 말했다.\n",
      "그가 나에게 '사랑해요'라고 말했다.\n"
     ]
    }
   ],
   "source": [
    "print(\"그가 나에게 \\\"사랑해요\\\"라고 말했다.\")\n",
    "print('그가 나에게 \\'사랑해요\\'라고 말했다.')"
   ]
  },
  {
   "cell_type": "markdown",
   "id": "783cf7da-ebd1-46ee-b343-37067f1de1e3",
   "metadata": {},
   "source": [
    "## List Comprehension"
   ]
  },
  {
   "cell_type": "code",
   "execution_count": 58,
   "id": "67ba10dc-85cc-4238-8ff6-23e03791c365",
   "metadata": {},
   "outputs": [
    {
     "data": {
      "text/plain": [
       "[3, 6, 9, 12]"
      ]
     },
     "execution_count": 58,
     "metadata": {},
     "output_type": "execute_result"
    }
   ],
   "source": [
    "a = [1, 2, 3, 4]\n",
    "b = []\n",
    "\n",
    "for i in a:\n",
    "    b.append(i*3)\n",
    "\n",
    "b"
   ]
  },
  {
   "cell_type": "code",
   "execution_count": 59,
   "id": "c1636bd2-028b-403c-be86-9ddf3a7f7816",
   "metadata": {},
   "outputs": [
    {
     "data": {
      "text/plain": [
       "[3, 6, 9, 12]"
      ]
     },
     "execution_count": 59,
     "metadata": {},
     "output_type": "execute_result"
    }
   ],
   "source": [
    "a = [1, 2, 3, 4]\n",
    "[i*3 for i in a]"
   ]
  },
  {
   "cell_type": "code",
   "execution_count": 60,
   "id": "f6686a21-8c5f-4e54-8347-cf5c2b5c6098",
   "metadata": {},
   "outputs": [
    {
     "data": {
      "text/plain": [
       "[6, 12]"
      ]
     },
     "execution_count": 60,
     "metadata": {},
     "output_type": "execute_result"
    }
   ],
   "source": [
    "a = [1, 2, 3, 4]\n",
    "b = []\n",
    "\n",
    "for i in a:\n",
    "    if i % 2 == 0:\n",
    "        b.append(i*3)\n",
    "\n",
    "b"
   ]
  },
  {
   "cell_type": "code",
   "execution_count": 62,
   "id": "c32c504d-835f-42ae-a6cd-808397950465",
   "metadata": {},
   "outputs": [
    {
     "data": {
      "text/plain": [
       "[6, 12]"
      ]
     },
     "execution_count": 62,
     "metadata": {},
     "output_type": "execute_result"
    }
   ],
   "source": [
    "a = [1, 2, 3, 4]\n",
    "[i*3 for i in a if i % 2 == 0]"
   ]
  },
  {
   "cell_type": "markdown",
   "id": "b54d0c62-3587-4a7b-a1d4-217e1e02e067",
   "metadata": {},
   "source": [
    "## while 문"
   ]
  },
  {
   "cell_type": "markdown",
   "id": "42028720-47f4-4a52-9c1d-5d444a220abf",
   "metadata": {},
   "source": [
    "- for 문 : 반복 횟수가 정해져있을 때\n",
    "- while 문 : 반복 횟수가 정해져있지 않을 때"
   ]
  },
  {
   "cell_type": "code",
   "execution_count": null,
   "id": "2ec4acb7-5038-4491-b980-c5d11f92240d",
   "metadata": {},
   "outputs": [],
   "source": [
    "i = 0\n",
    "while i < 10:\n",
    "    print(i, end = \", \")\n",
    "    i += 1"
   ]
  },
  {
   "cell_type": "code",
   "execution_count": 1,
   "id": "daa40e8a-3040-4943-8bb9-e17c79f2a6ce",
   "metadata": {},
   "outputs": [
    {
     "name": "stdout",
     "output_type": "stream",
     "text": [
      "0, 1, 2, 3, 4, 5, 6, 7, 8, 9, 끝\n"
     ]
    }
   ],
   "source": [
    "#break\n",
    "#ctrl + c\n",
    "#무한루프 벗어나고싶을 때\n",
    "import time\n",
    "i = 0\n",
    "while True : \n",
    "    print(i, end = \", \")\n",
    "    i += 1\n",
    "    time.sleep(1)\n",
    "    if i == 10:\n",
    "        break\n",
    "        \n",
    "print(\"끝\")"
   ]
  },
  {
   "cell_type": "code",
   "execution_count": 3,
   "id": "a6381697-761d-4778-9dac-47302d29a1e7",
   "metadata": {},
   "outputs": [
    {
     "name": "stdout",
     "output_type": "stream",
     "text": [
      "55\n"
     ]
    }
   ],
   "source": [
    "### 1부터 10까지의 합을 while문으로\n",
    "sum = 0\n",
    "i = 0\n",
    "\n",
    "while i < 10 + 1:\n",
    "    sum = sum + i\n",
    "    i = i + 1\n",
    "\n",
    "print(sum)"
   ]
  },
  {
   "cell_type": "code",
   "execution_count": 4,
   "id": "083ad8ed-4f79-4a45-aeed-da9db9938306",
   "metadata": {},
   "outputs": [
    {
     "name": "stdout",
     "output_type": "stream",
     "text": [
      "55\n"
     ]
    }
   ],
   "source": [
    "i = 0\n",
    "sum = 0\n",
    "while i < 10 :\n",
    "    i += 1\n",
    "    sum += i\n",
    "print(sum)"
   ]
  },
  {
   "cell_type": "code",
   "execution_count": 4,
   "id": "58346efb-f110-40b8-bc25-e1664f196177",
   "metadata": {},
   "outputs": [
    {
     "name": "stdout",
     "output_type": "stream",
     "text": [
      "18\n"
     ]
    }
   ],
   "source": [
    "### 1부터 10까지 3의 배수만을 합으로\n",
    "i = 0\n",
    "sum = 0\n",
    "\n",
    "while i < 10:\n",
    "    i += 1\n",
    "    if i % 3 == 0:\n",
    "        sum += i\n",
    "\n",
    "print(sum)"
   ]
  },
  {
   "cell_type": "code",
   "execution_count": 3,
   "id": "3c5e3db4-40d5-490e-931e-1f9614f1cfeb",
   "metadata": {},
   "outputs": [
    {
     "name": "stdout",
     "output_type": "stream",
     "text": [
      "1\n",
      "2\n",
      "3\n",
      "4\n",
      "5\n",
      "6\n",
      "7\n",
      "8\n",
      "9\n",
      "10\n"
     ]
    }
   ],
   "source": [
    "i = 0\n",
    "sum = 0\n",
    "\n",
    "while i < 10:\n",
    "    i += 1\n",
    "    print(i)\n"
   ]
  },
  {
   "cell_type": "code",
   "execution_count": 5,
   "id": "4ab0f29e-475a-4269-80cc-efafbe031cbf",
   "metadata": {},
   "outputs": [
    {
     "name": "stdout",
     "output_type": "stream",
     "text": [
      "3\n",
      "6\n",
      "9\n"
     ]
    }
   ],
   "source": [
    "i = 0\n",
    "sum = 0\n",
    "\n",
    "while i < 10:\n",
    "    i += 1\n",
    "    if i % 3 == 0:\n",
    "        print(i)"
   ]
  },
  {
   "cell_type": "code",
   "execution_count": 4,
   "id": "d534b4bd-a395-486f-b307-a5b8ab2169d7",
   "metadata": {},
   "outputs": [
    {
     "name": "stdout",
     "output_type": "stream",
     "text": [
      "1\n",
      "2\n",
      "4\n",
      "5\n",
      "7\n",
      "8\n",
      "10\n"
     ]
    }
   ],
   "source": [
    "i = 0\n",
    "sum = 0\n",
    "\n",
    "while i < 10:\n",
    "    i += 1\n",
    "    if i % 3 == 0:\n",
    "        continue ###다시 맨 윗줄로 올라감\n",
    "    print(i)"
   ]
  },
  {
   "cell_type": "code",
   "execution_count": 8,
   "id": "b3ceb81d-a2cc-4940-b065-ed4f4272ebe9",
   "metadata": {},
   "outputs": [
    {
     "name": "stdout",
     "output_type": "stream",
     "text": [
      "37\n"
     ]
    }
   ],
   "source": [
    "### 3의 배수가 아닌 수의 합(1부터 10까지)\n",
    "i = 0\n",
    "sum = 0\n",
    "\n",
    "while i < 10:\n",
    "    i += 1\n",
    "    if i % 3 == 0:\n",
    "        continue\n",
    "    sum += i\n",
    "\n",
    "print(sum)"
   ]
  },
  {
   "cell_type": "markdown",
   "id": "130e610e-71f2-45d6-a221-3ec935727d81",
   "metadata": {},
   "source": [
    "- random"
   ]
  },
  {
   "cell_type": "code",
   "execution_count": 10,
   "id": "320768c4-387c-4a05-b681-69a8d21377fd",
   "metadata": {},
   "outputs": [],
   "source": [
    "import random "
   ]
  },
  {
   "cell_type": "code",
   "execution_count": 30,
   "id": "2048c731-c8bc-4854-9620-f76d8e13240a",
   "metadata": {},
   "outputs": [
    {
     "data": {
      "text/plain": [
       "3"
      ]
     },
     "execution_count": 30,
     "metadata": {},
     "output_type": "execute_result"
    }
   ],
   "source": [
    "random.randint(1, 3) ### 랜덤값 1개만 나옴"
   ]
  },
  {
   "cell_type": "code",
   "execution_count": 31,
   "id": "ab39e35d-8069-4a7b-ac0c-c38077633792",
   "metadata": {},
   "outputs": [],
   "source": [
    "i = random.randint(1, 10)"
   ]
  },
  {
   "cell_type": "code",
   "execution_count": 85,
   "id": "df38f7a0-7b33-49b5-909b-617e5726b362",
   "metadata": {},
   "outputs": [
    {
     "name": "stdout",
     "output_type": "stream",
     "text": [
      "10009\n"
     ]
    }
   ],
   "source": [
    "### 7보다 작은 수들의 합\n",
    "sum = 0\n",
    "\n",
    "while True:\n",
    "    i = random.randint(1, 10)\n",
    "    if i < 7 :\n",
    "        sum += i\n",
    "        continue\n",
    "    if sum > 10000:\n",
    "        print(sum)\n",
    "        break\n"
   ]
  },
  {
   "cell_type": "code",
   "execution_count": 100,
   "id": "cf69c3af-3448-471b-966f-8d9e2fea3038",
   "metadata": {},
   "outputs": [
    {
     "name": "stdout",
     "output_type": "stream",
     "text": [
      "3 6 2 6 6 4 "
     ]
    },
    {
     "data": {
      "text/plain": [
       "6"
      ]
     },
     "execution_count": 100,
     "metadata": {},
     "output_type": "execute_result"
    }
   ],
   "source": [
    "sum = 0\n",
    "while True : \n",
    "    i = random.randint(1, 10)\n",
    "    if i > 7:\n",
    "        break\n",
    "    else: \n",
    "        print(i, end = \" \")\n",
    "        sum += 1\n",
    "\n",
    "sum"
   ]
  },
  {
   "cell_type": "code",
   "execution_count": 4,
   "id": "252ce16f-84dd-4aee-ac46-8230dac6d90e",
   "metadata": {},
   "outputs": [
    {
     "name": "stdout",
     "output_type": "stream",
     "text": [
      "2318\n"
     ]
    }
   ],
   "source": [
    "### 1부터 100까지의 수들 중 3의 배수 또는 5의 배수의 합\n",
    "i = 0\n",
    "sum = 0\n",
    "\n",
    "while i < 100:\n",
    "    if i % 3 == 0 or i % 5 ==0:\n",
    "        sum += i\n",
    "    else:\n",
    "        pass\n",
    "    i += 1\n",
    "    \n",
    "print(sum)"
   ]
  },
  {
   "cell_type": "markdown",
   "id": "20ae2bb2-7fbe-45f7-9230-1a9923c231b8",
   "metadata": {},
   "source": [
    "- 아래처럼 if를 두 번 사용하면 중복으로 더해짐\n",
    "- elif를 사용해야함!"
   ]
  },
  {
   "cell_type": "code",
   "execution_count": 5,
   "id": "982698db-8a4f-4b18-8036-82b086065e9e",
   "metadata": {},
   "outputs": [
    {
     "name": "stdout",
     "output_type": "stream",
     "text": [
      "2633\n"
     ]
    }
   ],
   "source": [
    "i = 0\n",
    "sum = 0\n",
    "\n",
    "while i < 100:\n",
    "    if i % 3 == 0:\n",
    "        sum += i\n",
    "    if  i % 5 ==0:\n",
    "        sum += i\n",
    "    else:\n",
    "        pass\n",
    "    i += 1\n",
    "    \n",
    "print(sum)"
   ]
  },
  {
   "cell_type": "markdown",
   "id": "addfc913-2161-4cdc-93bb-5a8f3325cd5f",
   "metadata": {},
   "source": [
    "i = 0\n",
    "sum = 0\n",
    "\n",
    "while i < 100:\n",
    "    if i % 3 == 0:\n",
    "        sum += i\n",
    "    elif  i % 5 ==0:\n",
    "        sum += i\n",
    "    else:\n",
    "        pass\n",
    "    i += 1\n",
    "    \n",
    "print(sum)"
   ]
  },
  {
   "cell_type": "markdown",
   "id": "cd2b21f7-e19d-4d32-89ee-5973f3a82b5c",
   "metadata": {},
   "source": [
    "# 연습문제"
   ]
  },
  {
   "cell_type": "markdown",
   "id": "e9df56e1-2683-4a37-b705-c7b0182adc7c",
   "metadata": {},
   "source": [
    "## Q1"
   ]
  },
  {
   "cell_type": "code",
   "execution_count": 10,
   "id": "e2efc415-2cec-4629-a023-65532fd31f4f",
   "metadata": {},
   "outputs": [
    {
     "name": "stdout",
     "output_type": "stream",
     "text": [
      "need\n"
     ]
    }
   ],
   "source": [
    "a = \"Life is too short, you need python\"\n",
    "\n",
    "if \"wife\" in a:\n",
    "    print(\"wife\")\n",
    "elif \"python\" in a and \"you\" not in a:\n",
    "    print(\"python\")\n",
    "elif \"need\" in a :\n",
    "    print(\"need\")\n",
    "elif \"shirt\" not in a:\n",
    "    print(\"shirt\")\n",
    "else:\n",
    "    print(\"none\")"
   ]
  },
  {
   "cell_type": "markdown",
   "id": "24aeeac7-be9c-48d1-b710-6760bb2c03d9",
   "metadata": {},
   "source": [
    "## Q2"
   ]
  },
  {
   "cell_type": "code",
   "execution_count": 13,
   "id": "da92a60b-15f9-4fdf-b7b6-371d58885fee",
   "metadata": {},
   "outputs": [
    {
     "name": "stdout",
     "output_type": "stream",
     "text": [
      "166833\n"
     ]
    }
   ],
   "source": [
    "### 1~1000 3의 배수의 합\n",
    "result = 0\n",
    "i = 1\n",
    "\n",
    "while i <= 1000:\n",
    "    if i % 3 == 0:\n",
    "        result += i\n",
    "    i += 1\n",
    "    \n",
    "print(result)"
   ]
  },
  {
   "cell_type": "markdown",
   "id": "d04d1d48-c1d1-4302-9102-374b463f1b42",
   "metadata": {},
   "source": [
    "## Q3"
   ]
  },
  {
   "cell_type": "code",
   "execution_count": 15,
   "id": "fc4d93f2-c8d6-495d-aa94-e02380771849",
   "metadata": {},
   "outputs": [
    {
     "name": "stdout",
     "output_type": "stream",
     "text": [
      "*\n",
      "**\n",
      "***\n",
      "****\n",
      "*****\n"
     ]
    }
   ],
   "source": [
    "i = 0\n",
    "\n",
    "while True:\n",
    "    i += 1\n",
    "    if i > 5:\n",
    "        break\n",
    "    print(i*\"*\")\n",
    "\n",
    "    "
   ]
  },
  {
   "cell_type": "markdown",
   "id": "86f144a4-e807-4e9f-89de-4aef7c948848",
   "metadata": {},
   "source": [
    "## Q4"
   ]
  },
  {
   "cell_type": "code",
   "execution_count": 16,
   "id": "e092607b-60b7-4375-88b4-49f5963dbfba",
   "metadata": {
    "collapsed": true,
    "jupyter": {
     "outputs_hidden": true
    },
    "tags": []
   },
   "outputs": [
    {
     "name": "stdout",
     "output_type": "stream",
     "text": [
      "1\n",
      "2\n",
      "3\n",
      "4\n",
      "5\n",
      "6\n",
      "7\n",
      "8\n",
      "9\n",
      "10\n",
      "11\n",
      "12\n",
      "13\n",
      "14\n",
      "15\n",
      "16\n",
      "17\n",
      "18\n",
      "19\n",
      "20\n",
      "21\n",
      "22\n",
      "23\n",
      "24\n",
      "25\n",
      "26\n",
      "27\n",
      "28\n",
      "29\n",
      "30\n",
      "31\n",
      "32\n",
      "33\n",
      "34\n",
      "35\n",
      "36\n",
      "37\n",
      "38\n",
      "39\n",
      "40\n",
      "41\n",
      "42\n",
      "43\n",
      "44\n",
      "45\n",
      "46\n",
      "47\n",
      "48\n",
      "49\n",
      "50\n",
      "51\n",
      "52\n",
      "53\n",
      "54\n",
      "55\n",
      "56\n",
      "57\n",
      "58\n",
      "59\n",
      "60\n",
      "61\n",
      "62\n",
      "63\n",
      "64\n",
      "65\n",
      "66\n",
      "67\n",
      "68\n",
      "69\n",
      "70\n",
      "71\n",
      "72\n",
      "73\n",
      "74\n",
      "75\n",
      "76\n",
      "77\n",
      "78\n",
      "79\n",
      "80\n",
      "81\n",
      "82\n",
      "83\n",
      "84\n",
      "85\n",
      "86\n",
      "87\n",
      "88\n",
      "89\n",
      "90\n",
      "91\n",
      "92\n",
      "93\n",
      "94\n",
      "95\n",
      "96\n",
      "97\n",
      "98\n",
      "99\n",
      "100\n"
     ]
    }
   ],
   "source": [
    "for i in range(1, 100 + 1):\n",
    "    print(i)"
   ]
  },
  {
   "cell_type": "markdown",
   "id": "95699e08-82a5-4f57-904e-dc2350feaeba",
   "metadata": {},
   "source": [
    "## Q5"
   ]
  },
  {
   "cell_type": "code",
   "execution_count": 17,
   "id": "5fdaa560-838f-40da-ac8d-fec4330c9396",
   "metadata": {},
   "outputs": [
    {
     "name": "stdout",
     "output_type": "stream",
     "text": [
      "79.0\n"
     ]
    }
   ],
   "source": [
    "A = [70, 60, 55, 75, 95, 90, 80, 80, 85, 100]\n",
    "total = 0\n",
    "for score in A:\n",
    "    total += score\n",
    "\n",
    "average = total / len(A)\n",
    "\n",
    "print(average)"
   ]
  },
  {
   "cell_type": "markdown",
   "id": "7b6a2408-4226-485e-82ce-b1ecd9759701",
   "metadata": {},
   "source": [
    "## Q6"
   ]
  },
  {
   "cell_type": "code",
   "execution_count": 20,
   "id": "2920436b-8449-4c28-8f7a-70fc05d3ac76",
   "metadata": {},
   "outputs": [
    {
     "name": "stdout",
     "output_type": "stream",
     "text": [
      "[2, 6, 10]\n",
      "[2, 6, 10]\n"
     ]
    }
   ],
   "source": [
    "numbers = [1, 2, 3, 4, 5]\n",
    "\n",
    "result1 = []\n",
    "for n in numbers:\n",
    "    if n % 2 == 1:\n",
    "        result1.append(n*2)\n",
    "print(result1)\n",
    "\n",
    "result2 = [n*2 for n in numbers if n % 2 == 1]\n",
    "print(result2)"
   ]
  },
  {
   "cell_type": "markdown",
   "id": "9b92538a-8533-4608-af2c-5038d8ac98c6",
   "metadata": {},
   "source": [
    "# 함수"
   ]
  },
  {
   "cell_type": "markdown",
   "id": "377969c1-67c1-4c2b-85d5-e5c54203e754",
   "metadata": {},
   "source": [
    "```\n",
    "def 함수이름( , ):\n",
    "    실행할 문장\n",
    "    return 변수\n",
    "```"
   ]
  },
  {
   "cell_type": "code",
   "execution_count": 21,
   "id": "c6093190-226f-4401-92c8-81475df52b48",
   "metadata": {},
   "outputs": [
    {
     "data": {
      "text/plain": [
       "4"
      ]
     },
     "execution_count": 21,
     "metadata": {},
     "output_type": "execute_result"
    }
   ],
   "source": [
    "def add(a, b):\n",
    "    c = a + b\n",
    "    return c\n",
    "\n",
    "add(1, 3)"
   ]
  },
  {
   "cell_type": "code",
   "execution_count": 23,
   "id": "a00a1ff3-de82-4815-9e81-1565fac1495d",
   "metadata": {},
   "outputs": [
    {
     "name": "stdout",
     "output_type": "stream",
     "text": [
      "4\n"
     ]
    }
   ],
   "source": [
    "def add(a, b):\n",
    "    c = a + b\n",
    "    print(c)\n",
    "    \n",
    "add(1, 3)\n",
    "### 값은 나와도 print가 아닌 return을 사용해야함\n",
    "### return이 있어야 함수가 끝남"
   ]
  },
  {
   "cell_type": "code",
   "execution_count": 25,
   "id": "45e7ded5-3520-4dca-8c1d-f4f4569ca43e",
   "metadata": {},
   "outputs": [
    {
     "data": {
      "text/plain": [
       "40"
      ]
     },
     "execution_count": 25,
     "metadata": {},
     "output_type": "execute_result"
    }
   ],
   "source": [
    "# 입력받은 것을 2배해서 출력\n",
    "def twice(number):\n",
    "    return number*2\n",
    "\n",
    "def twice1(a):\n",
    "    b = a*2\n",
    "    return b\n",
    "\n",
    "twice(20)\n",
    "twice1(20)"
   ]
  },
  {
   "cell_type": "markdown",
   "id": "82d1b57c-cf56-4f7e-8bae-156076bfdeb4",
   "metadata": {},
   "source": [
    "### 입력값이 없는 경우"
   ]
  },
  {
   "cell_type": "code",
   "execution_count": 26,
   "id": "64e8e775-de17-41c3-adf5-e9a8827c6d35",
   "metadata": {},
   "outputs": [],
   "source": [
    "def add():\n",
    "    a = 10\n",
    "    b = 20\n",
    "    return a + b"
   ]
  },
  {
   "cell_type": "code",
   "execution_count": 28,
   "id": "2acc12a7-5f1c-40d9-bd1f-ad094817cc27",
   "metadata": {},
   "outputs": [
    {
     "data": {
      "text/plain": [
       "30"
      ]
     },
     "execution_count": 28,
     "metadata": {},
     "output_type": "execute_result"
    }
   ],
   "source": [
    "add()"
   ]
  },
  {
   "cell_type": "code",
   "execution_count": 30,
   "id": "2cde7970-4701-4323-92f0-8324b5a1ff5f",
   "metadata": {},
   "outputs": [
    {
     "data": {
      "text/plain": [
       "6"
      ]
     },
     "execution_count": 30,
     "metadata": {},
     "output_type": "execute_result"
    }
   ],
   "source": [
    "###홀수이면 2배, 짝수이면 나누기 2해서 리턴\n",
    "\n",
    "def odd_even(a):\n",
    "    if a % 2 == 0:\n",
    "        return a/2\n",
    "    else:\n",
    "        return a*2\n",
    "    \n",
    "odd_even(4)\n",
    "odd_even(3)"
   ]
  },
  {
   "cell_type": "markdown",
   "id": "d9c22b93-ff92-4ef4-b09f-7273fcf00c2c",
   "metadata": {},
   "source": [
    "### 리턴값이 2개 이상일 수 있다."
   ]
  },
  {
   "cell_type": "code",
   "execution_count": 31,
   "id": "9512b25c-f329-4b99-82e3-c84fbb08841c",
   "metadata": {},
   "outputs": [],
   "source": [
    "def add():\n",
    "    a = 10\n",
    "    b = 20\n",
    "    return a+b, a-b"
   ]
  },
  {
   "cell_type": "code",
   "execution_count": 32,
   "id": "61945f0f-1a3f-43c2-9c04-8dcf92ec879f",
   "metadata": {},
   "outputs": [
    {
     "data": {
      "text/plain": [
       "(30, -10)"
      ]
     },
     "execution_count": 32,
     "metadata": {},
     "output_type": "execute_result"
    }
   ],
   "source": [
    "add()"
   ]
  },
  {
   "cell_type": "code",
   "execution_count": 33,
   "id": "9e2c7b2c-38d8-4c05-aced-425813b5cb4f",
   "metadata": {},
   "outputs": [],
   "source": [
    "a, b = add() ## 2개의 리턴값을 변수로 저장하고싶을 때"
   ]
  },
  {
   "cell_type": "code",
   "execution_count": 34,
   "id": "fdf14c79-8c86-4889-8206-1dbc4ea89497",
   "metadata": {},
   "outputs": [
    {
     "data": {
      "text/plain": [
       "30"
      ]
     },
     "execution_count": 34,
     "metadata": {},
     "output_type": "execute_result"
    }
   ],
   "source": [
    "a"
   ]
  },
  {
   "cell_type": "code",
   "execution_count": 35,
   "id": "f79e8779-e6c0-497b-bc99-79424de313b0",
   "metadata": {},
   "outputs": [
    {
     "data": {
      "text/plain": [
       "-10"
      ]
     },
     "execution_count": 35,
     "metadata": {},
     "output_type": "execute_result"
    }
   ],
   "source": [
    "b"
   ]
  },
  {
   "cell_type": "markdown",
   "id": "35beeffd-3963-4a76-8a1b-a97cd4720e60",
   "metadata": {},
   "source": [
    "### 기본값이 있는 경우"
   ]
  },
  {
   "cell_type": "code",
   "execution_count": 36,
   "id": "72eb7195-ef7e-4618-aed8-f4b94839b104",
   "metadata": {},
   "outputs": [
    {
     "data": {
      "text/plain": [
       "103"
      ]
     },
     "execution_count": 36,
     "metadata": {},
     "output_type": "execute_result"
    }
   ],
   "source": [
    "def add(a, b, c = 100):\n",
    "    result = a + b + c\n",
    "    return result\n",
    "\n",
    "add(1, 2) ### default값이 있으면 사용자가 c의 값을 안주면 기본값을 사용"
   ]
  },
  {
   "cell_type": "code",
   "execution_count": 37,
   "id": "7c084264-d92a-41dd-bcb0-87d2d7c80546",
   "metadata": {},
   "outputs": [
    {
     "data": {
      "text/plain": [
       "6"
      ]
     },
     "execution_count": 37,
     "metadata": {},
     "output_type": "execute_result"
    }
   ],
   "source": [
    "add(1, 2, 3)  ### default값이 있어도 사용자가 값을 지정하면 해당 값으로 바뀜"
   ]
  },
  {
   "cell_type": "code",
   "execution_count": 39,
   "id": "d9dceed1-5e77-4e2a-ba0c-9d33c8e9362d",
   "metadata": {},
   "outputs": [
    {
     "data": {
      "text/plain": [
       "6"
      ]
     },
     "execution_count": 39,
     "metadata": {},
     "output_type": "execute_result"
    }
   ],
   "source": [
    "add(a = 1, c = 3, b = 2) ### 함수 안에 위치가 뒤바뀌어도 변수를 명확하게 다 제시하면 상관없음"
   ]
  },
  {
   "cell_type": "markdown",
   "id": "7452c3d2-acd1-4516-938a-3cb8a15eaf2d",
   "metadata": {},
   "source": [
    "### 기본값은 맨 뒤에 정의됨"
   ]
  },
  {
   "cell_type": "code",
   "execution_count": 41,
   "id": "203e7f25-28c5-49ea-89cf-e63c0903a166",
   "metadata": {},
   "outputs": [
    {
     "ename": "SyntaxError",
     "evalue": "non-default argument follows default argument (2189769760.py, line 1)",
     "output_type": "error",
     "traceback": [
      "\u001b[1;36m  Input \u001b[1;32mIn [41]\u001b[1;36m\u001b[0m\n\u001b[1;33m    def add(a, b = 10, c):\u001b[0m\n\u001b[1;37m                       ^\u001b[0m\n\u001b[1;31mSyntaxError\u001b[0m\u001b[1;31m:\u001b[0m non-default argument follows default argument\n"
     ]
    }
   ],
   "source": [
    "def add(a, b = 10, c):\n",
    "    result = a + b + c\n",
    "    return result\n"
   ]
  },
  {
   "cell_type": "markdown",
   "id": "85f00ed4-50ad-4b18-855a-15cecac8331e",
   "metadata": {},
   "source": [
    "### 입력값이 여러 개인 경우"
   ]
  },
  {
   "cell_type": "code",
   "execution_count": 42,
   "id": "3940ac1b-6228-4396-b1a2-2f6be3ecf331",
   "metadata": {},
   "outputs": [],
   "source": [
    "def add(*a):\n",
    "    return a"
   ]
  },
  {
   "cell_type": "code",
   "execution_count": 43,
   "id": "aa19179d-d057-4528-9670-c294c5fa0014",
   "metadata": {},
   "outputs": [
    {
     "data": {
      "text/plain": [
       "(1, 5, 7, 4, 5, 4)"
      ]
     },
     "execution_count": 43,
     "metadata": {},
     "output_type": "execute_result"
    }
   ],
   "source": [
    "add(1, 5, 7, 4, 5, 4)"
   ]
  },
  {
   "cell_type": "code",
   "execution_count": 45,
   "id": "76eca26b-6908-4ac5-a1d8-1d1bfe46edcf",
   "metadata": {},
   "outputs": [
    {
     "data": {
      "text/plain": [
       "(100, 3, 2, 5)"
      ]
     },
     "execution_count": 45,
     "metadata": {},
     "output_type": "execute_result"
    }
   ],
   "source": [
    "def add(*args):\n",
    "    return args\n",
    "\n",
    "add(100, 3, 2, 5)"
   ]
  },
  {
   "cell_type": "code",
   "execution_count": 46,
   "id": "63269e06-3caf-4a4d-84a9-9d1facca20ea",
   "metadata": {},
   "outputs": [
    {
     "data": {
      "text/plain": [
       "27"
      ]
     },
     "execution_count": 46,
     "metadata": {},
     "output_type": "execute_result"
    }
   ],
   "source": [
    "def add(*args):\n",
    "    sum = 0\n",
    "    for i in args:\n",
    "        sum += i\n",
    "    return sum\n",
    "\n",
    "\n",
    "add(3, 5, 7, 9, 3)"
   ]
  },
  {
   "cell_type": "code",
   "execution_count": 51,
   "id": "cf2f1cc4-fddd-4eaa-a035-fdd3a6764f1f",
   "metadata": {},
   "outputs": [
    {
     "data": {
      "text/plain": [
       "6"
      ]
     },
     "execution_count": 51,
     "metadata": {},
     "output_type": "execute_result"
    }
   ],
   "source": [
    "### 1부터 입력받은 수까지의 합\n",
    "\n",
    "def add_all(a):\n",
    "    sum = 0\n",
    "    for i in range(1, a + 1):\n",
    "        sum += i\n",
    "    return sum\n",
    "\n",
    "add_all(3)"
   ]
  },
  {
   "cell_type": "code",
   "execution_count": 64,
   "id": "26d4067a-e251-4fdc-9171-13f3103e87e0",
   "metadata": {},
   "outputs": [
    {
     "name": "stdin",
     "output_type": "stream",
     "text": [
      "숫자 4\n"
     ]
    },
    {
     "data": {
      "text/plain": [
       "28"
      ]
     },
     "execution_count": 64,
     "metadata": {},
     "output_type": "execute_result"
    }
   ],
   "source": [
    "a = int(input(\"숫자\"))\n",
    "\n",
    "def add(a):\n",
    "    sum = 0\n",
    "    for i in range(a):\n",
    "        sum += i\n",
    "    return sum\n",
    "\n",
    "add(a)"
   ]
  },
  {
   "cell_type": "code",
   "execution_count": 63,
   "id": "c37aa931-bd30-4596-b045-83cf022c60a6",
   "metadata": {},
   "outputs": [
    {
     "name": "stdin",
     "output_type": "stream",
     "text": [
      "smaller 3\n",
      "bigger 5\n"
     ]
    },
    {
     "data": {
      "text/plain": [
       "12"
      ]
     },
     "execution_count": 63,
     "metadata": {},
     "output_type": "execute_result"
    }
   ],
   "source": [
    "### 두 수를 입력받아서 합\n",
    "a = int(input(\"smaller\"))\n",
    "b = int(input(\"bigger\"))\n",
    "\n",
    "def add_all(a, b):\n",
    "    sum = 0\n",
    "    for i in range(a, b+1):\n",
    "        sum += i\n",
    "    return sum\n",
    "\n",
    "add_all(a, b)"
   ]
  },
  {
   "cell_type": "markdown",
   "id": "061e6c1c-1339-4f36-b0c5-ec2fa6ebe776",
   "metadata": {},
   "source": [
    "### return과 print의 차이"
   ]
  },
  {
   "cell_type": "code",
   "execution_count": 65,
   "id": "87afd1bd-3d93-474b-9080-03ede43be668",
   "metadata": {},
   "outputs": [],
   "source": [
    "def func_r(a):\n",
    "    return(a*2)\n",
    "\n",
    "def func_p(a):\n",
    "    print(a*2)"
   ]
  },
  {
   "cell_type": "code",
   "execution_count": 67,
   "id": "ee978a2c-3a07-483f-af5e-df79dd7ca4fb",
   "metadata": {},
   "outputs": [
    {
     "data": {
      "text/plain": [
       "6"
      ]
     },
     "execution_count": 67,
     "metadata": {},
     "output_type": "execute_result"
    }
   ],
   "source": [
    "func_r(3)"
   ]
  },
  {
   "cell_type": "code",
   "execution_count": 68,
   "id": "753f9815-9a88-4a0f-9b59-8395108377e6",
   "metadata": {},
   "outputs": [
    {
     "name": "stdout",
     "output_type": "stream",
     "text": [
      "6\n"
     ]
    }
   ],
   "source": [
    "func_p(3)"
   ]
  },
  {
   "cell_type": "code",
   "execution_count": 69,
   "id": "e7d78b61-fef4-40aa-adc8-77b09f240749",
   "metadata": {},
   "outputs": [
    {
     "data": {
      "text/plain": [
       "3.0"
      ]
     },
     "execution_count": 69,
     "metadata": {},
     "output_type": "execute_result"
    }
   ],
   "source": [
    "b = func_r(3)\n",
    "b/2"
   ]
  },
  {
   "cell_type": "code",
   "execution_count": 70,
   "id": "09e1f201-6f52-4406-a3cc-2f60702bbd98",
   "metadata": {},
   "outputs": [
    {
     "name": "stdout",
     "output_type": "stream",
     "text": [
      "6\n"
     ]
    },
    {
     "ename": "TypeError",
     "evalue": "unsupported operand type(s) for /: 'NoneType' and 'int'",
     "output_type": "error",
     "traceback": [
      "\u001b[1;31m---------------------------------------------------------------------------\u001b[0m",
      "\u001b[1;31mTypeError\u001b[0m                                 Traceback (most recent call last)",
      "Input \u001b[1;32mIn [70]\u001b[0m, in \u001b[0;36m<cell line: 2>\u001b[1;34m()\u001b[0m\n\u001b[0;32m      1\u001b[0m c \u001b[38;5;241m=\u001b[39m func_p(\u001b[38;5;241m3\u001b[39m)\n\u001b[1;32m----> 2\u001b[0m \u001b[43mc\u001b[49m\u001b[38;5;241;43m/\u001b[39;49m\u001b[38;5;241;43m2\u001b[39;49m\n",
      "\u001b[1;31mTypeError\u001b[0m: unsupported operand type(s) for /: 'NoneType' and 'int'"
     ]
    }
   ],
   "source": [
    "c = func_p(3)\n",
    "c/2"
   ]
  },
  {
   "cell_type": "code",
   "execution_count": 71,
   "id": "da15fc60-11d2-4eac-a89e-3daba7a4fdd1",
   "metadata": {},
   "outputs": [
    {
     "data": {
      "text/plain": [
       "NoneType"
      ]
     },
     "execution_count": 71,
     "metadata": {},
     "output_type": "execute_result"
    }
   ],
   "source": [
    "type(c)  ###print()는 화면에 출력만 해주고 인수에 저장하지 않음 따라서 func_p(3)의 결과가 출력만 되고 c에는 값이 저장되지 않음"
   ]
  },
  {
   "cell_type": "markdown",
   "id": "2dcc2d0f-6b30-447f-b58e-3bbcfb8b6822",
   "metadata": {},
   "source": [
    "### 키워드 파라미터"
   ]
  },
  {
   "cell_type": "code",
   "execution_count": 114,
   "id": "dc654421-b913-4f4a-ba85-2baf48684c66",
   "metadata": {},
   "outputs": [],
   "source": [
    "def kw_test(**kwargs):\n",
    "    print(kwargs)"
   ]
  },
  {
   "cell_type": "code",
   "execution_count": 115,
   "id": "c4dfc5c4-77b0-4e24-9a34-6e4845fc0e78",
   "metadata": {},
   "outputs": [
    {
     "name": "stdout",
     "output_type": "stream",
     "text": [
      "{'a': 1, 'b': 2}\n"
     ]
    }
   ],
   "source": [
    "kw_test(a = 1, b = 2)"
   ]
  },
  {
   "cell_type": "code",
   "execution_count": 117,
   "id": "87158d33-2fcd-429c-867f-f9512311b668",
   "metadata": {},
   "outputs": [
    {
     "ename": "TypeError",
     "evalue": "kw_test() takes 0 positional arguments but 4 were given",
     "output_type": "error",
     "traceback": [
      "\u001b[1;31m---------------------------------------------------------------------------\u001b[0m",
      "\u001b[1;31mTypeError\u001b[0m                                 Traceback (most recent call last)",
      "Input \u001b[1;32mIn [117]\u001b[0m, in \u001b[0;36m<cell line: 1>\u001b[1;34m()\u001b[0m\n\u001b[1;32m----> 1\u001b[0m \u001b[43mkw_test\u001b[49m\u001b[43m(\u001b[49m\u001b[38;5;241;43m1\u001b[39;49m\u001b[43m,\u001b[49m\u001b[43m \u001b[49m\u001b[38;5;241;43m2\u001b[39;49m\u001b[43m,\u001b[49m\u001b[43m \u001b[49m\u001b[38;5;241;43m3\u001b[39;49m\u001b[43m,\u001b[49m\u001b[43m \u001b[49m\u001b[38;5;241;43m4\u001b[39;49m\u001b[43m)\u001b[49m\n",
      "\u001b[1;31mTypeError\u001b[0m: kw_test() takes 0 positional arguments but 4 were given"
     ]
    }
   ],
   "source": [
    "kw_test(1, 2, 3, 4)"
   ]
  },
  {
   "cell_type": "markdown",
   "id": "5c9f68b2-3094-4b90-88b7-f0f75ece5dfb",
   "metadata": {},
   "source": [
    "### return의 다른 쓰임새"
   ]
  },
  {
   "cell_type": "code",
   "execution_count": 81,
   "id": "04bd8c6c-ae54-4e11-8468-d1983260d16e",
   "metadata": {},
   "outputs": [
    {
     "name": "stdout",
     "output_type": "stream",
     "text": [
      "나의 이름은 장유선이고 나이는 25입니다.\n"
     ]
    }
   ],
   "source": [
    "##myself(\"홍길동\", 20)\n",
    "##나의 이름은 홍길동이고 나이는 20세입니다.\n",
    "\n",
    "def myself(name, age):\n",
    "    if name == \"홍길동\" and age == 20:\n",
    "        return\n",
    "    print(f\"나의 이름은 {name}이고 나이는 {age}입니다.\")\n",
    "    \n",
    "myself(\"홍길동\", 20)\n",
    "myself(\"장유선\", 25)"
   ]
  },
  {
   "cell_type": "code",
   "execution_count": 84,
   "id": "d1ddae5c-bec5-4f21-82e3-a32b9f75cd63",
   "metadata": {},
   "outputs": [
    {
     "ename": "NameError",
     "evalue": "name 'c' is not defined",
     "output_type": "error",
     "traceback": [
      "\u001b[1;31m---------------------------------------------------------------------------\u001b[0m",
      "\u001b[1;31mNameError\u001b[0m                                 Traceback (most recent call last)",
      "Input \u001b[1;32mIn [84]\u001b[0m, in \u001b[0;36m<cell line: 6>\u001b[1;34m()\u001b[0m\n\u001b[0;32m      3\u001b[0m     \u001b[38;5;28;01mreturn\u001b[39;00m c\n\u001b[0;32m      5\u001b[0m add(\u001b[38;5;241m1\u001b[39m, \u001b[38;5;241m2\u001b[39m)\n\u001b[1;32m----> 6\u001b[0m \u001b[38;5;28mprint\u001b[39m(\u001b[43mc\u001b[49m)\n",
      "\u001b[1;31mNameError\u001b[0m: name 'c' is not defined"
     ]
    }
   ],
   "source": [
    "def add(a, b):\n",
    "    c = a + b\n",
    "    return c\n",
    "\n",
    "add(1, 2)\n",
    "print(c)\n",
    "\n",
    "### def 실행할 때에만 임시적으로 c 변수가 만들어지고 def 끝나면 사라짐"
   ]
  },
  {
   "cell_type": "code",
   "execution_count": 86,
   "id": "c49a6b70-745e-4888-9c51-735ba749c370",
   "metadata": {},
   "outputs": [
    {
     "name": "stdout",
     "output_type": "stream",
     "text": [
      "8\n",
      "5\n"
     ]
    }
   ],
   "source": [
    "d = 5 # global(전역변수)\n",
    "\n",
    "def add(a, b):\n",
    "    c = a + b # local(지역변수)\n",
    "    return c + d\n",
    "\n",
    "print(add(1, 2))\n",
    "print(d)\n",
    "\n",
    "### 함수 밖에 있는 변수들은 함수 안에도 적용됨"
   ]
  },
  {
   "cell_type": "markdown",
   "id": "d9240024-a31d-469a-b03f-28047ff90ae3",
   "metadata": {},
   "source": [
    "### lambda(이름이 없는)"
   ]
  },
  {
   "cell_type": "code",
   "execution_count": 89,
   "id": "7cd8021d-78c9-4814-9ab9-35c4f85b0746",
   "metadata": {},
   "outputs": [
    {
     "data": {
      "text/plain": [
       "3"
      ]
     },
     "execution_count": 89,
     "metadata": {},
     "output_type": "execute_result"
    }
   ],
   "source": [
    "def add(a, b):\n",
    "    return a + b\n",
    "\n",
    "add(1, 2)"
   ]
  },
  {
   "cell_type": "code",
   "execution_count": 93,
   "id": "4affd82d-7fb7-4f92-9f09-24ce88ff6f46",
   "metadata": {},
   "outputs": [
    {
     "data": {
      "text/plain": [
       "3"
      ]
     },
     "execution_count": 93,
     "metadata": {},
     "output_type": "execute_result"
    }
   ],
   "source": [
    "(lambda a, b: a + b)(1, 2)"
   ]
  },
  {
   "cell_type": "code",
   "execution_count": 97,
   "id": "83555d78-377a-4ac0-a6e1-2f32454b70ba",
   "metadata": {},
   "outputs": [
    {
     "data": {
      "text/plain": [
       "3"
      ]
     },
     "execution_count": 97,
     "metadata": {},
     "output_type": "execute_result"
    }
   ],
   "source": [
    "f = lambda a, b: a + b\n",
    "f(1, 2)\n",
    "\n",
    "### lambda를 인자에 넣어주기도 하지만 이름을 짓지 않는 것이 usual"
   ]
  },
  {
   "cell_type": "markdown",
   "id": "60473268-d543-4a56-9b03-c2fedeef91f5",
   "metadata": {},
   "source": [
    "## 재귀함수"
   ]
  },
  {
   "cell_type": "markdown",
   "id": "367015dc-3174-45ea-b93a-0006fe74a7f3",
   "metadata": {},
   "source": [
    "- 함수 안에 자기 자신이 들어가는 함수"
   ]
  },
  {
   "cell_type": "code",
   "execution_count": 110,
   "id": "8bed140d-aea6-4aab-a2cc-7faf033f9f31",
   "metadata": {},
   "outputs": [],
   "source": [
    "import time\n",
    "def hello(count):\n",
    "    if count == 0:\n",
    "        return\n",
    "    print(\"안녕하세요\")\n",
    "    time.sleep(1)\n",
    "    count -= 1\n",
    "    hello(count)"
   ]
  },
  {
   "cell_type": "code",
   "execution_count": 111,
   "id": "26edff22-f8d1-4523-8136-a7672d8d42fb",
   "metadata": {},
   "outputs": [
    {
     "name": "stdout",
     "output_type": "stream",
     "text": [
      "안녕하세요\n",
      "안녕하세요\n",
      "안녕하세요\n",
      "안녕하세요\n",
      "안녕하세요\n"
     ]
    }
   ],
   "source": [
    "hello(5)"
   ]
  },
  {
   "cell_type": "markdown",
   "id": "6291a6cb-e92f-4409-bbb2-1dad3ca7de1a",
   "metadata": {},
   "source": [
    "# 연습문제"
   ]
  },
  {
   "cell_type": "markdown",
   "id": "0f2d55b1-c5e3-469b-add3-e7745e1e3a46",
   "metadata": {},
   "source": [
    "## Q1 \n",
    "- 주어진 자연수가 홀수인지 짝수인지 판별해주는 함수(is_odd) 만들기"
   ]
  },
  {
   "cell_type": "code",
   "execution_count": 126,
   "id": "51205ae1-233c-4002-83e2-20cc5a4b6506",
   "metadata": {},
   "outputs": [
    {
     "data": {
      "text/plain": [
       "'짝수'"
      ]
     },
     "execution_count": 126,
     "metadata": {},
     "output_type": "execute_result"
    }
   ],
   "source": [
    "def is_odd(number):\n",
    "        if number % 2 == 0:\n",
    "            return \"짝수\"\n",
    "        else:\n",
    "            return \"홀수\"\n",
    "\n",
    "is_odd(4)"
   ]
  },
  {
   "cell_type": "markdown",
   "id": "bec57eff-9898-4373-91c2-33c93ba40519",
   "metadata": {},
   "source": [
    "## Q2\n",
    "- 입력으로 들어오는 모든 수의 평균값을 계산해주는 함수 작성(입력 개수 미정)"
   ]
  },
  {
   "cell_type": "code",
   "execution_count": 127,
   "id": "1947d223-bbd0-468f-a259-21a1c876c03c",
   "metadata": {},
   "outputs": [
    {
     "name": "stdout",
     "output_type": "stream",
     "text": [
      "1.5\n",
      "3.0\n"
     ]
    }
   ],
   "source": [
    "def all_mean(*args):\n",
    "    total = 0\n",
    "    for i in args:\n",
    "        total += i\n",
    "    return total/len(args)\n",
    "\n",
    "print(all_mean(1, 2))\n",
    "print(all_mean(1, 2, 3, 4, 5))"
   ]
  },
  {
   "cell_type": "markdown",
   "id": "08548705-234d-494d-ae6c-50ce815838d6",
   "metadata": {},
   "source": [
    "## Q3\n",
    "- 두 개의 숫자를 입력받아 더하여 돌려주는 함수\n",
    "```\n",
    "첫번째 숫자를 입력하세요 : 3\n",
    "두번째 숫자를 입력하세요 : 6\n",
    "두 수의 합은 36입니다.\n",
    "```"
   ]
  },
  {
   "cell_type": "code",
   "execution_count": 132,
   "id": "92540b0e-10d1-4955-8132-448bf3540e59",
   "metadata": {},
   "outputs": [
    {
     "name": "stdin",
     "output_type": "stream",
     "text": [
      "첫번째 숫자를 입력하세요 :  3\n",
      "두번째 숫자를 입력하세요 :  6\n"
     ]
    },
    {
     "data": {
      "text/plain": [
       "'두 수의 합은 36입니다.'"
      ]
     },
     "execution_count": 132,
     "metadata": {},
     "output_type": "execute_result"
    }
   ],
   "source": [
    "a = input(\"첫번째 숫자를 입력하세요 : \")\n",
    "b = input(\"두번째 숫자를 입력하세요 : \")\n",
    "\n",
    "def add_two(a, b):\n",
    "    return f\"두 수의 합은 {a+b}입니다.\"\n",
    "    \n",
    "add_two(a,b)"
   ]
  },
  {
   "cell_type": "code",
   "execution_count": 133,
   "id": "f5d41a36-495f-4622-a4bd-c8494040d7fe",
   "metadata": {},
   "outputs": [
    {
     "name": "stdin",
     "output_type": "stream",
     "text": [
      "첫번째 숫자를 입력하세요 :  3\n",
      "두번째 숫자를 입력하세요 :  6\n"
     ]
    },
    {
     "data": {
      "text/plain": [
       "'두 수의 합은 9입니다.'"
      ]
     },
     "execution_count": 133,
     "metadata": {},
     "output_type": "execute_result"
    }
   ],
   "source": [
    "a = int(input(\"첫번째 숫자를 입력하세요 : \"))\n",
    "b = int(input(\"두번째 숫자를 입력하세요 : \"))\n",
    "\n",
    "def add_two(a, b):\n",
    "    return f\"두 수의 합은 {a+b}입니다.\"\n",
    "    \n",
    "add_two(a,b)"
   ]
  },
  {
   "cell_type": "code",
   "execution_count": 134,
   "id": "bc10a0ad-8aae-4eb1-ad8e-0241278570b7",
   "metadata": {},
   "outputs": [
    {
     "name": "stdout",
     "output_type": "stream",
     "text": [
      "youneedpython\n",
      "youneedpython\n",
      "you need python\n",
      "youneedpython\n"
     ]
    }
   ],
   "source": [
    "print(\"you\" \"need\" \"python\")\n",
    "print(\"you\" + \"need\" + \"python\")\n",
    "print(\"you\", \"need\", \"python\")\n",
    "print(\"\".join([\"you\", \"need\", \"python\"]))"
   ]
  },
  {
   "cell_type": "markdown",
   "id": "35e48d47-678c-407a-97e6-49cf46a8aeb4",
   "metadata": {},
   "source": [
    "### 문자열의 요솟값은 바꿀 수 없음(immutable)"
   ]
  },
  {
   "cell_type": "code",
   "execution_count": 135,
   "id": "6e598d48-278f-4b26-a678-203cfb3a3c19",
   "metadata": {},
   "outputs": [
    {
     "ename": "TypeError",
     "evalue": "'str' object does not support item assignment",
     "output_type": "error",
     "traceback": [
      "\u001b[1;31m---------------------------------------------------------------------------\u001b[0m",
      "\u001b[1;31mTypeError\u001b[0m                                 Traceback (most recent call last)",
      "Input \u001b[1;32mIn [135]\u001b[0m, in \u001b[0;36m<cell line: 3>\u001b[1;34m()\u001b[0m\n\u001b[0;32m      1\u001b[0m a \u001b[38;5;241m=\u001b[39m \u001b[38;5;124m'\u001b[39m\u001b[38;5;124mPithon\u001b[39m\u001b[38;5;124m'\u001b[39m\n\u001b[1;32m----> 3\u001b[0m \u001b[43ma\u001b[49m\u001b[43m[\u001b[49m\u001b[38;5;241;43m1\u001b[39;49m\u001b[43m]\u001b[49m \u001b[38;5;241m=\u001b[39m \u001b[38;5;124m'\u001b[39m\u001b[38;5;124my\u001b[39m\u001b[38;5;124m'\u001b[39m\n",
      "\u001b[1;31mTypeError\u001b[0m: 'str' object does not support item assignment"
     ]
    }
   ],
   "source": [
    "a = 'Pithon'\n",
    "\n",
    "a[1] = 'y'"
   ]
  },
  {
   "cell_type": "code",
   "execution_count": 136,
   "id": "ac176d5f-ba80-4853-8c42-d1a91f8a6946",
   "metadata": {},
   "outputs": [
    {
     "name": "stdout",
     "output_type": "stream",
     "text": [
      "Python\n"
     ]
    }
   ],
   "source": [
    "a = 'Pithon'\n",
    "\n",
    "print(a[:1] + 'y' + a[2:])"
   ]
  },
  {
   "cell_type": "code",
   "execution_count": 139,
   "id": "225cc597-513d-4090-b7db-e065d85c442f",
   "metadata": {},
   "outputs": [
    {
     "data": {
      "text/plain": [
       "(1, 2, 3, 4)"
      ]
     },
     "execution_count": 139,
     "metadata": {},
     "output_type": "execute_result"
    }
   ],
   "source": [
    "a = (1, 2, 3)\n",
    "\n",
    "a + (4, )"
   ]
  },
  {
   "cell_type": "code",
   "execution_count": 140,
   "id": "c86ec0bd-32b2-446c-bd24-030476e631ba",
   "metadata": {},
   "outputs": [
    {
     "name": "stdout",
     "output_type": "stream",
     "text": [
      "naver;kakao;sk;samsung\n"
     ]
    }
   ],
   "source": [
    "print(\"naver\", \"kakao\", \"sk\", \"samsung\", sep=';')"
   ]
  },
  {
   "cell_type": "code",
   "execution_count": 141,
   "id": "7e51cdc1-cf83-4713-b8c6-2bf7a8170bae",
   "metadata": {},
   "outputs": [
    {
     "name": "stdout",
     "output_type": "stream",
     "text": [
      "naver/kakao/sk/samsung\n"
     ]
    }
   ],
   "source": [
    "print(\"naver\", \"kakao\", \"sk\", \"samsung\", sep='/')"
   ]
  },
  {
   "cell_type": "code",
   "execution_count": 142,
   "id": "8c645022-f807-418f-a189-2261f8e3b659",
   "metadata": {},
   "outputs": [
    {
     "name": "stdout",
     "output_type": "stream",
     "text": [
      "first second\n"
     ]
    }
   ],
   "source": [
    "print(\"first\", end = \" \");print(\"second\")"
   ]
  },
  {
   "cell_type": "code",
   "execution_count": 143,
   "id": "5d6076fd-d2e7-44a6-84e3-ecb7bdc43f3a",
   "metadata": {},
   "outputs": [
    {
     "name": "stdout",
     "output_type": "stream",
     "text": [
      "hello! python\n"
     ]
    }
   ],
   "source": [
    "s = \"hello\"\n",
    "t = \"python\"\n",
    "\n",
    "print(s + '! ' + t)"
   ]
  },
  {
   "cell_type": "code",
   "execution_count": 145,
   "id": "246c4d85-7d2f-49fb-b57f-8b68a2dfedaf",
   "metadata": {},
   "outputs": [
    {
     "name": "stdout",
     "output_type": "stream",
     "text": [
      "720 <class 'int'>\n"
     ]
    }
   ],
   "source": [
    "num_str = \"720\"\n",
    "num_str = int(num_str)\n",
    "print(num_str, type(num_str))"
   ]
  },
  {
   "cell_type": "code",
   "execution_count": 148,
   "id": "7720cdfc-efd9-4776-a9e2-3a09c14ea70f",
   "metadata": {},
   "outputs": [
    {
     "name": "stdout",
     "output_type": "stream",
     "text": [
      "100 <class 'str'>\n"
     ]
    }
   ],
   "source": [
    "num = 100\n",
    "num = str(num)\n",
    "print(num, type(num))"
   ]
  },
  {
   "cell_type": "code",
   "execution_count": 149,
   "id": "515e2267-4601-46a3-949b-656221e7b627",
   "metadata": {},
   "outputs": [
    {
     "name": "stdout",
     "output_type": "stream",
     "text": [
      "15.79 <class 'float'>\n"
     ]
    }
   ],
   "source": [
    "num = '15.79'\n",
    "num = float(num)\n",
    "print(num, type(num))"
   ]
  },
  {
   "cell_type": "code",
   "execution_count": 150,
   "id": "30977e4d-50b2-457c-ba87-d8b0f9f3ae36",
   "metadata": {},
   "outputs": [
    {
     "name": "stdout",
     "output_type": "stream",
     "text": [
      "2020 2019 2018\n"
     ]
    }
   ],
   "source": [
    "year = \"2020\"\n",
    "yearn = int(year)\n",
    "print(yearn, yearn-1, yearn-2)"
   ]
  },
  {
   "cell_type": "code",
   "execution_count": 151,
   "id": "eb23539a-3583-4425-b859-b6c2cfe6efc0",
   "metadata": {},
   "outputs": [
    {
     "name": "stdout",
     "output_type": "stream",
     "text": [
      "1749024\n"
     ]
    }
   ],
   "source": [
    "m_price = 48584\n",
    "term = 36\n",
    "total_price = m_price * term\n",
    "print(total_price)"
   ]
  },
  {
   "cell_type": "code",
   "execution_count": 154,
   "id": "0d40b7af-b3f3-4bed-a8b2-66a5c1f4fb81",
   "metadata": {},
   "outputs": [
    {
     "name": "stdout",
     "output_type": "stream",
     "text": [
      "p t\n"
     ]
    }
   ],
   "source": [
    "letters = \"python\"\n",
    "print(letters[0], letters[2], sep = \" \")"
   ]
  },
  {
   "cell_type": "code",
   "execution_count": 155,
   "id": "702699d9-1f39-49ed-a595-9e607d688004",
   "metadata": {},
   "outputs": [
    {
     "name": "stdout",
     "output_type": "stream",
     "text": [
      "2210\n"
     ]
    }
   ],
   "source": [
    "license_plate = \"24가 2210\"\n",
    "print(license_plate[4:])"
   ]
  },
  {
   "cell_type": "markdown",
   "id": "3d12e7d0-e644-4763-a620-1078e6cc865f",
   "metadata": {},
   "source": [
    "- [시작인덱스:끝인덱스:오프셋]"
   ]
  },
  {
   "cell_type": "code",
   "execution_count": 157,
   "id": "2a1bc51d-931b-4690-8019-9d38c3514f6b",
   "metadata": {},
   "outputs": [
    {
     "name": "stdout",
     "output_type": "stream",
     "text": [
      "홀홀홀\n"
     ]
    }
   ],
   "source": [
    "string = \"홀짝홀짝홀짝\"\n",
    "print(string[::2])"
   ]
  },
  {
   "cell_type": "code",
   "execution_count": 159,
   "id": "5eeed925-880b-47a7-939e-9c9a6135265f",
   "metadata": {},
   "outputs": [
    {
     "data": {
      "text/plain": [
       "'NOHTYP'"
      ]
     },
     "execution_count": 159,
     "metadata": {},
     "output_type": "execute_result"
    }
   ],
   "source": [
    "string = \"PYTHON\"\n",
    "string[::-1]"
   ]
  },
  {
   "cell_type": "code",
   "execution_count": 160,
   "id": "fb088234-9933-4492-a47d-6ab3c29e027f",
   "metadata": {},
   "outputs": [
    {
     "data": {
      "text/plain": [
       "'010 1111 2222'"
      ]
     },
     "execution_count": 160,
     "metadata": {},
     "output_type": "execute_result"
    }
   ],
   "source": [
    "phone_number = \"010-1111-2222\"\n",
    "phone_number.replace('-', \" \")"
   ]
  },
  {
   "cell_type": "code",
   "execution_count": 166,
   "id": "5676c736-eb79-489a-bfee-17142877b292",
   "metadata": {},
   "outputs": [
    {
     "data": {
      "text/plain": [
       "'01011112222'"
      ]
     },
     "execution_count": 166,
     "metadata": {},
     "output_type": "execute_result"
    }
   ],
   "source": [
    "phone_number = \"010-1111-2222\"\n",
    "phone_number.replace(\"-\",\"\")"
   ]
  },
  {
   "cell_type": "code",
   "execution_count": 171,
   "id": "e5ef5513-d809-4c7a-ad2f-6cea1a413c53",
   "metadata": {},
   "outputs": [
    {
     "data": {
      "text/plain": [
       "'kr'"
      ]
     },
     "execution_count": 171,
     "metadata": {},
     "output_type": "execute_result"
    }
   ],
   "source": [
    "url = \"http://sharebook.kr\"\n",
    "url[-2:]"
   ]
  },
  {
   "cell_type": "code",
   "execution_count": 172,
   "id": "27f99c3b-0ad1-41c7-bf7c-cc49d7e53a6f",
   "metadata": {},
   "outputs": [
    {
     "ename": "TypeError",
     "evalue": "'str' object does not support item assignment",
     "output_type": "error",
     "traceback": [
      "\u001b[1;31m---------------------------------------------------------------------------\u001b[0m",
      "\u001b[1;31mTypeError\u001b[0m                                 Traceback (most recent call last)",
      "Input \u001b[1;32mIn [172]\u001b[0m, in \u001b[0;36m<cell line: 2>\u001b[1;34m()\u001b[0m\n\u001b[0;32m      1\u001b[0m lang \u001b[38;5;241m=\u001b[39m \u001b[38;5;124m\"\u001b[39m\u001b[38;5;124mpython\u001b[39m\u001b[38;5;124m\"\u001b[39m\n\u001b[1;32m----> 2\u001b[0m \u001b[43mlang\u001b[49m\u001b[43m[\u001b[49m\u001b[38;5;241;43m0\u001b[39;49m\u001b[43m]\u001b[49m \u001b[38;5;241m=\u001b[39m \u001b[38;5;124m\"\u001b[39m\u001b[38;5;124mP\u001b[39m\u001b[38;5;124m\"\u001b[39m\n\u001b[0;32m      3\u001b[0m \u001b[38;5;28mprint\u001b[39m(lang)\n",
      "\u001b[1;31mTypeError\u001b[0m: 'str' object does not support item assignment"
     ]
    }
   ],
   "source": [
    "lang = \"python\"\n",
    "lang[0] = \"P\"\n",
    "print(lang)"
   ]
  },
  {
   "cell_type": "code",
   "execution_count": 173,
   "id": "a7734017-1f1d-4b37-ab43-a3918e464c00",
   "metadata": {},
   "outputs": [
    {
     "data": {
      "text/plain": [
       "'Abcdfe2A354A32A'"
      ]
     },
     "execution_count": 173,
     "metadata": {},
     "output_type": "execute_result"
    }
   ],
   "source": [
    "string = 'abcdfe2a354a32a'\n",
    "string.replace(\"a\", \"A\")"
   ]
  },
  {
   "cell_type": "code",
   "execution_count": 174,
   "id": "9af3c5de-5e40-4408-a450-5ab1d9a6f803",
   "metadata": {},
   "outputs": [
    {
     "name": "stdout",
     "output_type": "stream",
     "text": [
      "abcd\n"
     ]
    }
   ],
   "source": [
    "string = 'abcd'\n",
    "string.replace('b', 'B')\n",
    "print(string)"
   ]
  },
  {
   "cell_type": "code",
   "execution_count": 175,
   "id": "12184be6-b095-475f-87c1-220e47f17908",
   "metadata": {},
   "outputs": [
    {
     "name": "stdin",
     "output_type": "stream",
     "text": [
      "smaller 2\n",
      "larger 9\n"
     ]
    },
    {
     "data": {
      "text/plain": [
       "44"
      ]
     },
     "execution_count": 175,
     "metadata": {},
     "output_type": "execute_result"
    }
   ],
   "source": [
    "a = int(input(\"smaller\"))\n",
    "b = int(input(\"larger\"))\n",
    "\n",
    "def add(a, b):\n",
    "    sum = 0\n",
    "    for i in range(a, b + 1):\n",
    "        sum += i\n",
    "    return sum\n",
    "\n",
    "add(a,b)"
   ]
  },
  {
   "cell_type": "code",
   "execution_count": 176,
   "id": "01532136-0187-4bc1-9646-64b153ed96e3",
   "metadata": {},
   "outputs": [
    {
     "data": {
      "text/plain": [
       "'--------------------------------------------------------------------------------'"
      ]
     },
     "execution_count": 176,
     "metadata": {},
     "output_type": "execute_result"
    }
   ],
   "source": [
    "\"-\"*80"
   ]
  },
  {
   "cell_type": "code",
   "execution_count": 180,
   "id": "ce7602e7-5687-46da-9276-d59e82a9a092",
   "metadata": {},
   "outputs": [
    {
     "name": "stdout",
     "output_type": "stream",
     "text": [
      "python java python java python java python java \n"
     ]
    }
   ],
   "source": [
    "t1 = \"python\"\n",
    "t2 = \"java\"\n",
    "\n",
    "t3 = t1 + \" \" + t2 + \" \"\n",
    "print(t3 * 4)"
   ]
  },
  {
   "cell_type": "code",
   "execution_count": 181,
   "id": "6048bb16-cc5f-45d0-b745-b950eb4fb589",
   "metadata": {},
   "outputs": [
    {
     "name": "stdout",
     "output_type": "stream",
     "text": [
      "이름 : 김민수 나이 : 10\n",
      "이름 : 이철희 나이 : 13\n"
     ]
    }
   ],
   "source": [
    "name1 = \"김민수\"\n",
    "age1 = 10\n",
    "name2 = \"이철희\"\n",
    "age2 = 13\n",
    "\n",
    "print(f\"이름 : {name1} 나이 : {age1}\")\n",
    "print(f\"이름 : {name2} 나이 : {age2}\")"
   ]
  },
  {
   "cell_type": "code",
   "execution_count": 184,
   "id": "8546a033-b825-4e87-81a5-a5778fbc596e",
   "metadata": {},
   "outputs": [
    {
     "data": {
      "text/plain": [
       "5969782550"
      ]
     },
     "execution_count": 184,
     "metadata": {},
     "output_type": "execute_result"
    }
   ],
   "source": [
    "상장주식수 = \"5,969,782,550\"\n",
    "a = 상장주식수.replace(\",\", \"\")\n",
    "b = int(a)\n",
    "b"
   ]
  },
  {
   "cell_type": "code",
   "execution_count": 185,
   "id": "e18ed6d7-7f1a-4fcc-98f4-d9038c007af0",
   "metadata": {},
   "outputs": [
    {
     "data": {
      "text/plain": [
       "'2020/03'"
      ]
     },
     "execution_count": 185,
     "metadata": {},
     "output_type": "execute_result"
    }
   ],
   "source": [
    "분기 = \"2020/03(E) (IFRS연결)\"\n",
    "분기[:7]"
   ]
  },
  {
   "cell_type": "code",
   "execution_count": 186,
   "id": "761208c9-5e82-4a64-837b-bd57a4c8d3b8",
   "metadata": {},
   "outputs": [
    {
     "data": {
      "text/plain": [
       "'삼성전자'"
      ]
     },
     "execution_count": 186,
     "metadata": {},
     "output_type": "execute_result"
    }
   ],
   "source": [
    "data = \"   삼성전자    \"\n",
    "data.strip()"
   ]
  },
  {
   "cell_type": "code",
   "execution_count": 187,
   "id": "8f320c7d-f8f0-495f-8746-ebf098d1d998",
   "metadata": {},
   "outputs": [
    {
     "data": {
      "text/plain": [
       "'BTC_KRW'"
      ]
     },
     "execution_count": 187,
     "metadata": {},
     "output_type": "execute_result"
    }
   ],
   "source": [
    "ticker = \"btc_krw\"\n",
    "ticker.upper()"
   ]
  },
  {
   "cell_type": "code",
   "execution_count": 188,
   "id": "a163df05-4d11-486e-98dd-c9781f9dea3c",
   "metadata": {},
   "outputs": [
    {
     "data": {
      "text/plain": [
       "'btc_krw'"
      ]
     },
     "execution_count": 188,
     "metadata": {},
     "output_type": "execute_result"
    }
   ],
   "source": [
    "ticker = \"BTC_KRW\"\n",
    "ticker.lower()"
   ]
  },
  {
   "cell_type": "code",
   "execution_count": 189,
   "id": "bb3af83d-9df9-410c-b7b4-2140735b8b3b",
   "metadata": {},
   "outputs": [
    {
     "data": {
      "text/plain": [
       "'Hello'"
      ]
     },
     "execution_count": 189,
     "metadata": {},
     "output_type": "execute_result"
    }
   ],
   "source": [
    "a = \"hello\"\n",
    "a.capitalize()"
   ]
  },
  {
   "cell_type": "code",
   "execution_count": 190,
   "id": "07e7ebda-d08d-4ac5-9f7d-6b9d245cb222",
   "metadata": {},
   "outputs": [
    {
     "data": {
      "text/plain": [
       "True"
      ]
     },
     "execution_count": 190,
     "metadata": {},
     "output_type": "execute_result"
    }
   ],
   "source": [
    "file_name = \"보고서.xlsx\"\n",
    "file_name.endswith(\"xlsx\")"
   ]
  },
  {
   "cell_type": "code",
   "execution_count": 192,
   "id": "c38f039b-931a-421d-8df9-50784de24699",
   "metadata": {},
   "outputs": [
    {
     "data": {
      "text/plain": [
       "True"
      ]
     },
     "execution_count": 192,
     "metadata": {},
     "output_type": "execute_result"
    }
   ],
   "source": [
    "file_name = \"2020_보고서.xlsx\"\n",
    "file_name.startswith(\"2020\")"
   ]
  },
  {
   "cell_type": "code",
   "execution_count": 194,
   "id": "8283f1f9-a956-400e-8d2e-8378d05bee25",
   "metadata": {},
   "outputs": [
    {
     "data": {
      "text/plain": [
       "['hello', 'world']"
      ]
     },
     "execution_count": 194,
     "metadata": {},
     "output_type": "execute_result"
    }
   ],
   "source": [
    "a = \"hello world\"\n",
    "a.split(\" \")"
   ]
  },
  {
   "cell_type": "code",
   "execution_count": 196,
   "id": "b8082112-4887-4694-b592-a02024d1be22",
   "metadata": {},
   "outputs": [
    {
     "data": {
      "text/plain": [
       "['2020', '05', '01']"
      ]
     },
     "execution_count": 196,
     "metadata": {},
     "output_type": "execute_result"
    }
   ],
   "source": [
    "date = \"2020-05-01\"\n",
    "date.split(\"-\")"
   ]
  },
  {
   "cell_type": "code",
   "execution_count": 199,
   "id": "c25761ac-8b08-4a3a-8ffa-e66baa0f3e30",
   "metadata": {},
   "outputs": [
    {
     "data": {
      "text/plain": [
       "'039490'"
      ]
     },
     "execution_count": 199,
     "metadata": {},
     "output_type": "execute_result"
    }
   ],
   "source": [
    "data = \"039490     \"\n",
    "data.rstrip()"
   ]
  },
  {
   "cell_type": "code",
   "execution_count": 200,
   "id": "9b420815-b436-4a82-b318-82142ad9b7f9",
   "metadata": {},
   "outputs": [],
   "source": [
    "movie_rank = ['닥터 스트레인지', '스플릿', '럭키']"
   ]
  },
  {
   "cell_type": "code",
   "execution_count": null,
   "id": "001e120c-c1cc-450a-a4e1-7b5aeea8db99",
   "metadata": {},
   "outputs": [],
   "source": []
  }
 ],
 "metadata": {
  "kernelspec": {
   "display_name": "Python 3 (ipykernel)",
   "language": "python",
   "name": "python3"
  },
  "language_info": {
   "codemirror_mode": {
    "name": "ipython",
    "version": 3
   },
   "file_extension": ".py",
   "mimetype": "text/x-python",
   "name": "python",
   "nbconvert_exporter": "python",
   "pygments_lexer": "ipython3",
   "version": "3.10.6"
  }
 },
 "nbformat": 4,
 "nbformat_minor": 5
}
